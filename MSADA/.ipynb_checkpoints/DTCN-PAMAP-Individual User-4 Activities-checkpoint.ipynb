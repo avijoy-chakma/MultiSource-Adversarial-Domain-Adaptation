{
 "cells": [
  {
   "cell_type": "code",
   "execution_count": 1,
   "metadata": {},
   "outputs": [],
   "source": [
    "import matplotlib as plt\n",
    "import pandas as pd\n",
    "import os\n",
    "import numpy as np\n",
    "import math\n",
    "import csv\n",
    "import pickle\n",
    "import math\n",
    "import matplotlib.pyplot as plt\n",
    "from mpl_toolkits.mplot3d import Axes3D\n",
    "from scipy import stats\n",
    "import seaborn as sns\n",
    "from pylab import rcParams\n",
    "import tqdm\n",
    "from sklearn import preprocessing\n",
    "from torch.utils.data import Dataset, DataLoader\n",
    "from torchvision import transforms\n",
    "import torch\n",
    "import torch.nn as nn\n",
    "import torch.optim as optim\n",
    "from sklearn.model_selection import train_test_split\n",
    "from torch.autograd import Variable\n",
    "%matplotlib inline\n",
    "import argparse\n",
    "sns.set(style='whitegrid', palette='muted', font_scale=1.5)\n",
    "rcParams['figure.figsize'] = 14, 8\n",
    "RANDOM_SEED = 42\n",
    "import torch.nn as nn\n",
    "from matplotlib.lines import Line2D   \n",
    "import time\n",
    "import DataPreprocess\n",
    "from Model import AccExtractor, AccClassifier, AccDiscriminator\n",
    "from Model import get_cls_loss, get_dis_loss, get_confusion_loss\n",
    "import logging\n",
    "import torch.nn.functional as F\n",
    "from sklearn.metrics import confusion_matrix\n",
    "from sklearn.metrics import precision_recall_fscore_support\n",
    "import itertools"
   ]
  },
  {
   "cell_type": "code",
   "execution_count": 2,
   "metadata": {},
   "outputs": [],
   "source": [
    "logging.basicConfig(filename='app.log', filemode='w', format='%(name)s - %(levelname)s - %(message)s')"
   ]
  },
  {
   "cell_type": "code",
   "execution_count": 3,
   "metadata": {},
   "outputs": [],
   "source": [
    "save_path = \"/home/avijoychakma/Downloads/DTCN-AR/Dataset Preprocessing/PAMAP/ACC-Positionwise-Normalization/Data Files-4 Activities/\"\n",
    "pth_path = \"/home/avijoychakma/Downloads/DTCN-AR/Dataset Preprocessing/PAMAP/ACC-Positionwise-Normalization/Trained-Model-4 Activities/\"\n",
    "# snapshot = \"/home/avijoychakma/Downloads/DTCN-AR/Dataset Preprocessing/PAMAP/ACC-Positionwise-Normalization/Trained-Model-7 Activities/Snapshot/\""
   ]
  },
  {
   "cell_type": "code",
   "execution_count": 4,
   "metadata": {},
   "outputs": [],
   "source": [
    "source_one = 1\n",
    "source_two = 3\n",
    "selected_Target = 2\n",
    "selected_user = 3"
   ]
  },
  {
   "cell_type": "code",
   "execution_count": 5,
   "metadata": {},
   "outputs": [],
   "source": [
    "steps = 250\n",
    "gan_epoches=2\n",
    "cls_epoches=6\n",
    "batch_size = 32\n",
    "plot_interval = 100\n",
    "EPSILON = 1e-8"
   ]
  },
  {
   "cell_type": "code",
   "execution_count": 6,
   "metadata": {},
   "outputs": [],
   "source": [
    "count = 0\n",
    "max_correct = 0\n",
    "max_step = 0\n",
    "max_epoch = 0\n",
    "gpu_id = 0\n",
    "lr=0.00001\n",
    "beta1=0.9\n",
    "beta2=0.999\n",
    "log_interval = 24\n",
    "threshold=0.9"
   ]
  },
  {
   "cell_type": "code",
   "execution_count": 7,
   "metadata": {},
   "outputs": [],
   "source": [
    "Dominant_Arm_train = []\n",
    "Torso_train = []\n",
    "Dominant_Leg_train = []\n",
    "\n",
    "Dominant_Arm_gt_train = []\n",
    "Torso_gt_train = []\n",
    "Dominant_Leg_gt_train = []"
   ]
  },
  {
   "cell_type": "code",
   "execution_count": 8,
   "metadata": {},
   "outputs": [],
   "source": [
    "Dominant_Arm_valid = []\n",
    "Torso_valid = []\n",
    "Dominant_Leg_valid = []\n",
    "\n",
    "Dominant_Arm_gt_valid = []\n",
    "Torso_gt_valid = []\n",
    "Dominant_Leg_gt_valid = []"
   ]
  },
  {
   "cell_type": "code",
   "execution_count": 9,
   "metadata": {},
   "outputs": [],
   "source": [
    "win_size=128\n",
    "overlap = 0.5\n",
    "step_size=int(win_size * overlap)\n",
    "AXIS = 3\n",
    "FROM = 0\n",
    "TO = FROM+3\n",
    "START = 4\n",
    "END = 5"
   ]
  },
  {
   "cell_type": "code",
   "execution_count": 10,
   "metadata": {},
   "outputs": [],
   "source": [
    "item = [\"train\",\"valid\"]\n",
    "user = [\"User1\",\"User2\",\"User3\",\"User4\",\"User5\",\"User6\",\"User7\",\"User8\"]\n",
    "position = ['Dominant_Arm', 'Torso', 'Dominant_Leg']"
   ]
  },
  {
   "cell_type": "markdown",
   "metadata": {},
   "source": [
    "### Change in the preprocessing file"
   ]
  },
  {
   "cell_type": "code",
   "execution_count": 11,
   "metadata": {},
   "outputs": [
    {
     "name": "stderr",
     "output_type": "stream",
     "text": [
      " 67%|██████▋   | 2/3 [00:00<00:00, 11.33it/s]"
     ]
    },
    {
     "name": "stdout",
     "output_type": "stream",
     "text": [
      "User3_Dominant_Arm_train\n",
      "User3_Dominant_Arm_valid\n",
      "User3_Torso_train\n",
      "User3_Torso_valid\n",
      "User3_Dominant_Leg_train\n"
     ]
    },
    {
     "name": "stderr",
     "output_type": "stream",
     "text": [
      "\r",
      "100%|██████████| 3/3 [00:00<00:00, 11.23it/s]"
     ]
    },
    {
     "name": "stdout",
     "output_type": "stream",
     "text": [
      "User3_Dominant_Leg_valid\n"
     ]
    },
    {
     "name": "stderr",
     "output_type": "stream",
     "text": [
      "\n"
     ]
    }
   ],
   "source": [
    "for position_index in tqdm.tqdm(range(0,3)): #'Dominant_Arm', 'Torso', 'Dominant_Leg'\n",
    "    for split_index in range(0,2):\n",
    "        file_name = user[selected_user-1] + \"_\" + position[position_index]+'_'+item[split_index]\n",
    "        \n",
    "        print(file_name)\n",
    "        df = pd.read_csv(save_path+file_name+'.csv', sep=\",\")   \n",
    "        len_df = df.shape[0]\n",
    "        narray = df.to_numpy()\n",
    "\n",
    "        for i in range(0, len_df, step_size):\n",
    "            window = narray[i:i+win_size, FROM:TO]\n",
    "            \n",
    "            if window.shape[0] != win_size:\n",
    "                continue\n",
    "            else:\n",
    "                reshaped_window = window.reshape(1,win_size,1,AXIS)\n",
    "                gt = np.bincount(narray[i:i+win_size,START:END].astype(int).ravel()).argmax()\n",
    "                \n",
    "                if position_index == 0:\n",
    "                    if split_index == 0:\n",
    "                        Dominant_Arm_train.append(reshaped_window)\n",
    "                        Dominant_Arm_gt_train.append(gt)\n",
    "                    elif split_index == 1:\n",
    "                        Dominant_Arm_valid.append(reshaped_window)\n",
    "                        Dominant_Arm_gt_valid.append(gt)\n",
    "                elif position_index == 1:\n",
    "                    if split_index == 0:\n",
    "                        Torso_train.append(reshaped_window)\n",
    "                        Torso_gt_train.append(gt)\n",
    "                    elif split_index == 1:\n",
    "                        Torso_valid.append(reshaped_window)\n",
    "                        Torso_gt_valid.append(gt)\n",
    "                elif position_index == 2:\n",
    "                    if split_index == 0:\n",
    "                        Dominant_Leg_train.append(reshaped_window)\n",
    "                        Dominant_Leg_gt_train.append(gt)\n",
    "                    elif split_index == 1:\n",
    "                        Dominant_Leg_valid.append(reshaped_window)\n",
    "                        Dominant_Leg_gt_valid.append(gt)"
   ]
  },
  {
   "cell_type": "code",
   "execution_count": 13,
   "metadata": {},
   "outputs": [],
   "source": [
    "def print_model_parameters(classifier_A, classifier_B = 'none'):\n",
    "    for name, param in classifier_A.named_parameters():\n",
    "        logging.warning(\"Name: {}\".format(name))\n",
    "        logging.warning(\"Param: {}\".format(param.dtype))\n",
    "\n",
    "    if not (classifier_B is None):\n",
    "        for name in classifier_B.named_parameters():\n",
    "            logging.warning(\"Name: {}\".format(name))\n",
    "            logging.warning(\"Param: {}\".format(param.dtype))\n",
    "            \n",
    "def similarity_between_model_layers(model_A, model_B):        \n",
    "    model_A_param_list= []\n",
    "    model_A_param_layers_no = len(list(model_A.parameters()))\n",
    "    for x in range(model_A_param_layers_no):\n",
    "        a = list(model_A.parameters())[x].clone()\n",
    "        model_A_param_list.append(a)\n",
    "\n",
    "    model_B_param_list= []\n",
    "    model_B_param_layers_no = len(list(model_B.parameters()))\n",
    "    for x in range(model_B_param_layers_no):\n",
    "        a = list(model_B.parameters())[x].clone()\n",
    "        model_B_param_list.append(a) \n",
    "\n",
    "    for x in range(model_B_param_layers_no):\n",
    "        logging.warning(\"Classifier A and Classifier B have Same Parameter in Layer {}:{}\".format(x,torch.equal(model_A_param_list[x].data,model_B_param_list[x].data)))\n",
    "        \n",
    "def update_checking_between_model():\n",
    "    # Needs to modify the function - \"similarity_between_model_layers\"\n",
    "    for x in range(10):\n",
    "        b = list(extractor.parameters())[x].clone()\n",
    "        logging.warning(\"Adversarial Iteration: {}, At Extractor Layer: {}, Same Parameter:{}\".format(gan_epoch,x,torch.equal(param_list[x].data, b.data)))\n",
    "\n",
    "    for x in range(A_param_layers_no):\n",
    "        b = list(discriminator_A.parameters())[x].clone()\n",
    "        logging.warning(\"Adversarial Iteration: {}, At Discriminator-A Layer: {}, Same Parameter:{}\".format(gan_epoch,x,torch.equal(discrim_A_param_list[x].data, b.data)))\n",
    "\n",
    "    for x in range(B_param_layers_no):\n",
    "        b = list(discriminator_B.parameters())[x].clone()\n",
    "        logging.warning(\"Adversarial Iteration: {}, At Discriminator-B Layer: {}, Same Parameter:{}\".format(gan_epoch,x,torch.equal(discrim_B_param_list[x].data, b.data)))\n",
    "\n",
    "        \n",
    "def ones_target(size):\n",
    "    '''\n",
    "    Tensor containing ones, with shape = size\n",
    "    '''\n",
    "    data = Variable(torch.ones(size, 1)).cuda(gpu_id)\n",
    "    return data\n",
    "\n",
    "\n",
    "def zeros_target(size):\n",
    "    '''\n",
    "    Tensor containing zeros, with shape = size\n",
    "    \n",
    "    \n",
    "    '''\n",
    "    data = Variable(torch.zeros(size, 1)).cuda(gpu_id)\n",
    "    return data\n",
    "\n",
    "def BCELossCalculation(source, source_no):\n",
    "    length = len(source)\n",
    "    t_length= len(target)\n",
    "\n",
    "    logging.warning(\"S1 length: %d, Target length: %d\",length, t_length)\n",
    "    \n",
    "    if source_no == 1:\n",
    "        s1_error_fake = loss(s1_source, ones_target(length))\n",
    "        s1_error_real = loss(s1_target, zeros_target(t_length))\n",
    "        s1_t_dis_loss = s1_error_fake + s1_error_real\n",
    "        logging.warning(\"S1 Disc loss: %s\", s1_t_dis_loss.data)\n",
    "        return s1_t_dis_loss\n",
    "    else:\n",
    "        s2_error_fake = loss(s2_source, ones_target(length))\n",
    "        s2_error_real = loss(s2_target, zeros_target(t_length))\n",
    "        s2_t_dis_loss = s2_error_fake + s2_error_real\n",
    "        logging.warning(\"S2 Disc Loss: %s\", s2_t_dis_loss.data)\n",
    "        return s2_t_dis_loss\n",
    "\n",
    "def check_a_sample(sample, sample_target):\n",
    "    predicted_label = F.log_softmax(sample[0], dim = 0)\n",
    "    logging.warning(\"Item list: %s\",sample[0])\n",
    "    logging.warning(\"Predicted: %s\", predicted_label)\n",
    "\n",
    "    logging.warning(\"Sum: %.12f\", sum(predicted_label))\n",
    "    logging.warning(\"Max: %.12f\", max(predicted_label))\n",
    "\n",
    "    logging.warning(\"Target: %s\", sample_target[0])\n",
    "\n",
    "\n",
    "def plot_grad_flow(named_parameters, step, gan_epoch, batch):\n",
    "    #             if (i+1) % plot_interval == 0:\n",
    "#                 plot_grad_flow(discriminator_A.named_parameters(), step, gan_epoch, batch_size)\n",
    "\n",
    "    '''Plots the gradients flowing through different layers in the net during training.\n",
    "    Can be used for checking for possible gradient vanishing / exploding problems.\n",
    "    \n",
    "    Usage: Plug this function in Trainer class after loss.backwards() as \n",
    "    \"plot_grad_flow(self.model.named_parameters())\" to visualize the gradient flow'''\n",
    "\n",
    "    ave_grads = []\n",
    "    max_grads= []\n",
    "    layers = []\n",
    "    for n, p in named_parameters:\n",
    "        if(p.requires_grad) and (\"bias\" not in n):\n",
    "            layers.append(n)\n",
    "            ave_grads.append(p.grad.abs().mean())\n",
    "            max_grads.append(p.grad.abs().max())\n",
    "            \n",
    "    plt.figure()\n",
    "    plt.bar(np.arange(len(max_grads)), max_grads, alpha=0.5, lw=1, color=\"c\")\n",
    "    plt.bar(np.arange(len(max_grads)), ave_grads, alpha=0.5, lw=1, color=\"b\")\n",
    "    plt.hlines(0, 0, len(ave_grads)+1, lw=2, color=\"k\" )\n",
    "    plt.xticks(range(0,len(ave_grads), 1), layers, rotation=\"vertical\")\n",
    "    plt.xlim(left=0, right=len(ave_grads))\n",
    "    plt.ylim(bottom = -0.001, top=0.08) # zoom in on the lower gradient regions\n",
    "    plt.xlabel(\"Layers\")\n",
    "    plt.ylabel(\"average gradient\")\n",
    "    string = \"At Step \"+str(step)+\", Gan epoch: \"+str(gan_epoch)+ \", batch: \"+str(batch)\n",
    "    plt.title(\"Gradient flow\"+string)\n",
    "    plt.grid(True)\n",
    "    plt.legend([Line2D([0], [0], color=\"c\", lw=4),\n",
    "                Line2D([0], [0], color=\"b\", lw=4),\n",
    "                Line2D([0], [0], color=\"k\", lw=4)], ['max-gradient', 'mean-gradient', 'zero-gradient'])\n",
    "    \n",
    "def dataset_labelling():\n",
    "    print(\"Sitting = 0\")\n",
    "    print(\"Standing = 1\")\n",
    "    print(\"Lying = 2\")\n",
    "    print(\"Walking = 3\")\n",
    "    print(\"Running = 4\")\n",
    "    print(\"Ascending up = 5\")\n",
    "    print(\"Descending Down = 6\")\n",
    "    \n",
    "def plot_activity(activity, df, position, i=1000):\n",
    "    data = df[df['Activity'] == activity][['AccX', 'AccY','AccZ', 'GyrX', 'GyrY', 'GyrZ', 'MagX', 'MagY','MagZ']][:i]\n",
    "    title_name = \"\"\n",
    "    if position == 0:\n",
    "        title_name = \"Torso\"\n",
    "    elif position == 1:\n",
    "        title_name = \"Right Arm\"\n",
    "    elif position == 2:\n",
    "        title_name = \"Left Arm\"\n",
    "    elif position == 3:\n",
    "        title_name = \"Right Leg\"\n",
    "    elif position == 4:\n",
    "        title_name = \"Left Leg\"\n",
    "        \n",
    "    axis = data.plot(subplots=True, figsize=(16, 12), title=title_name)\n",
    "    for ax in axis:\n",
    "        ax.legend(loc='lower left', bbox_to_anchor=(1.0, 0.5))\n",
    "        \n",
    "def plot_datasets(df, activity_id, pos, i=500):\n",
    "    plot_activity(activity_id, df, pos, i)\n",
    "    \n",
    "def training_plot(x_value, y_value):\n",
    "    plt.figure()\n",
    "    plt.plot(np.asarray(x_value), np.asarray(y_value), color='blue', label='Accuracy')\n",
    "    plt.legend()\n",
    "    plt.xlabel('Epoch', fontsize=14)\n",
    "    plt.ylabel('Accuracy (%)', fontsize=14)\n",
    "    \n",
    "    result = np.where(y_value == np.amax(y_value))\n",
    "    plt.title('Max Accuracy:'+str(np.max(np.asarray(y_value))) + 'at '+ str(result[0]), fontsize=20)\n",
    "    \n",
    "def plot_data_distribution(s1, s2, target, activity_list):\n",
    "\n",
    "    n_groups = len(activity_list)\n",
    "\n",
    "    # create plot\n",
    "    #fig, ax = plt.subplots()\n",
    "    plt.figure(figsize=(12,8))\n",
    "    index = np.arange(n_groups)\n",
    "    bar_width = 0.25\n",
    "    opacity = 0.8\n",
    "\n",
    "    rects1 = plt.bar(index, s1, bar_width, alpha=opacity, color='b', label='Source1')\n",
    "    rects2 = plt.bar(index + bar_width, s2, bar_width, alpha=opacity, color='g', label='Source2')\n",
    "    rects3 = plt.bar(index + 2*bar_width, target, bar_width, alpha=opacity, color='m',label='Target')\n",
    "\n",
    "    plt.xlabel('Activity')\n",
    "    plt.ylabel('Window Number')\n",
    "    plt.title('Window Distribution')\n",
    "    plt.xticks(index + bar_width, activity_list, rotation = 45)\n",
    "    plt.legend()\n",
    "\n",
    "    plt.tight_layout()\n",
    "    plt.show()\n",
    "    \n",
    "#     Citiation: http://scikit-learn.org/stable/auto_examples/model_selection/plot_confusion_matrix.html\n",
    "import numpy as np\n",
    "   \n",
    "def plot_confusion_matrix(cm,target_names,cmap=None,normalize=True,title='Confusion matrix'):\n",
    "\n",
    "\n",
    "    accuracy = np.trace(cm) / float(np.sum(cm))\n",
    "    misclass = 1 - accuracy\n",
    "\n",
    "    if cmap is None:\n",
    "        cmap = plt.get_cmap('Blues')\n",
    "\n",
    "    plt.figure(figsize=(20,20))\n",
    "    plt.imshow(cm, interpolation='nearest', cmap=cmap)\n",
    "    plt.title(title)\n",
    "    plt.colorbar()\n",
    "\n",
    "    if target_names is not None:\n",
    "        tick_marks = np.arange(len(target_names))\n",
    "        plt.xticks(tick_marks, target_names, rotation=70)\n",
    "        plt.yticks(tick_marks, target_names)\n",
    "\n",
    "    if normalize:\n",
    "        cm = cm.astype('float') / cm.sum(axis=1)[:, np.newaxis]\n",
    "\n",
    "    thresh = cm.max() / 1.5 if normalize else cm.max() / 2\n",
    "    \n",
    "    print(thresh)\n",
    "    for i, j in itertools.product(range(cm.shape[0]), range(cm.shape[1])):\n",
    "        if normalize:\n",
    "            plt.text(j, i, \"{:0.4f}\".format(cm[i, j]),\n",
    "                     horizontalalignment=\"center\",\n",
    "                     color=\"white\" if cm[i, j] > thresh else \"black\")\n",
    "        else:\n",
    "            plt.text(j, i, \"{:,}\".format(cm[i, j]),\n",
    "                     horizontalalignment=\"center\",\n",
    "                     verticalalignment=\"center\",\n",
    "                     color=\"white\" if cm[i, j] > thresh else \"black\")\n",
    "\n",
    "\n",
    "    plt.tight_layout()\n",
    "    plt.ylabel('True label')\n",
    "    plt.xlabel('Predicted label\\naccuracy={:0.2f}; misclass={:0.2f}'.format(accuracy*100, misclass*100))\n",
    "    plt.show()"
   ]
  },
  {
   "cell_type": "markdown",
   "metadata": {},
   "source": [
    "## Prepare the data loaders\n",
    "    - Datasets are converted into arrays"
   ]
  },
  {
   "cell_type": "code",
   "execution_count": 14,
   "metadata": {},
   "outputs": [],
   "source": [
    "if source_one == 1:\n",
    "    S1 = np.concatenate( Dominant_Arm_train, axis=0 )\n",
    "    S1_GT = np.array(Dominant_Arm_gt_train  )\n",
    "    S1_Test = np.concatenate( Dominant_Arm_valid, axis=0 )\n",
    "    S1_Test_GT = np.array(Dominant_Arm_gt_valid  )\n",
    "elif source_one == 2:\n",
    "    S1 = np.concatenate( Torso_train, axis=0 )\n",
    "    S1_GT = np.array(Torso_gt_train  )\n",
    "    S1_Test = np.concatenate(Torso_valid, axis=0)\n",
    "    S1_Test_GT = np.array(Torso_gt_valid)\n",
    "elif source_one == 3:\n",
    "    S1 = np.concatenate( Dominant_Leg_train, axis=0 )\n",
    "    S1_GT = np.array(Dominant_Leg_gt_train  )\n",
    "    S1_Test = np.concatenate( Dominant_Leg_valid, axis=0 )\n",
    "    S1_Test_GT = np.array(Dominant_Leg_gt_valid  )"
   ]
  },
  {
   "cell_type": "code",
   "execution_count": 15,
   "metadata": {},
   "outputs": [],
   "source": [
    "if source_two == 1:\n",
    "    S2 = np.concatenate( Dominant_Arm_train, axis=0 )\n",
    "    S2_GT = np.array(Dominant_Arm_gt_train  )\n",
    "    S2_Test = np.concatenate( Dominant_Arm_valid, axis=0 )\n",
    "    S2_Test_GT = np.array(Dominant_Arm_gt_valid  )\n",
    "elif source_two == 2:\n",
    "    S2 = np.concatenate( Torso_train, axis=0 )\n",
    "    S2_GT = np.array(Torso_gt_train  )\n",
    "    S2_Test = np.concatenate(Torso_valid, axis=0)\n",
    "    S2_Test_GT = np.array(Torso_gt_valid)\n",
    "elif source_two == 3:\n",
    "    S2 = np.concatenate( Dominant_Leg_train, axis=0 )\n",
    "    S2_GT = np.array(Dominant_Leg_gt_train  )\n",
    "    S2_Test = np.concatenate( Dominant_Leg_valid, axis=0 )\n",
    "    S2_Test_GT = np.array(Dominant_Leg_gt_valid  )"
   ]
  },
  {
   "cell_type": "code",
   "execution_count": 16,
   "metadata": {},
   "outputs": [],
   "source": [
    "if selected_Target == 1:\n",
    "    Target = np.concatenate( Dominant_Arm_train, axis=0 )\n",
    "    Target_GT = np.array(Dominant_Arm_gt_train)\n",
    "elif selected_Target == 2:\n",
    "    Target = np.concatenate(Torso_train, axis=0)\n",
    "    Target_GT = np.array(Torso_gt_train)\n",
    "elif selected_Target == 3:\n",
    "    Target = np.concatenate( Dominant_Leg_train, axis=0 )\n",
    "    Target_GT = np.array(Dominant_Leg_gt_train  )"
   ]
  },
  {
   "cell_type": "code",
   "execution_count": 17,
   "metadata": {},
   "outputs": [
    {
     "data": {
      "text/plain": [
       "array([0, 1, 2, 3])"
      ]
     },
     "execution_count": 17,
     "metadata": {},
     "output_type": "execute_result"
    }
   ],
   "source": [
    "np.unique(S1_GT)"
   ]
  },
  {
   "cell_type": "code",
   "execution_count": 18,
   "metadata": {},
   "outputs": [
    {
     "data": {
      "text/plain": [
       "array([0, 1, 2, 3])"
      ]
     },
     "execution_count": 18,
     "metadata": {},
     "output_type": "execute_result"
    }
   ],
   "source": [
    "np.unique(S2_GT)"
   ]
  },
  {
   "cell_type": "code",
   "execution_count": 19,
   "metadata": {},
   "outputs": [
    {
     "data": {
      "text/plain": [
       "array([0, 1, 2, 3])"
      ]
     },
     "execution_count": 19,
     "metadata": {},
     "output_type": "execute_result"
    }
   ],
   "source": [
    "np.unique(Target_GT)"
   ]
  },
  {
   "cell_type": "code",
   "execution_count": 20,
   "metadata": {},
   "outputs": [],
   "source": [
    "Total_Target_Sample = len(Target_GT)"
   ]
  },
  {
   "cell_type": "code",
   "execution_count": 21,
   "metadata": {
    "scrolled": true
   },
   "outputs": [
    {
     "data": {
      "text/plain": [
       "4"
      ]
     },
     "execution_count": 21,
     "metadata": {},
     "output_type": "execute_result"
    }
   ],
   "source": [
    "output_gt_number = len(np.unique(S1_GT))\n",
    "output_gt_number"
   ]
  },
  {
   "cell_type": "code",
   "execution_count": 22,
   "metadata": {},
   "outputs": [],
   "source": [
    "source1_Ground_Truth = DataPreprocess.onehot_to_label(np.eye(output_gt_number)[S1_GT])\n",
    "source2_Ground_Truth = DataPreprocess.onehot_to_label(np.eye(output_gt_number)[S2_GT])\n",
    "target_Ground_Truth = DataPreprocess.onehot_to_label(np.eye(output_gt_number)[Target_GT])"
   ]
  },
  {
   "cell_type": "markdown",
   "metadata": {},
   "source": [
    "### Data Distribution Visualization"
   ]
  },
  {
   "cell_type": "code",
   "execution_count": 23,
   "metadata": {},
   "outputs": [],
   "source": [
    "unique, counts = np.unique(Target_GT, return_counts=True)\n",
    "target_dict = dict(zip(unique, counts))\n",
    "target_samples = np.fromiter(target_dict.values(), dtype=float).astype(int)"
   ]
  },
  {
   "cell_type": "code",
   "execution_count": 24,
   "metadata": {},
   "outputs": [],
   "source": [
    "unique, counts = np.unique(S1_GT, return_counts=True)\n",
    "s1_dict = dict(zip(unique, counts))\n",
    "s1_samples = np.fromiter(s1_dict.values(), dtype=float).astype(int)"
   ]
  },
  {
   "cell_type": "code",
   "execution_count": 25,
   "metadata": {},
   "outputs": [],
   "source": [
    "unique, counts = np.unique(S2_GT, return_counts=True)\n",
    "s2_dict = dict(zip(unique, counts))\n",
    "s2_samples = np.fromiter(s2_dict.values(), dtype=float).astype(int)"
   ]
  },
  {
   "cell_type": "code",
   "execution_count": 26,
   "metadata": {},
   "outputs": [],
   "source": [
    "activities = ['Sitting', 'Standing', 'Lying', 'Walking']"
   ]
  },
  {
   "cell_type": "code",
   "execution_count": 27,
   "metadata": {},
   "outputs": [
    {
     "data": {
      "image/png": "[encoded data removed]",
      "text/plain": [
       "<Figure size 864x576 with 1 Axes>"
      ]
     },
     "metadata": {
      "needs_background": "light"
     },
     "output_type": "display_data"
    }
   ],
   "source": [
    "plot_data_distribution(s1_samples, s2_samples, target_samples, activities)"
   ]
  },
  {
   "cell_type": "markdown",
   "metadata": {},
   "source": [
    "## Load the pretrained networks"
   ]
  },
  {
   "cell_type": "code",
   "execution_count": null,
   "metadata": {},
   "outputs": [],
   "source": [
    "DEVICE = torch.device('cuda:0' if torch.cuda.is_available() else 'cpu')"
   ]
  },
  {
   "cell_type": "code",
   "execution_count": null,
   "metadata": {},
   "outputs": [],
   "source": [
    "source1_set =S1.astype(np.float32)\n",
    "source1_Ground_Truth =source1_Ground_Truth.astype(np.float32)\n",
    "source2_set =S2.astype(np.float32)\n",
    "source2_Ground_Truth =source2_Ground_Truth.astype(np.float32)\n",
    "target_set =Target.astype(np.float32)\n",
    "target_Ground_Truth =target_Ground_Truth.astype(np.float32)"
   ]
  },
  {
   "cell_type": "code",
   "execution_count": null,
   "metadata": {},
   "outputs": [],
   "source": [
    "source1_loader = DataPreprocess.load(source1_set, source1_Ground_Truth)\n",
    "source2_loader = DataPreprocess.load(source2_set, source2_Ground_Truth)\n",
    "target_loader = DataPreprocess.load(target_set, target_Ground_Truth)"
   ]
  },
  {
   "cell_type": "code",
   "execution_count": null,
   "metadata": {},
   "outputs": [],
   "source": [
    "extractor = AccExtractor().to(DEVICE)\n",
    "classifier_A = AccClassifier(output_gt_number).to(DEVICE)\n",
    "classifier_B = AccClassifier(output_gt_number).to(DEVICE)\n",
    "\n",
    "discriminator_A = AccDiscriminator().to(DEVICE)\n",
    "discriminator_B = AccDiscriminator().to(DEVICE)\n",
    "\n",
    "extractor.load_state_dict(torch.load(pth_path + \"extractor.pth\"))\n",
    "classifier_A.load_state_dict(torch.load(pth_path + \"classifierA.pth\"))\n",
    "classifier_B.load_state_dict(torch.load(pth_path + \"classifierB.pth\"))"
   ]
  },
  {
   "cell_type": "code",
   "execution_count": null,
   "metadata": {},
   "outputs": [],
   "source": [
    "optim_extract = optim.Adam(extractor.parameters(), lr=lr, betas=(beta1, beta2))\n",
    "optim_s1_t_dis = optim.Adam(discriminator_A.parameters(), lr=lr, betas=(beta1, beta2))\n",
    "optim_s2_t_dis = optim.Adam(discriminator_B.parameters(), lr=lr, betas=(beta1, beta2))\n",
    "optim_s1_cls = optim.Adam(classifier_A.parameters(), lr=lr, betas=(beta1, beta2))\n",
    "optim_s2_cls = optim.Adam(classifier_B.parameters(), lr=lr, betas=(beta1, beta2))"
   ]
  },
  {
   "cell_type": "code",
   "execution_count": null,
   "metadata": {
    "scrolled": true
   },
   "outputs": [],
   "source": [
    "start_time = time.time()\n",
    "loss = nn.BCELoss()\n",
    "criterion = nn.CrossEntropyLoss()\n",
    "calculate_softmax = nn.Softmax()\n",
    "\n",
    "x_value = []\n",
    "y_value = []\n",
    "\n",
    "for step in tqdm.tqdm(range(steps)):\n",
    "\n",
    "    print(\"Step: {} #### Part1: Multi-way Adversarial Adaptation\".format(step))\n",
    "\n",
    "    # Features fed into the classifiers and domain discriminators. # C fixed, F and D are updated\n",
    "    extractor.train()\n",
    "    discriminator_A.train()\n",
    "    discriminator_B.train()\n",
    "    classifier_A.eval()\n",
    "    classifier_B.eval()  \n",
    "\n",
    "    # For two sources, two weighted losses\n",
    "    s1_weight_loss = 0\n",
    "    s2_weight_loss = 0\n",
    "    alpha_S1 = 0\n",
    "    alpha_S2 = 0\n",
    "    \n",
    "    # GAN-Epoch corresponds to beta in Algo-2, line-4\n",
    "    for gan_epoch in range(gan_epoches):\n",
    "\n",
    "        # [Online Hard Domain Batch Mining]\n",
    "        s1_loader, s2_loader, t_loader = iter(source1_loader), iter(source2_loader), iter(target_loader)\n",
    "        for i, (t_sample, t_labels) in tqdm.tqdm(enumerate(t_loader)):\n",
    "            try:\n",
    "                s1_sample, s1_labels = s1_loader.next()\n",
    "            except StopIteration:\n",
    "                s1_loader = iter(source1_loader)\n",
    "                s1_sample, s1_labels = s1_loader.next()\n",
    "            try:\n",
    "                s2_sample, s2_labels = s2_loader.next()\n",
    "            except StopIteration:\n",
    "                s2_loader = iter(source2_loader)\n",
    "                s2_sample, s2_labels = s2_loader.next()\n",
    "\n",
    "            s1_sample, s1_labels = Variable(s1_sample.cuda(gpu_id)), Variable(s1_labels.cuda(gpu_id))\n",
    "            s2_sample, s2_labels = Variable(s2_sample.cuda(gpu_id)), Variable(s2_labels.cuda(gpu_id))\n",
    "            t_sample = Variable(t_sample.cuda(gpu_id))\n",
    "            \n",
    "            extractor.zero_grad()\n",
    "\n",
    "            s1_feature = extractor(s1_sample)\n",
    "            s2_feature = extractor(s2_sample)\n",
    "            t_feature = extractor(t_sample)\n",
    "            \n",
    "            # Classification loss. Second part of the Equation-4\n",
    "            s1_cls = classifier_A(s1_feature)\n",
    "            s2_cls = classifier_B(s2_feature)      \n",
    "            \n",
    "            s1_labels = s1_labels.long()\n",
    "            s2_labels = s2_labels.long()\n",
    "            \n",
    "            s1_cls_loss = get_cls_loss(s1_cls, s1_labels)\n",
    "            s2_cls_loss = get_cls_loss(s2_cls, s2_labels)\n",
    "\n",
    "            # For discriminator1 loss calculation\n",
    "            s1_source = discriminator_A(s1_feature)+ EPSILON\n",
    "            s1_target = discriminator_A(t_feature)+ EPSILON\n",
    "            \n",
    "            # For discriminator2 loss calculation\n",
    "            s2_source = discriminator_B(s2_feature) + EPSILON\n",
    "            s2_target = discriminator_B(t_feature) + EPSILON\n",
    "            \n",
    "            # Calculate discripency losses\n",
    "            s1_t_dis_loss = get_dis_loss(s1_source, s1_target)\n",
    "            s2_t_dis_loss = get_dis_loss(s2_source, s2_target)\n",
    "            \n",
    "\n",
    "            # Calculate Confusion loss\n",
    "            s1_ori_log = torch.log(s1_source)\n",
    "            s1_sub_log = torch.log(1-s1_source)\n",
    "            s1_ori_log_mean = torch.mean(s1_ori_log) \n",
    "            s1_sub_log_mean = torch.mean(s1_sub_log)\n",
    "            s1_s_conf_loss = s1_ori_log_mean + s1_sub_log_mean\n",
    "            \n",
    "            s2_ori_log = torch.log(s2_source)\n",
    "            s2_sub_log = torch.log(1-s2_source)\n",
    "            s2_ori_log_mean = torch.mean(s2_ori_log)\n",
    "            s2_sub_log_mean = torch.mean(s2_sub_log)\n",
    "            s2_s_conf_loss = s2_ori_log_mean + s2_sub_log_mean\n",
    "            \n",
    "            s1_tar_ori_log = torch.log(s1_target)\n",
    "            s1_tar_sub_log = torch.log(1-s1_target)\n",
    "            s1_tar_ori_log_mean = torch.mean(s1_tar_ori_log)\n",
    "            s1_tar_sub_log_mean = torch.mean(s1_tar_sub_log)\n",
    "            s1_tar_conf_loss = s1_tar_ori_log_mean + s1_tar_sub_log_mean\n",
    "            \n",
    "            s2_tar_ori_log = torch.log(s2_target)\n",
    "            s2_tar_sub_log = torch.log(1-s2_target)\n",
    "            s2_tar_ori_log_mean = torch.mean(s2_tar_ori_log)\n",
    "            s2_tar_sub_log_mean = torch.mean(s2_tar_sub_log)\n",
    "            s2_tar_conf_loss = s2_tar_ori_log_mean + s2_tar_sub_log_mean\n",
    "        \n",
    "            # Perplexity Score\n",
    "            s1_weight_loss += -s1_tar_sub_log_mean.data\n",
    "            s2_weight_loss += -s2_tar_sub_log_mean.data\n",
    "            \n",
    "            alpha_S1 +=  (alpha_S1 * i*gan_epoch  + torch.mean(s1_source) )/(i*gan_epoch+1)\n",
    "            alpha_S2 +=  (alpha_S2 * i*gan_epoch  + torch.mean(s2_source) )/(i*gan_epoch+1)\n",
    "            \n",
    "            s1_t_confusion_loss = -(0.5 * s1_s_conf_loss + 0.5 * s1_tar_conf_loss)\n",
    "            s2_t_confusion_loss = -(0.5 * s2_s_conf_loss + 0.5 * s2_tar_conf_loss)\n",
    "            \n",
    "            if s1_t_dis_loss.data >= s2_t_dis_loss.data:\n",
    "                SELECTIVE_SOURCE = \"S1\"\n",
    "                torch.autograd.backward([s1_cls_loss, s2_cls_loss, s1_t_confusion_loss])\n",
    "            else:\n",
    "                SELECTIVE_SOURCE = \"S2\"\n",
    "                torch.autograd.backward([s1_cls_loss, s2_cls_loss, s2_t_confusion_loss])\n",
    "                \n",
    "                \n",
    "            optim_extract.step()\n",
    "            discriminator_A.zero_grad()\n",
    "            discriminator_B.zero_grad()\n",
    "\n",
    "            # Detach features so that it does not update the feature extractor.\n",
    "            # Only update the discriminators\n",
    "            s1_source = discriminator_A(s1_feature.detach())\n",
    "            s1_target = discriminator_A(t_feature.detach())\n",
    "            s2_source = discriminator_B(s2_feature.detach())\n",
    "            s2_target = discriminator_B(t_feature.detach())\n",
    "\n",
    "            # Update D\n",
    "            s1_t_dis_loss = get_dis_loss(s1_source, s1_target)\n",
    "            s2_t_dis_loss = get_dis_loss(s2_source, s2_target)\n",
    "            torch.autograd.backward([s1_t_dis_loss, s2_t_dis_loss])\n",
    "\n",
    "            optim_s1_t_dis.step()\n",
    "            optim_s2_t_dis.step()\n",
    "\n",
    "            if (i+1) % log_interval == 0:\n",
    "                logging.warning('Step: %d, Gan epoch: %d, C1: %.2f, C2: %.2f, Dis1: %.2f, Dis2: %.2f, S1: %.2f, S2: %.2f, Selected: %s', \\\n",
    "                                step, gan_epoch, s1_cls_loss.data, s2_cls_loss.data, s1_t_dis_loss.data, \\\n",
    "                                s2_t_dis_loss.data, s1_t_confusion_loss.data, s2_t_confusion_loss.data, \\\n",
    "                                SELECTIVE_SOURCE)   \n",
    "   \n",
    "\n",
    "    # Both Classifier loss.\n",
    "#     s1_weight_loss += alpha_S1\n",
    "#     s2_weight_loss += alpha_S2\n",
    "    \n",
    "    s1_weight = s1_weight_loss / (s1_weight_loss + s2_weight_loss)\n",
    "    s2_weight = s2_weight_loss / (s1_weight_loss + s2_weight_loss)\n",
    "\n",
    "    s1_weight = s1_weight.cpu().data.numpy()\n",
    "    s2_weight = s2_weight.cpu().data.numpy()\n",
    "    \n",
    "    print(\"Step: {} #### Part2: Pseudo-label generation\".format(step))\n",
    "    extractor.eval()\n",
    "    classifier_A.eval()\n",
    "    classifier_B.eval()\n",
    "\n",
    "    pseudo_target_data = []\n",
    "    pseudo_target_label = []\n",
    "\n",
    "    \n",
    "\n",
    "    # Annotate from the target test dataset\n",
    "    for i, (t_sample, t_labels) in tqdm.tqdm(enumerate(target_loader)):\n",
    "        \n",
    "        pseudo_predicted = []\n",
    "        pseudo_original = []\n",
    "    \n",
    "        t_sample = Variable(t_sample.cuda(gpu_id))\n",
    "        t_feature = extractor(t_sample)\n",
    "\n",
    "        s1_cls = classifier_A(t_feature)\n",
    "        s2_cls = classifier_B(t_feature)\n",
    "\n",
    "        s1_cls = calculate_softmax(s1_cls)\n",
    "        s2_cls = calculate_softmax(s2_cls)\n",
    "        \n",
    "        s1_cls = s1_cls.data.cpu().numpy()\n",
    "        s2_cls = s2_cls.data.cpu().numpy()\n",
    "        \n",
    "        t_pred = s1_cls * s1_weight + s2_cls * s2_weight       \n",
    "        ids = t_pred.argmax(axis=1)\n",
    "        # ArgMax returns the indices of the max item\n",
    "        \n",
    "        \n",
    "        target_label = t_labels.data.cpu().numpy().astype(int)\n",
    "        \n",
    "        for j in range(ids.shape[0]):\n",
    "            if t_pred[j, ids[j]] >= threshold:\n",
    "                # Return input size: 9x1x128. Add an extra dimension at the beginning using np.newaxis\n",
    "                sample = t_sample[np.newaxis,j,:,:,:]\n",
    "                \n",
    "                pseudo_target_data.append(sample.cpu().numpy())\n",
    "                pseudo_target_label.append(ids[j])\n",
    "            \n",
    "                pseudo_predicted.append(ids[j])\n",
    "                pseudo_original.append(target_label[j])\n",
    "\n",
    "#     try:\n",
    "    print(\"Step: {} #### Part3:Train F and C using Pseudo-label\".format(step))\n",
    "\n",
    "    pseudo_target_data = np.concatenate( pseudo_target_data, axis=0 )\n",
    "    pseudo_target_label = np.array( pseudo_target_label )\n",
    "    logging.warning(\"Pseudo dataset shape: %s\", pseudo_target_data.shape)\n",
    "    logging.warning(\"Pseudo dataset label shape: %s\", pseudo_target_label.shape)\n",
    "\n",
    "    pseudo_target_loader = DataPreprocess.load(pseudo_target_data, pseudo_target_label)\n",
    "\n",
    "\n",
    "    for cls_epoch in range(cls_epoches):\n",
    "\n",
    "        extractor.train()\n",
    "        classifier_A.train()\n",
    "        classifier_B.train()\n",
    "        s1_loader, s2_loader, t_pse_loader = iter(source1_loader), iter(source2_loader), iter(pseudo_target_loader)    \n",
    "\n",
    "        # Use source datasets and pseudo target dataset\n",
    "        for i, (t_pse_sample, t_pse_labels) in tqdm.tqdm(enumerate(t_pse_loader)):\n",
    "            try:\n",
    "                s1_sample, s1_labels = s1_loader.next()\n",
    "            except StopIteration:\n",
    "                s1_loader = iter(source1_loader)\n",
    "                s1_sample, s1_labels = s1_loader.next()\n",
    "\n",
    "            try:\n",
    "                s2_sample, s2_labels = s2_loader.next()\n",
    "            except StopIteration:\n",
    "                s2_loader = iter(source2_loader)\n",
    "                s2_sample, s2_labels = s2_loader.next()\n",
    "\n",
    "            s1_sample, s1_labels = Variable(s1_sample.cuda(gpu_id)), Variable(s1_labels.cuda(gpu_id))\n",
    "            s2_sample, s2_labels = Variable(s2_sample.cuda(gpu_id)), Variable(s2_labels.cuda(gpu_id))\n",
    "\n",
    "            t_pse_sample =  np.swapaxes(t_pse_sample,1,3)\n",
    "            t_pse_sample, t_pse_labels = Variable(t_pse_sample.cuda(gpu_id)), Variable(t_pse_labels.cuda(gpu_id))\n",
    "            t_pse_labels = t_pse_labels.float()  \n",
    "\n",
    "            # Combine the source 1 and 2 images with pseudo leveled images\n",
    "            s1_t_sample = torch.cat((s1_sample, t_pse_sample), 0)\n",
    "            s1_t_labels = torch.cat((s1_labels, t_pse_labels), 0)\n",
    "            s2_t_sample = torch.cat((s2_sample, t_pse_sample), 0)\n",
    "            s2_t_labels = torch.cat((s2_labels, t_pse_labels), 0)\n",
    "\n",
    "            optim_extract.zero_grad()\n",
    "            optim_s1_cls.zero_grad()\n",
    "            optim_s2_cls.zero_grad()\n",
    "\n",
    "            s1_t_feature = extractor(s1_t_sample)\n",
    "            s2_t_feature = extractor(s2_t_sample)\n",
    "            s1_t_cls = classifier_A(s1_t_feature)\n",
    "            s2_t_cls = classifier_B(s2_t_feature)\n",
    "\n",
    "            s1_t_labels = s1_t_labels.long()\n",
    "            s2_t_labels = s2_t_labels.long()\n",
    "\n",
    "            s1_t_cls_loss = get_cls_loss(s1_t_cls, s1_t_labels)\n",
    "            s2_t_cls_loss = get_cls_loss(s2_t_cls, s2_t_labels)\n",
    "\n",
    "            # Will it update the extractor\n",
    "            torch.autograd.backward([s1_t_cls_loss, s2_t_cls_loss])\n",
    "\n",
    "            optim_s1_cls.step()\n",
    "            optim_s2_cls.step()\n",
    "            optim_extract.step()            \n",
    "#     except:      \n",
    "#         logging.warning(\"No array to concatenate\")\n",
    "    \n",
    "    print(\"Step: {} #### Part4: Evaluation\".format(step))\n",
    "    # This Evaluation can be moved out of the outer FOR Loop\n",
    "    extractor.eval()\n",
    "    classifier_A.eval()\n",
    "    classifier_B.eval()\n",
    "\n",
    "    prediction = []\n",
    "    ground_truth = []\n",
    "    \n",
    "    correct = 0\n",
    "    for (sample, labels) in target_loader:\n",
    "        sample = Variable(sample.cuda(gpu_id))\n",
    "        sample_feature = extractor(sample)\n",
    "\n",
    "        s1_cls = classifier_A(sample_feature)\n",
    "        s2_cls = classifier_B(sample_feature)\n",
    "\n",
    "        s1_cls = s1_cls.data.cpu().numpy()\n",
    "        s2_cls = s2_cls.data.cpu().numpy()\n",
    "\n",
    "        # s1_weight and s2_weight should be generated from the discriminator\n",
    "        res = s1_cls * s1_weight + s2_cls * s2_weight\n",
    "\n",
    "        pred = res.argmax(axis=1)\n",
    "        labels = labels.numpy()\n",
    "        \n",
    "        prediction.extend(pred.tolist())\n",
    "        ground_truth.extend(labels.tolist())\n",
    "        \n",
    "        correct += np.equal(labels, pred).sum()\n",
    "    \n",
    "    current_accuracy = (correct * 1.0) / Total_Target_Sample\n",
    "    print(\"Current accuracy is: \", current_accuracy)\n",
    "    logging.warning(\"Current accuracy is: %s\", current_accuracy)\n",
    "\n",
    "    x_value.append(step)\n",
    "    y_value.append(current_accuracy)\n",
    "    \n",
    "    if current_accuracy >= max_correct:\n",
    "        max_correct = current_accuracy\n",
    "        max_step = step\n",
    "        max_epoch = gan_epoch\n",
    "#         torch.save(extractor.state_dict(), os.path.join(snapshot, \"extractor_\" + str(max_step) + \"_\" + str(max_epoch) + \".pth\"))\n",
    "#         torch.save(classifier_A.state_dict(), os.path.join(snapshot, \"classifier_A_\" + str(max_step) + \"_\" + str(max_epoch) + \".pth\"))\n",
    "#         torch.save(classifier_B.state_dict(), os.path.join(snapshot, \"classifier_B_\" + str(max_step) + \"_\" + str(max_epoch) + \".pth\"))\n",
    "\n",
    "    \n",
    "    if step == steps-1:\n",
    "        print(\"Printing the confusion matrix\")\n",
    "\n",
    "        plot_cm = confusion_matrix(ground_truth, prediction)\n",
    "        print(plot_cm)\n",
    "        plot_confusion_matrix(cm = plot_cm, \n",
    "                   target_names = ['Ascending Strairs','Sitting','Cycling','Walking'],\n",
    "                     cmap = None,\n",
    "                     normalize    = False,\n",
    "                     title        = \"Confusion Matrix\")\n",
    "        \n",
    "        print(precision_recall_fscore_support(ground_truth, prediction, average='macro'))\n",
    "    \n",
    "# print(\"--- %s seconds ---\", (time.time() - start_time)/60000)\n",
    "logging.warning(\"Best accuracy is: %s\", max_correct)\n",
    "logging.warning(\"Best accuracy at iteration: %s\", max_step)\n",
    "\n",
    "training_plot(x_value, y_value)"
   ]
  },
  {
   "cell_type": "code",
   "execution_count": null,
   "metadata": {},
   "outputs": [],
   "source": []
  },
  {
   "cell_type": "code",
   "execution_count": null,
   "metadata": {},
   "outputs": [],
   "source": []
  },
  {
   "cell_type": "markdown",
   "metadata": {},
   "source": [
    "## Softmax Testing Code"
   ]
  },
  {
   "cell_type": "code",
   "execution_count": null,
   "metadata": {},
   "outputs": [],
   "source": [
    "m = nn.Softmax()\n",
    "input = torch.randn(2, 3)\n",
    "output = m(input)"
   ]
  },
  {
   "cell_type": "code",
   "execution_count": null,
   "metadata": {},
   "outputs": [],
   "source": [
    "input"
   ]
  },
  {
   "cell_type": "code",
   "execution_count": null,
   "metadata": {},
   "outputs": [],
   "source": [
    "output"
   ]
  },
  {
   "cell_type": "code",
   "execution_count": null,
   "metadata": {},
   "outputs": [],
   "source": [
    "np.max([2.13040713e-25,9.37593388e-40,2.83372893e-21,4.75788653e-01,5.24210751e-01,6.50217298e-17,5.74490457e-07])"
   ]
  },
  {
   "cell_type": "code",
   "execution_count": null,
   "metadata": {},
   "outputs": [],
   "source": [
    "a = []\n",
    "a.append(\"1\")\n",
    "a.append(\"2\")\n",
    "a.append(\"3\")\n",
    "a.append(\"4\")\n",
    "a.append(\"5\")\n",
    "a.append(\"6\")\n",
    "a.append(\"7\")\n",
    "a.append(\"8\")\n",
    "a.append(\"9\")\n",
    "a.append(\"10\")"
   ]
  },
  {
   "cell_type": "code",
   "execution_count": null,
   "metadata": {},
   "outputs": [],
   "source": [
    "a"
   ]
  },
  {
   "cell_type": "code",
   "execution_count": null,
   "metadata": {},
   "outputs": [],
   "source": [
    "np.unique(a)"
   ]
  },
  {
   "cell_type": "code",
   "execution_count": null,
   "metadata": {},
   "outputs": [],
   "source": [
    "# y_true = [0, 0, 2, 0, 0]\n",
    "# y_pred = [3, 3, 3, 3, 3]\n",
    "# confusion_matrix(y_true, y_pred)"
   ]
  },
  {
   "cell_type": "code",
   "execution_count": null,
   "metadata": {},
   "outputs": [],
   "source": [
    "upto = int(len(a)*0.2)"
   ]
  },
  {
   "cell_type": "code",
   "execution_count": null,
   "metadata": {},
   "outputs": [],
   "source": [
    "a[0:upto]"
   ]
  },
  {
   "cell_type": "code",
   "execution_count": null,
   "metadata": {},
   "outputs": [],
   "source": []
  }
 ],
 "metadata": {
  "kernelspec": {
   "display_name": "Python 3",
   "language": "python",
   "name": "python3"
  },
  "language_info": {
   "codemirror_mode": {
    "name": "ipython",
    "version": 3
   },
   "file_extension": ".py",
   "mimetype": "text/x-python",
   "name": "python",
   "nbconvert_exporter": "python",
   "pygments_lexer": "ipython3",
   "version": "3.6.5"
  }
 },
 "nbformat": 4,
 "nbformat_minor": 2
}
