{
 "cells": [
  {
   "cell_type": "code",
   "execution_count": 1,
   "metadata": {},
   "outputs": [],
   "source": [
    "import sys\n",
    "sys.path.append('/home/avijoychakma/Downloads/DTCN-AR/Utils/')\n",
    "from DataPreprocess import onehot_to_label, test_load, load, dctn_load\n",
    "from Visualization import plot_data_distribution, training_plot, plot_confusion_matrix\n",
    "\n",
    "import matplotlib as plt\n",
    "import pandas as pd\n",
    "import os\n",
    "import numpy as np\n",
    "import math\n",
    "import csv\n",
    "import pickle\n",
    "import math\n",
    "import matplotlib.pyplot as plt\n",
    "from mpl_toolkits.mplot3d import Axes3D\n",
    "from scipy import stats\n",
    "import seaborn as sns\n",
    "from pylab import rcParams\n",
    "import tqdm\n",
    "from sklearn import preprocessing\n",
    "from torch.utils.data import Dataset, DataLoader\n",
    "from torchvision import transforms\n",
    "import torch\n",
    "import torch.nn as nn\n",
    "import torch.optim as optim\n",
    "from sklearn.model_selection import train_test_split\n",
    "from torch.autograd import Variable\n",
    "%matplotlib inline\n",
    "import argparse\n",
    "sns.set(style='whitegrid', palette='muted', font_scale=1.5)\n",
    "rcParams['figure.figsize'] = 14, 8\n",
    "RANDOM_SEED = 42\n",
    "import torch.nn as nn\n",
    "from matplotlib.lines import Line2D   \n",
    "import time\n",
    "import DataPreprocess\n",
    "from Model import AccExtractor, AccClassifier, AccDiscriminator\n",
    "from Model import get_cls_loss, get_dis_loss, get_confusion_loss\n",
    "import logging\n",
    "import torch.nn.functional as F\n",
    "from sklearn.metrics import confusion_matrix\n",
    "from sklearn.metrics import precision_recall_fscore_support\n",
    "import itertools"
   ]
  },
  {
   "cell_type": "code",
   "execution_count": 2,
   "metadata": {},
   "outputs": [],
   "source": [
    "logging.basicConfig(filename='app.log', filemode='w', format='%(name)s - %(levelname)s - %(message)s')"
   ]
  },
  {
   "cell_type": "code",
   "execution_count": 3,
   "metadata": {},
   "outputs": [],
   "source": [
    "folder_name = \"4 Activity-80 Train\"\n",
    "common_path = \"/home/avijoychakma/Downloads/DTCN-AR/Dataset Preprocessing/PAMAP/Data Files/\"\n",
    "plot_saving_dir = \"/home/avijoychakma/Downloads/DTCN-AR/Save Plot/\"\n",
    "search_folder = common_path +folder_name+\"/\"\n",
    "pre_trained_files = \"Trained-Model-4 Activity-80 Train\"\n",
    "pre_trained_files_folder = common_path+folder_name+\"/\"+pre_trained_files+\"/\"\n",
    "\n",
    "save_path = search_folder\n",
    "pth_path = pre_trained_files_folder"
   ]
  },
  {
   "cell_type": "code",
   "execution_count": 4,
   "metadata": {},
   "outputs": [],
   "source": [
    "source_one = 1\n",
    "source_two = 3\n",
    "selected_Target = 2\n",
    "selected_user = 1"
   ]
  },
  {
   "cell_type": "code",
   "execution_count": 5,
   "metadata": {},
   "outputs": [],
   "source": [
    "steps = 250\n",
    "gan_epoches=2\n",
    "cls_epoches=6\n",
    "batch_size = 64\n",
    "plot_interval = 100\n",
    "EPSILON = 1e-8"
   ]
  },
  {
   "cell_type": "code",
   "execution_count": 6,
   "metadata": {},
   "outputs": [],
   "source": [
    "count = 0\n",
    "max_correct = 0\n",
    "max_step = 0\n",
    "max_epoch = 0\n",
    "gpu_id = 0\n",
    "lr=0.00001\n",
    "beta1=0.9\n",
    "beta2=0.999\n",
    "log_interval = 24\n",
    "threshold=0.9"
   ]
  },
  {
   "cell_type": "code",
   "execution_count": 7,
   "metadata": {},
   "outputs": [],
   "source": [
    "Dominant_Arm_train = []\n",
    "Torso_train = []\n",
    "Dominant_Leg_train = []\n",
    "\n",
    "Dominant_Arm_gt_train = []\n",
    "Torso_gt_train = []\n",
    "Dominant_Leg_gt_train = []"
   ]
  },
  {
   "cell_type": "code",
   "execution_count": 8,
   "metadata": {},
   "outputs": [],
   "source": [
    "win_size=128\n",
    "overlap = 0.5\n",
    "step_size=int(win_size * overlap)\n",
    "AXIS = 3\n",
    "FROM = 0\n",
    "TO = FROM+3\n",
    "START = 4\n",
    "END = 5"
   ]
  },
  {
   "cell_type": "code",
   "execution_count": 9,
   "metadata": {},
   "outputs": [],
   "source": [
    "item = [\"train\",\"valid\"]\n",
    "user = [\"User1\",\"User2\",\"User3\",\"User4\",\"User5\",\"User6\",\"User7\",\"User8\"]\n",
    "position = ['Dominant_Arm', 'Torso', 'Dominant_Leg']"
   ]
  },
  {
   "cell_type": "markdown",
   "metadata": {},
   "source": [
    "### Change in the preprocessing file"
   ]
  },
  {
   "cell_type": "code",
   "execution_count": 10,
   "metadata": {},
   "outputs": [
    {
     "name": "stderr",
     "output_type": "stream",
     "text": [
      "\r",
      "  0%|          | 0/3 [00:00<?, ?it/s]"
     ]
    },
    {
     "name": "stdout",
     "output_type": "stream",
     "text": [
      "User1_Dominant_Arm_train\n"
     ]
    },
    {
     "name": "stderr",
     "output_type": "stream",
     "text": [
      "100%|██████████| 3/3 [00:00<00:00,  4.22it/s]"
     ]
    },
    {
     "name": "stdout",
     "output_type": "stream",
     "text": [
      "User1_Dominant_Arm_valid\n",
      "User1_Torso_train\n",
      "User1_Torso_valid\n",
      "User1_Dominant_Leg_train\n",
      "User1_Dominant_Leg_valid\n"
     ]
    },
    {
     "name": "stderr",
     "output_type": "stream",
     "text": [
      "\n"
     ]
    }
   ],
   "source": [
    "for position_index in tqdm.tqdm(range(0,3)): #'Dominant_Arm', 'Torso', 'Dominant_Leg'\n",
    "    for split_index in range(0,2):\n",
    "        file_name = user[selected_user-1] + \"_\" + position[position_index]+'_'+item[split_index]\n",
    "        \n",
    "        print(file_name)\n",
    "        df = pd.read_csv(save_path+file_name+'.csv', sep=\",\")   \n",
    "        len_df = df.shape[0]\n",
    "        narray = df.to_numpy()\n",
    "\n",
    "        for i in range(0, len_df, step_size):\n",
    "            window = narray[i:i+win_size, FROM:TO]\n",
    "            \n",
    "            if window.shape[0] != win_size:\n",
    "                continue\n",
    "            else:\n",
    "                reshaped_window = window.reshape(1,win_size,1,AXIS)\n",
    "                gt = np.bincount(narray[i:i+win_size,START:END].astype(int).ravel()).argmax()\n",
    "                \n",
    "                if position_index == 0:\n",
    "                        Dominant_Arm_train.append(reshaped_window)\n",
    "                        Dominant_Arm_gt_train.append(gt)\n",
    "                elif position_index == 1:\n",
    "                        Torso_train.append(reshaped_window)\n",
    "                        Torso_gt_train.append(gt)\n",
    "                elif position_index == 2:\n",
    "                    if split_index == 0:\n",
    "                        Dominant_Leg_train.append(reshaped_window)\n",
    "                        Dominant_Leg_gt_train.append(gt)"
   ]
  },
  {
   "cell_type": "code",
   "execution_count": 11,
   "metadata": {},
   "outputs": [],
   "source": [
    "if source_one == 1:\n",
    "    S1 = np.concatenate( Dominant_Arm_train, axis=0 )\n",
    "    S1_GT = np.array(Dominant_Arm_gt_train  )\n",
    "elif source_one == 2:\n",
    "    S1 = np.concatenate( Torso_train, axis=0 )\n",
    "    S1_GT = np.array(Torso_gt_train  )\n",
    "elif source_one == 3:\n",
    "    S1 = np.concatenate( Dominant_Leg_train, axis=0 )\n",
    "    S1_GT = np.array(Dominant_Leg_gt_train  )"
   ]
  },
  {
   "cell_type": "code",
   "execution_count": 12,
   "metadata": {},
   "outputs": [],
   "source": [
    "if source_two == 1:\n",
    "    S2 = np.concatenate( Dominant_Arm_train, axis=0 )\n",
    "    S2_GT = np.array(Dominant_Arm_gt_train  )\n",
    "elif source_two == 2:\n",
    "    S2 = np.concatenate( Torso_train, axis=0 )\n",
    "    S2_GT = np.array(Torso_gt_train  )\n",
    "elif source_two == 3:\n",
    "    S2 = np.concatenate( Dominant_Leg_train, axis=0 )\n",
    "    S2_GT = np.array(Dominant_Leg_gt_train  )"
   ]
  },
  {
   "cell_type": "code",
   "execution_count": 13,
   "metadata": {},
   "outputs": [],
   "source": [
    "if selected_Target == 1:\n",
    "    Target = np.concatenate( Dominant_Arm_train, axis=0 )\n",
    "    Target_GT = np.array(Dominant_Arm_gt_train)\n",
    "elif selected_Target == 2:\n",
    "    Target = np.concatenate(Torso_train, axis=0)\n",
    "    Target_GT = np.array(Torso_gt_train)\n",
    "elif selected_Target == 3:\n",
    "    Target = np.concatenate( Dominant_Leg_train, axis=0 )\n",
    "    Target_GT = np.array(Dominant_Leg_gt_train  )"
   ]
  },
  {
   "cell_type": "code",
   "execution_count": 14,
   "metadata": {},
   "outputs": [],
   "source": [
    "Total_Target_Sample = len(Target_GT)"
   ]
  },
  {
   "cell_type": "code",
   "execution_count": 15,
   "metadata": {
    "scrolled": true
   },
   "outputs": [
    {
     "data": {
      "text/plain": [
       "4"
      ]
     },
     "execution_count": 15,
     "metadata": {},
     "output_type": "execute_result"
    }
   ],
   "source": [
    "output_gt_number = len(np.unique(S1_GT))\n",
    "output_gt_number"
   ]
  },
  {
   "cell_type": "code",
   "execution_count": 16,
   "metadata": {},
   "outputs": [],
   "source": [
    "source1_Ground_Truth = DataPreprocess.onehot_to_label(np.eye(output_gt_number)[S1_GT])\n",
    "source2_Ground_Truth = DataPreprocess.onehot_to_label(np.eye(output_gt_number)[S2_GT])\n",
    "target_Ground_Truth = DataPreprocess.onehot_to_label(np.eye(output_gt_number)[Target_GT])"
   ]
  },
  {
   "cell_type": "markdown",
   "metadata": {},
   "source": [
    "### Data Distribution Visualization"
   ]
  },
  {
   "cell_type": "code",
   "execution_count": 17,
   "metadata": {},
   "outputs": [],
   "source": [
    "unique, counts = np.unique(Target_GT, return_counts=True)\n",
    "target_dict = dict(zip(unique, counts))\n",
    "target_samples = np.fromiter(target_dict.values(), dtype=float).astype(int)"
   ]
  },
  {
   "cell_type": "code",
   "execution_count": 18,
   "metadata": {},
   "outputs": [],
   "source": [
    "unique, counts = np.unique(S1_GT, return_counts=True)\n",
    "s1_dict = dict(zip(unique, counts))\n",
    "s1_samples = np.fromiter(s1_dict.values(), dtype=float).astype(int)"
   ]
  },
  {
   "cell_type": "code",
   "execution_count": 19,
   "metadata": {},
   "outputs": [],
   "source": [
    "unique, counts = np.unique(S2_GT, return_counts=True)\n",
    "s2_dict = dict(zip(unique, counts))\n",
    "s2_samples = np.fromiter(s2_dict.values(), dtype=float).astype(int)"
   ]
  },
  {
   "cell_type": "code",
   "execution_count": 20,
   "metadata": {},
   "outputs": [],
   "source": [
    "activities = ['Sitting', 'Standing', 'Lying', 'Walking']"
   ]
  },
  {
   "cell_type": "code",
   "execution_count": 21,
   "metadata": {},
   "outputs": [],
   "source": [
    "#plot_data_distribution(s1_samples, s2_samples, target_samples, activities)"
   ]
  },
  {
   "cell_type": "markdown",
   "metadata": {},
   "source": [
    "## Load the pretrained networks"
   ]
  },
  {
   "cell_type": "code",
   "execution_count": 22,
   "metadata": {},
   "outputs": [],
   "source": [
    "DEVICE = torch.device('cuda:0' if torch.cuda.is_available() else 'cpu')"
   ]
  },
  {
   "cell_type": "code",
   "execution_count": 23,
   "metadata": {},
   "outputs": [],
   "source": [
    "source1_set =S1.astype(np.float32)\n",
    "source1_Ground_Truth =source1_Ground_Truth.astype(np.float32)\n",
    "source2_set =S2.astype(np.float32)\n",
    "source2_Ground_Truth =source2_Ground_Truth.astype(np.float32)\n",
    "target_set =Target.astype(np.float32)\n",
    "target_Ground_Truth =target_Ground_Truth.astype(np.float32)"
   ]
  },
  {
   "cell_type": "code",
   "execution_count": 24,
   "metadata": {},
   "outputs": [],
   "source": [
    "source1_loader = dctn_load(source1_set, source1_Ground_Truth, batch_size)\n",
    "source2_loader = dctn_load(source2_set, source2_Ground_Truth, batch_size)\n",
    "target_loader = dctn_load(target_set, target_Ground_Truth, batch_size)"
   ]
  },
  {
   "cell_type": "code",
   "execution_count": 25,
   "metadata": {},
   "outputs": [
    {
     "data": {
      "text/plain": [
       "IncompatibleKeys(missing_keys=[], unexpected_keys=[])"
      ]
     },
     "execution_count": 25,
     "metadata": {},
     "output_type": "execute_result"
    }
   ],
   "source": [
    "extractor = AccExtractor().to(DEVICE)\n",
    "classifier_A = AccClassifier(output_gt_number).to(DEVICE)\n",
    "classifier_B = AccClassifier(output_gt_number).to(DEVICE)\n",
    "\n",
    "discriminator_A = AccDiscriminator().to(DEVICE)\n",
    "discriminator_B = AccDiscriminator().to(DEVICE)\n",
    "\n",
    "extractor.load_state_dict(torch.load(pth_path + \"extractor.pth\"))\n",
    "classifier_A.load_state_dict(torch.load(pth_path + \"classifierA.pth\"))\n",
    "classifier_B.load_state_dict(torch.load(pth_path + \"classifierB.pth\"))"
   ]
  },
  {
   "cell_type": "code",
   "execution_count": 26,
   "metadata": {},
   "outputs": [],
   "source": [
    "optim_extract = optim.Adam(extractor.parameters(), lr=lr, betas=(beta1, beta2))\n",
    "optim_s1_t_dis = optim.Adam(discriminator_A.parameters(), lr=lr, betas=(beta1, beta2))\n",
    "optim_s2_t_dis = optim.Adam(discriminator_B.parameters(), lr=lr, betas=(beta1, beta2))\n",
    "optim_s1_cls = optim.Adam(classifier_A.parameters(), lr=lr, betas=(beta1, beta2))\n",
    "optim_s2_cls = optim.Adam(classifier_B.parameters(), lr=lr, betas=(beta1, beta2))"
   ]
  },
  {
   "cell_type": "code",
   "execution_count": 27,
   "metadata": {
    "scrolled": true
   },
   "outputs": [
    {
     "name": "stderr",
     "output_type": "stream",
     "text": [
      "  0%|          | 0/250 [00:00<?, ?it/s]\n",
      "0it [00:00, ?it/s]\u001b[A\n",
      "1it [00:00,  6.27it/s]\u001b[A"
     ]
    },
    {
     "name": "stdout",
     "output_type": "stream",
     "text": [
      "Step: 0 #### Part1: Multi-way Adversarial Adaptation\n"
     ]
    },
    {
     "name": "stderr",
     "output_type": "stream",
     "text": [
      "\n",
      "9it [00:00,  8.67it/s]\u001b[A\n",
      "18it [00:00, 11.87it/s]\u001b[A\n",
      "20it [00:00, 51.47it/s]\u001b[A\n",
      "0it [00:00, ?it/s]\u001b[A\n",
      "9it [00:00, 87.06it/s]\u001b[A\n",
      "19it [00:00, 88.37it/s]\u001b[A\n",
      "20it [00:00, 89.38it/s]\u001b[A\n",
      "0it [00:00, ?it/s]\u001b[A/home/avijoychakma/anaconda3/lib/python3.7/site-packages/ipykernel_launcher.py:261: UserWarning: Implicit dimension choice for softmax has been deprecated. Change the call to include dim=X as an argument.\n",
      "/home/avijoychakma/anaconda3/lib/python3.7/site-packages/ipykernel_launcher.py:262: UserWarning: Implicit dimension choice for softmax has been deprecated. Change the call to include dim=X as an argument.\n",
      "\n",
      "20it [00:00, 909.07it/s]\u001b[A\n",
      "0it [00:00, ?it/s]\u001b[A\n",
      "1it [00:00, 42.44it/s]\u001b[A\n",
      "0it [00:00, ?it/s]\u001b[A\n",
      "1it [00:00, 165.20it/s]\u001b[A\n",
      "0it [00:00, ?it/s]\u001b[A\n",
      "1it [00:00, 195.28it/s]\u001b[A\n",
      "0it [00:00, ?it/s]\u001b[A\n",
      "1it [00:00, 160.70it/s]\u001b[A\n",
      "0it [00:00, ?it/s]\u001b[A\n",
      "1it [00:00, 160.89it/s]\u001b[A\n",
      "0it [00:00, ?it/s]\u001b[A\n",
      "  0%|          | 1/250 [00:00<03:00,  1.38it/s]\n",
      "0it [00:00, ?it/s]\u001b[A"
     ]
    },
    {
     "name": "stdout",
     "output_type": "stream",
     "text": [
      "Step: 0 #### Part2: Pseudo-label generation\n",
      "Step: 0 #### Part3:Train F and C using Pseudo-label\n",
      "Step: 0 #### Part4: Evaluation\n",
      "Current accuracy is:  0.019622641509433963\n",
      "Step: 1 #### Part1: Multi-way Adversarial Adaptation\n"
     ]
    },
    {
     "name": "stderr",
     "output_type": "stream",
     "text": [
      "\n",
      "10it [00:00, 92.22it/s]\u001b[A\n",
      "20it [00:00, 92.54it/s]\u001b[A\n",
      "0it [00:00, ?it/s]\u001b[A\n",
      "10it [00:00, 95.02it/s]\u001b[A\n",
      "20it [00:00, 94.16it/s]\u001b[A\n",
      "0it [00:00, ?it/s]\u001b[A\n",
      "20it [00:00, 957.92it/s]\u001b[A\n",
      "0it [00:00, ?it/s]\u001b[A\n",
      "1it [00:00, 215.20it/s]\u001b[A\n",
      "0it [00:00, ?it/s]\u001b[A\n",
      "1it [00:00, 172.82it/s]\u001b[A\n",
      "0it [00:00, ?it/s]\u001b[A\n",
      "1it [00:00, 155.64it/s]\u001b[A\n",
      "0it [00:00, ?it/s]\u001b[A\n",
      "1it [00:00, 177.46it/s]\u001b[A\n",
      "0it [00:00, ?it/s]\u001b[A\n",
      "1it [00:00, 167.40it/s]\u001b[A\n",
      "0it [00:00, ?it/s]\u001b[A\n",
      "  1%|          | 2/250 [00:01<02:44,  1.51it/s]\n",
      "0it [00:00, ?it/s]\u001b[A\n",
      "10it [00:00, 93.98it/s]\u001b[A"
     ]
    },
    {
     "name": "stdout",
     "output_type": "stream",
     "text": [
      "Step: 1 #### Part2: Pseudo-label generation\n",
      "Step: 1 #### Part3:Train F and C using Pseudo-label\n",
      "Step: 1 #### Part4: Evaluation\n",
      "Current accuracy is:  0.017358490566037735\n",
      "Step: 2 #### Part1: Multi-way Adversarial Adaptation\n"
     ]
    },
    {
     "name": "stderr",
     "output_type": "stream",
     "text": [
      "\n",
      "20it [00:00, 93.76it/s]\u001b[A\n",
      "0it [00:00, ?it/s]\u001b[A\n",
      "10it [00:00, 95.79it/s]\u001b[A\n",
      "20it [00:00, 95.37it/s]\u001b[A\n",
      "0it [00:00, ?it/s]\u001b[A\n",
      "20it [00:00, 1007.62it/s]\u001b[A\n",
      "0it [00:00, ?it/s]\u001b[A\n",
      "0it [00:00, ?it/s]\u001b[A\n",
      "0it [00:00, ?it/s]\u001b[A\n",
      "0it [00:00, ?it/s]\u001b[A\n",
      "0it [00:00, ?it/s]\u001b[A\n",
      "  1%|          | 3/250 [00:01<02:30,  1.65it/s]\n",
      "0it [00:00, ?it/s]\u001b[A\n",
      "10it [00:00, 93.65it/s]\u001b[A"
     ]
    },
    {
     "name": "stdout",
     "output_type": "stream",
     "text": [
      "Step: 2 #### Part2: Pseudo-label generation\n",
      "Step: 2 #### Part3:Train F and C using Pseudo-label\n",
      "Step: 2 #### Part4: Evaluation\n",
      "Current accuracy is:  0.019622641509433963\n",
      "Step: 3 #### Part1: Multi-way Adversarial Adaptation\n"
     ]
    },
    {
     "name": "stderr",
     "output_type": "stream",
     "text": [
      "\n",
      "20it [00:00, 93.31it/s]\u001b[A\n",
      "0it [00:00, ?it/s]\u001b[A\n",
      "10it [00:00, 95.12it/s]\u001b[A\n",
      "20it [00:00, 94.57it/s]\u001b[A\n",
      "0it [00:00, ?it/s]\u001b[A\n",
      "20it [00:00, 1011.16it/s]\u001b[A\n",
      "0it [00:00, ?it/s]\u001b[A\n",
      "0it [00:00, ?it/s]\u001b[A\n",
      "0it [00:00, ?it/s]\u001b[A\n",
      "0it [00:00, ?it/s]\u001b[A\n",
      "0it [00:00, ?it/s]\u001b[A\n",
      "  2%|▏         | 4/250 [00:02<02:20,  1.75it/s]\n",
      "0it [00:00, ?it/s]\u001b[A\n",
      "10it [00:00, 92.19it/s]\u001b[A"
     ]
    },
    {
     "name": "stdout",
     "output_type": "stream",
     "text": [
      "Step: 3 #### Part2: Pseudo-label generation\n",
      "Step: 3 #### Part3:Train F and C using Pseudo-label\n",
      "Step: 3 #### Part4: Evaluation\n",
      "Current accuracy is:  0.02188679245283019\n",
      "Step: 4 #### Part1: Multi-way Adversarial Adaptation\n"
     ]
    },
    {
     "name": "stderr",
     "output_type": "stream",
     "text": [
      "\n",
      "20it [00:00, 92.40it/s]\u001b[A\n",
      "0it [00:00, ?it/s]\u001b[A\n",
      "10it [00:00, 95.09it/s]\u001b[A\n",
      "20it [00:00, 94.48it/s]\u001b[A\n",
      "0it [00:00, ?it/s]\u001b[A\n",
      "20it [00:00, 1038.94it/s]\u001b[A\n",
      "0it [00:00, ?it/s]\u001b[A\n",
      "0it [00:00, ?it/s]\u001b[A\n",
      "0it [00:00, ?it/s]\u001b[A\n",
      "0it [00:00, ?it/s]\u001b[A\n",
      "0it [00:00, ?it/s]\u001b[A\n",
      "  2%|▏         | 5/250 [00:02<02:13,  1.84it/s]\n",
      "0it [00:00, ?it/s]\u001b[A\n",
      "10it [00:00, 94.17it/s]\u001b[A"
     ]
    },
    {
     "name": "stdout",
     "output_type": "stream",
     "text": [
      "Step: 4 #### Part2: Pseudo-label generation\n",
      "Step: 4 #### Part3:Train F and C using Pseudo-label\n",
      "Step: 4 #### Part4: Evaluation\n",
      "Current accuracy is:  0.0830188679245283\n",
      "Step: 5 #### Part1: Multi-way Adversarial Adaptation\n"
     ]
    },
    {
     "name": "stderr",
     "output_type": "stream",
     "text": [
      "\n",
      "20it [00:00, 93.90it/s]\u001b[A\n",
      "0it [00:00, ?it/s]\u001b[A\n",
      "10it [00:00, 95.76it/s]\u001b[A\n",
      "20it [00:00, 95.12it/s]\u001b[A\n",
      "0it [00:00, ?it/s]\u001b[A\n",
      "20it [00:00, 1024.69it/s]\u001b[A\n",
      "0it [00:00, ?it/s]\u001b[A\n",
      "0it [00:00, ?it/s]\u001b[A\n",
      "0it [00:00, ?it/s]\u001b[A\n",
      "0it [00:00, ?it/s]\u001b[A\n",
      "0it [00:00, ?it/s]\u001b[A\n",
      "  2%|▏         | 6/250 [00:03<02:07,  1.91it/s]\n",
      "0it [00:00, ?it/s]\u001b[A\n",
      "10it [00:00, 94.26it/s]\u001b[A"
     ]
    },
    {
     "name": "stdout",
     "output_type": "stream",
     "text": [
      "Step: 5 #### Part2: Pseudo-label generation\n",
      "Step: 5 #### Part3:Train F and C using Pseudo-label\n",
      "Step: 5 #### Part4: Evaluation\n",
      "Current accuracy is:  0.16754716981132076\n",
      "Step: 6 #### Part1: Multi-way Adversarial Adaptation\n"
     ]
    },
    {
     "name": "stderr",
     "output_type": "stream",
     "text": [
      "\n",
      "20it [00:00, 93.93it/s]\u001b[A\n",
      "0it [00:00, ?it/s]\u001b[A\n",
      "10it [00:00, 95.89it/s]\u001b[A\n",
      "20it [00:00, 95.28it/s]\u001b[A\n",
      "0it [00:00, ?it/s]\u001b[A\n",
      "20it [00:00, 1053.51it/s]\u001b[A\n",
      "0it [00:00, ?it/s]\u001b[A\n",
      "0it [00:00, ?it/s]\u001b[A\n",
      "0it [00:00, ?it/s]\u001b[A\n",
      "0it [00:00, ?it/s]\u001b[A\n",
      "0it [00:00, ?it/s]\u001b[A\n",
      "  3%|▎         | 7/250 [00:03<02:03,  1.97it/s]\n",
      "0it [00:00, ?it/s]\u001b[A\n",
      "10it [00:00, 92.89it/s]\u001b[A"
     ]
    },
    {
     "name": "stdout",
     "output_type": "stream",
     "text": [
      "Step: 6 #### Part2: Pseudo-label generation\n",
      "Step: 6 #### Part3:Train F and C using Pseudo-label\n",
      "Step: 6 #### Part4: Evaluation\n",
      "Current accuracy is:  0.21509433962264152\n",
      "Step: 7 #### Part1: Multi-way Adversarial Adaptation\n"
     ]
    },
    {
     "name": "stderr",
     "output_type": "stream",
     "text": [
      "\n",
      "20it [00:00, 92.77it/s]\u001b[A\n",
      "0it [00:00, ?it/s]\u001b[A\n",
      "10it [00:00, 95.44it/s]\u001b[A\n",
      "20it [00:00, 95.08it/s]\u001b[A\n",
      "0it [00:00, ?it/s]\u001b[A\n",
      "20it [00:00, 1071.47it/s]\u001b[A\n",
      "0it [00:00, ?it/s]\u001b[A\n",
      "0it [00:00, ?it/s]\u001b[A\n",
      "0it [00:00, ?it/s]\u001b[A\n",
      "0it [00:00, ?it/s]\u001b[A\n",
      "0it [00:00, ?it/s]\u001b[A\n",
      "  3%|▎         | 8/250 [00:04<02:00,  2.00it/s]\n",
      "0it [00:00, ?it/s]\u001b[A\n",
      "10it [00:00, 94.88it/s]\u001b[A"
     ]
    },
    {
     "name": "stdout",
     "output_type": "stream",
     "text": [
      "Step: 7 #### Part2: Pseudo-label generation\n",
      "Step: 7 #### Part3:Train F and C using Pseudo-label\n",
      "Step: 7 #### Part4: Evaluation\n",
      "Current accuracy is:  0.20679245283018868\n",
      "Step: 8 #### Part1: Multi-way Adversarial Adaptation\n"
     ]
    },
    {
     "name": "stderr",
     "output_type": "stream",
     "text": [
      "\n",
      "20it [00:00, 94.25it/s]\u001b[A\n",
      "0it [00:00, ?it/s]\u001b[A\n",
      "10it [00:00, 95.49it/s]\u001b[A\n",
      "20it [00:00, 95.22it/s]\u001b[A\n",
      "0it [00:00, ?it/s]\u001b[A\n",
      "20it [00:00, 1120.96it/s]\u001b[A\n",
      "0it [00:00, ?it/s]\u001b[A\n",
      "0it [00:00, ?it/s]\u001b[A\n",
      "0it [00:00, ?it/s]\u001b[A\n",
      "0it [00:00, ?it/s]\u001b[A\n",
      "0it [00:00, ?it/s]\u001b[A\n",
      "  4%|▎         | 9/250 [00:04<01:58,  2.04it/s]\n",
      "0it [00:00, ?it/s]\u001b[A\n",
      "10it [00:00, 93.38it/s]\u001b[A"
     ]
    },
    {
     "name": "stdout",
     "output_type": "stream",
     "text": [
      "Step: 8 #### Part2: Pseudo-label generation\n",
      "Step: 8 #### Part3:Train F and C using Pseudo-label\n",
      "Step: 8 #### Part4: Evaluation\n",
      "Current accuracy is:  0.17886792452830189\n",
      "Step: 9 #### Part1: Multi-way Adversarial Adaptation\n"
     ]
    },
    {
     "name": "stderr",
     "output_type": "stream",
     "text": [
      "\n",
      "20it [00:00, 93.17it/s]\u001b[A\n",
      "0it [00:00, ?it/s]\u001b[A\n",
      "10it [00:00, 93.60it/s]\u001b[A\n",
      "20it [00:00, 93.46it/s]\u001b[A\n",
      "0it [00:00, ?it/s]\u001b[A\n",
      "  4%|▍         | 10/250 [00:05<01:56,  2.06it/s]\n",
      "0it [00:00, ?it/s]\u001b[A\n",
      "10it [00:00, 93.34it/s]\u001b[A"
     ]
    },
    {
     "name": "stdout",
     "output_type": "stream",
     "text": [
      "Step: 9 #### Part2: Pseudo-label generation\n",
      "Step: 9 #### Part3:Train F and C using Pseudo-label\n",
      "Step: 9 #### Part4: Evaluation\n",
      "Current accuracy is:  0.06641509433962264\n",
      "Step: 10 #### Part1: Multi-way Adversarial Adaptation\n"
     ]
    },
    {
     "name": "stderr",
     "output_type": "stream",
     "text": [
      "\n",
      "19it [00:00, 91.84it/s]\u001b[A\n",
      "20it [00:00, 90.80it/s]\u001b[A\n",
      "0it [00:00, ?it/s]\u001b[A\n",
      "10it [00:00, 93.42it/s]\u001b[A\n",
      "20it [00:00, 93.40it/s]\u001b[A\n",
      "0it [00:00, ?it/s]\u001b[A\n",
      "  4%|▍         | 11/250 [00:05<01:55,  2.07it/s]\n",
      "0it [00:00, ?it/s]\u001b[A\n",
      "10it [00:00, 93.57it/s]\u001b[A"
     ]
    },
    {
     "name": "stdout",
     "output_type": "stream",
     "text": [
      "Step: 10 #### Part2: Pseudo-label generation\n",
      "Step: 10 #### Part3:Train F and C using Pseudo-label\n",
      "Step: 10 #### Part4: Evaluation\n",
      "Current accuracy is:  0.02188679245283019\n",
      "Step: 11 #### Part1: Multi-way Adversarial Adaptation\n"
     ]
    },
    {
     "name": "stderr",
     "output_type": "stream",
     "text": [
      "\n",
      "20it [00:00, 93.28it/s]\u001b[A\n",
      "0it [00:00, ?it/s]\u001b[A\n",
      "10it [00:00, 94.59it/s]\u001b[A\n",
      "20it [00:00, 94.31it/s]\u001b[A\n",
      "0it [00:00, ?it/s]\u001b[A\n",
      "  5%|▍         | 12/250 [00:06<01:54,  2.09it/s]\n",
      "0it [00:00, ?it/s]\u001b[A\n",
      "10it [00:00, 92.97it/s]\u001b[A"
     ]
    },
    {
     "name": "stdout",
     "output_type": "stream",
     "text": [
      "Step: 11 #### Part2: Pseudo-label generation\n",
      "Step: 11 #### Part3:Train F and C using Pseudo-label\n",
      "Step: 11 #### Part4: Evaluation\n",
      "Current accuracy is:  0.019622641509433963\n",
      "Step: 12 #### Part1: Multi-way Adversarial Adaptation\n"
     ]
    },
    {
     "name": "stderr",
     "output_type": "stream",
     "text": [
      "\n",
      "20it [00:00, 92.41it/s]\u001b[A\n",
      "0it [00:00, ?it/s]\u001b[A\n",
      "10it [00:00, 94.17it/s]\u001b[A\n",
      "20it [00:00, 94.09it/s]\u001b[A\n",
      "0it [00:00, ?it/s]\u001b[A\n",
      "  5%|▌         | 13/250 [00:06<01:53,  2.09it/s]\n",
      "0it [00:00, ?it/s]\u001b[A\n",
      "10it [00:00, 93.80it/s]\u001b[A"
     ]
    },
    {
     "name": "stdout",
     "output_type": "stream",
     "text": [
      "Step: 12 #### Part2: Pseudo-label generation\n",
      "Step: 12 #### Part3:Train F and C using Pseudo-label\n",
      "Step: 12 #### Part4: Evaluation\n",
      "Current accuracy is:  0.02490566037735849\n",
      "Step: 13 #### Part1: Multi-way Adversarial Adaptation\n"
     ]
    },
    {
     "name": "stderr",
     "output_type": "stream",
     "text": [
      "\n",
      "20it [00:00, 93.59it/s]\u001b[A\n",
      "0it [00:00, ?it/s]\u001b[A\n",
      "10it [00:00, 95.49it/s]\u001b[A\n",
      "20it [00:00, 95.08it/s]\u001b[A\n",
      "0it [00:00, ?it/s]\u001b[A\n",
      "  6%|▌         | 14/250 [00:06<01:52,  2.11it/s]\n",
      "0it [00:00, ?it/s]\u001b[A\n",
      "10it [00:00, 94.22it/s]\u001b[A"
     ]
    },
    {
     "name": "stdout",
     "output_type": "stream",
     "text": [
      "Step: 13 #### Part2: Pseudo-label generation\n",
      "Step: 13 #### Part3:Train F and C using Pseudo-label\n",
      "Step: 13 #### Part4: Evaluation\n",
      "Current accuracy is:  0.2369811320754717\n",
      "Step: 14 #### Part1: Multi-way Adversarial Adaptation\n"
     ]
    },
    {
     "name": "stderr",
     "output_type": "stream",
     "text": [
      "\n",
      "20it [00:00, 93.93it/s]\u001b[A\n",
      "0it [00:00, ?it/s]\u001b[A\n",
      "10it [00:00, 94.28it/s]\u001b[A\n",
      "20it [00:00, 94.18it/s]\u001b[A\n",
      "0it [00:00, ?it/s]\u001b[A\n",
      "  6%|▌         | 15/250 [00:07<01:51,  2.11it/s]\n",
      "0it [00:00, ?it/s]\u001b[A\n",
      "10it [00:00, 93.59it/s]\u001b[A"
     ]
    },
    {
     "name": "stdout",
     "output_type": "stream",
     "text": [
      "Step: 14 #### Part2: Pseudo-label generation\n",
      "Step: 14 #### Part3:Train F and C using Pseudo-label\n",
      "Step: 14 #### Part4: Evaluation\n",
      "Current accuracy is:  0.24452830188679245\n",
      "Step: 15 #### Part1: Multi-way Adversarial Adaptation\n"
     ]
    },
    {
     "name": "stderr",
     "output_type": "stream",
     "text": [
      "\n",
      "20it [00:00, 93.53it/s]\u001b[A\n",
      "0it [00:00, ?it/s]\u001b[A\n",
      "10it [00:00, 95.54it/s]\u001b[A\n",
      "20it [00:00, 95.05it/s]\u001b[A\n",
      "0it [00:00, ?it/s]\u001b[A\n",
      "  6%|▋         | 16/250 [00:07<01:50,  2.12it/s]\n",
      "0it [00:00, ?it/s]\u001b[A\n",
      "10it [00:00, 94.25it/s]\u001b[A"
     ]
    },
    {
     "name": "stdout",
     "output_type": "stream",
     "text": [
      "Step: 15 #### Part2: Pseudo-label generation\n",
      "Step: 15 #### Part3:Train F and C using Pseudo-label\n",
      "Step: 15 #### Part4: Evaluation\n",
      "Current accuracy is:  0.24377358490566037\n",
      "Step: 16 #### Part1: Multi-way Adversarial Adaptation\n"
     ]
    },
    {
     "name": "stderr",
     "output_type": "stream",
     "text": [
      "\n",
      "20it [00:00, 93.82it/s]\u001b[A\n",
      "0it [00:00, ?it/s]\u001b[A\n",
      "10it [00:00, 95.06it/s]\u001b[A\n",
      "20it [00:00, 94.66it/s]\u001b[A\n",
      "0it [00:00, ?it/s]\u001b[A\n",
      "  7%|▋         | 17/250 [00:08<01:49,  2.12it/s]\n",
      "0it [00:00, ?it/s]\u001b[A\n",
      "10it [00:00, 93.27it/s]\u001b[A"
     ]
    },
    {
     "name": "stdout",
     "output_type": "stream",
     "text": [
      "Step: 16 #### Part2: Pseudo-label generation\n",
      "Step: 16 #### Part3:Train F and C using Pseudo-label\n",
      "Step: 16 #### Part4: Evaluation\n",
      "Current accuracy is:  0.24301886792452831\n",
      "Step: 17 #### Part1: Multi-way Adversarial Adaptation\n"
     ]
    },
    {
     "name": "stderr",
     "output_type": "stream",
     "text": [
      "\n",
      "20it [00:00, 93.23it/s]\u001b[A\n",
      "0it [00:00, ?it/s]\u001b[A\n",
      "10it [00:00, 94.76it/s]\u001b[A\n",
      "20it [00:00, 94.03it/s]\u001b[A\n",
      "0it [00:00, ?it/s]\u001b[A\n",
      "  7%|▋         | 18/250 [00:08<01:49,  2.12it/s]\n",
      "0it [00:00, ?it/s]\u001b[A\n",
      "10it [00:00, 92.88it/s]\u001b[A"
     ]
    },
    {
     "name": "stdout",
     "output_type": "stream",
     "text": [
      "Step: 17 #### Part2: Pseudo-label generation\n",
      "Step: 17 #### Part3:Train F and C using Pseudo-label\n",
      "Step: 17 #### Part4: Evaluation\n",
      "Current accuracy is:  0.25056603773584907\n",
      "Step: 18 #### Part1: Multi-way Adversarial Adaptation\n"
     ]
    },
    {
     "name": "stderr",
     "output_type": "stream",
     "text": [
      "\n",
      "20it [00:00, 92.50it/s]\u001b[A\n",
      "0it [00:00, ?it/s]\u001b[A\n",
      "10it [00:00, 91.47it/s]\u001b[A\n",
      "20it [00:00, 91.26it/s]\u001b[A\n",
      "0it [00:00, ?it/s]\u001b[A\n",
      "  8%|▊         | 19/250 [00:09<01:49,  2.11it/s]\n",
      "0it [00:00, ?it/s]\u001b[A\n",
      "10it [00:00, 93.77it/s]\u001b[A"
     ]
    },
    {
     "name": "stdout",
     "output_type": "stream",
     "text": [
      "Step: 18 #### Part2: Pseudo-label generation\n",
      "Step: 18 #### Part3:Train F and C using Pseudo-label\n",
      "Step: 18 #### Part4: Evaluation\n",
      "Current accuracy is:  0.24754716981132074\n",
      "Step: 19 #### Part1: Multi-way Adversarial Adaptation\n"
     ]
    },
    {
     "name": "stderr",
     "output_type": "stream",
     "text": [
      "\n",
      "20it [00:00, 93.64it/s]\u001b[A\n",
      "0it [00:00, ?it/s]\u001b[A\n",
      "10it [00:00, 95.25it/s]\u001b[A\n",
      "20it [00:00, 94.56it/s]\u001b[A\n",
      "0it [00:00, ?it/s]\u001b[A\n",
      "  8%|▊         | 20/250 [00:09<01:48,  2.12it/s]\n",
      "0it [00:00, ?it/s]\u001b[A\n",
      "10it [00:00, 92.79it/s]\u001b[A"
     ]
    },
    {
     "name": "stdout",
     "output_type": "stream",
     "text": [
      "Step: 19 #### Part2: Pseudo-label generation\n",
      "Step: 19 #### Part3:Train F and C using Pseudo-label\n",
      "Step: 19 #### Part4: Evaluation\n",
      "Current accuracy is:  0.24830188679245283\n",
      "Step: 20 #### Part1: Multi-way Adversarial Adaptation\n"
     ]
    },
    {
     "name": "stderr",
     "output_type": "stream",
     "text": [
      "\n",
      "20it [00:00, 92.79it/s]\u001b[A\n",
      "0it [00:00, ?it/s]\u001b[A\n",
      "10it [00:00, 95.47it/s]\u001b[A\n",
      "20it [00:00, 94.74it/s]\u001b[A\n",
      "0it [00:00, ?it/s]\u001b[A\n",
      "  8%|▊         | 21/250 [00:10<01:48,  2.12it/s]\n",
      "0it [00:00, ?it/s]\u001b[A\n",
      "9it [00:00, 87.02it/s]\u001b[A"
     ]
    },
    {
     "name": "stdout",
     "output_type": "stream",
     "text": [
      "Step: 20 #### Part2: Pseudo-label generation\n",
      "Step: 20 #### Part3:Train F and C using Pseudo-label\n",
      "Step: 20 #### Part4: Evaluation\n",
      "Current accuracy is:  0.2467924528301887\n",
      "Step: 21 #### Part1: Multi-way Adversarial Adaptation\n"
     ]
    },
    {
     "name": "stderr",
     "output_type": "stream",
     "text": [
      "\n",
      "18it [00:00, 86.01it/s]\u001b[A\n",
      "20it [00:00, 84.89it/s]\u001b[A\n",
      "0it [00:00, ?it/s]\u001b[A\n",
      "9it [00:00, 82.36it/s]\u001b[A\n",
      "19it [00:00, 84.87it/s]\u001b[A\n",
      "20it [00:00, 86.92it/s]\u001b[A\n",
      "0it [00:00, ?it/s]\u001b[A\n",
      "  9%|▉         | 22/250 [00:10<01:49,  2.07it/s]\n",
      "0it [00:00, ?it/s]\u001b[A\n",
      "10it [00:00, 92.96it/s]\u001b[A"
     ]
    },
    {
     "name": "stdout",
     "output_type": "stream",
     "text": [
      "Step: 21 #### Part2: Pseudo-label generation\n",
      "Step: 21 #### Part3:Train F and C using Pseudo-label\n",
      "Step: 21 #### Part4: Evaluation\n",
      "Current accuracy is:  0.24452830188679245\n",
      "Step: 22 #### Part1: Multi-way Adversarial Adaptation\n"
     ]
    },
    {
     "name": "stderr",
     "output_type": "stream",
     "text": [
      "\n",
      "19it [00:00, 91.90it/s]\u001b[A\n",
      "20it [00:00, 91.18it/s]\u001b[A\n",
      "0it [00:00, ?it/s]\u001b[A\n",
      "10it [00:00, 93.69it/s]\u001b[A\n",
      "20it [00:00, 93.39it/s]\u001b[A\n",
      "0it [00:00, ?it/s]\u001b[A\n",
      "  9%|▉         | 23/250 [00:11<01:49,  2.08it/s]\n",
      "0it [00:00, ?it/s]\u001b[A\n",
      "9it [00:00, 87.25it/s]\u001b[A"
     ]
    },
    {
     "name": "stdout",
     "output_type": "stream",
     "text": [
      "Step: 22 #### Part2: Pseudo-label generation\n",
      "Step: 22 #### Part3:Train F and C using Pseudo-label\n",
      "Step: 22 #### Part4: Evaluation\n",
      "Current accuracy is:  0.26716981132075474\n",
      "Step: 23 #### Part1: Multi-way Adversarial Adaptation\n"
     ]
    },
    {
     "name": "stderr",
     "output_type": "stream",
     "text": [
      "\n",
      "18it [00:00, 86.97it/s]\u001b[A\n",
      "20it [00:00, 86.60it/s]\u001b[A\n",
      "0it [00:00, ?it/s]\u001b[A\n",
      "9it [00:00, 87.66it/s]\u001b[A\n",
      "18it [00:00, 87.37it/s]\u001b[A\n",
      "20it [00:00, 87.32it/s]\u001b[A\n",
      "0it [00:00, ?it/s]\u001b[A\n",
      " 10%|▉         | 24/250 [00:11<01:50,  2.05it/s]\n",
      "0it [00:00, ?it/s]\u001b[A\n",
      "10it [00:00, 93.69it/s]\u001b[A"
     ]
    },
    {
     "name": "stdout",
     "output_type": "stream",
     "text": [
      "Step: 23 #### Part2: Pseudo-label generation\n",
      "Step: 23 #### Part3:Train F and C using Pseudo-label\n",
      "Step: 23 #### Part4: Evaluation\n",
      "Current accuracy is:  0.26264150943396225\n",
      "Step: 24 #### Part1: Multi-way Adversarial Adaptation\n"
     ]
    },
    {
     "name": "stderr",
     "output_type": "stream",
     "text": [
      "\n",
      "20it [00:00, 93.38it/s]\u001b[A\n",
      "0it [00:00, ?it/s]\u001b[A\n",
      "10it [00:00, 93.80it/s]\u001b[A\n",
      "20it [00:00, 93.55it/s]\u001b[A\n",
      "0it [00:00, ?it/s]\u001b[A\n",
      " 10%|█         | 25/250 [00:12<01:48,  2.07it/s]\n",
      "0it [00:00, ?it/s]\u001b[A\n",
      "10it [00:00, 92.46it/s]\u001b[A"
     ]
    },
    {
     "name": "stdout",
     "output_type": "stream",
     "text": [
      "Step: 24 #### Part2: Pseudo-label generation\n",
      "Step: 24 #### Part3:Train F and C using Pseudo-label\n",
      "Step: 24 #### Part4: Evaluation\n",
      "Current accuracy is:  0.26867924528301884\n",
      "Step: 25 #### Part1: Multi-way Adversarial Adaptation\n"
     ]
    },
    {
     "name": "stderr",
     "output_type": "stream",
     "text": [
      "\n",
      "20it [00:00, 92.44it/s]\u001b[A\n",
      "0it [00:00, ?it/s]\u001b[A\n",
      "10it [00:00, 94.28it/s]\u001b[A\n",
      "20it [00:00, 93.88it/s]\u001b[A\n",
      "0it [00:00, ?it/s]\u001b[A\n",
      " 10%|█         | 26/250 [00:12<01:47,  2.08it/s]\n",
      "0it [00:00, ?it/s]\u001b[A\n",
      "10it [00:00, 93.55it/s]\u001b[A"
     ]
    },
    {
     "name": "stdout",
     "output_type": "stream",
     "text": [
      "Step: 25 #### Part2: Pseudo-label generation\n",
      "Step: 25 #### Part3:Train F and C using Pseudo-label\n",
      "Step: 25 #### Part4: Evaluation\n",
      "Current accuracy is:  0.26943396226415095\n",
      "Step: 26 #### Part1: Multi-way Adversarial Adaptation\n"
     ]
    },
    {
     "name": "stderr",
     "output_type": "stream",
     "text": [
      "\n",
      "20it [00:00, 93.04it/s]\u001b[A\n",
      "0it [00:00, ?it/s]\u001b[A\n",
      "10it [00:00, 92.52it/s]\u001b[A\n",
      "19it [00:00, 90.44it/s]\u001b[A\n",
      "20it [00:00, 88.88it/s]\u001b[A\n",
      "0it [00:00, ?it/s]\u001b[A\n",
      " 11%|█         | 27/250 [00:13<01:47,  2.08it/s]\n",
      "0it [00:00, ?it/s]\u001b[A\n",
      "9it [00:00, 87.34it/s]\u001b[A"
     ]
    },
    {
     "name": "stdout",
     "output_type": "stream",
     "text": [
      "Step: 26 #### Part2: Pseudo-label generation\n",
      "Step: 26 #### Part3:Train F and C using Pseudo-label\n",
      "Step: 26 #### Part4: Evaluation\n",
      "Current accuracy is:  0.2679245283018868\n",
      "Step: 27 #### Part1: Multi-way Adversarial Adaptation\n"
     ]
    },
    {
     "name": "stderr",
     "output_type": "stream",
     "text": [
      "\n",
      "18it [00:00, 87.31it/s]\u001b[A\n",
      "20it [00:00, 87.53it/s]\u001b[A\n",
      "0it [00:00, ?it/s]\u001b[A\n",
      "10it [00:00, 94.08it/s]\u001b[A\n",
      "20it [00:00, 93.87it/s]\u001b[A\n",
      "0it [00:00, ?it/s]\u001b[A\n",
      " 11%|█         | 28/250 [00:13<01:47,  2.07it/s]\n",
      "0it [00:00, ?it/s]\u001b[A\n",
      "10it [00:00, 93.48it/s]\u001b[A"
     ]
    },
    {
     "name": "stdout",
     "output_type": "stream",
     "text": [
      "Step: 27 #### Part2: Pseudo-label generation\n",
      "Step: 27 #### Part3:Train F and C using Pseudo-label\n",
      "Step: 27 #### Part4: Evaluation\n",
      "Current accuracy is:  0.26716981132075474\n",
      "Step: 28 #### Part1: Multi-way Adversarial Adaptation\n"
     ]
    },
    {
     "name": "stderr",
     "output_type": "stream",
     "text": [
      "\n",
      "20it [00:00, 93.07it/s]\u001b[A\n",
      "0it [00:00, ?it/s]\u001b[A\n",
      "10it [00:00, 95.41it/s]\u001b[A\n",
      "20it [00:00, 95.11it/s]\u001b[A\n",
      "0it [00:00, ?it/s]\u001b[A\n",
      " 12%|█▏        | 29/250 [00:14<01:45,  2.09it/s]\n",
      "0it [00:00, ?it/s]\u001b[A\n",
      "10it [00:00, 93.99it/s]\u001b[A"
     ]
    },
    {
     "name": "stdout",
     "output_type": "stream",
     "text": [
      "Step: 28 #### Part2: Pseudo-label generation\n",
      "Step: 28 #### Part3:Train F and C using Pseudo-label\n",
      "Step: 28 #### Part4: Evaluation\n",
      "Current accuracy is:  0.26339622641509436\n",
      "Step: 29 #### Part1: Multi-way Adversarial Adaptation\n"
     ]
    },
    {
     "name": "stderr",
     "output_type": "stream",
     "text": [
      "\n",
      "20it [00:00, 93.36it/s]\u001b[A\n",
      "0it [00:00, ?it/s]\u001b[A\n",
      "9it [00:00, 88.43it/s]\u001b[A\n",
      "18it [00:00, 87.90it/s]\u001b[A\n",
      "20it [00:00, 87.21it/s]\u001b[A\n",
      "0it [00:00, ?it/s]\u001b[A\n",
      " 12%|█▏        | 30/250 [00:14<01:46,  2.07it/s]\n",
      "0it [00:00, ?it/s]\u001b[A\n",
      "10it [00:00, 93.95it/s]\u001b[A"
     ]
    },
    {
     "name": "stdout",
     "output_type": "stream",
     "text": [
      "Step: 29 #### Part2: Pseudo-label generation\n",
      "Step: 29 #### Part3:Train F and C using Pseudo-label\n",
      "Step: 29 #### Part4: Evaluation\n",
      "Current accuracy is:  0.26943396226415095\n",
      "Step: 30 #### Part1: Multi-way Adversarial Adaptation\n"
     ]
    },
    {
     "name": "stderr",
     "output_type": "stream",
     "text": [
      "\n",
      "20it [00:00, 93.64it/s]\u001b[A\n",
      "0it [00:00, ?it/s]\u001b[A\n",
      "10it [00:00, 94.26it/s]\u001b[A\n",
      "20it [00:00, 93.94it/s]\u001b[A\n",
      "0it [00:00, ?it/s]\u001b[A\n",
      " 12%|█▏        | 31/250 [00:15<01:45,  2.08it/s]\n",
      "0it [00:00, ?it/s]\u001b[A\n",
      "10it [00:00, 91.34it/s]\u001b[A"
     ]
    },
    {
     "name": "stdout",
     "output_type": "stream",
     "text": [
      "Step: 30 #### Part2: Pseudo-label generation\n",
      "Step: 30 #### Part3:Train F and C using Pseudo-label\n",
      "Step: 30 #### Part4: Evaluation\n",
      "Current accuracy is:  0.2656603773584906\n",
      "Step: 31 #### Part1: Multi-way Adversarial Adaptation\n"
     ]
    },
    {
     "name": "stderr",
     "output_type": "stream",
     "text": [
      "\n",
      "20it [00:00, 91.11it/s]\u001b[A\n",
      "0it [00:00, ?it/s]\u001b[A\n",
      "10it [00:00, 90.64it/s]\u001b[A\n",
      "19it [00:00, 89.05it/s]\u001b[A\n",
      "20it [00:00, 87.84it/s]\u001b[A\n",
      "0it [00:00, ?it/s]\u001b[A\n",
      " 13%|█▎        | 32/250 [00:15<01:45,  2.07it/s]\n",
      "0it [00:00, ?it/s]\u001b[A\n",
      "9it [00:00, 88.91it/s]\u001b[A"
     ]
    },
    {
     "name": "stdout",
     "output_type": "stream",
     "text": [
      "Step: 31 #### Part2: Pseudo-label generation\n",
      "Step: 31 #### Part3:Train F and C using Pseudo-label\n",
      "Step: 31 #### Part4: Evaluation\n",
      "Current accuracy is:  0.2724528301886792\n",
      "Step: 32 #### Part1: Multi-way Adversarial Adaptation\n"
     ]
    },
    {
     "name": "stderr",
     "output_type": "stream",
     "text": [
      "\n",
      "18it [00:00, 89.09it/s]\u001b[A\n",
      "20it [00:00, 89.09it/s]\u001b[A\n",
      "0it [00:00, ?it/s]\u001b[A\n",
      "10it [00:00, 93.83it/s]\u001b[A\n",
      "20it [00:00, 93.83it/s]\u001b[A\n",
      "0it [00:00, ?it/s]\u001b[A\n",
      " 13%|█▎        | 33/250 [00:16<01:44,  2.07it/s]\n",
      "0it [00:00, ?it/s]\u001b[A\n",
      "10it [00:00, 93.89it/s]\u001b[A"
     ]
    },
    {
     "name": "stdout",
     "output_type": "stream",
     "text": [
      "Step: 32 #### Part2: Pseudo-label generation\n",
      "Step: 32 #### Part3:Train F and C using Pseudo-label\n",
      "Step: 32 #### Part4: Evaluation\n",
      "Current accuracy is:  0.2679245283018868\n",
      "Step: 33 #### Part1: Multi-way Adversarial Adaptation\n"
     ]
    },
    {
     "name": "stderr",
     "output_type": "stream",
     "text": [
      "\n",
      "20it [00:00, 93.61it/s]\u001b[A\n",
      "0it [00:00, ?it/s]\u001b[A\n",
      "10it [00:00, 89.94it/s]\u001b[A\n",
      "19it [00:00, 89.26it/s]\u001b[A\n",
      "20it [00:00, 88.40it/s]\u001b[A\n",
      "0it [00:00, ?it/s]\u001b[A\n",
      " 14%|█▎        | 34/250 [00:16<01:44,  2.07it/s]\n",
      "0it [00:00, ?it/s]\u001b[A\n",
      "10it [00:00, 91.66it/s]\u001b[A"
     ]
    },
    {
     "name": "stdout",
     "output_type": "stream",
     "text": [
      "Step: 33 #### Part2: Pseudo-label generation\n",
      "Step: 33 #### Part3:Train F and C using Pseudo-label\n",
      "Step: 33 #### Part4: Evaluation\n",
      "Current accuracy is:  0.2641509433962264\n",
      "Step: 34 #### Part1: Multi-way Adversarial Adaptation\n"
     ]
    },
    {
     "name": "stderr",
     "output_type": "stream",
     "text": [
      "\n",
      "20it [00:00, 92.07it/s]\u001b[A\n",
      "0it [00:00, ?it/s]\u001b[A\n",
      "10it [00:00, 95.59it/s]\u001b[A\n",
      "20it [00:00, 94.07it/s]\u001b[A\n",
      "0it [00:00, ?it/s]\u001b[A\n",
      " 14%|█▍        | 35/250 [00:17<01:43,  2.08it/s]\n",
      "0it [00:00, ?it/s]\u001b[A\n",
      "10it [00:00, 93.08it/s]\u001b[A"
     ]
    },
    {
     "name": "stdout",
     "output_type": "stream",
     "text": [
      "Step: 34 #### Part2: Pseudo-label generation\n",
      "Step: 34 #### Part3:Train F and C using Pseudo-label\n",
      "Step: 34 #### Part4: Evaluation\n",
      "Current accuracy is:  0.26339622641509436\n",
      "Step: 35 #### Part1: Multi-way Adversarial Adaptation\n"
     ]
    },
    {
     "name": "stderr",
     "output_type": "stream",
     "text": [
      "\n",
      "20it [00:00, 92.91it/s]\u001b[A\n",
      "0it [00:00, ?it/s]\u001b[A\n",
      "10it [00:00, 93.60it/s]\u001b[A\n",
      "19it [00:00, 91.17it/s]\u001b[A\n",
      "20it [00:00, 89.42it/s]\u001b[A\n",
      "0it [00:00, ?it/s]\u001b[A\n",
      " 14%|█▍        | 36/250 [00:17<01:43,  2.07it/s]\n",
      "0it [00:00, ?it/s]\u001b[A\n",
      "9it [00:00, 88.59it/s]\u001b[A"
     ]
    },
    {
     "name": "stdout",
     "output_type": "stream",
     "text": [
      "Step: 35 #### Part2: Pseudo-label generation\n",
      "Step: 35 #### Part3:Train F and C using Pseudo-label\n",
      "Step: 35 #### Part4: Evaluation\n",
      "Current accuracy is:  0.26339622641509436\n",
      "Step: 36 #### Part1: Multi-way Adversarial Adaptation\n"
     ]
    },
    {
     "name": "stderr",
     "output_type": "stream",
     "text": [
      "\n",
      "18it [00:00, 88.07it/s]\u001b[A\n",
      "20it [00:00, 87.89it/s]\u001b[A\n",
      "0it [00:00, ?it/s]\u001b[A\n",
      "10it [00:00, 90.38it/s]\u001b[A\n",
      "19it [00:00, 89.43it/s]\u001b[A\n",
      "20it [00:00, 88.52it/s]\u001b[A\n",
      "0it [00:00, ?it/s]\u001b[A\n",
      " 15%|█▍        | 37/250 [00:17<01:43,  2.06it/s]\n",
      "0it [00:00, ?it/s]\u001b[A\n",
      "9it [00:00, 89.51it/s]\u001b[A"
     ]
    },
    {
     "name": "stdout",
     "output_type": "stream",
     "text": [
      "Step: 36 #### Part2: Pseudo-label generation\n",
      "Step: 36 #### Part3:Train F and C using Pseudo-label\n",
      "Step: 36 #### Part4: Evaluation\n",
      "Current accuracy is:  0.2709433962264151\n",
      "Step: 37 #### Part1: Multi-way Adversarial Adaptation\n"
     ]
    },
    {
     "name": "stderr",
     "output_type": "stream",
     "text": [
      "\n",
      "18it [00:00, 89.01it/s]\u001b[A\n",
      "20it [00:00, 88.19it/s]\u001b[A\n",
      "0it [00:00, ?it/s]\u001b[A\n",
      "9it [00:00, 89.14it/s]\u001b[A\n",
      "18it [00:00, 88.54it/s]\u001b[A\n",
      "20it [00:00, 87.65it/s]\u001b[A\n",
      "0it [00:00, ?it/s]\u001b[A\n",
      " 15%|█▌        | 38/250 [00:18<01:43,  2.04it/s]\n",
      "0it [00:00, ?it/s]\u001b[A\n",
      "10it [00:00, 94.12it/s]\u001b[A"
     ]
    },
    {
     "name": "stdout",
     "output_type": "stream",
     "text": [
      "Step: 37 #### Part2: Pseudo-label generation\n",
      "Step: 37 #### Part3:Train F and C using Pseudo-label\n",
      "Step: 37 #### Part4: Evaluation\n",
      "Current accuracy is:  0.2656603773584906\n",
      "Step: 38 #### Part1: Multi-way Adversarial Adaptation\n"
     ]
    },
    {
     "name": "stderr",
     "output_type": "stream",
     "text": [
      "\n",
      "20it [00:00, 93.87it/s]\u001b[A\n",
      "0it [00:00, ?it/s]\u001b[A\n",
      "10it [00:00, 95.44it/s]\u001b[A\n",
      "20it [00:00, 94.81it/s]\u001b[A\n",
      "0it [00:00, ?it/s]\u001b[A\n",
      " 16%|█▌        | 39/250 [00:18<01:42,  2.07it/s]\n",
      "0it [00:00, ?it/s]\u001b[A\n",
      "9it [00:00, 88.09it/s]\u001b[A"
     ]
    },
    {
     "name": "stdout",
     "output_type": "stream",
     "text": [
      "Step: 38 #### Part2: Pseudo-label generation\n",
      "Step: 38 #### Part3:Train F and C using Pseudo-label\n",
      "Step: 38 #### Part4: Evaluation\n",
      "Current accuracy is:  0.26943396226415095\n",
      "Step: 39 #### Part1: Multi-way Adversarial Adaptation\n"
     ]
    },
    {
     "name": "stderr",
     "output_type": "stream",
     "text": [
      "\n",
      "18it [00:00, 87.42it/s]\u001b[A\n",
      "20it [00:00, 86.72it/s]\u001b[A\n",
      "0it [00:00, ?it/s]\u001b[A\n",
      "9it [00:00, 89.30it/s]\u001b[A\n",
      "18it [00:00, 88.42it/s]\u001b[A\n",
      "20it [00:00, 87.51it/s]\u001b[A\n",
      "0it [00:00, ?it/s]\u001b[A\n",
      " 16%|█▌        | 40/250 [00:19<01:42,  2.04it/s]\n",
      "0it [00:00, ?it/s]\u001b[A\n",
      "9it [00:00, 88.23it/s]\u001b[A"
     ]
    },
    {
     "name": "stdout",
     "output_type": "stream",
     "text": [
      "Step: 39 #### Part2: Pseudo-label generation\n",
      "Step: 39 #### Part3:Train F and C using Pseudo-label\n",
      "Step: 39 #### Part4: Evaluation\n",
      "Current accuracy is:  0.2679245283018868\n",
      "Step: 40 #### Part1: Multi-way Adversarial Adaptation\n"
     ]
    },
    {
     "name": "stderr",
     "output_type": "stream",
     "text": [
      "\n",
      "18it [00:00, 88.09it/s]\u001b[A\n",
      "20it [00:00, 88.22it/s]\u001b[A\n",
      "0it [00:00, ?it/s]\u001b[A\n",
      "9it [00:00, 89.07it/s]\u001b[A\n",
      "18it [00:00, 88.08it/s]\u001b[A\n",
      "20it [00:00, 87.00it/s]\u001b[A\n",
      "0it [00:00, ?it/s]\u001b[A\n",
      " 16%|█▋        | 41/250 [00:19<01:43,  2.03it/s]\n",
      "0it [00:00, ?it/s]\u001b[A\n",
      "9it [00:00, 88.07it/s]\u001b[A"
     ]
    },
    {
     "name": "stdout",
     "output_type": "stream",
     "text": [
      "Step: 40 #### Part2: Pseudo-label generation\n",
      "Step: 40 #### Part3:Train F and C using Pseudo-label\n",
      "Step: 40 #### Part4: Evaluation\n",
      "Current accuracy is:  0.2679245283018868\n",
      "Step: 41 #### Part1: Multi-way Adversarial Adaptation\n"
     ]
    },
    {
     "name": "stderr",
     "output_type": "stream",
     "text": [
      "\n",
      "18it [00:00, 87.78it/s]\u001b[A\n",
      "20it [00:00, 87.21it/s]\u001b[A\n",
      "0it [00:00, ?it/s]\u001b[A\n",
      "9it [00:00, 85.90it/s]\u001b[A\n",
      "18it [00:00, 86.15it/s]\u001b[A\n",
      "20it [00:00, 86.19it/s]\u001b[A\n",
      "0it [00:00, ?it/s]\u001b[A\n",
      " 17%|█▋        | 42/250 [00:20<01:43,  2.01it/s]\n",
      "0it [00:00, ?it/s]\u001b[A\n",
      "9it [00:00, 87.98it/s]\u001b[A"
     ]
    },
    {
     "name": "stdout",
     "output_type": "stream",
     "text": [
      "Step: 41 #### Part2: Pseudo-label generation\n",
      "Step: 41 #### Part3:Train F and C using Pseudo-label\n",
      "Step: 41 #### Part4: Evaluation\n",
      "Current accuracy is:  0.26867924528301884\n",
      "Step: 42 #### Part1: Multi-way Adversarial Adaptation\n"
     ]
    },
    {
     "name": "stderr",
     "output_type": "stream",
     "text": [
      "\n",
      "18it [00:00, 87.25it/s]\u001b[A\n",
      "20it [00:00, 86.43it/s]\u001b[A\n",
      "0it [00:00, ?it/s]\u001b[A\n",
      "9it [00:00, 87.44it/s]\u001b[A\n",
      "18it [00:00, 87.02it/s]\u001b[A\n",
      "20it [00:00, 86.48it/s]\u001b[A\n",
      "0it [00:00, ?it/s]\u001b[A\n",
      " 17%|█▋        | 43/250 [00:20<01:43,  2.00it/s]\n",
      "0it [00:00, ?it/s]\u001b[A\n",
      "9it [00:00, 87.77it/s]\u001b[A"
     ]
    },
    {
     "name": "stdout",
     "output_type": "stream",
     "text": [
      "Step: 42 #### Part2: Pseudo-label generation\n",
      "Step: 42 #### Part3:Train F and C using Pseudo-label\n",
      "Step: 42 #### Part4: Evaluation\n",
      "Current accuracy is:  0.26943396226415095\n",
      "Step: 43 #### Part1: Multi-way Adversarial Adaptation\n"
     ]
    },
    {
     "name": "stderr",
     "output_type": "stream",
     "text": [
      "\n",
      "18it [00:00, 87.50it/s]\u001b[A\n",
      "20it [00:00, 86.98it/s]\u001b[A\n",
      "0it [00:00, ?it/s]\u001b[A\n",
      "9it [00:00, 87.94it/s]\u001b[A\n",
      "18it [00:00, 87.41it/s]\u001b[A\n",
      "20it [00:00, 86.69it/s]\u001b[A\n",
      "0it [00:00, ?it/s]\u001b[A\n",
      " 18%|█▊        | 44/250 [00:21<01:43,  1.99it/s]\n",
      "0it [00:00, ?it/s]\u001b[A\n",
      "9it [00:00, 88.35it/s]\u001b[A"
     ]
    },
    {
     "name": "stdout",
     "output_type": "stream",
     "text": [
      "Step: 43 #### Part2: Pseudo-label generation\n",
      "Step: 43 #### Part3:Train F and C using Pseudo-label\n",
      "Step: 43 #### Part4: Evaluation\n",
      "Current accuracy is:  0.2664150943396226\n",
      "Step: 44 #### Part1: Multi-way Adversarial Adaptation\n"
     ]
    },
    {
     "name": "stderr",
     "output_type": "stream",
     "text": [
      "\n",
      "18it [00:00, 87.85it/s]\u001b[A\n",
      "20it [00:00, 87.49it/s]\u001b[A\n",
      "0it [00:00, ?it/s]\u001b[A\n",
      "9it [00:00, 88.29it/s]\u001b[A\n",
      "18it [00:00, 87.42it/s]\u001b[A\n",
      "20it [00:00, 86.47it/s]\u001b[A\n",
      "0it [00:00, ?it/s]\u001b[A\n",
      " 18%|█▊        | 45/250 [00:21<01:43,  1.99it/s]\n",
      "0it [00:00, ?it/s]\u001b[A\n",
      "10it [00:00, 92.44it/s]\u001b[A"
     ]
    },
    {
     "name": "stdout",
     "output_type": "stream",
     "text": [
      "Step: 44 #### Part2: Pseudo-label generation\n",
      "Step: 44 #### Part3:Train F and C using Pseudo-label\n",
      "Step: 44 #### Part4: Evaluation\n",
      "Current accuracy is:  0.26716981132075474\n",
      "Step: 45 #### Part1: Multi-way Adversarial Adaptation\n"
     ]
    },
    {
     "name": "stderr",
     "output_type": "stream",
     "text": [
      "\n",
      "20it [00:00, 92.15it/s]\u001b[A\n",
      "0it [00:00, ?it/s]\u001b[A\n",
      "10it [00:00, 94.19it/s]\u001b[A\n",
      "19it [00:00, 91.55it/s]\u001b[A\n",
      "20it [00:00, 89.49it/s]\u001b[A\n",
      "0it [00:00, ?it/s]\u001b[A\n",
      " 18%|█▊        | 46/250 [00:22<01:41,  2.01it/s]\n",
      "0it [00:00, ?it/s]\u001b[A\n",
      "9it [00:00, 87.34it/s]\u001b[A"
     ]
    },
    {
     "name": "stdout",
     "output_type": "stream",
     "text": [
      "Step: 45 #### Part2: Pseudo-label generation\n",
      "Step: 45 #### Part3:Train F and C using Pseudo-label\n",
      "Step: 45 #### Part4: Evaluation\n",
      "Current accuracy is:  0.26490566037735847\n",
      "Step: 46 #### Part1: Multi-way Adversarial Adaptation\n"
     ]
    },
    {
     "name": "stderr",
     "output_type": "stream",
     "text": [
      "\n",
      "18it [00:00, 86.90it/s]\u001b[A\n",
      "20it [00:00, 86.16it/s]\u001b[A\n",
      "0it [00:00, ?it/s]\u001b[A\n",
      "9it [00:00, 86.88it/s]\u001b[A\n",
      "18it [00:00, 86.63it/s]\u001b[A\n",
      "20it [00:00, 86.08it/s]\u001b[A\n",
      "0it [00:00, ?it/s]\u001b[A\n",
      " 19%|█▉        | 47/250 [00:22<01:41,  2.00it/s]\n",
      "0it [00:00, ?it/s]\u001b[A\n",
      "10it [00:00, 91.12it/s]\u001b[A"
     ]
    },
    {
     "name": "stdout",
     "output_type": "stream",
     "text": [
      "Step: 46 #### Part2: Pseudo-label generation\n",
      "Step: 46 #### Part3:Train F and C using Pseudo-label\n",
      "Step: 46 #### Part4: Evaluation\n",
      "Current accuracy is:  0.2679245283018868\n",
      "Step: 47 #### Part1: Multi-way Adversarial Adaptation\n"
     ]
    },
    {
     "name": "stderr",
     "output_type": "stream",
     "text": [
      "\n",
      "19it [00:00, 89.21it/s]\u001b[A\n",
      "20it [00:00, 87.80it/s]\u001b[A\n",
      "0it [00:00, ?it/s]\u001b[A\n",
      "9it [00:00, 87.70it/s]\u001b[A\n",
      "18it [00:00, 87.38it/s]\u001b[A\n",
      "20it [00:00, 86.84it/s]\u001b[A\n",
      "0it [00:00, ?it/s]\u001b[A\n",
      " 19%|█▉        | 48/250 [00:23<01:41,  2.00it/s]\n",
      "0it [00:00, ?it/s]\u001b[A\n",
      "10it [00:00, 93.43it/s]\u001b[A"
     ]
    },
    {
     "name": "stdout",
     "output_type": "stream",
     "text": [
      "Step: 47 #### Part2: Pseudo-label generation\n",
      "Step: 47 #### Part3:Train F and C using Pseudo-label\n",
      "Step: 47 #### Part4: Evaluation\n",
      "Current accuracy is:  0.2679245283018868\n",
      "Step: 48 #### Part1: Multi-way Adversarial Adaptation\n"
     ]
    },
    {
     "name": "stderr",
     "output_type": "stream",
     "text": [
      "\n",
      "20it [00:00, 93.28it/s]\u001b[A\n",
      "0it [00:00, ?it/s]\u001b[A\n",
      "10it [00:00, 93.50it/s]\u001b[A\n",
      "20it [00:00, 93.60it/s]\u001b[A\n",
      "0it [00:00, ?it/s]\u001b[A\n",
      " 20%|█▉        | 49/250 [00:23<01:38,  2.03it/s]\n",
      "0it [00:00, ?it/s]\u001b[A\n",
      "10it [00:00, 93.38it/s]\u001b[A"
     ]
    },
    {
     "name": "stdout",
     "output_type": "stream",
     "text": [
      "Step: 48 #### Part2: Pseudo-label generation\n",
      "Step: 48 #### Part3:Train F and C using Pseudo-label\n",
      "Step: 48 #### Part4: Evaluation\n",
      "Current accuracy is:  0.2664150943396226\n",
      "Step: 49 #### Part1: Multi-way Adversarial Adaptation\n"
     ]
    },
    {
     "name": "stderr",
     "output_type": "stream",
     "text": [
      "\n",
      "19it [00:00, 91.97it/s]\u001b[A\n",
      "20it [00:00, 90.85it/s]\u001b[A\n",
      "0it [00:00, ?it/s]\u001b[A\n",
      "9it [00:00, 88.04it/s]\u001b[A\n",
      "18it [00:00, 87.39it/s]\u001b[A\n",
      "20it [00:00, 86.72it/s]\u001b[A\n",
      "0it [00:00, ?it/s]\u001b[A\n",
      " 20%|██        | 50/250 [00:24<01:38,  2.03it/s]\n",
      "0it [00:00, ?it/s]\u001b[A\n",
      "9it [00:00, 87.39it/s]\u001b[A"
     ]
    },
    {
     "name": "stdout",
     "output_type": "stream",
     "text": [
      "Step: 49 #### Part2: Pseudo-label generation\n",
      "Step: 49 #### Part3:Train F and C using Pseudo-label\n",
      "Step: 49 #### Part4: Evaluation\n",
      "Current accuracy is:  0.2664150943396226\n",
      "Step: 50 #### Part1: Multi-way Adversarial Adaptation\n"
     ]
    },
    {
     "name": "stderr",
     "output_type": "stream",
     "text": [
      "\n",
      "18it [00:00, 86.66it/s]\u001b[A\n",
      "20it [00:00, 85.26it/s]\u001b[A\n",
      "0it [00:00, ?it/s]\u001b[A\n",
      "9it [00:00, 87.89it/s]\u001b[A\n",
      "18it [00:00, 86.94it/s]\u001b[A\n",
      "20it [00:00, 85.89it/s]\u001b[A\n",
      "0it [00:00, ?it/s]\u001b[A\n",
      " 20%|██        | 51/250 [00:24<01:39,  2.01it/s]\n",
      "0it [00:00, ?it/s]\u001b[A\n",
      "9it [00:00, 88.11it/s]\u001b[A"
     ]
    },
    {
     "name": "stdout",
     "output_type": "stream",
     "text": [
      "Step: 50 #### Part2: Pseudo-label generation\n",
      "Step: 50 #### Part3:Train F and C using Pseudo-label\n",
      "Step: 50 #### Part4: Evaluation\n",
      "Current accuracy is:  0.26490566037735847\n",
      "Step: 51 #### Part1: Multi-way Adversarial Adaptation\n"
     ]
    },
    {
     "name": "stderr",
     "output_type": "stream",
     "text": [
      "\n",
      "19it [00:00, 88.89it/s]\u001b[A\n",
      "20it [00:00, 89.25it/s]\u001b[A\n",
      "0it [00:00, ?it/s]\u001b[A\n",
      "10it [00:00, 91.33it/s]\u001b[A\n",
      "19it [00:00, 89.74it/s]\u001b[A\n",
      "20it [00:00, 87.94it/s]\u001b[A\n",
      "0it [00:00, ?it/s]\u001b[A\n",
      " 21%|██        | 52/250 [00:25<01:38,  2.01it/s]\n",
      "0it [00:00, ?it/s]\u001b[A\n",
      "9it [00:00, 88.02it/s]\u001b[A"
     ]
    },
    {
     "name": "stdout",
     "output_type": "stream",
     "text": [
      "Step: 51 #### Part2: Pseudo-label generation\n",
      "Step: 51 #### Part3:Train F and C using Pseudo-label\n",
      "Step: 51 #### Part4: Evaluation\n",
      "Current accuracy is:  0.270188679245283\n",
      "Step: 52 #### Part1: Multi-way Adversarial Adaptation\n"
     ]
    },
    {
     "name": "stderr",
     "output_type": "stream",
     "text": [
      "\n",
      "18it [00:00, 87.31it/s]\u001b[A\n",
      "20it [00:00, 86.37it/s]\u001b[A\n",
      "0it [00:00, ?it/s]\u001b[A\n",
      "9it [00:00, 87.58it/s]\u001b[A\n",
      "18it [00:00, 86.85it/s]\u001b[A\n",
      "20it [00:00, 86.57it/s]\u001b[A\n",
      "0it [00:00, ?it/s]\u001b[A\n",
      " 21%|██        | 53/250 [00:25<01:38,  2.00it/s]\n",
      "0it [00:00, ?it/s]\u001b[A\n",
      "9it [00:00, 87.00it/s]\u001b[A"
     ]
    },
    {
     "name": "stdout",
     "output_type": "stream",
     "text": [
      "Step: 52 #### Part2: Pseudo-label generation\n",
      "Step: 52 #### Part3:Train F and C using Pseudo-label\n",
      "Step: 52 #### Part4: Evaluation\n",
      "Current accuracy is:  0.26943396226415095\n",
      "Step: 53 #### Part1: Multi-way Adversarial Adaptation\n"
     ]
    },
    {
     "name": "stderr",
     "output_type": "stream",
     "text": [
      "\n",
      "18it [00:00, 86.56it/s]\u001b[A\n",
      "20it [00:00, 85.91it/s]\u001b[A\n",
      "0it [00:00, ?it/s]\u001b[A\n",
      "9it [00:00, 86.96it/s]\u001b[A\n",
      "18it [00:00, 86.90it/s]\u001b[A\n",
      "20it [00:00, 86.52it/s]\u001b[A\n",
      "0it [00:00, ?it/s]\u001b[A\n",
      " 22%|██▏       | 54/250 [00:26<01:38,  1.99it/s]\n",
      "0it [00:00, ?it/s]\u001b[A\n",
      "9it [00:00, 88.06it/s]\u001b[A"
     ]
    },
    {
     "name": "stdout",
     "output_type": "stream",
     "text": [
      "Step: 53 #### Part2: Pseudo-label generation\n",
      "Step: 53 #### Part3:Train F and C using Pseudo-label\n",
      "Step: 53 #### Part4: Evaluation\n",
      "Current accuracy is:  0.26716981132075474\n",
      "Step: 54 #### Part1: Multi-way Adversarial Adaptation\n"
     ]
    },
    {
     "name": "stderr",
     "output_type": "stream",
     "text": [
      "\n",
      "19it [00:00, 89.02it/s]\u001b[A\n",
      "20it [00:00, 89.56it/s]\u001b[A\n",
      "0it [00:00, ?it/s]\u001b[A\n",
      "9it [00:00, 89.57it/s]\u001b[A\n",
      "18it [00:00, 88.79it/s]\u001b[A\n",
      "20it [00:00, 87.78it/s]\u001b[A\n",
      "0it [00:00, ?it/s]\u001b[A\n",
      " 22%|██▏       | 55/250 [00:26<01:37,  2.00it/s]\n",
      "0it [00:00, ?it/s]\u001b[A\n",
      "10it [00:00, 90.50it/s]\u001b[A"
     ]
    },
    {
     "name": "stdout",
     "output_type": "stream",
     "text": [
      "Step: 54 #### Part2: Pseudo-label generation\n",
      "Step: 54 #### Part3:Train F and C using Pseudo-label\n",
      "Step: 54 #### Part4: Evaluation\n",
      "Current accuracy is:  0.26867924528301884\n",
      "Step: 55 #### Part1: Multi-way Adversarial Adaptation\n"
     ]
    },
    {
     "name": "stderr",
     "output_type": "stream",
     "text": [
      "\n",
      "19it [00:00, 88.93it/s]\u001b[A\n",
      "20it [00:00, 87.78it/s]\u001b[A\n",
      "0it [00:00, ?it/s]\u001b[A\n",
      "9it [00:00, 88.63it/s]\u001b[A\n",
      "18it [00:00, 88.03it/s]\u001b[A\n",
      "20it [00:00, 87.26it/s]\u001b[A\n",
      "0it [00:00, ?it/s]\u001b[A\n",
      " 22%|██▏       | 56/250 [00:27<01:37,  2.00it/s]\n",
      "0it [00:00, ?it/s]\u001b[A\n",
      "9it [00:00, 88.16it/s]\u001b[A"
     ]
    },
    {
     "name": "stdout",
     "output_type": "stream",
     "text": [
      "Step: 55 #### Part2: Pseudo-label generation\n",
      "Step: 55 #### Part3:Train F and C using Pseudo-label\n",
      "Step: 55 #### Part4: Evaluation\n",
      "Current accuracy is:  0.2664150943396226\n",
      "Step: 56 #### Part1: Multi-way Adversarial Adaptation\n"
     ]
    },
    {
     "name": "stderr",
     "output_type": "stream",
     "text": [
      "\n",
      "18it [00:00, 87.38it/s]\u001b[A\n",
      "20it [00:00, 86.60it/s]\u001b[A\n",
      "0it [00:00, ?it/s]\u001b[A\n",
      "9it [00:00, 88.64it/s]\u001b[A\n",
      "18it [00:00, 88.21it/s]\u001b[A\n",
      "20it [00:00, 87.98it/s]\u001b[A\n",
      "0it [00:00, ?it/s]\u001b[A\n",
      " 23%|██▎       | 57/250 [00:27<01:36,  2.00it/s]\n",
      "0it [00:00, ?it/s]\u001b[A\n",
      "10it [00:00, 93.68it/s]\u001b[A"
     ]
    },
    {
     "name": "stdout",
     "output_type": "stream",
     "text": [
      "Step: 56 #### Part2: Pseudo-label generation\n",
      "Step: 56 #### Part3:Train F and C using Pseudo-label\n",
      "Step: 56 #### Part4: Evaluation\n",
      "Current accuracy is:  0.2679245283018868\n",
      "Step: 57 #### Part1: Multi-way Adversarial Adaptation\n"
     ]
    },
    {
     "name": "stderr",
     "output_type": "stream",
     "text": [
      "\n",
      "20it [00:00, 93.42it/s]\u001b[A\n",
      "0it [00:00, ?it/s]\u001b[A\n",
      "9it [00:00, 89.54it/s]\u001b[A\n",
      "18it [00:00, 88.52it/s]\u001b[A\n",
      "20it [00:00, 87.76it/s]\u001b[A\n",
      "0it [00:00, ?it/s]\u001b[A\n",
      " 23%|██▎       | 58/250 [00:28<01:35,  2.02it/s]\n",
      "0it [00:00, ?it/s]\u001b[A\n",
      "9it [00:00, 86.33it/s]\u001b[A"
     ]
    },
    {
     "name": "stdout",
     "output_type": "stream",
     "text": [
      "Step: 57 #### Part2: Pseudo-label generation\n",
      "Step: 57 #### Part3:Train F and C using Pseudo-label\n",
      "Step: 57 #### Part4: Evaluation\n",
      "Current accuracy is:  0.26867924528301884\n",
      "Step: 58 #### Part1: Multi-way Adversarial Adaptation\n"
     ]
    },
    {
     "name": "stderr",
     "output_type": "stream",
     "text": [
      "\n",
      "19it [00:00, 87.85it/s]\u001b[A\n",
      "20it [00:00, 88.92it/s]\u001b[A\n",
      "0it [00:00, ?it/s]\u001b[A\n",
      "10it [00:00, 91.25it/s]\u001b[A\n",
      "19it [00:00, 89.31it/s]\u001b[A\n",
      "20it [00:00, 87.43it/s]\u001b[A\n",
      "0it [00:00, ?it/s]\u001b[A\n",
      " 24%|██▎       | 59/250 [00:28<01:35,  2.01it/s]\n",
      "0it [00:00, ?it/s]\u001b[A\n",
      "9it [00:00, 88.44it/s]\u001b[A"
     ]
    },
    {
     "name": "stdout",
     "output_type": "stream",
     "text": [
      "Step: 58 #### Part2: Pseudo-label generation\n",
      "Step: 58 #### Part3:Train F and C using Pseudo-label\n",
      "Step: 58 #### Part4: Evaluation\n",
      "Current accuracy is:  0.2641509433962264\n",
      "Step: 59 #### Part1: Multi-way Adversarial Adaptation\n"
     ]
    },
    {
     "name": "stderr",
     "output_type": "stream",
     "text": [
      "\n",
      "18it [00:00, 87.72it/s]\u001b[A\n",
      "20it [00:00, 87.35it/s]\u001b[A\n",
      "0it [00:00, ?it/s]\u001b[A\n",
      "10it [00:00, 94.06it/s]\u001b[A\n",
      "19it [00:00, 92.15it/s]\u001b[A\n",
      "20it [00:00, 90.80it/s]\u001b[A\n",
      "0it [00:00, ?it/s]\u001b[A\n",
      " 24%|██▍       | 60/250 [00:29<01:34,  2.01it/s]\n",
      "0it [00:00, ?it/s]\u001b[A\n",
      "9it [00:00, 87.92it/s]\u001b[A"
     ]
    },
    {
     "name": "stdout",
     "output_type": "stream",
     "text": [
      "Step: 59 #### Part2: Pseudo-label generation\n",
      "Step: 59 #### Part3:Train F and C using Pseudo-label\n",
      "Step: 59 #### Part4: Evaluation\n",
      "Current accuracy is:  0.2656603773584906\n",
      "Step: 60 #### Part1: Multi-way Adversarial Adaptation\n"
     ]
    },
    {
     "name": "stderr",
     "output_type": "stream",
     "text": [
      "\n",
      "18it [00:00, 87.23it/s]\u001b[A\n",
      "20it [00:00, 86.72it/s]\u001b[A\n",
      "0it [00:00, ?it/s]\u001b[A\n",
      "9it [00:00, 87.86it/s]\u001b[A\n",
      "18it [00:00, 87.42it/s]\u001b[A\n",
      "20it [00:00, 86.84it/s]\u001b[A\n",
      "0it [00:00, ?it/s]\u001b[A\n",
      " 24%|██▍       | 61/250 [00:29<01:34,  2.00it/s]\n",
      "0it [00:00, ?it/s]\u001b[A\n",
      "10it [00:00, 91.54it/s]\u001b[A"
     ]
    },
    {
     "name": "stdout",
     "output_type": "stream",
     "text": [
      "Step: 60 #### Part2: Pseudo-label generation\n",
      "Step: 60 #### Part3:Train F and C using Pseudo-label\n",
      "Step: 60 #### Part4: Evaluation\n",
      "Current accuracy is:  0.2664150943396226\n",
      "Step: 61 #### Part1: Multi-way Adversarial Adaptation\n"
     ]
    },
    {
     "name": "stderr",
     "output_type": "stream",
     "text": [
      "\n",
      "19it [00:00, 89.93it/s]\u001b[A\n",
      "20it [00:00, 88.50it/s]\u001b[A\n",
      "0it [00:00, ?it/s]\u001b[A\n",
      "9it [00:00, 87.79it/s]\u001b[A\n",
      "18it [00:00, 87.48it/s]\u001b[A\n",
      "20it [00:00, 86.89it/s]\u001b[A\n",
      "0it [00:00, ?it/s]\u001b[A\n",
      " 25%|██▍       | 62/250 [00:30<01:34,  1.99it/s]\n",
      "0it [00:00, ?it/s]\u001b[A\n",
      "9it [00:00, 86.37it/s]\u001b[A"
     ]
    },
    {
     "name": "stdout",
     "output_type": "stream",
     "text": [
      "Step: 61 #### Part2: Pseudo-label generation\n",
      "Step: 61 #### Part3:Train F and C using Pseudo-label\n",
      "Step: 61 #### Part4: Evaluation\n",
      "Current accuracy is:  0.26867924528301884\n",
      "Step: 62 #### Part1: Multi-way Adversarial Adaptation\n"
     ]
    },
    {
     "name": "stderr",
     "output_type": "stream",
     "text": [
      "\n",
      "18it [00:00, 86.35it/s]\u001b[A\n",
      "20it [00:00, 86.18it/s]\u001b[A\n",
      "0it [00:00, ?it/s]\u001b[A\n",
      "9it [00:00, 87.80it/s]\u001b[A\n",
      "18it [00:00, 87.91it/s]\u001b[A\n",
      "20it [00:00, 87.57it/s]\u001b[A\n",
      "0it [00:00, ?it/s]\u001b[A\n",
      " 25%|██▌       | 63/250 [00:30<01:33,  1.99it/s]\n",
      "0it [00:00, ?it/s]\u001b[A\n",
      "9it [00:00, 88.49it/s]\u001b[A"
     ]
    },
    {
     "name": "stdout",
     "output_type": "stream",
     "text": [
      "Step: 62 #### Part2: Pseudo-label generation\n",
      "Step: 62 #### Part3:Train F and C using Pseudo-label\n",
      "Step: 62 #### Part4: Evaluation\n",
      "Current accuracy is:  0.26867924528301884\n",
      "Step: 63 #### Part1: Multi-way Adversarial Adaptation\n"
     ]
    },
    {
     "name": "stderr",
     "output_type": "stream",
     "text": [
      "\n",
      "18it [00:00, 87.79it/s]\u001b[A\n",
      "20it [00:00, 86.87it/s]\u001b[A\n",
      "0it [00:00, ?it/s]\u001b[A\n",
      "10it [00:00, 90.62it/s]\u001b[A\n",
      "19it [00:00, 89.91it/s]\u001b[A\n",
      "20it [00:00, 89.17it/s]\u001b[A\n",
      "0it [00:00, ?it/s]\u001b[A\n",
      " 26%|██▌       | 64/250 [00:31<01:33,  1.99it/s]\n",
      "0it [00:00, ?it/s]\u001b[A\n",
      "9it [00:00, 87.69it/s]\u001b[A"
     ]
    },
    {
     "name": "stdout",
     "output_type": "stream",
     "text": [
      "Step: 63 #### Part2: Pseudo-label generation\n",
      "Step: 63 #### Part3:Train F and C using Pseudo-label\n",
      "Step: 63 #### Part4: Evaluation\n",
      "Current accuracy is:  0.26716981132075474\n",
      "Step: 64 #### Part1: Multi-way Adversarial Adaptation\n"
     ]
    },
    {
     "name": "stderr",
     "output_type": "stream",
     "text": [
      "\n",
      "18it [00:00, 87.12it/s]\u001b[A\n",
      "20it [00:00, 86.45it/s]\u001b[A\n",
      "0it [00:00, ?it/s]\u001b[A\n",
      "10it [00:00, 93.68it/s]\u001b[A\n",
      "20it [00:00, 93.55it/s]\u001b[A\n",
      "0it [00:00, ?it/s]\u001b[A\n",
      " 26%|██▌       | 65/250 [00:31<01:32,  2.01it/s]\n",
      "0it [00:00, ?it/s]\u001b[A\n",
      "10it [00:00, 93.86it/s]\u001b[A"
     ]
    },
    {
     "name": "stdout",
     "output_type": "stream",
     "text": [
      "Step: 64 #### Part2: Pseudo-label generation\n",
      "Step: 64 #### Part3:Train F and C using Pseudo-label\n",
      "Step: 64 #### Part4: Evaluation\n",
      "Current accuracy is:  0.26490566037735847\n",
      "Step: 65 #### Part1: Multi-way Adversarial Adaptation\n"
     ]
    },
    {
     "name": "stderr",
     "output_type": "stream",
     "text": [
      "\n",
      "20it [00:00, 93.10it/s]\u001b[A\n",
      "0it [00:00, ?it/s]\u001b[A\n",
      "10it [00:00, 92.41it/s]\u001b[A\n",
      "20it [00:00, 92.59it/s]\u001b[A\n",
      "0it [00:00, ?it/s]\u001b[A\n",
      " 26%|██▋       | 66/250 [00:32<01:30,  2.04it/s]\n",
      "0it [00:00, ?it/s]\u001b[A\n",
      "10it [00:00, 93.63it/s]\u001b[A"
     ]
    },
    {
     "name": "stdout",
     "output_type": "stream",
     "text": [
      "Step: 65 #### Part2: Pseudo-label generation\n",
      "Step: 65 #### Part3:Train F and C using Pseudo-label\n",
      "Step: 65 #### Part4: Evaluation\n",
      "Current accuracy is:  0.26490566037735847\n",
      "Step: 66 #### Part1: Multi-way Adversarial Adaptation\n"
     ]
    },
    {
     "name": "stderr",
     "output_type": "stream",
     "text": [
      "\n",
      "20it [00:00, 93.10it/s]\u001b[A\n",
      "0it [00:00, ?it/s]\u001b[A\n",
      "10it [00:00, 94.16it/s]\u001b[A\n",
      "20it [00:00, 93.65it/s]\u001b[A\n",
      "0it [00:00, ?it/s]\u001b[A\n",
      " 27%|██▋       | 67/250 [00:32<01:28,  2.06it/s]\n",
      "0it [00:00, ?it/s]\u001b[A\n",
      "10it [00:00, 93.85it/s]\u001b[A"
     ]
    },
    {
     "name": "stdout",
     "output_type": "stream",
     "text": [
      "Step: 66 #### Part2: Pseudo-label generation\n",
      "Step: 66 #### Part3:Train F and C using Pseudo-label\n",
      "Step: 66 #### Part4: Evaluation\n",
      "Current accuracy is:  0.26943396226415095\n",
      "Step: 67 #### Part1: Multi-way Adversarial Adaptation\n"
     ]
    },
    {
     "name": "stderr",
     "output_type": "stream",
     "text": [
      "\n",
      "20it [00:00, 92.98it/s]\u001b[A\n",
      "0it [00:00, ?it/s]\u001b[A\n",
      "10it [00:00, 94.68it/s]\u001b[A\n",
      "20it [00:00, 94.35it/s]\u001b[A\n",
      "0it [00:00, ?it/s]\u001b[A\n",
      " 27%|██▋       | 68/250 [00:33<01:27,  2.08it/s]\n",
      "0it [00:00, ?it/s]\u001b[A\n",
      "10it [00:00, 93.61it/s]\u001b[A"
     ]
    },
    {
     "name": "stdout",
     "output_type": "stream",
     "text": [
      "Step: 67 #### Part2: Pseudo-label generation\n",
      "Step: 67 #### Part3:Train F and C using Pseudo-label\n",
      "Step: 67 #### Part4: Evaluation\n",
      "Current accuracy is:  0.2656603773584906\n",
      "Step: 68 #### Part1: Multi-way Adversarial Adaptation\n"
     ]
    },
    {
     "name": "stderr",
     "output_type": "stream",
     "text": [
      "\n",
      "20it [00:00, 93.25it/s]\u001b[A\n",
      "0it [00:00, ?it/s]\u001b[A\n",
      "10it [00:00, 94.80it/s]\u001b[A\n",
      "20it [00:00, 94.25it/s]\u001b[A\n",
      "0it [00:00, ?it/s]\u001b[A\n",
      " 28%|██▊       | 69/250 [00:33<01:26,  2.09it/s]\n",
      "0it [00:00, ?it/s]\u001b[A\n",
      "10it [00:00, 93.92it/s]\u001b[A"
     ]
    },
    {
     "name": "stdout",
     "output_type": "stream",
     "text": [
      "Step: 68 #### Part2: Pseudo-label generation\n",
      "Step: 68 #### Part3:Train F and C using Pseudo-label\n",
      "Step: 68 #### Part4: Evaluation\n",
      "Current accuracy is:  0.2664150943396226\n",
      "Step: 69 #### Part1: Multi-way Adversarial Adaptation\n"
     ]
    },
    {
     "name": "stderr",
     "output_type": "stream",
     "text": [
      "\n",
      "20it [00:00, 93.61it/s]\u001b[A\n",
      "0it [00:00, ?it/s]\u001b[A\n",
      "10it [00:00, 93.65it/s]\u001b[A\n",
      "20it [00:00, 93.48it/s]\u001b[A\n",
      "0it [00:00, ?it/s]\u001b[A\n",
      " 28%|██▊       | 70/250 [00:34<01:25,  2.10it/s]\n",
      "0it [00:00, ?it/s]\u001b[A\n",
      "10it [00:00, 94.15it/s]\u001b[A"
     ]
    },
    {
     "name": "stdout",
     "output_type": "stream",
     "text": [
      "Step: 69 #### Part2: Pseudo-label generation\n",
      "Step: 69 #### Part3:Train F and C using Pseudo-label\n",
      "Step: 69 #### Part4: Evaluation\n",
      "Current accuracy is:  0.2724528301886792\n",
      "Step: 70 #### Part1: Multi-way Adversarial Adaptation\n"
     ]
    },
    {
     "name": "stderr",
     "output_type": "stream",
     "text": [
      "\n",
      "20it [00:00, 93.52it/s]\u001b[A\n",
      "0it [00:00, ?it/s]\u001b[A\n",
      "10it [00:00, 88.20it/s]\u001b[A\n",
      "19it [00:00, 87.20it/s]\u001b[A\n",
      "20it [00:00, 86.34it/s]\u001b[A\n",
      "0it [00:00, ?it/s]\u001b[A\n",
      " 28%|██▊       | 71/250 [00:34<01:26,  2.07it/s]\n",
      "0it [00:00, ?it/s]\u001b[A\n",
      "9it [00:00, 88.82it/s]\u001b[A"
     ]
    },
    {
     "name": "stdout",
     "output_type": "stream",
     "text": [
      "Step: 70 #### Part2: Pseudo-label generation\n",
      "Step: 70 #### Part3:Train F and C using Pseudo-label\n",
      "Step: 70 #### Part4: Evaluation\n",
      "Current accuracy is:  0.2656603773584906\n",
      "Step: 71 #### Part1: Multi-way Adversarial Adaptation\n"
     ]
    },
    {
     "name": "stderr",
     "output_type": "stream",
     "text": [
      "\n",
      "19it [00:00, 89.52it/s]\u001b[A\n",
      "20it [00:00, 90.08it/s]\u001b[A\n",
      "0it [00:00, ?it/s]\u001b[A\n",
      "10it [00:00, 94.01it/s]\u001b[A\n",
      "20it [00:00, 93.64it/s]\u001b[A\n",
      "0it [00:00, ?it/s]\u001b[A\n",
      " 29%|██▉       | 72/250 [00:35<01:25,  2.07it/s]\n",
      "0it [00:00, ?it/s]\u001b[A\n",
      "10it [00:00, 92.60it/s]\u001b[A"
     ]
    },
    {
     "name": "stdout",
     "output_type": "stream",
     "text": [
      "Step: 71 #### Part2: Pseudo-label generation\n",
      "Step: 71 #### Part3:Train F and C using Pseudo-label\n",
      "Step: 71 #### Part4: Evaluation\n",
      "Current accuracy is:  0.2664150943396226\n",
      "Step: 72 #### Part1: Multi-way Adversarial Adaptation\n"
     ]
    },
    {
     "name": "stderr",
     "output_type": "stream",
     "text": [
      "\n",
      "20it [00:00, 92.40it/s]\u001b[A\n",
      "0it [00:00, ?it/s]\u001b[A\n",
      "10it [00:00, 94.34it/s]\u001b[A\n",
      "20it [00:00, 93.97it/s]\u001b[A\n",
      "0it [00:00, ?it/s]\u001b[A\n",
      " 29%|██▉       | 73/250 [00:35<01:24,  2.09it/s]\n",
      "0it [00:00, ?it/s]\u001b[A\n",
      "10it [00:00, 93.98it/s]\u001b[A"
     ]
    },
    {
     "name": "stdout",
     "output_type": "stream",
     "text": [
      "Step: 72 #### Part2: Pseudo-label generation\n",
      "Step: 72 #### Part3:Train F and C using Pseudo-label\n",
      "Step: 72 #### Part4: Evaluation\n",
      "Current accuracy is:  0.26867924528301884\n",
      "Step: 73 #### Part1: Multi-way Adversarial Adaptation\n"
     ]
    },
    {
     "name": "stderr",
     "output_type": "stream",
     "text": [
      "\n",
      "20it [00:00, 92.80it/s]\u001b[A\n",
      "0it [00:00, ?it/s]\u001b[A\n",
      "9it [00:00, 87.37it/s]\u001b[A\n",
      "18it [00:00, 87.07it/s]\u001b[A\n",
      "20it [00:00, 86.13it/s]\u001b[A\n",
      "0it [00:00, ?it/s]\u001b[A\n",
      " 30%|██▉       | 74/250 [00:36<01:25,  2.06it/s]\n",
      "0it [00:00, ?it/s]\u001b[A\n",
      "10it [00:00, 93.22it/s]\u001b[A"
     ]
    },
    {
     "name": "stdout",
     "output_type": "stream",
     "text": [
      "Step: 73 #### Part2: Pseudo-label generation\n",
      "Step: 73 #### Part3:Train F and C using Pseudo-label\n",
      "Step: 73 #### Part4: Evaluation\n",
      "Current accuracy is:  0.2641509433962264\n",
      "Step: 74 #### Part1: Multi-way Adversarial Adaptation\n"
     ]
    },
    {
     "name": "stderr",
     "output_type": "stream",
     "text": [
      "\n",
      "20it [00:00, 92.79it/s]\u001b[A\n",
      "0it [00:00, ?it/s]\u001b[A\n",
      "10it [00:00, 95.12it/s]\u001b[A\n",
      "20it [00:00, 94.61it/s]\u001b[A\n",
      "0it [00:00, ?it/s]\u001b[A\n",
      " 30%|███       | 75/250 [00:36<01:24,  2.07it/s]\n",
      "0it [00:00, ?it/s]\u001b[A\n",
      "9it [00:00, 88.22it/s]\u001b[A"
     ]
    },
    {
     "name": "stdout",
     "output_type": "stream",
     "text": [
      "Step: 74 #### Part2: Pseudo-label generation\n",
      "Step: 74 #### Part3:Train F and C using Pseudo-label\n",
      "Step: 74 #### Part4: Evaluation\n",
      "Current accuracy is:  0.26943396226415095\n",
      "Step: 75 #### Part1: Multi-way Adversarial Adaptation\n"
     ]
    },
    {
     "name": "stderr",
     "output_type": "stream",
     "text": [
      "\n",
      "18it [00:00, 87.60it/s]\u001b[A\n",
      "20it [00:00, 86.82it/s]\u001b[A\n",
      "0it [00:00, ?it/s]\u001b[A\n",
      "9it [00:00, 86.20it/s]\u001b[A\n",
      "18it [00:00, 86.95it/s]\u001b[A\n",
      "20it [00:00, 87.61it/s]\u001b[A\n",
      "0it [00:00, ?it/s]\u001b[A\n",
      " 30%|███       | 76/250 [00:37<01:25,  2.05it/s]\n",
      "0it [00:00, ?it/s]\u001b[A\n",
      "10it [00:00, 93.40it/s]\u001b[A"
     ]
    },
    {
     "name": "stdout",
     "output_type": "stream",
     "text": [
      "Step: 75 #### Part2: Pseudo-label generation\n",
      "Step: 75 #### Part3:Train F and C using Pseudo-label\n",
      "Step: 75 #### Part4: Evaluation\n",
      "Current accuracy is:  0.2656603773584906\n",
      "Step: 76 #### Part1: Multi-way Adversarial Adaptation\n"
     ]
    },
    {
     "name": "stderr",
     "output_type": "stream",
     "text": [
      "\n",
      "20it [00:00, 92.84it/s]\u001b[A\n",
      "0it [00:00, ?it/s]\u001b[A\n",
      "10it [00:00, 94.87it/s]\u001b[A\n",
      "20it [00:00, 94.48it/s]\u001b[A\n",
      "0it [00:00, ?it/s]\u001b[A\n",
      " 31%|███       | 77/250 [00:37<01:23,  2.07it/s]\n",
      "0it [00:00, ?it/s]\u001b[A\n",
      "10it [00:00, 94.05it/s]\u001b[A"
     ]
    },
    {
     "name": "stdout",
     "output_type": "stream",
     "text": [
      "Step: 76 #### Part2: Pseudo-label generation\n",
      "Step: 76 #### Part3:Train F and C using Pseudo-label\n",
      "Step: 76 #### Part4: Evaluation\n",
      "Current accuracy is:  0.26490566037735847\n",
      "Step: 77 #### Part1: Multi-way Adversarial Adaptation\n"
     ]
    },
    {
     "name": "stderr",
     "output_type": "stream",
     "text": [
      "\n",
      "20it [00:00, 93.47it/s]\u001b[A\n",
      "0it [00:00, ?it/s]\u001b[A\n",
      "9it [00:00, 87.62it/s]\u001b[A\n",
      "18it [00:00, 87.26it/s]\u001b[A\n",
      "20it [00:00, 86.63it/s]\u001b[A\n",
      "0it [00:00, ?it/s]\u001b[A\n",
      " 31%|███       | 78/250 [00:38<01:23,  2.06it/s]\n",
      "0it [00:00, ?it/s]\u001b[A\n",
      "10it [00:00, 91.73it/s]\u001b[A"
     ]
    },
    {
     "name": "stdout",
     "output_type": "stream",
     "text": [
      "Step: 77 #### Part2: Pseudo-label generation\n",
      "Step: 77 #### Part3:Train F and C using Pseudo-label\n",
      "Step: 77 #### Part4: Evaluation\n",
      "Current accuracy is:  0.2679245283018868\n",
      "Step: 78 #### Part1: Multi-way Adversarial Adaptation\n"
     ]
    },
    {
     "name": "stderr",
     "output_type": "stream",
     "text": [
      "\n",
      "20it [00:00, 91.75it/s]\u001b[A\n",
      "0it [00:00, ?it/s]\u001b[A\n",
      "10it [00:00, 94.15it/s]\u001b[A\n",
      "20it [00:00, 93.96it/s]\u001b[A\n",
      "0it [00:00, ?it/s]\u001b[A\n",
      " 32%|███▏      | 79/250 [00:38<01:22,  2.07it/s]\n",
      "0it [00:00, ?it/s]\u001b[A\n",
      "10it [00:00, 93.59it/s]\u001b[A"
     ]
    },
    {
     "name": "stdout",
     "output_type": "stream",
     "text": [
      "Step: 78 #### Part2: Pseudo-label generation\n",
      "Step: 78 #### Part3:Train F and C using Pseudo-label\n",
      "Step: 78 #### Part4: Evaluation\n",
      "Current accuracy is:  0.2664150943396226\n",
      "Step: 79 #### Part1: Multi-way Adversarial Adaptation\n"
     ]
    },
    {
     "name": "stderr",
     "output_type": "stream",
     "text": [
      "\n",
      "20it [00:00, 93.24it/s]\u001b[A\n",
      "0it [00:00, ?it/s]\u001b[A\n",
      "10it [00:00, 94.98it/s]\u001b[A\n",
      "20it [00:00, 94.61it/s]\u001b[A\n",
      "0it [00:00, ?it/s]\u001b[A\n",
      " 32%|███▏      | 80/250 [00:39<01:21,  2.09it/s]\n",
      "0it [00:00, ?it/s]\u001b[A\n",
      "10it [00:00, 93.57it/s]\u001b[A"
     ]
    },
    {
     "name": "stdout",
     "output_type": "stream",
     "text": [
      "Step: 79 #### Part2: Pseudo-label generation\n",
      "Step: 79 #### Part3:Train F and C using Pseudo-label\n",
      "Step: 79 #### Part4: Evaluation\n",
      "Current accuracy is:  0.2664150943396226\n",
      "Step: 80 #### Part1: Multi-way Adversarial Adaptation\n"
     ]
    },
    {
     "name": "stderr",
     "output_type": "stream",
     "text": [
      "\n",
      "20it [00:00, 93.27it/s]\u001b[A\n",
      "0it [00:00, ?it/s]\u001b[A\n",
      "10it [00:00, 94.46it/s]\u001b[A\n",
      "20it [00:00, 94.21it/s]\u001b[A\n",
      "0it [00:00, ?it/s]\u001b[A\n",
      " 32%|███▏      | 81/250 [00:39<01:20,  2.10it/s]\n",
      "0it [00:00, ?it/s]\u001b[A\n",
      "10it [00:00, 93.98it/s]\u001b[A"
     ]
    },
    {
     "name": "stdout",
     "output_type": "stream",
     "text": [
      "Step: 80 #### Part2: Pseudo-label generation\n",
      "Step: 80 #### Part3:Train F and C using Pseudo-label\n",
      "Step: 80 #### Part4: Evaluation\n",
      "Current accuracy is:  0.270188679245283\n",
      "Step: 81 #### Part1: Multi-way Adversarial Adaptation\n"
     ]
    },
    {
     "name": "stderr",
     "output_type": "stream",
     "text": [
      "\n",
      "19it [00:00, 92.62it/s]\u001b[A\n",
      "20it [00:00, 91.45it/s]\u001b[A\n",
      "0it [00:00, ?it/s]\u001b[A\n",
      "9it [00:00, 87.64it/s]\u001b[A\n",
      "18it [00:00, 87.32it/s]\u001b[A\n",
      "20it [00:00, 86.64it/s]\u001b[A\n",
      "0it [00:00, ?it/s]\u001b[A\n",
      " 33%|███▎      | 82/250 [00:40<01:20,  2.08it/s]\n",
      "0it [00:00, ?it/s]\u001b[A\n",
      "10it [00:00, 93.69it/s]\u001b[A"
     ]
    },
    {
     "name": "stdout",
     "output_type": "stream",
     "text": [
      "Step: 81 #### Part2: Pseudo-label generation\n",
      "Step: 81 #### Part3:Train F and C using Pseudo-label\n",
      "Step: 81 #### Part4: Evaluation\n",
      "Current accuracy is:  0.26716981132075474\n",
      "Step: 82 #### Part1: Multi-way Adversarial Adaptation\n"
     ]
    },
    {
     "name": "stderr",
     "output_type": "stream",
     "text": [
      "\n",
      "20it [00:00, 93.41it/s]\u001b[A\n",
      "0it [00:00, ?it/s]\u001b[A\n",
      "10it [00:00, 94.76it/s]\u001b[A\n",
      "20it [00:00, 94.26it/s]\u001b[A\n",
      "0it [00:00, ?it/s]\u001b[A\n",
      " 33%|███▎      | 83/250 [00:40<01:19,  2.09it/s]\n",
      "0it [00:00, ?it/s]\u001b[A\n",
      "10it [00:00, 93.23it/s]\u001b[A"
     ]
    },
    {
     "name": "stdout",
     "output_type": "stream",
     "text": [
      "Step: 82 #### Part2: Pseudo-label generation\n",
      "Step: 82 #### Part3:Train F and C using Pseudo-label\n",
      "Step: 82 #### Part4: Evaluation\n",
      "Current accuracy is:  0.26339622641509436\n",
      "Step: 83 #### Part1: Multi-way Adversarial Adaptation\n"
     ]
    },
    {
     "name": "stderr",
     "output_type": "stream",
     "text": [
      "\n",
      "20it [00:00, 93.14it/s]\u001b[A\n",
      "0it [00:00, ?it/s]\u001b[A\n",
      "10it [00:00, 94.64it/s]\u001b[A\n",
      "20it [00:00, 94.39it/s]\u001b[A\n",
      "0it [00:00, ?it/s]\u001b[A\n",
      " 34%|███▎      | 84/250 [00:41<01:18,  2.10it/s]\n",
      "0it [00:00, ?it/s]\u001b[A\n",
      "10it [00:00, 94.09it/s]\u001b[A"
     ]
    },
    {
     "name": "stdout",
     "output_type": "stream",
     "text": [
      "Step: 83 #### Part2: Pseudo-label generation\n",
      "Step: 83 #### Part3:Train F and C using Pseudo-label\n",
      "Step: 83 #### Part4: Evaluation\n",
      "Current accuracy is:  0.2641509433962264\n",
      "Step: 84 #### Part1: Multi-way Adversarial Adaptation\n"
     ]
    },
    {
     "name": "stderr",
     "output_type": "stream",
     "text": [
      "\n",
      "20it [00:00, 93.94it/s]\u001b[A\n",
      "0it [00:00, ?it/s]\u001b[A\n",
      "10it [00:00, 95.66it/s]\u001b[A\n",
      "20it [00:00, 95.20it/s]\u001b[A\n",
      "0it [00:00, ?it/s]\u001b[A\n",
      " 34%|███▍      | 85/250 [00:41<01:18,  2.11it/s]\n",
      "0it [00:00, ?it/s]\u001b[A\n",
      "10it [00:00, 92.61it/s]\u001b[A"
     ]
    },
    {
     "name": "stdout",
     "output_type": "stream",
     "text": [
      "Step: 84 #### Part2: Pseudo-label generation\n",
      "Step: 84 #### Part3:Train F and C using Pseudo-label\n",
      "Step: 84 #### Part4: Evaluation\n",
      "Current accuracy is:  0.2679245283018868\n",
      "Step: 85 #### Part1: Multi-way Adversarial Adaptation\n"
     ]
    },
    {
     "name": "stderr",
     "output_type": "stream",
     "text": [
      "\n",
      "20it [00:00, 92.63it/s]\u001b[A\n",
      "0it [00:00, ?it/s]\u001b[A\n",
      "10it [00:00, 93.85it/s]\u001b[A\n",
      "20it [00:00, 93.79it/s]\u001b[A\n",
      "0it [00:00, ?it/s]\u001b[A\n",
      " 34%|███▍      | 86/250 [00:42<01:17,  2.11it/s]\n",
      "0it [00:00, ?it/s]\u001b[A\n",
      "10it [00:00, 92.09it/s]\u001b[A"
     ]
    },
    {
     "name": "stdout",
     "output_type": "stream",
     "text": [
      "Step: 85 #### Part2: Pseudo-label generation\n",
      "Step: 85 #### Part3:Train F and C using Pseudo-label\n",
      "Step: 85 #### Part4: Evaluation\n",
      "Current accuracy is:  0.2679245283018868\n",
      "Step: 86 #### Part1: Multi-way Adversarial Adaptation\n"
     ]
    },
    {
     "name": "stderr",
     "output_type": "stream",
     "text": [
      "\n",
      "20it [00:00, 92.09it/s]\u001b[A\n",
      "0it [00:00, ?it/s]\u001b[A\n",
      "10it [00:00, 94.13it/s]\u001b[A\n",
      "20it [00:00, 93.83it/s]\u001b[A\n",
      "0it [00:00, ?it/s]\u001b[A\n",
      " 35%|███▍      | 87/250 [00:42<01:17,  2.11it/s]\n",
      "0it [00:00, ?it/s]\u001b[A\n",
      "10it [00:00, 93.66it/s]\u001b[A"
     ]
    },
    {
     "name": "stdout",
     "output_type": "stream",
     "text": [
      "Step: 86 #### Part2: Pseudo-label generation\n",
      "Step: 86 #### Part3:Train F and C using Pseudo-label\n",
      "Step: 86 #### Part4: Evaluation\n",
      "Current accuracy is:  0.26716981132075474\n",
      "Step: 87 #### Part1: Multi-way Adversarial Adaptation\n"
     ]
    },
    {
     "name": "stderr",
     "output_type": "stream",
     "text": [
      "\n",
      "20it [00:00, 93.54it/s]\u001b[A\n",
      "0it [00:00, ?it/s]\u001b[A\n",
      "10it [00:00, 93.33it/s]\u001b[A\n",
      "20it [00:00, 93.11it/s]\u001b[A\n",
      "0it [00:00, ?it/s]\u001b[A\n",
      " 35%|███▌      | 88/250 [00:42<01:16,  2.11it/s]\n",
      "0it [00:00, ?it/s]\u001b[A\n",
      "10it [00:00, 92.88it/s]\u001b[A"
     ]
    },
    {
     "name": "stdout",
     "output_type": "stream",
     "text": [
      "Step: 87 #### Part2: Pseudo-label generation\n",
      "Step: 87 #### Part3:Train F and C using Pseudo-label\n",
      "Step: 87 #### Part4: Evaluation\n",
      "Current accuracy is:  0.2656603773584906\n",
      "Step: 88 #### Part1: Multi-way Adversarial Adaptation\n"
     ]
    },
    {
     "name": "stderr",
     "output_type": "stream",
     "text": [
      "\n",
      "20it [00:00, 92.93it/s]\u001b[A\n",
      "0it [00:00, ?it/s]\u001b[A\n",
      "10it [00:00, 94.76it/s]\u001b[A\n",
      "20it [00:00, 93.66it/s]\u001b[A\n",
      "0it [00:00, ?it/s]\u001b[A\n",
      " 36%|███▌      | 89/250 [00:43<01:16,  2.11it/s]\n",
      "0it [00:00, ?it/s]\u001b[A\n",
      "10it [00:00, 93.82it/s]\u001b[A"
     ]
    },
    {
     "name": "stdout",
     "output_type": "stream",
     "text": [
      "Step: 88 #### Part2: Pseudo-label generation\n",
      "Step: 88 #### Part3:Train F and C using Pseudo-label\n",
      "Step: 88 #### Part4: Evaluation\n",
      "Current accuracy is:  0.26867924528301884\n",
      "Step: 89 #### Part1: Multi-way Adversarial Adaptation\n"
     ]
    },
    {
     "name": "stderr",
     "output_type": "stream",
     "text": [
      "\n",
      "20it [00:00, 93.02it/s]\u001b[A\n",
      "0it [00:00, ?it/s]\u001b[A\n",
      "9it [00:00, 82.99it/s]\u001b[A\n",
      "19it [00:00, 85.16it/s]\u001b[A\n",
      "20it [00:00, 87.04it/s]\u001b[A\n",
      "0it [00:00, ?it/s]\u001b[A\n",
      " 36%|███▌      | 90/250 [00:43<01:16,  2.09it/s]\n",
      "0it [00:00, ?it/s]\u001b[A\n",
      "10it [00:00, 92.35it/s]\u001b[A"
     ]
    },
    {
     "name": "stdout",
     "output_type": "stream",
     "text": [
      "Step: 89 #### Part2: Pseudo-label generation\n",
      "Step: 89 #### Part3:Train F and C using Pseudo-label\n",
      "Step: 89 #### Part4: Evaluation\n",
      "Current accuracy is:  0.2641509433962264\n",
      "Step: 90 #### Part1: Multi-way Adversarial Adaptation\n"
     ]
    },
    {
     "name": "stderr",
     "output_type": "stream",
     "text": [
      "\n",
      "20it [00:00, 92.44it/s]\u001b[A\n",
      "0it [00:00, ?it/s]\u001b[A\n",
      "10it [00:00, 93.53it/s]\u001b[A\n",
      "19it [00:00, 89.77it/s]\u001b[A\n",
      "20it [00:00, 86.53it/s]\u001b[A\n",
      "0it [00:00, ?it/s]\u001b[A\n",
      " 36%|███▋      | 91/250 [00:44<01:16,  2.07it/s]\n",
      "0it [00:00, ?it/s]\u001b[A\n",
      "10it [00:00, 92.88it/s]\u001b[A"
     ]
    },
    {
     "name": "stdout",
     "output_type": "stream",
     "text": [
      "Step: 90 #### Part2: Pseudo-label generation\n",
      "Step: 90 #### Part3:Train F and C using Pseudo-label\n",
      "Step: 90 #### Part4: Evaluation\n",
      "Current accuracy is:  0.2709433962264151\n",
      "Step: 91 #### Part1: Multi-way Adversarial Adaptation\n"
     ]
    },
    {
     "name": "stderr",
     "output_type": "stream",
     "text": [
      "\n",
      "19it [00:00, 91.95it/s]\u001b[A\n",
      "20it [00:00, 91.37it/s]\u001b[A\n",
      "0it [00:00, ?it/s]\u001b[A\n",
      "10it [00:00, 93.23it/s]\u001b[A\n",
      "20it [00:00, 93.58it/s]\u001b[A\n",
      "0it [00:00, ?it/s]\u001b[A\n",
      " 37%|███▋      | 92/250 [00:44<01:15,  2.09it/s]\n",
      "0it [00:00, ?it/s]\u001b[A\n",
      "10it [00:00, 95.01it/s]\u001b[A"
     ]
    },
    {
     "name": "stdout",
     "output_type": "stream",
     "text": [
      "Step: 91 #### Part2: Pseudo-label generation\n",
      "Step: 91 #### Part3:Train F and C using Pseudo-label\n",
      "Step: 91 #### Part4: Evaluation\n",
      "Current accuracy is:  0.2664150943396226\n",
      "Step: 92 #### Part1: Multi-way Adversarial Adaptation\n"
     ]
    },
    {
     "name": "stderr",
     "output_type": "stream",
     "text": [
      "\n",
      "20it [00:00, 93.76it/s]\u001b[A\n",
      "0it [00:00, ?it/s]\u001b[A\n",
      "10it [00:00, 92.86it/s]\u001b[A\n",
      "20it [00:00, 92.45it/s]\u001b[A\n",
      "0it [00:00, ?it/s]\u001b[A\n",
      " 37%|███▋      | 93/250 [00:45<01:15,  2.09it/s]\n",
      "0it [00:00, ?it/s]\u001b[A\n",
      "10it [00:00, 91.30it/s]\u001b[A"
     ]
    },
    {
     "name": "stdout",
     "output_type": "stream",
     "text": [
      "Step: 92 #### Part2: Pseudo-label generation\n",
      "Step: 92 #### Part3:Train F and C using Pseudo-label\n",
      "Step: 92 #### Part4: Evaluation\n",
      "Current accuracy is:  0.26867924528301884\n",
      "Step: 93 #### Part1: Multi-way Adversarial Adaptation\n"
     ]
    },
    {
     "name": "stderr",
     "output_type": "stream",
     "text": [
      "\n",
      "19it [00:00, 90.81it/s]\u001b[A\n",
      "20it [00:00, 90.42it/s]\u001b[A\n",
      "0it [00:00, ?it/s]\u001b[A\n",
      "10it [00:00, 95.99it/s]\u001b[A\n",
      "20it [00:00, 94.94it/s]\u001b[A\n",
      "0it [00:00, ?it/s]\u001b[A\n",
      " 38%|███▊      | 94/250 [00:45<01:14,  2.09it/s]\n",
      "0it [00:00, ?it/s]\u001b[A\n",
      "10it [00:00, 90.70it/s]\u001b[A"
     ]
    },
    {
     "name": "stdout",
     "output_type": "stream",
     "text": [
      "Step: 93 #### Part2: Pseudo-label generation\n",
      "Step: 93 #### Part3:Train F and C using Pseudo-label\n",
      "Step: 93 #### Part4: Evaluation\n",
      "Current accuracy is:  0.2679245283018868\n",
      "Step: 94 #### Part1: Multi-way Adversarial Adaptation\n"
     ]
    },
    {
     "name": "stderr",
     "output_type": "stream",
     "text": [
      "\n",
      "19it [00:00, 90.20it/s]\u001b[A\n",
      "20it [00:00, 89.61it/s]\u001b[A\n",
      "0it [00:00, ?it/s]\u001b[A\n",
      "10it [00:00, 90.70it/s]\u001b[A\n",
      "19it [00:00, 90.25it/s]\u001b[A\n",
      "20it [00:00, 89.81it/s]\u001b[A\n",
      "0it [00:00, ?it/s]\u001b[A\n",
      " 38%|███▊      | 95/250 [00:46<01:14,  2.08it/s]\n",
      "0it [00:00, ?it/s]\u001b[A\n",
      "10it [00:00, 91.08it/s]\u001b[A"
     ]
    },
    {
     "name": "stdout",
     "output_type": "stream",
     "text": [
      "Step: 94 #### Part2: Pseudo-label generation\n",
      "Step: 94 #### Part3:Train F and C using Pseudo-label\n",
      "Step: 94 #### Part4: Evaluation\n",
      "Current accuracy is:  0.2656603773584906\n",
      "Step: 95 #### Part1: Multi-way Adversarial Adaptation\n"
     ]
    },
    {
     "name": "stderr",
     "output_type": "stream",
     "text": [
      "\n",
      "19it [00:00, 90.72it/s]\u001b[A\n",
      "20it [00:00, 90.74it/s]\u001b[A\n",
      "0it [00:00, ?it/s]\u001b[A\n",
      "10it [00:00, 90.42it/s]\u001b[A\n",
      "19it [00:00, 89.09it/s]\u001b[A\n",
      "20it [00:00, 88.06it/s]\u001b[A\n",
      "0it [00:00, ?it/s]\u001b[A\n",
      " 38%|███▊      | 96/250 [00:46<01:14,  2.05it/s]\n",
      "0it [00:00, ?it/s]\u001b[A\n",
      "10it [00:00, 93.35it/s]\u001b[A"
     ]
    },
    {
     "name": "stdout",
     "output_type": "stream",
     "text": [
      "Step: 95 #### Part2: Pseudo-label generation\n",
      "Step: 95 #### Part3:Train F and C using Pseudo-label\n",
      "Step: 95 #### Part4: Evaluation\n",
      "Current accuracy is:  0.2664150943396226\n",
      "Step: 96 #### Part1: Multi-way Adversarial Adaptation\n"
     ]
    },
    {
     "name": "stderr",
     "output_type": "stream",
     "text": [
      "\n",
      "20it [00:00, 93.35it/s]\u001b[A\n",
      "0it [00:00, ?it/s]\u001b[A\n",
      "10it [00:00, 91.36it/s]\u001b[A\n",
      "19it [00:00, 90.23it/s]\u001b[A\n",
      "20it [00:00, 87.92it/s]\u001b[A\n",
      "0it [00:00, ?it/s]\u001b[A\n",
      " 39%|███▉      | 97/250 [00:47<01:14,  2.05it/s]\n",
      "0it [00:00, ?it/s]\u001b[A\n",
      "10it [00:00, 92.64it/s]\u001b[A"
     ]
    },
    {
     "name": "stdout",
     "output_type": "stream",
     "text": [
      "Step: 96 #### Part2: Pseudo-label generation\n",
      "Step: 96 #### Part3:Train F and C using Pseudo-label\n",
      "Step: 96 #### Part4: Evaluation\n",
      "Current accuracy is:  0.26867924528301884\n",
      "Step: 97 #### Part1: Multi-way Adversarial Adaptation\n"
     ]
    },
    {
     "name": "stderr",
     "output_type": "stream",
     "text": [
      "\n",
      "20it [00:00, 92.69it/s]\u001b[A\n",
      "0it [00:00, ?it/s]\u001b[A\n",
      "10it [00:00, 92.33it/s]\u001b[A\n",
      "20it [00:00, 92.50it/s]\u001b[A\n",
      "0it [00:00, ?it/s]\u001b[A\n",
      " 39%|███▉      | 98/250 [00:47<01:13,  2.06it/s]\n",
      "0it [00:00, ?it/s]\u001b[A\n",
      "10it [00:00, 92.46it/s]\u001b[A"
     ]
    },
    {
     "name": "stdout",
     "output_type": "stream",
     "text": [
      "Step: 97 #### Part2: Pseudo-label generation\n",
      "Step: 97 #### Part3:Train F and C using Pseudo-label\n",
      "Step: 97 #### Part4: Evaluation\n",
      "Current accuracy is:  0.2679245283018868\n",
      "Step: 98 #### Part1: Multi-way Adversarial Adaptation\n"
     ]
    },
    {
     "name": "stderr",
     "output_type": "stream",
     "text": [
      "\n",
      "20it [00:00, 92.76it/s]\u001b[A\n",
      "0it [00:00, ?it/s]\u001b[A\n",
      "10it [00:00, 95.49it/s]\u001b[A\n",
      "20it [00:00, 95.03it/s]\u001b[A\n",
      "0it [00:00, ?it/s]\u001b[A\n",
      " 40%|███▉      | 99/250 [00:48<01:12,  2.08it/s]\n",
      "0it [00:00, ?it/s]\u001b[A\n",
      "10it [00:00, 94.01it/s]\u001b[A"
     ]
    },
    {
     "name": "stdout",
     "output_type": "stream",
     "text": [
      "Step: 98 #### Part2: Pseudo-label generation\n",
      "Step: 98 #### Part3:Train F and C using Pseudo-label\n",
      "Step: 98 #### Part4: Evaluation\n",
      "Current accuracy is:  0.2656603773584906\n",
      "Step: 99 #### Part1: Multi-way Adversarial Adaptation\n"
     ]
    },
    {
     "name": "stderr",
     "output_type": "stream",
     "text": [
      "\n",
      "20it [00:00, 93.66it/s]\u001b[A\n",
      "0it [00:00, ?it/s]\u001b[A\n",
      "10it [00:00, 93.87it/s]\u001b[A\n",
      "20it [00:00, 93.49it/s]\u001b[A\n",
      "0it [00:00, ?it/s]\u001b[A\n",
      " 40%|████      | 100/250 [00:48<01:11,  2.10it/s]\n",
      "0it [00:00, ?it/s]\u001b[A\n",
      "10it [00:00, 93.77it/s]\u001b[A"
     ]
    },
    {
     "name": "stdout",
     "output_type": "stream",
     "text": [
      "Step: 99 #### Part2: Pseudo-label generation\n",
      "Step: 99 #### Part3:Train F and C using Pseudo-label\n",
      "Step: 99 #### Part4: Evaluation\n",
      "Current accuracy is:  0.2664150943396226\n",
      "Step: 100 #### Part1: Multi-way Adversarial Adaptation\n"
     ]
    },
    {
     "name": "stderr",
     "output_type": "stream",
     "text": [
      "\n",
      "20it [00:00, 93.19it/s]\u001b[A\n",
      "0it [00:00, ?it/s]\u001b[A\n",
      "10it [00:00, 94.21it/s]\u001b[A\n",
      "20it [00:00, 93.36it/s]\u001b[A\n",
      "0it [00:00, ?it/s]\u001b[A\n",
      " 40%|████      | 101/250 [00:49<01:11,  2.10it/s]\n",
      "0it [00:00, ?it/s]\u001b[A\n",
      "10it [00:00, 90.92it/s]\u001b[A"
     ]
    },
    {
     "name": "stdout",
     "output_type": "stream",
     "text": [
      "Step: 100 #### Part2: Pseudo-label generation\n",
      "Step: 100 #### Part3:Train F and C using Pseudo-label\n",
      "Step: 100 #### Part4: Evaluation\n",
      "Current accuracy is:  0.2641509433962264\n",
      "Step: 101 #### Part1: Multi-way Adversarial Adaptation\n"
     ]
    },
    {
     "name": "stderr",
     "output_type": "stream",
     "text": [
      "\n",
      "20it [00:00, 91.41it/s]\u001b[A\n",
      "0it [00:00, ?it/s]\u001b[A\n",
      "10it [00:00, 95.37it/s]\u001b[A\n",
      "20it [00:00, 94.73it/s]\u001b[A\n",
      "0it [00:00, ?it/s]\u001b[A\n",
      " 41%|████      | 102/250 [00:49<01:10,  2.10it/s]\n",
      "0it [00:00, ?it/s]\u001b[A\n",
      "10it [00:00, 93.23it/s]\u001b[A"
     ]
    },
    {
     "name": "stdout",
     "output_type": "stream",
     "text": [
      "Step: 101 #### Part2: Pseudo-label generation\n",
      "Step: 101 #### Part3:Train F and C using Pseudo-label\n",
      "Step: 101 #### Part4: Evaluation\n",
      "Current accuracy is:  0.2641509433962264\n",
      "Step: 102 #### Part1: Multi-way Adversarial Adaptation\n"
     ]
    },
    {
     "name": "stderr",
     "output_type": "stream",
     "text": [
      "\n",
      "20it [00:00, 93.25it/s]\u001b[A\n",
      "0it [00:00, ?it/s]\u001b[A\n",
      "10it [00:00, 95.23it/s]\u001b[A\n",
      "20it [00:00, 93.88it/s]\u001b[A\n",
      "0it [00:00, ?it/s]\u001b[A\n",
      " 41%|████      | 103/250 [00:50<01:09,  2.11it/s]\n",
      "0it [00:00, ?it/s]\u001b[A\n",
      "9it [00:00, 84.11it/s]\u001b[A"
     ]
    },
    {
     "name": "stdout",
     "output_type": "stream",
     "text": [
      "Step: 102 #### Part2: Pseudo-label generation\n",
      "Step: 102 #### Part3:Train F and C using Pseudo-label\n",
      "Step: 102 #### Part4: Evaluation\n",
      "Current accuracy is:  0.2641509433962264\n",
      "Step: 103 #### Part1: Multi-way Adversarial Adaptation\n"
     ]
    },
    {
     "name": "stderr",
     "output_type": "stream",
     "text": [
      "\n",
      "18it [00:00, 83.43it/s]\u001b[A\n",
      "20it [00:00, 82.90it/s]\u001b[A\n",
      "0it [00:00, ?it/s]\u001b[A\n",
      "9it [00:00, 82.57it/s]\u001b[A\n",
      "18it [00:00, 83.08it/s]\u001b[A\n",
      "20it [00:00, 83.72it/s]\u001b[A\n",
      "0it [00:00, ?it/s]\u001b[A\n",
      " 42%|████▏     | 104/250 [00:50<01:11,  2.04it/s]\n",
      "0it [00:00, ?it/s]\u001b[A\n",
      "9it [00:00, 84.39it/s]\u001b[A"
     ]
    },
    {
     "name": "stdout",
     "output_type": "stream",
     "text": [
      "Step: 103 #### Part2: Pseudo-label generation\n",
      "Step: 103 #### Part3:Train F and C using Pseudo-label\n",
      "Step: 103 #### Part4: Evaluation\n",
      "Current accuracy is:  0.26943396226415095\n",
      "Step: 104 #### Part1: Multi-way Adversarial Adaptation\n"
     ]
    },
    {
     "name": "stderr",
     "output_type": "stream",
     "text": [
      "\n",
      "18it [00:00, 85.57it/s]\u001b[A\n",
      "20it [00:00, 86.59it/s]\u001b[A\n",
      "0it [00:00, ?it/s]\u001b[A\n",
      "10it [00:00, 90.58it/s]\u001b[A\n",
      "19it [00:00, 89.70it/s]\u001b[A\n",
      "20it [00:00, 88.48it/s]\u001b[A\n",
      "0it [00:00, ?it/s]\u001b[A\n",
      " 42%|████▏     | 105/250 [00:51<01:11,  2.02it/s]\n",
      "0it [00:00, ?it/s]\u001b[A\n",
      "9it [00:00, 88.89it/s]\u001b[A"
     ]
    },
    {
     "name": "stdout",
     "output_type": "stream",
     "text": [
      "Step: 104 #### Part2: Pseudo-label generation\n",
      "Step: 104 #### Part3:Train F and C using Pseudo-label\n",
      "Step: 104 #### Part4: Evaluation\n",
      "Current accuracy is:  0.2656603773584906\n",
      "Step: 105 #### Part1: Multi-way Adversarial Adaptation\n"
     ]
    },
    {
     "name": "stderr",
     "output_type": "stream",
     "text": [
      "\n",
      "18it [00:00, 87.96it/s]\u001b[A\n",
      "20it [00:00, 87.30it/s]\u001b[A\n",
      "0it [00:00, ?it/s]\u001b[A\n",
      "10it [00:00, 92.33it/s]\u001b[A\n",
      "20it [00:00, 92.54it/s]\u001b[A\n",
      "0it [00:00, ?it/s]\u001b[A\n",
      " 42%|████▏     | 106/250 [00:51<01:10,  2.03it/s]\n",
      "0it [00:00, ?it/s]\u001b[A\n",
      "10it [00:00, 91.17it/s]\u001b[A"
     ]
    },
    {
     "name": "stdout",
     "output_type": "stream",
     "text": [
      "Step: 105 #### Part2: Pseudo-label generation\n",
      "Step: 105 #### Part3:Train F and C using Pseudo-label\n",
      "Step: 105 #### Part4: Evaluation\n",
      "Current accuracy is:  0.2656603773584906\n",
      "Step: 106 #### Part1: Multi-way Adversarial Adaptation\n"
     ]
    },
    {
     "name": "stderr",
     "output_type": "stream",
     "text": [
      "\n",
      "19it [00:00, 90.80it/s]\u001b[A\n",
      "20it [00:00, 89.74it/s]\u001b[A\n",
      "0it [00:00, ?it/s]\u001b[A\n",
      "9it [00:00, 89.73it/s]\u001b[A\n",
      "18it [00:00, 88.86it/s]\u001b[A\n",
      "20it [00:00, 86.99it/s]\u001b[A\n",
      "0it [00:00, ?it/s]\u001b[A\n",
      " 43%|████▎     | 107/250 [00:52<01:10,  2.02it/s]\n",
      "0it [00:00, ?it/s]\u001b[A\n",
      "9it [00:00, 86.79it/s]\u001b[A"
     ]
    },
    {
     "name": "stdout",
     "output_type": "stream",
     "text": [
      "Step: 106 #### Part2: Pseudo-label generation\n",
      "Step: 106 #### Part3:Train F and C using Pseudo-label\n",
      "Step: 106 #### Part4: Evaluation\n",
      "Current accuracy is:  0.26867924528301884\n",
      "Step: 107 #### Part1: Multi-way Adversarial Adaptation\n"
     ]
    },
    {
     "name": "stderr",
     "output_type": "stream",
     "text": [
      "\n",
      "18it [00:00, 87.70it/s]\u001b[A\n",
      "20it [00:00, 87.98it/s]\u001b[A\n",
      "0it [00:00, ?it/s]\u001b[A\n",
      "9it [00:00, 89.66it/s]\u001b[A\n",
      "18it [00:00, 88.49it/s]\u001b[A\n",
      "20it [00:00, 87.42it/s]\u001b[A\n",
      "0it [00:00, ?it/s]\u001b[A\n",
      " 43%|████▎     | 108/250 [00:52<01:10,  2.02it/s]\n",
      "0it [00:00, ?it/s]\u001b[A\n",
      "9it [00:00, 86.37it/s]\u001b[A"
     ]
    },
    {
     "name": "stdout",
     "output_type": "stream",
     "text": [
      "Step: 107 #### Part2: Pseudo-label generation\n",
      "Step: 107 #### Part3:Train F and C using Pseudo-label\n",
      "Step: 107 #### Part4: Evaluation\n",
      "Current accuracy is:  0.2664150943396226\n",
      "Step: 108 #### Part1: Multi-way Adversarial Adaptation\n"
     ]
    },
    {
     "name": "stderr",
     "output_type": "stream",
     "text": [
      "\n",
      "19it [00:00, 87.66it/s]\u001b[A\n",
      "20it [00:00, 88.60it/s]\u001b[A\n",
      "0it [00:00, ?it/s]\u001b[A\n",
      "10it [00:00, 94.01it/s]\u001b[A\n",
      "20it [00:00, 94.13it/s]\u001b[A\n",
      "0it [00:00, ?it/s]\u001b[A\n",
      " 44%|████▎     | 109/250 [00:53<01:09,  2.04it/s]\n",
      "0it [00:00, ?it/s]\u001b[A\n",
      "10it [00:00, 95.55it/s]\u001b[A"
     ]
    },
    {
     "name": "stdout",
     "output_type": "stream",
     "text": [
      "Step: 108 #### Part2: Pseudo-label generation\n",
      "Step: 108 #### Part3:Train F and C using Pseudo-label\n",
      "Step: 108 #### Part4: Evaluation\n",
      "Current accuracy is:  0.26943396226415095\n",
      "Step: 109 #### Part1: Multi-way Adversarial Adaptation\n"
     ]
    },
    {
     "name": "stderr",
     "output_type": "stream",
     "text": [
      "\n",
      "20it [00:00, 94.76it/s]\u001b[A\n",
      "0it [00:00, ?it/s]\u001b[A\n",
      "10it [00:00, 93.26it/s]\u001b[A\n",
      "19it [00:00, 91.01it/s]\u001b[A\n",
      "20it [00:00, 89.71it/s]\u001b[A\n",
      "0it [00:00, ?it/s]\u001b[A\n",
      " 44%|████▍     | 110/250 [00:53<01:08,  2.05it/s]\n",
      "0it [00:00, ?it/s]\u001b[A\n",
      "10it [00:00, 94.17it/s]\u001b[A"
     ]
    },
    {
     "name": "stdout",
     "output_type": "stream",
     "text": [
      "Step: 109 #### Part2: Pseudo-label generation\n",
      "Step: 109 #### Part3:Train F and C using Pseudo-label\n",
      "Step: 109 #### Part4: Evaluation\n",
      "Current accuracy is:  0.26943396226415095\n",
      "Step: 110 #### Part1: Multi-way Adversarial Adaptation\n"
     ]
    },
    {
     "name": "stderr",
     "output_type": "stream",
     "text": [
      "\n",
      "20it [00:00, 93.54it/s]\u001b[A\n",
      "0it [00:00, ?it/s]\u001b[A\n",
      "10it [00:00, 91.37it/s]\u001b[A\n",
      "20it [00:00, 91.10it/s]\u001b[A\n",
      "0it [00:00, ?it/s]\u001b[A\n",
      " 44%|████▍     | 111/250 [00:54<01:07,  2.07it/s]\n",
      "0it [00:00, ?it/s]\u001b[A\n",
      "10it [00:00, 95.39it/s]\u001b[A"
     ]
    },
    {
     "name": "stdout",
     "output_type": "stream",
     "text": [
      "Step: 110 #### Part2: Pseudo-label generation\n",
      "Step: 110 #### Part3:Train F and C using Pseudo-label\n",
      "Step: 110 #### Part4: Evaluation\n",
      "Current accuracy is:  0.26490566037735847\n",
      "Step: 111 #### Part1: Multi-way Adversarial Adaptation\n"
     ]
    },
    {
     "name": "stderr",
     "output_type": "stream",
     "text": [
      "\n",
      "20it [00:00, 94.77it/s]\u001b[A\n",
      "0it [00:00, ?it/s]\u001b[A\n",
      "10it [00:00, 96.03it/s]\u001b[A\n",
      "20it [00:00, 95.54it/s]\u001b[A\n",
      "0it [00:00, ?it/s]\u001b[A\n",
      " 45%|████▍     | 112/250 [00:54<01:06,  2.09it/s]\n",
      "0it [00:00, ?it/s]\u001b[A\n",
      "10it [00:00, 95.38it/s]\u001b[A"
     ]
    },
    {
     "name": "stdout",
     "output_type": "stream",
     "text": [
      "Step: 111 #### Part2: Pseudo-label generation\n",
      "Step: 111 #### Part3:Train F and C using Pseudo-label\n",
      "Step: 111 #### Part4: Evaluation\n",
      "Current accuracy is:  0.2664150943396226\n",
      "Step: 112 #### Part1: Multi-way Adversarial Adaptation\n"
     ]
    },
    {
     "name": "stderr",
     "output_type": "stream",
     "text": [
      "\n",
      "20it [00:00, 94.97it/s]\u001b[A\n",
      "0it [00:00, ?it/s]\u001b[A\n",
      "10it [00:00, 95.98it/s]\u001b[A\n",
      "20it [00:00, 95.52it/s]\u001b[A\n",
      "0it [00:00, ?it/s]\u001b[A\n",
      " 45%|████▌     | 113/250 [00:55<01:04,  2.11it/s]\n",
      "0it [00:00, ?it/s]\u001b[A\n",
      "10it [00:00, 95.32it/s]\u001b[A"
     ]
    },
    {
     "name": "stdout",
     "output_type": "stream",
     "text": [
      "Step: 112 #### Part2: Pseudo-label generation\n",
      "Step: 112 #### Part3:Train F and C using Pseudo-label\n",
      "Step: 112 #### Part4: Evaluation\n",
      "Current accuracy is:  0.26716981132075474\n",
      "Step: 113 #### Part1: Multi-way Adversarial Adaptation\n"
     ]
    },
    {
     "name": "stderr",
     "output_type": "stream",
     "text": [
      "\n",
      "20it [00:00, 94.41it/s]\u001b[A\n",
      "0it [00:00, ?it/s]\u001b[A\n",
      "10it [00:00, 95.24it/s]\u001b[A\n",
      "20it [00:00, 94.47it/s]\u001b[A\n",
      "0it [00:00, ?it/s]\u001b[A\n",
      " 46%|████▌     | 114/250 [00:55<01:04,  2.11it/s]\n",
      "0it [00:00, ?it/s]\u001b[A\n",
      "9it [00:00, 88.67it/s]\u001b[A"
     ]
    },
    {
     "name": "stdout",
     "output_type": "stream",
     "text": [
      "Step: 113 #### Part2: Pseudo-label generation\n",
      "Step: 113 #### Part3:Train F and C using Pseudo-label\n",
      "Step: 113 #### Part4: Evaluation\n",
      "Current accuracy is:  0.26339622641509436\n",
      "Step: 114 #### Part1: Multi-way Adversarial Adaptation\n"
     ]
    },
    {
     "name": "stderr",
     "output_type": "stream",
     "text": [
      "\n",
      "18it [00:00, 88.03it/s]\u001b[A\n",
      "20it [00:00, 87.65it/s]\u001b[A\n",
      "0it [00:00, ?it/s]\u001b[A\n",
      "9it [00:00, 89.51it/s]\u001b[A\n",
      "18it [00:00, 87.33it/s]\u001b[A\n",
      "20it [00:00, 84.72it/s]\u001b[A\n",
      "0it [00:00, ?it/s]\u001b[A\n",
      " 46%|████▌     | 115/250 [00:56<01:05,  2.06it/s]\n",
      "0it [00:00, ?it/s]\u001b[A\n",
      "9it [00:00, 85.19it/s]\u001b[A"
     ]
    },
    {
     "name": "stdout",
     "output_type": "stream",
     "text": [
      "Step: 114 #### Part2: Pseudo-label generation\n",
      "Step: 114 #### Part3:Train F and C using Pseudo-label\n",
      "Step: 114 #### Part4: Evaluation\n",
      "Current accuracy is:  0.2679245283018868\n",
      "Step: 115 #### Part1: Multi-way Adversarial Adaptation\n"
     ]
    },
    {
     "name": "stderr",
     "output_type": "stream",
     "text": [
      "\n",
      "18it [00:00, 85.80it/s]\u001b[A\n",
      "20it [00:00, 86.56it/s]\u001b[A\n",
      "0it [00:00, ?it/s]\u001b[A\n",
      "10it [00:00, 94.21it/s]\u001b[A\n",
      "20it [00:00, 93.97it/s]\u001b[A\n",
      "0it [00:00, ?it/s]\u001b[A\n",
      " 46%|████▋     | 116/250 [00:56<01:05,  2.06it/s]\n",
      "0it [00:00, ?it/s]\u001b[A\n",
      "10it [00:00, 94.28it/s]\u001b[A"
     ]
    },
    {
     "name": "stdout",
     "output_type": "stream",
     "text": [
      "Step: 115 #### Part2: Pseudo-label generation\n",
      "Step: 115 #### Part3:Train F and C using Pseudo-label\n",
      "Step: 115 #### Part4: Evaluation\n",
      "Current accuracy is:  0.26716981132075474\n",
      "Step: 116 #### Part1: Multi-way Adversarial Adaptation\n"
     ]
    },
    {
     "name": "stderr",
     "output_type": "stream",
     "text": [
      "\n",
      "20it [00:00, 93.95it/s]\u001b[A\n",
      "0it [00:00, ?it/s]\u001b[A\n",
      "10it [00:00, 94.78it/s]\u001b[A\n",
      "20it [00:00, 94.21it/s]\u001b[A\n",
      "0it [00:00, ?it/s]\u001b[A\n",
      " 47%|████▋     | 117/250 [00:56<01:03,  2.08it/s]\n",
      "0it [00:00, ?it/s]\u001b[A\n",
      "10it [00:00, 94.75it/s]\u001b[A"
     ]
    },
    {
     "name": "stdout",
     "output_type": "stream",
     "text": [
      "Step: 116 #### Part2: Pseudo-label generation\n",
      "Step: 116 #### Part3:Train F and C using Pseudo-label\n",
      "Step: 116 #### Part4: Evaluation\n",
      "Current accuracy is:  0.26867924528301884\n",
      "Step: 117 #### Part1: Multi-way Adversarial Adaptation\n"
     ]
    },
    {
     "name": "stderr",
     "output_type": "stream",
     "text": [
      "\n",
      "20it [00:00, 94.26it/s]\u001b[A\n",
      "0it [00:00, ?it/s]\u001b[A\n",
      "10it [00:00, 94.02it/s]\u001b[A\n",
      "20it [00:00, 93.95it/s]\u001b[A\n",
      "0it [00:00, ?it/s]\u001b[A\n",
      " 47%|████▋     | 118/250 [00:57<01:02,  2.10it/s]\n",
      "0it [00:00, ?it/s]\u001b[A\n",
      "10it [00:00, 95.58it/s]\u001b[A"
     ]
    },
    {
     "name": "stdout",
     "output_type": "stream",
     "text": [
      "Step: 117 #### Part2: Pseudo-label generation\n",
      "Step: 117 #### Part3:Train F and C using Pseudo-label\n",
      "Step: 117 #### Part4: Evaluation\n",
      "Current accuracy is:  0.2611320754716981\n",
      "Step: 118 #### Part1: Multi-way Adversarial Adaptation\n"
     ]
    },
    {
     "name": "stderr",
     "output_type": "stream",
     "text": [
      "\n",
      "20it [00:00, 95.09it/s]\u001b[A\n",
      "0it [00:00, ?it/s]\u001b[A\n",
      "10it [00:00, 96.09it/s]\u001b[A\n",
      "20it [00:00, 95.64it/s]\u001b[A\n",
      "0it [00:00, ?it/s]\u001b[A\n",
      " 48%|████▊     | 119/250 [00:57<01:01,  2.12it/s]\n",
      "0it [00:00, ?it/s]\u001b[A\n",
      "10it [00:00, 96.01it/s]\u001b[A"
     ]
    },
    {
     "name": "stdout",
     "output_type": "stream",
     "text": [
      "Step: 118 #### Part2: Pseudo-label generation\n",
      "Step: 118 #### Part3:Train F and C using Pseudo-label\n",
      "Step: 118 #### Part4: Evaluation\n",
      "Current accuracy is:  0.26716981132075474\n",
      "Step: 119 #### Part1: Multi-way Adversarial Adaptation\n"
     ]
    },
    {
     "name": "stderr",
     "output_type": "stream",
     "text": [
      "\n",
      "20it [00:00, 95.53it/s]\u001b[A\n",
      "0it [00:00, ?it/s]\u001b[A\n",
      "10it [00:00, 96.03it/s]\u001b[A\n",
      "20it [00:00, 95.56it/s]\u001b[A\n",
      "0it [00:00, ?it/s]\u001b[A\n",
      " 48%|████▊     | 120/250 [00:58<01:01,  2.13it/s]\n",
      "0it [00:00, ?it/s]\u001b[A\n",
      "10it [00:00, 92.23it/s]\u001b[A"
     ]
    },
    {
     "name": "stdout",
     "output_type": "stream",
     "text": [
      "Step: 119 #### Part2: Pseudo-label generation\n",
      "Step: 119 #### Part3:Train F and C using Pseudo-label\n",
      "Step: 119 #### Part4: Evaluation\n",
      "Current accuracy is:  0.2664150943396226\n",
      "Step: 120 #### Part1: Multi-way Adversarial Adaptation\n"
     ]
    },
    {
     "name": "stderr",
     "output_type": "stream",
     "text": [
      "\n",
      "20it [00:00, 92.07it/s]\u001b[A\n",
      "0it [00:00, ?it/s]\u001b[A\n",
      "10it [00:00, 90.81it/s]\u001b[A\n",
      "20it [00:00, 91.13it/s]\u001b[A\n",
      "0it [00:00, ?it/s]\u001b[A\n",
      " 48%|████▊     | 121/250 [00:58<01:00,  2.12it/s]\n",
      "0it [00:00, ?it/s]\u001b[A\n",
      "10it [00:00, 94.96it/s]\u001b[A"
     ]
    },
    {
     "name": "stdout",
     "output_type": "stream",
     "text": [
      "Step: 120 #### Part2: Pseudo-label generation\n",
      "Step: 120 #### Part3:Train F and C using Pseudo-label\n",
      "Step: 120 #### Part4: Evaluation\n",
      "Current accuracy is:  0.26490566037735847\n",
      "Step: 121 #### Part1: Multi-way Adversarial Adaptation\n"
     ]
    },
    {
     "name": "stderr",
     "output_type": "stream",
     "text": [
      "\n",
      "20it [00:00, 94.26it/s]\u001b[A\n",
      "0it [00:00, ?it/s]\u001b[A\n",
      "10it [00:00, 95.02it/s]\u001b[A\n",
      "20it [00:00, 94.93it/s]\u001b[A\n",
      "0it [00:00, ?it/s]\u001b[A\n",
      " 49%|████▉     | 122/250 [00:59<01:00,  2.12it/s]\n",
      "0it [00:00, ?it/s]\u001b[A\n",
      "10it [00:00, 95.27it/s]\u001b[A"
     ]
    },
    {
     "name": "stdout",
     "output_type": "stream",
     "text": [
      "Step: 121 #### Part2: Pseudo-label generation\n",
      "Step: 121 #### Part3:Train F and C using Pseudo-label\n",
      "Step: 121 #### Part4: Evaluation\n",
      "Current accuracy is:  0.2664150943396226\n",
      "Step: 122 #### Part1: Multi-way Adversarial Adaptation\n"
     ]
    },
    {
     "name": "stderr",
     "output_type": "stream",
     "text": [
      "\n",
      "20it [00:00, 94.69it/s]\u001b[A\n",
      "0it [00:00, ?it/s]\u001b[A\n",
      "10it [00:00, 95.71it/s]\u001b[A\n",
      "20it [00:00, 94.97it/s]\u001b[A\n",
      "0it [00:00, ?it/s]\u001b[A\n",
      " 49%|████▉     | 123/250 [00:59<00:59,  2.13it/s]\n",
      "0it [00:00, ?it/s]\u001b[A\n",
      "10it [00:00, 90.67it/s]\u001b[A"
     ]
    },
    {
     "name": "stdout",
     "output_type": "stream",
     "text": [
      "Step: 122 #### Part2: Pseudo-label generation\n",
      "Step: 122 #### Part3:Train F and C using Pseudo-label\n",
      "Step: 122 #### Part4: Evaluation\n",
      "Current accuracy is:  0.26867924528301884\n",
      "Step: 123 #### Part1: Multi-way Adversarial Adaptation\n"
     ]
    },
    {
     "name": "stderr",
     "output_type": "stream",
     "text": [
      "\n",
      "19it [00:00, 89.71it/s]\u001b[A\n",
      "20it [00:00, 89.05it/s]\u001b[A\n",
      "0it [00:00, ?it/s]\u001b[A\n",
      "9it [00:00, 88.55it/s]\u001b[A\n",
      "19it [00:00, 89.99it/s]\u001b[A\n",
      "20it [00:00, 90.99it/s]\u001b[A\n",
      "0it [00:00, ?it/s]\u001b[A\n",
      " 50%|████▉     | 124/250 [01:00<00:59,  2.11it/s]\n",
      "0it [00:00, ?it/s]\u001b[A\n",
      "10it [00:00, 94.74it/s]\u001b[A"
     ]
    },
    {
     "name": "stdout",
     "output_type": "stream",
     "text": [
      "Step: 123 #### Part2: Pseudo-label generation\n",
      "Step: 123 #### Part3:Train F and C using Pseudo-label\n",
      "Step: 123 #### Part4: Evaluation\n",
      "Current accuracy is:  0.26716981132075474\n",
      "Step: 124 #### Part1: Multi-way Adversarial Adaptation\n"
     ]
    },
    {
     "name": "stderr",
     "output_type": "stream",
     "text": [
      "\n",
      "20it [00:00, 94.30it/s]\u001b[A\n",
      "0it [00:00, ?it/s]\u001b[A\n",
      "10it [00:00, 95.87it/s]\u001b[A\n",
      "20it [00:00, 95.01it/s]\u001b[A\n",
      "0it [00:00, ?it/s]\u001b[A\n",
      " 50%|█████     | 125/250 [01:00<00:59,  2.12it/s]\n",
      "0it [00:00, ?it/s]\u001b[A\n",
      "10it [00:00, 94.76it/s]\u001b[A"
     ]
    },
    {
     "name": "stdout",
     "output_type": "stream",
     "text": [
      "Step: 124 #### Part2: Pseudo-label generation\n",
      "Step: 124 #### Part3:Train F and C using Pseudo-label\n",
      "Step: 124 #### Part4: Evaluation\n",
      "Current accuracy is:  0.2664150943396226\n",
      "Step: 125 #### Part1: Multi-way Adversarial Adaptation\n"
     ]
    },
    {
     "name": "stderr",
     "output_type": "stream",
     "text": [
      "\n",
      "20it [00:00, 94.21it/s]\u001b[A\n",
      "0it [00:00, ?it/s]\u001b[A\n",
      "10it [00:00, 93.34it/s]\u001b[A\n",
      "20it [00:00, 93.59it/s]\u001b[A\n",
      "0it [00:00, ?it/s]\u001b[A\n",
      " 50%|█████     | 126/250 [01:01<00:58,  2.12it/s]\n",
      "0it [00:00, ?it/s]\u001b[A\n",
      "10it [00:00, 95.61it/s]\u001b[A"
     ]
    },
    {
     "name": "stdout",
     "output_type": "stream",
     "text": [
      "Step: 125 #### Part2: Pseudo-label generation\n",
      "Step: 125 #### Part3:Train F and C using Pseudo-label\n",
      "Step: 125 #### Part4: Evaluation\n",
      "Current accuracy is:  0.2679245283018868\n",
      "Step: 126 #### Part1: Multi-way Adversarial Adaptation\n"
     ]
    },
    {
     "name": "stderr",
     "output_type": "stream",
     "text": [
      "\n",
      "20it [00:00, 95.20it/s]\u001b[A\n",
      "0it [00:00, ?it/s]\u001b[A\n",
      "10it [00:00, 95.87it/s]\u001b[A\n",
      "20it [00:00, 95.27it/s]\u001b[A\n",
      "0it [00:00, ?it/s]\u001b[A\n",
      " 51%|█████     | 127/250 [01:01<00:57,  2.13it/s]\n",
      "0it [00:00, ?it/s]\u001b[A\n",
      "10it [00:00, 95.53it/s]\u001b[A"
     ]
    },
    {
     "name": "stdout",
     "output_type": "stream",
     "text": [
      "Step: 126 #### Part2: Pseudo-label generation\n",
      "Step: 126 #### Part3:Train F and C using Pseudo-label\n",
      "Step: 126 #### Part4: Evaluation\n",
      "Current accuracy is:  0.26716981132075474\n",
      "Step: 127 #### Part1: Multi-way Adversarial Adaptation\n"
     ]
    },
    {
     "name": "stderr",
     "output_type": "stream",
     "text": [
      "\n",
      "20it [00:00, 95.34it/s]\u001b[A\n",
      "0it [00:00, ?it/s]\u001b[A\n",
      "10it [00:00, 95.89it/s]\u001b[A\n",
      "20it [00:00, 95.41it/s]\u001b[A\n",
      "0it [00:00, ?it/s]\u001b[A\n",
      " 51%|█████     | 128/250 [01:02<00:56,  2.14it/s]\n",
      "0it [00:00, ?it/s]\u001b[A\n",
      "10it [00:00, 92.26it/s]\u001b[A"
     ]
    },
    {
     "name": "stdout",
     "output_type": "stream",
     "text": [
      "Step: 127 #### Part2: Pseudo-label generation\n",
      "Step: 127 #### Part3:Train F and C using Pseudo-label\n",
      "Step: 127 #### Part4: Evaluation\n",
      "Current accuracy is:  0.2664150943396226\n",
      "Step: 128 #### Part1: Multi-way Adversarial Adaptation\n"
     ]
    },
    {
     "name": "stderr",
     "output_type": "stream",
     "text": [
      "\n",
      "20it [00:00, 92.00it/s]\u001b[A\n",
      "0it [00:00, ?it/s]\u001b[A\n",
      "10it [00:00, 94.51it/s]\u001b[A\n",
      "20it [00:00, 94.35it/s]\u001b[A\n",
      "0it [00:00, ?it/s]\u001b[A\n",
      " 52%|█████▏    | 129/250 [01:02<00:56,  2.13it/s]\n",
      "0it [00:00, ?it/s]\u001b[A\n",
      "10it [00:00, 95.59it/s]\u001b[A"
     ]
    },
    {
     "name": "stdout",
     "output_type": "stream",
     "text": [
      "Step: 128 #### Part2: Pseudo-label generation\n",
      "Step: 128 #### Part3:Train F and C using Pseudo-label\n",
      "Step: 128 #### Part4: Evaluation\n",
      "Current accuracy is:  0.26716981132075474\n",
      "Step: 129 #### Part1: Multi-way Adversarial Adaptation\n"
     ]
    },
    {
     "name": "stderr",
     "output_type": "stream",
     "text": [
      "\n",
      "20it [00:00, 95.00it/s]\u001b[A\n",
      "0it [00:00, ?it/s]\u001b[A\n",
      "10it [00:00, 90.26it/s]\u001b[A\n",
      "20it [00:00, 90.31it/s]\u001b[A\n",
      "0it [00:00, ?it/s]\u001b[A\n",
      " 52%|█████▏    | 130/250 [01:03<00:56,  2.12it/s]\n",
      "0it [00:00, ?it/s]\u001b[A\n",
      "10it [00:00, 91.53it/s]\u001b[A"
     ]
    },
    {
     "name": "stdout",
     "output_type": "stream",
     "text": [
      "Step: 129 #### Part2: Pseudo-label generation\n",
      "Step: 129 #### Part3:Train F and C using Pseudo-label\n",
      "Step: 129 #### Part4: Evaluation\n",
      "Current accuracy is:  0.2679245283018868\n",
      "Step: 130 #### Part1: Multi-way Adversarial Adaptation\n"
     ]
    },
    {
     "name": "stderr",
     "output_type": "stream",
     "text": [
      "\n",
      "20it [00:00, 91.83it/s]\u001b[A\n",
      "0it [00:00, ?it/s]\u001b[A\n",
      "10it [00:00, 95.20it/s]\u001b[A\n",
      "20it [00:00, 94.88it/s]\u001b[A\n",
      "0it [00:00, ?it/s]\u001b[A\n",
      " 52%|█████▏    | 131/250 [01:03<00:56,  2.12it/s]\n",
      "0it [00:00, ?it/s]\u001b[A\n",
      "10it [00:00, 95.45it/s]\u001b[A"
     ]
    },
    {
     "name": "stdout",
     "output_type": "stream",
     "text": [
      "Step: 130 #### Part2: Pseudo-label generation\n",
      "Step: 130 #### Part3:Train F and C using Pseudo-label\n",
      "Step: 130 #### Part4: Evaluation\n",
      "Current accuracy is:  0.26867924528301884\n",
      "Step: 131 #### Part1: Multi-way Adversarial Adaptation\n"
     ]
    },
    {
     "name": "stderr",
     "output_type": "stream",
     "text": [
      "\n",
      "20it [00:00, 94.96it/s]\u001b[A\n",
      "0it [00:00, ?it/s]\u001b[A\n",
      "10it [00:00, 95.15it/s]\u001b[A\n",
      "20it [00:00, 94.43it/s]\u001b[A\n",
      "0it [00:00, ?it/s]\u001b[A\n",
      " 53%|█████▎    | 132/250 [01:04<00:55,  2.12it/s]\n",
      "0it [00:00, ?it/s]\u001b[A\n",
      "9it [00:00, 87.88it/s]\u001b[A"
     ]
    },
    {
     "name": "stdout",
     "output_type": "stream",
     "text": [
      "Step: 131 #### Part2: Pseudo-label generation\n",
      "Step: 131 #### Part3:Train F and C using Pseudo-label\n",
      "Step: 131 #### Part4: Evaluation\n",
      "Current accuracy is:  0.2664150943396226\n",
      "Step: 132 #### Part1: Multi-way Adversarial Adaptation\n"
     ]
    },
    {
     "name": "stderr",
     "output_type": "stream",
     "text": [
      "\n",
      "18it [00:00, 87.89it/s]\u001b[A\n",
      "20it [00:00, 88.15it/s]\u001b[A\n",
      "0it [00:00, ?it/s]\u001b[A\n",
      "10it [00:00, 94.50it/s]\u001b[A\n",
      "20it [00:00, 94.53it/s]\u001b[A\n",
      "0it [00:00, ?it/s]\u001b[A\n",
      " 53%|█████▎    | 133/250 [01:04<00:55,  2.11it/s]\n",
      "0it [00:00, ?it/s]\u001b[A\n",
      "10it [00:00, 94.84it/s]\u001b[A"
     ]
    },
    {
     "name": "stdout",
     "output_type": "stream",
     "text": [
      "Step: 132 #### Part2: Pseudo-label generation\n",
      "Step: 132 #### Part3:Train F and C using Pseudo-label\n",
      "Step: 132 #### Part4: Evaluation\n",
      "Current accuracy is:  0.2656603773584906\n",
      "Step: 133 #### Part1: Multi-way Adversarial Adaptation\n"
     ]
    },
    {
     "name": "stderr",
     "output_type": "stream",
     "text": [
      "\n",
      "20it [00:00, 94.54it/s]\u001b[A\n",
      "0it [00:00, ?it/s]\u001b[A\n",
      "10it [00:00, 95.77it/s]\u001b[A\n",
      "20it [00:00, 95.37it/s]\u001b[A\n",
      "0it [00:00, ?it/s]\u001b[A\n",
      " 54%|█████▎    | 134/250 [01:04<00:54,  2.12it/s]\n",
      "0it [00:00, ?it/s]\u001b[A\n",
      "9it [00:00, 88.60it/s]\u001b[A"
     ]
    },
    {
     "name": "stdout",
     "output_type": "stream",
     "text": [
      "Step: 133 #### Part2: Pseudo-label generation\n",
      "Step: 133 #### Part3:Train F and C using Pseudo-label\n",
      "Step: 133 #### Part4: Evaluation\n",
      "Current accuracy is:  0.2656603773584906\n",
      "Step: 134 #### Part1: Multi-way Adversarial Adaptation\n"
     ]
    },
    {
     "name": "stderr",
     "output_type": "stream",
     "text": [
      "\n",
      "18it [00:00, 88.54it/s]\u001b[A\n",
      "20it [00:00, 88.38it/s]\u001b[A\n",
      "0it [00:00, ?it/s]\u001b[A\n",
      "9it [00:00, 85.50it/s]\u001b[A\n",
      "18it [00:00, 85.03it/s]\u001b[A\n",
      "20it [00:00, 83.82it/s]\u001b[A\n",
      "0it [00:00, ?it/s]\u001b[A\n",
      " 54%|█████▍    | 135/250 [01:05<00:55,  2.07it/s]\n",
      "0it [00:00, ?it/s]\u001b[A\n",
      "10it [00:00, 93.18it/s]\u001b[A"
     ]
    },
    {
     "name": "stdout",
     "output_type": "stream",
     "text": [
      "Step: 134 #### Part2: Pseudo-label generation\n",
      "Step: 134 #### Part3:Train F and C using Pseudo-label\n",
      "Step: 134 #### Part4: Evaluation\n",
      "Current accuracy is:  0.27169811320754716\n",
      "Step: 135 #### Part1: Multi-way Adversarial Adaptation\n"
     ]
    },
    {
     "name": "stderr",
     "output_type": "stream",
     "text": [
      "\n",
      "20it [00:00, 93.06it/s]\u001b[A\n",
      "0it [00:00, ?it/s]\u001b[A\n",
      "10it [00:00, 95.63it/s]\u001b[A\n",
      "20it [00:00, 95.20it/s]\u001b[A\n",
      "0it [00:00, ?it/s]\u001b[A\n",
      " 54%|█████▍    | 136/250 [01:05<00:54,  2.09it/s]\n",
      "0it [00:00, ?it/s]\u001b[A\n",
      "10it [00:00, 93.87it/s]\u001b[A"
     ]
    },
    {
     "name": "stdout",
     "output_type": "stream",
     "text": [
      "Step: 135 #### Part2: Pseudo-label generation\n",
      "Step: 135 #### Part3:Train F and C using Pseudo-label\n",
      "Step: 135 #### Part4: Evaluation\n",
      "Current accuracy is:  0.26490566037735847\n",
      "Step: 136 #### Part1: Multi-way Adversarial Adaptation\n"
     ]
    },
    {
     "name": "stderr",
     "output_type": "stream",
     "text": [
      "\n",
      "20it [00:00, 93.79it/s]\u001b[A\n",
      "0it [00:00, ?it/s]\u001b[A\n",
      "10it [00:00, 93.35it/s]\u001b[A\n",
      "20it [00:00, 93.27it/s]\u001b[A\n",
      "0it [00:00, ?it/s]\u001b[A\n",
      " 55%|█████▍    | 137/250 [01:06<00:53,  2.10it/s]\n",
      "0it [00:00, ?it/s]\u001b[A\n",
      "10it [00:00, 95.23it/s]\u001b[A"
     ]
    },
    {
     "name": "stdout",
     "output_type": "stream",
     "text": [
      "Step: 136 #### Part2: Pseudo-label generation\n",
      "Step: 136 #### Part3:Train F and C using Pseudo-label\n",
      "Step: 136 #### Part4: Evaluation\n",
      "Current accuracy is:  0.26716981132075474\n",
      "Step: 137 #### Part1: Multi-way Adversarial Adaptation\n"
     ]
    },
    {
     "name": "stderr",
     "output_type": "stream",
     "text": [
      "\n",
      "20it [00:00, 94.65it/s]\u001b[A\n",
      "0it [00:00, ?it/s]\u001b[A\n",
      "10it [00:00, 95.11it/s]\u001b[A\n",
      "20it [00:00, 94.75it/s]\u001b[A\n",
      "0it [00:00, ?it/s]\u001b[A\n",
      " 55%|█████▌    | 138/250 [01:06<00:52,  2.11it/s]\n",
      "0it [00:00, ?it/s]\u001b[A\n",
      "10it [00:00, 94.53it/s]\u001b[A"
     ]
    },
    {
     "name": "stdout",
     "output_type": "stream",
     "text": [
      "Step: 137 #### Part2: Pseudo-label generation\n",
      "Step: 137 #### Part3:Train F and C using Pseudo-label\n",
      "Step: 137 #### Part4: Evaluation\n",
      "Current accuracy is:  0.26716981132075474\n",
      "Step: 138 #### Part1: Multi-way Adversarial Adaptation\n"
     ]
    },
    {
     "name": "stderr",
     "output_type": "stream",
     "text": [
      "\n",
      "20it [00:00, 94.24it/s]\u001b[A\n",
      "0it [00:00, ?it/s]\u001b[A\n",
      "10it [00:00, 96.32it/s]\u001b[A\n",
      "20it [00:00, 95.34it/s]\u001b[A\n",
      "0it [00:00, ?it/s]\u001b[A\n",
      " 56%|█████▌    | 139/250 [01:07<00:52,  2.12it/s]\n",
      "0it [00:00, ?it/s]\u001b[A\n",
      "10it [00:00, 93.09it/s]\u001b[A"
     ]
    },
    {
     "name": "stdout",
     "output_type": "stream",
     "text": [
      "Step: 138 #### Part2: Pseudo-label generation\n",
      "Step: 138 #### Part3:Train F and C using Pseudo-label\n",
      "Step: 138 #### Part4: Evaluation\n",
      "Current accuracy is:  0.2641509433962264\n",
      "Step: 139 #### Part1: Multi-way Adversarial Adaptation\n"
     ]
    },
    {
     "name": "stderr",
     "output_type": "stream",
     "text": [
      "\n",
      "20it [00:00, 93.04it/s]\u001b[A\n",
      "0it [00:00, ?it/s]\u001b[A\n",
      "10it [00:00, 94.53it/s]\u001b[A\n",
      "19it [00:00, 91.88it/s]\u001b[A\n",
      "20it [00:00, 89.64it/s]\u001b[A\n",
      "0it [00:00, ?it/s]\u001b[A\n",
      " 56%|█████▌    | 140/250 [01:07<00:52,  2.11it/s]\n",
      "0it [00:00, ?it/s]\u001b[A\n",
      "9it [00:00, 88.13it/s]\u001b[A"
     ]
    },
    {
     "name": "stdout",
     "output_type": "stream",
     "text": [
      "Step: 139 #### Part2: Pseudo-label generation\n",
      "Step: 139 #### Part3:Train F and C using Pseudo-label\n",
      "Step: 139 #### Part4: Evaluation\n",
      "Current accuracy is:  0.2679245283018868\n",
      "Step: 140 #### Part1: Multi-way Adversarial Adaptation\n"
     ]
    },
    {
     "name": "stderr",
     "output_type": "stream",
     "text": [
      "\n",
      "19it [00:00, 88.96it/s]\u001b[A\n",
      "20it [00:00, 89.63it/s]\u001b[A\n",
      "0it [00:00, ?it/s]\u001b[A\n",
      "10it [00:00, 95.67it/s]\u001b[A\n",
      "20it [00:00, 95.20it/s]\u001b[A\n",
      "0it [00:00, ?it/s]\u001b[A\n",
      " 56%|█████▋    | 141/250 [01:08<00:51,  2.11it/s]\n",
      "0it [00:00, ?it/s]\u001b[A\n",
      "10it [00:00, 95.64it/s]\u001b[A"
     ]
    },
    {
     "name": "stdout",
     "output_type": "stream",
     "text": [
      "Step: 140 #### Part2: Pseudo-label generation\n",
      "Step: 140 #### Part3:Train F and C using Pseudo-label\n",
      "Step: 140 #### Part4: Evaluation\n",
      "Current accuracy is:  0.26867924528301884\n",
      "Step: 141 #### Part1: Multi-way Adversarial Adaptation\n"
     ]
    },
    {
     "name": "stderr",
     "output_type": "stream",
     "text": [
      "\n",
      "20it [00:00, 95.20it/s]\u001b[A\n",
      "0it [00:00, ?it/s]\u001b[A\n",
      "10it [00:00, 95.65it/s]\u001b[A\n",
      "20it [00:00, 95.19it/s]\u001b[A\n",
      "0it [00:00, ?it/s]\u001b[A\n",
      " 57%|█████▋    | 142/250 [01:08<00:50,  2.12it/s]\n",
      "0it [00:00, ?it/s]\u001b[A\n",
      "10it [00:00, 94.72it/s]\u001b[A"
     ]
    },
    {
     "name": "stdout",
     "output_type": "stream",
     "text": [
      "Step: 141 #### Part2: Pseudo-label generation\n",
      "Step: 141 #### Part3:Train F and C using Pseudo-label\n",
      "Step: 141 #### Part4: Evaluation\n",
      "Current accuracy is:  0.26867924528301884\n",
      "Step: 142 #### Part1: Multi-way Adversarial Adaptation\n"
     ]
    },
    {
     "name": "stderr",
     "output_type": "stream",
     "text": [
      "\n",
      "20it [00:00, 93.63it/s]\u001b[A\n",
      "0it [00:00, ?it/s]\u001b[A\n",
      "10it [00:00, 94.58it/s]\u001b[A\n",
      "20it [00:00, 94.56it/s]\u001b[A\n",
      "0it [00:00, ?it/s]\u001b[A\n",
      " 57%|█████▋    | 143/250 [01:09<00:50,  2.12it/s]\n",
      "0it [00:00, ?it/s]\u001b[A\n",
      "10it [00:00, 94.75it/s]\u001b[A"
     ]
    },
    {
     "name": "stdout",
     "output_type": "stream",
     "text": [
      "Step: 142 #### Part2: Pseudo-label generation\n",
      "Step: 142 #### Part3:Train F and C using Pseudo-label\n",
      "Step: 142 #### Part4: Evaluation\n",
      "Current accuracy is:  0.26264150943396225\n",
      "Step: 143 #### Part1: Multi-way Adversarial Adaptation\n"
     ]
    },
    {
     "name": "stderr",
     "output_type": "stream",
     "text": [
      "\n",
      "20it [00:00, 94.34it/s]\u001b[A\n",
      "0it [00:00, ?it/s]\u001b[A\n",
      "10it [00:00, 95.56it/s]\u001b[A\n",
      "20it [00:00, 94.96it/s]\u001b[A\n",
      "0it [00:00, ?it/s]\u001b[A\n",
      " 58%|█████▊    | 144/250 [01:09<00:49,  2.13it/s]\n",
      "0it [00:00, ?it/s]\u001b[A\n",
      "9it [00:00, 88.20it/s]\u001b[A"
     ]
    },
    {
     "name": "stdout",
     "output_type": "stream",
     "text": [
      "Step: 143 #### Part2: Pseudo-label generation\n",
      "Step: 143 #### Part3:Train F and C using Pseudo-label\n",
      "Step: 143 #### Part4: Evaluation\n",
      "Current accuracy is:  0.26264150943396225\n",
      "Step: 144 #### Part1: Multi-way Adversarial Adaptation\n"
     ]
    },
    {
     "name": "stderr",
     "output_type": "stream",
     "text": [
      "\n",
      "18it [00:00, 87.99it/s]\u001b[A\n",
      "20it [00:00, 87.82it/s]\u001b[A\n",
      "0it [00:00, ?it/s]\u001b[A\n",
      "9it [00:00, 88.83it/s]\u001b[A\n",
      "18it [00:00, 87.53it/s]\u001b[A\n",
      "20it [00:00, 86.63it/s]\u001b[A\n",
      "0it [00:00, ?it/s]\u001b[A\n",
      " 58%|█████▊    | 145/250 [01:10<00:50,  2.08it/s]\n",
      "0it [00:00, ?it/s]\u001b[A\n",
      "9it [00:00, 87.00it/s]\u001b[A"
     ]
    },
    {
     "name": "stdout",
     "output_type": "stream",
     "text": [
      "Step: 144 #### Part2: Pseudo-label generation\n",
      "Step: 144 #### Part3:Train F and C using Pseudo-label\n",
      "Step: 144 #### Part4: Evaluation\n",
      "Current accuracy is:  0.270188679245283\n",
      "Step: 145 #### Part1: Multi-way Adversarial Adaptation\n"
     ]
    },
    {
     "name": "stderr",
     "output_type": "stream",
     "text": [
      "\n",
      "18it [00:00, 87.13it/s]\u001b[A\n",
      "20it [00:00, 87.41it/s]\u001b[A\n",
      "0it [00:00, ?it/s]\u001b[A\n",
      "10it [00:00, 94.78it/s]\u001b[A\n",
      "20it [00:00, 94.28it/s]\u001b[A\n",
      "0it [00:00, ?it/s]\u001b[A\n",
      " 58%|█████▊    | 146/250 [01:10<00:50,  2.08it/s]\n",
      "0it [00:00, ?it/s]\u001b[A\n",
      "10it [00:00, 91.30it/s]\u001b[A"
     ]
    },
    {
     "name": "stdout",
     "output_type": "stream",
     "text": [
      "Step: 145 #### Part2: Pseudo-label generation\n",
      "Step: 145 #### Part3:Train F and C using Pseudo-label\n",
      "Step: 145 #### Part4: Evaluation\n",
      "Current accuracy is:  0.2664150943396226\n",
      "Step: 146 #### Part1: Multi-way Adversarial Adaptation\n"
     ]
    },
    {
     "name": "stderr",
     "output_type": "stream",
     "text": [
      "\n",
      "19it [00:00, 89.05it/s]\u001b[A\n",
      "20it [00:00, 87.14it/s]\u001b[A\n",
      "0it [00:00, ?it/s]\u001b[A\n",
      "9it [00:00, 88.84it/s]\u001b[A\n",
      "19it [00:00, 89.23it/s]\u001b[A\n",
      "20it [00:00, 89.21it/s]\u001b[A\n",
      "0it [00:00, ?it/s]\u001b[A\n",
      " 59%|█████▉    | 147/250 [01:11<00:50,  2.06it/s]\n",
      "0it [00:00, ?it/s]\u001b[A\n",
      "10it [00:00, 91.95it/s]\u001b[A"
     ]
    },
    {
     "name": "stdout",
     "output_type": "stream",
     "text": [
      "Step: 146 #### Part2: Pseudo-label generation\n",
      "Step: 146 #### Part3:Train F and C using Pseudo-label\n",
      "Step: 146 #### Part4: Evaluation\n",
      "Current accuracy is:  0.26867924528301884\n",
      "Step: 147 #### Part1: Multi-way Adversarial Adaptation\n"
     ]
    },
    {
     "name": "stderr",
     "output_type": "stream",
     "text": [
      "\n",
      "20it [00:00, 92.14it/s]\u001b[A\n",
      "0it [00:00, ?it/s]\u001b[A\n",
      "10it [00:00, 91.79it/s]\u001b[A\n",
      "20it [00:00, 91.72it/s]\u001b[A\n",
      "0it [00:00, ?it/s]\u001b[A\n",
      " 59%|█████▉    | 148/250 [01:11<00:49,  2.07it/s]\n",
      "0it [00:00, ?it/s]\u001b[A\n",
      "9it [00:00, 88.18it/s]\u001b[A"
     ]
    },
    {
     "name": "stdout",
     "output_type": "stream",
     "text": [
      "Step: 147 #### Part2: Pseudo-label generation\n",
      "Step: 147 #### Part3:Train F and C using Pseudo-label\n",
      "Step: 147 #### Part4: Evaluation\n",
      "Current accuracy is:  0.26490566037735847\n",
      "Step: 148 #### Part1: Multi-way Adversarial Adaptation\n"
     ]
    },
    {
     "name": "stderr",
     "output_type": "stream",
     "text": [
      "\n",
      "18it [00:00, 87.48it/s]\u001b[A\n",
      "20it [00:00, 86.62it/s]\u001b[A\n",
      "0it [00:00, ?it/s]\u001b[A\n",
      "9it [00:00, 87.86it/s]\u001b[A\n",
      "19it [00:00, 88.62it/s]\u001b[A\n",
      "20it [00:00, 89.00it/s]\u001b[A\n",
      "0it [00:00, ?it/s]\u001b[A\n",
      " 60%|█████▉    | 149/250 [01:12<00:49,  2.05it/s]\n",
      "0it [00:00, ?it/s]\u001b[A\n",
      "10it [00:00, 92.53it/s]\u001b[A"
     ]
    },
    {
     "name": "stdout",
     "output_type": "stream",
     "text": [
      "Step: 148 #### Part2: Pseudo-label generation\n",
      "Step: 148 #### Part3:Train F and C using Pseudo-label\n",
      "Step: 148 #### Part4: Evaluation\n",
      "Current accuracy is:  0.2656603773584906\n",
      "Step: 149 #### Part1: Multi-way Adversarial Adaptation\n"
     ]
    },
    {
     "name": "stderr",
     "output_type": "stream",
     "text": [
      "\n",
      "19it [00:00, 90.73it/s]\u001b[A\n",
      "20it [00:00, 89.18it/s]\u001b[A\n",
      "0it [00:00, ?it/s]\u001b[A\n",
      "9it [00:00, 87.45it/s]\u001b[A\n",
      "18it [00:00, 86.74it/s]\u001b[A\n",
      "20it [00:00, 84.37it/s]\u001b[A\n",
      "0it [00:00, ?it/s]\u001b[A\n",
      " 60%|██████    | 150/250 [01:12<00:49,  2.03it/s]\n",
      "0it [00:00, ?it/s]\u001b[A\n",
      "9it [00:00, 89.56it/s]\u001b[A"
     ]
    },
    {
     "name": "stdout",
     "output_type": "stream",
     "text": [
      "Step: 149 #### Part2: Pseudo-label generation\n",
      "Step: 149 #### Part3:Train F and C using Pseudo-label\n",
      "Step: 149 #### Part4: Evaluation\n",
      "Current accuracy is:  0.26867924528301884\n",
      "Step: 150 #### Part1: Multi-way Adversarial Adaptation\n"
     ]
    },
    {
     "name": "stderr",
     "output_type": "stream",
     "text": [
      "\n",
      "18it [00:00, 87.92it/s]\u001b[A\n",
      "20it [00:00, 86.52it/s]\u001b[A\n",
      "0it [00:00, ?it/s]\u001b[A\n",
      "9it [00:00, 86.98it/s]\u001b[A\n",
      "18it [00:00, 86.81it/s]\u001b[A\n",
      "20it [00:00, 86.43it/s]\u001b[A\n",
      "0it [00:00, ?it/s]\u001b[A\n",
      " 60%|██████    | 151/250 [01:13<00:49,  2.00it/s]\n",
      "0it [00:00, ?it/s]\u001b[A\n",
      "10it [00:00, 90.43it/s]\u001b[A"
     ]
    },
    {
     "name": "stdout",
     "output_type": "stream",
     "text": [
      "Step: 150 #### Part2: Pseudo-label generation\n",
      "Step: 150 #### Part3:Train F and C using Pseudo-label\n",
      "Step: 150 #### Part4: Evaluation\n",
      "Current accuracy is:  0.2664150943396226\n",
      "Step: 151 #### Part1: Multi-way Adversarial Adaptation\n"
     ]
    },
    {
     "name": "stderr",
     "output_type": "stream",
     "text": [
      "\n",
      "19it [00:00, 89.87it/s]\u001b[A\n",
      "20it [00:00, 89.33it/s]\u001b[A\n",
      "0it [00:00, ?it/s]\u001b[A\n",
      "9it [00:00, 88.39it/s]\u001b[A\n",
      "18it [00:00, 87.46it/s]\u001b[A\n",
      "20it [00:00, 85.18it/s]\u001b[A\n",
      "0it [00:00, ?it/s]\u001b[A\n",
      " 61%|██████    | 152/250 [01:13<00:49,  2.00it/s]\n",
      "0it [00:00, ?it/s]\u001b[A\n",
      "9it [00:00, 85.05it/s]\u001b[A"
     ]
    },
    {
     "name": "stdout",
     "output_type": "stream",
     "text": [
      "Step: 151 #### Part2: Pseudo-label generation\n",
      "Step: 151 #### Part3:Train F and C using Pseudo-label\n",
      "Step: 151 #### Part4: Evaluation\n",
      "Current accuracy is:  0.2656603773584906\n",
      "Step: 152 #### Part1: Multi-way Adversarial Adaptation\n"
     ]
    },
    {
     "name": "stderr",
     "output_type": "stream",
     "text": [
      "\n",
      "18it [00:00, 85.28it/s]\u001b[A\n",
      "20it [00:00, 85.52it/s]\u001b[A\n",
      "0it [00:00, ?it/s]\u001b[A\n",
      "10it [00:00, 92.47it/s]\u001b[A\n",
      "19it [00:00, 90.92it/s]\u001b[A\n",
      "20it [00:00, 89.77it/s]\u001b[A\n",
      "0it [00:00, ?it/s]\u001b[A\n",
      " 61%|██████    | 153/250 [01:14<00:48,  1.98it/s]\n",
      "0it [00:00, ?it/s]\u001b[A\n",
      "9it [00:00, 83.01it/s]\u001b[A"
     ]
    },
    {
     "name": "stdout",
     "output_type": "stream",
     "text": [
      "Step: 152 #### Part2: Pseudo-label generation\n",
      "Step: 152 #### Part3:Train F and C using Pseudo-label\n",
      "Step: 152 #### Part4: Evaluation\n",
      "Current accuracy is:  0.2656603773584906\n",
      "Step: 153 #### Part1: Multi-way Adversarial Adaptation\n"
     ]
    },
    {
     "name": "stderr",
     "output_type": "stream",
     "text": [
      "\n",
      "17it [00:00, 81.96it/s]\u001b[A\n",
      "20it [00:00, 79.60it/s]\u001b[A\n",
      "0it [00:00, ?it/s]\u001b[A\n",
      "9it [00:00, 82.19it/s]\u001b[A\n",
      "18it [00:00, 82.48it/s]\u001b[A\n",
      "20it [00:00, 83.68it/s]\u001b[A\n",
      "0it [00:00, ?it/s]\u001b[A\n",
      " 62%|██████▏   | 154/250 [01:14<00:49,  1.95it/s]\n",
      "0it [00:00, ?it/s]\u001b[A\n",
      "10it [00:00, 91.47it/s]\u001b[A"
     ]
    },
    {
     "name": "stdout",
     "output_type": "stream",
     "text": [
      "Step: 153 #### Part2: Pseudo-label generation\n",
      "Step: 153 #### Part3:Train F and C using Pseudo-label\n",
      "Step: 153 #### Part4: Evaluation\n",
      "Current accuracy is:  0.270188679245283\n",
      "Step: 154 #### Part1: Multi-way Adversarial Adaptation\n"
     ]
    },
    {
     "name": "stderr",
     "output_type": "stream",
     "text": [
      "\n",
      "19it [00:00, 90.03it/s]\u001b[A\n",
      "20it [00:00, 88.75it/s]\u001b[A\n",
      "0it [00:00, ?it/s]\u001b[A\n",
      "9it [00:00, 86.46it/s]\u001b[A\n",
      "18it [00:00, 86.18it/s]\u001b[A\n",
      "20it [00:00, 85.35it/s]\u001b[A\n",
      "0it [00:00, ?it/s]\u001b[A\n",
      " 62%|██████▏   | 155/250 [01:15<00:48,  1.95it/s]\n",
      "0it [00:00, ?it/s]\u001b[A\n",
      "9it [00:00, 89.16it/s]\u001b[A"
     ]
    },
    {
     "name": "stdout",
     "output_type": "stream",
     "text": [
      "Step: 154 #### Part2: Pseudo-label generation\n",
      "Step: 154 #### Part3:Train F and C using Pseudo-label\n",
      "Step: 154 #### Part4: Evaluation\n",
      "Current accuracy is:  0.2679245283018868\n",
      "Step: 155 #### Part1: Multi-way Adversarial Adaptation\n"
     ]
    },
    {
     "name": "stderr",
     "output_type": "stream",
     "text": [
      "\n",
      "18it [00:00, 87.48it/s]\u001b[A\n",
      "20it [00:00, 86.60it/s]\u001b[A\n",
      "0it [00:00, ?it/s]\u001b[A\n",
      "9it [00:00, 84.85it/s]\u001b[A\n",
      "18it [00:00, 84.54it/s]\u001b[A\n",
      "20it [00:00, 83.42it/s]\u001b[A\n",
      "0it [00:00, ?it/s]\u001b[A\n",
      " 62%|██████▏   | 156/250 [01:15<00:48,  1.95it/s]\n",
      "0it [00:00, ?it/s]\u001b[A\n",
      "9it [00:00, 86.57it/s]\u001b[A"
     ]
    },
    {
     "name": "stdout",
     "output_type": "stream",
     "text": [
      "Step: 155 #### Part2: Pseudo-label generation\n",
      "Step: 155 #### Part3:Train F and C using Pseudo-label\n",
      "Step: 155 #### Part4: Evaluation\n",
      "Current accuracy is:  0.26867924528301884\n",
      "Step: 156 #### Part1: Multi-way Adversarial Adaptation\n"
     ]
    },
    {
     "name": "stderr",
     "output_type": "stream",
     "text": [
      "\n",
      "18it [00:00, 87.48it/s]\u001b[A\n",
      "20it [00:00, 87.65it/s]\u001b[A\n",
      "0it [00:00, ?it/s]\u001b[A\n",
      "10it [00:00, 89.98it/s]\u001b[A\n",
      "19it [00:00, 89.22it/s]\u001b[A\n",
      "20it [00:00, 88.52it/s]\u001b[A\n",
      "0it [00:00, ?it/s]\u001b[A\n",
      " 63%|██████▎   | 157/250 [01:16<00:47,  1.96it/s]\n",
      "0it [00:00, ?it/s]\u001b[A\n",
      "9it [00:00, 87.84it/s]\u001b[A"
     ]
    },
    {
     "name": "stdout",
     "output_type": "stream",
     "text": [
      "Step: 156 #### Part2: Pseudo-label generation\n",
      "Step: 156 #### Part3:Train F and C using Pseudo-label\n",
      "Step: 156 #### Part4: Evaluation\n",
      "Current accuracy is:  0.26716981132075474\n",
      "Step: 157 #### Part1: Multi-way Adversarial Adaptation\n"
     ]
    },
    {
     "name": "stderr",
     "output_type": "stream",
     "text": [
      "\n",
      "18it [00:00, 87.32it/s]\u001b[A\n",
      "20it [00:00, 86.70it/s]\u001b[A\n",
      "0it [00:00, ?it/s]\u001b[A\n",
      "10it [00:00, 90.35it/s]\u001b[A\n",
      "20it [00:00, 91.32it/s]\u001b[A\n",
      "0it [00:00, ?it/s]\u001b[A\n",
      " 63%|██████▎   | 158/250 [01:16<00:46,  1.99it/s]\n",
      "0it [00:00, ?it/s]\u001b[A\n",
      "9it [00:00, 88.85it/s]\u001b[A"
     ]
    },
    {
     "name": "stdout",
     "output_type": "stream",
     "text": [
      "Step: 157 #### Part2: Pseudo-label generation\n",
      "Step: 157 #### Part3:Train F and C using Pseudo-label\n",
      "Step: 157 #### Part4: Evaluation\n",
      "Current accuracy is:  0.2656603773584906\n",
      "Step: 158 #### Part1: Multi-way Adversarial Adaptation\n"
     ]
    },
    {
     "name": "stderr",
     "output_type": "stream",
     "text": [
      "\n",
      "18it [00:00, 87.37it/s]\u001b[A\n",
      "20it [00:00, 86.12it/s]\u001b[A\n",
      "0it [00:00, ?it/s]\u001b[A\n",
      "9it [00:00, 88.22it/s]\u001b[A\n",
      "18it [00:00, 87.79it/s]\u001b[A\n",
      "20it [00:00, 87.28it/s]\u001b[A\n",
      "0it [00:00, ?it/s]\u001b[A\n",
      " 64%|██████▎   | 159/250 [01:17<00:45,  1.98it/s]\n",
      "0it [00:00, ?it/s]\u001b[A\n",
      "10it [00:00, 94.00it/s]\u001b[A"
     ]
    },
    {
     "name": "stdout",
     "output_type": "stream",
     "text": [
      "Step: 158 #### Part2: Pseudo-label generation\n",
      "Step: 158 #### Part3:Train F and C using Pseudo-label\n",
      "Step: 158 #### Part4: Evaluation\n",
      "Current accuracy is:  0.26867924528301884\n",
      "Step: 159 #### Part1: Multi-way Adversarial Adaptation\n"
     ]
    },
    {
     "name": "stderr",
     "output_type": "stream",
     "text": [
      "\n",
      "20it [00:00, 93.54it/s]\u001b[A\n",
      "0it [00:00, ?it/s]\u001b[A\n",
      "10it [00:00, 93.30it/s]\u001b[A\n",
      "20it [00:00, 93.20it/s]\u001b[A\n",
      "0it [00:00, ?it/s]\u001b[A\n",
      " 64%|██████▍   | 160/250 [01:17<00:44,  2.02it/s]\n",
      "0it [00:00, ?it/s]\u001b[A\n",
      "10it [00:00, 92.78it/s]\u001b[A"
     ]
    },
    {
     "name": "stdout",
     "output_type": "stream",
     "text": [
      "Step: 159 #### Part2: Pseudo-label generation\n",
      "Step: 159 #### Part3:Train F and C using Pseudo-label\n",
      "Step: 159 #### Part4: Evaluation\n",
      "Current accuracy is:  0.2679245283018868\n",
      "Step: 160 #### Part1: Multi-way Adversarial Adaptation\n"
     ]
    },
    {
     "name": "stderr",
     "output_type": "stream",
     "text": [
      "\n",
      "20it [00:00, 92.87it/s]\u001b[A\n",
      "0it [00:00, ?it/s]\u001b[A\n",
      "10it [00:00, 94.89it/s]\u001b[A\n",
      "20it [00:00, 94.61it/s]\u001b[A\n",
      "0it [00:00, ?it/s]\u001b[A\n",
      " 64%|██████▍   | 161/250 [01:18<00:43,  2.05it/s]\n",
      "0it [00:00, ?it/s]\u001b[A\n",
      "10it [00:00, 95.07it/s]\u001b[A"
     ]
    },
    {
     "name": "stdout",
     "output_type": "stream",
     "text": [
      "Step: 160 #### Part2: Pseudo-label generation\n",
      "Step: 160 #### Part3:Train F and C using Pseudo-label\n",
      "Step: 160 #### Part4: Evaluation\n",
      "Current accuracy is:  0.2611320754716981\n",
      "Step: 161 #### Part1: Multi-way Adversarial Adaptation\n"
     ]
    },
    {
     "name": "stderr",
     "output_type": "stream",
     "text": [
      "\n",
      "20it [00:00, 94.45it/s]\u001b[A\n",
      "0it [00:00, ?it/s]\u001b[A\n",
      "10it [00:00, 95.51it/s]\u001b[A\n",
      "20it [00:00, 94.91it/s]\u001b[A\n",
      "0it [00:00, ?it/s]\u001b[A\n",
      " 65%|██████▍   | 162/250 [01:18<00:42,  2.08it/s]\n",
      "0it [00:00, ?it/s]\u001b[A\n",
      "10it [00:00, 93.27it/s]\u001b[A"
     ]
    },
    {
     "name": "stdout",
     "output_type": "stream",
     "text": [
      "Step: 161 #### Part2: Pseudo-label generation\n",
      "Step: 161 #### Part3:Train F and C using Pseudo-label\n",
      "Step: 161 #### Part4: Evaluation\n",
      "Current accuracy is:  0.26943396226415095\n",
      "Step: 162 #### Part1: Multi-way Adversarial Adaptation\n"
     ]
    },
    {
     "name": "stderr",
     "output_type": "stream",
     "text": [
      "\n",
      "20it [00:00, 93.31it/s]\u001b[A\n",
      "0it [00:00, ?it/s]\u001b[A\n",
      "10it [00:00, 94.77it/s]\u001b[A\n",
      "20it [00:00, 94.62it/s]\u001b[A\n",
      "0it [00:00, ?it/s]\u001b[A\n",
      " 65%|██████▌   | 163/250 [01:19<00:41,  2.09it/s]\n",
      "0it [00:00, ?it/s]\u001b[A\n",
      "10it [00:00, 94.50it/s]\u001b[A"
     ]
    },
    {
     "name": "stdout",
     "output_type": "stream",
     "text": [
      "Step: 162 #### Part2: Pseudo-label generation\n",
      "Step: 162 #### Part3:Train F and C using Pseudo-label\n",
      "Step: 162 #### Part4: Evaluation\n",
      "Current accuracy is:  0.26339622641509436\n",
      "Step: 163 #### Part1: Multi-way Adversarial Adaptation\n"
     ]
    },
    {
     "name": "stderr",
     "output_type": "stream",
     "text": [
      "\n",
      "20it [00:00, 93.90it/s]\u001b[A\n",
      "0it [00:00, ?it/s]\u001b[A\n",
      "10it [00:00, 94.05it/s]\u001b[A\n",
      "20it [00:00, 93.64it/s]\u001b[A\n",
      "0it [00:00, ?it/s]\u001b[A\n",
      " 66%|██████▌   | 164/250 [01:19<00:40,  2.10it/s]\n",
      "0it [00:00, ?it/s]\u001b[A\n",
      "10it [00:00, 93.88it/s]\u001b[A"
     ]
    },
    {
     "name": "stdout",
     "output_type": "stream",
     "text": [
      "Step: 163 #### Part2: Pseudo-label generation\n",
      "Step: 163 #### Part3:Train F and C using Pseudo-label\n",
      "Step: 163 #### Part4: Evaluation\n",
      "Current accuracy is:  0.26264150943396225\n",
      "Step: 164 #### Part1: Multi-way Adversarial Adaptation\n"
     ]
    },
    {
     "name": "stderr",
     "output_type": "stream",
     "text": [
      "\n",
      "20it [00:00, 92.60it/s]\u001b[A\n",
      "0it [00:00, ?it/s]\u001b[A\n",
      "10it [00:00, 91.80it/s]\u001b[A\n",
      "20it [00:00, 92.00it/s]\u001b[A\n",
      "0it [00:00, ?it/s]\u001b[A\n",
      " 66%|██████▌   | 165/250 [01:20<00:40,  2.10it/s]\n",
      "0it [00:00, ?it/s]\u001b[A\n",
      "10it [00:00, 95.41it/s]\u001b[A"
     ]
    },
    {
     "name": "stdout",
     "output_type": "stream",
     "text": [
      "Step: 164 #### Part2: Pseudo-label generation\n",
      "Step: 164 #### Part3:Train F and C using Pseudo-label\n",
      "Step: 164 #### Part4: Evaluation\n",
      "Current accuracy is:  0.2664150943396226\n",
      "Step: 165 #### Part1: Multi-way Adversarial Adaptation\n"
     ]
    },
    {
     "name": "stderr",
     "output_type": "stream",
     "text": [
      "\n",
      "20it [00:00, 94.78it/s]\u001b[A\n",
      "0it [00:00, ?it/s]\u001b[A\n",
      "10it [00:00, 91.14it/s]\u001b[A\n",
      "19it [00:00, 90.65it/s]\u001b[A\n",
      "20it [00:00, 90.12it/s]\u001b[A\n",
      "0it [00:00, ?it/s]\u001b[A\n",
      " 66%|██████▋   | 166/250 [01:20<00:40,  2.10it/s]\n",
      "0it [00:00, ?it/s]\u001b[A\n",
      "10it [00:00, 91.00it/s]\u001b[A"
     ]
    },
    {
     "name": "stdout",
     "output_type": "stream",
     "text": [
      "Step: 165 #### Part2: Pseudo-label generation\n",
      "Step: 165 #### Part3:Train F and C using Pseudo-label\n",
      "Step: 165 #### Part4: Evaluation\n",
      "Current accuracy is:  0.2664150943396226\n",
      "Step: 166 #### Part1: Multi-way Adversarial Adaptation\n"
     ]
    },
    {
     "name": "stderr",
     "output_type": "stream",
     "text": [
      "\n",
      "19it [00:00, 90.35it/s]\u001b[A\n",
      "20it [00:00, 89.60it/s]\u001b[A\n",
      "0it [00:00, ?it/s]\u001b[A\n",
      "9it [00:00, 89.46it/s]\u001b[A\n",
      "18it [00:00, 89.44it/s]\u001b[A\n",
      "20it [00:00, 89.25it/s]\u001b[A\n",
      "0it [00:00, ?it/s]\u001b[A\n",
      " 67%|██████▋   | 167/250 [01:21<00:39,  2.08it/s]\n",
      "0it [00:00, ?it/s]\u001b[A\n",
      "10it [00:00, 90.89it/s]\u001b[A"
     ]
    },
    {
     "name": "stdout",
     "output_type": "stream",
     "text": [
      "Step: 166 #### Part2: Pseudo-label generation\n",
      "Step: 166 #### Part3:Train F and C using Pseudo-label\n",
      "Step: 166 #### Part4: Evaluation\n",
      "Current accuracy is:  0.26943396226415095\n",
      "Step: 167 #### Part1: Multi-way Adversarial Adaptation\n"
     ]
    },
    {
     "name": "stderr",
     "output_type": "stream",
     "text": [
      "\n",
      "19it [00:00, 90.39it/s]\u001b[A\n",
      "20it [00:00, 89.56it/s]\u001b[A\n",
      "0it [00:00, ?it/s]\u001b[A\n",
      "10it [00:00, 92.22it/s]\u001b[A\n",
      "20it [00:00, 92.36it/s]\u001b[A\n",
      "0it [00:00, ?it/s]\u001b[A\n",
      " 67%|██████▋   | 168/250 [01:21<00:39,  2.08it/s]\n",
      "0it [00:00, ?it/s]\u001b[A\n",
      "9it [00:00, 86.00it/s]\u001b[A"
     ]
    },
    {
     "name": "stdout",
     "output_type": "stream",
     "text": [
      "Step: 167 #### Part2: Pseudo-label generation\n",
      "Step: 167 #### Part3:Train F and C using Pseudo-label\n",
      "Step: 167 #### Part4: Evaluation\n",
      "Current accuracy is:  0.26943396226415095\n",
      "Step: 168 #### Part1: Multi-way Adversarial Adaptation\n"
     ]
    },
    {
     "name": "stderr",
     "output_type": "stream",
     "text": [
      "\n",
      "18it [00:00, 85.84it/s]\u001b[A\n",
      "20it [00:00, 85.76it/s]\u001b[A\n",
      "0it [00:00, ?it/s]\u001b[A\n",
      "10it [00:00, 90.53it/s]\u001b[A\n",
      "19it [00:00, 90.30it/s]\u001b[A\n",
      "20it [00:00, 90.06it/s]\u001b[A\n",
      "0it [00:00, ?it/s]\u001b[A\n",
      " 68%|██████▊   | 169/250 [01:22<00:39,  2.06it/s]\n",
      "0it [00:00, ?it/s]\u001b[A\n",
      "10it [00:00, 90.27it/s]\u001b[A"
     ]
    },
    {
     "name": "stdout",
     "output_type": "stream",
     "text": [
      "Step: 168 #### Part2: Pseudo-label generation\n",
      "Step: 168 #### Part3:Train F and C using Pseudo-label\n",
      "Step: 168 #### Part4: Evaluation\n",
      "Current accuracy is:  0.26867924528301884\n",
      "Step: 169 #### Part1: Multi-way Adversarial Adaptation\n"
     ]
    },
    {
     "name": "stderr",
     "output_type": "stream",
     "text": [
      "\n",
      "19it [00:00, 89.99it/s]\u001b[A\n",
      "20it [00:00, 89.49it/s]\u001b[A\n",
      "0it [00:00, ?it/s]\u001b[A\n",
      "10it [00:00, 93.37it/s]\u001b[A\n",
      "20it [00:00, 92.97it/s]\u001b[A\n",
      "0it [00:00, ?it/s]\u001b[A\n",
      " 68%|██████▊   | 170/250 [01:22<00:38,  2.06it/s]\n",
      "0it [00:00, ?it/s]\u001b[A\n",
      "10it [00:00, 92.69it/s]\u001b[A"
     ]
    },
    {
     "name": "stdout",
     "output_type": "stream",
     "text": [
      "Step: 169 #### Part2: Pseudo-label generation\n",
      "Step: 169 #### Part3:Train F and C using Pseudo-label\n",
      "Step: 169 #### Part4: Evaluation\n",
      "Current accuracy is:  0.26716981132075474\n",
      "Step: 170 #### Part1: Multi-way Adversarial Adaptation\n"
     ]
    },
    {
     "name": "stderr",
     "output_type": "stream",
     "text": [
      "\n",
      "20it [00:00, 92.36it/s]\u001b[A\n",
      "0it [00:00, ?it/s]\u001b[A\n",
      "10it [00:00, 94.33it/s]\u001b[A\n",
      "20it [00:00, 93.65it/s]\u001b[A\n",
      "0it [00:00, ?it/s]\u001b[A\n",
      " 68%|██████▊   | 171/250 [01:22<00:38,  2.06it/s]\n",
      "0it [00:00, ?it/s]\u001b[A\n",
      "10it [00:00, 93.56it/s]\u001b[A"
     ]
    },
    {
     "name": "stdout",
     "output_type": "stream",
     "text": [
      "Step: 170 #### Part2: Pseudo-label generation\n",
      "Step: 170 #### Part3:Train F and C using Pseudo-label\n",
      "Step: 170 #### Part4: Evaluation\n",
      "Current accuracy is:  0.26490566037735847\n",
      "Step: 171 #### Part1: Multi-way Adversarial Adaptation\n"
     ]
    },
    {
     "name": "stderr",
     "output_type": "stream",
     "text": [
      "\n",
      "19it [00:00, 91.91it/s]\u001b[A\n",
      "20it [00:00, 90.83it/s]\u001b[A\n",
      "0it [00:00, ?it/s]\u001b[A\n",
      "10it [00:00, 92.96it/s]\u001b[A\n",
      "20it [00:00, 93.06it/s]\u001b[A\n",
      "0it [00:00, ?it/s]\u001b[A\n",
      " 69%|██████▉   | 172/250 [01:23<00:37,  2.07it/s]\n",
      "0it [00:00, ?it/s]\u001b[A\n",
      "10it [00:00, 93.19it/s]\u001b[A"
     ]
    },
    {
     "name": "stdout",
     "output_type": "stream",
     "text": [
      "Step: 171 #### Part2: Pseudo-label generation\n",
      "Step: 171 #### Part3:Train F and C using Pseudo-label\n",
      "Step: 171 #### Part4: Evaluation\n",
      "Current accuracy is:  0.26943396226415095\n",
      "Step: 172 #### Part1: Multi-way Adversarial Adaptation\n"
     ]
    },
    {
     "name": "stderr",
     "output_type": "stream",
     "text": [
      "\n",
      "20it [00:00, 92.81it/s]\u001b[A\n",
      "0it [00:00, ?it/s]\u001b[A\n",
      "10it [00:00, 93.82it/s]\u001b[A\n",
      "20it [00:00, 93.72it/s]\u001b[A\n",
      "0it [00:00, ?it/s]\u001b[A\n",
      " 69%|██████▉   | 173/250 [01:23<00:36,  2.09it/s]\n",
      "0it [00:00, ?it/s]\u001b[A\n",
      "10it [00:00, 92.78it/s]\u001b[A"
     ]
    },
    {
     "name": "stdout",
     "output_type": "stream",
     "text": [
      "Step: 172 #### Part2: Pseudo-label generation\n",
      "Step: 172 #### Part3:Train F and C using Pseudo-label\n",
      "Step: 172 #### Part4: Evaluation\n",
      "Current accuracy is:  0.2679245283018868\n",
      "Step: 173 #### Part1: Multi-way Adversarial Adaptation\n"
     ]
    },
    {
     "name": "stderr",
     "output_type": "stream",
     "text": [
      "\n",
      "20it [00:00, 92.60it/s]\u001b[A\n",
      "0it [00:00, ?it/s]\u001b[A\n",
      "10it [00:00, 93.93it/s]\u001b[A\n",
      "20it [00:00, 93.66it/s]\u001b[A\n",
      "0it [00:00, ?it/s]\u001b[A\n",
      " 70%|██████▉   | 174/250 [01:24<00:36,  2.09it/s]\n",
      "0it [00:00, ?it/s]\u001b[A\n",
      "10it [00:00, 92.67it/s]\u001b[A"
     ]
    },
    {
     "name": "stdout",
     "output_type": "stream",
     "text": [
      "Step: 173 #### Part2: Pseudo-label generation\n",
      "Step: 173 #### Part3:Train F and C using Pseudo-label\n",
      "Step: 173 #### Part4: Evaluation\n",
      "Current accuracy is:  0.2656603773584906\n",
      "Step: 174 #### Part1: Multi-way Adversarial Adaptation\n"
     ]
    },
    {
     "name": "stderr",
     "output_type": "stream",
     "text": [
      "\n",
      "20it [00:00, 92.46it/s]\u001b[A\n",
      "0it [00:00, ?it/s]\u001b[A\n",
      "10it [00:00, 93.07it/s]\u001b[A\n",
      "20it [00:00, 93.06it/s]\u001b[A\n",
      "0it [00:00, ?it/s]\u001b[A\n",
      " 70%|███████   | 175/250 [01:24<00:35,  2.10it/s]\n",
      "0it [00:00, ?it/s]\u001b[A\n",
      "10it [00:00, 92.98it/s]\u001b[A"
     ]
    },
    {
     "name": "stdout",
     "output_type": "stream",
     "text": [
      "Step: 174 #### Part2: Pseudo-label generation\n",
      "Step: 174 #### Part3:Train F and C using Pseudo-label\n",
      "Step: 174 #### Part4: Evaluation\n",
      "Current accuracy is:  0.2656603773584906\n",
      "Step: 175 #### Part1: Multi-way Adversarial Adaptation\n"
     ]
    },
    {
     "name": "stderr",
     "output_type": "stream",
     "text": [
      "\n",
      "20it [00:00, 92.72it/s]\u001b[A\n",
      "0it [00:00, ?it/s]\u001b[A\n",
      "10it [00:00, 93.88it/s]\u001b[A\n",
      "20it [00:00, 93.70it/s]\u001b[A\n",
      "0it [00:00, ?it/s]\u001b[A\n",
      " 70%|███████   | 176/250 [01:25<00:35,  2.10it/s]\n",
      "0it [00:00, ?it/s]\u001b[A\n",
      "10it [00:00, 93.21it/s]\u001b[A"
     ]
    },
    {
     "name": "stdout",
     "output_type": "stream",
     "text": [
      "Step: 175 #### Part2: Pseudo-label generation\n",
      "Step: 175 #### Part3:Train F and C using Pseudo-label\n",
      "Step: 175 #### Part4: Evaluation\n",
      "Current accuracy is:  0.2664150943396226\n",
      "Step: 176 #### Part1: Multi-way Adversarial Adaptation\n"
     ]
    },
    {
     "name": "stderr",
     "output_type": "stream",
     "text": [
      "\n",
      "20it [00:00, 93.07it/s]\u001b[A\n",
      "0it [00:00, ?it/s]\u001b[A\n",
      "10it [00:00, 94.41it/s]\u001b[A\n",
      "20it [00:00, 94.19it/s]\u001b[A\n",
      "0it [00:00, ?it/s]\u001b[A\n",
      " 71%|███████   | 177/250 [01:25<00:34,  2.11it/s]\n",
      "0it [00:00, ?it/s]\u001b[A\n",
      "10it [00:00, 93.06it/s]\u001b[A"
     ]
    },
    {
     "name": "stdout",
     "output_type": "stream",
     "text": [
      "Step: 176 #### Part2: Pseudo-label generation\n",
      "Step: 176 #### Part3:Train F and C using Pseudo-label\n",
      "Step: 176 #### Part4: Evaluation\n",
      "Current accuracy is:  0.2664150943396226\n",
      "Step: 177 #### Part1: Multi-way Adversarial Adaptation\n"
     ]
    },
    {
     "name": "stderr",
     "output_type": "stream",
     "text": [
      "\n",
      "20it [00:00, 92.91it/s]\u001b[A\n",
      "0it [00:00, ?it/s]\u001b[A\n",
      "10it [00:00, 94.67it/s]\u001b[A\n",
      "20it [00:00, 93.62it/s]\u001b[A\n",
      "0it [00:00, ?it/s]\u001b[A\n",
      " 71%|███████   | 178/250 [01:26<00:34,  2.11it/s]\n",
      "0it [00:00, ?it/s]\u001b[A\n",
      "10it [00:00, 91.26it/s]\u001b[A"
     ]
    },
    {
     "name": "stdout",
     "output_type": "stream",
     "text": [
      "Step: 177 #### Part2: Pseudo-label generation\n",
      "Step: 177 #### Part3:Train F and C using Pseudo-label\n",
      "Step: 177 #### Part4: Evaluation\n",
      "Current accuracy is:  0.2724528301886792\n",
      "Step: 178 #### Part1: Multi-way Adversarial Adaptation\n"
     ]
    },
    {
     "name": "stderr",
     "output_type": "stream",
     "text": [
      "\n",
      "20it [00:00, 91.19it/s]\u001b[A\n",
      "0it [00:00, ?it/s]\u001b[A\n",
      "10it [00:00, 92.48it/s]\u001b[A\n",
      "20it [00:00, 92.61it/s]\u001b[A\n",
      "0it [00:00, ?it/s]\u001b[A\n",
      " 72%|███████▏  | 179/250 [01:26<00:33,  2.10it/s]\n",
      "0it [00:00, ?it/s]\u001b[A\n",
      "10it [00:00, 92.22it/s]\u001b[A"
     ]
    },
    {
     "name": "stdout",
     "output_type": "stream",
     "text": [
      "Step: 178 #### Part2: Pseudo-label generation\n",
      "Step: 178 #### Part3:Train F and C using Pseudo-label\n",
      "Step: 178 #### Part4: Evaluation\n",
      "Current accuracy is:  0.2656603773584906\n",
      "Step: 179 #### Part1: Multi-way Adversarial Adaptation\n"
     ]
    },
    {
     "name": "stderr",
     "output_type": "stream",
     "text": [
      "\n",
      "20it [00:00, 92.16it/s]\u001b[A\n",
      "0it [00:00, ?it/s]\u001b[A\n",
      "10it [00:00, 92.68it/s]\u001b[A\n",
      "20it [00:00, 92.75it/s]\u001b[A\n",
      "0it [00:00, ?it/s]\u001b[A\n",
      " 72%|███████▏  | 180/250 [01:27<00:33,  2.10it/s]\n",
      "0it [00:00, ?it/s]\u001b[A\n",
      "10it [00:00, 92.26it/s]\u001b[A"
     ]
    },
    {
     "name": "stdout",
     "output_type": "stream",
     "text": [
      "Step: 179 #### Part2: Pseudo-label generation\n",
      "Step: 179 #### Part3:Train F and C using Pseudo-label\n",
      "Step: 179 #### Part4: Evaluation\n",
      "Current accuracy is:  0.26867924528301884\n",
      "Step: 180 #### Part1: Multi-way Adversarial Adaptation\n"
     ]
    },
    {
     "name": "stderr",
     "output_type": "stream",
     "text": [
      "\n",
      "20it [00:00, 92.23it/s]\u001b[A\n",
      "0it [00:00, ?it/s]\u001b[A\n",
      "10it [00:00, 94.94it/s]\u001b[A\n",
      "20it [00:00, 94.47it/s]\u001b[A\n",
      "0it [00:00, ?it/s]\u001b[A\n",
      " 72%|███████▏  | 181/250 [01:27<00:32,  2.10it/s]\n",
      "0it [00:00, ?it/s]\u001b[A\n",
      "10it [00:00, 93.91it/s]\u001b[A"
     ]
    },
    {
     "name": "stdout",
     "output_type": "stream",
     "text": [
      "Step: 180 #### Part2: Pseudo-label generation\n",
      "Step: 180 #### Part3:Train F and C using Pseudo-label\n",
      "Step: 180 #### Part4: Evaluation\n",
      "Current accuracy is:  0.2656603773584906\n",
      "Step: 181 #### Part1: Multi-way Adversarial Adaptation\n"
     ]
    },
    {
     "name": "stderr",
     "output_type": "stream",
     "text": [
      "\n",
      "20it [00:00, 93.40it/s]\u001b[A\n",
      "0it [00:00, ?it/s]\u001b[A\n",
      "10it [00:00, 94.57it/s]\u001b[A\n",
      "20it [00:00, 93.95it/s]\u001b[A\n",
      "0it [00:00, ?it/s]\u001b[A\n",
      " 73%|███████▎  | 182/250 [01:28<00:32,  2.11it/s]\n",
      "0it [00:00, ?it/s]\u001b[A\n",
      "10it [00:00, 93.96it/s]\u001b[A"
     ]
    },
    {
     "name": "stdout",
     "output_type": "stream",
     "text": [
      "Step: 181 #### Part2: Pseudo-label generation\n",
      "Step: 181 #### Part3:Train F and C using Pseudo-label\n",
      "Step: 181 #### Part4: Evaluation\n",
      "Current accuracy is:  0.26867924528301884\n",
      "Step: 182 #### Part1: Multi-way Adversarial Adaptation\n"
     ]
    },
    {
     "name": "stderr",
     "output_type": "stream",
     "text": [
      "\n",
      "20it [00:00, 93.54it/s]\u001b[A\n",
      "0it [00:00, ?it/s]\u001b[A\n",
      "10it [00:00, 94.28it/s]\u001b[A\n",
      "20it [00:00, 93.82it/s]\u001b[A\n",
      "0it [00:00, ?it/s]\u001b[A\n",
      " 73%|███████▎  | 183/250 [01:28<00:31,  2.11it/s]\n",
      "0it [00:00, ?it/s]\u001b[A\n",
      "10it [00:00, 93.24it/s]\u001b[A"
     ]
    },
    {
     "name": "stdout",
     "output_type": "stream",
     "text": [
      "Step: 182 #### Part2: Pseudo-label generation\n",
      "Step: 182 #### Part3:Train F and C using Pseudo-label\n",
      "Step: 182 #### Part4: Evaluation\n",
      "Current accuracy is:  0.26716981132075474\n",
      "Step: 183 #### Part1: Multi-way Adversarial Adaptation\n"
     ]
    },
    {
     "name": "stderr",
     "output_type": "stream",
     "text": [
      "\n",
      "20it [00:00, 92.99it/s]\u001b[A\n",
      "0it [00:00, ?it/s]\u001b[A\n",
      "10it [00:00, 94.85it/s]\u001b[A\n",
      "20it [00:00, 94.39it/s]\u001b[A\n",
      "0it [00:00, ?it/s]\u001b[A\n",
      " 74%|███████▎  | 184/250 [01:29<00:31,  2.12it/s]\n",
      "0it [00:00, ?it/s]\u001b[A\n",
      "10it [00:00, 93.18it/s]\u001b[A"
     ]
    },
    {
     "name": "stdout",
     "output_type": "stream",
     "text": [
      "Step: 183 #### Part2: Pseudo-label generation\n",
      "Step: 183 #### Part3:Train F and C using Pseudo-label\n",
      "Step: 183 #### Part4: Evaluation\n",
      "Current accuracy is:  0.26339622641509436\n",
      "Step: 184 #### Part1: Multi-way Adversarial Adaptation\n"
     ]
    },
    {
     "name": "stderr",
     "output_type": "stream",
     "text": [
      "\n",
      "20it [00:00, 92.82it/s]\u001b[A\n",
      "0it [00:00, ?it/s]\u001b[A\n",
      "10it [00:00, 93.44it/s]\u001b[A\n",
      "20it [00:00, 93.24it/s]\u001b[A\n",
      "0it [00:00, ?it/s]\u001b[A\n",
      " 74%|███████▍  | 185/250 [01:29<00:30,  2.11it/s]\n",
      "0it [00:00, ?it/s]\u001b[A\n",
      "10it [00:00, 92.72it/s]\u001b[A"
     ]
    },
    {
     "name": "stdout",
     "output_type": "stream",
     "text": [
      "Step: 184 #### Part2: Pseudo-label generation\n",
      "Step: 184 #### Part3:Train F and C using Pseudo-label\n",
      "Step: 184 #### Part4: Evaluation\n",
      "Current accuracy is:  0.26716981132075474\n",
      "Step: 185 #### Part1: Multi-way Adversarial Adaptation\n"
     ]
    },
    {
     "name": "stderr",
     "output_type": "stream",
     "text": [
      "\n",
      "20it [00:00, 92.52it/s]\u001b[A\n",
      "0it [00:00, ?it/s]\u001b[A\n",
      "10it [00:00, 93.70it/s]\u001b[A\n",
      "20it [00:00, 93.47it/s]\u001b[A\n",
      "0it [00:00, ?it/s]\u001b[A\n",
      " 74%|███████▍  | 186/250 [01:30<00:30,  2.11it/s]\n",
      "0it [00:00, ?it/s]\u001b[A\n",
      "10it [00:00, 93.44it/s]\u001b[A"
     ]
    },
    {
     "name": "stdout",
     "output_type": "stream",
     "text": [
      "Step: 185 #### Part2: Pseudo-label generation\n",
      "Step: 185 #### Part3:Train F and C using Pseudo-label\n",
      "Step: 185 #### Part4: Evaluation\n",
      "Current accuracy is:  0.2656603773584906\n",
      "Step: 186 #### Part1: Multi-way Adversarial Adaptation\n"
     ]
    },
    {
     "name": "stderr",
     "output_type": "stream",
     "text": [
      "\n",
      "20it [00:00, 92.94it/s]\u001b[A\n",
      "0it [00:00, ?it/s]\u001b[A\n",
      "10it [00:00, 94.32it/s]\u001b[A\n",
      "20it [00:00, 93.90it/s]\u001b[A\n",
      "0it [00:00, ?it/s]\u001b[A\n",
      " 75%|███████▍  | 187/250 [01:30<00:29,  2.11it/s]\n",
      "0it [00:00, ?it/s]\u001b[A\n",
      "10it [00:00, 92.89it/s]\u001b[A"
     ]
    },
    {
     "name": "stdout",
     "output_type": "stream",
     "text": [
      "Step: 186 #### Part2: Pseudo-label generation\n",
      "Step: 186 #### Part3:Train F and C using Pseudo-label\n",
      "Step: 186 #### Part4: Evaluation\n",
      "Current accuracy is:  0.26339622641509436\n",
      "Step: 187 #### Part1: Multi-way Adversarial Adaptation\n"
     ]
    },
    {
     "name": "stderr",
     "output_type": "stream",
     "text": [
      "\n",
      "20it [00:00, 92.69it/s]\u001b[A\n",
      "0it [00:00, ?it/s]\u001b[A\n",
      "10it [00:00, 93.77it/s]\u001b[A\n",
      "20it [00:00, 93.27it/s]\u001b[A\n",
      "0it [00:00, ?it/s]\u001b[A\n",
      " 75%|███████▌  | 188/250 [01:31<00:29,  2.11it/s]\n",
      "0it [00:00, ?it/s]\u001b[A\n",
      "10it [00:00, 92.89it/s]\u001b[A"
     ]
    },
    {
     "name": "stdout",
     "output_type": "stream",
     "text": [
      "Step: 187 #### Part2: Pseudo-label generation\n",
      "Step: 187 #### Part3:Train F and C using Pseudo-label\n",
      "Step: 187 #### Part4: Evaluation\n",
      "Current accuracy is:  0.26867924528301884\n",
      "Step: 188 #### Part1: Multi-way Adversarial Adaptation\n"
     ]
    },
    {
     "name": "stderr",
     "output_type": "stream",
     "text": [
      "\n",
      "20it [00:00, 92.59it/s]\u001b[A\n",
      "0it [00:00, ?it/s]\u001b[A\n",
      "10it [00:00, 93.10it/s]\u001b[A\n",
      "20it [00:00, 92.92it/s]\u001b[A\n",
      "0it [00:00, ?it/s]\u001b[A\n",
      " 76%|███████▌  | 189/250 [01:31<00:28,  2.10it/s]\n",
      "0it [00:00, ?it/s]\u001b[A\n",
      "10it [00:00, 92.59it/s]\u001b[A"
     ]
    },
    {
     "name": "stdout",
     "output_type": "stream",
     "text": [
      "Step: 188 #### Part2: Pseudo-label generation\n",
      "Step: 188 #### Part3:Train F and C using Pseudo-label\n",
      "Step: 188 #### Part4: Evaluation\n",
      "Current accuracy is:  0.2641509433962264\n",
      "Step: 189 #### Part1: Multi-way Adversarial Adaptation\n"
     ]
    },
    {
     "name": "stderr",
     "output_type": "stream",
     "text": [
      "\n",
      "20it [00:00, 92.28it/s]\u001b[A\n",
      "0it [00:00, ?it/s]\u001b[A\n",
      "10it [00:00, 94.10it/s]\u001b[A\n",
      "20it [00:00, 93.88it/s]\u001b[A\n",
      "0it [00:00, ?it/s]\u001b[A\n",
      " 76%|███████▌  | 190/250 [01:32<00:28,  2.11it/s]\n",
      "0it [00:00, ?it/s]\u001b[A\n",
      "10it [00:00, 93.83it/s]\u001b[A"
     ]
    },
    {
     "name": "stdout",
     "output_type": "stream",
     "text": [
      "Step: 189 #### Part2: Pseudo-label generation\n",
      "Step: 189 #### Part3:Train F and C using Pseudo-label\n",
      "Step: 189 #### Part4: Evaluation\n",
      "Current accuracy is:  0.26943396226415095\n",
      "Step: 190 #### Part1: Multi-way Adversarial Adaptation\n"
     ]
    },
    {
     "name": "stderr",
     "output_type": "stream",
     "text": [
      "\n",
      "20it [00:00, 93.18it/s]\u001b[A\n",
      "0it [00:00, ?it/s]\u001b[A\n",
      "10it [00:00, 93.09it/s]\u001b[A\n",
      "20it [00:00, 92.95it/s]\u001b[A\n",
      "0it [00:00, ?it/s]\u001b[A\n",
      " 76%|███████▋  | 191/250 [01:32<00:27,  2.11it/s]\n",
      "0it [00:00, ?it/s]\u001b[A\n",
      "10it [00:00, 92.84it/s]\u001b[A"
     ]
    },
    {
     "name": "stdout",
     "output_type": "stream",
     "text": [
      "Step: 190 #### Part2: Pseudo-label generation\n",
      "Step: 190 #### Part3:Train F and C using Pseudo-label\n",
      "Step: 190 #### Part4: Evaluation\n",
      "Current accuracy is:  0.26490566037735847\n",
      "Step: 191 #### Part1: Multi-way Adversarial Adaptation\n"
     ]
    },
    {
     "name": "stderr",
     "output_type": "stream",
     "text": [
      "\n",
      "20it [00:00, 92.80it/s]\u001b[A\n",
      "0it [00:00, ?it/s]\u001b[A\n",
      "10it [00:00, 94.54it/s]\u001b[A\n",
      "20it [00:00, 94.17it/s]\u001b[A\n",
      "0it [00:00, ?it/s]\u001b[A\n",
      " 77%|███████▋  | 192/250 [01:32<00:27,  2.11it/s]\n",
      "0it [00:00, ?it/s]\u001b[A\n",
      "10it [00:00, 93.08it/s]\u001b[A"
     ]
    },
    {
     "name": "stdout",
     "output_type": "stream",
     "text": [
      "Step: 191 #### Part2: Pseudo-label generation\n",
      "Step: 191 #### Part3:Train F and C using Pseudo-label\n",
      "Step: 191 #### Part4: Evaluation\n",
      "Current accuracy is:  0.2664150943396226\n",
      "Step: 192 #### Part1: Multi-way Adversarial Adaptation\n"
     ]
    },
    {
     "name": "stderr",
     "output_type": "stream",
     "text": [
      "\n",
      "20it [00:00, 92.76it/s]\u001b[A\n",
      "0it [00:00, ?it/s]\u001b[A\n",
      "10it [00:00, 94.21it/s]\u001b[A\n",
      "20it [00:00, 93.83it/s]\u001b[A\n",
      "0it [00:00, ?it/s]\u001b[A\n",
      " 77%|███████▋  | 193/250 [01:33<00:26,  2.11it/s]\n",
      "0it [00:00, ?it/s]\u001b[A\n",
      "10it [00:00, 92.75it/s]\u001b[A"
     ]
    },
    {
     "name": "stdout",
     "output_type": "stream",
     "text": [
      "Step: 192 #### Part2: Pseudo-label generation\n",
      "Step: 192 #### Part3:Train F and C using Pseudo-label\n",
      "Step: 192 #### Part4: Evaluation\n",
      "Current accuracy is:  0.26264150943396225\n",
      "Step: 193 #### Part1: Multi-way Adversarial Adaptation\n"
     ]
    },
    {
     "name": "stderr",
     "output_type": "stream",
     "text": [
      "\n",
      "20it [00:00, 92.45it/s]\u001b[A\n",
      "0it [00:00, ?it/s]\u001b[A\n",
      "10it [00:00, 94.19it/s]\u001b[A\n",
      "20it [00:00, 93.77it/s]\u001b[A\n",
      "0it [00:00, ?it/s]\u001b[A\n",
      " 78%|███████▊  | 194/250 [01:33<00:26,  2.11it/s]\n",
      "0it [00:00, ?it/s]\u001b[A\n",
      "10it [00:00, 93.19it/s]\u001b[A"
     ]
    },
    {
     "name": "stdout",
     "output_type": "stream",
     "text": [
      "Step: 193 #### Part2: Pseudo-label generation\n",
      "Step: 193 #### Part3:Train F and C using Pseudo-label\n",
      "Step: 193 #### Part4: Evaluation\n",
      "Current accuracy is:  0.2656603773584906\n",
      "Step: 194 #### Part1: Multi-way Adversarial Adaptation\n"
     ]
    },
    {
     "name": "stderr",
     "output_type": "stream",
     "text": [
      "\n",
      "20it [00:00, 92.95it/s]\u001b[A\n",
      "0it [00:00, ?it/s]\u001b[A\n",
      "10it [00:00, 93.88it/s]\u001b[A\n",
      "20it [00:00, 93.72it/s]\u001b[A\n",
      "0it [00:00, ?it/s]\u001b[A\n",
      " 78%|███████▊  | 195/250 [01:34<00:26,  2.12it/s]\n",
      "0it [00:00, ?it/s]\u001b[A\n",
      "10it [00:00, 93.01it/s]\u001b[A"
     ]
    },
    {
     "name": "stdout",
     "output_type": "stream",
     "text": [
      "Step: 194 #### Part2: Pseudo-label generation\n",
      "Step: 194 #### Part3:Train F and C using Pseudo-label\n",
      "Step: 194 #### Part4: Evaluation\n",
      "Current accuracy is:  0.26716981132075474\n",
      "Step: 195 #### Part1: Multi-way Adversarial Adaptation\n"
     ]
    },
    {
     "name": "stderr",
     "output_type": "stream",
     "text": [
      "\n",
      "20it [00:00, 92.79it/s]\u001b[A\n",
      "0it [00:00, ?it/s]\u001b[A\n",
      "10it [00:00, 94.63it/s]\u001b[A\n",
      "20it [00:00, 94.15it/s]\u001b[A\n",
      "0it [00:00, ?it/s]\u001b[A\n",
      " 78%|███████▊  | 196/250 [01:34<00:25,  2.12it/s]\n",
      "0it [00:00, ?it/s]\u001b[A\n",
      "10it [00:00, 91.27it/s]\u001b[A"
     ]
    },
    {
     "name": "stdout",
     "output_type": "stream",
     "text": [
      "Step: 195 #### Part2: Pseudo-label generation\n",
      "Step: 195 #### Part3:Train F and C using Pseudo-label\n",
      "Step: 195 #### Part4: Evaluation\n",
      "Current accuracy is:  0.2664150943396226\n",
      "Step: 196 #### Part1: Multi-way Adversarial Adaptation\n"
     ]
    },
    {
     "name": "stderr",
     "output_type": "stream",
     "text": [
      "\n",
      "20it [00:00, 91.10it/s]\u001b[A\n",
      "0it [00:00, ?it/s]\u001b[A\n",
      "10it [00:00, 92.29it/s]\u001b[A\n",
      "20it [00:00, 92.18it/s]\u001b[A\n",
      "0it [00:00, ?it/s]\u001b[A\n",
      " 79%|███████▉  | 197/250 [01:35<00:25,  2.10it/s]\n",
      "0it [00:00, ?it/s]\u001b[A\n",
      "10it [00:00, 91.77it/s]\u001b[A"
     ]
    },
    {
     "name": "stdout",
     "output_type": "stream",
     "text": [
      "Step: 196 #### Part2: Pseudo-label generation\n",
      "Step: 196 #### Part3:Train F and C using Pseudo-label\n",
      "Step: 196 #### Part4: Evaluation\n",
      "Current accuracy is:  0.26867924528301884\n",
      "Step: 197 #### Part1: Multi-way Adversarial Adaptation\n"
     ]
    },
    {
     "name": "stderr",
     "output_type": "stream",
     "text": [
      "\n",
      "19it [00:00, 91.16it/s]\u001b[A\n",
      "20it [00:00, 90.04it/s]\u001b[A\n",
      "0it [00:00, ?it/s]\u001b[A\n",
      "10it [00:00, 93.65it/s]\u001b[A\n",
      "20it [00:00, 93.39it/s]\u001b[A\n",
      "0it [00:00, ?it/s]\u001b[A\n",
      " 79%|███████▉  | 198/250 [01:35<00:24,  2.09it/s]\n",
      "0it [00:00, ?it/s]\u001b[A\n",
      "10it [00:00, 92.14it/s]\u001b[A"
     ]
    },
    {
     "name": "stdout",
     "output_type": "stream",
     "text": [
      "Step: 197 #### Part2: Pseudo-label generation\n",
      "Step: 197 #### Part3:Train F and C using Pseudo-label\n",
      "Step: 197 #### Part4: Evaluation\n",
      "Current accuracy is:  0.2656603773584906\n",
      "Step: 198 #### Part1: Multi-way Adversarial Adaptation\n"
     ]
    },
    {
     "name": "stderr",
     "output_type": "stream",
     "text": [
      "\n",
      "20it [00:00, 92.13it/s]\u001b[A\n",
      "0it [00:00, ?it/s]\u001b[A\n",
      "10it [00:00, 94.28it/s]\u001b[A\n",
      "20it [00:00, 94.07it/s]\u001b[A\n",
      "0it [00:00, ?it/s]\u001b[A\n",
      " 80%|███████▉  | 199/250 [01:36<00:24,  2.10it/s]\n",
      "0it [00:00, ?it/s]\u001b[A\n",
      "10it [00:00, 93.52it/s]\u001b[A"
     ]
    },
    {
     "name": "stdout",
     "output_type": "stream",
     "text": [
      "Step: 198 #### Part2: Pseudo-label generation\n",
      "Step: 198 #### Part3:Train F and C using Pseudo-label\n",
      "Step: 198 #### Part4: Evaluation\n",
      "Current accuracy is:  0.26490566037735847\n",
      "Step: 199 #### Part1: Multi-way Adversarial Adaptation\n"
     ]
    },
    {
     "name": "stderr",
     "output_type": "stream",
     "text": [
      "\n",
      "20it [00:00, 93.10it/s]\u001b[A\n",
      "0it [00:00, ?it/s]\u001b[A\n",
      "10it [00:00, 94.79it/s]\u001b[A\n",
      "20it [00:00, 94.35it/s]\u001b[A\n",
      "0it [00:00, ?it/s]\u001b[A\n",
      " 80%|████████  | 200/250 [01:36<00:23,  2.11it/s]\n",
      "0it [00:00, ?it/s]\u001b[A\n",
      "10it [00:00, 93.09it/s]\u001b[A"
     ]
    },
    {
     "name": "stdout",
     "output_type": "stream",
     "text": [
      "Step: 199 #### Part2: Pseudo-label generation\n",
      "Step: 199 #### Part3:Train F and C using Pseudo-label\n",
      "Step: 199 #### Part4: Evaluation\n",
      "Current accuracy is:  0.2679245283018868\n",
      "Step: 200 #### Part1: Multi-way Adversarial Adaptation\n"
     ]
    },
    {
     "name": "stderr",
     "output_type": "stream",
     "text": [
      "\n",
      "20it [00:00, 92.91it/s]\u001b[A\n",
      "0it [00:00, ?it/s]\u001b[A\n",
      "10it [00:00, 94.46it/s]\u001b[A\n",
      "20it [00:00, 94.17it/s]\u001b[A\n",
      "0it [00:00, ?it/s]\u001b[A\n",
      " 80%|████████  | 201/250 [01:37<00:23,  2.11it/s]\n",
      "0it [00:00, ?it/s]\u001b[A\n",
      "10it [00:00, 94.45it/s]\u001b[A"
     ]
    },
    {
     "name": "stdout",
     "output_type": "stream",
     "text": [
      "Step: 200 #### Part2: Pseudo-label generation\n",
      "Step: 200 #### Part3:Train F and C using Pseudo-label\n",
      "Step: 200 #### Part4: Evaluation\n",
      "Current accuracy is:  0.26943396226415095\n",
      "Step: 201 #### Part1: Multi-way Adversarial Adaptation\n"
     ]
    },
    {
     "name": "stderr",
     "output_type": "stream",
     "text": [
      "\n",
      "20it [00:00, 93.93it/s]\u001b[A\n",
      "0it [00:00, ?it/s]\u001b[A\n",
      "10it [00:00, 94.72it/s]\u001b[A\n",
      "20it [00:00, 94.46it/s]\u001b[A\n",
      "0it [00:00, ?it/s]\u001b[A\n",
      " 81%|████████  | 202/250 [01:37<00:22,  2.12it/s]\n",
      "0it [00:00, ?it/s]\u001b[A\n",
      "10it [00:00, 93.69it/s]\u001b[A"
     ]
    },
    {
     "name": "stdout",
     "output_type": "stream",
     "text": [
      "Step: 201 #### Part2: Pseudo-label generation\n",
      "Step: 201 #### Part3:Train F and C using Pseudo-label\n",
      "Step: 201 #### Part4: Evaluation\n",
      "Current accuracy is:  0.2641509433962264\n",
      "Step: 202 #### Part1: Multi-way Adversarial Adaptation\n"
     ]
    },
    {
     "name": "stderr",
     "output_type": "stream",
     "text": [
      "\n",
      "20it [00:00, 93.38it/s]\u001b[A\n",
      "0it [00:00, ?it/s]\u001b[A\n",
      "10it [00:00, 93.81it/s]\u001b[A\n",
      "20it [00:00, 93.48it/s]\u001b[A\n",
      "0it [00:00, ?it/s]\u001b[A\n",
      " 81%|████████  | 203/250 [01:38<00:22,  2.12it/s]\n",
      "0it [00:00, ?it/s]\u001b[A\n",
      "10it [00:00, 92.85it/s]\u001b[A"
     ]
    },
    {
     "name": "stdout",
     "output_type": "stream",
     "text": [
      "Step: 202 #### Part2: Pseudo-label generation\n",
      "Step: 202 #### Part3:Train F and C using Pseudo-label\n",
      "Step: 202 #### Part4: Evaluation\n",
      "Current accuracy is:  0.26490566037735847\n",
      "Step: 203 #### Part1: Multi-way Adversarial Adaptation\n"
     ]
    },
    {
     "name": "stderr",
     "output_type": "stream",
     "text": [
      "\n",
      "20it [00:00, 92.92it/s]\u001b[A\n",
      "0it [00:00, ?it/s]\u001b[A\n",
      "10it [00:00, 94.87it/s]\u001b[A\n",
      "20it [00:00, 94.40it/s]\u001b[A\n",
      "0it [00:00, ?it/s]\u001b[A\n",
      " 82%|████████▏ | 204/250 [01:38<00:21,  2.12it/s]\n",
      "0it [00:00, ?it/s]\u001b[A\n",
      "10it [00:00, 93.69it/s]\u001b[A"
     ]
    },
    {
     "name": "stdout",
     "output_type": "stream",
     "text": [
      "Step: 203 #### Part2: Pseudo-label generation\n",
      "Step: 203 #### Part3:Train F and C using Pseudo-label\n",
      "Step: 203 #### Part4: Evaluation\n",
      "Current accuracy is:  0.26716981132075474\n",
      "Step: 204 #### Part1: Multi-way Adversarial Adaptation\n"
     ]
    },
    {
     "name": "stderr",
     "output_type": "stream",
     "text": [
      "\n",
      "20it [00:00, 93.20it/s]\u001b[A\n",
      "0it [00:00, ?it/s]\u001b[A\n",
      "10it [00:00, 94.65it/s]\u001b[A\n",
      "20it [00:00, 94.11it/s]\u001b[A\n",
      "0it [00:00, ?it/s]\u001b[A\n",
      " 82%|████████▏ | 205/250 [01:39<00:21,  2.12it/s]\n",
      "0it [00:00, ?it/s]\u001b[A\n",
      "10it [00:00, 94.20it/s]\u001b[A"
     ]
    },
    {
     "name": "stdout",
     "output_type": "stream",
     "text": [
      "Step: 204 #### Part2: Pseudo-label generation\n",
      "Step: 204 #### Part3:Train F and C using Pseudo-label\n",
      "Step: 204 #### Part4: Evaluation\n",
      "Current accuracy is:  0.26867924528301884\n",
      "Step: 205 #### Part1: Multi-way Adversarial Adaptation\n"
     ]
    },
    {
     "name": "stderr",
     "output_type": "stream",
     "text": [
      "\n",
      "20it [00:00, 93.63it/s]\u001b[A\n",
      "0it [00:00, ?it/s]\u001b[A\n",
      "10it [00:00, 95.28it/s]\u001b[A\n",
      "20it [00:00, 94.88it/s]\u001b[A\n",
      "0it [00:00, ?it/s]\u001b[A\n",
      " 82%|████████▏ | 206/250 [01:39<00:20,  2.13it/s]\n",
      "0it [00:00, ?it/s]\u001b[A\n",
      "10it [00:00, 92.98it/s]\u001b[A"
     ]
    },
    {
     "name": "stdout",
     "output_type": "stream",
     "text": [
      "Step: 205 #### Part2: Pseudo-label generation\n",
      "Step: 205 #### Part3:Train F and C using Pseudo-label\n",
      "Step: 205 #### Part4: Evaluation\n",
      "Current accuracy is:  0.2679245283018868\n",
      "Step: 206 #### Part1: Multi-way Adversarial Adaptation\n"
     ]
    },
    {
     "name": "stderr",
     "output_type": "stream",
     "text": [
      "\n",
      "20it [00:00, 92.80it/s]\u001b[A\n",
      "0it [00:00, ?it/s]\u001b[A\n",
      "10it [00:00, 93.49it/s]\u001b[A\n",
      "20it [00:00, 93.27it/s]\u001b[A\n",
      "0it [00:00, ?it/s]\u001b[A\n",
      " 83%|████████▎ | 207/250 [01:40<00:20,  2.12it/s]\n",
      "0it [00:00, ?it/s]\u001b[A\n",
      "10it [00:00, 92.30it/s]\u001b[A"
     ]
    },
    {
     "name": "stdout",
     "output_type": "stream",
     "text": [
      "Step: 206 #### Part2: Pseudo-label generation\n",
      "Step: 206 #### Part3:Train F and C using Pseudo-label\n",
      "Step: 206 #### Part4: Evaluation\n",
      "Current accuracy is:  0.26716981132075474\n",
      "Step: 207 #### Part1: Multi-way Adversarial Adaptation\n"
     ]
    },
    {
     "name": "stderr",
     "output_type": "stream",
     "text": [
      "\n",
      "20it [00:00, 92.21it/s]\u001b[A\n",
      "0it [00:00, ?it/s]\u001b[A\n",
      "10it [00:00, 93.12it/s]\u001b[A\n",
      "20it [00:00, 93.03it/s]\u001b[A\n",
      "0it [00:00, ?it/s]\u001b[A\n",
      " 83%|████████▎ | 208/250 [01:40<00:19,  2.11it/s]\n",
      "0it [00:00, ?it/s]\u001b[A\n",
      "10it [00:00, 91.36it/s]\u001b[A"
     ]
    },
    {
     "name": "stdout",
     "output_type": "stream",
     "text": [
      "Step: 207 #### Part2: Pseudo-label generation\n",
      "Step: 207 #### Part3:Train F and C using Pseudo-label\n",
      "Step: 207 #### Part4: Evaluation\n",
      "Current accuracy is:  0.26264150943396225\n",
      "Step: 208 #### Part1: Multi-way Adversarial Adaptation\n"
     ]
    },
    {
     "name": "stderr",
     "output_type": "stream",
     "text": [
      "\n",
      "20it [00:00, 91.24it/s]\u001b[A\n",
      "0it [00:00, ?it/s]\u001b[A\n",
      "10it [00:00, 94.02it/s]\u001b[A\n",
      "20it [00:00, 93.47it/s]\u001b[A\n",
      "0it [00:00, ?it/s]\u001b[A\n",
      " 84%|████████▎ | 209/250 [01:41<00:19,  2.10it/s]\n",
      "0it [00:00, ?it/s]\u001b[A\n",
      "10it [00:00, 93.75it/s]\u001b[A"
     ]
    },
    {
     "name": "stdout",
     "output_type": "stream",
     "text": [
      "Step: 208 #### Part2: Pseudo-label generation\n",
      "Step: 208 #### Part3:Train F and C using Pseudo-label\n",
      "Step: 208 #### Part4: Evaluation\n",
      "Current accuracy is:  0.26716981132075474\n",
      "Step: 209 #### Part1: Multi-way Adversarial Adaptation\n"
     ]
    },
    {
     "name": "stderr",
     "output_type": "stream",
     "text": [
      "\n",
      "20it [00:00, 93.10it/s]\u001b[A\n",
      "0it [00:00, ?it/s]\u001b[A\n",
      "10it [00:00, 94.09it/s]\u001b[A\n",
      "20it [00:00, 93.74it/s]\u001b[A\n",
      "0it [00:00, ?it/s]\u001b[A\n",
      " 84%|████████▍ | 210/250 [01:41<00:18,  2.11it/s]\n",
      "0it [00:00, ?it/s]\u001b[A\n",
      "10it [00:00, 93.07it/s]\u001b[A"
     ]
    },
    {
     "name": "stdout",
     "output_type": "stream",
     "text": [
      "Step: 209 #### Part2: Pseudo-label generation\n",
      "Step: 209 #### Part3:Train F and C using Pseudo-label\n",
      "Step: 209 #### Part4: Evaluation\n",
      "Current accuracy is:  0.26716981132075474\n",
      "Step: 210 #### Part1: Multi-way Adversarial Adaptation\n"
     ]
    },
    {
     "name": "stderr",
     "output_type": "stream",
     "text": [
      "\n",
      "20it [00:00, 92.76it/s]\u001b[A\n",
      "0it [00:00, ?it/s]\u001b[A\n",
      "10it [00:00, 93.07it/s]\u001b[A\n",
      "20it [00:00, 93.06it/s]\u001b[A\n",
      "0it [00:00, ?it/s]\u001b[A\n",
      " 84%|████████▍ | 211/250 [01:41<00:18,  2.11it/s]\n",
      "0it [00:00, ?it/s]\u001b[A\n",
      "10it [00:00, 93.65it/s]\u001b[A"
     ]
    },
    {
     "name": "stdout",
     "output_type": "stream",
     "text": [
      "Step: 210 #### Part2: Pseudo-label generation\n",
      "Step: 210 #### Part3:Train F and C using Pseudo-label\n",
      "Step: 210 #### Part4: Evaluation\n",
      "Current accuracy is:  0.2664150943396226\n",
      "Step: 211 #### Part1: Multi-way Adversarial Adaptation\n"
     ]
    },
    {
     "name": "stderr",
     "output_type": "stream",
     "text": [
      "\n",
      "19it [00:00, 92.17it/s]\u001b[A\n",
      "20it [00:00, 89.89it/s]\u001b[A\n",
      "0it [00:00, ?it/s]\u001b[A\n",
      "9it [00:00, 89.63it/s]\u001b[A\n",
      "19it [00:00, 90.45it/s]\u001b[A\n",
      "20it [00:00, 90.81it/s]\u001b[A\n",
      "0it [00:00, ?it/s]\u001b[A\n",
      " 85%|████████▍ | 212/250 [01:42<00:18,  2.09it/s]\n",
      "0it [00:00, ?it/s]\u001b[A\n",
      "10it [00:00, 92.97it/s]\u001b[A"
     ]
    },
    {
     "name": "stdout",
     "output_type": "stream",
     "text": [
      "Step: 211 #### Part2: Pseudo-label generation\n",
      "Step: 211 #### Part3:Train F and C using Pseudo-label\n",
      "Step: 211 #### Part4: Evaluation\n",
      "Current accuracy is:  0.2664150943396226\n",
      "Step: 212 #### Part1: Multi-way Adversarial Adaptation\n"
     ]
    },
    {
     "name": "stderr",
     "output_type": "stream",
     "text": [
      "\n",
      "20it [00:00, 92.65it/s]\u001b[A\n",
      "0it [00:00, ?it/s]\u001b[A\n",
      "10it [00:00, 94.44it/s]\u001b[A\n",
      "20it [00:00, 93.93it/s]\u001b[A\n",
      "0it [00:00, ?it/s]\u001b[A\n",
      " 85%|████████▌ | 213/250 [01:42<00:17,  2.10it/s]\n",
      "0it [00:00, ?it/s]\u001b[A\n",
      "10it [00:00, 93.48it/s]\u001b[A"
     ]
    },
    {
     "name": "stdout",
     "output_type": "stream",
     "text": [
      "Step: 212 #### Part2: Pseudo-label generation\n",
      "Step: 212 #### Part3:Train F and C using Pseudo-label\n",
      "Step: 212 #### Part4: Evaluation\n",
      "Current accuracy is:  0.2656603773584906\n",
      "Step: 213 #### Part1: Multi-way Adversarial Adaptation\n"
     ]
    },
    {
     "name": "stderr",
     "output_type": "stream",
     "text": [
      "\n",
      "20it [00:00, 93.25it/s]\u001b[A\n",
      "0it [00:00, ?it/s]\u001b[A\n",
      "10it [00:00, 94.74it/s]\u001b[A\n",
      "20it [00:00, 94.39it/s]\u001b[A\n",
      "0it [00:00, ?it/s]\u001b[A\n",
      " 86%|████████▌ | 214/250 [01:43<00:17,  2.11it/s]\n",
      "0it [00:00, ?it/s]\u001b[A\n",
      "10it [00:00, 92.69it/s]\u001b[A"
     ]
    },
    {
     "name": "stdout",
     "output_type": "stream",
     "text": [
      "Step: 213 #### Part2: Pseudo-label generation\n",
      "Step: 213 #### Part3:Train F and C using Pseudo-label\n",
      "Step: 213 #### Part4: Evaluation\n",
      "Current accuracy is:  0.2709433962264151\n",
      "Step: 214 #### Part1: Multi-way Adversarial Adaptation\n"
     ]
    },
    {
     "name": "stderr",
     "output_type": "stream",
     "text": [
      "\n",
      "20it [00:00, 92.52it/s]\u001b[A\n",
      "0it [00:00, ?it/s]\u001b[A\n",
      "10it [00:00, 93.88it/s]\u001b[A\n",
      "20it [00:00, 93.44it/s]\u001b[A\n",
      "0it [00:00, ?it/s]\u001b[A\n",
      " 86%|████████▌ | 215/250 [01:43<00:16,  2.11it/s]\n",
      "0it [00:00, ?it/s]\u001b[A\n",
      "10it [00:00, 93.01it/s]\u001b[A"
     ]
    },
    {
     "name": "stdout",
     "output_type": "stream",
     "text": [
      "Step: 214 #### Part2: Pseudo-label generation\n",
      "Step: 214 #### Part3:Train F and C using Pseudo-label\n",
      "Step: 214 #### Part4: Evaluation\n",
      "Current accuracy is:  0.26943396226415095\n",
      "Step: 215 #### Part1: Multi-way Adversarial Adaptation\n"
     ]
    },
    {
     "name": "stderr",
     "output_type": "stream",
     "text": [
      "\n",
      "20it [00:00, 92.72it/s]\u001b[A\n",
      "0it [00:00, ?it/s]\u001b[A\n",
      "10it [00:00, 95.12it/s]\u001b[A\n",
      "20it [00:00, 94.77it/s]\u001b[A\n",
      "0it [00:00, ?it/s]\u001b[A\n",
      " 86%|████████▋ | 216/250 [01:44<00:16,  2.11it/s]\n",
      "0it [00:00, ?it/s]\u001b[A\n",
      "10it [00:00, 93.03it/s]\u001b[A"
     ]
    },
    {
     "name": "stdout",
     "output_type": "stream",
     "text": [
      "Step: 215 #### Part2: Pseudo-label generation\n",
      "Step: 215 #### Part3:Train F and C using Pseudo-label\n",
      "Step: 215 #### Part4: Evaluation\n",
      "Current accuracy is:  0.26867924528301884\n",
      "Step: 216 #### Part1: Multi-way Adversarial Adaptation\n"
     ]
    },
    {
     "name": "stderr",
     "output_type": "stream",
     "text": [
      "\n",
      "20it [00:00, 92.77it/s]\u001b[A\n",
      "0it [00:00, ?it/s]\u001b[A\n",
      "10it [00:00, 93.75it/s]\u001b[A\n",
      "20it [00:00, 93.23it/s]\u001b[A\n",
      "0it [00:00, ?it/s]\u001b[A\n",
      " 87%|████████▋ | 217/250 [01:44<00:15,  2.11it/s]\n",
      "0it [00:00, ?it/s]\u001b[A\n",
      "10it [00:00, 93.45it/s]\u001b[A"
     ]
    },
    {
     "name": "stdout",
     "output_type": "stream",
     "text": [
      "Step: 216 #### Part2: Pseudo-label generation\n",
      "Step: 216 #### Part3:Train F and C using Pseudo-label\n",
      "Step: 216 #### Part4: Evaluation\n",
      "Current accuracy is:  0.2656603773584906\n",
      "Step: 217 #### Part1: Multi-way Adversarial Adaptation\n"
     ]
    },
    {
     "name": "stderr",
     "output_type": "stream",
     "text": [
      "\n",
      "20it [00:00, 93.14it/s]\u001b[A\n",
      "0it [00:00, ?it/s]\u001b[A\n",
      "10it [00:00, 94.14it/s]\u001b[A\n",
      "20it [00:00, 94.01it/s]\u001b[A\n",
      "0it [00:00, ?it/s]\u001b[A\n",
      " 87%|████████▋ | 218/250 [01:45<00:15,  2.11it/s]\n",
      "0it [00:00, ?it/s]\u001b[A\n",
      "10it [00:00, 93.11it/s]\u001b[A"
     ]
    },
    {
     "name": "stdout",
     "output_type": "stream",
     "text": [
      "Step: 217 #### Part2: Pseudo-label generation\n",
      "Step: 217 #### Part3:Train F and C using Pseudo-label\n",
      "Step: 217 #### Part4: Evaluation\n",
      "Current accuracy is:  0.270188679245283\n",
      "Step: 218 #### Part1: Multi-way Adversarial Adaptation\n"
     ]
    },
    {
     "name": "stderr",
     "output_type": "stream",
     "text": [
      "\n",
      "20it [00:00, 92.91it/s]\u001b[A\n",
      "0it [00:00, ?it/s]\u001b[A\n",
      "10it [00:00, 94.55it/s]\u001b[A\n",
      "20it [00:00, 94.20it/s]\u001b[A\n",
      "0it [00:00, ?it/s]\u001b[A\n",
      " 88%|████████▊ | 219/250 [01:45<00:14,  2.12it/s]\n",
      "0it [00:00, ?it/s]\u001b[A\n",
      "10it [00:00, 93.87it/s]\u001b[A"
     ]
    },
    {
     "name": "stdout",
     "output_type": "stream",
     "text": [
      "Step: 218 #### Part2: Pseudo-label generation\n",
      "Step: 218 #### Part3:Train F and C using Pseudo-label\n",
      "Step: 218 #### Part4: Evaluation\n",
      "Current accuracy is:  0.2679245283018868\n",
      "Step: 219 #### Part1: Multi-way Adversarial Adaptation\n"
     ]
    },
    {
     "name": "stderr",
     "output_type": "stream",
     "text": [
      "\n",
      "20it [00:00, 93.39it/s]\u001b[A\n",
      "0it [00:00, ?it/s]\u001b[A\n",
      "10it [00:00, 93.60it/s]\u001b[A\n",
      "20it [00:00, 93.26it/s]\u001b[A\n",
      "0it [00:00, ?it/s]\u001b[A\n",
      " 88%|████████▊ | 220/250 [01:46<00:14,  2.12it/s]\n",
      "0it [00:00, ?it/s]\u001b[A\n",
      "10it [00:00, 93.26it/s]\u001b[A"
     ]
    },
    {
     "name": "stdout",
     "output_type": "stream",
     "text": [
      "Step: 219 #### Part2: Pseudo-label generation\n",
      "Step: 219 #### Part3:Train F and C using Pseudo-label\n",
      "Step: 219 #### Part4: Evaluation\n",
      "Current accuracy is:  0.2656603773584906\n",
      "Step: 220 #### Part1: Multi-way Adversarial Adaptation\n"
     ]
    },
    {
     "name": "stderr",
     "output_type": "stream",
     "text": [
      "\n",
      "20it [00:00, 93.16it/s]\u001b[A\n",
      "0it [00:00, ?it/s]\u001b[A\n",
      "10it [00:00, 94.51it/s]\u001b[A\n",
      "20it [00:00, 94.14it/s]\u001b[A\n",
      "0it [00:00, ?it/s]\u001b[A\n",
      " 88%|████████▊ | 221/250 [01:46<00:13,  2.12it/s]\n",
      "0it [00:00, ?it/s]\u001b[A\n",
      "10it [00:00, 93.10it/s]\u001b[A"
     ]
    },
    {
     "name": "stdout",
     "output_type": "stream",
     "text": [
      "Step: 220 #### Part2: Pseudo-label generation\n",
      "Step: 220 #### Part3:Train F and C using Pseudo-label\n",
      "Step: 220 #### Part4: Evaluation\n",
      "Current accuracy is:  0.27169811320754716\n",
      "Step: 221 #### Part1: Multi-way Adversarial Adaptation\n"
     ]
    },
    {
     "name": "stderr",
     "output_type": "stream",
     "text": [
      "\n",
      "20it [00:00, 92.74it/s]\u001b[A\n",
      "0it [00:00, ?it/s]\u001b[A\n",
      "10it [00:00, 93.87it/s]\u001b[A\n",
      "20it [00:00, 93.74it/s]\u001b[A\n",
      "0it [00:00, ?it/s]\u001b[A\n",
      " 89%|████████▉ | 222/250 [01:47<00:13,  2.12it/s]\n",
      "0it [00:00, ?it/s]\u001b[A\n",
      "10it [00:00, 92.74it/s]\u001b[A"
     ]
    },
    {
     "name": "stdout",
     "output_type": "stream",
     "text": [
      "Step: 221 #### Part2: Pseudo-label generation\n",
      "Step: 221 #### Part3:Train F and C using Pseudo-label\n",
      "Step: 221 #### Part4: Evaluation\n",
      "Current accuracy is:  0.2656603773584906\n",
      "Step: 222 #### Part1: Multi-way Adversarial Adaptation\n"
     ]
    },
    {
     "name": "stderr",
     "output_type": "stream",
     "text": [
      "\n",
      "20it [00:00, 92.62it/s]\u001b[A\n",
      "0it [00:00, ?it/s]\u001b[A\n",
      "10it [00:00, 93.95it/s]\u001b[A\n",
      "20it [00:00, 93.77it/s]\u001b[A\n",
      "0it [00:00, ?it/s]\u001b[A\n",
      " 89%|████████▉ | 223/250 [01:47<00:12,  2.12it/s]\n",
      "0it [00:00, ?it/s]\u001b[A\n",
      "10it [00:00, 92.40it/s]\u001b[A"
     ]
    },
    {
     "name": "stdout",
     "output_type": "stream",
     "text": [
      "Step: 222 #### Part2: Pseudo-label generation\n",
      "Step: 222 #### Part3:Train F and C using Pseudo-label\n",
      "Step: 222 #### Part4: Evaluation\n",
      "Current accuracy is:  0.26490566037735847\n",
      "Step: 223 #### Part1: Multi-way Adversarial Adaptation\n"
     ]
    },
    {
     "name": "stderr",
     "output_type": "stream",
     "text": [
      "\n",
      "19it [00:00, 91.23it/s]\u001b[A\n",
      "20it [00:00, 89.74it/s]\u001b[A\n",
      "0it [00:00, ?it/s]\u001b[A\n",
      "9it [00:00, 85.56it/s]\u001b[A\n",
      "19it [00:00, 87.67it/s]\u001b[A\n",
      "20it [00:00, 88.73it/s]\u001b[A\n",
      "0it [00:00, ?it/s]\u001b[A\n",
      " 90%|████████▉ | 224/250 [01:48<00:12,  2.09it/s]\n",
      "0it [00:00, ?it/s]\u001b[A\n",
      "10it [00:00, 94.16it/s]\u001b[A"
     ]
    },
    {
     "name": "stdout",
     "output_type": "stream",
     "text": [
      "Step: 223 #### Part2: Pseudo-label generation\n",
      "Step: 223 #### Part3:Train F and C using Pseudo-label\n",
      "Step: 223 #### Part4: Evaluation\n",
      "Current accuracy is:  0.26490566037735847\n",
      "Step: 224 #### Part1: Multi-way Adversarial Adaptation\n"
     ]
    },
    {
     "name": "stderr",
     "output_type": "stream",
     "text": [
      "\n",
      "20it [00:00, 93.61it/s]\u001b[A\n",
      "0it [00:00, ?it/s]\u001b[A\n",
      "10it [00:00, 94.90it/s]\u001b[A\n",
      "20it [00:00, 94.54it/s]\u001b[A\n",
      "0it [00:00, ?it/s]\u001b[A\n",
      " 90%|█████████ | 225/250 [01:48<00:11,  2.11it/s]\n",
      "0it [00:00, ?it/s]\u001b[A\n",
      "10it [00:00, 93.73it/s]\u001b[A"
     ]
    },
    {
     "name": "stdout",
     "output_type": "stream",
     "text": [
      "Step: 224 #### Part2: Pseudo-label generation\n",
      "Step: 224 #### Part3:Train F and C using Pseudo-label\n",
      "Step: 224 #### Part4: Evaluation\n",
      "Current accuracy is:  0.2664150943396226\n",
      "Step: 225 #### Part1: Multi-way Adversarial Adaptation\n"
     ]
    },
    {
     "name": "stderr",
     "output_type": "stream",
     "text": [
      "\n",
      "20it [00:00, 93.31it/s]\u001b[A\n",
      "0it [00:00, ?it/s]\u001b[A\n",
      "10it [00:00, 95.22it/s]\u001b[A\n",
      "20it [00:00, 94.74it/s]\u001b[A\n",
      "0it [00:00, ?it/s]\u001b[A\n",
      " 90%|█████████ | 226/250 [01:49<00:11,  2.11it/s]\n",
      "0it [00:00, ?it/s]\u001b[A\n",
      "10it [00:00, 93.52it/s]\u001b[A"
     ]
    },
    {
     "name": "stdout",
     "output_type": "stream",
     "text": [
      "Step: 225 #### Part2: Pseudo-label generation\n",
      "Step: 225 #### Part3:Train F and C using Pseudo-label\n",
      "Step: 225 #### Part4: Evaluation\n",
      "Current accuracy is:  0.26943396226415095\n",
      "Step: 226 #### Part1: Multi-way Adversarial Adaptation\n"
     ]
    },
    {
     "name": "stderr",
     "output_type": "stream",
     "text": [
      "\n",
      "20it [00:00, 93.19it/s]\u001b[A\n",
      "0it [00:00, ?it/s]\u001b[A\n",
      "10it [00:00, 93.81it/s]\u001b[A\n",
      "20it [00:00, 93.78it/s]\u001b[A\n",
      "0it [00:00, ?it/s]\u001b[A\n",
      " 91%|█████████ | 227/250 [01:49<00:10,  2.11it/s]\n",
      "0it [00:00, ?it/s]\u001b[A\n",
      "10it [00:00, 93.35it/s]\u001b[A"
     ]
    },
    {
     "name": "stdout",
     "output_type": "stream",
     "text": [
      "Step: 226 #### Part2: Pseudo-label generation\n",
      "Step: 226 #### Part3:Train F and C using Pseudo-label\n",
      "Step: 226 #### Part4: Evaluation\n",
      "Current accuracy is:  0.2641509433962264\n",
      "Step: 227 #### Part1: Multi-way Adversarial Adaptation\n"
     ]
    },
    {
     "name": "stderr",
     "output_type": "stream",
     "text": [
      "\n",
      "20it [00:00, 92.88it/s]\u001b[A\n",
      "0it [00:00, ?it/s]\u001b[A\n",
      "10it [00:00, 94.11it/s]\u001b[A\n",
      "20it [00:00, 93.79it/s]\u001b[A\n",
      "0it [00:00, ?it/s]\u001b[A\n",
      " 91%|█████████ | 228/250 [01:50<00:10,  2.11it/s]\n",
      "0it [00:00, ?it/s]\u001b[A\n",
      "10it [00:00, 92.30it/s]\u001b[A"
     ]
    },
    {
     "name": "stdout",
     "output_type": "stream",
     "text": [
      "Step: 227 #### Part2: Pseudo-label generation\n",
      "Step: 227 #### Part3:Train F and C using Pseudo-label\n",
      "Step: 227 #### Part4: Evaluation\n",
      "Current accuracy is:  0.2679245283018868\n",
      "Step: 228 #### Part1: Multi-way Adversarial Adaptation\n"
     ]
    },
    {
     "name": "stderr",
     "output_type": "stream",
     "text": [
      "\n",
      "19it [00:00, 91.56it/s]\u001b[A\n",
      "20it [00:00, 90.53it/s]\u001b[A\n",
      "0it [00:00, ?it/s]\u001b[A\n",
      "9it [00:00, 87.88it/s]\u001b[A\n",
      "19it [00:00, 89.05it/s]\u001b[A\n",
      "20it [00:00, 89.63it/s]\u001b[A\n",
      "0it [00:00, ?it/s]\u001b[A\n",
      " 92%|█████████▏| 229/250 [01:50<00:10,  2.10it/s]\n",
      "0it [00:00, ?it/s]\u001b[A\n",
      "10it [00:00, 93.47it/s]\u001b[A"
     ]
    },
    {
     "name": "stdout",
     "output_type": "stream",
     "text": [
      "Step: 228 #### Part2: Pseudo-label generation\n",
      "Step: 228 #### Part3:Train F and C using Pseudo-label\n",
      "Step: 228 #### Part4: Evaluation\n",
      "Current accuracy is:  0.2618867924528302\n",
      "Step: 229 #### Part1: Multi-way Adversarial Adaptation\n"
     ]
    },
    {
     "name": "stderr",
     "output_type": "stream",
     "text": [
      "\n",
      "20it [00:00, 93.05it/s]\u001b[A\n",
      "0it [00:00, ?it/s]\u001b[A\n",
      "10it [00:00, 93.30it/s]\u001b[A\n",
      "20it [00:00, 92.92it/s]\u001b[A\n",
      "0it [00:00, ?it/s]\u001b[A\n",
      " 92%|█████████▏| 230/250 [01:50<00:09,  2.10it/s]\n",
      "0it [00:00, ?it/s]\u001b[A\n",
      "10it [00:00, 93.56it/s]\u001b[A"
     ]
    },
    {
     "name": "stdout",
     "output_type": "stream",
     "text": [
      "Step: 229 #### Part2: Pseudo-label generation\n",
      "Step: 229 #### Part3:Train F and C using Pseudo-label\n",
      "Step: 229 #### Part4: Evaluation\n",
      "Current accuracy is:  0.2656603773584906\n",
      "Step: 230 #### Part1: Multi-way Adversarial Adaptation\n"
     ]
    },
    {
     "name": "stderr",
     "output_type": "stream",
     "text": [
      "\n",
      "20it [00:00, 93.35it/s]\u001b[A\n",
      "0it [00:00, ?it/s]\u001b[A\n",
      "10it [00:00, 94.58it/s]\u001b[A\n",
      "20it [00:00, 94.31it/s]\u001b[A\n",
      "0it [00:00, ?it/s]\u001b[A\n",
      " 92%|█████████▏| 231/250 [01:51<00:09,  2.11it/s]\n",
      "0it [00:00, ?it/s]\u001b[A\n",
      "10it [00:00, 93.94it/s]\u001b[A"
     ]
    },
    {
     "name": "stdout",
     "output_type": "stream",
     "text": [
      "Step: 230 #### Part2: Pseudo-label generation\n",
      "Step: 230 #### Part3:Train F and C using Pseudo-label\n",
      "Step: 230 #### Part4: Evaluation\n",
      "Current accuracy is:  0.26943396226415095\n",
      "Step: 231 #### Part1: Multi-way Adversarial Adaptation\n"
     ]
    },
    {
     "name": "stderr",
     "output_type": "stream",
     "text": [
      "\n",
      "20it [00:00, 93.39it/s]\u001b[A\n",
      "0it [00:00, ?it/s]\u001b[A\n",
      "10it [00:00, 94.81it/s]\u001b[A\n",
      "20it [00:00, 94.20it/s]\u001b[A\n",
      "0it [00:00, ?it/s]\u001b[A\n",
      " 93%|█████████▎| 232/250 [01:51<00:08,  2.11it/s]\n",
      "0it [00:00, ?it/s]\u001b[A\n",
      "10it [00:00, 93.80it/s]\u001b[A"
     ]
    },
    {
     "name": "stdout",
     "output_type": "stream",
     "text": [
      "Step: 231 #### Part2: Pseudo-label generation\n",
      "Step: 231 #### Part3:Train F and C using Pseudo-label\n",
      "Step: 231 #### Part4: Evaluation\n",
      "Current accuracy is:  0.26867924528301884\n",
      "Step: 232 #### Part1: Multi-way Adversarial Adaptation\n"
     ]
    },
    {
     "name": "stderr",
     "output_type": "stream",
     "text": [
      "\n",
      "20it [00:00, 92.57it/s]\u001b[A\n",
      "0it [00:00, ?it/s]\u001b[A\n",
      "10it [00:00, 92.16it/s]\u001b[A\n",
      "20it [00:00, 92.18it/s]\u001b[A\n",
      "0it [00:00, ?it/s]\u001b[A\n",
      " 93%|█████████▎| 233/250 [01:52<00:08,  2.11it/s]\n",
      "0it [00:00, ?it/s]\u001b[A\n",
      "10it [00:00, 93.44it/s]\u001b[A"
     ]
    },
    {
     "name": "stdout",
     "output_type": "stream",
     "text": [
      "Step: 232 #### Part2: Pseudo-label generation\n",
      "Step: 232 #### Part3:Train F and C using Pseudo-label\n",
      "Step: 232 #### Part4: Evaluation\n",
      "Current accuracy is:  0.2679245283018868\n",
      "Step: 233 #### Part1: Multi-way Adversarial Adaptation\n"
     ]
    },
    {
     "name": "stderr",
     "output_type": "stream",
     "text": [
      "\n",
      "20it [00:00, 93.02it/s]\u001b[A\n",
      "0it [00:00, ?it/s]\u001b[A\n",
      "10it [00:00, 94.05it/s]\u001b[A\n",
      "20it [00:00, 93.68it/s]\u001b[A\n",
      "0it [00:00, ?it/s]\u001b[A\n",
      " 94%|█████████▎| 234/250 [01:52<00:07,  2.11it/s]\n",
      "0it [00:00, ?it/s]\u001b[A\n",
      "10it [00:00, 93.65it/s]\u001b[A"
     ]
    },
    {
     "name": "stdout",
     "output_type": "stream",
     "text": [
      "Step: 233 #### Part2: Pseudo-label generation\n",
      "Step: 233 #### Part3:Train F and C using Pseudo-label\n",
      "Step: 233 #### Part4: Evaluation\n",
      "Current accuracy is:  0.2641509433962264\n",
      "Step: 234 #### Part1: Multi-way Adversarial Adaptation\n"
     ]
    },
    {
     "name": "stderr",
     "output_type": "stream",
     "text": [
      "\n",
      "20it [00:00, 93.46it/s]\u001b[A\n",
      "0it [00:00, ?it/s]\u001b[A\n",
      "10it [00:00, 94.31it/s]\u001b[A\n",
      "20it [00:00, 94.15it/s]\u001b[A\n",
      "0it [00:00, ?it/s]\u001b[A\n",
      " 94%|█████████▍| 235/250 [01:53<00:07,  2.11it/s]\n",
      "0it [00:00, ?it/s]\u001b[A\n",
      "10it [00:00, 92.80it/s]\u001b[A"
     ]
    },
    {
     "name": "stdout",
     "output_type": "stream",
     "text": [
      "Step: 234 #### Part2: Pseudo-label generation\n",
      "Step: 234 #### Part3:Train F and C using Pseudo-label\n",
      "Step: 234 #### Part4: Evaluation\n",
      "Current accuracy is:  0.26490566037735847\n",
      "Step: 235 #### Part1: Multi-way Adversarial Adaptation\n"
     ]
    },
    {
     "name": "stderr",
     "output_type": "stream",
     "text": [
      "\n",
      "20it [00:00, 92.44it/s]\u001b[A\n",
      "0it [00:00, ?it/s]\u001b[A\n",
      "10it [00:00, 92.81it/s]\u001b[A\n",
      "20it [00:00, 92.71it/s]\u001b[A\n",
      "0it [00:00, ?it/s]\u001b[A\n",
      " 94%|█████████▍| 236/250 [01:53<00:06,  2.11it/s]\n",
      "0it [00:00, ?it/s]\u001b[A\n",
      "10it [00:00, 92.42it/s]\u001b[A"
     ]
    },
    {
     "name": "stdout",
     "output_type": "stream",
     "text": [
      "Step: 235 #### Part2: Pseudo-label generation\n",
      "Step: 235 #### Part3:Train F and C using Pseudo-label\n",
      "Step: 235 #### Part4: Evaluation\n",
      "Current accuracy is:  0.2679245283018868\n",
      "Step: 236 #### Part1: Multi-way Adversarial Adaptation\n"
     ]
    },
    {
     "name": "stderr",
     "output_type": "stream",
     "text": [
      "\n",
      "20it [00:00, 92.31it/s]\u001b[A\n",
      "0it [00:00, ?it/s]\u001b[A\n",
      "10it [00:00, 93.44it/s]\u001b[A\n",
      "20it [00:00, 93.29it/s]\u001b[A\n",
      "0it [00:00, ?it/s]\u001b[A\n",
      " 95%|█████████▍| 237/250 [01:54<00:06,  2.10it/s]\n",
      "0it [00:00, ?it/s]\u001b[A\n",
      "10it [00:00, 92.08it/s]\u001b[A"
     ]
    },
    {
     "name": "stdout",
     "output_type": "stream",
     "text": [
      "Step: 236 #### Part2: Pseudo-label generation\n",
      "Step: 236 #### Part3:Train F and C using Pseudo-label\n",
      "Step: 236 #### Part4: Evaluation\n",
      "Current accuracy is:  0.26943396226415095\n",
      "Step: 237 #### Part1: Multi-way Adversarial Adaptation\n"
     ]
    },
    {
     "name": "stderr",
     "output_type": "stream",
     "text": [
      "\n",
      "20it [00:00, 91.40it/s]\u001b[A\n",
      "0it [00:00, ?it/s]\u001b[A\n",
      "10it [00:00, 92.45it/s]\u001b[A\n",
      "20it [00:00, 92.50it/s]\u001b[A\n",
      "0it [00:00, ?it/s]\u001b[A\n",
      " 95%|█████████▌| 238/250 [01:54<00:05,  2.10it/s]\n",
      "0it [00:00, ?it/s]\u001b[A\n",
      "10it [00:00, 94.03it/s]\u001b[A"
     ]
    },
    {
     "name": "stdout",
     "output_type": "stream",
     "text": [
      "Step: 237 #### Part2: Pseudo-label generation\n",
      "Step: 237 #### Part3:Train F and C using Pseudo-label\n",
      "Step: 237 #### Part4: Evaluation\n",
      "Current accuracy is:  0.26490566037735847\n",
      "Step: 238 #### Part1: Multi-way Adversarial Adaptation\n"
     ]
    },
    {
     "name": "stderr",
     "output_type": "stream",
     "text": [
      "\n",
      "20it [00:00, 93.69it/s]\u001b[A\n",
      "0it [00:00, ?it/s]\u001b[A\n",
      "10it [00:00, 93.51it/s]\u001b[A\n",
      "20it [00:00, 93.49it/s]\u001b[A\n",
      "0it [00:00, ?it/s]\u001b[A\n",
      " 96%|█████████▌| 239/250 [01:55<00:05,  2.11it/s]\n",
      "0it [00:00, ?it/s]\u001b[A\n",
      "10it [00:00, 93.73it/s]\u001b[A"
     ]
    },
    {
     "name": "stdout",
     "output_type": "stream",
     "text": [
      "Step: 238 #### Part2: Pseudo-label generation\n",
      "Step: 238 #### Part3:Train F and C using Pseudo-label\n",
      "Step: 238 #### Part4: Evaluation\n",
      "Current accuracy is:  0.26943396226415095\n",
      "Step: 239 #### Part1: Multi-way Adversarial Adaptation\n"
     ]
    },
    {
     "name": "stderr",
     "output_type": "stream",
     "text": [
      "\n",
      "20it [00:00, 93.45it/s]\u001b[A\n",
      "0it [00:00, ?it/s]\u001b[A\n",
      "10it [00:00, 94.80it/s]\u001b[A\n",
      "20it [00:00, 94.40it/s]\u001b[A\n",
      "0it [00:00, ?it/s]\u001b[A\n",
      " 96%|█████████▌| 240/250 [01:55<00:04,  2.11it/s]\n",
      "0it [00:00, ?it/s]\u001b[A\n",
      "10it [00:00, 93.79it/s]\u001b[A"
     ]
    },
    {
     "name": "stdout",
     "output_type": "stream",
     "text": [
      "Step: 239 #### Part2: Pseudo-label generation\n",
      "Step: 239 #### Part3:Train F and C using Pseudo-label\n",
      "Step: 239 #### Part4: Evaluation\n",
      "Current accuracy is:  0.26716981132075474\n",
      "Step: 240 #### Part1: Multi-way Adversarial Adaptation\n"
     ]
    },
    {
     "name": "stderr",
     "output_type": "stream",
     "text": [
      "\n",
      "20it [00:00, 93.26it/s]\u001b[A\n",
      "0it [00:00, ?it/s]\u001b[A\n",
      "10it [00:00, 93.70it/s]\u001b[A\n",
      "20it [00:00, 93.69it/s]\u001b[A\n",
      "0it [00:00, ?it/s]\u001b[A\n",
      " 96%|█████████▋| 241/250 [01:56<00:04,  2.12it/s]\n",
      "0it [00:00, ?it/s]\u001b[A\n",
      "10it [00:00, 92.17it/s]\u001b[A"
     ]
    },
    {
     "name": "stdout",
     "output_type": "stream",
     "text": [
      "Step: 240 #### Part2: Pseudo-label generation\n",
      "Step: 240 #### Part3:Train F and C using Pseudo-label\n",
      "Step: 240 #### Part4: Evaluation\n",
      "Current accuracy is:  0.270188679245283\n",
      "Step: 241 #### Part1: Multi-way Adversarial Adaptation\n"
     ]
    },
    {
     "name": "stderr",
     "output_type": "stream",
     "text": [
      "\n",
      "20it [00:00, 91.98it/s]\u001b[A\n",
      "0it [00:00, ?it/s]\u001b[A\n",
      "10it [00:00, 93.87it/s]\u001b[A\n",
      "20it [00:00, 93.66it/s]\u001b[A\n",
      "0it [00:00, ?it/s]\u001b[A\n",
      " 97%|█████████▋| 242/250 [01:56<00:03,  2.11it/s]\n",
      "0it [00:00, ?it/s]\u001b[A\n",
      "10it [00:00, 93.41it/s]\u001b[A"
     ]
    },
    {
     "name": "stdout",
     "output_type": "stream",
     "text": [
      "Step: 241 #### Part2: Pseudo-label generation\n",
      "Step: 241 #### Part3:Train F and C using Pseudo-label\n",
      "Step: 241 #### Part4: Evaluation\n",
      "Current accuracy is:  0.2656603773584906\n",
      "Step: 242 #### Part1: Multi-way Adversarial Adaptation\n"
     ]
    },
    {
     "name": "stderr",
     "output_type": "stream",
     "text": [
      "\n",
      "20it [00:00, 93.02it/s]\u001b[A\n",
      "0it [00:00, ?it/s]\u001b[A\n",
      "10it [00:00, 94.97it/s]\u001b[A\n",
      "20it [00:00, 94.41it/s]\u001b[A\n",
      "0it [00:00, ?it/s]\u001b[A\n",
      " 97%|█████████▋| 243/250 [01:57<00:03,  2.12it/s]\n",
      "0it [00:00, ?it/s]\u001b[A\n",
      "10it [00:00, 93.67it/s]\u001b[A"
     ]
    },
    {
     "name": "stdout",
     "output_type": "stream",
     "text": [
      "Step: 242 #### Part2: Pseudo-label generation\n",
      "Step: 242 #### Part3:Train F and C using Pseudo-label\n",
      "Step: 242 #### Part4: Evaluation\n",
      "Current accuracy is:  0.2709433962264151\n",
      "Step: 243 #### Part1: Multi-way Adversarial Adaptation\n"
     ]
    },
    {
     "name": "stderr",
     "output_type": "stream",
     "text": [
      "\n",
      "20it [00:00, 93.01it/s]\u001b[A\n",
      "0it [00:00, ?it/s]\u001b[A\n",
      "10it [00:00, 94.51it/s]\u001b[A\n",
      "20it [00:00, 93.41it/s]\u001b[A\n",
      "0it [00:00, ?it/s]\u001b[A\n",
      " 98%|█████████▊| 244/250 [01:57<00:02,  2.11it/s]\n",
      "0it [00:00, ?it/s]\u001b[A\n",
      "10it [00:00, 91.22it/s]\u001b[A"
     ]
    },
    {
     "name": "stdout",
     "output_type": "stream",
     "text": [
      "Step: 243 #### Part2: Pseudo-label generation\n",
      "Step: 243 #### Part3:Train F and C using Pseudo-label\n",
      "Step: 243 #### Part4: Evaluation\n",
      "Current accuracy is:  0.26339622641509436\n",
      "Step: 244 #### Part1: Multi-way Adversarial Adaptation\n"
     ]
    },
    {
     "name": "stderr",
     "output_type": "stream",
     "text": [
      "\n",
      "19it [00:00, 90.67it/s]\u001b[A\n",
      "20it [00:00, 89.47it/s]\u001b[A\n",
      "0it [00:00, ?it/s]\u001b[A\n",
      "10it [00:00, 93.31it/s]\u001b[A\n",
      "20it [00:00, 92.60it/s]\u001b[A\n",
      "0it [00:00, ?it/s]\u001b[A\n",
      " 98%|█████████▊| 245/250 [01:58<00:02,  2.10it/s]\n",
      "0it [00:00, ?it/s]\u001b[A\n",
      "10it [00:00, 92.82it/s]\u001b[A"
     ]
    },
    {
     "name": "stdout",
     "output_type": "stream",
     "text": [
      "Step: 244 #### Part2: Pseudo-label generation\n",
      "Step: 244 #### Part3:Train F and C using Pseudo-label\n",
      "Step: 244 #### Part4: Evaluation\n",
      "Current accuracy is:  0.2641509433962264\n",
      "Step: 245 #### Part1: Multi-way Adversarial Adaptation\n"
     ]
    },
    {
     "name": "stderr",
     "output_type": "stream",
     "text": [
      "\n",
      "20it [00:00, 92.66it/s]\u001b[A\n",
      "0it [00:00, ?it/s]\u001b[A\n",
      "10it [00:00, 93.92it/s]\u001b[A\n",
      "20it [00:00, 93.70it/s]\u001b[A\n",
      "0it [00:00, ?it/s]\u001b[A\n",
      " 98%|█████████▊| 246/250 [01:58<00:01,  2.10it/s]\n",
      "0it [00:00, ?it/s]\u001b[A\n",
      "10it [00:00, 92.87it/s]\u001b[A"
     ]
    },
    {
     "name": "stdout",
     "output_type": "stream",
     "text": [
      "Step: 245 #### Part2: Pseudo-label generation\n",
      "Step: 245 #### Part3:Train F and C using Pseudo-label\n",
      "Step: 245 #### Part4: Evaluation\n",
      "Current accuracy is:  0.2656603773584906\n",
      "Step: 246 #### Part1: Multi-way Adversarial Adaptation\n"
     ]
    },
    {
     "name": "stderr",
     "output_type": "stream",
     "text": [
      "\n",
      "19it [00:00, 91.89it/s]\u001b[A\n",
      "20it [00:00, 90.47it/s]\u001b[A\n",
      "0it [00:00, ?it/s]\u001b[A\n",
      "10it [00:00, 90.78it/s]\u001b[A\n",
      "20it [00:00, 90.68it/s]\u001b[A\n",
      "0it [00:00, ?it/s]\u001b[A\n",
      " 99%|█████████▉| 247/250 [01:59<00:01,  2.09it/s]\n",
      "0it [00:00, ?it/s]\u001b[A\n",
      "10it [00:00, 91.93it/s]\u001b[A"
     ]
    },
    {
     "name": "stdout",
     "output_type": "stream",
     "text": [
      "Step: 246 #### Part2: Pseudo-label generation\n",
      "Step: 246 #### Part3:Train F and C using Pseudo-label\n",
      "Step: 246 #### Part4: Evaluation\n",
      "Current accuracy is:  0.26716981132075474\n",
      "Step: 247 #### Part1: Multi-way Adversarial Adaptation\n"
     ]
    },
    {
     "name": "stderr",
     "output_type": "stream",
     "text": [
      "\n",
      "20it [00:00, 92.15it/s]\u001b[A\n",
      "0it [00:00, ?it/s]\u001b[A\n",
      "10it [00:00, 93.63it/s]\u001b[A\n",
      "20it [00:00, 93.55it/s]\u001b[A\n",
      "0it [00:00, ?it/s]\u001b[A\n",
      " 99%|█████████▉| 248/250 [01:59<00:00,  2.10it/s]\n",
      "0it [00:00, ?it/s]\u001b[A\n",
      "10it [00:00, 93.64it/s]\u001b[A"
     ]
    },
    {
     "name": "stdout",
     "output_type": "stream",
     "text": [
      "Step: 247 #### Part2: Pseudo-label generation\n",
      "Step: 247 #### Part3:Train F and C using Pseudo-label\n",
      "Step: 247 #### Part4: Evaluation\n",
      "Current accuracy is:  0.26490566037735847\n",
      "Step: 248 #### Part1: Multi-way Adversarial Adaptation\n"
     ]
    },
    {
     "name": "stderr",
     "output_type": "stream",
     "text": [
      "\n",
      "20it [00:00, 93.13it/s]\u001b[A\n",
      "0it [00:00, ?it/s]\u001b[A\n",
      "10it [00:00, 93.17it/s]\u001b[A\n",
      "20it [00:00, 93.00it/s]\u001b[A\n",
      "0it [00:00, ?it/s]\u001b[A\n",
      "100%|█████████▉| 249/250 [01:59<00:00,  2.10it/s]\n",
      "0it [00:00, ?it/s]\u001b[A\n",
      "10it [00:00, 93.13it/s]\u001b[A"
     ]
    },
    {
     "name": "stdout",
     "output_type": "stream",
     "text": [
      "Step: 248 #### Part2: Pseudo-label generation\n",
      "Step: 248 #### Part3:Train F and C using Pseudo-label\n",
      "Step: 248 #### Part4: Evaluation\n",
      "Current accuracy is:  0.26867924528301884\n",
      "Step: 249 #### Part1: Multi-way Adversarial Adaptation\n"
     ]
    },
    {
     "name": "stderr",
     "output_type": "stream",
     "text": [
      "\n",
      "20it [00:00, 93.06it/s]\u001b[A\n",
      "0it [00:00, ?it/s]\u001b[A\n",
      "10it [00:00, 94.12it/s]\u001b[A\n",
      "20it [00:00, 93.68it/s]\u001b[A\n",
      "0it [00:00, ?it/s]\u001b[A\n",
      "100%|██████████| 250/250 [02:00<00:00,  2.11it/s]\n"
     ]
    },
    {
     "name": "stdout",
     "output_type": "stream",
     "text": [
      "Step: 249 #### Part2: Pseudo-label generation\n",
      "Step: 249 #### Part3:Train F and C using Pseudo-label\n",
      "Step: 249 #### Part4: Evaluation\n",
      "Current accuracy is:  0.26716981132075474\n",
      "s1_sit: nan\n",
      "s1_stand: nan\n",
      "s1_Lying: nan\n",
      "s1_walking: nan\n",
      "s2_sit: nan\n",
      "s2_stand: nan\n",
      "s2_Lying: nan\n",
      "s2_walking: nan\n",
      "Settings:User: 1 GAN:2 Cls Epoch: 6 Overlap: 0.5.png\n"
     ]
    },
    {
     "data": {
      "image/png": "[encoded data removed]",
      "text/plain": [
       "<Figure size 432x288 with 1 Axes>"
      ]
     },
     "metadata": {
      "needs_background": "light"
     },
     "output_type": "display_data"
    }
   ],
   "source": [
    "start_time = time.time()\n",
    "loss = nn.BCELoss()\n",
    "criterion = nn.CrossEntropyLoss()\n",
    "calculate_softmax = nn.Softmax()\n",
    "\n",
    "x_value = []\n",
    "y_value = []\n",
    "\n",
    "s1_zero = 0\n",
    "s1_zero_count = 0\n",
    "s1_one = 0\n",
    "s1_one_count = 0\n",
    "s1_two = 0\n",
    "s1_two_count = 0\n",
    "s1_three = 0\n",
    "s1_three_count = 0\n",
    "\n",
    "s2_zero = 0\n",
    "s2_zero_count = 0\n",
    "s2_one = 0\n",
    "s2_one_count = 0\n",
    "s2_two = 0\n",
    "s2_two_count = 0\n",
    "s2_three = 0\n",
    "s2_three_count = 0\n",
    "\n",
    "\n",
    "for step in tqdm.tqdm(range(steps)):\n",
    "\n",
    "    print(\"Step: {} #### Part1: Multi-way Adversarial Adaptation\".format(step))\n",
    "\n",
    "    # Features fed into the classifiers and domain discriminators. # C fixed, F and D are updated\n",
    "    extractor.train()\n",
    "    discriminator_A.train()\n",
    "    discriminator_B.train()\n",
    "    classifier_A.eval()\n",
    "    classifier_B.eval()  \n",
    "\n",
    "    # For two sources, two weighted losses\n",
    "    s1_weight_loss = 0\n",
    "    s2_weight_loss = 0\n",
    "    alpha_S1 = 0\n",
    "    alpha_S2 = 0\n",
    "    \n",
    "    # GAN-Epoch corresponds to beta in Algo-2, line-4\n",
    "    for gan_epoch in range(gan_epoches):\n",
    "\n",
    "        # [Online Hard Domain Batch Mining]\n",
    "        s1_loader, s2_loader, t_loader = iter(source1_loader), iter(source2_loader), iter(target_loader)\n",
    "        for i, (t_sample, t_labels) in tqdm.tqdm(enumerate(t_loader)):\n",
    "            try:\n",
    "                s1_sample, s1_labels = s1_loader.next()\n",
    "            except StopIteration:\n",
    "                s1_loader = iter(source1_loader)\n",
    "                s1_sample, s1_labels = s1_loader.next()\n",
    "            try:\n",
    "                s2_sample, s2_labels = s2_loader.next()\n",
    "            except StopIteration:\n",
    "                s2_loader = iter(source2_loader)\n",
    "                s2_sample, s2_labels = s2_loader.next()\n",
    "\n",
    "            s1_sample, s1_labels = Variable(s1_sample.cuda(gpu_id)), Variable(s1_labels.cuda(gpu_id))\n",
    "            s2_sample, s2_labels = Variable(s2_sample.cuda(gpu_id)), Variable(s2_labels.cuda(gpu_id))\n",
    "            t_sample = Variable(t_sample.cuda(gpu_id))\n",
    "            \n",
    "            extractor.zero_grad()\n",
    "\n",
    "            s1_feature = extractor(s1_sample)\n",
    "            s2_feature = extractor(s2_sample)\n",
    "            t_feature = extractor(t_sample)\n",
    "            \n",
    "            # Classification loss. Second part of the Equation-4\n",
    "            s1_cls = classifier_A(s1_feature)\n",
    "            s2_cls = classifier_B(s2_feature)      \n",
    "            \n",
    "            s1_labels = s1_labels.long()\n",
    "            s2_labels = s2_labels.long()\n",
    "            \n",
    "            s1_cls_loss = get_cls_loss(s1_cls, s1_labels)\n",
    "            s2_cls_loss = get_cls_loss(s2_cls, s2_labels)\n",
    "\n",
    "            # For discriminator1 loss calculation\n",
    "            s1_source = discriminator_A(s1_feature)+ EPSILON\n",
    "            s1_target = discriminator_A(t_feature)+ EPSILON\n",
    "            \n",
    "            # For discriminator2 loss calculation\n",
    "            s2_source = discriminator_B(s2_feature) + EPSILON\n",
    "            s2_target = discriminator_B(t_feature) + EPSILON\n",
    "            \n",
    "            # Calculate discripency losses\n",
    "            s1_t_dis_loss = get_dis_loss(s1_source, s1_target)\n",
    "            s2_t_dis_loss = get_dis_loss(s2_source, s2_target)\n",
    "            \n",
    "\n",
    "            # Calculate Confusion loss\n",
    "            s1_ori_log = torch.log(s1_source)\n",
    "            s1_sub_log = torch.log(1-s1_source)\n",
    "            s1_ori_log_mean = torch.mean(s1_ori_log) \n",
    "            s1_sub_log_mean = torch.mean(s1_sub_log)\n",
    "            s1_s_conf_loss = s1_ori_log_mean + s1_sub_log_mean\n",
    "            \n",
    "            s2_ori_log = torch.log(s2_source)\n",
    "            s2_sub_log = torch.log(1-s2_source)\n",
    "            s2_ori_log_mean = torch.mean(s2_ori_log)\n",
    "            s2_sub_log_mean = torch.mean(s2_sub_log)\n",
    "            s2_s_conf_loss = s2_ori_log_mean + s2_sub_log_mean\n",
    "            \n",
    "            s1_tar_ori_log = torch.log(s1_target)\n",
    "            s1_tar_sub_log = torch.log(1-s1_target)\n",
    "            s1_tar_ori_log_mean = torch.mean(s1_tar_ori_log)\n",
    "            s1_tar_sub_log_mean = torch.mean(s1_tar_sub_log)\n",
    "            s1_tar_conf_loss = s1_tar_ori_log_mean + s1_tar_sub_log_mean\n",
    "            \n",
    "            s2_tar_ori_log = torch.log(s2_target)\n",
    "            s2_tar_sub_log = torch.log(1-s2_target)\n",
    "            s2_tar_ori_log_mean = torch.mean(s2_tar_ori_log)\n",
    "            s2_tar_sub_log_mean = torch.mean(s2_tar_sub_log)\n",
    "            s2_tar_conf_loss = s2_tar_ori_log_mean + s2_tar_sub_log_mean\n",
    "        \n",
    "            # Perplexity Score\n",
    "            s1_weight_loss += -s1_tar_sub_log_mean.data\n",
    "            s2_weight_loss += -s2_tar_sub_log_mean.data\n",
    "            \n",
    "            s1_score = s1_tar_sub_log.cpu().data.numpy()\n",
    "            s2_score = s2_tar_sub_log.cpu().data.numpy()\n",
    "            label_array = t_labels.numpy()\n",
    "        \n",
    "        \n",
    "            label_zero = np.argwhere(label_array==0)\n",
    "            if label_zero.size == 0:\n",
    "                s1_zero += 0\n",
    "            else:\n",
    "                s1_zero += s1_score[label_zero].sum()\n",
    "                s1_zero_count += label_zero.size\n",
    "                \n",
    "                \n",
    "            label_one = np.argwhere(label_array==1)\n",
    "            if label_one.size == 0:\n",
    "                s1_one += 0\n",
    "            else:\n",
    "                s1_one += s1_score[label_one].sum()\n",
    "                s1_one_count += label_one.size\n",
    "                \n",
    "            label_two = np.argwhere(label_array==2)\n",
    "            if label_two.size == 0:\n",
    "                s1_two += 0\n",
    "            else:\n",
    "                s1_two += s1_score[label_two].sum()\n",
    "                s1_two_count += label_two.size\n",
    "                \n",
    "            label_three = np.argwhere(label_array==3)   \n",
    "            if label_three.size == 0:\n",
    "                s1_three += 0\n",
    "            else:\n",
    "                s1_three += s1_score[label_three].sum()\n",
    "                s1_three_count += label_three.size\n",
    "                \n",
    "                \n",
    "            # ================== Source 2 ===================\n",
    "            label_zero = np.argwhere(label_array==0)\n",
    "            if label_zero.size == 0:\n",
    "                s2_zero += 0\n",
    "            else:\n",
    "                s2_zero += s2_score[label_zero].sum()\n",
    "                s2_zero_count += label_zero.size\n",
    "                \n",
    "            label_one = np.argwhere(label_array==1)\n",
    "            if label_one.size == 0:\n",
    "                s2_one += 0\n",
    "            else:\n",
    "                s2_one += s2_score[label_one].sum()\n",
    "                s2_one_count += label_one.size\n",
    "                \n",
    "            label_two = np.argwhere(label_array==2)\n",
    "            if label_two.size == 0:\n",
    "                s2_two += 0\n",
    "            else:\n",
    "                s2_two += s2_score[label_two].sum()\n",
    "                s2_two_count += label_two.size\n",
    "                \n",
    "            label_three = np.argwhere(label_array==3)   \n",
    "            if label_three.size == 0:\n",
    "                s2_three += 0\n",
    "            else:\n",
    "                s2_three += s2_score[label_three].sum()\n",
    "                s2_three_count += label_three.size\n",
    "                \n",
    "            \n",
    "            alpha_S1 +=  (alpha_S1 * i*gan_epoch  + torch.mean(s1_source) )/(i*gan_epoch+1)\n",
    "            alpha_S2 +=  (alpha_S2 * i*gan_epoch  + torch.mean(s2_source) )/(i*gan_epoch+1)\n",
    "            \n",
    "            s1_t_confusion_loss = -(0.5 * s1_s_conf_loss + 0.5 * s1_tar_conf_loss)\n",
    "            s2_t_confusion_loss = -(0.5 * s2_s_conf_loss + 0.5 * s2_tar_conf_loss)\n",
    "            \n",
    "            if s1_t_dis_loss.data >= s2_t_dis_loss.data:\n",
    "                SELECTIVE_SOURCE = \"S1\"\n",
    "                torch.autograd.backward([s1_cls_loss, s2_cls_loss, s1_t_confusion_loss])\n",
    "            else:\n",
    "                SELECTIVE_SOURCE = \"S2\"\n",
    "                torch.autograd.backward([s1_cls_loss, s2_cls_loss, s2_t_confusion_loss])\n",
    "                \n",
    "                \n",
    "            optim_extract.step()\n",
    "            discriminator_A.zero_grad()\n",
    "            discriminator_B.zero_grad()\n",
    "\n",
    "            # Detach features so that it does not update the feature extractor.\n",
    "            # Only update the discriminators\n",
    "            s1_source = discriminator_A(s1_feature.detach())\n",
    "            s1_target = discriminator_A(t_feature.detach())\n",
    "            s2_source = discriminator_B(s2_feature.detach())\n",
    "            s2_target = discriminator_B(t_feature.detach())\n",
    "\n",
    "            # Update D\n",
    "            s1_t_dis_loss = get_dis_loss(s1_source, s1_target)\n",
    "            s2_t_dis_loss = get_dis_loss(s2_source, s2_target)\n",
    "            torch.autograd.backward([s1_t_dis_loss, s2_t_dis_loss])\n",
    "\n",
    "            optim_s1_t_dis.step()\n",
    "            optim_s2_t_dis.step()\n",
    "\n",
    "            if (i+1) % log_interval == 0:\n",
    "                logging.warning('Step: %d, Gan epoch: %d, C1: %.2f, C2: %.2f, Dis1: %.2f, Dis2: %.2f, S1: %.2f, S2: %.2f, Selected: %s', \\\n",
    "                                step, gan_epoch, s1_cls_loss.data, s2_cls_loss.data, s1_t_dis_loss.data, \\\n",
    "                                s2_t_dis_loss.data, s1_t_confusion_loss.data, s2_t_confusion_loss.data, \\\n",
    "                                SELECTIVE_SOURCE)   \n",
    "   \n",
    "\n",
    "    # Both Classifier loss.\n",
    "#     s1_weight_loss += alpha_S1\n",
    "#     s2_weight_loss += alpha_S2\n",
    "    \n",
    "    s1_weight = s1_weight_loss / (s1_weight_loss + s2_weight_loss)\n",
    "    s2_weight = s2_weight_loss / (s1_weight_loss + s2_weight_loss)\n",
    "\n",
    "    s1_weight = s1_weight.cpu().data.numpy()\n",
    "    s2_weight = s2_weight.cpu().data.numpy()\n",
    "    \n",
    "    print(\"Step: {} #### Part2: Pseudo-label generation\".format(step))\n",
    "    extractor.eval()\n",
    "    classifier_A.eval()\n",
    "    classifier_B.eval()\n",
    "\n",
    "    pseudo_target_data = []\n",
    "    pseudo_target_label = []\n",
    "\n",
    "    \n",
    "\n",
    "    # Annotate from the target test dataset\n",
    "    for i, (t_sample, t_labels) in tqdm.tqdm(enumerate(target_loader)):\n",
    "        \n",
    "        pseudo_predicted = []\n",
    "        pseudo_original = []\n",
    "    \n",
    "        t_sample = Variable(t_sample.cuda(gpu_id))\n",
    "        t_feature = extractor(t_sample)\n",
    "\n",
    "        s1_cls = classifier_A(t_feature)\n",
    "        s2_cls = classifier_B(t_feature)\n",
    "\n",
    "        s1_cls = calculate_softmax(s1_cls)\n",
    "        s2_cls = calculate_softmax(s2_cls)\n",
    "        \n",
    "        s1_cls = s1_cls.data.cpu().numpy()\n",
    "        s2_cls = s2_cls.data.cpu().numpy()\n",
    "        \n",
    "        t_pred = s1_cls * s1_weight + s2_cls * s2_weight       \n",
    "        ids = t_pred.argmax(axis=1)\n",
    "        # ArgMax returns the indices of the max item\n",
    "        \n",
    "        \n",
    "        target_label = t_labels.data.cpu().numpy().astype(int)\n",
    "        \n",
    "        for j in range(ids.shape[0]):\n",
    "            if t_pred[j, ids[j]] >= threshold:\n",
    "                # Return input size: 9x1x128. Add an extra dimension at the beginning using np.newaxis\n",
    "                sample = t_sample[np.newaxis,j,:,:,:]\n",
    "                \n",
    "                pseudo_target_data.append(sample.cpu().numpy())\n",
    "                pseudo_target_label.append(ids[j])\n",
    "            \n",
    "                pseudo_predicted.append(ids[j])\n",
    "                pseudo_original.append(target_label[j])\n",
    "\n",
    "    try:\n",
    "        print(\"Step: {} #### Part3:Train F and C using Pseudo-label\".format(step))\n",
    "\n",
    "        pseudo_target_data = np.concatenate( pseudo_target_data, axis=0 )\n",
    "        pseudo_target_label = np.array( pseudo_target_label )\n",
    "        logging.warning(\"Pseudo dataset shape: %s\", pseudo_target_data.shape)\n",
    "        logging.warning(\"Pseudo dataset label shape: %s\", pseudo_target_label.shape)\n",
    "\n",
    "        pseudo_target_loader = dctn_load(pseudo_target_data, pseudo_target_label)\n",
    "\n",
    "\n",
    "        for cls_epoch in range(cls_epoches):\n",
    "\n",
    "            extractor.train()\n",
    "            classifier_A.train()\n",
    "            classifier_B.train()\n",
    "            s1_loader, s2_loader, t_pse_loader = iter(source1_loader), iter(source2_loader), iter(pseudo_target_loader)    \n",
    "\n",
    "            # Use source datasets and pseudo target dataset\n",
    "            for i, (t_pse_sample, t_pse_labels) in tqdm.tqdm(enumerate(t_pse_loader)):\n",
    "                try:\n",
    "                    s1_sample, s1_labels = s1_loader.next()\n",
    "                except StopIteration:\n",
    "                    s1_loader = iter(source1_loader)\n",
    "                    s1_sample, s1_labels = s1_loader.next()\n",
    "\n",
    "                try:\n",
    "                    s2_sample, s2_labels = s2_loader.next()\n",
    "                except StopIteration:\n",
    "                    s2_loader = iter(source2_loader)\n",
    "                    s2_sample, s2_labels = s2_loader.next()\n",
    "\n",
    "                s1_sample, s1_labels = Variable(s1_sample.cuda(gpu_id)), Variable(s1_labels.cuda(gpu_id))\n",
    "                s2_sample, s2_labels = Variable(s2_sample.cuda(gpu_id)), Variable(s2_labels.cuda(gpu_id))\n",
    "\n",
    "                t_pse_sample =  np.swapaxes(t_pse_sample,1,3)\n",
    "                t_pse_sample, t_pse_labels = Variable(t_pse_sample.cuda(gpu_id)), Variable(t_pse_labels.cuda(gpu_id))\n",
    "                t_pse_labels = t_pse_labels.float()  \n",
    "\n",
    "                # Combine the source 1 and 2 images with pseudo leveled images\n",
    "                s1_t_sample = torch.cat((s1_sample, t_pse_sample), 0)\n",
    "                s1_t_labels = torch.cat((s1_labels, t_pse_labels), 0)\n",
    "                s2_t_sample = torch.cat((s2_sample, t_pse_sample), 0)\n",
    "                s2_t_labels = torch.cat((s2_labels, t_pse_labels), 0)\n",
    "\n",
    "                optim_extract.zero_grad()\n",
    "                optim_s1_cls.zero_grad()\n",
    "                optim_s2_cls.zero_grad()\n",
    "\n",
    "                s1_t_feature = extractor(s1_t_sample)\n",
    "                s2_t_feature = extractor(s2_t_sample)\n",
    "                s1_t_cls = classifier_A(s1_t_feature)\n",
    "                s2_t_cls = classifier_B(s2_t_feature)\n",
    "\n",
    "                s1_t_labels = s1_t_labels.long()\n",
    "                s2_t_labels = s2_t_labels.long()\n",
    "\n",
    "                s1_t_cls_loss = get_cls_loss(s1_t_cls, s1_t_labels)\n",
    "                s2_t_cls_loss = get_cls_loss(s2_t_cls, s2_t_labels)\n",
    "\n",
    "                # Will it update the extractor\n",
    "                torch.autograd.backward([s1_t_cls_loss, s2_t_cls_loss])\n",
    "\n",
    "                optim_s1_cls.step()\n",
    "                optim_s2_cls.step()\n",
    "                optim_extract.step()            \n",
    "    except:      \n",
    "        logging.warning(\"No array to concatenate\")\n",
    "    \n",
    "    print(\"Step: {} #### Part4: Evaluation\".format(step))\n",
    "    # This Evaluation can be moved out of the outer FOR Loop\n",
    "    extractor.eval()\n",
    "    classifier_A.eval()\n",
    "    classifier_B.eval()\n",
    "\n",
    "    prediction = []\n",
    "    ground_truth = []\n",
    "    \n",
    "    correct = 0\n",
    "    for (sample, labels) in target_loader:\n",
    "        sample = Variable(sample.cuda(gpu_id))\n",
    "        sample_feature = extractor(sample)\n",
    "\n",
    "        s1_cls = classifier_A(sample_feature)\n",
    "        s2_cls = classifier_B(sample_feature)\n",
    "\n",
    "        s1_cls = s1_cls.data.cpu().numpy()\n",
    "        s2_cls = s2_cls.data.cpu().numpy()\n",
    "\n",
    "        # s1_weight and s2_weight should be generated from the discriminator\n",
    "        res = s1_cls * s1_weight + s2_cls * s2_weight\n",
    "\n",
    "        pred = res.argmax(axis=1)\n",
    "        labels = labels.numpy()\n",
    "        \n",
    "        prediction.extend(pred.tolist())\n",
    "        ground_truth.extend(labels.tolist())\n",
    "        \n",
    "        correct += np.equal(labels, pred).sum()\n",
    "    \n",
    "    current_accuracy = (correct * 1.0) / Total_Target_Sample\n",
    "    print(\"Current accuracy is: \", current_accuracy)\n",
    "    logging.warning(\"Current accuracy is: %s\", current_accuracy)\n",
    "\n",
    "    x_value.append(step)\n",
    "    y_value.append(current_accuracy)\n",
    "    \n",
    "    if current_accuracy >= max_correct:\n",
    "        max_correct = current_accuracy\n",
    "        max_step = step\n",
    "        max_epoch = gan_epoch\n",
    "    \n",
    "#     if step == steps-1:\n",
    "#         print(\"Printing the confusion matrix\")\n",
    "\n",
    "#         plot_cm = confusion_matrix(ground_truth, prediction)\n",
    "#         print(plot_cm)\n",
    "        \n",
    "#         print(precision_recall_fscore_support(ground_truth, prediction, average='macro'))\n",
    "    \n",
    "# print(\"--- %s seconds ---\", (time.time() - start_time)/60000)\n",
    "logging.warning(\"Best accuracy is: %s\", max_correct)\n",
    "logging.warning(\"Best accuracy at iteration: %s\", max_step)\n",
    "\n",
    "s1_sit = s1_zero/s1_zero_count\n",
    "print(\"s1_sit: \"+str(s1_sit))\n",
    "s1_stand = s1_one/s1_one_count\n",
    "print(\"s1_stand: \"+str(s1_stand))\n",
    "s1_Lying = s1_two/s1_two_count\n",
    "print(\"s1_Lying: \"+str(s1_Lying))\n",
    "s1_walking = s1_three/s1_three_count\n",
    "print(\"s1_walking: \"+str(s1_walking))\n",
    "\n",
    "\n",
    "s2_sit = s2_zero/s2_zero_count\n",
    "print(\"s2_sit: \"+str(s2_sit))\n",
    "s2_stand = s2_one/s2_one_count\n",
    "print(\"s2_stand: \"+str(s2_stand))\n",
    "s2_Lying = s2_two/s2_two_count\n",
    "print(\"s2_Lying: \"+str(s2_Lying))\n",
    "s2_walking = s2_three/s2_three_count\n",
    "print(\"s2_walking: \"+str(s2_walking))\n",
    "\n",
    "\n",
    "logging.warning('========= Source 1 ============') \n",
    "logging.warning('Label 0: %s', s1_zero) \n",
    "logging.warning('Label 0 count: %s', s1_zero_count) \n",
    "logging.warning('Label 1: %s', s1_one) \n",
    "logging.warning('Label 1 count: %s', s1_one_count) \n",
    "logging.warning('Label 2: %s', s1_two)\n",
    "logging.warning('Label 2 count: %s', s1_two_count) \n",
    "logging.warning('Label 3: %s', s1_three)\n",
    "logging.warning('Label 3 count: %s', s1_three_count) \n",
    "\n",
    "\n",
    "logging.warning('========= Source 2 ============') \n",
    "logging.warning('Label 0: %s', s2_zero) \n",
    "logging.warning('Label 0 count: %s', s2_zero_count) \n",
    "logging.warning('Label 1: %s', s2_one) \n",
    "logging.warning('Label 1 count: %s', s2_one_count) \n",
    "logging.warning('Label 2: %s', s2_two)\n",
    "logging.warning('Label 2 count: %s', s2_two_count) \n",
    "logging.warning('Label 3: %s', s2_three)\n",
    "logging.warning('Label 3 count: %s', s2_three_count) \n",
    "\n",
    "\n",
    "training_plot(x_value, y_value, selected_user, gan_epoches, cls_epoches, overlap, plot_saving_dir)"
   ]
  },
  {
   "cell_type": "code",
   "execution_count": null,
   "metadata": {},
   "outputs": [],
   "source": []
  },
  {
   "cell_type": "code",
   "execution_count": null,
   "metadata": {},
   "outputs": [],
   "source": []
  },
  {
   "cell_type": "markdown",
   "metadata": {},
   "source": [
    "## Softmax Testing Code"
   ]
  },
  {
   "cell_type": "code",
   "execution_count": 28,
   "metadata": {},
   "outputs": [
    {
     "name": "stderr",
     "output_type": "stream",
     "text": [
      "/home/avijoychakma/anaconda3/lib/python3.7/site-packages/ipykernel_launcher.py:3: UserWarning: Implicit dimension choice for softmax has been deprecated. Change the call to include dim=X as an argument.\n",
      "  This is separate from the ipykernel package so we can avoid doing imports until\n"
     ]
    }
   ],
   "source": [
    "m = nn.Softmax()\n",
    "input = torch.randn(2, 3)\n",
    "output = m(input)"
   ]
  },
  {
   "cell_type": "code",
   "execution_count": 29,
   "metadata": {},
   "outputs": [
    {
     "data": {
      "text/plain": [
       "tensor([[-0.5225, -0.5383,  1.5704],\n",
       "        [-0.9073, -2.2386,  1.1512]])"
      ]
     },
     "execution_count": 29,
     "metadata": {},
     "output_type": "execute_result"
    }
   ],
   "source": [
    "input"
   ]
  },
  {
   "cell_type": "code",
   "execution_count": 30,
   "metadata": {},
   "outputs": [
    {
     "data": {
      "text/plain": [
       "tensor([[0.0991, 0.0975, 0.8034],\n",
       "        [0.1099, 0.0290, 0.8611]])"
      ]
     },
     "execution_count": 30,
     "metadata": {},
     "output_type": "execute_result"
    }
   ],
   "source": [
    "output"
   ]
  },
  {
   "cell_type": "code",
   "execution_count": 31,
   "metadata": {},
   "outputs": [
    {
     "data": {
      "text/plain": [
       "0.524210751"
      ]
     },
     "execution_count": 31,
     "metadata": {},
     "output_type": "execute_result"
    }
   ],
   "source": [
    "np.max([2.13040713e-25,9.37593388e-40,2.83372893e-21,4.75788653e-01,5.24210751e-01,6.50217298e-17,5.74490457e-07])"
   ]
  },
  {
   "cell_type": "code",
   "execution_count": 32,
   "metadata": {},
   "outputs": [],
   "source": [
    "a = []\n",
    "a.append(\"1\")\n",
    "a.append(\"2\")\n",
    "a.append(\"3\")\n",
    "a.append(\"4\")\n",
    "a.append(\"5\")\n",
    "a.append(\"6\")\n",
    "a.append(\"7\")\n",
    "a.append(\"8\")\n",
    "a.append(\"9\")\n",
    "a.append(\"10\")"
   ]
  },
  {
   "cell_type": "code",
   "execution_count": 33,
   "metadata": {},
   "outputs": [
    {
     "data": {
      "text/plain": [
       "['1', '2', '3', '4', '5', '6', '7', '8', '9', '10']"
      ]
     },
     "execution_count": 33,
     "metadata": {},
     "output_type": "execute_result"
    }
   ],
   "source": [
    "a"
   ]
  },
  {
   "cell_type": "code",
   "execution_count": 34,
   "metadata": {},
   "outputs": [
    {
     "data": {
      "text/plain": [
       "array(['1', '10', '2', '3', '4', '5', '6', '7', '8', '9'], dtype='<U2')"
      ]
     },
     "execution_count": 34,
     "metadata": {},
     "output_type": "execute_result"
    }
   ],
   "source": [
    "np.unique(a)"
   ]
  },
  {
   "cell_type": "code",
   "execution_count": 35,
   "metadata": {},
   "outputs": [],
   "source": [
    "# y_true = [0, 0, 2, 0, 0]\n",
    "# y_pred = [3, 3, 3, 3, 3]\n",
    "# confusion_matrix(y_true, y_pred)"
   ]
  },
  {
   "cell_type": "code",
   "execution_count": 36,
   "metadata": {},
   "outputs": [],
   "source": [
    "upto = int(len(a)*0.2)"
   ]
  },
  {
   "cell_type": "code",
   "execution_count": 37,
   "metadata": {},
   "outputs": [
    {
     "data": {
      "text/plain": [
       "['1', '2']"
      ]
     },
     "execution_count": 37,
     "metadata": {},
     "output_type": "execute_result"
    }
   ],
   "source": [
    "a[0:upto]"
   ]
  },
  {
   "cell_type": "code",
   "execution_count": null,
   "metadata": {},
   "outputs": [],
   "source": []
  }
 ],
 "metadata": {
  "kernelspec": {
   "display_name": "Python 3",
   "language": "python",
   "name": "python3"
  },
  "language_info": {
   "codemirror_mode": {
    "name": "ipython",
    "version": 3
   },
   "file_extension": ".py",
   "mimetype": "text/x-python",
   "name": "python",
   "nbconvert_exporter": "python",
   "pygments_lexer": "ipython3",
   "version": "3.6.5"
  }
 },
 "nbformat": 4,
 "nbformat_minor": 2
}
