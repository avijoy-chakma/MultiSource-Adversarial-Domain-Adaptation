{
 "cells": [
  {
   "cell_type": "code",
   "execution_count": 1,
   "metadata": {
    "ExecuteTime": {
     "end_time": "2020-07-03T18:15:08.123686Z",
     "start_time": "2020-07-03T18:15:08.120827Z"
    }
   },
   "outputs": [],
   "source": [
    "home_url = \"/notebooks\""
   ]
  },
  {
   "cell_type": "code",
   "execution_count": 2,
   "metadata": {
    "ExecuteTime": {
     "end_time": "2020-07-03T18:15:09.317281Z",
     "start_time": "2020-07-03T18:15:08.129126Z"
    }
   },
   "outputs": [],
   "source": [
    "import sys\n",
    "sys.path.append(home_url+'/Downloads/ISWC/Debug-Packages/Utils/')\n",
    "sys.path.append(home_url+'/Downloads/ISWC/Debug-Packages/Model/')\n",
    "\n",
    "from DataPreprocess import *\n",
    "from Util import *\n",
    "from Visualization import *\n",
    "from loss import *\n",
    "from msda_classifier import *\n",
    "from msda_extractor import *\n",
    "from msda_discriminator import *\n",
    "\n",
    "# import matplotlib as plt\n",
    "import pandas as pd\n",
    "import os\n",
    "import math\n",
    "import csv\n",
    "import pickle\n",
    "import time\n",
    "import logging\n",
    "import seaborn as sns\n",
    "from pylab import rcParams\n",
    "import tqdm\n",
    "import argparse\n",
    "import random\n",
    "\n",
    "import math\n",
    "import matplotlib.pyplot as plt\n",
    "from matplotlib.lines import Line2D   \n",
    "from mpl_toolkits.mplot3d import Axes3D\n",
    "\n",
    "from scipy import stats\n",
    "from sklearn import preprocessing\n",
    "from sklearn.metrics import precision_recall_fscore_support\n",
    "from sklearn.metrics import f1_score, precision_score, recall_score\n",
    "\n",
    "import itertools\n",
    "import numpy as np\n",
    "import matplotlib.pyplot as plt\n",
    "from sklearn.model_selection import train_test_split\n",
    "from sklearn.metrics import confusion_matrix\n",
    "\n",
    "\n",
    "\n",
    "from torch.utils.data import Dataset, DataLoader\n",
    "from torchvision import transforms\n",
    "import torch\n",
    "import torch.nn as nn\n",
    "import torch.optim as optim\n",
    "from torch.autograd import Variable\n",
    "import torch.nn.functional as F\n",
    "\n",
    "%matplotlib inline\n",
    "sns.set(style='whitegrid', palette='muted', font_scale=1.5)\n",
    "rcParams['figure.figsize'] = 14, 8\n",
    "RANDOM_SEED = 42\n",
    "torch.manual_seed(10)\n",
    "np.random.seed(10)"
   ]
  },
  {
   "cell_type": "markdown",
   "metadata": {},
   "source": [
    "## Initialization"
   ]
  },
  {
   "cell_type": "code",
   "execution_count": 3,
   "metadata": {
    "ExecuteTime": {
     "end_time": "2020-07-03T18:15:09.324009Z",
     "start_time": "2020-07-03T18:15:09.319942Z"
    }
   },
   "outputs": [],
   "source": [
    "msada_result = []\n",
    "s1_losses = []\n",
    "s2_losses = []\n",
    "discriminator_losses = []\n",
    "msada_result = []"
   ]
  },
  {
   "cell_type": "code",
   "execution_count": 4,
   "metadata": {
    "ExecuteTime": {
     "end_time": "2020-07-03T18:15:09.344478Z",
     "start_time": "2020-07-03T18:15:09.326808Z"
    }
   },
   "outputs": [],
   "source": [
    "win_size=128\n",
    "overlap = 0.80\n",
    "source1_user = 2\n",
    "source2_user = 4\n",
    "target_user = 3\n",
    "activity_num = 4\n",
    "position = 1\n",
    "step_size=int(win_size*overlap)\n",
    "gpu_id = 0\n",
    "activities = ['Sitting','Standing','Walking','Running']\n",
    "data_source = {\"source1\":source1_user, \"source2\": source2_user, \"target\":target_user}\n",
    "\n",
    "DEVICE = torch.device('cuda:'+str(gpu_id) if torch.cuda.is_available() else 'cpu')"
   ]
  },
  {
   "cell_type": "code",
   "execution_count": 5,
   "metadata": {
    "ExecuteTime": {
     "end_time": "2020-07-03T18:15:09.359090Z",
     "start_time": "2020-07-03T18:15:09.346138Z"
    }
   },
   "outputs": [],
   "source": [
    "# url = home_url+ \"/Downloads/ISWC/Dataset/PAMAP2_Dataset/Protocol/\"\n",
    "item = [\"train\",\"valid\",\"test\"]\n",
    "person_list = [\"U1\",\"U2\",\"U3\",\"U4\"]\n",
    "position_array = [\"BACK\", \"RUA\", \"RLA\", \"LUA\",\"LLA\"]\n",
    "label = ['Confusion Loss', 'Discriminator Loss', 'Classification Loss']\n",
    "\n",
    "AXIS = 3\n",
    "FROM = 0\n",
    "TO = FROM+3\n",
    "START = 3\n",
    "END = 4\n",
    "\n",
    "steps = 150\n",
    "batch_size = 32\n",
    "plot_interval = 100\n",
    "cm_interval = 20\n",
    "lr=0.0001\n",
    "EPSILON = 1e-12\n",
    "beta1=0.9\n",
    "beta2=0.99\n",
    "avg_accuracy_epoch = int(steps*0.15)\n",
    "plot_common_title = \" window: \"+ str(win_size) + \"--Overlap: \"+ str(overlap) + \"--Position: \"+ position_array[position] + \"\\n\"+ \"--Activity: \"+ str(activity_num)"
   ]
  },
  {
   "cell_type": "code",
   "execution_count": 6,
   "metadata": {
    "ExecuteTime": {
     "end_time": "2020-07-03T18:15:09.375875Z",
     "start_time": "2020-07-03T18:15:09.360546Z"
    }
   },
   "outputs": [],
   "source": [
    "folder_name = str(activity_num)+ \" Activity\"+\"_Window \"+str(win_size)+ \"_Overlap \"+str(overlap)\n",
    "dataset_path = home_url+\"/Downloads/ISWC/Preprocessing/OPPORTUNITY/Data Files/\"+folder_name+\"/\"\n",
    "user_combination = \"/S1: \"+str(source1_user)+\" S2: \"+str(source2_user)+\" Target \"+ str(target_user)+\"/\"\n",
    "\n",
    "common_path = \"OPP-SamePosition-DifferentUser-Augmented/\"+folder_name+\"/Position-\"+position_array[position]+user_combination\n",
    "\n",
    "\n",
    "pretrain_path = home_url+\"/Downloads/ISWC/Debug-Pretraining/Pre-trained/\"+common_path\n",
    "plot_save_path = os.getcwd() +\"/MSADA/\"+common_path\n",
    "    \n",
    "if not os.path.exists(plot_save_path):\n",
    "    os.makedirs(plot_save_path)"
   ]
  },
  {
   "cell_type": "code",
   "execution_count": 7,
   "metadata": {
    "ExecuteTime": {
     "end_time": "2020-07-03T18:15:09.393735Z",
     "start_time": "2020-07-03T18:15:09.377767Z"
    }
   },
   "outputs": [
    {
     "data": {
      "text/plain": [
       "'/notebooks/Downloads/ISWC/Debug-Pretraining/Pre-trained/OPP-SamePosition-DifferentUser-Augmented/4 Activity_Window 128_Overlap 0.8/Position-RUA/S1: 2 S2: 4 Target 3/'"
      ]
     },
     "execution_count": 7,
     "metadata": {},
     "output_type": "execute_result"
    }
   ],
   "source": [
    "pretrain_path"
   ]
  },
  {
   "cell_type": "code",
   "execution_count": 8,
   "metadata": {
    "ExecuteTime": {
     "end_time": "2020-07-03T18:15:09.406919Z",
     "start_time": "2020-07-03T18:15:09.395908Z"
    }
   },
   "outputs": [
    {
     "data": {
      "text/plain": [
       "'/notebooks/Downloads/ISWC/Debug-Main-Algorithm/MSADA/OPP-SamePosition-DifferentUser-Augmented/4 Activity_Window 128_Overlap 0.8/Position-RUA/S1: 2 S2: 4 Target 3/'"
      ]
     },
     "execution_count": 8,
     "metadata": {},
     "output_type": "execute_result"
    }
   ],
   "source": [
    "plot_save_path"
   ]
  },
  {
   "cell_type": "code",
   "execution_count": 9,
   "metadata": {
    "ExecuteTime": {
     "end_time": "2020-07-03T18:15:09.419864Z",
     "start_time": "2020-07-03T18:15:09.410976Z"
    }
   },
   "outputs": [
    {
     "data": {
      "text/plain": [
       "149"
      ]
     },
     "execution_count": 9,
     "metadata": {},
     "output_type": "execute_result"
    }
   ],
   "source": [
    "experiment_summery_file = os.getcwd() + \"/MSADA/MSADA-OPP-SamePosition-DifferentUser-Augmented-RecordPerplexity/\"\n",
    "file1 = open(experiment_summery_file+\"MSADA-OPP-SamePosition-DifferentUser-Augmented-RecordPerplexity.txt\", \"a\")\n",
    "# writer = csv.writer(file1, delimiter='\\t')\n",
    "# writer.writerows(\"C1_Value1 C1_Label1 C1_Perplex1 C2_Value2 C2_Label2 C2_Perplex2 Final_Value Final_Label Max_Classifier_Label\\n\")\n",
    "file1.write(\"S1_User S1_Pos S2_User S2_Pos Tar_User Tar_Pos C1_Label1 C1_Value1 C2_Label2 C2_Value2  Final_Label Final_Value Ground_Truth C1_Perplex1 C2_Perplex2\\n\")"
   ]
  },
  {
   "cell_type": "markdown",
   "metadata": {
    "ExecuteTime": {
     "end_time": "2020-05-16T07:40:19.542969Z",
     "start_time": "2020-05-16T07:40:19.536751Z"
    }
   },
   "source": [
    "- Data Structure"
   ]
  },
  {
   "cell_type": "code",
   "execution_count": 10,
   "metadata": {
    "ExecuteTime": {
     "end_time": "2020-07-03T18:15:09.431450Z",
     "start_time": "2020-07-03T18:15:09.421753Z"
    }
   },
   "outputs": [],
   "source": [
    "s1_train = []\n",
    "s2_train = []\n",
    "t_train = []\n",
    "\n",
    "s1_gt_train = []\n",
    "s2_gt_train = []\n",
    "t_gt_train = []"
   ]
  },
  {
   "cell_type": "code",
   "execution_count": 11,
   "metadata": {
    "ExecuteTime": {
     "end_time": "2020-07-03T18:15:09.444896Z",
     "start_time": "2020-07-03T18:15:09.432863Z"
    }
   },
   "outputs": [],
   "source": [
    "s1_valid = []\n",
    "s2_valid = []\n",
    "t_valid = []\n",
    "\n",
    "s1_gt_valid = []\n",
    "s2_gt_valid = []\n",
    "t_gt_valid = []"
   ]
  },
  {
   "cell_type": "code",
   "execution_count": 12,
   "metadata": {
    "ExecuteTime": {
     "end_time": "2020-07-03T18:15:09.461040Z",
     "start_time": "2020-07-03T18:15:09.446439Z"
    }
   },
   "outputs": [],
   "source": [
    "s1_test = []\n",
    "s2_test = []\n",
    "t_test = []\n",
    "\n",
    "s1_gt_test = []\n",
    "s2_gt_test = []\n",
    "t_gt_test = []"
   ]
  },
  {
   "cell_type": "markdown",
   "metadata": {},
   "source": [
    "## Data Preprocessing"
   ]
  },
  {
   "cell_type": "code",
   "execution_count": 13,
   "metadata": {
    "ExecuteTime": {
     "end_time": "2020-07-03T18:15:09.897206Z",
     "start_time": "2020-07-03T18:15:09.462655Z"
    }
   },
   "outputs": [
    {
     "name": "stdout",
     "output_type": "stream",
     "text": [
      "U2_RUA_train\n",
      "U2_RUA_valid\n",
      "U2_RUA_test\n",
      "U4_RUA_train\n",
      "U4_RUA_valid\n",
      "U4_RUA_test\n",
      "U3_RUA_train\n",
      "U3_RUA_valid\n",
      "U3_RUA_test\n"
     ]
    }
   ],
   "source": [
    "for key in data_source:\n",
    "    for split_index in range(0,3):\n",
    "\n",
    "        if key == \"source1\":\n",
    "            file_name = person_list[source1_user-1] + \"_\" + position_array[position]+'_'+item[split_index]\n",
    "            print(file_name)\n",
    "            df = pd.read_csv(dataset_path+file_name+'.csv', sep=\",\")  \n",
    "\n",
    "            if split_index == 0:\n",
    "                calculate_window(df, s1_train, s1_gt_train, win_size, step_size, FROM, TO, START, END, AXIS)\n",
    "            elif split_index == 1:\n",
    "                calculate_window(df, s1_valid, s1_gt_valid, win_size, step_size, FROM, TO, START, END, AXIS)\n",
    "            elif split_index == 2:\n",
    "                calculate_window(df, s1_test, s1_gt_test, win_size, step_size, FROM, TO, START, END, AXIS)\n",
    "        elif key == \"source2\":\n",
    "            file_name = person_list[source2_user-1] + \"_\" + position_array[position]+'_'+item[split_index]\n",
    "            print(file_name)\n",
    "            df = pd.read_csv(dataset_path+file_name+'.csv', sep=\",\") \n",
    "\n",
    "            if split_index == 0:\n",
    "                calculate_window(df, s2_train, s2_gt_train, win_size, step_size, FROM, TO, START, END, AXIS)\n",
    "            elif split_index == 1:\n",
    "                calculate_window(df, s2_valid, s2_gt_valid, win_size, step_size, FROM, TO, START, END, AXIS)\n",
    "            elif split_index == 2:\n",
    "                calculate_window(df, s2_test, s2_gt_test, win_size, step_size, FROM, TO, START, END, AXIS)\n",
    "        elif key == \"target\":\n",
    "            file_name = person_list[target_user-1] + \"_\" + position_array[position]+'_'+item[split_index]\n",
    "            print(file_name)\n",
    "            df = pd.read_csv(dataset_path+file_name+'.csv', sep=\",\") \n",
    "\n",
    "            if split_index == 0:\n",
    "                calculate_window(df, t_train, t_gt_train, win_size, step_size, FROM, TO, START, END, AXIS)\n",
    "            elif split_index == 1:\n",
    "                calculate_window(df, t_valid, t_gt_valid, win_size, step_size, FROM, TO, START, END, AXIS)\n",
    "            elif split_index == 2:\n",
    "                calculate_window(df, t_test, t_gt_test, win_size, step_size, FROM, TO, START, END, AXIS)"
   ]
  },
  {
   "cell_type": "code",
   "execution_count": 14,
   "metadata": {
    "ExecuteTime": {
     "end_time": "2020-07-03T18:15:09.937544Z",
     "start_time": "2020-07-03T18:15:09.898757Z"
    }
   },
   "outputs": [],
   "source": [
    "s1_train = np.concatenate( s1_train, axis=0 ).astype(np.float32)\n",
    "s1_gt_train = np.array(s1_gt_train  ).astype(np.float32)\n",
    "s1_valid = np.concatenate( s1_valid, axis=0 ).astype(np.float32)\n",
    "s1_gt_valid = np.array(s1_gt_valid  ).astype(np.float32)\n",
    "s1_test = np.concatenate( s1_test, axis=0 ).astype(np.float32)\n",
    "s1_gt_test = np.array(s1_gt_test  ).astype(np.float32)"
   ]
  },
  {
   "cell_type": "code",
   "execution_count": 15,
   "metadata": {
    "ExecuteTime": {
     "end_time": "2020-07-03T18:15:09.979917Z",
     "start_time": "2020-07-03T18:15:09.938988Z"
    }
   },
   "outputs": [],
   "source": [
    "s2_train = np.concatenate( s2_train, axis=0 ).astype(np.float32)\n",
    "s2_gt_train = np.array(s2_gt_train  ).astype(np.float32)\n",
    "s2_valid = np.concatenate( s2_valid, axis=0 ).astype(np.float32)\n",
    "s2_gt_valid = np.array(s2_gt_valid  ).astype(np.float32)\n",
    "s2_test = np.concatenate( s2_test, axis=0 ).astype(np.float32)\n",
    "s2_gt_test = np.array(s2_gt_test  ).astype(np.float32)"
   ]
  },
  {
   "cell_type": "code",
   "execution_count": 16,
   "metadata": {
    "ExecuteTime": {
     "end_time": "2020-07-03T18:15:10.016665Z",
     "start_time": "2020-07-03T18:15:09.981481Z"
    }
   },
   "outputs": [],
   "source": [
    "t_train = np.concatenate( t_train, axis=0 ).astype(np.float32)\n",
    "t_gt_train = np.array(t_gt_train  ).astype(np.float32)\n",
    "t_valid = np.concatenate( t_valid, axis=0 ).astype(np.float32)\n",
    "t_gt_valid = np.array(t_gt_valid  ).astype(np.float32)\n",
    "t_test = np.concatenate( t_test, axis=0 ).astype(np.float32)\n",
    "t_gt_test = np.array(t_gt_test  ).astype(np.float32)"
   ]
  },
  {
   "cell_type": "code",
   "execution_count": 17,
   "metadata": {
    "ExecuteTime": {
     "end_time": "2020-07-03T18:15:10.564911Z",
     "start_time": "2020-07-03T18:15:10.018345Z"
    }
   },
   "outputs": [
    {
     "data": {
      "image/png": "[encoded data removed]",
      "text/plain": [
       "<Figure size 864x576 with 1 Axes>"
      ]
     },
     "metadata": {
      "needs_background": "light"
     },
     "output_type": "display_data"
    }
   ],
   "source": [
    "plot_training_data_distribution_multi_source(s1_gt_train, s2_gt_train, t_gt_train, activities, plot_save_path)"
   ]
  },
  {
   "cell_type": "code",
   "execution_count": 18,
   "metadata": {
    "ExecuteTime": {
     "end_time": "2020-07-03T18:15:10.571505Z",
     "start_time": "2020-07-03T18:15:10.567489Z"
    }
   },
   "outputs": [],
   "source": [
    "output_gt_number = len(np.unique(s1_gt_train))"
   ]
  },
  {
   "cell_type": "code",
   "execution_count": 19,
   "metadata": {
    "ExecuteTime": {
     "end_time": "2020-07-03T18:15:10.587345Z",
     "start_time": "2020-07-03T18:15:10.574430Z"
    }
   },
   "outputs": [],
   "source": [
    "source1_train_loader, source1_valid_loader, source1_test_loader = modified_load_train_valid_test(s1_train, s1_gt_train, s1_valid, s1_gt_valid, s1_test, s1_gt_test, batch_size)\n",
    "source2_train_loader, source2_valid_loader, source2_test_loader = modified_load_train_valid_test(s2_train, s2_gt_train, s2_valid, s2_gt_valid, s2_test, s2_gt_test, batch_size)\n",
    "target_train_loader, target_valid_loader, target_test_loader = modified_load_train_valid_test(t_train, t_gt_train, t_valid, t_gt_valid, t_test, t_gt_test, batch_size)"
   ]
  },
  {
   "cell_type": "markdown",
   "metadata": {},
   "source": [
    "## Load the pretrained networks"
   ]
  },
  {
   "cell_type": "code",
   "execution_count": 20,
   "metadata": {
    "ExecuteTime": {
     "end_time": "2020-07-03T18:15:12.822347Z",
     "start_time": "2020-07-03T18:15:10.588881Z"
    }
   },
   "outputs": [
    {
     "data": {
      "text/plain": [
       "<All keys matched successfully>"
      ]
     },
     "execution_count": 20,
     "metadata": {},
     "output_type": "execute_result"
    }
   ],
   "source": [
    "extractor = AccExtractor().to(DEVICE)\n",
    "classifier_A = AccClassifier(output_gt_number).to(DEVICE)\n",
    "classifier_B = AccClassifier(output_gt_number).to(DEVICE)\n",
    "\n",
    "discriminator_A = AccDiscriminator().to(DEVICE)\n",
    "discriminator_B = AccDiscriminator().to(DEVICE)\n",
    "\n",
    "extractor.load_state_dict(torch.load(pretrain_path + \"extractor.pth\"))\n",
    "classifier_A.load_state_dict(torch.load(pretrain_path + \"classifierA.pth\"))\n",
    "classifier_B.load_state_dict(torch.load(pretrain_path + \"classifierB.pth\"))"
   ]
  },
  {
   "cell_type": "code",
   "execution_count": 21,
   "metadata": {
    "ExecuteTime": {
     "end_time": "2020-07-03T18:15:12.830325Z",
     "start_time": "2020-07-03T18:15:12.824291Z"
    }
   },
   "outputs": [],
   "source": [
    "optim_extract = optim.Adam(extractor.parameters(), lr=lr, betas=(beta1, beta2))\n",
    "\n",
    "# weight decay is making discriminators stronger.\n",
    "optim_s1_t_dis = optim.Adam(discriminator_A.parameters(), lr=lr, betas=(beta1, beta2), weight_decay=1e-2)\n",
    "optim_s2_t_dis = optim.Adam(discriminator_B.parameters(), lr=lr, betas=(beta1, beta2), weight_decay=1e-2)\n",
    "optim_s1_cls = optim.Adam(classifier_A.parameters(), lr=lr, betas=(beta1, beta2))\n",
    "optim_s2_cls = optim.Adam(classifier_B.parameters(), lr=lr, betas=(beta1, beta2))"
   ]
  },
  {
   "cell_type": "markdown",
   "metadata": {},
   "source": [
    "## MSADA"
   ]
  },
  {
   "cell_type": "code",
   "execution_count": 22,
   "metadata": {
    "ExecuteTime": {
     "end_time": "2020-07-03T18:15:57.950059Z",
     "start_time": "2020-07-03T18:15:12.832021Z"
    },
    "scrolled": true
   },
   "outputs": [
    {
     "name": "stderr",
     "output_type": "stream",
     "text": [
      "  0%|          | 0/15 [00:00<?, ?it/s]\n",
      "0it [00:00, ?it/s]\u001b[A\n",
      "1it [00:00,  7.25it/s]\u001b[A"
     ]
    },
    {
     "name": "stdout",
     "output_type": "stream",
     "text": [
      "Step: 0 #### Part1: Multi-way Adversarial Adaptation\n"
     ]
    },
    {
     "name": "stderr",
     "output_type": "stream",
     "text": [
      "\n",
      "2it [00:00,  7.29it/s]\u001b[A\n",
      "3it [00:00,  7.33it/s]\u001b[A\n",
      "4it [00:00,  7.40it/s]\u001b[A\n",
      "5it [00:00,  7.48it/s]\u001b[A\n",
      "6it [00:00,  7.56it/s]\u001b[A\n",
      "7it [00:00,  7.54it/s]\u001b[A\n",
      "8it [00:01,  7.34it/s]\u001b[A\n",
      "9it [00:01,  7.40it/s]\u001b[A\n",
      "10it [00:01,  7.46it/s]\u001b[A\n",
      "11it [00:01,  7.47it/s]\u001b[A\n",
      "12it [00:01,  7.42it/s]\u001b[A\n",
      "13it [00:01,  7.40it/s]\u001b[A\n",
      "14it [00:01,  7.41it/s]\u001b[A\n",
      "15it [00:02,  7.42it/s]\u001b[A\n",
      "16it [00:02,  7.36it/s]\u001b[A\n",
      "17it [00:02,  7.17it/s]\u001b[A\n",
      "18it [00:02,  7.28it/s]\u001b[A\n",
      "19it [00:02,  7.08it/s]\u001b[A\n",
      "20it [00:02,  7.12it/s]\u001b[A\n",
      "21it [00:02,  7.30it/s]\u001b[A\n",
      "22it [00:02,  7.37it/s]\u001b[A\n",
      "  7%|▋         | 1/15 [00:02<00:41,  2.99s/it]\n",
      "0it [00:00, ?it/s]\u001b[A\n",
      "1it [00:00,  7.45it/s]\u001b[A"
     ]
    },
    {
     "name": "stdout",
     "output_type": "stream",
     "text": [
      "Step: 1 #### Part1: Multi-way Adversarial Adaptation\n"
     ]
    },
    {
     "name": "stderr",
     "output_type": "stream",
     "text": [
      "\n",
      "2it [00:00,  7.39it/s]\u001b[A\n",
      "3it [00:00,  7.20it/s]\u001b[A\n",
      "4it [00:00,  7.26it/s]\u001b[A\n",
      "5it [00:00,  7.50it/s]\u001b[A\n",
      "6it [00:00,  7.68it/s]\u001b[A\n",
      "7it [00:00,  7.81it/s]\u001b[A\n",
      "8it [00:01,  7.89it/s]\u001b[A\n",
      "9it [00:01,  7.97it/s]\u001b[A\n",
      "10it [00:01,  8.00it/s]\u001b[A\n",
      "11it [00:01,  8.05it/s]\u001b[A\n",
      "12it [00:01,  8.02it/s]\u001b[A\n",
      "13it [00:01,  7.93it/s]\u001b[A\n",
      "14it [00:01,  7.97it/s]\u001b[A\n",
      "15it [00:01,  8.02it/s]\u001b[A\n",
      "16it [00:02,  7.97it/s]\u001b[A\n",
      "17it [00:02,  7.97it/s]\u001b[A\n",
      "18it [00:02,  7.98it/s]\u001b[A\n",
      "19it [00:02,  7.98it/s]\u001b[A\n",
      "20it [00:02,  7.97it/s]\u001b[A\n",
      "21it [00:02,  7.93it/s]\u001b[A\n",
      "22it [00:02,  7.84it/s]\u001b[A\n",
      " 13%|█▎        | 2/15 [00:05<00:38,  2.94s/it]\n",
      "0it [00:00, ?it/s]\u001b[A\n",
      "1it [00:00,  7.18it/s]\u001b[A"
     ]
    },
    {
     "name": "stdout",
     "output_type": "stream",
     "text": [
      "Step: 2 #### Part1: Multi-way Adversarial Adaptation\n"
     ]
    },
    {
     "name": "stderr",
     "output_type": "stream",
     "text": [
      "\n",
      "2it [00:00,  7.13it/s]\u001b[A\n",
      "3it [00:00,  7.18it/s]\u001b[A\n",
      "4it [00:00,  7.26it/s]\u001b[A\n",
      "5it [00:00,  7.26it/s]\u001b[A\n",
      "6it [00:00,  7.28it/s]\u001b[A\n",
      "7it [00:00,  7.25it/s]\u001b[A\n",
      "8it [00:01,  7.29it/s]\u001b[A\n",
      "9it [00:01,  7.21it/s]\u001b[A\n",
      "10it [00:01,  7.42it/s]\u001b[A\n",
      "11it [00:01,  7.50it/s]\u001b[A\n",
      "12it [00:01,  7.57it/s]\u001b[A\n",
      "13it [00:01,  7.41it/s]\u001b[A\n",
      "14it [00:01,  7.40it/s]\u001b[A\n",
      "15it [00:02,  7.34it/s]\u001b[A\n",
      "16it [00:02,  7.33it/s]\u001b[A\n",
      "17it [00:02,  7.32it/s]\u001b[A\n",
      "18it [00:02,  7.02it/s]\u001b[A\n",
      "19it [00:02,  7.10it/s]\u001b[A\n",
      "20it [00:02,  7.10it/s]\u001b[A\n",
      "21it [00:02,  7.29it/s]\u001b[A\n",
      "22it [00:03,  7.28it/s]\u001b[A\n",
      " 20%|██        | 3/15 [00:08<00:35,  2.96s/it]\n",
      "0it [00:00, ?it/s]\u001b[A\n",
      "1it [00:00,  7.66it/s]\u001b[A"
     ]
    },
    {
     "name": "stdout",
     "output_type": "stream",
     "text": [
      "Step: 3 #### Part1: Multi-way Adversarial Adaptation\n"
     ]
    },
    {
     "name": "stderr",
     "output_type": "stream",
     "text": [
      "\n",
      "2it [00:00,  7.61it/s]\u001b[A\n",
      "3it [00:00,  7.55it/s]\u001b[A\n",
      "4it [00:00,  7.39it/s]\u001b[A\n",
      "5it [00:00,  7.13it/s]\u001b[A\n",
      "6it [00:00,  7.27it/s]\u001b[A\n",
      "7it [00:00,  7.37it/s]\u001b[A\n",
      "8it [00:01,  7.47it/s]\u001b[A\n",
      "9it [00:01,  7.54it/s]\u001b[A\n",
      "10it [00:01,  7.56it/s]\u001b[A\n",
      "11it [00:01,  7.59it/s]\u001b[A\n",
      "12it [00:01,  7.57it/s]\u001b[A\n",
      "13it [00:01,  7.32it/s]\u001b[A\n",
      "14it [00:01,  6.39it/s]\u001b[A\n",
      "15it [00:02,  6.72it/s]\u001b[A\n",
      "16it [00:02,  7.07it/s]\u001b[A\n",
      "17it [00:02,  7.29it/s]\u001b[A\n",
      "18it [00:02,  7.33it/s]\u001b[A\n",
      "19it [00:02,  7.32it/s]\u001b[A\n",
      "20it [00:02,  7.37it/s]\u001b[A\n",
      "21it [00:02,  7.49it/s]\u001b[A\n",
      "22it [00:03,  7.31it/s]\u001b[A\n",
      " 27%|██▋       | 4/15 [00:11<00:32,  2.98s/it]\n",
      "0it [00:00, ?it/s]\u001b[A\n",
      "1it [00:00,  7.94it/s]\u001b[A"
     ]
    },
    {
     "name": "stdout",
     "output_type": "stream",
     "text": [
      "Step: 4 #### Part1: Multi-way Adversarial Adaptation\n"
     ]
    },
    {
     "name": "stderr",
     "output_type": "stream",
     "text": [
      "\n",
      "2it [00:00,  7.88it/s]\u001b[A\n",
      "3it [00:00,  7.81it/s]\u001b[A\n",
      "4it [00:00,  7.79it/s]\u001b[A\n",
      "5it [00:00,  7.59it/s]\u001b[A\n",
      "6it [00:00,  7.43it/s]\u001b[A\n",
      "7it [00:00,  7.43it/s]\u001b[A\n",
      "8it [00:01,  7.43it/s]\u001b[A\n",
      "9it [00:01,  7.34it/s]\u001b[A\n",
      "10it [00:01,  7.35it/s]\u001b[A\n",
      "11it [00:01,  7.39it/s]\u001b[A\n",
      "12it [00:01,  7.37it/s]\u001b[A\n",
      "13it [00:01,  7.34it/s]\u001b[A\n",
      "14it [00:01,  7.47it/s]\u001b[A\n",
      "15it [00:02,  7.51it/s]\u001b[A\n",
      "16it [00:02,  7.48it/s]\u001b[A\n",
      "17it [00:02,  7.43it/s]\u001b[A\n",
      "18it [00:02,  7.26it/s]\u001b[A\n",
      "19it [00:02,  7.28it/s]\u001b[A\n",
      "20it [00:02,  7.26it/s]\u001b[A\n",
      "21it [00:02,  7.23it/s]\u001b[A\n",
      "22it [00:02,  7.38it/s]\u001b[A\n",
      " 33%|███▎      | 5/15 [00:14<00:29,  2.98s/it]\n",
      "0it [00:00, ?it/s]\u001b[A\n",
      "1it [00:00,  7.72it/s]\u001b[A"
     ]
    },
    {
     "name": "stdout",
     "output_type": "stream",
     "text": [
      "Step: 5 #### Part1: Multi-way Adversarial Adaptation\n"
     ]
    },
    {
     "name": "stderr",
     "output_type": "stream",
     "text": [
      "\n",
      "2it [00:00,  7.67it/s]\u001b[A\n",
      "3it [00:00,  7.66it/s]\u001b[A\n",
      "4it [00:00,  7.62it/s]\u001b[A\n",
      "5it [00:00,  6.77it/s]\u001b[A\n",
      "6it [00:00,  6.92it/s]\u001b[A\n",
      "7it [00:00,  7.15it/s]\u001b[A\n",
      "8it [00:01,  7.30it/s]\u001b[A\n",
      "9it [00:01,  7.42it/s]\u001b[A\n",
      "10it [00:01,  7.56it/s]\u001b[A\n",
      "11it [00:01,  7.58it/s]\u001b[A\n",
      "12it [00:01,  7.56it/s]\u001b[A\n",
      "13it [00:01,  7.61it/s]\u001b[A\n",
      "14it [00:01,  7.45it/s]\u001b[A\n",
      "15it [00:02,  7.50it/s]\u001b[A\n",
      "16it [00:02,  7.57it/s]\u001b[A\n",
      "17it [00:02,  7.49it/s]\u001b[A\n",
      "18it [00:02,  7.49it/s]\u001b[A\n",
      "19it [00:02,  7.59it/s]\u001b[A\n",
      "20it [00:02,  7.68it/s]\u001b[A\n",
      "21it [00:02,  7.59it/s]\u001b[A\n",
      "22it [00:02,  7.44it/s]\u001b[A\n",
      " 40%|████      | 6/15 [00:17<00:26,  2.98s/it]\n",
      "0it [00:00, ?it/s]\u001b[A\n",
      "1it [00:00,  7.71it/s]\u001b[A"
     ]
    },
    {
     "name": "stdout",
     "output_type": "stream",
     "text": [
      "Step: 6 #### Part1: Multi-way Adversarial Adaptation\n"
     ]
    },
    {
     "name": "stderr",
     "output_type": "stream",
     "text": [
      "\n",
      "2it [00:00,  7.71it/s]\u001b[A\n",
      "3it [00:00,  7.69it/s]\u001b[A\n",
      "4it [00:00,  7.51it/s]\u001b[A\n",
      "5it [00:00,  7.43it/s]\u001b[A\n",
      "6it [00:00,  7.41it/s]\u001b[A\n",
      "7it [00:00,  7.35it/s]\u001b[A\n",
      "8it [00:01,  7.36it/s]\u001b[A\n",
      "9it [00:01,  7.29it/s]\u001b[A\n",
      "10it [00:01,  7.28it/s]\u001b[A\n",
      "11it [00:01,  7.25it/s]\u001b[A\n",
      "12it [00:01,  7.29it/s]\u001b[A\n",
      "13it [00:01,  7.30it/s]\u001b[A\n",
      "14it [00:01,  7.32it/s]\u001b[A\n",
      "15it [00:02,  7.33it/s]\u001b[A\n",
      "16it [00:02,  7.18it/s]\u001b[A\n",
      "17it [00:02,  7.19it/s]\u001b[A\n",
      "18it [00:02,  6.99it/s]\u001b[A\n",
      "19it [00:02,  7.15it/s]\u001b[A\n",
      "20it [00:02,  7.20it/s]\u001b[A\n",
      "21it [00:02,  6.92it/s]\u001b[A\n",
      "22it [00:03,  7.25it/s]\u001b[A\n",
      " 47%|████▋     | 7/15 [00:20<00:23,  3.00s/it]\n",
      "0it [00:00, ?it/s]\u001b[A\n",
      "1it [00:00,  7.67it/s]\u001b[A"
     ]
    },
    {
     "name": "stdout",
     "output_type": "stream",
     "text": [
      "Step: 7 #### Part1: Multi-way Adversarial Adaptation\n"
     ]
    },
    {
     "name": "stderr",
     "output_type": "stream",
     "text": [
      "\n",
      "2it [00:00,  7.61it/s]\u001b[A\n",
      "3it [00:00,  7.59it/s]\u001b[A\n",
      "4it [00:00,  7.55it/s]\u001b[A\n",
      "5it [00:00,  7.37it/s]\u001b[A\n",
      "6it [00:00,  7.39it/s]\u001b[A\n",
      "7it [00:00,  7.40it/s]\u001b[A\n",
      "8it [00:01,  7.50it/s]\u001b[A\n",
      "9it [00:01,  7.58it/s]\u001b[A\n",
      "10it [00:01,  7.71it/s]\u001b[A\n",
      "11it [00:01,  7.76it/s]\u001b[A\n",
      "12it [00:01,  7.64it/s]\u001b[A\n",
      "13it [00:01,  7.68it/s]\u001b[A\n",
      "14it [00:01,  7.28it/s]\u001b[A\n",
      "15it [00:02,  7.08it/s]\u001b[A\n",
      "16it [00:02,  7.16it/s]\u001b[A\n",
      "17it [00:02,  7.27it/s]\u001b[A\n",
      "18it [00:02,  7.39it/s]\u001b[A\n",
      "19it [00:02,  7.49it/s]\u001b[A\n",
      "20it [00:02,  7.51it/s]\u001b[A\n",
      "21it [00:02,  7.41it/s]\u001b[A\n",
      "22it [00:02,  7.44it/s]\u001b[A\n",
      " 53%|█████▎    | 8/15 [00:23<00:20,  2.99s/it]\n",
      "0it [00:00, ?it/s]\u001b[A\n",
      "1it [00:00,  6.54it/s]\u001b[A"
     ]
    },
    {
     "name": "stdout",
     "output_type": "stream",
     "text": [
      "Step: 8 #### Part1: Multi-way Adversarial Adaptation\n"
     ]
    },
    {
     "name": "stderr",
     "output_type": "stream",
     "text": [
      "\n",
      "2it [00:00,  6.83it/s]\u001b[A\n",
      "3it [00:00,  7.00it/s]\u001b[A\n",
      "4it [00:00,  7.12it/s]\u001b[A\n",
      "5it [00:00,  7.18it/s]\u001b[A\n",
      "6it [00:00,  7.25it/s]\u001b[A\n",
      "7it [00:00,  7.28it/s]\u001b[A\n",
      "8it [00:01,  7.27it/s]\u001b[A\n",
      "9it [00:01,  7.32it/s]\u001b[A\n",
      "10it [00:01,  7.31it/s]\u001b[A\n",
      "11it [00:01,  7.26it/s]\u001b[A\n",
      "12it [00:01,  7.26it/s]\u001b[A\n",
      "13it [00:01,  7.24it/s]\u001b[A\n",
      "14it [00:01,  7.14it/s]\u001b[A\n",
      "15it [00:02,  7.19it/s]\u001b[A\n",
      "16it [00:02,  7.21it/s]\u001b[A\n",
      "17it [00:02,  7.29it/s]\u001b[A\n",
      "18it [00:02,  7.22it/s]\u001b[A\n",
      "19it [00:02,  7.19it/s]\u001b[A\n",
      "20it [00:02,  7.24it/s]\u001b[A\n",
      "21it [00:02,  7.29it/s]\u001b[A\n",
      "22it [00:03,  7.26it/s]\u001b[A\n",
      " 60%|██████    | 9/15 [00:26<00:18,  3.00s/it]\n",
      "0it [00:00, ?it/s]\u001b[A\n",
      "1it [00:00,  6.62it/s]\u001b[A"
     ]
    },
    {
     "name": "stdout",
     "output_type": "stream",
     "text": [
      "Step: 9 #### Part1: Multi-way Adversarial Adaptation\n"
     ]
    },
    {
     "name": "stderr",
     "output_type": "stream",
     "text": [
      "\n",
      "2it [00:00,  6.89it/s]\u001b[A\n",
      "3it [00:00,  7.16it/s]\u001b[A\n",
      "4it [00:00,  7.39it/s]\u001b[A\n",
      "5it [00:00,  7.24it/s]\u001b[A\n",
      "6it [00:00,  7.39it/s]\u001b[A\n",
      "7it [00:00,  7.50it/s]\u001b[A\n",
      "8it [00:01,  7.53it/s]\u001b[A\n",
      "9it [00:01,  7.54it/s]\u001b[A\n",
      "10it [00:01,  7.56it/s]\u001b[A\n",
      "11it [00:01,  7.57it/s]\u001b[A\n",
      "12it [00:01,  7.52it/s]\u001b[A\n",
      "13it [00:01,  7.45it/s]\u001b[A\n",
      "14it [00:01,  7.37it/s]\u001b[A\n",
      "15it [00:02,  7.46it/s]\u001b[A\n",
      "16it [00:02,  7.56it/s]\u001b[A\n",
      "17it [00:02,  7.65it/s]\u001b[A\n",
      "18it [00:02,  7.71it/s]\u001b[A\n",
      "19it [00:02,  7.68it/s]\u001b[A\n",
      "20it [00:02,  7.69it/s]\u001b[A\n",
      "21it [00:02,  7.70it/s]\u001b[A\n",
      "22it [00:02,  7.54it/s]\u001b[A\n",
      " 67%|██████▋   | 10/15 [00:29<00:14,  2.98s/it]\n",
      "0it [00:00, ?it/s]\u001b[A\n",
      "1it [00:00,  7.12it/s]\u001b[A"
     ]
    },
    {
     "name": "stdout",
     "output_type": "stream",
     "text": [
      "Step: 10 #### Part1: Multi-way Adversarial Adaptation\n"
     ]
    },
    {
     "name": "stderr",
     "output_type": "stream",
     "text": [
      "\n",
      "2it [00:00,  7.28it/s]\u001b[A\n",
      "3it [00:00,  7.39it/s]\u001b[A\n",
      "4it [00:00,  7.39it/s]\u001b[A\n",
      "5it [00:00,  7.42it/s]\u001b[A\n",
      "6it [00:00,  7.42it/s]\u001b[A\n",
      "7it [00:00,  7.10it/s]\u001b[A\n",
      "8it [00:01,  7.24it/s]\u001b[A\n",
      "9it [00:01,  7.29it/s]\u001b[A\n",
      "10it [00:01,  7.24it/s]\u001b[A\n",
      "11it [00:01,  7.33it/s]\u001b[A\n",
      "12it [00:01,  7.43it/s]\u001b[A\n",
      "13it [00:01,  7.44it/s]\u001b[A\n",
      "14it [00:01,  7.46it/s]\u001b[A\n",
      "15it [00:02,  7.34it/s]\u001b[A\n",
      "16it [00:02,  7.34it/s]\u001b[A\n",
      "17it [00:02,  7.22it/s]\u001b[A\n",
      "18it [00:02,  7.20it/s]\u001b[A\n",
      "19it [00:02,  7.20it/s]\u001b[A\n",
      "20it [00:02,  7.27it/s]\u001b[A\n",
      "21it [00:02,  7.19it/s]\u001b[A\n",
      "22it [00:03,  7.29it/s]\u001b[A\n",
      " 73%|███████▎  | 11/15 [00:32<00:11,  2.99s/it]\n",
      "0it [00:00, ?it/s]\u001b[A\n",
      "1it [00:00,  7.17it/s]\u001b[A"
     ]
    },
    {
     "name": "stdout",
     "output_type": "stream",
     "text": [
      "Step: 11 #### Part1: Multi-way Adversarial Adaptation\n"
     ]
    },
    {
     "name": "stderr",
     "output_type": "stream",
     "text": [
      "\n",
      "2it [00:00,  7.27it/s]\u001b[A\n",
      "3it [00:00,  7.40it/s]\u001b[A\n",
      "4it [00:00,  7.55it/s]\u001b[A\n",
      "5it [00:00,  6.99it/s]\u001b[A\n",
      "6it [00:00,  7.19it/s]\u001b[A\n",
      "7it [00:00,  7.37it/s]\u001b[A\n",
      "8it [00:01,  7.51it/s]\u001b[A\n",
      "9it [00:01,  7.56it/s]\u001b[A\n",
      "10it [00:01,  7.60it/s]\u001b[A\n",
      "11it [00:01,  7.58it/s]\u001b[A\n",
      "12it [00:01,  7.65it/s]\u001b[A\n",
      "13it [00:01,  7.73it/s]\u001b[A\n",
      "14it [00:01,  7.70it/s]\u001b[A\n",
      "15it [00:01,  7.75it/s]\u001b[A\n",
      "16it [00:02,  7.86it/s]\u001b[A\n",
      "17it [00:02,  7.92it/s]\u001b[A\n",
      "18it [00:02,  7.99it/s]\u001b[A\n",
      "19it [00:02,  8.04it/s]\u001b[A\n",
      "20it [00:02,  8.07it/s]\u001b[A\n",
      "21it [00:02,  8.03it/s]\u001b[A\n",
      "22it [00:02,  7.71it/s]\u001b[A\n",
      " 80%|████████  | 12/15 [00:35<00:08,  2.95s/it]\n",
      "0it [00:00, ?it/s]\u001b[A\n",
      "1it [00:00,  7.96it/s]\u001b[A"
     ]
    },
    {
     "name": "stdout",
     "output_type": "stream",
     "text": [
      "Step: 12 #### Part1: Multi-way Adversarial Adaptation\n"
     ]
    },
    {
     "name": "stderr",
     "output_type": "stream",
     "text": [
      "\n",
      "2it [00:00,  7.32it/s]\u001b[A\n",
      "3it [00:00,  7.40it/s]\u001b[A\n",
      "4it [00:00,  7.34it/s]\u001b[A\n",
      "5it [00:00,  7.29it/s]\u001b[A\n",
      "6it [00:00,  7.31it/s]\u001b[A\n",
      "7it [00:00,  7.27it/s]\u001b[A\n",
      "8it [00:01,  7.31it/s]\u001b[A\n",
      "9it [00:01,  7.29it/s]\u001b[A\n",
      "10it [00:01,  7.11it/s]\u001b[A\n",
      "11it [00:01,  7.19it/s]\u001b[A\n",
      "12it [00:01,  7.18it/s]\u001b[A\n",
      "13it [00:01,  7.23it/s]\u001b[A\n",
      "14it [00:01,  7.18it/s]\u001b[A\n",
      "15it [00:02,  7.11it/s]\u001b[A\n",
      "16it [00:02,  7.15it/s]\u001b[A\n",
      "17it [00:02,  7.19it/s]\u001b[A\n",
      "18it [00:02,  7.25it/s]\u001b[A\n",
      "19it [00:02,  7.17it/s]\u001b[A\n",
      "20it [00:02,  7.17it/s]\u001b[A\n",
      "21it [00:02,  7.27it/s]\u001b[A\n",
      "22it [00:03,  7.20it/s]\u001b[A\n",
      " 87%|████████▋ | 13/15 [00:38<00:05,  2.99s/it]\n",
      "0it [00:00, ?it/s]\u001b[A\n",
      "1it [00:00,  7.37it/s]\u001b[A"
     ]
    },
    {
     "name": "stdout",
     "output_type": "stream",
     "text": [
      "Step: 13 #### Part1: Multi-way Adversarial Adaptation\n"
     ]
    },
    {
     "name": "stderr",
     "output_type": "stream",
     "text": [
      "\n",
      "2it [00:00,  7.32it/s]\u001b[A\n",
      "3it [00:00,  7.34it/s]\u001b[A\n",
      "4it [00:00,  7.43it/s]\u001b[A\n",
      "5it [00:00,  7.47it/s]\u001b[A\n",
      "6it [00:00,  7.42it/s]\u001b[A\n",
      "7it [00:00,  7.45it/s]\u001b[A\n",
      "8it [00:01,  7.57it/s]\u001b[A\n",
      "9it [00:01,  7.68it/s]\u001b[A\n",
      "10it [00:01,  7.68it/s]\u001b[A\n",
      "11it [00:01,  7.68it/s]\u001b[A\n",
      "12it [00:01,  7.68it/s]\u001b[A\n",
      "13it [00:01,  7.56it/s]\u001b[A\n",
      "14it [00:01,  7.56it/s]\u001b[A\n",
      "15it [00:02,  7.17it/s]\u001b[A\n",
      "16it [00:02,  7.14it/s]\u001b[A\n",
      "17it [00:02,  7.24it/s]\u001b[A\n",
      "18it [00:02,  7.39it/s]\u001b[A\n",
      "19it [00:02,  7.49it/s]\u001b[A\n",
      "20it [00:02,  7.58it/s]\u001b[A\n",
      "21it [00:02,  7.65it/s]\u001b[A\n",
      "22it [00:02,  7.50it/s]\u001b[A\n",
      " 93%|█████████▎| 14/15 [00:41<00:02,  2.97s/it]\n",
      "0it [00:00, ?it/s]\u001b[A\n",
      "1it [00:00,  7.79it/s]\u001b[A"
     ]
    },
    {
     "name": "stdout",
     "output_type": "stream",
     "text": [
      "Step: 14 #### Part1: Multi-way Adversarial Adaptation\n"
     ]
    },
    {
     "name": "stderr",
     "output_type": "stream",
     "text": [
      "\n",
      "2it [00:00,  7.50it/s]\u001b[A\n",
      "3it [00:00,  7.52it/s]\u001b[A\n",
      "4it [00:00,  7.55it/s]\u001b[A\n",
      "5it [00:00,  7.56it/s]\u001b[A\n",
      "6it [00:00,  7.58it/s]\u001b[A\n",
      "7it [00:00,  7.60it/s]\u001b[A\n",
      "8it [00:01,  7.62it/s]\u001b[A\n",
      "9it [00:01,  7.66it/s]\u001b[A\n",
      "10it [00:01,  7.63it/s]\u001b[A\n",
      "11it [00:01,  7.45it/s]\u001b[A\n",
      "12it [00:01,  7.35it/s]\u001b[A\n",
      "13it [00:01,  7.29it/s]\u001b[A\n",
      "14it [00:01,  7.29it/s]\u001b[A\n",
      "15it [00:02,  7.22it/s]\u001b[A\n",
      "16it [00:02,  7.20it/s]\u001b[A\n",
      "17it [00:02,  7.22it/s]\u001b[A\n",
      "18it [00:02,  7.28it/s]\u001b[A\n",
      "19it [00:02,  7.23it/s]\u001b[A\n",
      "20it [00:02,  7.17it/s]\u001b[A\n",
      "21it [00:02,  7.12it/s]\u001b[A\n",
      "22it [00:02,  7.34it/s]\u001b[A\n",
      " 93%|█████████▎| 14/15 [00:44<00:03,  3.21s/it]\n"
     ]
    },
    {
     "ename": "ValueError",
     "evalue": "invalid literal for int() with base 10: '[1.0, 1.0, 1.0, 1.0, 3.0, 1.0, 1.0, 0.0, 1.0, 3.0, 3.0, 3.0, 1.0, 1.0, 3.0, 1.0, 1.0, 1.0, 1.0, 3.0, 2.0, 1.0, 3.0, 3.0, 3.0, 0.0, 1.0, 2.0, 2.0, 2.0, 1.0, 3.0, 3.0, 1.0, 1.0, 1.0, 1.0, 1.0, 1.0, 3.0",
     "output_type": "error",
     "traceback": [
      "\u001b[0;31m---------------------------------------------------------------------------\u001b[0m",
      "\u001b[0;31mValueError\u001b[0m                                Traceback (most recent call last)",
      "\u001b[0;32m<ipython-input-22-15db47c4e093>\u001b[0m in \u001b[0;36m<module>\u001b[0;34m\u001b[0m\n\u001b[1;32m    243\u001b[0m             \u001b[0mfinal_val_list\u001b[0m\u001b[0;34m.\u001b[0m\u001b[0mextend\u001b[0m\u001b[0;34m(\u001b[0m\u001b[0mval\u001b[0m\u001b[0;34m.\u001b[0m\u001b[0mtolist\u001b[0m\u001b[0;34m(\u001b[0m\u001b[0;34m)\u001b[0m\u001b[0;34m)\u001b[0m\u001b[0;34m\u001b[0m\u001b[0;34m\u001b[0m\u001b[0m\n\u001b[1;32m    244\u001b[0m \u001b[0;34m\u001b[0m\u001b[0m\n\u001b[0;32m--> 245\u001b[0;31m         \u001b[0mprint\u001b[0m\u001b[0;34m(\u001b[0m\u001b[0;34m\"Ground Truth: \"\u001b[0m \u001b[0;34m+\u001b[0m \u001b[0mint\u001b[0m\u001b[0;34m(\u001b[0m\u001b[0mstr\u001b[0m\u001b[0;34m(\u001b[0m\u001b[0mground_truth\u001b[0m\u001b[0;34m)\u001b[0m\u001b[0;34m)\u001b[0m\u001b[0;34m)\u001b[0m\u001b[0;34m\u001b[0m\u001b[0;34m\u001b[0m\u001b[0m\n\u001b[0m\u001b[1;32m    246\u001b[0m         \u001b[0mc\u001b[0m \u001b[0;34m=\u001b[0m \u001b[0;34m[\u001b[0m\u001b[0mc1_pred_list\u001b[0m\u001b[0;34m,\u001b[0m \u001b[0mc1_val_list\u001b[0m\u001b[0;34m,\u001b[0m \u001b[0mc2_pred_list\u001b[0m\u001b[0;34m,\u001b[0m \u001b[0mc2_val_list\u001b[0m\u001b[0;34m,\u001b[0m \u001b[0mprediction\u001b[0m\u001b[0;34m,\u001b[0m \u001b[0mfinal_val_list\u001b[0m\u001b[0;34m,\u001b[0m \u001b[0mground_truth\u001b[0m\u001b[0;34m]\u001b[0m\u001b[0;34m\u001b[0m\u001b[0;34m\u001b[0m\u001b[0m\n\u001b[1;32m    247\u001b[0m \u001b[0;34m\u001b[0m\u001b[0m\n",
      "\u001b[0;31mValueError\u001b[0m: invalid literal for int() with base 10: '[1.0, 1.0, 1.0, 1.0, 3.0, 1.0, 1.0, 0.0, 1.0, 3.0, 3.0, 3.0, 1.0, 1.0, 3.0, 1.0, 1.0, 1.0, 1.0, 3.0, 2.0, 1.0, 3.0, 3.0, 3.0, 0.0, 1.0, 2.0, 2.0, 2.0, 1.0, 3.0, 3.0, 1.0, 1.0, 1.0, 1.0, 1.0, 1.0, 3.0"
     ]
    }
   ],
   "source": [
    "start_time = time.time()\n",
    "loss = nn.BCELoss()\n",
    "criterion = nn.CrossEntropyLoss()\n",
    "calculate_softmax = nn.Softmax(dim=0)\n",
    "\n",
    "\n",
    "source1_accuracy_sum = 0\n",
    "source2_accuracy_sum = 0\n",
    "target_accuracy_sum = 0\n",
    "\n",
    "\n",
    "source1_accuracy_list = [0] * avg_accuracy_epoch\n",
    "source2_accuracy_list = [0] * avg_accuracy_epoch\n",
    "target_accuracy_list = [0] * avg_accuracy_epoch\n",
    "source1_running_accuracy = 0\n",
    "source2_running_accuracy = 0\n",
    "target_running_accuracy = 0\n",
    "\n",
    "\n",
    "for step in tqdm.tqdm(range(steps)):\n",
    "\n",
    "    print(\"Step: {} #### Part1: Multi-way Adversarial Adaptation\".format(step))\n",
    "    \n",
    "    # Features fed into the classifiers and domain discriminators. # C fixed, F and D are updated\n",
    "    extractor.train()\n",
    "    discriminator_A.train()\n",
    "    discriminator_B.train()\n",
    "    classifier_A.eval()\n",
    "    classifier_B.eval()  \n",
    "\n",
    "    # For two sources, two weighted losses\n",
    "    s1_weight_loss = 0\n",
    "    s2_weight_loss = 0\n",
    "    \n",
    "    s1_classification_loss, s2_classification_loss = 0, 0\n",
    "    s1_discriminator_loss, s2_discriminator_loss = 0, 0\n",
    "    s1_confusion_loss, s2_confusion_loss = 0, 0\n",
    "    \n",
    "    s1_prediction = []\n",
    "    s2_prediction = []\n",
    "    s1_t_prediction = []\n",
    "    s2_t_prediction = []\n",
    "    \n",
    "    min_dataloader_len = min(len(source1_train_loader), len(source2_train_loader), len(target_train_loader))\n",
    "    s1_loader, s2_loader, t_loader = iter(source1_train_loader), iter(source2_train_loader), iter(target_train_loader)\n",
    "\n",
    "    # Target has smaller data points. It will finish iterating first.\n",
    "    for i, (Modified_t_sample, t_sample, t_labels) in tqdm.tqdm(enumerate(t_loader)):\n",
    "        try:\n",
    "            Modified_s1_Sample, s1_sample, s1_labels = s1_loader.next()\n",
    "        except StopIteration:\n",
    "            s1_loader = iter(source1_train_loader)\n",
    "            Modified_s1_Sample, s1_sample, s1_labels = s1_loader.next()\n",
    "\n",
    "        try:\n",
    "            Modified_s2_Sample, s2_sample, s2_labels = s2_loader.next()\n",
    "        except StopIteration:\n",
    "            s2_loader = iter(source2_train_loader)\n",
    "            Modified_s2_Sample, s2_sample, s2_labels = s2_loader.next()\n",
    "\n",
    "        s1_sample, s1_labels = Variable(s1_sample.cuda(gpu_id)), Variable(s1_labels.cuda(gpu_id))\n",
    "        s2_sample, s2_labels = Variable(s2_sample.cuda(gpu_id)), Variable(s2_labels.cuda(gpu_id))\n",
    "        t_sample = Variable(t_sample.cuda(gpu_id))\n",
    "        \n",
    "        Modified_s1_Sample = Variable(Modified_s1_Sample.float().cuda(gpu_id))\n",
    "        Modified_s2_Sample = Variable(Modified_s2_Sample.float().cuda(gpu_id))\n",
    "        Modified_t_sample = Variable(Modified_t_sample.float().cuda(gpu_id))\n",
    "\n",
    "        s1_feature = extractor(s1_sample)\n",
    "        s2_feature = extractor(s2_sample)\n",
    "        t_feature = extractor(t_sample)\n",
    "        \n",
    "        Modified_s1_feature = extractor(Modified_s1_Sample)\n",
    "        Modified_s2_feature = extractor(Modified_s2_Sample)\n",
    "        Modified_t_feature = extractor(Modified_t_sample)\n",
    "        \n",
    "\n",
    "        # Classification loss. Second part of the Equation-4\n",
    "        s1_cls = classifier_A(s1_feature)\n",
    "        s2_cls = classifier_B(s2_feature)\n",
    "        Modified_s1_cls = classifier_A(Modified_s1_feature)\n",
    "        Modified_s2_cls = classifier_B(Modified_s2_feature)\n",
    "        \n",
    "        s1_labels = s1_labels.long()\n",
    "        s2_labels = s2_labels.long()\n",
    "\n",
    "        s1_cls_loss = get_cls_loss(s1_cls, s1_labels)\n",
    "        s2_cls_loss = get_cls_loss(s2_cls, s2_labels)\n",
    "        Modified_s1_cls_loss = get_cls_loss(Modified_s1_cls, s1_labels)\n",
    "        Modified_s2_cls_loss = get_cls_loss(Modified_s2_cls, s2_labels)\n",
    "\n",
    "        s1_source = discriminator_A(s1_feature)\n",
    "        Modified_s1_source = discriminator_A(Modified_s1_feature)\n",
    "        s1_target = discriminator_A(t_feature)\n",
    "        Modified_s1_target = discriminator_A(Modified_t_feature)\n",
    "        s2_source = discriminator_B(s2_feature)\n",
    "        Modified_s2_source = discriminator_B(Modified_s2_feature)\n",
    "        s2_target = discriminator_B(t_feature)\n",
    "        Modified_s2_target = discriminator_B(Modified_t_feature)\n",
    "\n",
    "        # Calculate confusion loss\n",
    "        s1_s_conf_loss = get_confusion_loss(s1_source)\n",
    "        s1_tar_conf_loss = get_confusion_loss(s1_target)\n",
    "        s1_t_confusion_loss = -(0.5 * s1_s_conf_loss + 0.5 * s1_tar_conf_loss)\n",
    "        \n",
    "        Modified_s1_s_conf_loss = get_confusion_loss(Modified_s1_source)\n",
    "        Modified_s1_tar_conf_loss = get_confusion_loss(Modified_s1_target)\n",
    "        Modified_s1_t_confusion_loss = -(0.5 * Modified_s1_s_conf_loss + 0.5 * Modified_s1_tar_conf_loss)\n",
    "        \n",
    "        s2_s_conf_loss = get_confusion_loss(s2_source)\n",
    "        s2_tar_conf_loss = get_confusion_loss(s2_target)\n",
    "        s2_t_confusion_loss = -(0.5 * s2_s_conf_loss + 0.5 * s2_tar_conf_loss)\n",
    "        \n",
    "        Modified_s2_s_conf_loss = get_confusion_loss(Modified_s2_source)\n",
    "        Modified_s2_tar_conf_loss = get_confusion_loss(Modified_s2_target)\n",
    "        Modified_s2_t_confusion_loss = -(0.5 * Modified_s2_s_conf_loss + 0.5 * Modified_s2_tar_conf_loss)\n",
    "\n",
    "        # Perplexity Score\n",
    "        s1_weight_loss += -torch.mean(torch.log(1-s1_target)).data\n",
    "        s1_weight_loss += -torch.mean(torch.log(1-Modified_s1_target)).data\n",
    "        s2_weight_loss += -torch.mean(torch.log(1-s2_target)).data\n",
    "        s2_weight_loss += -torch.mean(torch.log(1-Modified_s2_target)).data\n",
    "\n",
    "\n",
    "        # NOTE: If all the parameters are going to be updated then optimizer.zero_grad() == Network.zero_grad()\n",
    "        discriminator_A.zero_grad()\n",
    "        discriminator_B.zero_grad()\n",
    "\n",
    "\n",
    "        # Detach features so that it does not update the feature extractor. Only update the discriminators\n",
    "        # Recalculated with the detach method so that the backpropagation does not accumulate gradient to feature extractor\n",
    "        s1_source = discriminator_A(s1_feature.detach())\n",
    "        s1_target = discriminator_A(t_feature.detach())\n",
    "        s2_source = discriminator_B(s2_feature.detach())\n",
    "        s2_target = discriminator_B(t_feature.detach())\n",
    "        \n",
    "        Modified_s1_source = discriminator_A(Modified_s1_feature.detach())\n",
    "        Modified_s1_target = discriminator_A(Modified_t_feature.detach())\n",
    "        Modified_s2_source = discriminator_B(Modified_s2_feature.detach())\n",
    "        Modified_s2_target = discriminator_B(Modified_t_feature.detach())\n",
    "        \n",
    "\n",
    "        # Discrepency loss(Target 0, Source 1)-Determines which source discriminator confusion loss to use for updating feature extractor\n",
    "        s1_t_dis_loss = get_dis_loss(s1_source, s1_target)\n",
    "        s2_t_dis_loss = get_dis_loss(s2_source, s2_target)\n",
    "        \n",
    "        Modified_s1_t_dis_loss = get_dis_loss(Modified_s1_source, Modified_s1_target)\n",
    "        Modified_s2_t_dis_loss = get_dis_loss(Modified_s2_source, Modified_s2_target)\n",
    "\n",
    "        # Update D\n",
    "        # Cross check the update process. Chech its value before and after this statement.\n",
    "        torch.autograd.backward([s1_t_dis_loss, s2_t_dis_loss, Modified_s1_t_dis_loss, Modified_s2_t_dis_loss])\n",
    "        optim_s1_t_dis.step()\n",
    "        optim_s2_t_dis.step()\n",
    "        \n",
    "\n",
    "        # Identify the most discriminant source. Then take the confusion loss from that domain.\n",
    "        # Update the generator based on classification and confusion loss\n",
    "        extractor.zero_grad()\n",
    "        if s1_t_dis_loss.data >= s2_t_dis_loss.data:\n",
    "            SELECTIVE_SOURCE = \"S1\"\n",
    "            # Why the confusion effect of the other discriminator is not considered?\n",
    "            torch.autograd.backward([s1_cls_loss, s2_cls_loss, s1_t_confusion_loss, Modified_s1_t_confusion_loss])\n",
    "        else:\n",
    "            SELECTIVE_SOURCE = \"S2\"\n",
    "            torch.autograd.backward([s1_cls_loss, s2_cls_loss, s2_t_confusion_loss, Modified_s2_t_confusion_loss])\n",
    "\n",
    "        optim_extract.step()\n",
    "        \n",
    "        # Batchwise sum\n",
    "        s1_prediction.append(np.sum(s1_source.data.cpu().numpy().tolist())/len(s1_source.data.cpu().numpy().tolist()))\n",
    "        s2_prediction.append(np.sum(s2_source.data.cpu().numpy().tolist())/len(s2_source.data.cpu().numpy().tolist()))\n",
    "        s1_t_prediction.append(np.sum(s1_target.data.cpu().numpy().tolist())/len(s1_target.data.cpu().numpy().tolist()))\n",
    "        s2_t_prediction.append(np.sum(s2_target.data.cpu().numpy().tolist())/len(s2_target.data.cpu().numpy().tolist()))\n",
    "\n",
    "        \n",
    "        s1_classification_loss += s1_cls_loss\n",
    "        s2_classification_loss += s2_cls_loss\n",
    "        s1_discriminator_loss += s1_t_dis_loss\n",
    "        s2_discriminator_loss += s2_t_dis_loss\n",
    "        s1_confusion_loss += s1_t_confusion_loss\n",
    "        s2_confusion_loss += s2_t_confusion_loss\n",
    "\n",
    "    # Both Classifier loss.\n",
    "    s1_weight = s1_weight_loss / (s1_weight_loss + s2_weight_loss)\n",
    "    s2_weight = s2_weight_loss / (s1_weight_loss + s2_weight_loss)\n",
    "\n",
    "    s1_weight = s1_weight.cpu().data.numpy()\n",
    "    s2_weight = s2_weight.cpu().data.numpy()\n",
    "          \n",
    "\n",
    "    if step == steps-1:\n",
    "        \n",
    "        extractor.eval()\n",
    "        classifier_A.eval()\n",
    "        classifier_B.eval()\n",
    "\n",
    "        prediction = []\n",
    "        ground_truth = []\n",
    "        c1_pred_list = []\n",
    "        c2_pred_list = []\n",
    "        c1_val_list = []\n",
    "        c2_val_list = []\n",
    "        final_val_list = []\n",
    "        \n",
    "        target_total, target_correct = 0, 0\n",
    "        \n",
    "        # Target domain Test Split\n",
    "        target_test_itr = iter(target_test_loader)\n",
    "        for (modified_sample, sample, labels) in target_test_itr:\n",
    "            sample = Variable(sample.cuda(gpu_id))  \n",
    "            sample_feature = extractor(sample)\n",
    "\n",
    "            s1_cls = classifier_A(sample_feature)\n",
    "            s2_cls = classifier_B(sample_feature)\n",
    "            s1_cls = s1_cls.data.cpu().numpy()\n",
    "            s2_cls = s2_cls.data.cpu().numpy()\n",
    "\n",
    "            c1_pred = s1_cls.argmax(axis=1)\n",
    "            c2_pred = s2_cls.argmax(axis=1)\n",
    "            c1_val = s1_cls.max(axis=1)\n",
    "            c2_val = s2_cls.max(axis=1)\n",
    "            \n",
    "            \n",
    "            # s1_weight and s2_weight should be generated from the discriminator\n",
    "            res = s1_cls * s1_weight + s2_cls * s2_weight\n",
    "\n",
    "            pred = res.argmax(axis=1)\n",
    "            val = res.max(axis=1)\n",
    "            labels = labels.numpy()\n",
    "            \n",
    "#             print(labels.shape)\n",
    "            target_total += int(labels.shape[0])\n",
    "            target_correct += (pred == labels).sum()\n",
    "            \n",
    "            prediction.extend(pred.tolist())\n",
    "            ground_truth.extend(labels.tolist())\n",
    "            \n",
    "            c1_pred_list.extend(c1_pred.tolist())\n",
    "            c2_pred_list.extend(c2_pred.tolist())\n",
    "            c1_val_list.extend(c1_val.tolist())\n",
    "            c2_val_list.extend(c2_val.tolist())\n",
    "            final_val_list.extend(val.tolist())\n",
    "        \n",
    "#         print(\"Ground Truth: \" + int(str(ground_truth)))\n",
    "        c = [c1_pred_list, c1_val_list, c2_pred_list, c2_val_list, prediction, final_val_list, ground_truth]\n",
    "        \n",
    "        target_accuracy = float(target_correct) / target_total   \n",
    "        print(\"Total item: \"+ str(target_total) + \" Total Correct: \"+ str(target_correct))\n",
    "        \n",
    "        plt.figure(figsize=(13,10))\n",
    "        plot_cm = confusion_matrix(ground_truth, prediction)\n",
    "        plot_confusion_matrix(plot_cm, classes=activities,\n",
    "                              title='Confusion matrix-Iteration: '+str(step)+ 'Accuracy: '+str(target_accuracy), plot_save_path=plot_save_path)\n",
    "        \n",
    "        f1_micro        = f1_score(ground_truth,        prediction, average='micro')\n",
    "        precision_micro = precision_score(ground_truth, prediction, average='micro')\n",
    "        recall_micro    = recall_score(ground_truth,    prediction, average='micro')\n",
    "        \n",
    "        \n",
    "#         file1.write(person_list[source1_user-1] +\" \"+position_array[position] +\" \"+ person_list[source2_user-1] +\" \"+\\\n",
    "#                     position_array[position] +\" \"+ person_list[target_user-1] +\" \"+ position_array[position] +\" \"+\\\n",
    "#                     str(\"%.4f\"%target_accuracy) +\" \"+ str(\"%.4f\"%f1_micro) +\" \"+ str(\"%.4f\"%precision_micro) +\" \"+\\\n",
    "#                     str(\"%.4f\"%recall_micro) +\"\\n\")\n",
    "\n",
    "        for x in zip(*c):\n",
    "            file1.write(person_list[source1_user-1] +\" \"+position_array[position] +\" \"+ person_list[source2_user-1]\\\n",
    "                        +\" \"+position_array[position] +\" \"+ person_list[target_user-1] +\" \"+\\\n",
    "                        position_array[position] +\" \")\n",
    "            file1.write(\"{0} {1} {2} {3} {4} {5} {6} \".format(*x))\n",
    "            file1.write(str(s1_weight) + \" \" + str(s2_weight) + \"\\n\")\n",
    "            \n",
    "        file1.close()\n",
    "    \n",
    "         \n",
    "# new_accuracy_plot(target_user, plot_save_path, source1_running_accuracy, source2_running_accuracy, target_running_accuracy)\n",
    "# new_loss_plot(target_user, plot_save_path)"
   ]
  },
  {
   "cell_type": "code",
   "execution_count": 24,
   "metadata": {
    "ExecuteTime": {
     "end_time": "2020-07-03T18:17:46.018034Z",
     "start_time": "2020-07-03T18:17:46.013380Z"
    }
   },
   "outputs": [],
   "source": [
    "arr = [1.0, 2.0, 3.0]"
   ]
  },
  {
   "cell_type": "code",
   "execution_count": 25,
   "metadata": {
    "ExecuteTime": {
     "end_time": "2020-07-03T18:17:50.592672Z",
     "start_time": "2020-07-03T18:17:50.588047Z"
    }
   },
   "outputs": [
    {
     "data": {
      "text/plain": [
       "list"
      ]
     },
     "execution_count": 25,
     "metadata": {},
     "output_type": "execute_result"
    }
   ],
   "source": [
    "type(arr)"
   ]
  },
  {
   "cell_type": "code",
   "execution_count": 27,
   "metadata": {
    "ExecuteTime": {
     "end_time": "2020-07-03T18:18:06.801996Z",
     "start_time": "2020-07-03T18:18:06.788129Z"
    }
   },
   "outputs": [
    {
     "ename": "ValueError",
     "evalue": "invalid literal for int() with base 10: '[1.0, 2.0, 3.0]'",
     "output_type": "error",
     "traceback": [
      "\u001b[0;31m---------------------------------------------------------------------------\u001b[0m",
      "\u001b[0;31mValueError\u001b[0m                                Traceback (most recent call last)",
      "\u001b[0;32m<ipython-input-27-bfd79525e4a9>\u001b[0m in \u001b[0;36m<module>\u001b[0;34m\u001b[0m\n\u001b[0;32m----> 1\u001b[0;31m \u001b[0mint\u001b[0m\u001b[0;34m(\u001b[0m\u001b[0mstr\u001b[0m\u001b[0;34m(\u001b[0m\u001b[0marr\u001b[0m\u001b[0;34m)\u001b[0m\u001b[0;34m)\u001b[0m\u001b[0;34m\u001b[0m\u001b[0;34m\u001b[0m\u001b[0m\n\u001b[0m",
      "\u001b[0;31mValueError\u001b[0m: invalid literal for int() with base 10: '[1.0, 2.0, 3.0]'"
     ]
    }
   ],
   "source": [
    "int(str(arr))"
   ]
  },
  {
   "cell_type": "code",
   "execution_count": null,
   "metadata": {},
   "outputs": [],
   "source": []
  }
 ],
 "metadata": {
  "kernelspec": {
   "display_name": "Python 3",
   "language": "python",
   "name": "python3"
  },
  "language_info": {
   "codemirror_mode": {
    "name": "ipython",
    "version": 3
   },
   "file_extension": ".py",
   "mimetype": "text/x-python",
   "name": "python",
   "nbconvert_exporter": "python",
   "pygments_lexer": "ipython3",
   "version": "3.6.8"
  },
  "toc": {
   "base_numbering": 1,
   "nav_menu": {},
   "number_sections": true,
   "sideBar": true,
   "skip_h1_title": false,
   "title_cell": "Table of Contents",
   "title_sidebar": "Contents",
   "toc_cell": false,
   "toc_position": {},
   "toc_section_display": true,
   "toc_window_display": false
  }
 },
 "nbformat": 4,
 "nbformat_minor": 2
}
