{
 "cells": [
  {
   "cell_type": "code",
   "execution_count": 1,
   "metadata": {},
   "outputs": [],
   "source": [
    "# Dataset link: http://archive.ics.uci.edu/ml/datasets/pamap2+physical+activity+monitoring "
   ]
  },
  {
   "cell_type": "code",
   "execution_count": 1,
   "metadata": {},
   "outputs": [],
   "source": [
    "import matplotlib as plt\n",
    "import pandas as pd\n",
    "import os\n",
    "from tqdm import tqdm\n",
    "import numpy as np\n",
    "import math\n",
    "from sklearn import preprocessing\n",
    "import csv"
   ]
  },
  {
   "cell_type": "code",
   "execution_count": 2,
   "metadata": {},
   "outputs": [],
   "source": [
    "url = \"/home/avijoychakma/Downloads/PerCom 2020/Dataset/PAMAP2_Dataset/Protocol/\""
   ]
  },
  {
   "cell_type": "code",
   "execution_count": 3,
   "metadata": {},
   "outputs": [],
   "source": [
    "# url = \"/home/avijoy/Downloads/Dataset/PAMAP2_Dataset/Protocol/\""
   ]
  },
  {
   "cell_type": "markdown",
   "metadata": {},
   "source": [
    "# 1. Dataset Information\n",
    "- Missing data\n",
    "- File Format(Each row 54 column)\n",
    "        1 timestamp\n",
    "        2 Activity class\n",
    "        3 HR rate\n",
    "        4-20 IMU hand, 21-37 IMU chest, 38-54 IMU ankle \n",
    "           \n",
    "- 100 hz sampling freq\n",
    "- List of activityIDs and corresponding activities:\n",
    " 1 lying\n",
    "2 sitting\n",
    "3 standing\n",
    "4 walking\n",
    "5 running\n",
    "6 cycling\n",
    "7 Nordic walking\n",
    "9 watching TV\n",
    "10 computer work\n",
    "11 car driving\n",
    "12 ascending stairs\n",
    "13 descending stairs\n",
    "16 vacuum cleaning\n",
    "17 ironing\n",
    "18 folding laundry\n",
    "19 house cleaning\n",
    "20 playing soccer\n",
    "24 rope jumping\n",
    "0 other (transient activities)\n",
    "\n",
    "- Important activities: 1,2,3,4,5,12,13,6(For activity shifting)"
   ]
  },
  {
   "cell_type": "markdown",
   "metadata": {},
   "source": [
    "#### Extract only the IMU data for Chest, Hand, Ankle for User1\n",
    "    - For Each IMU data:    \n",
    "        - 1 temp, \n",
    "        - 2-4: 3D acceleration, [Recommended]\n",
    "        - 5-7: 3D acceleration, \n",
    "        - 8-10: 3D gyroscope, \n",
    "        - 11-13: 3D magnetometer, \n",
    "        - 14-17: orientation(invalid)"
   ]
  },
  {
   "cell_type": "markdown",
   "metadata": {},
   "source": [
    "#### Column 1 Represents the Activity Class\n",
    "    - Considered classes:Sitting, Standing, Lying, Walking, Running, Stair Up, Stair Down\n",
    "    - For any user, working_df contains all the activity data\n",
    "        - Indexing is important for temporal relation"
   ]
  },
  {
   "cell_type": "markdown",
   "metadata": {},
   "source": [
    "#### Body Position:\n",
    "    - 0: Torso\n",
    "    - 1: Dominant Arm\n",
    "    - 3: Dominant Leg"
   ]
  },
  {
   "cell_type": "code",
   "execution_count": 4,
   "metadata": {},
   "outputs": [],
   "source": [
    "### Activities: - 1 lying - 2 sitting - 3 standing - 4 walking - 5 running - 12 ascending - 13 descending"
   ]
  },
  {
   "cell_type": "code",
   "execution_count": 5,
   "metadata": {},
   "outputs": [],
   "source": [
    "#### Activities to Label \n",
    "####- Sitting = 0 - Standing = 1 - Lying = 2 - Walking = 3 - Running = 4 - Ascending stairs = 5 - Descending stairs = 6"
   ]
  },
  {
   "cell_type": "markdown",
   "metadata": {},
   "source": [
    "### Activity Mapping\n",
    "- 1 Lying = 2\n",
    "- 2 Sitting = 0\n",
    "- 3 Standing = 1\n",
    "- 4 Walking = 3\n",
    "- 5 Running = 4\n",
    "- 6 Ascending = 5\n",
    "- 7 Descending = 6"
   ]
  },
  {
   "cell_type": "code",
   "execution_count": 6,
   "metadata": {},
   "outputs": [],
   "source": [
    "hand = [1,4,5,6]\n",
    "chest = [1,21,22,23]\n",
    "ankle = [1,38,39,40]\n",
    "column_name = ['Activity','AccX','AccY','AccZ','Person','Body_Position']\n",
    "rearranged_column_name = ['AccX','AccY','AccZ','Person','Body_Position','Activity']\n",
    "activity = [1,2,3,4,5,12,13]"
   ]
  },
  {
   "cell_type": "code",
   "execution_count": 7,
   "metadata": {},
   "outputs": [],
   "source": [
    "user = {}"
   ]
  },
  {
   "cell_type": "markdown",
   "metadata": {},
   "source": [
    "###### Each user data for three different position is stored in \"user\" collection such that \n",
    "    - User1 contains data for user 1 at index 10,11,12\n",
    "    - User2 contains data for user 2 at index 20,21,22\n",
    "    .\n",
    "    .\n",
    "    \n",
    "    - User8 contains data for user 8 at index 80,81,82"
   ]
  },
  {
   "cell_type": "code",
   "execution_count": 8,
   "metadata": {},
   "outputs": [],
   "source": [
    "for person_index in range(1,9):\n",
    "\n",
    "    df = pd.read_csv(url+\"subject10\"+str(person_index)+\".dat\",sep=\"\\s+\", header=None)\n",
    "    \n",
    "    # Consider only the relevant activities. Column 1 indicates the activity\n",
    "    working_df = df[(df[1] == 1) | (df[1] == 2) | (df[1] == 3) | (df[1] == 4) | (df[1] == 5) | (df[1] == 12) | (df[1] == 13)]\n",
    "    \n",
    "    # Initialization\n",
    "    idx = 0\n",
    "    \n",
    "    # For three positions\n",
    "    for index in range(1,4):\n",
    "        if index == 1:\n",
    "            \n",
    "            # Calculate index\n",
    "            idx = person_index*10\n",
    "            user[idx] = working_df[hand].copy()\n",
    "            user[idx].loc[:, 'Person'] = person_index\n",
    "            user[idx].loc[:, 'Body_Position'] = \"Dominant_Arm\"\n",
    "            \n",
    "        elif index == 2:\n",
    "            idx = person_index*10 + 1\n",
    "            user[idx] = working_df[chest].copy()\n",
    "            user[idx].loc[:, 'Person'] = person_index\n",
    "            user[idx].loc[:, 'Body_Position'] = \"Torso\"\n",
    "            \n",
    "        elif index == 3:\n",
    "            idx = person_index*10 + 2\n",
    "            user[idx] = working_df[ankle].copy()\n",
    "            user[idx].loc[:, 'Person'] = person_index\n",
    "            user[idx].loc[:, 'Body_Position'] = \"Dominant_Leg\"\n",
    "\n",
    "        # Assigning the column name\n",
    "        user[idx].columns = column_name\n",
    "\n",
    "        # Rearranging the column to place the ground truth activity column at the end\n",
    "        user[idx] = user[idx].reindex(rearranged_column_name, axis=1)\n",
    "\n",
    "        user[idx].reset_index(drop=True, inplace=True)\n",
    "        # Remove the NaN entries\n",
    "        user[idx].dropna(inplace = True)"
   ]
  },
  {
   "cell_type": "code",
   "execution_count": 9,
   "metadata": {},
   "outputs": [
    {
     "data": {
      "text/html": [
       "<div>\n",
       "<style scoped>\n",
       "    .dataframe tbody tr th:only-of-type {\n",
       "        vertical-align: middle;\n",
       "    }\n",
       "\n",
       "    .dataframe tbody tr th {\n",
       "        vertical-align: top;\n",
       "    }\n",
       "\n",
       "    .dataframe thead th {\n",
       "        text-align: right;\n",
       "    }\n",
       "</style>\n",
       "<table border=\"1\" class=\"dataframe\">\n",
       "  <thead>\n",
       "    <tr style=\"text-align: right;\">\n",
       "      <th></th>\n",
       "      <th>AccX</th>\n",
       "      <th>AccY</th>\n",
       "      <th>AccZ</th>\n",
       "      <th>Person</th>\n",
       "      <th>Body_Position</th>\n",
       "      <th>Activity</th>\n",
       "    </tr>\n",
       "  </thead>\n",
       "  <tbody>\n",
       "    <tr>\n",
       "      <th>0</th>\n",
       "      <td>2.21530</td>\n",
       "      <td>8.27915</td>\n",
       "      <td>5.58753</td>\n",
       "      <td>1</td>\n",
       "      <td>Dominant_Arm</td>\n",
       "      <td>1</td>\n",
       "    </tr>\n",
       "    <tr>\n",
       "      <th>1</th>\n",
       "      <td>2.29196</td>\n",
       "      <td>7.67288</td>\n",
       "      <td>5.74467</td>\n",
       "      <td>1</td>\n",
       "      <td>Dominant_Arm</td>\n",
       "      <td>1</td>\n",
       "    </tr>\n",
       "    <tr>\n",
       "      <th>2</th>\n",
       "      <td>2.29090</td>\n",
       "      <td>7.14240</td>\n",
       "      <td>5.82342</td>\n",
       "      <td>1</td>\n",
       "      <td>Dominant_Arm</td>\n",
       "      <td>1</td>\n",
       "    </tr>\n",
       "    <tr>\n",
       "      <th>3</th>\n",
       "      <td>2.21800</td>\n",
       "      <td>7.14365</td>\n",
       "      <td>5.89930</td>\n",
       "      <td>1</td>\n",
       "      <td>Dominant_Arm</td>\n",
       "      <td>1</td>\n",
       "    </tr>\n",
       "    <tr>\n",
       "      <th>4</th>\n",
       "      <td>2.30106</td>\n",
       "      <td>7.25857</td>\n",
       "      <td>6.09259</td>\n",
       "      <td>1</td>\n",
       "      <td>Dominant_Arm</td>\n",
       "      <td>1</td>\n",
       "    </tr>\n",
       "  </tbody>\n",
       "</table>\n",
       "</div>"
      ],
      "text/plain": [
       "      AccX     AccY     AccZ  Person Body_Position  Activity\n",
       "0  2.21530  8.27915  5.58753       1  Dominant_Arm         1\n",
       "1  2.29196  7.67288  5.74467       1  Dominant_Arm         1\n",
       "2  2.29090  7.14240  5.82342       1  Dominant_Arm         1\n",
       "3  2.21800  7.14365  5.89930       1  Dominant_Arm         1\n",
       "4  2.30106  7.25857  6.09259       1  Dominant_Arm         1"
      ]
     },
     "execution_count": 9,
     "metadata": {},
     "output_type": "execute_result"
    }
   ],
   "source": [
    "user[10].head()"
   ]
  },
  {
   "cell_type": "code",
   "execution_count": 10,
   "metadata": {},
   "outputs": [
    {
     "data": {
      "text/plain": [
       "array([ 1,  2,  3,  4,  5, 12, 13])"
      ]
     },
     "execution_count": 10,
     "metadata": {},
     "output_type": "execute_result"
    }
   ],
   "source": [
    "np.unique(user[10]['Activity'])"
   ]
  },
  {
   "cell_type": "markdown",
   "metadata": {},
   "source": [
    "#### User 9 activities - Computer work, folding laundry, houe cleaning, playing soccer, rope jumping"
   ]
  },
  {
   "cell_type": "markdown",
   "metadata": {},
   "source": [
    "#### \"user\" collection contains 24 dataframes. Each dataframes contains a position specific data of 6 different activities.\n",
    "    - Calculate magnitude\n",
    "    - Decision: Direct windowing/split each dataframe in different activity dataframe then apply windowing"
   ]
  },
  {
   "cell_type": "markdown",
   "metadata": {},
   "source": [
    "# 2. Function Magnitude"
   ]
  },
  {
   "cell_type": "code",
   "execution_count": 11,
   "metadata": {},
   "outputs": [],
   "source": [
    "# def magnitude(df):\n",
    "#     ax2 = df['AccX']**2\n",
    "#     ay2 = df['AccY']**2\n",
    "#     az2 = df['AccZ']**2\n",
    "#     am2 = ax2 + ay2 + az2\n",
    "    \n",
    "#     gx2 = df['GyrX']**2\n",
    "#     gy2 = df['GyrY']**2\n",
    "#     gz2 = df['GyrZ']**2\n",
    "#     gm2 = gx2 + gy2 + gz2\n",
    "    \n",
    "#     mx2 = df['MagX']**2\n",
    "#     my2 = df['MagY']**2\n",
    "#     mz2 = df['MagZ']**2\n",
    "#     mm2 = mx2 + my2 + mz2\n",
    "    \n",
    "#     df['Am']=am2.apply(lambda x: math.sqrt(x))\n",
    "#     df['Gm']=gm2.apply(lambda x: math.sqrt(x))\n",
    "#     df['Mm']=mm2.apply(lambda x: math.sqrt(x))"
   ]
  },
  {
   "cell_type": "markdown",
   "metadata": {},
   "source": [
    "#### Calculate Magnitude"
   ]
  },
  {
   "cell_type": "code",
   "execution_count": 12,
   "metadata": {},
   "outputs": [],
   "source": [
    "# for person_index in range(1,9):\n",
    "#     idx = 0\n",
    "#     for index in range(1,4):\n",
    "#         if index == 1:\n",
    "#             idx = person_index*10\n",
    "#         elif index == 2:\n",
    "#             idx = person_index*10 + 1\n",
    "#         elif index == 3:\n",
    "#             idx = person_index*10 + 2\n",
    "\n",
    "#         # Calculate magnitude\n",
    "#         magnitude(user[idx])"
   ]
  },
  {
   "cell_type": "markdown",
   "metadata": {},
   "source": [
    "# 3. Combine Files for Normalization and Standardization"
   ]
  },
  {
   "cell_type": "code",
   "execution_count": 13,
   "metadata": {},
   "outputs": [],
   "source": [
    "save_path = \"/home/avijoychakma/Downloads/DTCN-AR/Dataset Preprocessing/PAMAP/ACC-Total-Normalization/\""
   ]
  },
  {
   "cell_type": "code",
   "execution_count": 27,
   "metadata": {},
   "outputs": [],
   "source": [
    "total_frame = pd.concat([user[10],user[11],user[12],user[20],user[21],user[22],user[30],user[31],user[32],user[40],user[41],user[42],user[50],user[51],user[52],user[60],user[61],user[62],user[70],user[71],user[72],user[80],user[81],user[82]], ignore_index=True)\n",
    "total_frame.reset_index(drop=True, inplace=True)"
   ]
  },
  {
   "cell_type": "markdown",
   "metadata": {},
   "source": [
    "#### Global labelling"
   ]
  },
  {
   "cell_type": "code",
   "execution_count": 28,
   "metadata": {},
   "outputs": [],
   "source": [
    "# - Sitting = 0\n",
    "# - Standing = 1\n",
    "# - Lying = 2\n",
    "# - Walking = 3\n",
    "# - Running = 4\n",
    "# - Ascending stairs = 5\n",
    "# - Descending stairs = 6"
   ]
  },
  {
   "cell_type": "markdown",
   "metadata": {},
   "source": [
    "#### PAMAP Labelling"
   ]
  },
  {
   "cell_type": "code",
   "execution_count": 29,
   "metadata": {},
   "outputs": [],
   "source": [
    "# - 1 Lying = 2\n",
    "# - 2 Sitting = 0\n",
    "# - 3 Standing = 1\n",
    "# - 4 Walking = 3\n",
    "# - 5 Running = 4\n",
    "# - 12 Ascending = 5\n",
    "# - 13 Descending = 6"
   ]
  },
  {
   "cell_type": "code",
   "execution_count": 30,
   "metadata": {},
   "outputs": [],
   "source": [
    "# ValueError: Replacement not allowed with overlapping keys and values\n",
    "# Convert the labels to some arbitrary label and then map that arbitrary label to global mapping"
   ]
  },
  {
   "cell_type": "code",
   "execution_count": 31,
   "metadata": {},
   "outputs": [
    {
     "data": {
      "text/plain": [
       "array([ 1,  2,  3,  4,  5, 12, 13])"
      ]
     },
     "execution_count": 31,
     "metadata": {},
     "output_type": "execute_result"
    }
   ],
   "source": [
    "np.unique(total_frame['Activity'])"
   ]
  },
  {
   "cell_type": "code",
   "execution_count": 32,
   "metadata": {},
   "outputs": [],
   "source": [
    "# total_frame = total_frame.replace({'Activity' : { 1:2, 2:0, 3:1, 4:3, 5:4, 12:5, 13:6 }}, inplace = True)\n",
    "total_frame.replace({'Activity' : { 1:100, 2:200, 3:300, 4:400, 5:500, 12:1200, 13:1300}}, inplace = True)"
   ]
  },
  {
   "cell_type": "code",
   "execution_count": 33,
   "metadata": {},
   "outputs": [
    {
     "data": {
      "text/html": [
       "<div>\n",
       "<style scoped>\n",
       "    .dataframe tbody tr th:only-of-type {\n",
       "        vertical-align: middle;\n",
       "    }\n",
       "\n",
       "    .dataframe tbody tr th {\n",
       "        vertical-align: top;\n",
       "    }\n",
       "\n",
       "    .dataframe thead th {\n",
       "        text-align: right;\n",
       "    }\n",
       "</style>\n",
       "<table border=\"1\" class=\"dataframe\">\n",
       "  <thead>\n",
       "    <tr style=\"text-align: right;\">\n",
       "      <th></th>\n",
       "      <th>AccX</th>\n",
       "      <th>AccY</th>\n",
       "      <th>AccZ</th>\n",
       "      <th>Person</th>\n",
       "      <th>Body_Position</th>\n",
       "      <th>Activity</th>\n",
       "    </tr>\n",
       "  </thead>\n",
       "  <tbody>\n",
       "    <tr>\n",
       "      <th>0</th>\n",
       "      <td>2.21530</td>\n",
       "      <td>8.27915</td>\n",
       "      <td>5.58753</td>\n",
       "      <td>1</td>\n",
       "      <td>Dominant_Arm</td>\n",
       "      <td>100</td>\n",
       "    </tr>\n",
       "    <tr>\n",
       "      <th>1</th>\n",
       "      <td>2.29196</td>\n",
       "      <td>7.67288</td>\n",
       "      <td>5.74467</td>\n",
       "      <td>1</td>\n",
       "      <td>Dominant_Arm</td>\n",
       "      <td>100</td>\n",
       "    </tr>\n",
       "    <tr>\n",
       "      <th>2</th>\n",
       "      <td>2.29090</td>\n",
       "      <td>7.14240</td>\n",
       "      <td>5.82342</td>\n",
       "      <td>1</td>\n",
       "      <td>Dominant_Arm</td>\n",
       "      <td>100</td>\n",
       "    </tr>\n",
       "    <tr>\n",
       "      <th>3</th>\n",
       "      <td>2.21800</td>\n",
       "      <td>7.14365</td>\n",
       "      <td>5.89930</td>\n",
       "      <td>1</td>\n",
       "      <td>Dominant_Arm</td>\n",
       "      <td>100</td>\n",
       "    </tr>\n",
       "    <tr>\n",
       "      <th>4</th>\n",
       "      <td>2.30106</td>\n",
       "      <td>7.25857</td>\n",
       "      <td>6.09259</td>\n",
       "      <td>1</td>\n",
       "      <td>Dominant_Arm</td>\n",
       "      <td>100</td>\n",
       "    </tr>\n",
       "  </tbody>\n",
       "</table>\n",
       "</div>"
      ],
      "text/plain": [
       "      AccX     AccY     AccZ  Person Body_Position  Activity\n",
       "0  2.21530  8.27915  5.58753       1  Dominant_Arm       100\n",
       "1  2.29196  7.67288  5.74467       1  Dominant_Arm       100\n",
       "2  2.29090  7.14240  5.82342       1  Dominant_Arm       100\n",
       "3  2.21800  7.14365  5.89930       1  Dominant_Arm       100\n",
       "4  2.30106  7.25857  6.09259       1  Dominant_Arm       100"
      ]
     },
     "execution_count": 33,
     "metadata": {},
     "output_type": "execute_result"
    }
   ],
   "source": [
    "total_frame.head()"
   ]
  },
  {
   "cell_type": "code",
   "execution_count": 34,
   "metadata": {},
   "outputs": [
    {
     "data": {
      "text/plain": [
       "array([ 12,  13, 100, 200, 300, 400, 500])"
      ]
     },
     "execution_count": 34,
     "metadata": {},
     "output_type": "execute_result"
    }
   ],
   "source": [
    "np.unique(total_frame['Activity'])"
   ]
  },
  {
   "cell_type": "code",
   "execution_count": 22,
   "metadata": {},
   "outputs": [
    {
     "ename": "AttributeError",
     "evalue": "'NoneType' object has no attribute 'replace'",
     "output_type": "error",
     "traceback": [
      "\u001b[0;31m---------------------------------------------------------------------------\u001b[0m",
      "\u001b[0;31mAttributeError\u001b[0m                            Traceback (most recent call last)",
      "\u001b[0;32m<ipython-input-22-141cc01ab0f5>\u001b[0m in \u001b[0;36m<module>\u001b[0;34m\u001b[0m\n\u001b[0;32m----> 1\u001b[0;31m \u001b[0mtotal_frame\u001b[0m \u001b[0;34m=\u001b[0m \u001b[0mtotal_frame\u001b[0m\u001b[0;34m.\u001b[0m\u001b[0mreplace\u001b[0m\u001b[0;34m(\u001b[0m\u001b[0;34m{\u001b[0m\u001b[0;34m'Activity'\u001b[0m \u001b[0;34m:\u001b[0m \u001b[0;34m{\u001b[0m \u001b[0;36m100\u001b[0m\u001b[0;34m:\u001b[0m\u001b[0;36m2\u001b[0m\u001b[0;34m,\u001b[0m \u001b[0;36m200\u001b[0m\u001b[0;34m:\u001b[0m\u001b[0;36m0\u001b[0m\u001b[0;34m,\u001b[0m \u001b[0;36m300\u001b[0m\u001b[0;34m:\u001b[0m\u001b[0;36m1\u001b[0m\u001b[0;34m,\u001b[0m \u001b[0;36m400\u001b[0m\u001b[0;34m:\u001b[0m\u001b[0;36m3\u001b[0m\u001b[0;34m,\u001b[0m \u001b[0;36m500\u001b[0m\u001b[0;34m:\u001b[0m\u001b[0;36m4\u001b[0m\u001b[0;34m,\u001b[0m \u001b[0;36m600\u001b[0m\u001b[0;34m:\u001b[0m\u001b[0;36m5\u001b[0m\u001b[0;34m,\u001b[0m \u001b[0;36m700\u001b[0m\u001b[0;34m:\u001b[0m\u001b[0;36m6\u001b[0m\u001b[0;34m}\u001b[0m\u001b[0;34m}\u001b[0m\u001b[0;34m,\u001b[0m \u001b[0minplace\u001b[0m \u001b[0;34m=\u001b[0m \u001b[0;32mTrue\u001b[0m\u001b[0;34m)\u001b[0m\u001b[0;34m\u001b[0m\u001b[0;34m\u001b[0m\u001b[0m\n\u001b[0m",
      "\u001b[0;31mAttributeError\u001b[0m: 'NoneType' object has no attribute 'replace'"
     ]
    }
   ],
   "source": [
    "total_frame.replace({'Activity' : { 100:2, 200:0, 300:1, 400:3, 500:4, 1200:5, 1300:6}}, inplace = True)"
   ]
  },
  {
   "cell_type": "code",
   "execution_count": null,
   "metadata": {},
   "outputs": [],
   "source": [
    "np.unique(total_frame['Activity'])"
   ]
  },
  {
   "cell_type": "code",
   "execution_count": 16,
   "metadata": {},
   "outputs": [
    {
     "data": {
      "text/plain": [
       "(3366362, 12)"
      ]
     },
     "execution_count": 16,
     "metadata": {},
     "output_type": "execute_result"
    }
   ],
   "source": [
    "total_frame.shape"
   ]
  },
  {
   "cell_type": "code",
   "execution_count": 17,
   "metadata": {},
   "outputs": [
    {
     "data": {
      "text/html": [
       "<div>\n",
       "<style scoped>\n",
       "    .dataframe tbody tr th:only-of-type {\n",
       "        vertical-align: middle;\n",
       "    }\n",
       "\n",
       "    .dataframe tbody tr th {\n",
       "        vertical-align: top;\n",
       "    }\n",
       "\n",
       "    .dataframe thead th {\n",
       "        text-align: right;\n",
       "    }\n",
       "</style>\n",
       "<table border=\"1\" class=\"dataframe\">\n",
       "  <thead>\n",
       "    <tr style=\"text-align: right;\">\n",
       "      <th></th>\n",
       "      <th>AccX</th>\n",
       "      <th>AccY</th>\n",
       "      <th>AccZ</th>\n",
       "      <th>GyrX</th>\n",
       "      <th>GyrY</th>\n",
       "      <th>GyrZ</th>\n",
       "      <th>MagX</th>\n",
       "      <th>MagY</th>\n",
       "      <th>MagZ</th>\n",
       "      <th>Person</th>\n",
       "      <th>Body_Position</th>\n",
       "      <th>Activity</th>\n",
       "    </tr>\n",
       "  </thead>\n",
       "  <tbody>\n",
       "    <tr>\n",
       "      <th>0</th>\n",
       "      <td>2.21530</td>\n",
       "      <td>8.27915</td>\n",
       "      <td>5.58753</td>\n",
       "      <td>-0.004750</td>\n",
       "      <td>0.037579</td>\n",
       "      <td>-0.011145</td>\n",
       "      <td>8.93200</td>\n",
       "      <td>-67.9326</td>\n",
       "      <td>-19.9755</td>\n",
       "      <td>1</td>\n",
       "      <td>Dominant_Arm</td>\n",
       "      <td>1</td>\n",
       "    </tr>\n",
       "    <tr>\n",
       "      <th>1</th>\n",
       "      <td>2.29196</td>\n",
       "      <td>7.67288</td>\n",
       "      <td>5.74467</td>\n",
       "      <td>-0.171710</td>\n",
       "      <td>0.025479</td>\n",
       "      <td>-0.009538</td>\n",
       "      <td>9.58300</td>\n",
       "      <td>-67.9584</td>\n",
       "      <td>-20.9091</td>\n",
       "      <td>1</td>\n",
       "      <td>Dominant_Arm</td>\n",
       "      <td>1</td>\n",
       "    </tr>\n",
       "    <tr>\n",
       "      <th>2</th>\n",
       "      <td>2.29090</td>\n",
       "      <td>7.14240</td>\n",
       "      <td>5.82342</td>\n",
       "      <td>-0.238241</td>\n",
       "      <td>0.011214</td>\n",
       "      <td>0.000831</td>\n",
       "      <td>9.05516</td>\n",
       "      <td>-67.4017</td>\n",
       "      <td>-19.5083</td>\n",
       "      <td>1</td>\n",
       "      <td>Dominant_Arm</td>\n",
       "      <td>1</td>\n",
       "    </tr>\n",
       "    <tr>\n",
       "      <th>3</th>\n",
       "      <td>2.21800</td>\n",
       "      <td>7.14365</td>\n",
       "      <td>5.89930</td>\n",
       "      <td>-0.192912</td>\n",
       "      <td>0.019053</td>\n",
       "      <td>0.013374</td>\n",
       "      <td>9.92698</td>\n",
       "      <td>-67.4387</td>\n",
       "      <td>-20.5602</td>\n",
       "      <td>1</td>\n",
       "      <td>Dominant_Arm</td>\n",
       "      <td>1</td>\n",
       "    </tr>\n",
       "    <tr>\n",
       "      <th>4</th>\n",
       "      <td>2.30106</td>\n",
       "      <td>7.25857</td>\n",
       "      <td>6.09259</td>\n",
       "      <td>-0.069961</td>\n",
       "      <td>-0.018328</td>\n",
       "      <td>0.004582</td>\n",
       "      <td>9.15626</td>\n",
       "      <td>-67.1825</td>\n",
       "      <td>-20.0857</td>\n",
       "      <td>1</td>\n",
       "      <td>Dominant_Arm</td>\n",
       "      <td>1</td>\n",
       "    </tr>\n",
       "  </tbody>\n",
       "</table>\n",
       "</div>"
      ],
      "text/plain": [
       "      AccX     AccY     AccZ      GyrX      GyrY      GyrZ     MagX     MagY  \\\n",
       "0  2.21530  8.27915  5.58753 -0.004750  0.037579 -0.011145  8.93200 -67.9326   \n",
       "1  2.29196  7.67288  5.74467 -0.171710  0.025479 -0.009538  9.58300 -67.9584   \n",
       "2  2.29090  7.14240  5.82342 -0.238241  0.011214  0.000831  9.05516 -67.4017   \n",
       "3  2.21800  7.14365  5.89930 -0.192912  0.019053  0.013374  9.92698 -67.4387   \n",
       "4  2.30106  7.25857  6.09259 -0.069961 -0.018328  0.004582  9.15626 -67.1825   \n",
       "\n",
       "      MagZ  Person Body_Position  Activity  \n",
       "0 -19.9755       1  Dominant_Arm         1  \n",
       "1 -20.9091       1  Dominant_Arm         1  \n",
       "2 -19.5083       1  Dominant_Arm         1  \n",
       "3 -20.5602       1  Dominant_Arm         1  \n",
       "4 -20.0857       1  Dominant_Arm         1  "
      ]
     },
     "execution_count": 17,
     "metadata": {},
     "output_type": "execute_result"
    }
   ],
   "source": [
    "total_frame.head()"
   ]
  },
  {
   "cell_type": "markdown",
   "metadata": {},
   "source": [
    "#### Save GT"
   ]
  },
  {
   "cell_type": "code",
   "execution_count": 18,
   "metadata": {},
   "outputs": [],
   "source": [
    "person_gt = np.array(total_frame['Person'])\n",
    "activity_gt = np.array(total_frame['Activity'])\n",
    "position_gt = np.array(total_frame['Body_Position'])"
   ]
  },
  {
   "cell_type": "code",
   "execution_count": 19,
   "metadata": {},
   "outputs": [],
   "source": [
    "total_frame.drop(['Person','Activity','Body_Position'], axis=1, inplace=True)\n",
    "column_name = total_frame.columns"
   ]
  },
  {
   "cell_type": "code",
   "execution_count": 21,
   "metadata": {},
   "outputs": [],
   "source": [
    "scaler = preprocessing.StandardScaler()\n",
    "df_standardized = scaler.fit_transform(total_frame)\n",
    "df_standardized = pd.DataFrame(df_standardized)"
   ]
  },
  {
   "cell_type": "code",
   "execution_count": 20,
   "metadata": {},
   "outputs": [],
   "source": [
    "min_max_scaler = preprocessing.MinMaxScaler()\n",
    "np_scaled = min_max_scaler.fit_transform(df_standardized)\n",
    "total_dataframe = pd.DataFrame(np_scaled, columns=column_name)"
   ]
  },
  {
   "cell_type": "code",
   "execution_count": 22,
   "metadata": {},
   "outputs": [],
   "source": [
    "total_dataframe[\"Person\"] = person_gt\n",
    "total_dataframe[\"Activity\"] = activity_gt\n",
    "total_dataframe[\"Body_Position\"] = position_gt"
   ]
  },
  {
   "cell_type": "code",
   "execution_count": 23,
   "metadata": {},
   "outputs": [
    {
     "data": {
      "text/html": [
       "<div>\n",
       "<style scoped>\n",
       "    .dataframe tbody tr th:only-of-type {\n",
       "        vertical-align: middle;\n",
       "    }\n",
       "\n",
       "    .dataframe tbody tr th {\n",
       "        vertical-align: top;\n",
       "    }\n",
       "\n",
       "    .dataframe thead th {\n",
       "        text-align: right;\n",
       "    }\n",
       "</style>\n",
       "<table border=\"1\" class=\"dataframe\">\n",
       "  <thead>\n",
       "    <tr style=\"text-align: right;\">\n",
       "      <th></th>\n",
       "      <th>AccX</th>\n",
       "      <th>AccY</th>\n",
       "      <th>AccZ</th>\n",
       "      <th>GyrX</th>\n",
       "      <th>GyrY</th>\n",
       "      <th>GyrZ</th>\n",
       "      <th>MagX</th>\n",
       "      <th>MagY</th>\n",
       "      <th>MagZ</th>\n",
       "      <th>Person</th>\n",
       "      <th>Activity</th>\n",
       "      <th>Body_Position</th>\n",
       "    </tr>\n",
       "  </thead>\n",
       "  <tbody>\n",
       "    <tr>\n",
       "      <th>0</th>\n",
       "      <td>0.087163</td>\n",
       "      <td>0.594070</td>\n",
       "      <td>1.075536</td>\n",
       "      <td>-0.006267</td>\n",
       "      <td>0.047094</td>\n",
       "      <td>-0.001270</td>\n",
       "      <td>0.304926</td>\n",
       "      <td>-2.219446</td>\n",
       "      <td>-0.693121</td>\n",
       "      <td>1</td>\n",
       "      <td>1</td>\n",
       "      <td>Dominant_Arm</td>\n",
       "    </tr>\n",
       "    <tr>\n",
       "      <th>1</th>\n",
       "      <td>0.096402</td>\n",
       "      <td>0.516580</td>\n",
       "      <td>1.107448</td>\n",
       "      <td>-0.165422</td>\n",
       "      <td>0.031717</td>\n",
       "      <td>-0.000267</td>\n",
       "      <td>0.326715</td>\n",
       "      <td>-2.220479</td>\n",
       "      <td>-0.730407</td>\n",
       "      <td>1</td>\n",
       "      <td>1</td>\n",
       "      <td>Dominant_Arm</td>\n",
       "    </tr>\n",
       "    <tr>\n",
       "      <th>2</th>\n",
       "      <td>0.096275</td>\n",
       "      <td>0.448777</td>\n",
       "      <td>1.123440</td>\n",
       "      <td>-0.228844</td>\n",
       "      <td>0.013589</td>\n",
       "      <td>0.006209</td>\n",
       "      <td>0.309048</td>\n",
       "      <td>-2.198191</td>\n",
       "      <td>-0.674462</td>\n",
       "      <td>1</td>\n",
       "      <td>1</td>\n",
       "      <td>Dominant_Arm</td>\n",
       "    </tr>\n",
       "    <tr>\n",
       "      <th>3</th>\n",
       "      <td>0.087489</td>\n",
       "      <td>0.448937</td>\n",
       "      <td>1.138849</td>\n",
       "      <td>-0.185633</td>\n",
       "      <td>0.023552</td>\n",
       "      <td>0.014042</td>\n",
       "      <td>0.338228</td>\n",
       "      <td>-2.199672</td>\n",
       "      <td>-0.716473</td>\n",
       "      <td>1</td>\n",
       "      <td>1</td>\n",
       "      <td>Dominant_Arm</td>\n",
       "    </tr>\n",
       "    <tr>\n",
       "      <th>4</th>\n",
       "      <td>0.097499</td>\n",
       "      <td>0.463626</td>\n",
       "      <td>1.178101</td>\n",
       "      <td>-0.068430</td>\n",
       "      <td>-0.023951</td>\n",
       "      <td>0.008551</td>\n",
       "      <td>0.312432</td>\n",
       "      <td>-2.189415</td>\n",
       "      <td>-0.697522</td>\n",
       "      <td>1</td>\n",
       "      <td>1</td>\n",
       "      <td>Dominant_Arm</td>\n",
       "    </tr>\n",
       "  </tbody>\n",
       "</table>\n",
       "</div>"
      ],
      "text/plain": [
       "       AccX      AccY      AccZ      GyrX      GyrY      GyrZ      MagX  \\\n",
       "0  0.087163  0.594070  1.075536 -0.006267  0.047094 -0.001270  0.304926   \n",
       "1  0.096402  0.516580  1.107448 -0.165422  0.031717 -0.000267  0.326715   \n",
       "2  0.096275  0.448777  1.123440 -0.228844  0.013589  0.006209  0.309048   \n",
       "3  0.087489  0.448937  1.138849 -0.185633  0.023552  0.014042  0.338228   \n",
       "4  0.097499  0.463626  1.178101 -0.068430 -0.023951  0.008551  0.312432   \n",
       "\n",
       "       MagY      MagZ  Person  Activity Body_Position  \n",
       "0 -2.219446 -0.693121       1         1  Dominant_Arm  \n",
       "1 -2.220479 -0.730407       1         1  Dominant_Arm  \n",
       "2 -2.198191 -0.674462       1         1  Dominant_Arm  \n",
       "3 -2.199672 -0.716473       1         1  Dominant_Arm  \n",
       "4 -2.189415 -0.697522       1         1  Dominant_Arm  "
      ]
     },
     "execution_count": 23,
     "metadata": {},
     "output_type": "execute_result"
    }
   ],
   "source": [
    "total_dataframe.head()"
   ]
  },
  {
   "cell_type": "code",
   "execution_count": 24,
   "metadata": {},
   "outputs": [
    {
     "data": {
      "text/plain": [
       "array(['Dominant_Arm', 'Torso', 'Dominant_Leg'], dtype=object)"
      ]
     },
     "execution_count": 24,
     "metadata": {},
     "output_type": "execute_result"
    }
   ],
   "source": [
    "total_dataframe[\"Body_Position\"].unique()"
   ]
  },
  {
   "cell_type": "markdown",
   "metadata": {},
   "source": [
    "#### Extract and Save Position-based each User data Files"
   ]
  },
  {
   "cell_type": "markdown",
   "metadata": {},
   "source": [
    "##### User 1"
   ]
  },
  {
   "cell_type": "code",
   "execution_count": 27,
   "metadata": {},
   "outputs": [],
   "source": [
    "User1_Dominant_Arm = total_dataframe[(total_dataframe[\"Person\"] == 1) & (total_dataframe[\"Body_Position\"] == \"Dominant_Arm\")]\n",
    "User1_Dominant_Arm.reset_index(drop=True, inplace=True)\n",
    "User1_Dominant_Arm.to_csv (save_path+'User1_Dominant_Arm.csv', index = None, header=True)\n",
    "\n",
    "User1_Torso = total_dataframe[(total_dataframe[\"Person\"] == 1) & (total_dataframe[\"Body_Position\"] == \"Torso\")]\n",
    "User1_Torso.reset_index(drop=True, inplace=True)\n",
    "User1_Torso.to_csv (save_path+'User1_Torso.csv', index = None, header=True)\n",
    "\n",
    "User1_Dominant_Leg = total_dataframe[(total_dataframe[\"Person\"] == 1) & (total_dataframe[\"Body_Position\"] == \"Dominant_Leg\")]\n",
    "User1_Dominant_Leg.reset_index(drop=True, inplace=True)\n",
    "User1_Dominant_Leg.to_csv (save_path+'User1_Dominant_Leg.csv', index = None, header=True)"
   ]
  },
  {
   "cell_type": "markdown",
   "metadata": {},
   "source": [
    "##### User 2"
   ]
  },
  {
   "cell_type": "code",
   "execution_count": 28,
   "metadata": {},
   "outputs": [],
   "source": [
    "User2_Dominant_Arm = total_dataframe[(total_dataframe[\"Person\"] == 2) & (total_dataframe[\"Body_Position\"] == \"Dominant_Arm\")]\n",
    "User2_Dominant_Arm.reset_index(drop=True, inplace=True)\n",
    "User2_Dominant_Arm.to_csv (save_path+'User2_Dominant_Arm.csv', index = None, header=True)\n",
    "\n",
    "User2_Torso = total_dataframe[(total_dataframe[\"Person\"] == 2) & (total_dataframe[\"Body_Position\"] == \"Torso\")]\n",
    "User2_Torso.reset_index(drop=True, inplace=True)\n",
    "User2_Torso.to_csv (save_path+'User2_Torso.csv', index = None, header=True)\n",
    "\n",
    "User2_Dominant_Leg = total_dataframe[(total_dataframe[\"Person\"] == 2) & (total_dataframe[\"Body_Position\"] == \"Dominant_Leg\")]\n",
    "User2_Dominant_Leg.reset_index(drop=True, inplace=True)\n",
    "User2_Dominant_Leg.to_csv (save_path+'User2_Dominant_Leg.csv', index = None, header=True)"
   ]
  },
  {
   "cell_type": "markdown",
   "metadata": {},
   "source": [
    "##### User 3"
   ]
  },
  {
   "cell_type": "code",
   "execution_count": 29,
   "metadata": {},
   "outputs": [],
   "source": [
    "User3_Dominant_Arm = total_dataframe[(total_dataframe[\"Person\"] == 3) & (total_dataframe[\"Body_Position\"] == \"Dominant_Arm\")]\n",
    "User3_Dominant_Arm.reset_index(drop=True, inplace=True)\n",
    "User3_Dominant_Arm.to_csv (save_path+'User3_Dominant_Arm.csv', index = None, header=True)\n",
    "\n",
    "User3_Torso = total_dataframe[(total_dataframe[\"Person\"] == 3) & (total_dataframe[\"Body_Position\"] == \"Torso\")]\n",
    "User3_Torso.reset_index(drop=True, inplace=True)\n",
    "User3_Torso.to_csv (save_path+'User3_Torso.csv', index = None, header=True)\n",
    "\n",
    "User3_Dominant_Leg = total_dataframe[(total_dataframe[\"Person\"] == 3) & (total_dataframe[\"Body_Position\"] == \"Dominant_Leg\")]\n",
    "User3_Dominant_Leg.reset_index(drop=True, inplace=True)\n",
    "User3_Dominant_Leg.to_csv (save_path+'User3_Dominant_Leg.csv', index = None, header=True)"
   ]
  },
  {
   "cell_type": "markdown",
   "metadata": {},
   "source": [
    "##### User 4"
   ]
  },
  {
   "cell_type": "code",
   "execution_count": 30,
   "metadata": {},
   "outputs": [],
   "source": [
    "User4_Dominant_Arm = total_dataframe[(total_dataframe[\"Person\"] == 4) & (total_dataframe[\"Body_Position\"] == \"Dominant_Arm\")]\n",
    "User4_Dominant_Arm.reset_index(drop=True, inplace=True)\n",
    "User4_Dominant_Arm.to_csv (save_path+'User4_Dominant_Arm.csv', index = None, header=True)\n",
    "\n",
    "User4_Torso = total_dataframe[(total_dataframe[\"Person\"] == 4) & (total_dataframe[\"Body_Position\"] == \"Torso\")]\n",
    "User4_Torso.reset_index(drop=True, inplace=True)\n",
    "User4_Torso.to_csv (save_path+'User4_Torso.csv', index = None, header=True)\n",
    "\n",
    "User4_Dominant_Leg = total_dataframe[(total_dataframe[\"Person\"] == 4) & (total_dataframe[\"Body_Position\"] == \"Dominant_Leg\")]\n",
    "User4_Dominant_Leg.reset_index(drop=True, inplace=True)\n",
    "User4_Dominant_Leg.to_csv (save_path+'User4_Dominant_Leg.csv', index = None, header=True)"
   ]
  },
  {
   "cell_type": "markdown",
   "metadata": {},
   "source": [
    "##### User 5"
   ]
  },
  {
   "cell_type": "code",
   "execution_count": 31,
   "metadata": {},
   "outputs": [],
   "source": [
    "User5_Dominant_Arm = total_dataframe[(total_dataframe[\"Person\"] == 5) & (total_dataframe[\"Body_Position\"] == \"Dominant_Arm\")]\n",
    "User5_Dominant_Arm.reset_index(drop=True, inplace=True)\n",
    "User5_Dominant_Arm.to_csv (save_path+'User5_Dominant_Arm.csv', index = None, header=True)\n",
    "\n",
    "User5_Torso = total_dataframe[(total_dataframe[\"Person\"] == 5) & (total_dataframe[\"Body_Position\"] == \"Torso\")]\n",
    "User5_Torso.reset_index(drop=True, inplace=True)\n",
    "User5_Torso.to_csv (save_path+'User5_Torso.csv', index = None, header=True)\n",
    "\n",
    "User5_Dominant_Leg = total_dataframe[(total_dataframe[\"Person\"] == 5) & (total_dataframe[\"Body_Position\"] == \"Dominant_Leg\")]\n",
    "User5_Dominant_Leg.reset_index(drop=True, inplace=True)\n",
    "User5_Dominant_Leg.to_csv (save_path+'User5_Dominant_Leg.csv', index = None, header=True)"
   ]
  },
  {
   "cell_type": "markdown",
   "metadata": {},
   "source": [
    "##### User 6"
   ]
  },
  {
   "cell_type": "code",
   "execution_count": 32,
   "metadata": {},
   "outputs": [],
   "source": [
    "User6_Dominant_Arm = total_dataframe[(total_dataframe[\"Person\"] == 6) & (total_dataframe[\"Body_Position\"] == \"Dominant_Arm\")]\n",
    "User6_Dominant_Arm.reset_index(drop=True, inplace=True)\n",
    "User6_Dominant_Arm.to_csv (save_path+'User6_Dominant_Arm.csv', index = None, header=True)\n",
    "\n",
    "User6_Torso = total_dataframe[(total_dataframe[\"Person\"] == 6) & (total_dataframe[\"Body_Position\"] == \"Torso\")]\n",
    "User6_Torso.reset_index(drop=True, inplace=True)\n",
    "User6_Torso.to_csv (save_path+'User6_Torso.csv', index = None, header=True)\n",
    "\n",
    "User6_Dominant_Leg = total_dataframe[(total_dataframe[\"Person\"] == 6) & (total_dataframe[\"Body_Position\"] == \"Dominant_Leg\")]\n",
    "User6_Dominant_Leg.reset_index(drop=True, inplace=True)\n",
    "User6_Dominant_Leg.to_csv (save_path+'User6_Dominant_Leg.csv', index = None, header=True)"
   ]
  },
  {
   "cell_type": "markdown",
   "metadata": {},
   "source": [
    "##### User 7"
   ]
  },
  {
   "cell_type": "code",
   "execution_count": 33,
   "metadata": {},
   "outputs": [],
   "source": [
    "User7_Dominant_Arm = total_dataframe[(total_dataframe[\"Person\"] == 7) & (total_dataframe[\"Body_Position\"] == \"Dominant_Arm\")]\n",
    "User7_Dominant_Arm.reset_index(drop=True, inplace=True)\n",
    "User7_Dominant_Arm.to_csv (save_path+'User7_Dominant_Arm.csv', index = None, header=True)\n",
    "\n",
    "User7_Torso = total_dataframe[(total_dataframe[\"Person\"] == 7) & (total_dataframe[\"Body_Position\"] == \"Torso\")]\n",
    "User7_Torso.reset_index(drop=True, inplace=True)\n",
    "User7_Torso.to_csv (save_path+'User7_Torso.csv', index = None, header=True)\n",
    "\n",
    "User7_Dominant_Leg = total_dataframe[(total_dataframe[\"Person\"] == 7) & (total_dataframe[\"Body_Position\"] == \"Dominant_Leg\")]\n",
    "User7_Dominant_Leg.reset_index(drop=True, inplace=True)\n",
    "User7_Dominant_Leg.to_csv (save_path+'User7_Dominant_Leg.csv', index = None, header=True)"
   ]
  },
  {
   "cell_type": "markdown",
   "metadata": {},
   "source": [
    "##### User 8"
   ]
  },
  {
   "cell_type": "code",
   "execution_count": 34,
   "metadata": {},
   "outputs": [],
   "source": [
    "User8_Dominant_Arm = total_dataframe[(total_dataframe[\"Person\"] == 8) & (total_dataframe[\"Body_Position\"] == \"Dominant_Arm\")]\n",
    "User8_Dominant_Arm.reset_index(drop=True, inplace=True)\n",
    "User8_Dominant_Arm.to_csv (save_path+'User8_Dominant_Arm.csv', index = None, header=True)\n",
    "\n",
    "User8_Torso = total_dataframe[(total_dataframe[\"Person\"] == 8) & (total_dataframe[\"Body_Position\"] == \"Torso\")]\n",
    "User8_Torso.reset_index(drop=True, inplace=True)\n",
    "User8_Torso.to_csv (save_path+'User8_Torso.csv', index = None, header=True)\n",
    "\n",
    "User8_Dominant_Leg = total_dataframe[(total_dataframe[\"Person\"] == 8) & (total_dataframe[\"Body_Position\"] == \"Dominant_Leg\")]\n",
    "User8_Dominant_Leg.reset_index(drop=True, inplace=True)\n",
    "User8_Dominant_Leg.to_csv (save_path+'User8_Dominant_Leg.csv', index = None, header=True)"
   ]
  },
  {
   "cell_type": "markdown",
   "metadata": {},
   "source": [
    "# 4. Windowing"
   ]
  },
  {
   "cell_type": "code",
   "execution_count": 35,
   "metadata": {},
   "outputs": [],
   "source": [
    "Torso_dataset = []\n",
    "Dominant_Arm_dataset = []\n",
    "Dominant_Leg_dataset = []\n",
    "\n",
    "Torso_gt = []\n",
    "Dominant_Arm_gt = []\n",
    "Dominant_Leg_gt = []"
   ]
  },
  {
   "cell_type": "code",
   "execution_count": 36,
   "metadata": {},
   "outputs": [],
   "source": [
    "position = ['Dominant_Arm', 'Torso', 'Dominant_Leg']"
   ]
  },
  {
   "cell_type": "code",
   "execution_count": 37,
   "metadata": {},
   "outputs": [],
   "source": [
    "win_size=128\n",
    "step_size=64\n",
    "AXIS = 3\n",
    "START = AXIS +1\n",
    "END = AXIS +2"
   ]
  },
  {
   "cell_type": "code",
   "execution_count": 39,
   "metadata": {},
   "outputs": [
    {
     "name": "stderr",
     "output_type": "stream",
     "text": [
      "100%|██████████| 3/3 [00:05<00:00,  1.95s/it]\n"
     ]
    }
   ],
   "source": [
    "for position_index in tqdm(range(1,4)): #Back, RUA, RLA, LUA, LLA\n",
    "    for person_index in range(1,9): # 4 Persons\n",
    "        file_name = \"User\"+str(person_index) + \"_\"+position[position_index-1]\n",
    "        \n",
    "        df = pd.read_csv(save_path+file_name+'.csv', sep=\",\")   \n",
    "        len_df = df.shape[0]\n",
    "        narray = df.to_numpy()\n",
    "\n",
    "        for i in range(0, len_df, step_size):\n",
    "            window = narray[i:i+win_size,0:AXIS]\n",
    "            \n",
    "            if window.shape[0] != win_size:\n",
    "                continue\n",
    "            else:\n",
    "                reshaped_window = window.reshape(1,win_size,1,AXIS)\n",
    "                gt = np.bincount(narray[i:i+win_size,START:END].astype(int).ravel()).argmax()\n",
    "#                 print(gt)\n",
    "                \n",
    "                if position_index == 1:\n",
    "                    Dominant_Arm_dataset.append(reshaped_window)\n",
    "                    Dominant_Arm_gt.append(gt)\n",
    "                elif position_index == 2:\n",
    "                    Torso_dataset.append(reshaped_window)\n",
    "                    Torso_gt.append(gt)\n",
    "                elif position_index == 3:\n",
    "                    Dominant_Leg_dataset.append(reshaped_window)\n",
    "                    Dominant_Leg_gt.append(gt)"
   ]
  }
 ],
 "metadata": {
  "kernelspec": {
   "display_name": "Python 3",
   "language": "python",
   "name": "python3"
  },
  "language_info": {
   "codemirror_mode": {
    "name": "ipython",
    "version": 3
   },
   "file_extension": ".py",
   "mimetype": "text/x-python",
   "name": "python",
   "nbconvert_exporter": "python",
   "pygments_lexer": "ipython3",
   "version": "3.7.3"
  }
 },
 "nbformat": 4,
 "nbformat_minor": 2
}
