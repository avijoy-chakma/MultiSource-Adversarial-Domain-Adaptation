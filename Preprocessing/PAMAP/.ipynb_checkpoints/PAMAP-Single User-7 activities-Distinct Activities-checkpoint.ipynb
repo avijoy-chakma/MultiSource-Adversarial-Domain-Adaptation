{
 "cells": [
  {
   "cell_type": "code",
   "execution_count": 1,
   "metadata": {},
   "outputs": [],
   "source": [
    "# Dataset link: http://archive.ics.uci.edu/ml/datasets/pamap2+physical+activity+monitoring"
   ]
  },
  {
   "cell_type": "code",
   "execution_count": 2,
   "metadata": {},
   "outputs": [],
   "source": [
    "import matplotlib as plt\n",
    "import pandas as pd\n",
    "import os\n",
    "from tqdm import tqdm\n",
    "import tqdm\n",
    "import numpy as np\n",
    "import math\n",
    "from sklearn import preprocessing\n",
    "import csv"
   ]
  },
  {
   "cell_type": "code",
   "execution_count": 3,
   "metadata": {},
   "outputs": [],
   "source": [
    "url = \"/home/avijoychakma/Downloads/PerCom 2020/Dataset/PAMAP2_Dataset/Protocol/\""
   ]
  },
  {
   "cell_type": "code",
   "execution_count": 4,
   "metadata": {},
   "outputs": [],
   "source": [
    "save_path = \"/home/avijoychakma/Downloads/DTCN-AR/Dataset Preprocessing/PAMAP/ACC-Positionwise-Normalization/Data Files-7 Activities/\""
   ]
  },
  {
   "cell_type": "code",
   "execution_count": 5,
   "metadata": {},
   "outputs": [],
   "source": [
    "# url = \"/home/avijoy/Downloads/Dataset/PAMAP2_Dataset/Protocol/\""
   ]
  },
  {
   "cell_type": "markdown",
   "metadata": {},
   "source": [
    "# 1. Dataset Information\n",
    "- Missing data\n",
    "- File Format(Each row 54 column)\n",
    "        1 timestamp\n",
    "        2 Activity class\n",
    "        3 HR rate\n",
    "        4-20 IMU hand, 21-37 IMU chest, 38-54 IMU ankle \n",
    "           \n",
    "- 100 hz sampling freq\n",
    "- List of activityIDs and corresponding activities:\n",
    " 1 lying\n",
    "2 sitting\n",
    "3 standing\n",
    "4 walking\n",
    "5 running\n",
    "6 cycling\n",
    "7 Nordic walking\n",
    "9 watching TV\n",
    "10 computer work\n",
    "11 car driving\n",
    "12 ascending stairs\n",
    "13 descending stairs\n",
    "16 vacuum cleaning\n",
    "17 ironing\n",
    "18 folding laundry\n",
    "19 house cleaning\n",
    "20 playing soccer\n",
    "24 rope jumping\n",
    "0 other (transient activities)\n",
    "\n",
    "- Important activities: 1,2,3,4,5,12,13,6(For activity shifting)"
   ]
  },
  {
   "cell_type": "markdown",
   "metadata": {},
   "source": [
    "#### Extract only the IMU data for Chest, Hand, Ankle for User1\n",
    "    - For Each IMU data:    \n",
    "        - 1 temp, \n",
    "        - 2-4: 3D acceleration, [Recommended]\n",
    "        - 5-7: 3D acceleration, \n",
    "        - 8-10: 3D gyroscope, \n",
    "        - 11-13: 3D magnetometer, \n",
    "        - 14-17: orientation(invalid)"
   ]
  },
  {
   "cell_type": "markdown",
   "metadata": {},
   "source": [
    "#### Column 1 Represents the Activity Class\n",
    "    - Considered classes:Sitting, Standing, Lying, Walking, Running, Stair Up, Stair Down\n",
    "    - For any user, working_df contains all the activity data\n",
    "        - Indexing is important for temporal relation"
   ]
  },
  {
   "cell_type": "markdown",
   "metadata": {},
   "source": [
    "#### Body Position:\n",
    "    - 0: Torso\n",
    "    - 1: Dominant Arm\n",
    "    - 3: Dominant Leg"
   ]
  },
  {
   "cell_type": "markdown",
   "metadata": {},
   "source": [
    "#### Global Mapping"
   ]
  },
  {
   "cell_type": "code",
   "execution_count": 6,
   "metadata": {},
   "outputs": [],
   "source": [
    "# - Sitting = 0\n",
    "# - Standing = 1\n",
    "# - Lying = 2\n",
    "# - Walking = 3\n",
    "# - Running = 4\n",
    "# - Ascending stairs = 5\n",
    "# - Descending stairs = 6"
   ]
  },
  {
   "cell_type": "markdown",
   "metadata": {},
   "source": [
    "#### PAMAP Mapping"
   ]
  },
  {
   "cell_type": "code",
   "execution_count": 7,
   "metadata": {},
   "outputs": [],
   "source": [
    "# - 1 Lying = 2\n",
    "# - 2 Sitting = 0\n",
    "# - 3 Standing = 1\n",
    "# - 4 Walking = 3\n",
    "# - 5 Running = 4\n",
    "# - 12 Ascending = 5\n",
    "# - 13 Descending = 6"
   ]
  },
  {
   "cell_type": "code",
   "execution_count": 8,
   "metadata": {},
   "outputs": [],
   "source": [
    "### Activities: - 1 lying - 2 sitting - 3 standing - 4 walking - 5 running - 12 ascending - 13 descending"
   ]
  },
  {
   "cell_type": "code",
   "execution_count": 9,
   "metadata": {},
   "outputs": [],
   "source": [
    "#### Activities to Label \n",
    "####- Sitting = 0 - Standing = 1 - Lying = 2 - Walking = 3 - Running = 4 - Ascending stairs = 5 - Descending stairs = 6"
   ]
  },
  {
   "cell_type": "code",
   "execution_count": 10,
   "metadata": {},
   "outputs": [],
   "source": [
    "hand = [1,4,5,6]\n",
    "chest = [1,21,22,23]\n",
    "ankle = [1,38,39,40]\n",
    "column_name = ['Activity','AccX','AccY','AccZ','Person','Body_Position']\n",
    "rearranged_column_name = ['AccX','AccY','AccZ','Person','Body_Position','Activity']\n",
    "activity = [1,2,3,4,5,12,13]"
   ]
  },
  {
   "cell_type": "code",
   "execution_count": 11,
   "metadata": {},
   "outputs": [],
   "source": [
    "user = {}"
   ]
  },
  {
   "cell_type": "markdown",
   "metadata": {},
   "source": [
    "###### Each user data for three different position is stored in \"user\" collection such that \n",
    "    - User1 contains data for user 1 at index 10,11,12\n",
    "    - User2 contains data for user 2 at index 20,21,22\n",
    "    .\n",
    "    .\n",
    "    \n",
    "    - User8 contains data for user 8 at index 80,81,82"
   ]
  },
  {
   "cell_type": "markdown",
   "metadata": {},
   "source": [
    "## 2. Extract Data"
   ]
  },
  {
   "cell_type": "code",
   "execution_count": 12,
   "metadata": {},
   "outputs": [],
   "source": [
    "for person_index in range(1,9):\n",
    "\n",
    "    df = pd.read_csv(url+\"subject10\"+str(person_index)+\".dat\",sep=\"\\s+\", header=None)\n",
    "    \n",
    "    # Consider only the relevant activities. Column 1 indicates the activity\n",
    "    working_df = df[(df[1] == 1) | (df[1] == 2) | (df[1] == 3) | (df[1] == 4) | (df[1] == 5) | (df[1] == 12) | (df[1] == 13)].copy()\n",
    "    \n",
    "    \n",
    "    working_df.sort_values(0)\n",
    "    \n",
    "    # Initialization\n",
    "    idx = 0\n",
    "    \n",
    "    # For three positions\n",
    "    for index in range(1,4):\n",
    "        if index == 1:\n",
    "            \n",
    "            # Calculate index\n",
    "            idx = person_index*10\n",
    "            user[idx] = working_df[hand].copy()\n",
    "            user[idx].loc[:, 'Person'] = person_index\n",
    "            user[idx].loc[:, 'Body_Position'] = \"Dominant_Arm\"\n",
    "            \n",
    "        elif index == 2:\n",
    "            idx = person_index*10 + 1\n",
    "            user[idx] = working_df[chest].copy()\n",
    "            user[idx].loc[:, 'Person'] = person_index\n",
    "            user[idx].loc[:, 'Body_Position'] = \"Torso\"\n",
    "            \n",
    "        elif index == 3:\n",
    "            idx = person_index*10 + 2\n",
    "            user[idx] = working_df[ankle].copy()\n",
    "            user[idx].loc[:, 'Person'] = person_index\n",
    "            user[idx].loc[:, 'Body_Position'] = \"Dominant_Leg\"\n",
    "\n",
    "        # Assigning the column name\n",
    "        user[idx].columns = column_name\n",
    "\n",
    "        # Rearranging the column to place the ground truth activity column at the end\n",
    "        user[idx] = user[idx].reindex(rearranged_column_name, axis=1)\n",
    "        user[idx].replace({'Activity' : { 1:100, 2:200, 3:300, 4:400, 5:500, 12:1200, 13:1300}}, inplace = True)\n",
    "        user[idx].replace({'Activity' : { 100:2, 200:0, 300:1, 400:3, 500:4, 1200:5, 1300:6}}, inplace = True)\n",
    "        # Remove the NaN entries\n",
    "        user[idx].dropna(inplace = True)\n",
    "        user[idx].reset_index(drop=True, inplace=True)\n",
    "        "
   ]
  },
  {
   "cell_type": "code",
   "execution_count": 13,
   "metadata": {},
   "outputs": [
    {
     "data": {
      "text/html": [
       "<div>\n",
       "<style scoped>\n",
       "    .dataframe tbody tr th:only-of-type {\n",
       "        vertical-align: middle;\n",
       "    }\n",
       "\n",
       "    .dataframe tbody tr th {\n",
       "        vertical-align: top;\n",
       "    }\n",
       "\n",
       "    .dataframe thead th {\n",
       "        text-align: right;\n",
       "    }\n",
       "</style>\n",
       "<table border=\"1\" class=\"dataframe\">\n",
       "  <thead>\n",
       "    <tr style=\"text-align: right;\">\n",
       "      <th></th>\n",
       "      <th>AccX</th>\n",
       "      <th>AccY</th>\n",
       "      <th>AccZ</th>\n",
       "      <th>Person</th>\n",
       "      <th>Body_Position</th>\n",
       "      <th>Activity</th>\n",
       "    </tr>\n",
       "  </thead>\n",
       "  <tbody>\n",
       "    <tr>\n",
       "      <th>0</th>\n",
       "      <td>2.21530</td>\n",
       "      <td>8.27915</td>\n",
       "      <td>5.58753</td>\n",
       "      <td>1</td>\n",
       "      <td>Dominant_Arm</td>\n",
       "      <td>2</td>\n",
       "    </tr>\n",
       "    <tr>\n",
       "      <th>1</th>\n",
       "      <td>2.29196</td>\n",
       "      <td>7.67288</td>\n",
       "      <td>5.74467</td>\n",
       "      <td>1</td>\n",
       "      <td>Dominant_Arm</td>\n",
       "      <td>2</td>\n",
       "    </tr>\n",
       "    <tr>\n",
       "      <th>2</th>\n",
       "      <td>2.29090</td>\n",
       "      <td>7.14240</td>\n",
       "      <td>5.82342</td>\n",
       "      <td>1</td>\n",
       "      <td>Dominant_Arm</td>\n",
       "      <td>2</td>\n",
       "    </tr>\n",
       "    <tr>\n",
       "      <th>3</th>\n",
       "      <td>2.21800</td>\n",
       "      <td>7.14365</td>\n",
       "      <td>5.89930</td>\n",
       "      <td>1</td>\n",
       "      <td>Dominant_Arm</td>\n",
       "      <td>2</td>\n",
       "    </tr>\n",
       "    <tr>\n",
       "      <th>4</th>\n",
       "      <td>2.30106</td>\n",
       "      <td>7.25857</td>\n",
       "      <td>6.09259</td>\n",
       "      <td>1</td>\n",
       "      <td>Dominant_Arm</td>\n",
       "      <td>2</td>\n",
       "    </tr>\n",
       "  </tbody>\n",
       "</table>\n",
       "</div>"
      ],
      "text/plain": [
       "      AccX     AccY     AccZ  Person Body_Position  Activity\n",
       "0  2.21530  8.27915  5.58753       1  Dominant_Arm         2\n",
       "1  2.29196  7.67288  5.74467       1  Dominant_Arm         2\n",
       "2  2.29090  7.14240  5.82342       1  Dominant_Arm         2\n",
       "3  2.21800  7.14365  5.89930       1  Dominant_Arm         2\n",
       "4  2.30106  7.25857  6.09259       1  Dominant_Arm         2"
      ]
     },
     "execution_count": 13,
     "metadata": {},
     "output_type": "execute_result"
    }
   ],
   "source": [
    "user[10].head()"
   ]
  },
  {
   "cell_type": "code",
   "execution_count": 14,
   "metadata": {},
   "outputs": [
    {
     "data": {
      "text/plain": [
       "array([1])"
      ]
     },
     "execution_count": 14,
     "metadata": {},
     "output_type": "execute_result"
    }
   ],
   "source": [
    "np.unique(user[10]['Person'])"
   ]
  },
  {
   "cell_type": "markdown",
   "metadata": {},
   "source": [
    "#### User 9 activities - Computer work, folding laundry, houe cleaning, playing soccer, rope jumping"
   ]
  },
  {
   "cell_type": "markdown",
   "metadata": {},
   "source": [
    "#### \"user\" collection contains 24 dataframes. Each dataframes contains a position specific data of 7 different activities.\n",
    "    - Calculate magnitude\n",
    "    - Decision: Direct windowing/split each dataframe in different activity dataframe then apply windowing"
   ]
  },
  {
   "cell_type": "markdown",
   "metadata": {},
   "source": [
    "## 3. Position-wise Standardization and Normalization\n",
    "    - User-Position-wise processing"
   ]
  },
  {
   "cell_type": "code",
   "execution_count": 15,
   "metadata": {},
   "outputs": [],
   "source": [
    "for person_index in range(1,9):\n",
    "    idx = 0\n",
    "    for index in range(1,4):\n",
    "        if index == 1:\n",
    "            # Calculate index\n",
    "            idx = person_index*10\n",
    "        elif index == 2:\n",
    "            idx = person_index*10 + 1\n",
    "        elif index == 3:\n",
    "            idx = person_index*10 + 2\n",
    "            \n",
    "        \n",
    "        person_gt = np.array(user[idx]['Person'])\n",
    "        activity_gt = np.array(user[idx]['Activity'])\n",
    "        position_gt = np.array(user[idx]['Body_Position'])\n",
    "\n",
    "        user[idx].drop(['Person','Activity','Body_Position'], axis=1, inplace=True)\n",
    "        column_name = user[idx].columns\n",
    "\n",
    "        scaler = preprocessing.StandardScaler()\n",
    "        df_standardized = scaler.fit_transform(user[idx])\n",
    "        df_standardized = pd.DataFrame(df_standardized)\n",
    "\n",
    "        min_max_scaler = preprocessing.MinMaxScaler()\n",
    "        np_scaled = min_max_scaler.fit_transform(df_standardized)\n",
    "        user[idx] = pd.DataFrame(np_scaled, columns=column_name)\n",
    "\n",
    "        user[idx][\"Person\"] = person_gt\n",
    "        user[idx][\"Activity\"] = activity_gt\n",
    "        user[idx][\"Body_Position\"] = position_gt"
   ]
  },
  {
   "cell_type": "code",
   "execution_count": 16,
   "metadata": {},
   "outputs": [
    {
     "data": {
      "text/html": [
       "<div>\n",
       "<style scoped>\n",
       "    .dataframe tbody tr th:only-of-type {\n",
       "        vertical-align: middle;\n",
       "    }\n",
       "\n",
       "    .dataframe tbody tr th {\n",
       "        vertical-align: top;\n",
       "    }\n",
       "\n",
       "    .dataframe thead th {\n",
       "        text-align: right;\n",
       "    }\n",
       "</style>\n",
       "<table border=\"1\" class=\"dataframe\">\n",
       "  <thead>\n",
       "    <tr style=\"text-align: right;\">\n",
       "      <th></th>\n",
       "      <th>AccX</th>\n",
       "      <th>AccY</th>\n",
       "      <th>AccZ</th>\n",
       "      <th>Person</th>\n",
       "      <th>Activity</th>\n",
       "      <th>Body_Position</th>\n",
       "    </tr>\n",
       "  </thead>\n",
       "  <tbody>\n",
       "    <tr>\n",
       "      <th>0</th>\n",
       "      <td>0.831506</td>\n",
       "      <td>0.248807</td>\n",
       "      <td>0.661577</td>\n",
       "      <td>1</td>\n",
       "      <td>2</td>\n",
       "      <td>Dominant_Arm</td>\n",
       "    </tr>\n",
       "    <tr>\n",
       "      <th>1</th>\n",
       "      <td>0.832793</td>\n",
       "      <td>0.240940</td>\n",
       "      <td>0.666582</td>\n",
       "      <td>1</td>\n",
       "      <td>2</td>\n",
       "      <td>Dominant_Arm</td>\n",
       "    </tr>\n",
       "    <tr>\n",
       "      <th>2</th>\n",
       "      <td>0.832775</td>\n",
       "      <td>0.234057</td>\n",
       "      <td>0.669090</td>\n",
       "      <td>1</td>\n",
       "      <td>2</td>\n",
       "      <td>Dominant_Arm</td>\n",
       "    </tr>\n",
       "    <tr>\n",
       "      <th>3</th>\n",
       "      <td>0.831551</td>\n",
       "      <td>0.234074</td>\n",
       "      <td>0.671507</td>\n",
       "      <td>1</td>\n",
       "      <td>2</td>\n",
       "      <td>Dominant_Arm</td>\n",
       "    </tr>\n",
       "    <tr>\n",
       "      <th>4</th>\n",
       "      <td>0.832946</td>\n",
       "      <td>0.235565</td>\n",
       "      <td>0.677663</td>\n",
       "      <td>1</td>\n",
       "      <td>2</td>\n",
       "      <td>Dominant_Arm</td>\n",
       "    </tr>\n",
       "  </tbody>\n",
       "</table>\n",
       "</div>"
      ],
      "text/plain": [
       "       AccX      AccY      AccZ  Person  Activity Body_Position\n",
       "0  0.831506  0.248807  0.661577       1         2  Dominant_Arm\n",
       "1  0.832793  0.240940  0.666582       1         2  Dominant_Arm\n",
       "2  0.832775  0.234057  0.669090       1         2  Dominant_Arm\n",
       "3  0.831551  0.234074  0.671507       1         2  Dominant_Arm\n",
       "4  0.832946  0.235565  0.677663       1         2  Dominant_Arm"
      ]
     },
     "execution_count": 16,
     "metadata": {},
     "output_type": "execute_result"
    }
   ],
   "source": [
    "user[10].head()"
   ]
  },
  {
   "cell_type": "markdown",
   "metadata": {},
   "source": [
    "## 4. Split Into Individual Files"
   ]
  },
  {
   "cell_type": "code",
   "execution_count": 17,
   "metadata": {},
   "outputs": [],
   "source": [
    "position = ['Dominant_Arm', 'Torso', 'Dominant_Leg']\n",
    "train_percentage = 0.8"
   ]
  },
  {
   "cell_type": "markdown",
   "metadata": {},
   "source": [
    "##### User 1"
   ]
  },
  {
   "cell_type": "code",
   "execution_count": 18,
   "metadata": {},
   "outputs": [],
   "source": [
    "Start = 10\n",
    "for position_index in range(0,3):\n",
    "    \n",
    "    train_dataframe = pd.DataFrame(columns=['AccX', 'AccY', 'AccZ', 'Person', 'Activity', 'Body_Position'])\n",
    "    valid_dataframe = pd.DataFrame(columns=['AccX', 'AccY', 'AccZ', 'Person', 'Activity', 'Body_Position'])\n",
    "    index = Start+position_index\n",
    "    \n",
    "    for activity_index in range(0,7):\n",
    "        \n",
    "        dataframe = user[index][(user[index][\"Activity\"] == activity_index)].copy()\n",
    "\n",
    "        upto = int(dataframe.shape[0]*train_percentage)    \n",
    "        train = dataframe[0:upto].copy()\n",
    "        valid = dataframe[upto+1 : dataframe.shape[0]].copy()\n",
    "\n",
    "        train_dataframe = train_dataframe.append(train, ignore_index=True, sort=False)\n",
    "        valid_dataframe = valid_dataframe.append(valid, ignore_index=True, sort=False)\n",
    "\n",
    "    train_dataframe.to_csv (save_path+'User1_'+position[position_index]+'_train'+'.csv', index = None, header=True)\n",
    "    valid_dataframe.to_csv (save_path+'User1_'+position[position_index]+'_valid'+'.csv', index = None, header=True)"
   ]
  },
  {
   "cell_type": "markdown",
   "metadata": {},
   "source": [
    "##### User 2"
   ]
  },
  {
   "cell_type": "code",
   "execution_count": 19,
   "metadata": {},
   "outputs": [],
   "source": [
    "Start = 20\n",
    "for position_index in range(0,3):\n",
    "    \n",
    "    train_dataframe = pd.DataFrame(columns=['AccX', 'AccY', 'AccZ', 'Person', 'Activity', 'Body_Position'])\n",
    "    valid_dataframe = pd.DataFrame(columns=['AccX', 'AccY', 'AccZ', 'Person', 'Activity', 'Body_Position'])\n",
    "    index = Start+position_index\n",
    "    \n",
    "    for activity_index in range(0,7):\n",
    "        \n",
    "        dataframe = user[index][(user[index][\"Activity\"] == activity_index)].copy()\n",
    "\n",
    "        upto = int(dataframe.shape[0]*train_percentage)    \n",
    "        train = dataframe[0:upto].copy()\n",
    "        valid = dataframe[upto+1 : dataframe.shape[0]].copy()\n",
    "\n",
    "        train_dataframe = train_dataframe.append(train, ignore_index=True, sort=False)\n",
    "        valid_dataframe = valid_dataframe.append(valid, ignore_index=True, sort=False)\n",
    "\n",
    "    train_dataframe.to_csv (save_path+'User2_'+position[position_index]+'_train'+'.csv', index = None, header=True)\n",
    "    valid_dataframe.to_csv (save_path+'User2_'+position[position_index]+'_valid'+'.csv', index = None, header=True)"
   ]
  },
  {
   "cell_type": "markdown",
   "metadata": {},
   "source": [
    "##### User 3"
   ]
  },
  {
   "cell_type": "code",
   "execution_count": 20,
   "metadata": {},
   "outputs": [],
   "source": [
    "Start = 30\n",
    "for position_index in range(0,3):\n",
    "    \n",
    "    train_dataframe = pd.DataFrame(columns=['AccX', 'AccY', 'AccZ', 'Person', 'Activity', 'Body_Position'])\n",
    "    valid_dataframe = pd.DataFrame(columns=['AccX', 'AccY', 'AccZ', 'Person', 'Activity', 'Body_Position'])\n",
    "    index = Start+position_index\n",
    "    \n",
    "    for activity_index in range(0,7):\n",
    "        \n",
    "        dataframe = user[index][(user[index][\"Activity\"] == activity_index)].copy()\n",
    "\n",
    "        upto = int(dataframe.shape[0]*train_percentage)    \n",
    "        train = dataframe[0:upto].copy()\n",
    "        valid = dataframe[upto+1 : dataframe.shape[0]].copy()\n",
    "\n",
    "        train_dataframe = train_dataframe.append(train, ignore_index=True, sort=False)\n",
    "        valid_dataframe = valid_dataframe.append(valid, ignore_index=True, sort=False)\n",
    "\n",
    "    train_dataframe.to_csv (save_path+'User3_'+position[position_index]+'_train'+'.csv', index = None, header=True)\n",
    "    valid_dataframe.to_csv (save_path+'User3_'+position[position_index]+'_valid'+'.csv', index = None, header=True)"
   ]
  },
  {
   "cell_type": "markdown",
   "metadata": {},
   "source": [
    "##### User 4"
   ]
  },
  {
   "cell_type": "code",
   "execution_count": 21,
   "metadata": {},
   "outputs": [],
   "source": [
    "Start = 40\n",
    "for position_index in range(0,3):\n",
    "    \n",
    "    train_dataframe = pd.DataFrame(columns=['AccX', 'AccY', 'AccZ', 'Person', 'Activity', 'Body_Position'])\n",
    "    valid_dataframe = pd.DataFrame(columns=['AccX', 'AccY', 'AccZ', 'Person', 'Activity', 'Body_Position'])\n",
    "    index = Start+position_index\n",
    "    \n",
    "    for activity_index in range(0,7):\n",
    "        \n",
    "        dataframe = user[index][(user[index][\"Activity\"] == activity_index)].copy()\n",
    "\n",
    "        upto = int(dataframe.shape[0]*train_percentage)    \n",
    "        train = dataframe[0:upto].copy()\n",
    "        valid = dataframe[upto+1 : dataframe.shape[0]].copy()\n",
    "\n",
    "        train_dataframe = train_dataframe.append(train, ignore_index=True, sort=False)\n",
    "        valid_dataframe = valid_dataframe.append(valid, ignore_index=True, sort=False)\n",
    "\n",
    "    train_dataframe.to_csv (save_path+'User4_'+position[position_index]+'_train'+'.csv', index = None, header=True)\n",
    "    valid_dataframe.to_csv (save_path+'User4_'+position[position_index]+'_valid'+'.csv', index = None, header=True)"
   ]
  },
  {
   "cell_type": "markdown",
   "metadata": {},
   "source": [
    "##### User 5"
   ]
  },
  {
   "cell_type": "code",
   "execution_count": 22,
   "metadata": {},
   "outputs": [],
   "source": [
    "Start = 50\n",
    "for position_index in range(0,3):\n",
    "    \n",
    "    train_dataframe = pd.DataFrame(columns=['AccX', 'AccY', 'AccZ', 'Person', 'Activity', 'Body_Position'])\n",
    "    valid_dataframe = pd.DataFrame(columns=['AccX', 'AccY', 'AccZ', 'Person', 'Activity', 'Body_Position'])\n",
    "    index = Start+position_index\n",
    "    \n",
    "    for activity_index in range(0,7):\n",
    "        \n",
    "        dataframe = user[index][(user[index][\"Activity\"] == activity_index)].copy()\n",
    "\n",
    "        upto = int(dataframe.shape[0]*train_percentage)    \n",
    "        train = dataframe[0:upto].copy()\n",
    "        valid = dataframe[upto+1 : dataframe.shape[0]].copy()\n",
    "\n",
    "        train_dataframe = train_dataframe.append(train, ignore_index=True, sort=False)\n",
    "        valid_dataframe = valid_dataframe.append(valid, ignore_index=True, sort=False)\n",
    "\n",
    "    train_dataframe.to_csv (save_path+'User5_'+position[position_index]+'_train'+'.csv', index = None, header=True)\n",
    "    valid_dataframe.to_csv (save_path+'User5_'+position[position_index]+'_valid'+'.csv', index = None, header=True)"
   ]
  },
  {
   "cell_type": "markdown",
   "metadata": {},
   "source": [
    "##### User 6"
   ]
  },
  {
   "cell_type": "code",
   "execution_count": 23,
   "metadata": {},
   "outputs": [],
   "source": [
    "Start = 60\n",
    "for position_index in range(0,3):\n",
    "    \n",
    "    train_dataframe = pd.DataFrame(columns=['AccX', 'AccY', 'AccZ', 'Person', 'Activity', 'Body_Position'])\n",
    "    valid_dataframe = pd.DataFrame(columns=['AccX', 'AccY', 'AccZ', 'Person', 'Activity', 'Body_Position'])\n",
    "    index = Start+position_index\n",
    "    \n",
    "    for activity_index in range(0,7):\n",
    "        \n",
    "        dataframe = user[index][(user[index][\"Activity\"] == activity_index)].copy()\n",
    "\n",
    "        upto = int(dataframe.shape[0]*train_percentage)    \n",
    "        train = dataframe[0:upto].copy()\n",
    "        valid = dataframe[upto+1 : dataframe.shape[0]].copy()\n",
    "\n",
    "        train_dataframe = train_dataframe.append(train, ignore_index=True, sort=False)\n",
    "        valid_dataframe = valid_dataframe.append(valid, ignore_index=True, sort=False)\n",
    "\n",
    "    train_dataframe.to_csv (save_path+'User6_'+position[position_index]+'_train'+'.csv', index = None, header=True)\n",
    "    valid_dataframe.to_csv (save_path+'User6_'+position[position_index]+'_valid'+'.csv', index = None, header=True)"
   ]
  },
  {
   "cell_type": "markdown",
   "metadata": {},
   "source": [
    "##### User 7"
   ]
  },
  {
   "cell_type": "code",
   "execution_count": 24,
   "metadata": {},
   "outputs": [],
   "source": [
    "Start = 70\n",
    "for position_index in range(0,3):\n",
    "    \n",
    "    train_dataframe = pd.DataFrame(columns=['AccX', 'AccY', 'AccZ', 'Person', 'Activity', 'Body_Position'])\n",
    "    valid_dataframe = pd.DataFrame(columns=['AccX', 'AccY', 'AccZ', 'Person', 'Activity', 'Body_Position'])\n",
    "    index = Start+position_index\n",
    "    \n",
    "    for activity_index in range(0,7):\n",
    "        \n",
    "        dataframe = user[index][(user[index][\"Activity\"] == activity_index)].copy()\n",
    "\n",
    "        upto = int(dataframe.shape[0]*train_percentage)    \n",
    "        train = dataframe[0:upto].copy()\n",
    "        valid = dataframe[upto+1 : dataframe.shape[0]].copy()\n",
    "\n",
    "        train_dataframe = train_dataframe.append(train, ignore_index=True, sort=False)\n",
    "        valid_dataframe = valid_dataframe.append(valid, ignore_index=True, sort=False)\n",
    "\n",
    "    train_dataframe.to_csv (save_path+'User7_'+position[position_index]+'_train'+'.csv', index = None, header=True)\n",
    "    valid_dataframe.to_csv (save_path+'User7_'+position[position_index]+'_valid'+'.csv', index = None, header=True)"
   ]
  },
  {
   "cell_type": "markdown",
   "metadata": {},
   "source": [
    "##### User 8"
   ]
  },
  {
   "cell_type": "code",
   "execution_count": 25,
   "metadata": {},
   "outputs": [],
   "source": [
    "Start = 80\n",
    "for position_index in range(0,3):\n",
    "    \n",
    "    train_dataframe = pd.DataFrame(columns=['AccX', 'AccY', 'AccZ', 'Person', 'Activity', 'Body_Position'])\n",
    "    valid_dataframe = pd.DataFrame(columns=['AccX', 'AccY', 'AccZ', 'Person', 'Activity', 'Body_Position'])\n",
    "    index = Start+position_index\n",
    "    \n",
    "    for activity_index in range(0,7):\n",
    "        \n",
    "        dataframe = user[index][(user[index][\"Activity\"] == activity_index)].copy()\n",
    "\n",
    "        upto = int(dataframe.shape[0]*train_percentage)    \n",
    "        train = dataframe[0:upto].copy()\n",
    "        valid = dataframe[upto+1 : dataframe.shape[0]].copy()\n",
    "\n",
    "        train_dataframe = train_dataframe.append(train, ignore_index=True, sort=False)\n",
    "        valid_dataframe = valid_dataframe.append(valid, ignore_index=True, sort=False)\n",
    "\n",
    "    train_dataframe.to_csv (save_path+'User8_'+position[position_index]+'_train'+'.csv', index = None, header=True)\n",
    "    valid_dataframe.to_csv (save_path+'User8_'+position[position_index]+'_valid'+'.csv', index = None, header=True)"
   ]
  },
  {
   "cell_type": "markdown",
   "metadata": {},
   "source": [
    "# 5. Windowing"
   ]
  },
  {
   "cell_type": "code",
   "execution_count": 26,
   "metadata": {},
   "outputs": [],
   "source": [
    "Dominant_Arm_train = []\n",
    "Torso_train = []\n",
    "Dominant_Leg_train = []\n",
    "\n",
    "Dominant_Arm_gt_train = []\n",
    "Torso_gt_train = []\n",
    "Dominant_Leg_gt_train = []"
   ]
  },
  {
   "cell_type": "code",
   "execution_count": 27,
   "metadata": {},
   "outputs": [],
   "source": [
    "Dominant_Arm_valid = []\n",
    "Torso_valid = []\n",
    "Dominant_Leg_valid = []\n",
    "\n",
    "Dominant_Arm_gt_valid = []\n",
    "Torso_gt_valid = []\n",
    "Dominant_Leg_gt_valid = []"
   ]
  },
  {
   "cell_type": "code",
   "execution_count": 28,
   "metadata": {},
   "outputs": [],
   "source": [
    "item = [\"train\",\"valid\"]\n",
    "user = [\"User1\",\"User2\",\"User3\",\"User4\",\"User5\",\"User6\",\"User7\",\"User8\"]\n",
    "position = ['Dominant_Arm', 'Torso', 'Dominant_Leg']\n",
    "selected_user = 1"
   ]
  },
  {
   "cell_type": "code",
   "execution_count": 29,
   "metadata": {},
   "outputs": [],
   "source": [
    "win_size=128\n",
    "step_size=64\n",
    "AXIS = 3\n",
    "FROM = 0\n",
    "TO = FROM+3\n",
    "START = 4\n",
    "END = 5"
   ]
  },
  {
   "cell_type": "code",
   "execution_count": 30,
   "metadata": {},
   "outputs": [
    {
     "name": "stderr",
     "output_type": "stream",
     "text": [
      " 33%|███▎      | 1/3 [00:00<00:00,  6.59it/s]"
     ]
    },
    {
     "name": "stdout",
     "output_type": "stream",
     "text": [
      "User1_Dominant_Arm_train\n",
      "User1_Dominant_Arm_valid\n",
      "User1_Torso_train\n"
     ]
    },
    {
     "name": "stderr",
     "output_type": "stream",
     "text": [
      "100%|██████████| 3/3 [00:00<00:00,  7.58it/s]"
     ]
    },
    {
     "name": "stdout",
     "output_type": "stream",
     "text": [
      "User1_Torso_valid\n",
      "User1_Dominant_Leg_train\n",
      "User1_Dominant_Leg_valid\n"
     ]
    },
    {
     "name": "stderr",
     "output_type": "stream",
     "text": [
      "\n"
     ]
    }
   ],
   "source": [
    "for position_index in tqdm.tqdm(range(0,3)): #'Dominant_Arm', 'Torso', 'Dominant_Leg'\n",
    "    for split_index in range(0,2):\n",
    "        file_name = user[selected_user-1] + \"_\" + position[position_index]+'_'+item[split_index]\n",
    "        \n",
    "        print(file_name)\n",
    "        df = pd.read_csv(save_path+file_name+'.csv', sep=\",\")   \n",
    "        len_df = df.shape[0]\n",
    "        narray = df.to_numpy()\n",
    "\n",
    "        for i in range(0, len_df, step_size):\n",
    "            window = narray[i:i+win_size, FROM:TO]\n",
    "            \n",
    "            if window.shape[0] != win_size:\n",
    "                continue\n",
    "            else:\n",
    "                reshaped_window = window.reshape(1,win_size,1,AXIS)\n",
    "                gt = np.bincount(narray[i:i+win_size,START:END].astype(int).ravel()).argmax()\n",
    "                \n",
    "                if position_index == 0:\n",
    "                    if split_index == 0:\n",
    "                        Dominant_Arm_train.append(reshaped_window)\n",
    "                        Dominant_Arm_gt_train.append(gt)\n",
    "                    elif split_index == 1:\n",
    "                        Dominant_Arm_valid.append(reshaped_window)\n",
    "                        Dominant_Arm_gt_valid.append(gt)\n",
    "                elif position_index == 1:\n",
    "                    if split_index == 0:\n",
    "                        Torso_train.append(reshaped_window)\n",
    "                        Torso_gt_train.append(gt)\n",
    "                    elif split_index == 1:\n",
    "                        Torso_valid.append(reshaped_window)\n",
    "                        Torso_gt_valid.append(gt)\n",
    "                elif position_index == 2:\n",
    "                    if split_index == 0:\n",
    "                        Dominant_Leg_train.append(reshaped_window)\n",
    "                        Dominant_Leg_gt_train.append(gt)\n",
    "                    elif split_index == 1:\n",
    "                        Dominant_Arm_gt_valid.append(reshaped_window)\n",
    "                        Dominant_Arm_gt_valid.append(gt)"
   ]
  },
  {
   "cell_type": "code",
   "execution_count": 33,
   "metadata": {},
   "outputs": [
    {
     "data": {
      "text/plain": [
       "1820"
      ]
     },
     "execution_count": 33,
     "metadata": {},
     "output_type": "execute_result"
    }
   ],
   "source": [
    "len(Dominant_Arm_train)"
   ]
  },
  {
   "cell_type": "code",
   "execution_count": null,
   "metadata": {},
   "outputs": [],
   "source": []
  }
 ],
 "metadata": {
  "kernelspec": {
   "display_name": "Python 3",
   "language": "python",
   "name": "python3"
  },
  "language_info": {
   "codemirror_mode": {
    "name": "ipython",
    "version": 3
   },
   "file_extension": ".py",
   "mimetype": "text/x-python",
   "name": "python",
   "nbconvert_exporter": "python",
   "pygments_lexer": "ipython3",
   "version": "3.7.3"
  }
 },
 "nbformat": 4,
 "nbformat_minor": 2
}
