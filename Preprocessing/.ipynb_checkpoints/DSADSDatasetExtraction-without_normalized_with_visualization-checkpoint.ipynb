{
 "cells": [
  {
   "cell_type": "code",
   "execution_count": 1,
   "metadata": {},
   "outputs": [],
   "source": [
    "import matplotlib as plt\n",
    "import pandas as pd\n",
    "import os\n",
    "import numpy as np\n",
    "import math\n",
    "import csv\n",
    "import pickle\n",
    "import math\n",
    "import matplotlib.pyplot as plt\n",
    "from mpl_toolkits.mplot3d import Axes3D\n",
    "from scipy import stats\n",
    "import seaborn as sns\n",
    "from pylab import rcParams\n",
    "from tqdm import tqdm\n",
    "from sklearn import preprocessing\n",
    "from torch.utils.data import Dataset, DataLoader\n",
    "from torchvision import transforms\n",
    "import torch\n",
    "import torch.nn as nn\n",
    "import torch.optim as optim\n",
    "import network as net\n",
    "from sklearn.model_selection import train_test_split\n",
    "%matplotlib inline\n",
    "\n",
    "sns.set(style='whitegrid', palette='muted', font_scale=1.5)\n",
    "rcParams['figure.figsize'] = 14, 8\n",
    "RANDOM_SEED = 42"
   ]
  },
  {
   "cell_type": "code",
   "execution_count": 2,
   "metadata": {},
   "outputs": [],
   "source": [
    "# url = \"/home/avijoy/Downloads/Dataset/DSADS/data\""
   ]
  },
  {
   "cell_type": "code",
   "execution_count": 3,
   "metadata": {},
   "outputs": [],
   "source": [
    "url = \"/home/avijoychakma/Downloads/PerCom 2020/Dataset/DSADS/data\""
   ]
  },
  {
   "cell_type": "code",
   "execution_count": 4,
   "metadata": {},
   "outputs": [],
   "source": [
    "data = pd.read_csv(url+'/a01/p1/s01.txt', sep=\",\", header=None)"
   ]
  },
  {
   "cell_type": "code",
   "execution_count": 5,
   "metadata": {},
   "outputs": [
    {
     "data": {
      "text/html": [
       "<div>\n",
       "<style scoped>\n",
       "    .dataframe tbody tr th:only-of-type {\n",
       "        vertical-align: middle;\n",
       "    }\n",
       "\n",
       "    .dataframe tbody tr th {\n",
       "        vertical-align: top;\n",
       "    }\n",
       "\n",
       "    .dataframe thead th {\n",
       "        text-align: right;\n",
       "    }\n",
       "</style>\n",
       "<table border=\"1\" class=\"dataframe\">\n",
       "  <thead>\n",
       "    <tr style=\"text-align: right;\">\n",
       "      <th></th>\n",
       "      <th>0</th>\n",
       "      <th>1</th>\n",
       "      <th>2</th>\n",
       "      <th>3</th>\n",
       "      <th>4</th>\n",
       "      <th>5</th>\n",
       "      <th>6</th>\n",
       "      <th>7</th>\n",
       "      <th>8</th>\n",
       "      <th>9</th>\n",
       "      <th>...</th>\n",
       "      <th>35</th>\n",
       "      <th>36</th>\n",
       "      <th>37</th>\n",
       "      <th>38</th>\n",
       "      <th>39</th>\n",
       "      <th>40</th>\n",
       "      <th>41</th>\n",
       "      <th>42</th>\n",
       "      <th>43</th>\n",
       "      <th>44</th>\n",
       "    </tr>\n",
       "  </thead>\n",
       "  <tbody>\n",
       "    <tr>\n",
       "      <th>0</th>\n",
       "      <td>8.1305</td>\n",
       "      <td>1.0349</td>\n",
       "      <td>5.4217</td>\n",
       "      <td>-0.009461</td>\n",
       "      <td>0.001915</td>\n",
       "      <td>-0.003424</td>\n",
       "      <td>-0.78712</td>\n",
       "      <td>-0.069654</td>\n",
       "      <td>0.15730</td>\n",
       "      <td>0.70097</td>\n",
       "      <td>...</td>\n",
       "      <td>-0.036453</td>\n",
       "      <td>-2.8071</td>\n",
       "      <td>-9.0812</td>\n",
       "      <td>2.6220</td>\n",
       "      <td>-0.000232</td>\n",
       "      <td>-0.012092</td>\n",
       "      <td>-0.004457</td>\n",
       "      <td>0.74017</td>\n",
       "      <td>0.30053</td>\n",
       "      <td>-0.057730</td>\n",
       "    </tr>\n",
       "    <tr>\n",
       "      <th>1</th>\n",
       "      <td>8.1305</td>\n",
       "      <td>1.0202</td>\n",
       "      <td>5.3843</td>\n",
       "      <td>-0.009368</td>\n",
       "      <td>0.023485</td>\n",
       "      <td>0.001953</td>\n",
       "      <td>-0.78717</td>\n",
       "      <td>-0.068275</td>\n",
       "      <td>0.15890</td>\n",
       "      <td>0.71829</td>\n",
       "      <td>...</td>\n",
       "      <td>-0.034005</td>\n",
       "      <td>-2.8146</td>\n",
       "      <td>-9.0737</td>\n",
       "      <td>2.6218</td>\n",
       "      <td>-0.014784</td>\n",
       "      <td>-0.016477</td>\n",
       "      <td>0.002789</td>\n",
       "      <td>0.73937</td>\n",
       "      <td>0.30183</td>\n",
       "      <td>-0.057514</td>\n",
       "    </tr>\n",
       "    <tr>\n",
       "      <th>2</th>\n",
       "      <td>8.1604</td>\n",
       "      <td>1.0201</td>\n",
       "      <td>5.3622</td>\n",
       "      <td>0.015046</td>\n",
       "      <td>0.014330</td>\n",
       "      <td>0.000204</td>\n",
       "      <td>-0.78664</td>\n",
       "      <td>-0.068277</td>\n",
       "      <td>0.15879</td>\n",
       "      <td>0.69849</td>\n",
       "      <td>...</td>\n",
       "      <td>-0.036489</td>\n",
       "      <td>-2.8221</td>\n",
       "      <td>-9.0886</td>\n",
       "      <td>2.6366</td>\n",
       "      <td>-0.012770</td>\n",
       "      <td>0.005717</td>\n",
       "      <td>-0.007918</td>\n",
       "      <td>0.73955</td>\n",
       "      <td>0.30052</td>\n",
       "      <td>-0.057219</td>\n",
       "    </tr>\n",
       "    <tr>\n",
       "      <th>3</th>\n",
       "      <td>8.1603</td>\n",
       "      <td>1.0052</td>\n",
       "      <td>5.3770</td>\n",
       "      <td>0.006892</td>\n",
       "      <td>0.018045</td>\n",
       "      <td>0.005649</td>\n",
       "      <td>-0.78529</td>\n",
       "      <td>-0.069849</td>\n",
       "      <td>0.15912</td>\n",
       "      <td>0.72799</td>\n",
       "      <td>...</td>\n",
       "      <td>-0.036151</td>\n",
       "      <td>-2.8071</td>\n",
       "      <td>-9.0811</td>\n",
       "      <td>2.6070</td>\n",
       "      <td>-0.005725</td>\n",
       "      <td>0.009620</td>\n",
       "      <td>0.006555</td>\n",
       "      <td>0.74029</td>\n",
       "      <td>0.30184</td>\n",
       "      <td>-0.057750</td>\n",
       "    </tr>\n",
       "    <tr>\n",
       "      <th>4</th>\n",
       "      <td>8.1605</td>\n",
       "      <td>1.0275</td>\n",
       "      <td>5.3473</td>\n",
       "      <td>0.008811</td>\n",
       "      <td>0.030433</td>\n",
       "      <td>-0.005346</td>\n",
       "      <td>-0.78742</td>\n",
       "      <td>-0.068796</td>\n",
       "      <td>0.15916</td>\n",
       "      <td>0.71572</td>\n",
       "      <td>...</td>\n",
       "      <td>-0.033807</td>\n",
       "      <td>-2.8146</td>\n",
       "      <td>-9.0737</td>\n",
       "      <td>2.6218</td>\n",
       "      <td>-0.003929</td>\n",
       "      <td>-0.008371</td>\n",
       "      <td>0.002816</td>\n",
       "      <td>0.73845</td>\n",
       "      <td>0.30090</td>\n",
       "      <td>-0.057527</td>\n",
       "    </tr>\n",
       "  </tbody>\n",
       "</table>\n",
       "<p>5 rows × 45 columns</p>\n",
       "</div>"
      ],
      "text/plain": [
       "       0       1       2         3         4         5        6         7   \\\n",
       "0  8.1305  1.0349  5.4217 -0.009461  0.001915 -0.003424 -0.78712 -0.069654   \n",
       "1  8.1305  1.0202  5.3843 -0.009368  0.023485  0.001953 -0.78717 -0.068275   \n",
       "2  8.1604  1.0201  5.3622  0.015046  0.014330  0.000204 -0.78664 -0.068277   \n",
       "3  8.1603  1.0052  5.3770  0.006892  0.018045  0.005649 -0.78529 -0.069849   \n",
       "4  8.1605  1.0275  5.3473  0.008811  0.030433 -0.005346 -0.78742 -0.068796   \n",
       "\n",
       "        8        9   ...        35      36      37      38        39  \\\n",
       "0  0.15730  0.70097  ... -0.036453 -2.8071 -9.0812  2.6220 -0.000232   \n",
       "1  0.15890  0.71829  ... -0.034005 -2.8146 -9.0737  2.6218 -0.014784   \n",
       "2  0.15879  0.69849  ... -0.036489 -2.8221 -9.0886  2.6366 -0.012770   \n",
       "3  0.15912  0.72799  ... -0.036151 -2.8071 -9.0811  2.6070 -0.005725   \n",
       "4  0.15916  0.71572  ... -0.033807 -2.8146 -9.0737  2.6218 -0.003929   \n",
       "\n",
       "         40        41       42       43        44  \n",
       "0 -0.012092 -0.004457  0.74017  0.30053 -0.057730  \n",
       "1 -0.016477  0.002789  0.73937  0.30183 -0.057514  \n",
       "2  0.005717 -0.007918  0.73955  0.30052 -0.057219  \n",
       "3  0.009620  0.006555  0.74029  0.30184 -0.057750  \n",
       "4 -0.008371  0.002816  0.73845  0.30090 -0.057527  \n",
       "\n",
       "[5 rows x 45 columns]"
      ]
     },
     "execution_count": 5,
     "metadata": {},
     "output_type": "execute_result"
    }
   ],
   "source": [
    "data.head()"
   ]
  },
  {
   "cell_type": "code",
   "execution_count": 6,
   "metadata": {},
   "outputs": [
    {
     "data": {
      "text/plain": [
       "(125, 45)"
      ]
     },
     "execution_count": 6,
     "metadata": {},
     "output_type": "execute_result"
    }
   ],
   "source": [
    "data.shape"
   ]
  },
  {
   "cell_type": "markdown",
   "metadata": {},
   "source": [
    "### File Information\n",
    "    - Torso: 1-9\n",
    "    - RA: 10-18\n",
    "    - LA: 19-27\n",
    "    - RL: 28-36\n",
    "    - LL: 37-45"
   ]
  },
  {
   "cell_type": "markdown",
   "metadata": {},
   "source": [
    "### Label Information\n",
    "    - a1 = Sitting = 2\n",
    "    - a2 = Standing = 3\n",
    "    - a3 and a4 = Lying back and right = 1\n",
    "    - a9 = walking = 4\n",
    "    - a10 = walking trademill flat 10km/h = 4\n",
    "    - a11 = walking trademill 15 deg inclined = 4\n",
    "    - a12 = running on trademill 8km/h = 5\n",
    "    - a5 = ascending stairs = 12\n",
    "    - a6 = descending stairs = 13"
   ]
  },
  {
   "cell_type": "markdown",
   "metadata": {},
   "source": [
    "#### In future a9, a10, a11 can be merged together "
   ]
  },
  {
   "cell_type": "code",
   "execution_count": 7,
   "metadata": {},
   "outputs": [],
   "source": [
    "COLUMN_NAME = ['AccX', 'AccY','AccZ', 'GyrX', 'GyrY', 'GyrZ', 'MagX', 'MagY','MagZ',\"Person\",\"Activity\"]\n",
    "# COLUMN_NAME = ['AccX', 'AccY','AccZ',\"Person\",\"Activity\"]\n",
    "action = ['a00','a01','a02','a03','a04','a05','a06','a07','a08','a09','a10','a11','a12','a13','a14','a15','a16','a17','a18','a19']\n",
    "a1 = 0\n",
    "a2 = 1\n",
    "a3 = 2\n",
    "a4 = 2\n",
    "a9 = 3\n",
    "a12= 4\n",
    "a5 = 5\n",
    "a6 = 6"
   ]
  },
  {
   "cell_type": "code",
   "execution_count": 8,
   "metadata": {},
   "outputs": [
    {
     "data": {
      "text/plain": [
       "'a01'"
      ]
     },
     "execution_count": 8,
     "metadata": {},
     "output_type": "execute_result"
    }
   ],
   "source": [
    "action[1]"
   ]
  },
  {
   "cell_type": "code",
   "execution_count": 9,
   "metadata": {},
   "outputs": [],
   "source": [
    "torso_index = [0,1,2,3,4,5,6,7,8,\"Person\", \"Activity\"]\n",
    "right_arm_index = [9,10,11,12,13,14,15,16,17,\"Person\", \"Activity\"]\n",
    "left_arm_index = [18,19,20,21,22,23,24,25,26,\"Person\", \"Activity\"]\n",
    "right_leg_index = [27,28,29,30,31,32,33,34,35,\"Person\", \"Activity\"]\n",
    "left_leg_index = [36,37,38,39,40,41,42,43,44,\"Person\", \"Activity\"]\n",
    "\n",
    "# torso_index = [0,1,2,\"Person\", \"Activity\"]\n",
    "# right_arm_index = [9,10,11,\"Person\", \"Activity\"]\n",
    "# left_arm_index = [18,19,20,\"Person\", \"Activity\"]\n",
    "# right_leg_index = [27,28,29,\"Person\", \"Activity\"]\n",
    "# left_leg_index = [36,37,38,\"Person\", \"Activity\"]"
   ]
  },
  {
   "cell_type": "code",
   "execution_count": 10,
   "metadata": {},
   "outputs": [],
   "source": [
    "body_part_index = [torso_index,right_arm_index,left_arm_index,right_leg_index,left_leg_index]"
   ]
  },
  {
   "cell_type": "code",
   "execution_count": 11,
   "metadata": {},
   "outputs": [],
   "source": [
    "body_part = [\"Torso\",\"Right_Arm\",\"Left_Arm\",\"Right_Leg\",\"Left_Leg\"]"
   ]
  },
  {
   "cell_type": "markdown",
   "metadata": {},
   "source": [
    "# 1. Merge Files - Merge all the 60 files for a person for a specific activity"
   ]
  },
  {
   "cell_type": "markdown",
   "metadata": {},
   "source": [
    "    - Total time = 5 mins [For each minute 12 segment, For 5 mins 60 segment]"
   ]
  },
  {
   "cell_type": "markdown",
   "metadata": {},
   "source": [
    "### A1"
   ]
  },
  {
   "cell_type": "code",
   "execution_count": 12,
   "metadata": {
    "scrolled": false
   },
   "outputs": [],
   "source": [
    "A1total_data = {}\n",
    "def A1merge_datafiles(action, person):\n",
    "    global A1total_data\n",
    "    index = int(person[1:len(person)])\n",
    "    for x in range(1,61):\n",
    "        if x == 1:\n",
    "            # To create an initial dataframe only once\n",
    "            s = 's0'+str(x)\n",
    "            A1total_data[index] = pd.read_csv(url+'/'+action+'/'+person+'/'+s+'.txt', sep=\",\", header=None)\n",
    "        elif x < 10:\n",
    "            s = 's0'+str(x)\n",
    "            patial_data = pd.read_csv(url+'/'+action+'/'+person+'/'+s+'.txt', sep=\",\", header=None)\n",
    "            A1total_data[index] =A1total_data[index].append(patial_data)\n",
    "        else:\n",
    "            s = 's'+str(x)\n",
    "            patial_data = pd.read_csv(url+'/'+action+'/'+person+'/'+s+'.txt', sep=\",\", header=None)\n",
    "            A1total_data[index] = A1total_data[index].append(patial_data)\n",
    "    \n",
    "    A1total_data[index].loc[:, 'Person'] = index\n",
    "#     A1total_data[index].loc[:, 'Activity'] = action\n",
    "    A1total_data[index].loc[:, 'Activity'] = 0\n",
    "    A1total_data[index].reset_index(drop=True, inplace=True)"
   ]
  },
  {
   "cell_type": "markdown",
   "metadata": {},
   "source": [
    "##### Combine All 60 Files Under Each User"
   ]
  },
  {
   "cell_type": "code",
   "execution_count": 13,
   "metadata": {},
   "outputs": [],
   "source": [
    "for i in range(1,9):\n",
    "    A1merge_datafiles(action[1],'p' + str(i))"
   ]
  },
  {
   "cell_type": "code",
   "execution_count": 14,
   "metadata": {},
   "outputs": [],
   "source": [
    "# A1total_data[7].head()\n",
    "# A1total_data[7].shape"
   ]
  },
  {
   "cell_type": "markdown",
   "metadata": {},
   "source": [
    "### A2"
   ]
  },
  {
   "cell_type": "code",
   "execution_count": 15,
   "metadata": {},
   "outputs": [],
   "source": [
    "A2total_data = {}\n",
    "def A2merge_datafiles(action, person):\n",
    "    global A2total_data\n",
    "    index = int(person[1:len(person)])\n",
    "    for x in range(1,61):\n",
    "        if x == 1:\n",
    "            # To create an initial dataframe only once\n",
    "            s = 's0'+str(x)\n",
    "            A2total_data[index] = pd.read_csv(url+'/'+action+'/'+person+'/'+s+'.txt', sep=\",\", header=None)\n",
    "        elif x < 10:\n",
    "            s = 's0'+str(x)\n",
    "            patial_data = pd.read_csv(url+'/'+action+'/'+person+'/'+s+'.txt', sep=\",\", header=None)\n",
    "            A2total_data[index] =A2total_data[index].append(patial_data)\n",
    "        else:\n",
    "            s = 's'+str(x)\n",
    "            patial_data = pd.read_csv(url+'/'+action+'/'+person+'/'+s+'.txt', sep=\",\", header=None)\n",
    "            A2total_data[index] = A2total_data[index].append(patial_data)\n",
    "            \n",
    "    A2total_data[index].loc[:, 'Person'] = index\n",
    "    A2total_data[index].loc[:, 'Activity'] = 1\n",
    "    A2total_data[index].reset_index(drop=True, inplace=True)"
   ]
  },
  {
   "cell_type": "code",
   "execution_count": 16,
   "metadata": {},
   "outputs": [],
   "source": [
    "for i in range(1,9):\n",
    "    A2merge_datafiles(action[2],'p' + str(i))"
   ]
  },
  {
   "cell_type": "code",
   "execution_count": 17,
   "metadata": {},
   "outputs": [],
   "source": [
    "# A2total_data[8].head()\n",
    "# A2total_data[8].shape"
   ]
  },
  {
   "cell_type": "markdown",
   "metadata": {},
   "source": [
    "### A3"
   ]
  },
  {
   "cell_type": "code",
   "execution_count": 18,
   "metadata": {},
   "outputs": [],
   "source": [
    "A3total_data = {}\n",
    "def A3merge_datafiles(action, person):\n",
    "    global A3total_data\n",
    "    index = int(person[1:len(person)])\n",
    "    for x in range(1,61):\n",
    "        if x == 1:\n",
    "            # To create an initial dataframe only once\n",
    "            s = 's0'+str(x)\n",
    "            A3total_data[index] = pd.read_csv(url+'/'+action+'/'+person+'/'+s+'.txt', sep=\",\", header=None)\n",
    "        elif x < 10:\n",
    "            s = 's0'+str(x)\n",
    "            patial_data = pd.read_csv(url+'/'+action+'/'+person+'/'+s+'.txt', sep=\",\", header=None)\n",
    "            A3total_data[index] =A3total_data[index].append(patial_data)\n",
    "        else:\n",
    "            s = 's'+str(x)\n",
    "            patial_data = pd.read_csv(url+'/'+action+'/'+person+'/'+s+'.txt', sep=\",\", header=None)\n",
    "            A3total_data[index] = A3total_data[index].append(patial_data)\n",
    "            \n",
    "    A3total_data[index].loc[:, 'Person'] = index\n",
    "    A3total_data[index].loc[:, 'Activity'] = 2\n",
    "    A3total_data[index].reset_index(drop=True, inplace=True)"
   ]
  },
  {
   "cell_type": "code",
   "execution_count": 19,
   "metadata": {},
   "outputs": [],
   "source": [
    "for i in range(1,9):\n",
    "    A3merge_datafiles(action[3],'p' + str(i))"
   ]
  },
  {
   "cell_type": "code",
   "execution_count": 20,
   "metadata": {},
   "outputs": [
    {
     "data": {
      "text/html": [
       "<div>\n",
       "<style scoped>\n",
       "    .dataframe tbody tr th:only-of-type {\n",
       "        vertical-align: middle;\n",
       "    }\n",
       "\n",
       "    .dataframe tbody tr th {\n",
       "        vertical-align: top;\n",
       "    }\n",
       "\n",
       "    .dataframe thead th {\n",
       "        text-align: right;\n",
       "    }\n",
       "</style>\n",
       "<table border=\"1\" class=\"dataframe\">\n",
       "  <thead>\n",
       "    <tr style=\"text-align: right;\">\n",
       "      <th></th>\n",
       "      <th>0</th>\n",
       "      <th>1</th>\n",
       "      <th>2</th>\n",
       "      <th>3</th>\n",
       "      <th>4</th>\n",
       "      <th>5</th>\n",
       "      <th>6</th>\n",
       "      <th>7</th>\n",
       "      <th>8</th>\n",
       "      <th>9</th>\n",
       "      <th>...</th>\n",
       "      <th>37</th>\n",
       "      <th>38</th>\n",
       "      <th>39</th>\n",
       "      <th>40</th>\n",
       "      <th>41</th>\n",
       "      <th>42</th>\n",
       "      <th>43</th>\n",
       "      <th>44</th>\n",
       "      <th>Person</th>\n",
       "      <th>Activity</th>\n",
       "    </tr>\n",
       "  </thead>\n",
       "  <tbody>\n",
       "    <tr>\n",
       "      <th>0</th>\n",
       "      <td>-4.8676</td>\n",
       "      <td>-0.48347</td>\n",
       "      <td>8.5751</td>\n",
       "      <td>0.008670</td>\n",
       "      <td>0.017324</td>\n",
       "      <td>0.000229</td>\n",
       "      <td>0.19523</td>\n",
       "      <td>0.53238</td>\n",
       "      <td>-0.72827</td>\n",
       "      <td>-0.60784</td>\n",
       "      <td>...</td>\n",
       "      <td>-9.7828</td>\n",
       "      <td>0.95060</td>\n",
       "      <td>0.004004</td>\n",
       "      <td>0.002933</td>\n",
       "      <td>-0.000466</td>\n",
       "      <td>0.14388</td>\n",
       "      <td>0.56498</td>\n",
       "      <td>-0.53191</td>\n",
       "      <td>1</td>\n",
       "      <td>2</td>\n",
       "    </tr>\n",
       "    <tr>\n",
       "      <th>1</th>\n",
       "      <td>-4.8527</td>\n",
       "      <td>-0.47624</td>\n",
       "      <td>8.5902</td>\n",
       "      <td>-0.000332</td>\n",
       "      <td>0.027230</td>\n",
       "      <td>-0.001647</td>\n",
       "      <td>0.19587</td>\n",
       "      <td>0.53077</td>\n",
       "      <td>-0.72635</td>\n",
       "      <td>-0.60314</td>\n",
       "      <td>...</td>\n",
       "      <td>-9.8125</td>\n",
       "      <td>0.94989</td>\n",
       "      <td>0.014034</td>\n",
       "      <td>0.001022</td>\n",
       "      <td>-0.008625</td>\n",
       "      <td>0.14330</td>\n",
       "      <td>0.56683</td>\n",
       "      <td>-0.53223</td>\n",
       "      <td>1</td>\n",
       "      <td>2</td>\n",
       "    </tr>\n",
       "    <tr>\n",
       "      <th>2</th>\n",
       "      <td>-4.8228</td>\n",
       "      <td>-0.46167</td>\n",
       "      <td>8.5905</td>\n",
       "      <td>-0.011188</td>\n",
       "      <td>0.019980</td>\n",
       "      <td>-0.014395</td>\n",
       "      <td>0.19529</td>\n",
       "      <td>0.53196</td>\n",
       "      <td>-0.72705</td>\n",
       "      <td>-0.61312</td>\n",
       "      <td>...</td>\n",
       "      <td>-9.7676</td>\n",
       "      <td>0.97939</td>\n",
       "      <td>-0.008470</td>\n",
       "      <td>0.008042</td>\n",
       "      <td>-0.012129</td>\n",
       "      <td>0.14461</td>\n",
       "      <td>0.56632</td>\n",
       "      <td>-0.53258</td>\n",
       "      <td>1</td>\n",
       "      <td>2</td>\n",
       "    </tr>\n",
       "    <tr>\n",
       "      <th>3</th>\n",
       "      <td>-4.8381</td>\n",
       "      <td>-0.49159</td>\n",
       "      <td>8.6946</td>\n",
       "      <td>0.004205</td>\n",
       "      <td>0.027159</td>\n",
       "      <td>-0.007106</td>\n",
       "      <td>0.19453</td>\n",
       "      <td>0.53272</td>\n",
       "      <td>-0.72628</td>\n",
       "      <td>-0.60561</td>\n",
       "      <td>...</td>\n",
       "      <td>-9.7825</td>\n",
       "      <td>0.94972</td>\n",
       "      <td>-0.001368</td>\n",
       "      <td>0.006458</td>\n",
       "      <td>-0.003119</td>\n",
       "      <td>0.14381</td>\n",
       "      <td>0.56790</td>\n",
       "      <td>-0.53237</td>\n",
       "      <td>1</td>\n",
       "      <td>2</td>\n",
       "    </tr>\n",
       "    <tr>\n",
       "      <th>4</th>\n",
       "      <td>-4.8229</td>\n",
       "      <td>-0.49118</td>\n",
       "      <td>8.5604</td>\n",
       "      <td>0.008713</td>\n",
       "      <td>0.024477</td>\n",
       "      <td>-0.001622</td>\n",
       "      <td>0.19503</td>\n",
       "      <td>0.53299</td>\n",
       "      <td>-0.72693</td>\n",
       "      <td>-0.60825</td>\n",
       "      <td>...</td>\n",
       "      <td>-9.7975</td>\n",
       "      <td>0.94993</td>\n",
       "      <td>-0.001401</td>\n",
       "      <td>0.002905</td>\n",
       "      <td>-0.001340</td>\n",
       "      <td>0.14356</td>\n",
       "      <td>0.56789</td>\n",
       "      <td>-0.53211</td>\n",
       "      <td>1</td>\n",
       "      <td>2</td>\n",
       "    </tr>\n",
       "  </tbody>\n",
       "</table>\n",
       "<p>5 rows × 47 columns</p>\n",
       "</div>"
      ],
      "text/plain": [
       "        0        1       2         3         4         5        6        7  \\\n",
       "0 -4.8676 -0.48347  8.5751  0.008670  0.017324  0.000229  0.19523  0.53238   \n",
       "1 -4.8527 -0.47624  8.5902 -0.000332  0.027230 -0.001647  0.19587  0.53077   \n",
       "2 -4.8228 -0.46167  8.5905 -0.011188  0.019980 -0.014395  0.19529  0.53196   \n",
       "3 -4.8381 -0.49159  8.6946  0.004205  0.027159 -0.007106  0.19453  0.53272   \n",
       "4 -4.8229 -0.49118  8.5604  0.008713  0.024477 -0.001622  0.19503  0.53299   \n",
       "\n",
       "         8        9  ...      37       38        39        40        41  \\\n",
       "0 -0.72827 -0.60784  ... -9.7828  0.95060  0.004004  0.002933 -0.000466   \n",
       "1 -0.72635 -0.60314  ... -9.8125  0.94989  0.014034  0.001022 -0.008625   \n",
       "2 -0.72705 -0.61312  ... -9.7676  0.97939 -0.008470  0.008042 -0.012129   \n",
       "3 -0.72628 -0.60561  ... -9.7825  0.94972 -0.001368  0.006458 -0.003119   \n",
       "4 -0.72693 -0.60825  ... -9.7975  0.94993 -0.001401  0.002905 -0.001340   \n",
       "\n",
       "        42       43       44  Person  Activity  \n",
       "0  0.14388  0.56498 -0.53191       1         2  \n",
       "1  0.14330  0.56683 -0.53223       1         2  \n",
       "2  0.14461  0.56632 -0.53258       1         2  \n",
       "3  0.14381  0.56790 -0.53237       1         2  \n",
       "4  0.14356  0.56789 -0.53211       1         2  \n",
       "\n",
       "[5 rows x 47 columns]"
      ]
     },
     "execution_count": 20,
     "metadata": {},
     "output_type": "execute_result"
    }
   ],
   "source": [
    "A3total_data[1].head()\n",
    "# A2total_data[8].shape"
   ]
  },
  {
   "cell_type": "markdown",
   "metadata": {},
   "source": [
    "### A4"
   ]
  },
  {
   "cell_type": "code",
   "execution_count": 21,
   "metadata": {},
   "outputs": [],
   "source": [
    "A4total_data = {}\n",
    "def A4merge_datafiles(action, person):\n",
    "    global A4total_data\n",
    "    index = int(person[1:len(person)])\n",
    "    for x in range(1,61):\n",
    "        if x == 1:\n",
    "            # To create an initial dataframe only once\n",
    "            s = 's0'+str(x)\n",
    "            A4total_data[index] = pd.read_csv(url+'/'+action+'/'+person+'/'+s+'.txt', sep=\",\", header=None)\n",
    "        elif x < 10:\n",
    "            s = 's0'+str(x)\n",
    "            patial_data = pd.read_csv(url+'/'+action+'/'+person+'/'+s+'.txt', sep=\",\", header=None)\n",
    "            A4total_data[index] =A4total_data[index].append(patial_data)\n",
    "        else:\n",
    "            s = 's'+str(x)\n",
    "            patial_data = pd.read_csv(url+'/'+action+'/'+person+'/'+s+'.txt', sep=\",\", header=None)\n",
    "            A4total_data[index] = A4total_data[index].append(patial_data)\n",
    "            \n",
    "    A4total_data[index].loc[:, 'Person'] = index\n",
    "    A4total_data[index].loc[:, 'Activity'] = 2\n",
    "    A4total_data[index].reset_index(drop=True, inplace=True)"
   ]
  },
  {
   "cell_type": "code",
   "execution_count": 22,
   "metadata": {},
   "outputs": [],
   "source": [
    "for i in range(1,9):\n",
    "    A4merge_datafiles(action[4],'p' + str(i))"
   ]
  },
  {
   "cell_type": "code",
   "execution_count": 23,
   "metadata": {},
   "outputs": [],
   "source": [
    "# for i in range(1,9):\n",
    "#     print(A4total_data[i].shape)\n",
    "#     print(A3total_data[i].head())"
   ]
  },
  {
   "cell_type": "markdown",
   "metadata": {},
   "source": [
    "### A5"
   ]
  },
  {
   "cell_type": "code",
   "execution_count": 24,
   "metadata": {},
   "outputs": [],
   "source": [
    "A5total_data = {}\n",
    "def A5merge_datafiles(action, person):\n",
    "    global A5total_data\n",
    "    index = int(person[1:len(person)])\n",
    "    for x in range(1,61):\n",
    "        if x == 1:\n",
    "            # To create an initial dataframe only once\n",
    "            s = 's0'+str(x)\n",
    "            A5total_data[index] = pd.read_csv(url+'/'+action+'/'+person+'/'+s+'.txt', sep=\",\", header=None)\n",
    "        elif x < 10:\n",
    "            s = 's0'+str(x)\n",
    "            patial_data = pd.read_csv(url+'/'+action+'/'+person+'/'+s+'.txt', sep=\",\", header=None)\n",
    "            A5total_data[index] =A5total_data[index].append(patial_data)\n",
    "        else:\n",
    "            s = 's'+str(x)\n",
    "            patial_data = pd.read_csv(url+'/'+action+'/'+person+'/'+s+'.txt', sep=\",\", header=None)\n",
    "            A5total_data[index] = A5total_data[index].append(patial_data)\n",
    "            \n",
    "    A5total_data[index].loc[:, 'Person'] = index\n",
    "    A5total_data[index].loc[:, 'Activity'] = 5\n",
    "    A5total_data[index].reset_index(drop=True, inplace=True)"
   ]
  },
  {
   "cell_type": "code",
   "execution_count": 25,
   "metadata": {},
   "outputs": [],
   "source": [
    "for i in range(1,9):\n",
    "    A5merge_datafiles(action[5],'p' + str(i))"
   ]
  },
  {
   "cell_type": "code",
   "execution_count": 26,
   "metadata": {},
   "outputs": [],
   "source": [
    "# for i in range(1,9):\n",
    "#     print(A5total_data[i].shape)\n",
    "#     print(A5total_data[i].head())"
   ]
  },
  {
   "cell_type": "markdown",
   "metadata": {},
   "source": [
    "### A6"
   ]
  },
  {
   "cell_type": "code",
   "execution_count": 27,
   "metadata": {},
   "outputs": [],
   "source": [
    "A6total_data = {}\n",
    "def A6merge_datafiles(action, person):\n",
    "    global A6total_data\n",
    "    index = int(person[1:len(person)])\n",
    "    for x in range(1,61):\n",
    "        if x == 1:\n",
    "            # To create an initial dataframe only once\n",
    "            s = 's0'+str(x)\n",
    "            A6total_data[index] = pd.read_csv(url+'/'+action+'/'+person+'/'+s+'.txt', sep=\",\", header=None)\n",
    "        elif x < 10:\n",
    "            s = 's0'+str(x)\n",
    "            patial_data = pd.read_csv(url+'/'+action+'/'+person+'/'+s+'.txt', sep=\",\", header=None)\n",
    "            A6total_data[index] =A6total_data[index].append(patial_data)\n",
    "        else:\n",
    "            s = 's'+str(x)\n",
    "            patial_data = pd.read_csv(url+'/'+action+'/'+person+'/'+s+'.txt', sep=\",\", header=None)\n",
    "            A6total_data[index] = A6total_data[index].append(patial_data)\n",
    "            \n",
    "    A6total_data[index].loc[:, 'Person'] = index\n",
    "    A6total_data[index].loc[:, 'Activity'] = 6\n",
    "    A6total_data[index].reset_index(drop=True, inplace=True)"
   ]
  },
  {
   "cell_type": "code",
   "execution_count": 28,
   "metadata": {},
   "outputs": [],
   "source": [
    "for i in range(1,9):\n",
    "    A6merge_datafiles(action[6],'p' + str(i))"
   ]
  },
  {
   "cell_type": "code",
   "execution_count": 29,
   "metadata": {},
   "outputs": [],
   "source": [
    "# for i in range(1,9):\n",
    "#     print(A6total_data[i].shape)\n",
    "#     print(A6total_data[i].head())"
   ]
  },
  {
   "cell_type": "markdown",
   "metadata": {},
   "source": [
    "### A9"
   ]
  },
  {
   "cell_type": "code",
   "execution_count": 30,
   "metadata": {},
   "outputs": [],
   "source": [
    "A9total_data = {}\n",
    "def A9merge_datafiles(action, person):\n",
    "    global A9total_data\n",
    "    index = int(person[1:len(person)])\n",
    "    for x in range(1,61):\n",
    "        if x == 1:\n",
    "            # To create an initial dataframe only once\n",
    "            s = 's0'+str(x)\n",
    "            A9total_data[index] = pd.read_csv(url+'/'+action+'/'+person+'/'+s+'.txt', sep=\",\", header=None)\n",
    "        elif x < 10:\n",
    "            s = 's0'+str(x)\n",
    "            patial_data = pd.read_csv(url+'/'+action+'/'+person+'/'+s+'.txt', sep=\",\", header=None)\n",
    "            A9total_data[index] =A9total_data[index].append(patial_data)\n",
    "        else:\n",
    "            s = 's'+str(x)\n",
    "            patial_data = pd.read_csv(url+'/'+action+'/'+person+'/'+s+'.txt', sep=\",\", header=None)\n",
    "            A9total_data[index] = A9total_data[index].append(patial_data)\n",
    "            \n",
    "    A9total_data[index].loc[:, 'Person'] = index\n",
    "    A9total_data[index].loc[:, 'Activity'] = 3\n",
    "    A9total_data[index].reset_index(drop=True, inplace=True)"
   ]
  },
  {
   "cell_type": "code",
   "execution_count": 31,
   "metadata": {},
   "outputs": [],
   "source": [
    "for i in range(1,9):\n",
    "    A9merge_datafiles(action[9],'p' + str(i))"
   ]
  },
  {
   "cell_type": "code",
   "execution_count": 32,
   "metadata": {},
   "outputs": [],
   "source": [
    "# for i in range(1,9):\n",
    "#     print(A9total_data[i].shape)\n",
    "#     print(A9total_data[i].head())"
   ]
  },
  {
   "cell_type": "markdown",
   "metadata": {},
   "source": [
    "### A12"
   ]
  },
  {
   "cell_type": "markdown",
   "metadata": {},
   "source": [
    "### Check the index value in this point"
   ]
  },
  {
   "cell_type": "code",
   "execution_count": 33,
   "metadata": {},
   "outputs": [],
   "source": [
    "A12total_data = {}\n",
    "def A12merge_datafiles(action, person):\n",
    "    global A12total_data\n",
    "    index = int(person[1:len(person)])\n",
    "    for x in range(1,61):\n",
    "        if x == 1:\n",
    "            # To create an initial dataframe only once\n",
    "            s = 's0'+str(x)\n",
    "            A12total_data[index] = pd.read_csv(url+'/'+action+'/'+person+'/'+s+'.txt', sep=\",\", header=None)\n",
    "        elif x < 10:\n",
    "            s = 's0'+str(x)\n",
    "            patial_data = pd.read_csv(url+'/'+action+'/'+person+'/'+s+'.txt', sep=\",\", header=None)\n",
    "            A12total_data[index] =A12total_data[index].append(patial_data)\n",
    "        else:\n",
    "            s = 's'+str(x)\n",
    "            patial_data = pd.read_csv(url+'/'+action+'/'+person+'/'+s+'.txt', sep=\",\", header=None)\n",
    "            A12total_data[index] = A12total_data[index].append(patial_data)\n",
    "            \n",
    "    A12total_data[index].loc[:, 'Person'] = index\n",
    "    A12total_data[index].loc[:, 'Activity'] = 4\n",
    "    A12total_data[index].reset_index(drop=True, inplace=True)"
   ]
  },
  {
   "cell_type": "code",
   "execution_count": 34,
   "metadata": {},
   "outputs": [],
   "source": [
    "for i in range(1,9):\n",
    "    A12merge_datafiles(action[12],'p' + str(i))"
   ]
  },
  {
   "cell_type": "code",
   "execution_count": 35,
   "metadata": {},
   "outputs": [],
   "source": [
    "# for i in range(1,9):\n",
    "#     print(A12total_data[i].shape)\n",
    "#     print(A12total_data[i].head())"
   ]
  },
  {
   "cell_type": "markdown",
   "metadata": {},
   "source": [
    "# 2. Combine All The Dataframes and Do Normalization, Standardization"
   ]
  },
  {
   "cell_type": "code",
   "execution_count": 36,
   "metadata": {},
   "outputs": [],
   "source": [
    "# A1_total_frame = pd.concat([A1total_data[1],A1total_data[2],A1total_data[3],A1total_data[4],A1total_data[5],A1total_data[6],A1total_data[7],A1total_data[8]], ignore_index=True)\n",
    "# A1_total_frame.reset_index(drop=True, inplace=True)\n",
    "\n",
    "# A2_total_frame = pd.concat([A2total_data[1],A2total_data[2],A2total_data[3],A2total_data[4],A2total_data[5],A2total_data[6],A2total_data[7],A2total_data[8]], ignore_index=True)\n",
    "# A2_total_frame.reset_index(drop=True, inplace=True)\n",
    "\n",
    "# A3_total_frame = pd.concat([A3total_data[1],A3total_data[2],A3total_data[3],A3total_data[4],A3total_data[5],A3total_data[6],A3total_data[7],A3total_data[8]], ignore_index=True)\n",
    "# A3_total_frame.reset_index(drop=True, inplace=True)\n",
    "\n",
    "# A4_total_frame = pd.concat([A4total_data[1],A4total_data[2],A4total_data[3],A4total_data[4],A4total_data[5],A4total_data[6],A4total_data[7],A4total_data[8]], ignore_index=True)\n",
    "# A4_total_frame.reset_index(drop=True, inplace=True)\n",
    "\n",
    "# A5_total_frame = pd.concat([A5total_data[1],A5total_data[2],A5total_data[3],A5total_data[4],A5total_data[5],A5total_data[6],A5total_data[7],A5total_data[8]], ignore_index=True)\n",
    "# A5_total_frame.reset_index(drop=True, inplace=True)\n",
    "\n",
    "# A6_total_frame = pd.concat([A6total_data[1],A6total_data[2],A6total_data[3],A6total_data[4],A6total_data[5],A6total_data[6],A6total_data[7],A6total_data[8]], ignore_index=True)\n",
    "# A6_total_frame.reset_index(drop=True, inplace=True)\n",
    "\n",
    "# A9_total_frame = pd.concat([A9total_data[1],A9total_data[2],A9total_data[3],A9total_data[4],A9total_data[5],A9total_data[6],A9total_data[7],A9total_data[8]], ignore_index=True)\n",
    "# A9_total_frame.reset_index(drop=True, inplace=True)\n",
    "\n",
    "# A12_total_frame = pd.concat([A12total_data[1],A12total_data[2],A12total_data[3],A12total_data[4],A12total_data[5],A12total_data[6],A12total_data[7],A12total_data[8]], ignore_index=True)\n",
    "# A12_total_frame.reset_index(drop=True, inplace=True)\n",
    "\n",
    "# Grad_Total_Frame = pd.concat([A1_total_frame, A2_total_frame, A3_total_frame, A4_total_frame, A5_total_frame, A6_total_frame, A9_total_frame, A12_total_frame], ignore_index=True)\n",
    "# Grad_Total_Frame.reset_index(drop=True, inplace=True)"
   ]
  },
  {
   "cell_type": "code",
   "execution_count": 37,
   "metadata": {},
   "outputs": [],
   "source": [
    "# Grad_Total_Frame.shape"
   ]
  },
  {
   "cell_type": "code",
   "execution_count": 38,
   "metadata": {},
   "outputs": [],
   "source": [
    "# Grad_Total_Frame.head()"
   ]
  },
  {
   "cell_type": "markdown",
   "metadata": {},
   "source": [
    "### Normalization"
   ]
  },
  {
   "cell_type": "code",
   "execution_count": 39,
   "metadata": {},
   "outputs": [],
   "source": [
    "# person_gt = np.array(Grad_Total_Frame['Person'])\n",
    "# activity_gt = np.array(Grad_Total_Frame['Activity'])"
   ]
  },
  {
   "cell_type": "code",
   "execution_count": 40,
   "metadata": {},
   "outputs": [],
   "source": [
    "# Grad_Total_Frame.drop(['Person','Activity'], axis=1, inplace=True)\n",
    "# column_name = Grad_Total_Frame.columns"
   ]
  },
  {
   "cell_type": "code",
   "execution_count": 41,
   "metadata": {},
   "outputs": [],
   "source": [
    "# min_max_scaler = preprocessing.MinMaxScaler()\n",
    "# np_scaled = min_max_scaler.fit_transform(Grad_Total_Frame)\n",
    "# refined_frame_normalized = pd.DataFrame(np_scaled)"
   ]
  },
  {
   "cell_type": "markdown",
   "metadata": {},
   "source": [
    "### Standadization"
   ]
  },
  {
   "cell_type": "code",
   "execution_count": 42,
   "metadata": {},
   "outputs": [],
   "source": [
    "# scaler = preprocessing.StandardScaler()\n",
    "# df_standardized = scaler.fit_transform(refined_frame_normalized)\n",
    "# refined_frame_standardized = pd.DataFrame(df_standardized, columns=column_name)"
   ]
  },
  {
   "cell_type": "code",
   "execution_count": 43,
   "metadata": {},
   "outputs": [],
   "source": [
    "# refined_frame_standardized[\"Person\"] = person_gt.copy()\n",
    "# refined_frame_standardized[\"Activity\"] = activity_gt.copy()"
   ]
  },
  {
   "cell_type": "code",
   "execution_count": 44,
   "metadata": {},
   "outputs": [],
   "source": [
    "# refined_frame_standardized.head()"
   ]
  },
  {
   "cell_type": "markdown",
   "metadata": {},
   "source": [
    "## 3. Extract Each Users Position-wise Data For All Activity, Combine and Save Them"
   ]
  },
  {
   "cell_type": "markdown",
   "metadata": {},
   "source": [
    "### A1"
   ]
  },
  {
   "cell_type": "markdown",
   "metadata": {},
   "source": [
    "##### Get Dataframe Name"
   ]
  },
  {
   "cell_type": "code",
   "execution_count": 45,
   "metadata": {},
   "outputs": [],
   "source": [
    "def get_df_name(df):\n",
    "    name =[x for x in globals() if globals()[x] is df][0]\n",
    "    return name"
   ]
  },
  {
   "cell_type": "markdown",
   "metadata": {},
   "source": [
    "##### Collection for each user\n",
    "    - A1user1: Activity A1, User 1. It contains the 5 sensor collected data positioned at 5 different positions."
   ]
  },
  {
   "cell_type": "code",
   "execution_count": 46,
   "metadata": {},
   "outputs": [],
   "source": [
    "A1user1 = {}\n",
    "A1user2 = {}\n",
    "A1user3 = {}\n",
    "A1user4 = {}\n",
    "A1user5 = {}\n",
    "A1user6 = {}\n",
    "A1user7 = {}\n",
    "A1user8 = {}"
   ]
  },
  {
   "cell_type": "markdown",
   "metadata": {},
   "source": [
    "##### Function: Extract Different Body Positions Data For Each User For a Specific Activity\n",
    "    - Based on Person and Activity information"
   ]
  },
  {
   "cell_type": "code",
   "execution_count": 47,
   "metadata": {},
   "outputs": [
    {
     "data": {
      "text/html": [
       "<div>\n",
       "<style scoped>\n",
       "    .dataframe tbody tr th:only-of-type {\n",
       "        vertical-align: middle;\n",
       "    }\n",
       "\n",
       "    .dataframe tbody tr th {\n",
       "        vertical-align: top;\n",
       "    }\n",
       "\n",
       "    .dataframe thead th {\n",
       "        text-align: right;\n",
       "    }\n",
       "</style>\n",
       "<table border=\"1\" class=\"dataframe\">\n",
       "  <thead>\n",
       "    <tr style=\"text-align: right;\">\n",
       "      <th></th>\n",
       "      <th>0</th>\n",
       "      <th>1</th>\n",
       "      <th>2</th>\n",
       "      <th>3</th>\n",
       "      <th>4</th>\n",
       "      <th>5</th>\n",
       "      <th>6</th>\n",
       "      <th>7</th>\n",
       "      <th>8</th>\n",
       "      <th>9</th>\n",
       "      <th>...</th>\n",
       "      <th>37</th>\n",
       "      <th>38</th>\n",
       "      <th>39</th>\n",
       "      <th>40</th>\n",
       "      <th>41</th>\n",
       "      <th>42</th>\n",
       "      <th>43</th>\n",
       "      <th>44</th>\n",
       "      <th>Person</th>\n",
       "      <th>Activity</th>\n",
       "    </tr>\n",
       "  </thead>\n",
       "  <tbody>\n",
       "    <tr>\n",
       "      <th>7495</th>\n",
       "      <td>7.8472</td>\n",
       "      <td>1.6377</td>\n",
       "      <td>5.7124</td>\n",
       "      <td>-0.006153</td>\n",
       "      <td>0.043142</td>\n",
       "      <td>-0.015909</td>\n",
       "      <td>-0.78780</td>\n",
       "      <td>-0.086782</td>\n",
       "      <td>0.12829</td>\n",
       "      <td>0.005076</td>\n",
       "      <td>...</td>\n",
       "      <td>-9.1217</td>\n",
       "      <td>2.5923</td>\n",
       "      <td>-0.005807</td>\n",
       "      <td>0.006692</td>\n",
       "      <td>0.000440</td>\n",
       "      <td>0.73578</td>\n",
       "      <td>0.30603</td>\n",
       "      <td>-0.052899</td>\n",
       "      <td>1</td>\n",
       "      <td>0</td>\n",
       "    </tr>\n",
       "    <tr>\n",
       "      <th>7496</th>\n",
       "      <td>7.8324</td>\n",
       "      <td>1.6232</td>\n",
       "      <td>5.6674</td>\n",
       "      <td>0.002754</td>\n",
       "      <td>0.023532</td>\n",
       "      <td>-0.001225</td>\n",
       "      <td>-0.78812</td>\n",
       "      <td>-0.087471</td>\n",
       "      <td>0.12978</td>\n",
       "      <td>0.005096</td>\n",
       "      <td>...</td>\n",
       "      <td>-9.0770</td>\n",
       "      <td>2.5927</td>\n",
       "      <td>-0.005807</td>\n",
       "      <td>-0.009519</td>\n",
       "      <td>-0.003295</td>\n",
       "      <td>0.73758</td>\n",
       "      <td>0.30551</td>\n",
       "      <td>-0.052294</td>\n",
       "      <td>1</td>\n",
       "      <td>0</td>\n",
       "    </tr>\n",
       "    <tr>\n",
       "      <th>7497</th>\n",
       "      <td>7.8473</td>\n",
       "      <td>1.6378</td>\n",
       "      <td>5.6825</td>\n",
       "      <td>0.010872</td>\n",
       "      <td>0.019026</td>\n",
       "      <td>0.000632</td>\n",
       "      <td>-0.78893</td>\n",
       "      <td>-0.087006</td>\n",
       "      <td>0.12731</td>\n",
       "      <td>-0.004781</td>\n",
       "      <td>...</td>\n",
       "      <td>-9.0919</td>\n",
       "      <td>2.6073</td>\n",
       "      <td>-0.002184</td>\n",
       "      <td>0.008478</td>\n",
       "      <td>-0.000463</td>\n",
       "      <td>0.73706</td>\n",
       "      <td>0.30524</td>\n",
       "      <td>-0.052172</td>\n",
       "      <td>1</td>\n",
       "      <td>0</td>\n",
       "    </tr>\n",
       "    <tr>\n",
       "      <th>7498</th>\n",
       "      <td>7.8548</td>\n",
       "      <td>1.6379</td>\n",
       "      <td>5.6527</td>\n",
       "      <td>0.000977</td>\n",
       "      <td>0.034372</td>\n",
       "      <td>0.004200</td>\n",
       "      <td>-0.78820</td>\n",
       "      <td>-0.086781</td>\n",
       "      <td>0.12842</td>\n",
       "      <td>0.010015</td>\n",
       "      <td>...</td>\n",
       "      <td>-9.0919</td>\n",
       "      <td>2.6074</td>\n",
       "      <td>-0.002089</td>\n",
       "      <td>-0.000671</td>\n",
       "      <td>-0.009573</td>\n",
       "      <td>0.73759</td>\n",
       "      <td>0.30445</td>\n",
       "      <td>-0.052408</td>\n",
       "      <td>1</td>\n",
       "      <td>0</td>\n",
       "    </tr>\n",
       "    <tr>\n",
       "      <th>7499</th>\n",
       "      <td>7.8472</td>\n",
       "      <td>1.6230</td>\n",
       "      <td>5.6974</td>\n",
       "      <td>0.011844</td>\n",
       "      <td>0.035202</td>\n",
       "      <td>0.004212</td>\n",
       "      <td>-0.78962</td>\n",
       "      <td>-0.088036</td>\n",
       "      <td>0.12701</td>\n",
       "      <td>0.005041</td>\n",
       "      <td>...</td>\n",
       "      <td>-9.1143</td>\n",
       "      <td>2.5923</td>\n",
       "      <td>-0.016762</td>\n",
       "      <td>-0.010267</td>\n",
       "      <td>0.005780</td>\n",
       "      <td>0.73804</td>\n",
       "      <td>0.30526</td>\n",
       "      <td>-0.053348</td>\n",
       "      <td>1</td>\n",
       "      <td>0</td>\n",
       "    </tr>\n",
       "  </tbody>\n",
       "</table>\n",
       "<p>5 rows × 47 columns</p>\n",
       "</div>"
      ],
      "text/plain": [
       "           0       1       2         3         4         5        6         7  \\\n",
       "7495  7.8472  1.6377  5.7124 -0.006153  0.043142 -0.015909 -0.78780 -0.086782   \n",
       "7496  7.8324  1.6232  5.6674  0.002754  0.023532 -0.001225 -0.78812 -0.087471   \n",
       "7497  7.8473  1.6378  5.6825  0.010872  0.019026  0.000632 -0.78893 -0.087006   \n",
       "7498  7.8548  1.6379  5.6527  0.000977  0.034372  0.004200 -0.78820 -0.086781   \n",
       "7499  7.8472  1.6230  5.6974  0.011844  0.035202  0.004212 -0.78962 -0.088036   \n",
       "\n",
       "            8         9  ...      37      38        39        40        41  \\\n",
       "7495  0.12829  0.005076  ... -9.1217  2.5923 -0.005807  0.006692  0.000440   \n",
       "7496  0.12978  0.005096  ... -9.0770  2.5927 -0.005807 -0.009519 -0.003295   \n",
       "7497  0.12731 -0.004781  ... -9.0919  2.6073 -0.002184  0.008478 -0.000463   \n",
       "7498  0.12842  0.010015  ... -9.0919  2.6074 -0.002089 -0.000671 -0.009573   \n",
       "7499  0.12701  0.005041  ... -9.1143  2.5923 -0.016762 -0.010267  0.005780   \n",
       "\n",
       "           42       43        44  Person  Activity  \n",
       "7495  0.73578  0.30603 -0.052899       1         0  \n",
       "7496  0.73758  0.30551 -0.052294       1         0  \n",
       "7497  0.73706  0.30524 -0.052172       1         0  \n",
       "7498  0.73759  0.30445 -0.052408       1         0  \n",
       "7499  0.73804  0.30526 -0.053348       1         0  \n",
       "\n",
       "[5 rows x 47 columns]"
      ]
     },
     "execution_count": 47,
     "metadata": {},
     "output_type": "execute_result"
    }
   ],
   "source": [
    "A1total_data[1].tail()"
   ]
  },
  {
   "cell_type": "code",
   "execution_count": 48,
   "metadata": {},
   "outputs": [],
   "source": [
    "def A1user_position_data(list_frames):\n",
    "    string = get_df_name(list_frames)\n",
    "    index = int(string[-1:])\n",
    "#     active_frame = refined_frame_standardized[(refined_frame_standardized[\"Person\"] == index) & (refined_frame_standardized[\"Activity\"] == activity)].copy()\n",
    "    for part in range(0,5):\n",
    "#             list_frames[part] = A1total_data[body_part_index[part]].copy()\n",
    "            list_frames[part] = A1total_data[index][body_part_index[part]].copy()\n",
    "            list_frames[part].columns = COLUMN_NAME\n",
    "            list_frames[part].loc[:, 'Position'] = body_part[part]\n",
    "            list_frames[part].reset_index(drop=True, inplace=True)"
   ]
  },
  {
   "cell_type": "code",
   "execution_count": 49,
   "metadata": {},
   "outputs": [],
   "source": [
    "# A1total_data[1].head()"
   ]
  },
  {
   "cell_type": "code",
   "execution_count": 50,
   "metadata": {},
   "outputs": [],
   "source": [
    "A1user_position_data(A1user1)\n",
    "A1user_position_data(A1user2)\n",
    "A1user_position_data(A1user3)\n",
    "A1user_position_data(A1user4)\n",
    "A1user_position_data(A1user5)\n",
    "A1user_position_data(A1user6)\n",
    "A1user_position_data(A1user7)\n",
    "A1user_position_data(A1user8)"
   ]
  },
  {
   "cell_type": "code",
   "execution_count": 51,
   "metadata": {},
   "outputs": [],
   "source": [
    "# for i in range(0,5):\n",
    "#     print(A1user8[i].head())"
   ]
  },
  {
   "cell_type": "markdown",
   "metadata": {},
   "source": [
    "### A2"
   ]
  },
  {
   "cell_type": "code",
   "execution_count": 52,
   "metadata": {},
   "outputs": [],
   "source": [
    "A2user1 = {}\n",
    "A2user2 = {}\n",
    "A2user3 = {}\n",
    "A2user4 = {}\n",
    "A2user5 = {}\n",
    "A2user6 = {}\n",
    "A2user7 = {}\n",
    "A2user8 = {}"
   ]
  },
  {
   "cell_type": "code",
   "execution_count": 53,
   "metadata": {},
   "outputs": [],
   "source": [
    "def A2user_position_data(list_frames):\n",
    "    string = get_df_name(list_frames)\n",
    "    index = int(string[6:len(string)])\n",
    "#     active_frame = refined_frame_standardized[(refined_frame_standardized[\"Person\"] == index) & (refined_frame_standardized[\"Activity\"] == activity)].copy()\n",
    "    for part in range(0,5):\n",
    "#             list_frames[part] = active_frame[body_part_index[part]].copy()\n",
    "            list_frames[part] = A2total_data[index][body_part_index[part]].copy()\n",
    "            list_frames[part].columns = COLUMN_NAME\n",
    "            list_frames[part].loc[:, 'Position'] = body_part[part]\n",
    "            list_frames[part].reset_index(drop=True, inplace=True)"
   ]
  },
  {
   "cell_type": "code",
   "execution_count": 54,
   "metadata": {},
   "outputs": [],
   "source": [
    "A2user_position_data(A2user1)\n",
    "A2user_position_data(A2user2)\n",
    "A2user_position_data(A2user3)\n",
    "A2user_position_data(A2user4)\n",
    "A2user_position_data(A2user5)\n",
    "A2user_position_data(A2user6)\n",
    "A2user_position_data(A2user7)\n",
    "A2user_position_data(A2user8)"
   ]
  },
  {
   "cell_type": "code",
   "execution_count": 55,
   "metadata": {},
   "outputs": [],
   "source": [
    "# for i in range(0,5):\n",
    "#     print(A2user1[i].head())"
   ]
  },
  {
   "cell_type": "markdown",
   "metadata": {},
   "source": [
    "### A3"
   ]
  },
  {
   "cell_type": "code",
   "execution_count": 56,
   "metadata": {},
   "outputs": [],
   "source": [
    "A3user1 = {}\n",
    "A3user2 = {}\n",
    "A3user3 = {}\n",
    "A3user4 = {}\n",
    "A3user5 = {}\n",
    "A3user6 = {}\n",
    "A3user7 = {}\n",
    "A3user8 = {}"
   ]
  },
  {
   "cell_type": "code",
   "execution_count": 57,
   "metadata": {},
   "outputs": [],
   "source": [
    "# A3total_data[1].head()"
   ]
  },
  {
   "cell_type": "code",
   "execution_count": 58,
   "metadata": {},
   "outputs": [],
   "source": [
    "def A3user_position_data(list_frames):\n",
    "    string = get_df_name(list_frames)\n",
    "    index = int(string[-1:])\n",
    "#     active_frame = refined_frame_standardized[(refined_frame_standardized[\"Person\"] == index) & (refined_frame_standardized[\"Activity\"] == activity)].copy()\n",
    "    for part in range(0,5):\n",
    "#             list_frames[part] = active_frame[body_part_index[part]].copy()\n",
    "            list_frames[part] = A3total_data[index][body_part_index[part]].copy()\n",
    "            list_frames[part].columns = COLUMN_NAME\n",
    "            list_frames[part].loc[:, 'Position'] = body_part[part]\n",
    "            list_frames[part].reset_index(drop=True, inplace=True)"
   ]
  },
  {
   "cell_type": "code",
   "execution_count": 59,
   "metadata": {},
   "outputs": [],
   "source": [
    "A3user_position_data(A3user1)\n",
    "A3user_position_data(A3user2)\n",
    "A3user_position_data(A3user3)\n",
    "A3user_position_data(A3user4)\n",
    "A3user_position_data(A3user5)\n",
    "A3user_position_data(A3user6)\n",
    "A3user_position_data(A3user7)\n",
    "A3user_position_data(A3user8)"
   ]
  },
  {
   "cell_type": "code",
   "execution_count": 60,
   "metadata": {},
   "outputs": [],
   "source": [
    "# for i in range(0,5):\n",
    "#     print(A3user8[i].head())"
   ]
  },
  {
   "cell_type": "markdown",
   "metadata": {},
   "source": [
    "### A4"
   ]
  },
  {
   "cell_type": "code",
   "execution_count": 61,
   "metadata": {},
   "outputs": [],
   "source": [
    "A4user1 = {}\n",
    "A4user2 = {}\n",
    "A4user3 = {}\n",
    "A4user4 = {}\n",
    "A4user5 = {}\n",
    "A4user6 = {}\n",
    "A4user7 = {}\n",
    "A4user8 = {}"
   ]
  },
  {
   "cell_type": "code",
   "execution_count": 62,
   "metadata": {},
   "outputs": [],
   "source": [
    "def A4user_position_data(list_frames):\n",
    "    string = get_df_name(list_frames)\n",
    "    index = int(string[-1:])\n",
    "#     active_frame = refined_frame_standardized[(refined_frame_standardized[\"Person\"] == index) & (refined_frame_standardized[\"Activity\"] == activity)].copy()\n",
    "    for part in range(0,5):\n",
    "#             list_frames[part] = active_frame[body_part_index[part]].copy()\n",
    "            list_frames[part] = A4total_data[index][body_part_index[part]].copy()\n",
    "            list_frames[part].columns = COLUMN_NAME\n",
    "            list_frames[part].loc[:, 'Position'] = body_part[part]\n",
    "            list_frames[part].reset_index(drop=True, inplace=True)"
   ]
  },
  {
   "cell_type": "code",
   "execution_count": 63,
   "metadata": {},
   "outputs": [],
   "source": [
    "A4user_position_data(A4user1)\n",
    "A4user_position_data(A4user2)\n",
    "A4user_position_data(A4user3)\n",
    "A4user_position_data(A4user4)\n",
    "A4user_position_data(A4user5)\n",
    "A4user_position_data(A4user6)\n",
    "A4user_position_data(A4user7)\n",
    "A4user_position_data(A4user8)"
   ]
  },
  {
   "cell_type": "code",
   "execution_count": 64,
   "metadata": {},
   "outputs": [],
   "source": [
    "# for i in range(0,5):\n",
    "#     print(A4user8[i].head())"
   ]
  },
  {
   "cell_type": "markdown",
   "metadata": {},
   "source": [
    "### A5"
   ]
  },
  {
   "cell_type": "code",
   "execution_count": 65,
   "metadata": {},
   "outputs": [],
   "source": [
    "A5user1 = {}\n",
    "A5user2 = {}\n",
    "A5user3 = {}\n",
    "A5user4 = {}\n",
    "A5user5 = {}\n",
    "A5user6 = {}\n",
    "A5user7 = {}\n",
    "A5user8 = {}"
   ]
  },
  {
   "cell_type": "code",
   "execution_count": 66,
   "metadata": {},
   "outputs": [],
   "source": [
    "def A5user_position_data(list_frames):\n",
    "    string = get_df_name(list_frames)\n",
    "    index = int(string[-1:])\n",
    "#     active_frame = refined_frame_standardized[(refined_frame_standardized[\"Person\"] == index) & (refined_frame_standardized[\"Activity\"] == activity)].copy()\n",
    "    for part in range(0,5):\n",
    "#             list_frames[part] = active_frame[body_part_index[part]].copy()\n",
    "            list_frames[part] = A5total_data[index][body_part_index[part]].copy()\n",
    "            list_frames[part].columns = COLUMN_NAME\n",
    "            list_frames[part].loc[:, 'Position'] = body_part[part]\n",
    "            list_frames[part].reset_index(drop=True, inplace=True)"
   ]
  },
  {
   "cell_type": "code",
   "execution_count": 67,
   "metadata": {},
   "outputs": [],
   "source": [
    "A5user_position_data(A5user1)\n",
    "A5user_position_data(A5user2)\n",
    "A5user_position_data(A5user3)\n",
    "A5user_position_data(A5user4)\n",
    "A5user_position_data(A5user5)\n",
    "A5user_position_data(A5user6)\n",
    "A5user_position_data(A5user7)\n",
    "A5user_position_data(A5user8)"
   ]
  },
  {
   "cell_type": "code",
   "execution_count": 68,
   "metadata": {},
   "outputs": [],
   "source": [
    "# for i in range(0,5):\n",
    "#     print(A5user8[i].head())"
   ]
  },
  {
   "cell_type": "markdown",
   "metadata": {},
   "source": [
    "### A6"
   ]
  },
  {
   "cell_type": "code",
   "execution_count": 69,
   "metadata": {},
   "outputs": [],
   "source": [
    "A6user1 = {}\n",
    "A6user2 = {}\n",
    "A6user3 = {}\n",
    "A6user4 = {}\n",
    "A6user5 = {}\n",
    "A6user6 = {}\n",
    "A6user7 = {}\n",
    "A6user8 = {}"
   ]
  },
  {
   "cell_type": "code",
   "execution_count": 70,
   "metadata": {},
   "outputs": [],
   "source": [
    "def A6user_position_data(list_frames):\n",
    "    string = get_df_name(list_frames)\n",
    "    index = int(string[-1:])\n",
    "#     active_frame = refined_frame_standardized[(refined_frame_standardized[\"Person\"] == index) & (refined_frame_standardized[\"Activity\"] == activity)].copy()\n",
    "    for part in range(0,5):\n",
    "#             list_frames[part] = active_frame[body_part_index[part]].copy()\n",
    "            list_frames[part] = A6total_data[index][body_part_index[part]].copy()\n",
    "            list_frames[part].columns = COLUMN_NAME\n",
    "            list_frames[part].loc[:, 'Position'] = body_part[part]\n",
    "            list_frames[part].reset_index(drop=True, inplace=True)"
   ]
  },
  {
   "cell_type": "code",
   "execution_count": 71,
   "metadata": {},
   "outputs": [],
   "source": [
    "A6user_position_data(A6user1)\n",
    "A6user_position_data(A6user2)\n",
    "A6user_position_data(A6user3)\n",
    "A6user_position_data(A6user4)\n",
    "A6user_position_data(A6user5)\n",
    "A6user_position_data(A6user6)\n",
    "A6user_position_data(A6user7)\n",
    "A6user_position_data(A6user8)"
   ]
  },
  {
   "cell_type": "code",
   "execution_count": 72,
   "metadata": {},
   "outputs": [],
   "source": [
    "# for i in range(0,5):\n",
    "#     print(A6user8[i].head())"
   ]
  },
  {
   "cell_type": "markdown",
   "metadata": {},
   "source": [
    "### A9"
   ]
  },
  {
   "cell_type": "code",
   "execution_count": 73,
   "metadata": {},
   "outputs": [],
   "source": [
    "A9user1 = {}\n",
    "A9user2 = {}\n",
    "A9user3 = {}\n",
    "A9user4 = {}\n",
    "A9user5 = {}\n",
    "A9user6 = {}\n",
    "A9user7 = {}\n",
    "A9user8 = {}"
   ]
  },
  {
   "cell_type": "code",
   "execution_count": 74,
   "metadata": {},
   "outputs": [],
   "source": [
    "def A9user_position_data(list_frames):\n",
    "    string = get_df_name(list_frames)\n",
    "    index = int(string[6:len(string)])\n",
    "#     active_frame = refined_frame_standardized[(refined_frame_standardized[\"Person\"] == index) & (refined_frame_standardized[\"Activity\"] == activity)].copy()\n",
    "    for part in range(0,5):\n",
    "#             list_frames[part] = active_frame[body_part_index[part]].copy()\n",
    "            list_frames[part] = A9total_data[index][body_part_index[part]].copy()\n",
    "            list_frames[part].columns = COLUMN_NAME\n",
    "            list_frames[part].loc[:, 'Position'] = body_part[part]\n",
    "            list_frames[part].reset_index(drop=True, inplace=True)"
   ]
  },
  {
   "cell_type": "code",
   "execution_count": 75,
   "metadata": {},
   "outputs": [],
   "source": [
    "A9user_position_data(A9user1)\n",
    "A9user_position_data(A9user2)\n",
    "A9user_position_data(A9user3)\n",
    "A9user_position_data(A9user4)\n",
    "A9user_position_data(A9user5)\n",
    "A9user_position_data(A9user6)\n",
    "A9user_position_data(A9user7)\n",
    "A9user_position_data(A9user8)"
   ]
  },
  {
   "cell_type": "code",
   "execution_count": 76,
   "metadata": {},
   "outputs": [],
   "source": [
    "# for i in range(0,5):\n",
    "#     print(A9user8[i].head())"
   ]
  },
  {
   "cell_type": "markdown",
   "metadata": {},
   "source": [
    "### A12"
   ]
  },
  {
   "cell_type": "code",
   "execution_count": 77,
   "metadata": {},
   "outputs": [],
   "source": [
    "A12user1 = {}\n",
    "A12user2 = {}\n",
    "A12user3 = {}\n",
    "A12user4 = {}\n",
    "A12user5 = {}\n",
    "A12user6 = {}\n",
    "A12user7 = {}\n",
    "A12user8 = {}"
   ]
  },
  {
   "cell_type": "code",
   "execution_count": 78,
   "metadata": {},
   "outputs": [],
   "source": [
    "def A12user_position_data(list_frames):\n",
    "    string = get_df_name(list_frames)\n",
    "    index = int(string[-1:])\n",
    "#     active_frame = refined_frame_standardized[(refined_frame_standardized[\"Person\"] == index) & (refined_frame_standardized[\"Activity\"] == activity)].copy()\n",
    "    for part in range(0,5):\n",
    "#             list_frames[part] = active_frame[body_part_index[part]].copy()\n",
    "            list_frames[part] = A12total_data[index][body_part_index[part]].copy()\n",
    "            list_frames[part].columns = COLUMN_NAME\n",
    "            list_frames[part].loc[:, 'Position'] = body_part[part]\n",
    "            list_frames[part].reset_index(drop=True, inplace=True)"
   ]
  },
  {
   "cell_type": "code",
   "execution_count": 79,
   "metadata": {},
   "outputs": [],
   "source": [
    "A12user_position_data(A12user1)\n",
    "A12user_position_data(A12user2)\n",
    "A12user_position_data(A12user3)\n",
    "A12user_position_data(A12user4)\n",
    "A12user_position_data(A12user5)\n",
    "A12user_position_data(A12user6)\n",
    "A12user_position_data(A12user7)\n",
    "A12user_position_data(A12user8)"
   ]
  },
  {
   "cell_type": "code",
   "execution_count": 80,
   "metadata": {},
   "outputs": [],
   "source": [
    "# for i in range(0,5):\n",
    "#     print(A12user8[i].head())"
   ]
  },
  {
   "cell_type": "markdown",
   "metadata": {},
   "source": [
    "## 4. Dataset Visualization\n",
    "    - 0:Torso\n",
    "    - 1:Right Arm\n",
    "    - 2:Left Arm\n",
    "    - 3:Right Leg\n",
    "    - 4:Left Leg"
   ]
  },
  {
   "cell_type": "code",
   "execution_count": 81,
   "metadata": {},
   "outputs": [],
   "source": [
    "def plot_activity(df, activity, position, i=1000):\n",
    "    data = df[df['Activity'] == activity][['AccX', 'AccY','AccZ']][:i]\n",
    "        \n",
    "    axis = data.plot(subplots=True, figsize=(16, 12), title=position)\n",
    "    for ax in axis:\n",
    "        ax.legend(loc='lower left', bbox_to_anchor=(1.0, 0.5))"
   ]
  },
  {
   "cell_type": "markdown",
   "metadata": {},
   "source": [
    "##### A1 Visualization\n",
    "    - Visualization of accelerometer data of user 1\n",
    "    - For activity A1 in 5 different positions"
   ]
  },
  {
   "cell_type": "code",
   "execution_count": 82,
   "metadata": {
    "scrolled": true
   },
   "outputs": [],
   "source": [
    "# plot_activity(A1user1[0], 0, body_part[0])\n",
    "# plot_activity(A1user1[1], 0, body_part[1])\n",
    "# plot_activity(A1user1[2], 0, body_part[2])\n",
    "# plot_activity(A1user1[3], 0, body_part[3])\n",
    "# plot_activity(A1user1[4], 0, body_part[4])"
   ]
  },
  {
   "cell_type": "markdown",
   "metadata": {},
   "source": [
    "##### A2 Visualization"
   ]
  },
  {
   "cell_type": "code",
   "execution_count": 83,
   "metadata": {},
   "outputs": [],
   "source": [
    "# plot_activity(A2user1[0], 1, body_part[0])\n",
    "# plot_activity(A2user1[1], 1, body_part[1])\n",
    "# plot_activity(A2user1[2], 1, body_part[2])\n",
    "# plot_activity(A2user1[3], 1, body_part[3])\n",
    "# plot_activity(A2user1[4], 1, body_part[4])"
   ]
  },
  {
   "cell_type": "markdown",
   "metadata": {},
   "source": [
    "##### A3 Visualization"
   ]
  },
  {
   "cell_type": "code",
   "execution_count": 84,
   "metadata": {},
   "outputs": [],
   "source": [
    "# plot_activity(A3user1[0], 2, body_part[0])\n",
    "# plot_activity(A3user1[1], 2, body_part[1])\n",
    "# plot_activity(A3user1[2], 2, body_part[2])\n",
    "# plot_activity(A3user1[3], 2, body_part[3])\n",
    "# plot_activity(A3user1[4], 2, body_part[4])"
   ]
  },
  {
   "cell_type": "markdown",
   "metadata": {},
   "source": [
    "##### A4 Visualization"
   ]
  },
  {
   "cell_type": "code",
   "execution_count": 85,
   "metadata": {
    "scrolled": true
   },
   "outputs": [],
   "source": [
    "# plot_activity(A4user1[0], 2, body_part[0])\n",
    "# plot_activity(A4user1[1], 2, body_part[1])\n",
    "# plot_activity(A4user1[2], 2, body_part[2])\n",
    "# plot_activity(A4user1[3], 2, body_part[3])\n",
    "# plot_activity(A4user1[4], 2, body_part[4])"
   ]
  },
  {
   "cell_type": "markdown",
   "metadata": {},
   "source": [
    "##### A5 Visualization"
   ]
  },
  {
   "cell_type": "code",
   "execution_count": 86,
   "metadata": {},
   "outputs": [],
   "source": [
    "# plot_activity(A5user1[0], 5, body_part[0])\n",
    "# plot_activity(A5user1[1], 5, body_part[1])\n",
    "# plot_activity(A5user1[2], 5, body_part[2])\n",
    "# plot_activity(A5user1[3], 5, body_part[3])\n",
    "# plot_activity(A5user1[4], 5, body_part[4])"
   ]
  },
  {
   "cell_type": "markdown",
   "metadata": {},
   "source": [
    "##### A6 Visualization"
   ]
  },
  {
   "cell_type": "code",
   "execution_count": 87,
   "metadata": {},
   "outputs": [],
   "source": [
    "# plot_activity(A6user1[0], 6, body_part[0])\n",
    "# plot_activity(A6user1[1], 6, body_part[1])\n",
    "# plot_activity(A6user1[2], 6, body_part[2])\n",
    "# plot_activity(A6user1[3], 6, body_part[3])\n",
    "# plot_activity(A6user1[4], 6, body_part[4])"
   ]
  },
  {
   "cell_type": "markdown",
   "metadata": {},
   "source": [
    "##### A9 Visualization"
   ]
  },
  {
   "cell_type": "code",
   "execution_count": 88,
   "metadata": {},
   "outputs": [],
   "source": [
    "# plot_activity(A9user1[0], 3, body_part[0])\n",
    "# plot_activity(A9user1[1], 3, body_part[1])\n",
    "# plot_activity(A9user1[2], 3, body_part[2])\n",
    "# plot_activity(A9user1[3], 3, body_part[3])\n",
    "# plot_activity(A9user1[4], 3, body_part[4])"
   ]
  },
  {
   "cell_type": "markdown",
   "metadata": {},
   "source": [
    "##### A12 Visualization"
   ]
  },
  {
   "cell_type": "code",
   "execution_count": 89,
   "metadata": {},
   "outputs": [],
   "source": [
    "# plot_activity(A12user1[0], 4, body_part[0])\n",
    "# plot_activity(A12user1[1], 4, body_part[1])\n",
    "# plot_activity(A12user1[2], 4, body_part[2])\n",
    "# plot_activity(A12user1[3], 4, body_part[3])\n",
    "# plot_activity(A12user1[4], 4, body_part[4])"
   ]
  },
  {
   "cell_type": "markdown",
   "metadata": {},
   "source": [
    "# 5. Calculate the magnitude to reduce the number of dimentions"
   ]
  },
  {
   "cell_type": "code",
   "execution_count": 90,
   "metadata": {},
   "outputs": [],
   "source": [
    "def magnitude(df):\n",
    "    ax2 = df['AccX']**2\n",
    "    ay2 = df['AccY']**2\n",
    "    az2 = df['AccZ']**2\n",
    "    am2 = ax2 + ay2 + az2\n",
    "    \n",
    "    gx2 = df['GyrX']**2\n",
    "    gy2 = df['GyrY']**2\n",
    "    gz2 = df['GyrZ']**2\n",
    "    gm2 = gx2 + gy2 + gz2\n",
    "    \n",
    "    mx2 = df['MagX']**2\n",
    "    my2 = df['MagY']**2\n",
    "    mz2 = df['MagZ']**2\n",
    "    mm2 = mx2 + my2 + mz2\n",
    "    \n",
    "    df['Am']=am2.apply(lambda x: math.sqrt(x))\n",
    "    df['Gm']=gm2.apply(lambda x: math.sqrt(x))\n",
    "    df['Mm']=mm2.apply(lambda x: math.sqrt(x))"
   ]
  },
  {
   "cell_type": "markdown",
   "metadata": {},
   "source": [
    "##### Dataframe Collections\n",
    "    - A1user1...8\n",
    "    - A2user1...8\n",
    "    - A3user1...8\n",
    "    - A4user1...8\n",
    "    - A5user1...8\n",
    "    - A6user1...8\n",
    "    - A9user1...8\n",
    "    - A12user1...8"
   ]
  },
  {
   "cell_type": "markdown",
   "metadata": {},
   "source": [
    "##### Activity Information"
   ]
  },
  {
   "cell_type": "code",
   "execution_count": 91,
   "metadata": {},
   "outputs": [],
   "source": [
    "# - a1 = Sitting = 2\n",
    "# - a2 = Standing = 3\n",
    "# - a3 and a4 = Lying back and right = 1\n",
    "# - a9 = walking = 4\n",
    "# - a12 = running on trademill 8km/h = 5\n",
    "# - a5 = ascending stairs = 12\n",
    "# - a6 = descending stairs = 13"
   ]
  },
  {
   "cell_type": "markdown",
   "metadata": {},
   "source": [
    "#### Calculate Magnitude"
   ]
  },
  {
   "cell_type": "code",
   "execution_count": 92,
   "metadata": {},
   "outputs": [],
   "source": [
    "# for index in range(0,5):\n",
    "#     magnitude(A1user1[index])\n",
    "#     magnitude(A1user2[index])\n",
    "#     magnitude(A1user3[index])\n",
    "#     magnitude(A1user4[index])\n",
    "#     magnitude(A1user5[index])\n",
    "#     magnitude(A1user6[index])\n",
    "#     magnitude(A1user7[index])\n",
    "#     magnitude(A1user8[index])\n",
    "    \n",
    "#     magnitude(A2user1[index])\n",
    "#     magnitude(A2user2[index])\n",
    "#     magnitude(A2user3[index])\n",
    "#     magnitude(A2user4[index])\n",
    "#     magnitude(A2user5[index])\n",
    "#     magnitude(A2user6[index])\n",
    "#     magnitude(A2user7[index])\n",
    "#     magnitude(A2user8[index])\n",
    "    \n",
    "#     magnitude(A3user1[index])\n",
    "#     magnitude(A3user2[index])\n",
    "#     magnitude(A3user3[index])\n",
    "#     magnitude(A3user4[index])\n",
    "#     magnitude(A3user5[index])\n",
    "#     magnitude(A3user6[index])\n",
    "#     magnitude(A3user7[index])\n",
    "#     magnitude(A3user8[index])\n",
    "    \n",
    "#     magnitude(A4user1[index])\n",
    "#     magnitude(A4user2[index])\n",
    "#     magnitude(A4user3[index])\n",
    "#     magnitude(A4user4[index])\n",
    "#     magnitude(A4user5[index])\n",
    "#     magnitude(A4user6[index])\n",
    "#     magnitude(A4user7[index])\n",
    "#     magnitude(A4user8[index])\n",
    "    \n",
    "#     magnitude(A5user1[index])\n",
    "#     magnitude(A5user2[index])\n",
    "#     magnitude(A5user3[index])\n",
    "#     magnitude(A5user4[index])\n",
    "#     magnitude(A5user5[index])\n",
    "#     magnitude(A5user6[index])\n",
    "#     magnitude(A5user7[index])\n",
    "#     magnitude(A5user8[index])\n",
    "    \n",
    "#     magnitude(A6user1[index])\n",
    "#     magnitude(A6user2[index])\n",
    "#     magnitude(A6user3[index])\n",
    "#     magnitude(A6user4[index])\n",
    "#     magnitude(A6user5[index])\n",
    "#     magnitude(A6user6[index])\n",
    "#     magnitude(A6user7[index])\n",
    "#     magnitude(A6user8[index])\n",
    "    \n",
    "#     magnitude(A9user1[index])\n",
    "#     magnitude(A9user2[index])\n",
    "#     magnitude(A9user3[index])\n",
    "#     magnitude(A9user4[index])\n",
    "#     magnitude(A9user5[index])\n",
    "#     magnitude(A9user6[index])\n",
    "#     magnitude(A9user7[index])\n",
    "#     magnitude(A9user8[index])\n",
    "    \n",
    "#     magnitude(A12user1[index])\n",
    "#     magnitude(A12user2[index])\n",
    "#     magnitude(A12user3[index])\n",
    "#     magnitude(A12user4[index])\n",
    "#     magnitude(A12user5[index])\n",
    "#     magnitude(A12user6[index])\n",
    "#     magnitude(A12user7[index])\n",
    "#     magnitude(A12user8[index])"
   ]
  },
  {
   "cell_type": "markdown",
   "metadata": {},
   "source": [
    "# 7. Combine Each User-all 8 activity data for 5 different positions"
   ]
  },
  {
   "cell_type": "markdown",
   "metadata": {},
   "source": [
    "- 0:Torso\n",
    "- 1:Right Arm\n",
    "- 2:Left Arm\n",
    "- 3:Right Leg\n",
    "- 4:Left Leg\n",
    "\n",
    "A1user1[0] = Activity A1 of User 1 from Sensor position 0"
   ]
  },
  {
   "cell_type": "markdown",
   "metadata": {},
   "source": [
    "##### User 1"
   ]
  },
  {
   "cell_type": "code",
   "execution_count": 93,
   "metadata": {},
   "outputs": [],
   "source": [
    "U1_Torso = pd.concat([A1user1[0], A2user1[0],A3user1[0],A4user1[0],A5user1[0],A6user1[0],A9user1[0],A12user1[0]], ignore_index=True)\n",
    "U1_RA = pd.concat([A1user1[1], A2user1[1],A3user1[1],A4user1[1],A5user1[1],A6user1[1],A9user1[1],A12user1[1]], ignore_index=True)\n",
    "U1_LA = pd.concat([A1user1[2], A2user1[2],A3user1[2],A4user1[2],A5user1[2],A6user1[2],A9user1[2],A12user1[2]], ignore_index=True)\n",
    "U1_RL = pd.concat([A1user1[3], A2user1[3],A3user1[3],A4user1[3],A5user1[3],A6user1[3],A9user1[3],A12user1[3]], ignore_index=True)\n",
    "U1_LL = pd.concat([A1user1[4], A2user1[4],A3user1[4],A4user1[4],A5user1[4],A6user1[4],A9user1[4],A12user1[4]], ignore_index=True)"
   ]
  },
  {
   "cell_type": "markdown",
   "metadata": {},
   "source": [
    "##### User 2"
   ]
  },
  {
   "cell_type": "code",
   "execution_count": 94,
   "metadata": {},
   "outputs": [],
   "source": [
    "U2_Torso = pd.concat([A1user2[0], A2user2[0],A3user2[0],A4user2[0],A5user2[0],A6user2[0],A9user2[0],A12user2[0]], ignore_index=True)\n",
    "U2_RA = pd.concat([A1user2[1], A2user2[1],A3user2[1],A4user2[1],A5user2[1],A6user2[1],A9user2[1],A12user2[1]], ignore_index=True)\n",
    "U2_LA = pd.concat([A1user2[2], A2user2[2],A3user2[2],A4user2[2],A5user2[2],A6user2[2],A9user2[2],A12user2[2]], ignore_index=True)\n",
    "U2_RL = pd.concat([A1user2[3], A2user2[3],A3user2[3],A4user2[3],A5user2[3],A6user2[3],A9user2[3],A12user2[3]], ignore_index=True)\n",
    "U2_LL = pd.concat([A1user2[4], A2user2[4],A3user2[4],A4user2[4],A5user2[4],A6user2[4],A9user2[4],A12user2[4]], ignore_index=True)"
   ]
  },
  {
   "cell_type": "markdown",
   "metadata": {},
   "source": [
    "##### User 3"
   ]
  },
  {
   "cell_type": "code",
   "execution_count": 95,
   "metadata": {},
   "outputs": [],
   "source": [
    "U3_Torso = pd.concat([A1user3[0], A2user3[0],A3user3[0],A4user3[0],A5user3[0],A6user3[0],A9user3[0],A12user3[0]], ignore_index=True)\n",
    "U3_RA = pd.concat([A1user3[1], A2user3[1],A3user3[1],A4user3[1],A5user3[1],A6user3[1],A9user3[1],A12user3[1]], ignore_index=True)\n",
    "U3_LA = pd.concat([A1user3[2], A2user3[2],A3user3[2],A4user3[2],A5user3[2],A6user3[2],A9user3[2],A12user3[2]], ignore_index=True)\n",
    "U3_RL = pd.concat([A1user3[3], A2user3[3],A3user3[3],A4user3[3],A5user3[3],A6user3[3],A9user3[3],A12user3[3]], ignore_index=True)\n",
    "U3_LL = pd.concat([A1user3[4], A2user3[4],A3user3[4],A4user3[4],A5user3[4],A6user3[4],A9user3[4],A12user3[4]], ignore_index=True)"
   ]
  },
  {
   "cell_type": "markdown",
   "metadata": {},
   "source": [
    "##### User 4"
   ]
  },
  {
   "cell_type": "code",
   "execution_count": 96,
   "metadata": {},
   "outputs": [],
   "source": [
    "U4_Torso = pd.concat([A1user4[0], A2user4[0],A3user4[0],A4user4[0],A5user4[0],A6user4[0],A9user4[0],A12user4[0]], ignore_index=True)\n",
    "U4_RA = pd.concat([A1user4[1], A2user4[1],A3user4[1],A4user4[1],A5user4[1],A6user4[1],A9user4[1],A12user4[1]], ignore_index=True)\n",
    "U4_LA = pd.concat([A1user4[2], A2user4[2],A3user4[2],A4user4[2],A5user4[2],A6user4[2],A9user4[2],A12user4[2]], ignore_index=True)\n",
    "U4_RL = pd.concat([A1user4[3], A2user4[3],A3user4[3],A4user4[3],A5user4[3],A6user4[3],A9user4[3],A12user4[3]], ignore_index=True)\n",
    "U4_LL = pd.concat([A1user4[4], A2user4[4],A3user4[4],A4user4[4],A5user4[4],A6user4[4],A9user4[4],A12user4[4]], ignore_index=True)"
   ]
  },
  {
   "cell_type": "markdown",
   "metadata": {},
   "source": [
    "##### User 5"
   ]
  },
  {
   "cell_type": "code",
   "execution_count": 97,
   "metadata": {},
   "outputs": [],
   "source": [
    "U5_Torso = pd.concat([A1user5[0], A2user5[0],A3user5[0],A4user5[0],A5user5[0],A6user5[0],A9user5[0],A12user5[0]], ignore_index=True)\n",
    "U5_RA = pd.concat([A1user5[1], A2user5[1],A3user5[1],A4user5[1],A5user5[1],A6user5[1],A9user5[1],A12user5[1]], ignore_index=True)\n",
    "U5_LA = pd.concat([A1user5[2], A2user5[2],A3user5[2],A4user5[2],A5user5[2],A6user5[2],A9user5[2],A12user5[2]], ignore_index=True)\n",
    "U5_RL = pd.concat([A1user5[3], A2user5[3],A3user5[3],A4user5[3],A5user5[3],A6user5[3],A9user5[3],A12user5[3]], ignore_index=True)\n",
    "U5_LL = pd.concat([A1user5[4], A2user5[4],A3user5[4],A4user5[4],A5user5[4],A6user5[4],A9user5[4],A12user5[4]], ignore_index=True)"
   ]
  },
  {
   "cell_type": "markdown",
   "metadata": {},
   "source": [
    "##### User 6"
   ]
  },
  {
   "cell_type": "code",
   "execution_count": 98,
   "metadata": {},
   "outputs": [],
   "source": [
    "U6_Torso = pd.concat([A1user6[0], A2user6[0],A3user6[0],A4user6[0],A5user6[0],A6user6[0],A9user6[0],A12user6[0]], ignore_index=True)\n",
    "U6_RA = pd.concat([A1user6[1], A2user6[1],A3user6[1],A4user6[1],A5user6[1],A6user6[1],A9user6[1],A12user6[1]], ignore_index=True)\n",
    "U6_LA = pd.concat([A1user6[2], A2user6[2],A3user6[2],A4user6[2],A5user6[2],A6user6[2],A9user6[2],A12user6[2]], ignore_index=True)\n",
    "U6_RL = pd.concat([A1user6[3], A2user6[3],A3user6[3],A4user6[3],A5user6[3],A6user6[3],A9user6[3],A12user6[3]], ignore_index=True)\n",
    "U6_LL = pd.concat([A1user6[4], A2user6[4],A3user6[4],A4user6[4],A5user6[4],A6user6[4],A9user6[4],A12user6[4]], ignore_index=True)"
   ]
  },
  {
   "cell_type": "markdown",
   "metadata": {},
   "source": [
    "##### User 7"
   ]
  },
  {
   "cell_type": "code",
   "execution_count": 99,
   "metadata": {},
   "outputs": [],
   "source": [
    "U7_Torso = pd.concat([A1user7[0], A2user7[0],A3user7[0],A4user7[0],A5user7[0],A6user7[0],A9user7[0],A12user7[0]], ignore_index=True)\n",
    "U7_RA = pd.concat([A1user7[1], A2user7[1],A3user7[1],A4user7[1],A5user7[1],A6user7[1],A9user7[1],A12user7[1]], ignore_index=True)\n",
    "U7_LA = pd.concat([A1user7[2], A2user7[2],A3user7[2],A4user7[2],A5user7[2],A6user7[2],A9user7[2],A12user7[2]], ignore_index=True)\n",
    "U7_RL = pd.concat([A1user7[3], A2user7[3],A3user7[3],A4user7[3],A5user7[3],A6user7[3],A9user7[3],A12user7[3]], ignore_index=True)\n",
    "U7_LL = pd.concat([A1user7[4], A2user7[4],A3user7[4],A4user7[4],A5user7[4],A6user7[4],A9user7[4],A12user7[4]], ignore_index=True)"
   ]
  },
  {
   "cell_type": "markdown",
   "metadata": {},
   "source": [
    "##### User 8"
   ]
  },
  {
   "cell_type": "code",
   "execution_count": 100,
   "metadata": {},
   "outputs": [],
   "source": [
    "U8_Torso = pd.concat([A1user8[0], A2user8[0],A3user8[0],A4user8[0],A5user8[0],A6user8[0],A9user8[0],A12user8[0]], ignore_index=True)\n",
    "U8_RA = pd.concat([A1user8[1], A2user8[1],A3user8[1],A4user8[1],A5user8[1],A6user8[1],A9user8[1],A12user8[1]], ignore_index=True)\n",
    "U8_LA = pd.concat([A1user8[2], A2user8[2],A3user8[2],A4user8[2],A5user8[2],A6user8[2],A9user8[2],A12user8[2]], ignore_index=True)\n",
    "U8_RL = pd.concat([A1user8[3], A2user8[3],A3user8[3],A4user8[3],A5user8[3],A6user8[3],A9user8[3],A12user8[3]], ignore_index=True)\n",
    "U8_LL = pd.concat([A1user8[4], A2user8[4],A3user8[4],A4user8[4],A5user8[4],A6user8[4],A9user8[4],A12user8[4]], ignore_index=True)"
   ]
  },
  {
   "cell_type": "code",
   "execution_count": 101,
   "metadata": {},
   "outputs": [
    {
     "data": {
      "text/html": [
       "<div>\n",
       "<style scoped>\n",
       "    .dataframe tbody tr th:only-of-type {\n",
       "        vertical-align: middle;\n",
       "    }\n",
       "\n",
       "    .dataframe tbody tr th {\n",
       "        vertical-align: top;\n",
       "    }\n",
       "\n",
       "    .dataframe thead th {\n",
       "        text-align: right;\n",
       "    }\n",
       "</style>\n",
       "<table border=\"1\" class=\"dataframe\">\n",
       "  <thead>\n",
       "    <tr style=\"text-align: right;\">\n",
       "      <th></th>\n",
       "      <th>AccX</th>\n",
       "      <th>AccY</th>\n",
       "      <th>AccZ</th>\n",
       "      <th>GyrX</th>\n",
       "      <th>GyrY</th>\n",
       "      <th>GyrZ</th>\n",
       "      <th>MagX</th>\n",
       "      <th>MagY</th>\n",
       "      <th>MagZ</th>\n",
       "      <th>Person</th>\n",
       "      <th>Activity</th>\n",
       "      <th>Position</th>\n",
       "    </tr>\n",
       "  </thead>\n",
       "  <tbody>\n",
       "    <tr>\n",
       "      <th>0</th>\n",
       "      <td>7.4938</td>\n",
       "      <td>-0.68446</td>\n",
       "      <td>6.2939</td>\n",
       "      <td>-0.031259</td>\n",
       "      <td>0.038736</td>\n",
       "      <td>0.003076</td>\n",
       "      <td>-0.60942</td>\n",
       "      <td>-0.42430</td>\n",
       "      <td>-0.18803</td>\n",
       "      <td>8</td>\n",
       "      <td>0</td>\n",
       "      <td>Torso</td>\n",
       "    </tr>\n",
       "    <tr>\n",
       "      <th>1</th>\n",
       "      <td>7.5012</td>\n",
       "      <td>-0.69934</td>\n",
       "      <td>6.2939</td>\n",
       "      <td>-0.010506</td>\n",
       "      <td>0.015149</td>\n",
       "      <td>-0.007738</td>\n",
       "      <td>-0.61027</td>\n",
       "      <td>-0.42453</td>\n",
       "      <td>-0.18887</td>\n",
       "      <td>8</td>\n",
       "      <td>0</td>\n",
       "      <td>Torso</td>\n",
       "    </tr>\n",
       "    <tr>\n",
       "      <th>2</th>\n",
       "      <td>7.5310</td>\n",
       "      <td>-0.68476</td>\n",
       "      <td>6.2942</td>\n",
       "      <td>-0.004148</td>\n",
       "      <td>0.024158</td>\n",
       "      <td>-0.001381</td>\n",
       "      <td>-0.60936</td>\n",
       "      <td>-0.42375</td>\n",
       "      <td>-0.18938</td>\n",
       "      <td>8</td>\n",
       "      <td>0</td>\n",
       "      <td>Torso</td>\n",
       "    </tr>\n",
       "    <tr>\n",
       "      <th>3</th>\n",
       "      <td>7.5385</td>\n",
       "      <td>-0.69220</td>\n",
       "      <td>6.2868</td>\n",
       "      <td>0.001295</td>\n",
       "      <td>0.016797</td>\n",
       "      <td>-0.013197</td>\n",
       "      <td>-0.61002</td>\n",
       "      <td>-0.42505</td>\n",
       "      <td>-0.18912</td>\n",
       "      <td>8</td>\n",
       "      <td>0</td>\n",
       "      <td>Torso</td>\n",
       "    </tr>\n",
       "    <tr>\n",
       "      <th>4</th>\n",
       "      <td>7.5086</td>\n",
       "      <td>-0.69949</td>\n",
       "      <td>6.3163</td>\n",
       "      <td>0.022058</td>\n",
       "      <td>0.015955</td>\n",
       "      <td>0.002337</td>\n",
       "      <td>-0.61054</td>\n",
       "      <td>-0.42453</td>\n",
       "      <td>-0.18888</td>\n",
       "      <td>8</td>\n",
       "      <td>0</td>\n",
       "      <td>Torso</td>\n",
       "    </tr>\n",
       "  </tbody>\n",
       "</table>\n",
       "</div>"
      ],
      "text/plain": [
       "     AccX     AccY    AccZ      GyrX      GyrY      GyrZ     MagX     MagY  \\\n",
       "0  7.4938 -0.68446  6.2939 -0.031259  0.038736  0.003076 -0.60942 -0.42430   \n",
       "1  7.5012 -0.69934  6.2939 -0.010506  0.015149 -0.007738 -0.61027 -0.42453   \n",
       "2  7.5310 -0.68476  6.2942 -0.004148  0.024158 -0.001381 -0.60936 -0.42375   \n",
       "3  7.5385 -0.69220  6.2868  0.001295  0.016797 -0.013197 -0.61002 -0.42505   \n",
       "4  7.5086 -0.69949  6.3163  0.022058  0.015955  0.002337 -0.61054 -0.42453   \n",
       "\n",
       "      MagZ  Person  Activity Position  \n",
       "0 -0.18803       8         0    Torso  \n",
       "1 -0.18887       8         0    Torso  \n",
       "2 -0.18938       8         0    Torso  \n",
       "3 -0.18912       8         0    Torso  \n",
       "4 -0.18888       8         0    Torso  "
      ]
     },
     "execution_count": 101,
     "metadata": {},
     "output_type": "execute_result"
    }
   ],
   "source": [
    "U8_Torso.head()"
   ]
  },
  {
   "cell_type": "code",
   "execution_count": 102,
   "metadata": {},
   "outputs": [
    {
     "data": {
      "text/html": [
       "<div>\n",
       "<style scoped>\n",
       "    .dataframe tbody tr th:only-of-type {\n",
       "        vertical-align: middle;\n",
       "    }\n",
       "\n",
       "    .dataframe tbody tr th {\n",
       "        vertical-align: top;\n",
       "    }\n",
       "\n",
       "    .dataframe thead th {\n",
       "        text-align: right;\n",
       "    }\n",
       "</style>\n",
       "<table border=\"1\" class=\"dataframe\">\n",
       "  <thead>\n",
       "    <tr style=\"text-align: right;\">\n",
       "      <th></th>\n",
       "      <th>AccX</th>\n",
       "      <th>AccY</th>\n",
       "      <th>AccZ</th>\n",
       "      <th>GyrX</th>\n",
       "      <th>GyrY</th>\n",
       "      <th>GyrZ</th>\n",
       "      <th>MagX</th>\n",
       "      <th>MagY</th>\n",
       "      <th>MagZ</th>\n",
       "      <th>Person</th>\n",
       "      <th>Activity</th>\n",
       "      <th>Position</th>\n",
       "    </tr>\n",
       "  </thead>\n",
       "  <tbody>\n",
       "    <tr>\n",
       "      <th>59995</th>\n",
       "      <td>-1.3327</td>\n",
       "      <td>0.40930</td>\n",
       "      <td>-0.6437</td>\n",
       "      <td>-0.43904</td>\n",
       "      <td>0.16145</td>\n",
       "      <td>-0.53292</td>\n",
       "      <td>-0.82250</td>\n",
       "      <td>-0.060835</td>\n",
       "      <td>-0.55548</td>\n",
       "      <td>8</td>\n",
       "      <td>4</td>\n",
       "      <td>Torso</td>\n",
       "    </tr>\n",
       "    <tr>\n",
       "      <th>59996</th>\n",
       "      <td>3.9084</td>\n",
       "      <td>0.85097</td>\n",
       "      <td>2.5402</td>\n",
       "      <td>-2.27070</td>\n",
       "      <td>-0.84703</td>\n",
       "      <td>-0.23491</td>\n",
       "      <td>-0.82282</td>\n",
       "      <td>-0.032640</td>\n",
       "      <td>-0.55298</td>\n",
       "      <td>8</td>\n",
       "      <td>4</td>\n",
       "      <td>Torso</td>\n",
       "    </tr>\n",
       "    <tr>\n",
       "      <th>59997</th>\n",
       "      <td>34.7700</td>\n",
       "      <td>6.16450</td>\n",
       "      <td>-2.3471</td>\n",
       "      <td>-0.77452</td>\n",
       "      <td>-2.46250</td>\n",
       "      <td>-0.92333</td>\n",
       "      <td>-0.88021</td>\n",
       "      <td>0.028804</td>\n",
       "      <td>-0.45561</td>\n",
       "      <td>8</td>\n",
       "      <td>4</td>\n",
       "      <td>Torso</td>\n",
       "    </tr>\n",
       "    <tr>\n",
       "      <th>59998</th>\n",
       "      <td>24.7610</td>\n",
       "      <td>5.49990</td>\n",
       "      <td>2.4077</td>\n",
       "      <td>-1.67090</td>\n",
       "      <td>0.47062</td>\n",
       "      <td>-0.45641</td>\n",
       "      <td>-0.87758</td>\n",
       "      <td>0.031301</td>\n",
       "      <td>-0.46692</td>\n",
       "      <td>8</td>\n",
       "      <td>4</td>\n",
       "      <td>Torso</td>\n",
       "    </tr>\n",
       "    <tr>\n",
       "      <th>59999</th>\n",
       "      <td>17.1410</td>\n",
       "      <td>1.86960</td>\n",
       "      <td>2.8785</td>\n",
       "      <td>-1.60750</td>\n",
       "      <td>0.48264</td>\n",
       "      <td>-0.59403</td>\n",
       "      <td>-0.88087</td>\n",
       "      <td>0.041097</td>\n",
       "      <td>-0.47498</td>\n",
       "      <td>8</td>\n",
       "      <td>4</td>\n",
       "      <td>Torso</td>\n",
       "    </tr>\n",
       "  </tbody>\n",
       "</table>\n",
       "</div>"
      ],
      "text/plain": [
       "          AccX     AccY    AccZ     GyrX     GyrY     GyrZ     MagX      MagY  \\\n",
       "59995  -1.3327  0.40930 -0.6437 -0.43904  0.16145 -0.53292 -0.82250 -0.060835   \n",
       "59996   3.9084  0.85097  2.5402 -2.27070 -0.84703 -0.23491 -0.82282 -0.032640   \n",
       "59997  34.7700  6.16450 -2.3471 -0.77452 -2.46250 -0.92333 -0.88021  0.028804   \n",
       "59998  24.7610  5.49990  2.4077 -1.67090  0.47062 -0.45641 -0.87758  0.031301   \n",
       "59999  17.1410  1.86960  2.8785 -1.60750  0.48264 -0.59403 -0.88087  0.041097   \n",
       "\n",
       "          MagZ  Person  Activity Position  \n",
       "59995 -0.55548       8         4    Torso  \n",
       "59996 -0.55298       8         4    Torso  \n",
       "59997 -0.45561       8         4    Torso  \n",
       "59998 -0.46692       8         4    Torso  \n",
       "59999 -0.47498       8         4    Torso  "
      ]
     },
     "execution_count": 102,
     "metadata": {},
     "output_type": "execute_result"
    }
   ],
   "source": [
    "U8_Torso.tail()"
   ]
  },
  {
   "cell_type": "code",
   "execution_count": 103,
   "metadata": {},
   "outputs": [
    {
     "data": {
      "text/plain": [
       "array([0, 1, 2, 3, 4, 5, 6])"
      ]
     },
     "execution_count": 103,
     "metadata": {},
     "output_type": "execute_result"
    }
   ],
   "source": [
    "np.unique(U8_Torso['Activity'])"
   ]
  },
  {
   "cell_type": "markdown",
   "metadata": {},
   "source": [
    "## Append Position-wise All user data for Standardization and Normalization"
   ]
  },
  {
   "cell_type": "code",
   "execution_count": 104,
   "metadata": {},
   "outputs": [],
   "source": [
    "Torso_data = pd.concat([U1_Torso, U2_Torso, U3_Torso, U4_Torso, U5_Torso, U6_Torso, U7_Torso, U8_Torso], ignore_index=True)"
   ]
  },
  {
   "cell_type": "code",
   "execution_count": 105,
   "metadata": {},
   "outputs": [
    {
     "data": {
      "text/html": [
       "<div>\n",
       "<style scoped>\n",
       "    .dataframe tbody tr th:only-of-type {\n",
       "        vertical-align: middle;\n",
       "    }\n",
       "\n",
       "    .dataframe tbody tr th {\n",
       "        vertical-align: top;\n",
       "    }\n",
       "\n",
       "    .dataframe thead th {\n",
       "        text-align: right;\n",
       "    }\n",
       "</style>\n",
       "<table border=\"1\" class=\"dataframe\">\n",
       "  <thead>\n",
       "    <tr style=\"text-align: right;\">\n",
       "      <th></th>\n",
       "      <th>AccX</th>\n",
       "      <th>AccY</th>\n",
       "      <th>AccZ</th>\n",
       "      <th>GyrX</th>\n",
       "      <th>GyrY</th>\n",
       "      <th>GyrZ</th>\n",
       "      <th>MagX</th>\n",
       "      <th>MagY</th>\n",
       "      <th>MagZ</th>\n",
       "      <th>Person</th>\n",
       "      <th>Activity</th>\n",
       "      <th>Position</th>\n",
       "    </tr>\n",
       "  </thead>\n",
       "  <tbody>\n",
       "    <tr>\n",
       "      <th>0</th>\n",
       "      <td>8.1305</td>\n",
       "      <td>1.0349</td>\n",
       "      <td>5.4217</td>\n",
       "      <td>-0.009461</td>\n",
       "      <td>0.001915</td>\n",
       "      <td>-0.003424</td>\n",
       "      <td>-0.78712</td>\n",
       "      <td>-0.069654</td>\n",
       "      <td>0.15730</td>\n",
       "      <td>1</td>\n",
       "      <td>0</td>\n",
       "      <td>Torso</td>\n",
       "    </tr>\n",
       "    <tr>\n",
       "      <th>1</th>\n",
       "      <td>8.1305</td>\n",
       "      <td>1.0202</td>\n",
       "      <td>5.3843</td>\n",
       "      <td>-0.009368</td>\n",
       "      <td>0.023485</td>\n",
       "      <td>0.001953</td>\n",
       "      <td>-0.78717</td>\n",
       "      <td>-0.068275</td>\n",
       "      <td>0.15890</td>\n",
       "      <td>1</td>\n",
       "      <td>0</td>\n",
       "      <td>Torso</td>\n",
       "    </tr>\n",
       "    <tr>\n",
       "      <th>2</th>\n",
       "      <td>8.1604</td>\n",
       "      <td>1.0201</td>\n",
       "      <td>5.3622</td>\n",
       "      <td>0.015046</td>\n",
       "      <td>0.014330</td>\n",
       "      <td>0.000204</td>\n",
       "      <td>-0.78664</td>\n",
       "      <td>-0.068277</td>\n",
       "      <td>0.15879</td>\n",
       "      <td>1</td>\n",
       "      <td>0</td>\n",
       "      <td>Torso</td>\n",
       "    </tr>\n",
       "    <tr>\n",
       "      <th>3</th>\n",
       "      <td>8.1603</td>\n",
       "      <td>1.0052</td>\n",
       "      <td>5.3770</td>\n",
       "      <td>0.006892</td>\n",
       "      <td>0.018045</td>\n",
       "      <td>0.005649</td>\n",
       "      <td>-0.78529</td>\n",
       "      <td>-0.069849</td>\n",
       "      <td>0.15912</td>\n",
       "      <td>1</td>\n",
       "      <td>0</td>\n",
       "      <td>Torso</td>\n",
       "    </tr>\n",
       "    <tr>\n",
       "      <th>4</th>\n",
       "      <td>8.1605</td>\n",
       "      <td>1.0275</td>\n",
       "      <td>5.3473</td>\n",
       "      <td>0.008811</td>\n",
       "      <td>0.030433</td>\n",
       "      <td>-0.005346</td>\n",
       "      <td>-0.78742</td>\n",
       "      <td>-0.068796</td>\n",
       "      <td>0.15916</td>\n",
       "      <td>1</td>\n",
       "      <td>0</td>\n",
       "      <td>Torso</td>\n",
       "    </tr>\n",
       "  </tbody>\n",
       "</table>\n",
       "</div>"
      ],
      "text/plain": [
       "     AccX    AccY    AccZ      GyrX      GyrY      GyrZ     MagX      MagY  \\\n",
       "0  8.1305  1.0349  5.4217 -0.009461  0.001915 -0.003424 -0.78712 -0.069654   \n",
       "1  8.1305  1.0202  5.3843 -0.009368  0.023485  0.001953 -0.78717 -0.068275   \n",
       "2  8.1604  1.0201  5.3622  0.015046  0.014330  0.000204 -0.78664 -0.068277   \n",
       "3  8.1603  1.0052  5.3770  0.006892  0.018045  0.005649 -0.78529 -0.069849   \n",
       "4  8.1605  1.0275  5.3473  0.008811  0.030433 -0.005346 -0.78742 -0.068796   \n",
       "\n",
       "      MagZ  Person  Activity Position  \n",
       "0  0.15730       1         0    Torso  \n",
       "1  0.15890       1         0    Torso  \n",
       "2  0.15879       1         0    Torso  \n",
       "3  0.15912       1         0    Torso  \n",
       "4  0.15916       1         0    Torso  "
      ]
     },
     "execution_count": 105,
     "metadata": {},
     "output_type": "execute_result"
    }
   ],
   "source": [
    "Torso_data.head()"
   ]
  },
  {
   "cell_type": "code",
   "execution_count": 106,
   "metadata": {},
   "outputs": [
    {
     "data": {
      "text/plain": [
       "array([0, 1, 2, 3, 4, 5, 6])"
      ]
     },
     "execution_count": 106,
     "metadata": {},
     "output_type": "execute_result"
    }
   ],
   "source": [
    "np.unique(Torso_data['Activity'])"
   ]
  },
  {
   "cell_type": "code",
   "execution_count": 107,
   "metadata": {},
   "outputs": [
    {
     "data": {
      "text/plain": [
       "array([1, 2, 3, 4, 5, 6, 7, 8])"
      ]
     },
     "execution_count": 107,
     "metadata": {},
     "output_type": "execute_result"
    }
   ],
   "source": [
    "np.unique(Torso_data['Person'])"
   ]
  },
  {
   "cell_type": "code",
   "execution_count": 108,
   "metadata": {},
   "outputs": [
    {
     "data": {
      "text/plain": [
       "array(['Torso'], dtype=object)"
      ]
     },
     "execution_count": 108,
     "metadata": {},
     "output_type": "execute_result"
    }
   ],
   "source": [
    "np.unique(Torso_data['Position'])"
   ]
  },
  {
   "cell_type": "code",
   "execution_count": 109,
   "metadata": {},
   "outputs": [],
   "source": [
    "RA_data = pd.concat([U1_RA, U2_RA, U3_RA, U4_RA, U5_RA, U6_RA, U7_RA, U8_RA], ignore_index=True)\n",
    "LA_data = pd.concat([U1_LA, U2_LA, U3_LA, U4_LA, U5_LA, U6_LA, U7_LA, U8_LA], ignore_index=True)\n",
    "RL_data = pd.concat([U1_RL, U2_RL, U3_RL, U4_RL, U5_RL, U6_RL, U7_RL, U8_RL], ignore_index=True)\n",
    "LL_data = pd.concat([U1_LL, U2_LL, U3_LL, U4_LL, U5_LL, U6_LL, U7_LL, U8_LL], ignore_index=True)"
   ]
  },
  {
   "cell_type": "code",
   "execution_count": null,
   "metadata": {},
   "outputs": [],
   "source": []
  },
  {
   "cell_type": "markdown",
   "metadata": {},
   "source": [
    "#### Torso"
   ]
  },
  {
   "cell_type": "code",
   "execution_count": 110,
   "metadata": {},
   "outputs": [],
   "source": [
    "person_gt = np.array(Torso_data['Person'])\n",
    "activity_gt = np.array(Torso_data['Activity'])\n",
    "position_gt = np.array(Torso_data['Position'])\n",
    "Torso_data.drop(['Person', 'Activity', 'Position'], axis=1, inplace=True)\n",
    "column_name = Torso_data.columns"
   ]
  },
  {
   "cell_type": "code",
   "execution_count": 111,
   "metadata": {},
   "outputs": [],
   "source": [
    "scaler = preprocessing.StandardScaler()\n",
    "standardized_array = scaler.fit_transform(Torso_data)\n",
    "standardized_df = pd.DataFrame(standardized_array)"
   ]
  },
  {
   "cell_type": "code",
   "execution_count": 112,
   "metadata": {},
   "outputs": [],
   "source": [
    "min_max_scaler = preprocessing.MinMaxScaler()\n",
    "normalized_array = min_max_scaler.fit_transform(standardized_df)"
   ]
  },
  {
   "cell_type": "code",
   "execution_count": 113,
   "metadata": {},
   "outputs": [],
   "source": [
    "Torso_data = pd.DataFrame(normalized_array, columns=column_name)\n",
    "Torso_data[\"Person\"] = person_gt.copy()\n",
    "Torso_data[\"Activity\"] = activity_gt.copy()\n",
    "Torso_data[\"Position\"] = position_gt.copy()"
   ]
  },
  {
   "cell_type": "code",
   "execution_count": 114,
   "metadata": {},
   "outputs": [
    {
     "data": {
      "text/html": [
       "<div>\n",
       "<style scoped>\n",
       "    .dataframe tbody tr th:only-of-type {\n",
       "        vertical-align: middle;\n",
       "    }\n",
       "\n",
       "    .dataframe tbody tr th {\n",
       "        vertical-align: top;\n",
       "    }\n",
       "\n",
       "    .dataframe thead th {\n",
       "        text-align: right;\n",
       "    }\n",
       "</style>\n",
       "<table border=\"1\" class=\"dataframe\">\n",
       "  <thead>\n",
       "    <tr style=\"text-align: right;\">\n",
       "      <th></th>\n",
       "      <th>AccX</th>\n",
       "      <th>AccY</th>\n",
       "      <th>AccZ</th>\n",
       "      <th>GyrX</th>\n",
       "      <th>GyrY</th>\n",
       "      <th>GyrZ</th>\n",
       "      <th>MagX</th>\n",
       "      <th>MagY</th>\n",
       "      <th>MagZ</th>\n",
       "      <th>Person</th>\n",
       "      <th>Activity</th>\n",
       "      <th>Position</th>\n",
       "    </tr>\n",
       "  </thead>\n",
       "  <tbody>\n",
       "    <tr>\n",
       "      <th>0</th>\n",
       "      <td>0.174334</td>\n",
       "      <td>0.480210</td>\n",
       "      <td>0.290738</td>\n",
       "      <td>0.468719</td>\n",
       "      <td>0.632115</td>\n",
       "      <td>0.463917</td>\n",
       "      <td>0.298150</td>\n",
       "      <td>0.409400</td>\n",
       "      <td>0.773324</td>\n",
       "      <td>1</td>\n",
       "      <td>0</td>\n",
       "      <td>Torso</td>\n",
       "    </tr>\n",
       "    <tr>\n",
       "      <th>1</th>\n",
       "      <td>0.174334</td>\n",
       "      <td>0.480019</td>\n",
       "      <td>0.290507</td>\n",
       "      <td>0.468721</td>\n",
       "      <td>0.632987</td>\n",
       "      <td>0.464399</td>\n",
       "      <td>0.298123</td>\n",
       "      <td>0.410140</td>\n",
       "      <td>0.774362</td>\n",
       "      <td>1</td>\n",
       "      <td>0</td>\n",
       "      <td>Torso</td>\n",
       "    </tr>\n",
       "    <tr>\n",
       "      <th>2</th>\n",
       "      <td>0.174623</td>\n",
       "      <td>0.480017</td>\n",
       "      <td>0.290371</td>\n",
       "      <td>0.469406</td>\n",
       "      <td>0.632617</td>\n",
       "      <td>0.464243</td>\n",
       "      <td>0.298407</td>\n",
       "      <td>0.410139</td>\n",
       "      <td>0.774290</td>\n",
       "      <td>1</td>\n",
       "      <td>0</td>\n",
       "      <td>Torso</td>\n",
       "    </tr>\n",
       "    <tr>\n",
       "      <th>3</th>\n",
       "      <td>0.174622</td>\n",
       "      <td>0.479824</td>\n",
       "      <td>0.290462</td>\n",
       "      <td>0.469177</td>\n",
       "      <td>0.632767</td>\n",
       "      <td>0.464731</td>\n",
       "      <td>0.299132</td>\n",
       "      <td>0.409295</td>\n",
       "      <td>0.774505</td>\n",
       "      <td>1</td>\n",
       "      <td>0</td>\n",
       "      <td>Torso</td>\n",
       "    </tr>\n",
       "    <tr>\n",
       "      <th>4</th>\n",
       "      <td>0.174624</td>\n",
       "      <td>0.480114</td>\n",
       "      <td>0.290279</td>\n",
       "      <td>0.469231</td>\n",
       "      <td>0.633268</td>\n",
       "      <td>0.463745</td>\n",
       "      <td>0.297989</td>\n",
       "      <td>0.409860</td>\n",
       "      <td>0.774531</td>\n",
       "      <td>1</td>\n",
       "      <td>0</td>\n",
       "      <td>Torso</td>\n",
       "    </tr>\n",
       "  </tbody>\n",
       "</table>\n",
       "</div>"
      ],
      "text/plain": [
       "       AccX      AccY      AccZ      GyrX      GyrY      GyrZ      MagX  \\\n",
       "0  0.174334  0.480210  0.290738  0.468719  0.632115  0.463917  0.298150   \n",
       "1  0.174334  0.480019  0.290507  0.468721  0.632987  0.464399  0.298123   \n",
       "2  0.174623  0.480017  0.290371  0.469406  0.632617  0.464243  0.298407   \n",
       "3  0.174622  0.479824  0.290462  0.469177  0.632767  0.464731  0.299132   \n",
       "4  0.174624  0.480114  0.290279  0.469231  0.633268  0.463745  0.297989   \n",
       "\n",
       "       MagY      MagZ  Person  Activity Position  \n",
       "0  0.409400  0.773324       1         0    Torso  \n",
       "1  0.410140  0.774362       1         0    Torso  \n",
       "2  0.410139  0.774290       1         0    Torso  \n",
       "3  0.409295  0.774505       1         0    Torso  \n",
       "4  0.409860  0.774531       1         0    Torso  "
      ]
     },
     "execution_count": 114,
     "metadata": {},
     "output_type": "execute_result"
    }
   ],
   "source": [
    "Torso_data.head()"
   ]
  },
  {
   "cell_type": "code",
   "execution_count": 131,
   "metadata": {},
   "outputs": [
    {
     "data": {
      "text/plain": [
       "0.0"
      ]
     },
     "execution_count": 131,
     "metadata": {},
     "output_type": "execute_result"
    }
   ],
   "source": [
    "np.min(Torso_data['MagZ'])"
   ]
  },
  {
   "cell_type": "code",
   "execution_count": 132,
   "metadata": {},
   "outputs": [
    {
     "data": {
      "text/plain": [
       "1.0"
      ]
     },
     "execution_count": 132,
     "metadata": {},
     "output_type": "execute_result"
    }
   ],
   "source": [
    "np.max(Torso_data['MagZ'])"
   ]
  },
  {
   "cell_type": "markdown",
   "metadata": {},
   "source": [
    "#### Right Arm"
   ]
  },
  {
   "cell_type": "code",
   "execution_count": 133,
   "metadata": {},
   "outputs": [],
   "source": [
    "person_gt = np.array(RA_data['Person'])\n",
    "activity_gt = np.array(RA_data['Activity'])\n",
    "position_gt = np.array(RA_data['Position'])\n",
    "RA_data.drop(['Person', 'Activity', 'Position'], axis=1, inplace=True)\n",
    "column_name = RA_data.columns"
   ]
  },
  {
   "cell_type": "code",
   "execution_count": 134,
   "metadata": {},
   "outputs": [],
   "source": [
    "scaler = preprocessing.StandardScaler()\n",
    "standardized_array = scaler.fit_transform(RA_data)\n",
    "standardized_df = pd.DataFrame(standardized_array)"
   ]
  },
  {
   "cell_type": "code",
   "execution_count": 135,
   "metadata": {},
   "outputs": [],
   "source": [
    "min_max_scaler = preprocessing.MinMaxScaler()\n",
    "normalized_array = min_max_scaler.fit_transform(standardized_df)"
   ]
  },
  {
   "cell_type": "code",
   "execution_count": 136,
   "metadata": {},
   "outputs": [],
   "source": [
    "RA_data = pd.DataFrame(normalized_array, columns=column_name)\n",
    "RA_data[\"Person\"] = person_gt.copy()\n",
    "RA_data[\"Activity\"] = activity_gt.copy()\n",
    "RA_data[\"Position\"] = position_gt.copy()"
   ]
  },
  {
   "cell_type": "code",
   "execution_count": 154,
   "metadata": {},
   "outputs": [
    {
     "data": {
      "text/plain": [
       "0.0"
      ]
     },
     "execution_count": 154,
     "metadata": {},
     "output_type": "execute_result"
    }
   ],
   "source": [
    "np.min(RA_data['MagZ'])"
   ]
  },
  {
   "cell_type": "code",
   "execution_count": 155,
   "metadata": {},
   "outputs": [
    {
     "data": {
      "text/plain": [
       "1.0"
      ]
     },
     "execution_count": 155,
     "metadata": {},
     "output_type": "execute_result"
    }
   ],
   "source": [
    "np.max(RA_data['MagZ'])"
   ]
  },
  {
   "cell_type": "markdown",
   "metadata": {},
   "source": [
    "#### Left Arm"
   ]
  },
  {
   "cell_type": "code",
   "execution_count": 156,
   "metadata": {},
   "outputs": [],
   "source": [
    "person_gt = np.array(LA_data['Person'])\n",
    "activity_gt = np.array(LA_data['Activity'])\n",
    "position_gt = np.array(LA_data['Position'])\n",
    "LA_data.drop(['Person', 'Activity', 'Position'], axis=1, inplace=True)\n",
    "column_name = LA_data.columns"
   ]
  },
  {
   "cell_type": "code",
   "execution_count": 157,
   "metadata": {},
   "outputs": [],
   "source": [
    "scaler = preprocessing.StandardScaler()\n",
    "standardized_array = scaler.fit_transform(LA_data)\n",
    "standardized_df = pd.DataFrame(standardized_array)"
   ]
  },
  {
   "cell_type": "code",
   "execution_count": 158,
   "metadata": {},
   "outputs": [],
   "source": [
    "min_max_scaler = preprocessing.MinMaxScaler()\n",
    "normalized_array = min_max_scaler.fit_transform(standardized_df)"
   ]
  },
  {
   "cell_type": "code",
   "execution_count": 159,
   "metadata": {},
   "outputs": [],
   "source": [
    "LA_data = pd.DataFrame(normalized_array, columns=column_name)\n",
    "LA_data[\"Person\"] = person_gt.copy()\n",
    "LA_data[\"Activity\"] = activity_gt.copy()\n",
    "LA_data[\"Position\"] = position_gt.copy()"
   ]
  },
  {
   "cell_type": "markdown",
   "metadata": {},
   "source": [
    "#### Right Leg"
   ]
  },
  {
   "cell_type": "code",
   "execution_count": 160,
   "metadata": {},
   "outputs": [],
   "source": [
    "person_gt = np.array(RL_data['Person'])\n",
    "activity_gt = np.array(RL_data['Activity'])\n",
    "position_gt = np.array(RL_data['Position'])\n",
    "RL_data.drop(['Person', 'Activity', 'Position'], axis=1, inplace=True)\n",
    "column_name = RL_data.columns"
   ]
  },
  {
   "cell_type": "code",
   "execution_count": 161,
   "metadata": {},
   "outputs": [],
   "source": [
    "scaler = preprocessing.StandardScaler()\n",
    "standardized_array = scaler.fit_transform(RL_data)\n",
    "standardized_df = pd.DataFrame(standardized_array)"
   ]
  },
  {
   "cell_type": "code",
   "execution_count": 162,
   "metadata": {},
   "outputs": [],
   "source": [
    "min_max_scaler = preprocessing.MinMaxScaler()\n",
    "normalized_array = min_max_scaler.fit_transform(standardized_df)"
   ]
  },
  {
   "cell_type": "code",
   "execution_count": 163,
   "metadata": {},
   "outputs": [],
   "source": [
    "RL_data = pd.DataFrame(normalized_array, columns=column_name)\n",
    "RL_data[\"Person\"] = person_gt.copy()\n",
    "RL_data[\"Activity\"] = activity_gt.copy()\n",
    "RL_data[\"Position\"] = position_gt.copy()"
   ]
  },
  {
   "cell_type": "markdown",
   "metadata": {},
   "source": [
    "#### Left Leg"
   ]
  },
  {
   "cell_type": "code",
   "execution_count": 165,
   "metadata": {},
   "outputs": [
    {
     "ename": "KeyError",
     "evalue": "'Person'",
     "output_type": "error",
     "traceback": [
      "\u001b[0;31m---------------------------------------------------------------------------\u001b[0m",
      "\u001b[0;31mKeyError\u001b[0m                                  Traceback (most recent call last)",
      "\u001b[0;32m~/anaconda3/lib/python3.7/site-packages/pandas/core/indexes/base.py\u001b[0m in \u001b[0;36mget_loc\u001b[0;34m(self, key, method, tolerance)\u001b[0m\n\u001b[1;32m   2656\u001b[0m             \u001b[0;32mtry\u001b[0m\u001b[0;34m:\u001b[0m\u001b[0;34m\u001b[0m\u001b[0;34m\u001b[0m\u001b[0m\n\u001b[0;32m-> 2657\u001b[0;31m                 \u001b[0;32mreturn\u001b[0m \u001b[0mself\u001b[0m\u001b[0;34m.\u001b[0m\u001b[0m_engine\u001b[0m\u001b[0;34m.\u001b[0m\u001b[0mget_loc\u001b[0m\u001b[0;34m(\u001b[0m\u001b[0mkey\u001b[0m\u001b[0;34m)\u001b[0m\u001b[0;34m\u001b[0m\u001b[0;34m\u001b[0m\u001b[0m\n\u001b[0m\u001b[1;32m   2658\u001b[0m             \u001b[0;32mexcept\u001b[0m \u001b[0mKeyError\u001b[0m\u001b[0;34m:\u001b[0m\u001b[0;34m\u001b[0m\u001b[0;34m\u001b[0m\u001b[0m\n",
      "\u001b[0;32mpandas/_libs/index.pyx\u001b[0m in \u001b[0;36mpandas._libs.index.IndexEngine.get_loc\u001b[0;34m()\u001b[0m\n",
      "\u001b[0;32mpandas/_libs/index.pyx\u001b[0m in \u001b[0;36mpandas._libs.index.IndexEngine.get_loc\u001b[0;34m()\u001b[0m\n",
      "\u001b[0;32mpandas/_libs/hashtable_class_helper.pxi\u001b[0m in \u001b[0;36mpandas._libs.hashtable.PyObjectHashTable.get_item\u001b[0;34m()\u001b[0m\n",
      "\u001b[0;32mpandas/_libs/hashtable_class_helper.pxi\u001b[0m in \u001b[0;36mpandas._libs.hashtable.PyObjectHashTable.get_item\u001b[0;34m()\u001b[0m\n",
      "\u001b[0;31mKeyError\u001b[0m: 'Person'",
      "\nDuring handling of the above exception, another exception occurred:\n",
      "\u001b[0;31mKeyError\u001b[0m                                  Traceback (most recent call last)",
      "\u001b[0;32m<ipython-input-165-10a96560d067>\u001b[0m in \u001b[0;36m<module>\u001b[0;34m\u001b[0m\n\u001b[0;32m----> 1\u001b[0;31m \u001b[0mperson_gt\u001b[0m \u001b[0;34m=\u001b[0m \u001b[0mnp\u001b[0m\u001b[0;34m.\u001b[0m\u001b[0marray\u001b[0m\u001b[0;34m(\u001b[0m\u001b[0mLL_data\u001b[0m\u001b[0;34m[\u001b[0m\u001b[0;34m'Person'\u001b[0m\u001b[0;34m]\u001b[0m\u001b[0;34m)\u001b[0m\u001b[0;34m\u001b[0m\u001b[0;34m\u001b[0m\u001b[0m\n\u001b[0m\u001b[1;32m      2\u001b[0m \u001b[0mactivity_gt\u001b[0m \u001b[0;34m=\u001b[0m \u001b[0mnp\u001b[0m\u001b[0;34m.\u001b[0m\u001b[0marray\u001b[0m\u001b[0;34m(\u001b[0m\u001b[0mLL_data\u001b[0m\u001b[0;34m[\u001b[0m\u001b[0;34m'Activity'\u001b[0m\u001b[0;34m]\u001b[0m\u001b[0;34m)\u001b[0m\u001b[0;34m\u001b[0m\u001b[0;34m\u001b[0m\u001b[0m\n\u001b[1;32m      3\u001b[0m \u001b[0mposition_gt\u001b[0m \u001b[0;34m=\u001b[0m \u001b[0mnp\u001b[0m\u001b[0;34m.\u001b[0m\u001b[0marray\u001b[0m\u001b[0;34m(\u001b[0m\u001b[0mLL_data\u001b[0m\u001b[0;34m[\u001b[0m\u001b[0;34m'Position'\u001b[0m\u001b[0;34m]\u001b[0m\u001b[0;34m)\u001b[0m\u001b[0;34m\u001b[0m\u001b[0;34m\u001b[0m\u001b[0m\n\u001b[1;32m      4\u001b[0m \u001b[0mLL_data\u001b[0m\u001b[0;34m.\u001b[0m\u001b[0mdrop\u001b[0m\u001b[0;34m(\u001b[0m\u001b[0;34m[\u001b[0m\u001b[0;34m'Person'\u001b[0m\u001b[0;34m,\u001b[0m \u001b[0;34m'Activity'\u001b[0m\u001b[0;34m,\u001b[0m \u001b[0;34m'Position'\u001b[0m\u001b[0;34m]\u001b[0m\u001b[0;34m,\u001b[0m \u001b[0maxis\u001b[0m\u001b[0;34m=\u001b[0m\u001b[0;36m1\u001b[0m\u001b[0;34m,\u001b[0m \u001b[0minplace\u001b[0m\u001b[0;34m=\u001b[0m\u001b[0;32mTrue\u001b[0m\u001b[0;34m)\u001b[0m\u001b[0;34m\u001b[0m\u001b[0;34m\u001b[0m\u001b[0m\n\u001b[1;32m      5\u001b[0m \u001b[0mcolumn_name\u001b[0m \u001b[0;34m=\u001b[0m \u001b[0mLL_data\u001b[0m\u001b[0;34m.\u001b[0m\u001b[0mcolumns\u001b[0m\u001b[0;34m\u001b[0m\u001b[0;34m\u001b[0m\u001b[0m\n",
      "\u001b[0;32m~/anaconda3/lib/python3.7/site-packages/pandas/core/frame.py\u001b[0m in \u001b[0;36m__getitem__\u001b[0;34m(self, key)\u001b[0m\n\u001b[1;32m   2925\u001b[0m             \u001b[0;32mif\u001b[0m \u001b[0mself\u001b[0m\u001b[0;34m.\u001b[0m\u001b[0mcolumns\u001b[0m\u001b[0;34m.\u001b[0m\u001b[0mnlevels\u001b[0m \u001b[0;34m>\u001b[0m \u001b[0;36m1\u001b[0m\u001b[0;34m:\u001b[0m\u001b[0;34m\u001b[0m\u001b[0;34m\u001b[0m\u001b[0m\n\u001b[1;32m   2926\u001b[0m                 \u001b[0;32mreturn\u001b[0m \u001b[0mself\u001b[0m\u001b[0;34m.\u001b[0m\u001b[0m_getitem_multilevel\u001b[0m\u001b[0;34m(\u001b[0m\u001b[0mkey\u001b[0m\u001b[0;34m)\u001b[0m\u001b[0;34m\u001b[0m\u001b[0;34m\u001b[0m\u001b[0m\n\u001b[0;32m-> 2927\u001b[0;31m             \u001b[0mindexer\u001b[0m \u001b[0;34m=\u001b[0m \u001b[0mself\u001b[0m\u001b[0;34m.\u001b[0m\u001b[0mcolumns\u001b[0m\u001b[0;34m.\u001b[0m\u001b[0mget_loc\u001b[0m\u001b[0;34m(\u001b[0m\u001b[0mkey\u001b[0m\u001b[0;34m)\u001b[0m\u001b[0;34m\u001b[0m\u001b[0;34m\u001b[0m\u001b[0m\n\u001b[0m\u001b[1;32m   2928\u001b[0m             \u001b[0;32mif\u001b[0m \u001b[0mis_integer\u001b[0m\u001b[0;34m(\u001b[0m\u001b[0mindexer\u001b[0m\u001b[0;34m)\u001b[0m\u001b[0;34m:\u001b[0m\u001b[0;34m\u001b[0m\u001b[0;34m\u001b[0m\u001b[0m\n\u001b[1;32m   2929\u001b[0m                 \u001b[0mindexer\u001b[0m \u001b[0;34m=\u001b[0m \u001b[0;34m[\u001b[0m\u001b[0mindexer\u001b[0m\u001b[0;34m]\u001b[0m\u001b[0;34m\u001b[0m\u001b[0;34m\u001b[0m\u001b[0m\n",
      "\u001b[0;32m~/anaconda3/lib/python3.7/site-packages/pandas/core/indexes/base.py\u001b[0m in \u001b[0;36mget_loc\u001b[0;34m(self, key, method, tolerance)\u001b[0m\n\u001b[1;32m   2657\u001b[0m                 \u001b[0;32mreturn\u001b[0m \u001b[0mself\u001b[0m\u001b[0;34m.\u001b[0m\u001b[0m_engine\u001b[0m\u001b[0;34m.\u001b[0m\u001b[0mget_loc\u001b[0m\u001b[0;34m(\u001b[0m\u001b[0mkey\u001b[0m\u001b[0;34m)\u001b[0m\u001b[0;34m\u001b[0m\u001b[0;34m\u001b[0m\u001b[0m\n\u001b[1;32m   2658\u001b[0m             \u001b[0;32mexcept\u001b[0m \u001b[0mKeyError\u001b[0m\u001b[0;34m:\u001b[0m\u001b[0;34m\u001b[0m\u001b[0;34m\u001b[0m\u001b[0m\n\u001b[0;32m-> 2659\u001b[0;31m                 \u001b[0;32mreturn\u001b[0m \u001b[0mself\u001b[0m\u001b[0;34m.\u001b[0m\u001b[0m_engine\u001b[0m\u001b[0;34m.\u001b[0m\u001b[0mget_loc\u001b[0m\u001b[0;34m(\u001b[0m\u001b[0mself\u001b[0m\u001b[0;34m.\u001b[0m\u001b[0m_maybe_cast_indexer\u001b[0m\u001b[0;34m(\u001b[0m\u001b[0mkey\u001b[0m\u001b[0;34m)\u001b[0m\u001b[0;34m)\u001b[0m\u001b[0;34m\u001b[0m\u001b[0;34m\u001b[0m\u001b[0m\n\u001b[0m\u001b[1;32m   2660\u001b[0m         \u001b[0mindexer\u001b[0m \u001b[0;34m=\u001b[0m \u001b[0mself\u001b[0m\u001b[0;34m.\u001b[0m\u001b[0mget_indexer\u001b[0m\u001b[0;34m(\u001b[0m\u001b[0;34m[\u001b[0m\u001b[0mkey\u001b[0m\u001b[0;34m]\u001b[0m\u001b[0;34m,\u001b[0m \u001b[0mmethod\u001b[0m\u001b[0;34m=\u001b[0m\u001b[0mmethod\u001b[0m\u001b[0;34m,\u001b[0m \u001b[0mtolerance\u001b[0m\u001b[0;34m=\u001b[0m\u001b[0mtolerance\u001b[0m\u001b[0;34m)\u001b[0m\u001b[0;34m\u001b[0m\u001b[0;34m\u001b[0m\u001b[0m\n\u001b[1;32m   2661\u001b[0m         \u001b[0;32mif\u001b[0m \u001b[0mindexer\u001b[0m\u001b[0;34m.\u001b[0m\u001b[0mndim\u001b[0m \u001b[0;34m>\u001b[0m \u001b[0;36m1\u001b[0m \u001b[0;32mor\u001b[0m \u001b[0mindexer\u001b[0m\u001b[0;34m.\u001b[0m\u001b[0msize\u001b[0m \u001b[0;34m>\u001b[0m \u001b[0;36m1\u001b[0m\u001b[0;34m:\u001b[0m\u001b[0;34m\u001b[0m\u001b[0;34m\u001b[0m\u001b[0m\n",
      "\u001b[0;32mpandas/_libs/index.pyx\u001b[0m in \u001b[0;36mpandas._libs.index.IndexEngine.get_loc\u001b[0;34m()\u001b[0m\n",
      "\u001b[0;32mpandas/_libs/index.pyx\u001b[0m in \u001b[0;36mpandas._libs.index.IndexEngine.get_loc\u001b[0;34m()\u001b[0m\n",
      "\u001b[0;32mpandas/_libs/hashtable_class_helper.pxi\u001b[0m in \u001b[0;36mpandas._libs.hashtable.PyObjectHashTable.get_item\u001b[0;34m()\u001b[0m\n",
      "\u001b[0;32mpandas/_libs/hashtable_class_helper.pxi\u001b[0m in \u001b[0;36mpandas._libs.hashtable.PyObjectHashTable.get_item\u001b[0;34m()\u001b[0m\n",
      "\u001b[0;31mKeyError\u001b[0m: 'Person'"
     ]
    }
   ],
   "source": [
    "person_gt = np.array(LL_data['Person'])\n",
    "activity_gt = np.array(LL_data['Activity'])\n",
    "position_gt = np.array(LL_data['Position'])\n",
    "LL_data.drop(['Person', 'Activity', 'Position'], axis=1, inplace=True)\n",
    "column_name = LL_data.columns"
   ]
  },
  {
   "cell_type": "code",
   "execution_count": null,
   "metadata": {},
   "outputs": [],
   "source": [
    "scaler = preprocessing.StandardScaler()\n",
    "standardized_array = scaler.fit_transform(LL_data)\n",
    "standardized_df = pd.DataFrame(standardized_array)"
   ]
  },
  {
   "cell_type": "code",
   "execution_count": null,
   "metadata": {},
   "outputs": [],
   "source": [
    "min_max_scaler = preprocessing.MinMaxScaler()\n",
    "normalized_array = min_max_scaler.fit_transform(standardized_df)"
   ]
  },
  {
   "cell_type": "code",
   "execution_count": null,
   "metadata": {},
   "outputs": [],
   "source": [
    "LL_data = pd.DataFrame(normalized_array, columns=column_name)\n",
    "LL_data[\"Person\"] = person_gt.copy()\n",
    "LL_data[\"Activity\"] = activity_gt.copy()\n",
    "LL_data[\"Position\"] = position_gt.copy()"
   ]
  },
  {
   "cell_type": "markdown",
   "metadata": {},
   "source": [
    "### After the position-wise Standardization and Normalization is done, split into individual dataframe"
   ]
  },
  {
   "cell_type": "code",
   "execution_count": 174,
   "metadata": {},
   "outputs": [],
   "source": [
    "U1_Torso = Torso_data.loc[Torso_data['Person'] == 1]\n",
    "U2_Torso = Torso_data.loc[Torso_data['Person'] == 2]\n",
    "U3_Torso = Torso_data.loc[Torso_data['Person'] == 3]\n",
    "U4_Torso = Torso_data.loc[Torso_data['Person'] == 4]\n",
    "U5_Torso = Torso_data.loc[Torso_data['Person'] == 5]\n",
    "U6_Torso = Torso_data.loc[Torso_data['Person'] == 6]\n",
    "U7_Torso = Torso_data.loc[Torso_data['Person'] == 7]\n",
    "U8_Torso = Torso_data.loc[Torso_data['Person'] == 8]"
   ]
  },
  {
   "cell_type": "code",
   "execution_count": 175,
   "metadata": {},
   "outputs": [
    {
     "data": {
      "text/html": [
       "<div>\n",
       "<style scoped>\n",
       "    .dataframe tbody tr th:only-of-type {\n",
       "        vertical-align: middle;\n",
       "    }\n",
       "\n",
       "    .dataframe tbody tr th {\n",
       "        vertical-align: top;\n",
       "    }\n",
       "\n",
       "    .dataframe thead th {\n",
       "        text-align: right;\n",
       "    }\n",
       "</style>\n",
       "<table border=\"1\" class=\"dataframe\">\n",
       "  <thead>\n",
       "    <tr style=\"text-align: right;\">\n",
       "      <th></th>\n",
       "      <th>AccX</th>\n",
       "      <th>AccY</th>\n",
       "      <th>AccZ</th>\n",
       "      <th>GyrX</th>\n",
       "      <th>GyrY</th>\n",
       "      <th>GyrZ</th>\n",
       "      <th>MagX</th>\n",
       "      <th>MagY</th>\n",
       "      <th>MagZ</th>\n",
       "      <th>Person</th>\n",
       "      <th>Activity</th>\n",
       "      <th>Position</th>\n",
       "    </tr>\n",
       "  </thead>\n",
       "  <tbody>\n",
       "    <tr>\n",
       "      <th>0</th>\n",
       "      <td>0.174334</td>\n",
       "      <td>0.480210</td>\n",
       "      <td>0.290738</td>\n",
       "      <td>0.468719</td>\n",
       "      <td>0.632115</td>\n",
       "      <td>0.463917</td>\n",
       "      <td>0.298150</td>\n",
       "      <td>0.409400</td>\n",
       "      <td>0.773324</td>\n",
       "      <td>1</td>\n",
       "      <td>0</td>\n",
       "      <td>Torso</td>\n",
       "    </tr>\n",
       "    <tr>\n",
       "      <th>1</th>\n",
       "      <td>0.174334</td>\n",
       "      <td>0.480019</td>\n",
       "      <td>0.290507</td>\n",
       "      <td>0.468721</td>\n",
       "      <td>0.632987</td>\n",
       "      <td>0.464399</td>\n",
       "      <td>0.298123</td>\n",
       "      <td>0.410140</td>\n",
       "      <td>0.774362</td>\n",
       "      <td>1</td>\n",
       "      <td>0</td>\n",
       "      <td>Torso</td>\n",
       "    </tr>\n",
       "    <tr>\n",
       "      <th>2</th>\n",
       "      <td>0.174623</td>\n",
       "      <td>0.480017</td>\n",
       "      <td>0.290371</td>\n",
       "      <td>0.469406</td>\n",
       "      <td>0.632617</td>\n",
       "      <td>0.464243</td>\n",
       "      <td>0.298407</td>\n",
       "      <td>0.410139</td>\n",
       "      <td>0.774290</td>\n",
       "      <td>1</td>\n",
       "      <td>0</td>\n",
       "      <td>Torso</td>\n",
       "    </tr>\n",
       "    <tr>\n",
       "      <th>3</th>\n",
       "      <td>0.174622</td>\n",
       "      <td>0.479824</td>\n",
       "      <td>0.290462</td>\n",
       "      <td>0.469177</td>\n",
       "      <td>0.632767</td>\n",
       "      <td>0.464731</td>\n",
       "      <td>0.299132</td>\n",
       "      <td>0.409295</td>\n",
       "      <td>0.774505</td>\n",
       "      <td>1</td>\n",
       "      <td>0</td>\n",
       "      <td>Torso</td>\n",
       "    </tr>\n",
       "    <tr>\n",
       "      <th>4</th>\n",
       "      <td>0.174624</td>\n",
       "      <td>0.480114</td>\n",
       "      <td>0.290279</td>\n",
       "      <td>0.469231</td>\n",
       "      <td>0.633268</td>\n",
       "      <td>0.463745</td>\n",
       "      <td>0.297989</td>\n",
       "      <td>0.409860</td>\n",
       "      <td>0.774531</td>\n",
       "      <td>1</td>\n",
       "      <td>0</td>\n",
       "      <td>Torso</td>\n",
       "    </tr>\n",
       "  </tbody>\n",
       "</table>\n",
       "</div>"
      ],
      "text/plain": [
       "       AccX      AccY      AccZ      GyrX      GyrY      GyrZ      MagX  \\\n",
       "0  0.174334  0.480210  0.290738  0.468719  0.632115  0.463917  0.298150   \n",
       "1  0.174334  0.480019  0.290507  0.468721  0.632987  0.464399  0.298123   \n",
       "2  0.174623  0.480017  0.290371  0.469406  0.632617  0.464243  0.298407   \n",
       "3  0.174622  0.479824  0.290462  0.469177  0.632767  0.464731  0.299132   \n",
       "4  0.174624  0.480114  0.290279  0.469231  0.633268  0.463745  0.297989   \n",
       "\n",
       "       MagY      MagZ  Person  Activity Position  \n",
       "0  0.409400  0.773324       1         0    Torso  \n",
       "1  0.410140  0.774362       1         0    Torso  \n",
       "2  0.410139  0.774290       1         0    Torso  \n",
       "3  0.409295  0.774505       1         0    Torso  \n",
       "4  0.409860  0.774531       1         0    Torso  "
      ]
     },
     "execution_count": 175,
     "metadata": {},
     "output_type": "execute_result"
    }
   ],
   "source": [
    "U1_Torso.head()"
   ]
  },
  {
   "cell_type": "code",
   "execution_count": 176,
   "metadata": {},
   "outputs": [
    {
     "data": {
      "text/html": [
       "<div>\n",
       "<style scoped>\n",
       "    .dataframe tbody tr th:only-of-type {\n",
       "        vertical-align: middle;\n",
       "    }\n",
       "\n",
       "    .dataframe tbody tr th {\n",
       "        vertical-align: top;\n",
       "    }\n",
       "\n",
       "    .dataframe thead th {\n",
       "        text-align: right;\n",
       "    }\n",
       "</style>\n",
       "<table border=\"1\" class=\"dataframe\">\n",
       "  <thead>\n",
       "    <tr style=\"text-align: right;\">\n",
       "      <th></th>\n",
       "      <th>AccX</th>\n",
       "      <th>AccY</th>\n",
       "      <th>AccZ</th>\n",
       "      <th>GyrX</th>\n",
       "      <th>GyrY</th>\n",
       "      <th>GyrZ</th>\n",
       "      <th>MagX</th>\n",
       "      <th>MagY</th>\n",
       "      <th>MagZ</th>\n",
       "      <th>Person</th>\n",
       "      <th>Activity</th>\n",
       "      <th>Position</th>\n",
       "    </tr>\n",
       "  </thead>\n",
       "  <tbody>\n",
       "    <tr>\n",
       "      <th>0</th>\n",
       "      <td>0.174334</td>\n",
       "      <td>0.480210</td>\n",
       "      <td>0.290738</td>\n",
       "      <td>0.468719</td>\n",
       "      <td>0.632115</td>\n",
       "      <td>0.463917</td>\n",
       "      <td>0.298150</td>\n",
       "      <td>0.409400</td>\n",
       "      <td>0.773324</td>\n",
       "      <td>1</td>\n",
       "      <td>0</td>\n",
       "      <td>Torso</td>\n",
       "    </tr>\n",
       "    <tr>\n",
       "      <th>1</th>\n",
       "      <td>0.174334</td>\n",
       "      <td>0.480019</td>\n",
       "      <td>0.290507</td>\n",
       "      <td>0.468721</td>\n",
       "      <td>0.632987</td>\n",
       "      <td>0.464399</td>\n",
       "      <td>0.298123</td>\n",
       "      <td>0.410140</td>\n",
       "      <td>0.774362</td>\n",
       "      <td>1</td>\n",
       "      <td>0</td>\n",
       "      <td>Torso</td>\n",
       "    </tr>\n",
       "    <tr>\n",
       "      <th>2</th>\n",
       "      <td>0.174623</td>\n",
       "      <td>0.480017</td>\n",
       "      <td>0.290371</td>\n",
       "      <td>0.469406</td>\n",
       "      <td>0.632617</td>\n",
       "      <td>0.464243</td>\n",
       "      <td>0.298407</td>\n",
       "      <td>0.410139</td>\n",
       "      <td>0.774290</td>\n",
       "      <td>1</td>\n",
       "      <td>0</td>\n",
       "      <td>Torso</td>\n",
       "    </tr>\n",
       "    <tr>\n",
       "      <th>3</th>\n",
       "      <td>0.174622</td>\n",
       "      <td>0.479824</td>\n",
       "      <td>0.290462</td>\n",
       "      <td>0.469177</td>\n",
       "      <td>0.632767</td>\n",
       "      <td>0.464731</td>\n",
       "      <td>0.299132</td>\n",
       "      <td>0.409295</td>\n",
       "      <td>0.774505</td>\n",
       "      <td>1</td>\n",
       "      <td>0</td>\n",
       "      <td>Torso</td>\n",
       "    </tr>\n",
       "    <tr>\n",
       "      <th>4</th>\n",
       "      <td>0.174624</td>\n",
       "      <td>0.480114</td>\n",
       "      <td>0.290279</td>\n",
       "      <td>0.469231</td>\n",
       "      <td>0.633268</td>\n",
       "      <td>0.463745</td>\n",
       "      <td>0.297989</td>\n",
       "      <td>0.409860</td>\n",
       "      <td>0.774531</td>\n",
       "      <td>1</td>\n",
       "      <td>0</td>\n",
       "      <td>Torso</td>\n",
       "    </tr>\n",
       "  </tbody>\n",
       "</table>\n",
       "</div>"
      ],
      "text/plain": [
       "       AccX      AccY      AccZ      GyrX      GyrY      GyrZ      MagX  \\\n",
       "0  0.174334  0.480210  0.290738  0.468719  0.632115  0.463917  0.298150   \n",
       "1  0.174334  0.480019  0.290507  0.468721  0.632987  0.464399  0.298123   \n",
       "2  0.174623  0.480017  0.290371  0.469406  0.632617  0.464243  0.298407   \n",
       "3  0.174622  0.479824  0.290462  0.469177  0.632767  0.464731  0.299132   \n",
       "4  0.174624  0.480114  0.290279  0.469231  0.633268  0.463745  0.297989   \n",
       "\n",
       "       MagY      MagZ  Person  Activity Position  \n",
       "0  0.409400  0.773324       1         0    Torso  \n",
       "1  0.410140  0.774362       1         0    Torso  \n",
       "2  0.410139  0.774290       1         0    Torso  \n",
       "3  0.409295  0.774505       1         0    Torso  \n",
       "4  0.409860  0.774531       1         0    Torso  "
      ]
     },
     "execution_count": 176,
     "metadata": {},
     "output_type": "execute_result"
    }
   ],
   "source": [
    "Torso_data.head()"
   ]
  },
  {
   "cell_type": "code",
   "execution_count": 179,
   "metadata": {},
   "outputs": [
    {
     "data": {
      "text/plain": [
       "array(['Torso'], dtype=object)"
      ]
     },
     "execution_count": 179,
     "metadata": {},
     "output_type": "execute_result"
    }
   ],
   "source": [
    "np.unique(U1_Torso['Position'])"
   ]
  },
  {
   "cell_type": "code",
   "execution_count": 173,
   "metadata": {},
   "outputs": [
    {
     "data": {
      "text/plain": [
       "60000.0"
      ]
     },
     "execution_count": 173,
     "metadata": {},
     "output_type": "execute_result"
    }
   ],
   "source": [
    "480000/8"
   ]
  },
  {
   "cell_type": "code",
   "execution_count": null,
   "metadata": {},
   "outputs": [],
   "source": [
    "U1_RA = RA_data.loc[RA_data['Person'] == 1]\n",
    "U2_RA = RA_data.loc[RA_data['Person'] == 2]\n",
    "U3_RA = RA_data.loc[RA_data['Person'] == 3]\n",
    "U4_RA = RA_data.loc[RA_data['Person'] == 4]\n",
    "U5_RA = RA_data.loc[RA_data['Person'] == 5]\n",
    "U6_RA = RA_data.loc[RA_data['Person'] == 6]\n",
    "U7_RA = RA_data.loc[RA_data['Person'] == 7]\n",
    "U8_RA = RA_data.loc[RA_data['Person'] == 8]"
   ]
  },
  {
   "cell_type": "code",
   "execution_count": null,
   "metadata": {},
   "outputs": [],
   "source": [
    "U1_LA = LA_data.loc[LA_data['Person'] == 1]\n",
    "U2_LA = LA_data.loc[LA_data['Person'] == 2]\n",
    "U3_LA = LA_data.loc[LA_data['Person'] == 3]\n",
    "U4_LA = LA_data.loc[LA_data['Person'] == 4]\n",
    "U5_LA = LA_data.loc[LA_data['Person'] == 5]\n",
    "U6_LA = LA_data.loc[LA_data['Person'] == 6]\n",
    "U7_LA = LA_data.loc[LA_data['Person'] == 7]\n",
    "U8_LA = LA_data.loc[LA_data['Person'] == 8]"
   ]
  },
  {
   "cell_type": "code",
   "execution_count": null,
   "metadata": {},
   "outputs": [],
   "source": [
    "U1_RL = RL_data.loc[RL_data['Person'] == 1]\n",
    "U2_RL = RL_data.loc[RL_data['Person'] == 2]\n",
    "U3_RL = RL_data.loc[RL_data['Person'] == 3]\n",
    "U4_RL = RL_data.loc[RL_data['Person'] == 4]\n",
    "U5_RL = RL_data.loc[RL_data['Person'] == 5]\n",
    "U6_RL = RL_data.loc[RL_data['Person'] == 6]\n",
    "U7_RL = RL_data.loc[RL_data['Person'] == 7]\n",
    "U8_RL = RL_data.loc[RL_data['Person'] == 8]"
   ]
  },
  {
   "cell_type": "code",
   "execution_count": null,
   "metadata": {},
   "outputs": [],
   "source": [
    "U1_LL = LL_data.loc[LL_data['Person'] == 1]\n",
    "U2_LL = LL_data.loc[LL_data['Person'] == 2]\n",
    "U3_LL = LL_data.loc[LL_data['Person'] == 3]\n",
    "U4_LL = LL_data.loc[LL_data['Person'] == 4]\n",
    "U5_LL = LL_data.loc[LL_data['Person'] == 5]\n",
    "U6_LL = LL_data.loc[LL_data['Person'] == 6]\n",
    "U7_LL = LL_data.loc[LL_data['Person'] == 7]\n",
    "U8_LL = LL_data.loc[LL_data['Person'] == 8]"
   ]
  },
  {
   "cell_type": "markdown",
   "metadata": {},
   "source": [
    "### Save the frames"
   ]
  },
  {
   "cell_type": "code",
   "execution_count": 102,
   "metadata": {},
   "outputs": [],
   "source": [
    "save_path = \"/home/avijoychakma/Downloads/DSADS Files/\""
   ]
  },
  {
   "cell_type": "code",
   "execution_count": 103,
   "metadata": {},
   "outputs": [],
   "source": [
    "U1_Torso.to_csv (save_path+'U1_Torso.csv', index = None, header=True)\n",
    "U1_RA.to_csv (save_path+'U1_RA.csv', index = None, header=True)\n",
    "U1_LA.to_csv (save_path+'U1_LA.csv', index = None, header=True)\n",
    "U1_RL.to_csv (save_path+'U1_RL.csv', index = None, header=True)\n",
    "U1_LL.to_csv (save_path+'U1_LL.csv', index = None, header=True)"
   ]
  },
  {
   "cell_type": "code",
   "execution_count": 104,
   "metadata": {},
   "outputs": [],
   "source": [
    "U2_Torso.to_csv (save_path+'U2_Torso.csv', index = None, header=True)\n",
    "U2_RA.to_csv (save_path+'U2_RA.csv', index = None, header=True)\n",
    "U2_LA.to_csv (save_path+'U2_LA.csv', index = None, header=True)\n",
    "U2_RL.to_csv (save_path+'U2_RL.csv', index = None, header=True)\n",
    "U2_LL.to_csv (save_path+'U2_LL.csv', index = None, header=True)"
   ]
  },
  {
   "cell_type": "code",
   "execution_count": 105,
   "metadata": {},
   "outputs": [],
   "source": [
    "U3_Torso.to_csv (save_path+'U3_Torso.csv', index = None, header=True)\n",
    "U3_RA.to_csv (save_path+'U3_RA.csv', index = None, header=True)\n",
    "U3_LA.to_csv (save_path+'U3_LA.csv', index = None, header=True)\n",
    "U3_RL.to_csv (save_path+'U3_RL.csv', index = None, header=True)\n",
    "U3_LL.to_csv (save_path+'U3_LL.csv', index = None, header=True)"
   ]
  },
  {
   "cell_type": "code",
   "execution_count": 106,
   "metadata": {},
   "outputs": [],
   "source": [
    "U4_Torso.to_csv (save_path+'U4_Torso.csv', index = None, header=True)\n",
    "U4_RA.to_csv (save_path+'U4_RA.csv', index = None, header=True)\n",
    "U4_LA.to_csv (save_path+'U4_LA.csv', index = None, header=True)\n",
    "U4_RL.to_csv (save_path+'U4_RL.csv', index = None, header=True)\n",
    "U4_LL.to_csv (save_path+'U4_LL.csv', index = None, header=True)"
   ]
  },
  {
   "cell_type": "code",
   "execution_count": 107,
   "metadata": {},
   "outputs": [],
   "source": [
    "U5_Torso.to_csv (save_path+'U5_Torso.csv', index = None, header=True)\n",
    "U5_RA.to_csv (save_path+'U5_RA.csv', index = None, header=True)\n",
    "U5_LA.to_csv (save_path+'U5_LA.csv', index = None, header=True)\n",
    "U5_RL.to_csv (save_path+'U5_RL.csv', index = None, header=True)\n",
    "U5_LL.to_csv (save_path+'U5_LL.csv', index = None, header=True)"
   ]
  },
  {
   "cell_type": "code",
   "execution_count": 108,
   "metadata": {},
   "outputs": [],
   "source": [
    "U6_Torso.to_csv (save_path+'U6_Torso.csv', index = None, header=True)\n",
    "U6_RA.to_csv (save_path+'U6_RA.csv', index = None, header=True)\n",
    "U6_LA.to_csv (save_path+'U6_LA.csv', index = None, header=True)\n",
    "U6_RL.to_csv (save_path+'U6_RL.csv', index = None, header=True)\n",
    "U6_LL.to_csv (save_path+'U6_LL.csv', index = None, header=True)"
   ]
  },
  {
   "cell_type": "code",
   "execution_count": 109,
   "metadata": {},
   "outputs": [],
   "source": [
    "U7_Torso.to_csv (save_path+'U7_Torso.csv', index = None, header=True)\n",
    "U7_RA.to_csv (save_path+'U7_RA.csv', index = None, header=True)\n",
    "U7_LA.to_csv (save_path+'U7_LA.csv', index = None, header=True)\n",
    "U7_RL.to_csv (save_path+'U7_RL.csv', index = None, header=True)\n",
    "U7_LL.to_csv (save_path+'U7_LL.csv', index = None, header=True)"
   ]
  },
  {
   "cell_type": "code",
   "execution_count": 110,
   "metadata": {},
   "outputs": [],
   "source": [
    "U8_Torso.to_csv (save_path+'U8_Torso.csv', index = None, header=True)\n",
    "U8_RA.to_csv (save_path+'U8_RA.csv', index = None, header=True)\n",
    "U8_LA.to_csv (save_path+'U8_LA.csv', index = None, header=True)\n",
    "U8_RL.to_csv (save_path+'U8_RL.csv', index = None, header=True)\n",
    "U8_LL.to_csv (save_path+'U8_LL.csv', index = None, header=True)"
   ]
  },
  {
   "cell_type": "markdown",
   "metadata": {},
   "source": [
    "# 8. Prepare Final Dataset"
   ]
  },
  {
   "cell_type": "code",
   "execution_count": 111,
   "metadata": {},
   "outputs": [],
   "source": [
    "Torso_dataset = []\n",
    "RA_dataset = []\n",
    "LA_dataset = []\n",
    "RL_dataset = []\n",
    "LL_dataset = []\n",
    "Torso_gt = []\n",
    "RA_gt = []\n",
    "LA_gt = []\n",
    "RL_gt = []\n",
    "LL_gt = []"
   ]
  },
  {
   "cell_type": "code",
   "execution_count": 112,
   "metadata": {},
   "outputs": [],
   "source": [
    "save_path = \"/home/avijoychakma/Downloads/DSADS Files/\""
   ]
  },
  {
   "cell_type": "code",
   "execution_count": 113,
   "metadata": {},
   "outputs": [],
   "source": [
    "position = [\"Torso\",\"RA\",\"LA\",\"RL\",\"LL\"]"
   ]
  },
  {
   "cell_type": "code",
   "execution_count": 114,
   "metadata": {},
   "outputs": [],
   "source": [
    "win_size=128\n",
    "step_size=64"
   ]
  },
  {
   "cell_type": "code",
   "execution_count": 115,
   "metadata": {},
   "outputs": [
    {
     "name": "stderr",
     "output_type": "stream",
     "text": [
      "100%|██████████| 5/5 [00:03<00:00,  1.44it/s]\n"
     ]
    }
   ],
   "source": [
    "for position_index in tqdm(range(1,6)): #Back, RUA, RLA, LUA, LLA\n",
    "    for person_index in range(1,9): # 4 Persons\n",
    "        file_name = \"U\"+str(person_index) + \"_\"+position[position_index-1]\n",
    "        \n",
    "        df = pd.read_csv(save_path+file_name+'.csv', sep=\",\")   \n",
    "        len_df = df.shape[0]\n",
    "        narray = df.to_numpy()\n",
    "\n",
    "        for i in range(0, len_df, step_size):\n",
    "            window = narray[i:i+win_size,0:9]\n",
    "            \n",
    "            if window.shape[0] != win_size:\n",
    "                continue\n",
    "            else:\n",
    "                reshaped_window = window.reshape(1,win_size,1,9)\n",
    "                gt = np.bincount(narray[i:i+win_size,10:11].astype(int).ravel()).argmax()\n",
    "                \n",
    "                if position_index == 1:\n",
    "                    Torso_dataset.append(reshaped_window)\n",
    "                    Torso_gt.append(gt)\n",
    "                elif position_index == 2:\n",
    "                    RA_dataset.append(reshaped_window)\n",
    "                    RA_gt.append(gt)\n",
    "                elif position_index == 3:\n",
    "                    LA_dataset.append(reshaped_window)\n",
    "                    LA_gt.append(gt)\n",
    "                elif position_index == 4:\n",
    "                    RL_dataset.append(reshaped_window)\n",
    "                    RL_gt.append(gt)\n",
    "                elif position_index == 5:\n",
    "                    LL_dataset.append(reshaped_window)\n",
    "                    LL_gt.append(gt)"
   ]
  },
  {
   "cell_type": "code",
   "execution_count": null,
   "metadata": {},
   "outputs": [],
   "source": []
  }
 ],
 "metadata": {
  "kernelspec": {
   "display_name": "Python 3",
   "language": "python",
   "name": "python3"
  },
  "language_info": {
   "codemirror_mode": {
    "name": "ipython",
    "version": 3
   },
   "file_extension": ".py",
   "mimetype": "text/x-python",
   "name": "python",
   "nbconvert_exporter": "python",
   "pygments_lexer": "ipython3",
   "version": "3.7.3"
  }
 },
 "nbformat": 4,
 "nbformat_minor": 2
}
