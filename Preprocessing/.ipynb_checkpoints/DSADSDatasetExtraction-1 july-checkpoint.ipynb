{
 "cells": [
  {
   "cell_type": "code",
   "execution_count": 1,
   "metadata": {},
   "outputs": [],
   "source": [
    "import matplotlib as plt\n",
    "import pandas as pd\n",
    "import os\n",
    "import numpy as np\n",
    "import math\n",
    "import csv\n",
    "import pickle\n",
    "import math\n",
    "import matplotlib.pyplot as plt\n",
    "from mpl_toolkits.mplot3d import Axes3D\n",
    "from scipy import stats\n",
    "import seaborn as sns\n",
    "from pylab import rcParams\n",
    "from tqdm import tqdm\n",
    "from sklearn import preprocessing\n",
    "from torch.utils.data import Dataset, DataLoader\n",
    "from torchvision import transforms\n",
    "import torch\n",
    "import torch.nn as nn\n",
    "import torch.optim as optim\n",
    "import network as net\n",
    "from sklearn.model_selection import train_test_split\n",
    "%matplotlib inline\n",
    "\n",
    "sns.set(style='whitegrid', palette='muted', font_scale=1.5)\n",
    "rcParams['figure.figsize'] = 14, 8\n",
    "RANDOM_SEED = 42"
   ]
  },
  {
   "cell_type": "code",
   "execution_count": 2,
   "metadata": {},
   "outputs": [],
   "source": [
    "# url = \"/home/avijoy/Downloads/Dataset/DSADS/data\""
   ]
  },
  {
   "cell_type": "code",
   "execution_count": 3,
   "metadata": {},
   "outputs": [],
   "source": [
    "url = \"/home/avijoychakma/Downloads/PerCom 2020/Dataset/DSADS/data\""
   ]
  },
  {
   "cell_type": "code",
   "execution_count": 4,
   "metadata": {},
   "outputs": [],
   "source": [
    "data = pd.read_csv(url+'/a01/p1/s01.txt', sep=\",\", header=None)"
   ]
  },
  {
   "cell_type": "code",
   "execution_count": 5,
   "metadata": {},
   "outputs": [
    {
     "data": {
      "text/html": [
       "<div>\n",
       "<style scoped>\n",
       "    .dataframe tbody tr th:only-of-type {\n",
       "        vertical-align: middle;\n",
       "    }\n",
       "\n",
       "    .dataframe tbody tr th {\n",
       "        vertical-align: top;\n",
       "    }\n",
       "\n",
       "    .dataframe thead th {\n",
       "        text-align: right;\n",
       "    }\n",
       "</style>\n",
       "<table border=\"1\" class=\"dataframe\">\n",
       "  <thead>\n",
       "    <tr style=\"text-align: right;\">\n",
       "      <th></th>\n",
       "      <th>0</th>\n",
       "      <th>1</th>\n",
       "      <th>2</th>\n",
       "      <th>3</th>\n",
       "      <th>4</th>\n",
       "      <th>5</th>\n",
       "      <th>6</th>\n",
       "      <th>7</th>\n",
       "      <th>8</th>\n",
       "      <th>9</th>\n",
       "      <th>...</th>\n",
       "      <th>35</th>\n",
       "      <th>36</th>\n",
       "      <th>37</th>\n",
       "      <th>38</th>\n",
       "      <th>39</th>\n",
       "      <th>40</th>\n",
       "      <th>41</th>\n",
       "      <th>42</th>\n",
       "      <th>43</th>\n",
       "      <th>44</th>\n",
       "    </tr>\n",
       "  </thead>\n",
       "  <tbody>\n",
       "    <tr>\n",
       "      <th>0</th>\n",
       "      <td>8.1305</td>\n",
       "      <td>1.0349</td>\n",
       "      <td>5.4217</td>\n",
       "      <td>-0.009461</td>\n",
       "      <td>0.001915</td>\n",
       "      <td>-0.003424</td>\n",
       "      <td>-0.78712</td>\n",
       "      <td>-0.069654</td>\n",
       "      <td>0.15730</td>\n",
       "      <td>0.70097</td>\n",
       "      <td>...</td>\n",
       "      <td>-0.036453</td>\n",
       "      <td>-2.8071</td>\n",
       "      <td>-9.0812</td>\n",
       "      <td>2.6220</td>\n",
       "      <td>-0.000232</td>\n",
       "      <td>-0.012092</td>\n",
       "      <td>-0.004457</td>\n",
       "      <td>0.74017</td>\n",
       "      <td>0.30053</td>\n",
       "      <td>-0.057730</td>\n",
       "    </tr>\n",
       "    <tr>\n",
       "      <th>1</th>\n",
       "      <td>8.1305</td>\n",
       "      <td>1.0202</td>\n",
       "      <td>5.3843</td>\n",
       "      <td>-0.009368</td>\n",
       "      <td>0.023485</td>\n",
       "      <td>0.001953</td>\n",
       "      <td>-0.78717</td>\n",
       "      <td>-0.068275</td>\n",
       "      <td>0.15890</td>\n",
       "      <td>0.71829</td>\n",
       "      <td>...</td>\n",
       "      <td>-0.034005</td>\n",
       "      <td>-2.8146</td>\n",
       "      <td>-9.0737</td>\n",
       "      <td>2.6218</td>\n",
       "      <td>-0.014784</td>\n",
       "      <td>-0.016477</td>\n",
       "      <td>0.002789</td>\n",
       "      <td>0.73937</td>\n",
       "      <td>0.30183</td>\n",
       "      <td>-0.057514</td>\n",
       "    </tr>\n",
       "    <tr>\n",
       "      <th>2</th>\n",
       "      <td>8.1604</td>\n",
       "      <td>1.0201</td>\n",
       "      <td>5.3622</td>\n",
       "      <td>0.015046</td>\n",
       "      <td>0.014330</td>\n",
       "      <td>0.000204</td>\n",
       "      <td>-0.78664</td>\n",
       "      <td>-0.068277</td>\n",
       "      <td>0.15879</td>\n",
       "      <td>0.69849</td>\n",
       "      <td>...</td>\n",
       "      <td>-0.036489</td>\n",
       "      <td>-2.8221</td>\n",
       "      <td>-9.0886</td>\n",
       "      <td>2.6366</td>\n",
       "      <td>-0.012770</td>\n",
       "      <td>0.005717</td>\n",
       "      <td>-0.007918</td>\n",
       "      <td>0.73955</td>\n",
       "      <td>0.30052</td>\n",
       "      <td>-0.057219</td>\n",
       "    </tr>\n",
       "    <tr>\n",
       "      <th>3</th>\n",
       "      <td>8.1603</td>\n",
       "      <td>1.0052</td>\n",
       "      <td>5.3770</td>\n",
       "      <td>0.006892</td>\n",
       "      <td>0.018045</td>\n",
       "      <td>0.005649</td>\n",
       "      <td>-0.78529</td>\n",
       "      <td>-0.069849</td>\n",
       "      <td>0.15912</td>\n",
       "      <td>0.72799</td>\n",
       "      <td>...</td>\n",
       "      <td>-0.036151</td>\n",
       "      <td>-2.8071</td>\n",
       "      <td>-9.0811</td>\n",
       "      <td>2.6070</td>\n",
       "      <td>-0.005725</td>\n",
       "      <td>0.009620</td>\n",
       "      <td>0.006555</td>\n",
       "      <td>0.74029</td>\n",
       "      <td>0.30184</td>\n",
       "      <td>-0.057750</td>\n",
       "    </tr>\n",
       "    <tr>\n",
       "      <th>4</th>\n",
       "      <td>8.1605</td>\n",
       "      <td>1.0275</td>\n",
       "      <td>5.3473</td>\n",
       "      <td>0.008811</td>\n",
       "      <td>0.030433</td>\n",
       "      <td>-0.005346</td>\n",
       "      <td>-0.78742</td>\n",
       "      <td>-0.068796</td>\n",
       "      <td>0.15916</td>\n",
       "      <td>0.71572</td>\n",
       "      <td>...</td>\n",
       "      <td>-0.033807</td>\n",
       "      <td>-2.8146</td>\n",
       "      <td>-9.0737</td>\n",
       "      <td>2.6218</td>\n",
       "      <td>-0.003929</td>\n",
       "      <td>-0.008371</td>\n",
       "      <td>0.002816</td>\n",
       "      <td>0.73845</td>\n",
       "      <td>0.30090</td>\n",
       "      <td>-0.057527</td>\n",
       "    </tr>\n",
       "  </tbody>\n",
       "</table>\n",
       "<p>5 rows × 45 columns</p>\n",
       "</div>"
      ],
      "text/plain": [
       "       0       1       2         3         4         5        6         7   \\\n",
       "0  8.1305  1.0349  5.4217 -0.009461  0.001915 -0.003424 -0.78712 -0.069654   \n",
       "1  8.1305  1.0202  5.3843 -0.009368  0.023485  0.001953 -0.78717 -0.068275   \n",
       "2  8.1604  1.0201  5.3622  0.015046  0.014330  0.000204 -0.78664 -0.068277   \n",
       "3  8.1603  1.0052  5.3770  0.006892  0.018045  0.005649 -0.78529 -0.069849   \n",
       "4  8.1605  1.0275  5.3473  0.008811  0.030433 -0.005346 -0.78742 -0.068796   \n",
       "\n",
       "        8        9   ...        35      36      37      38        39  \\\n",
       "0  0.15730  0.70097  ... -0.036453 -2.8071 -9.0812  2.6220 -0.000232   \n",
       "1  0.15890  0.71829  ... -0.034005 -2.8146 -9.0737  2.6218 -0.014784   \n",
       "2  0.15879  0.69849  ... -0.036489 -2.8221 -9.0886  2.6366 -0.012770   \n",
       "3  0.15912  0.72799  ... -0.036151 -2.8071 -9.0811  2.6070 -0.005725   \n",
       "4  0.15916  0.71572  ... -0.033807 -2.8146 -9.0737  2.6218 -0.003929   \n",
       "\n",
       "         40        41       42       43        44  \n",
       "0 -0.012092 -0.004457  0.74017  0.30053 -0.057730  \n",
       "1 -0.016477  0.002789  0.73937  0.30183 -0.057514  \n",
       "2  0.005717 -0.007918  0.73955  0.30052 -0.057219  \n",
       "3  0.009620  0.006555  0.74029  0.30184 -0.057750  \n",
       "4 -0.008371  0.002816  0.73845  0.30090 -0.057527  \n",
       "\n",
       "[5 rows x 45 columns]"
      ]
     },
     "execution_count": 5,
     "metadata": {},
     "output_type": "execute_result"
    }
   ],
   "source": [
    "data.head()"
   ]
  },
  {
   "cell_type": "code",
   "execution_count": 6,
   "metadata": {},
   "outputs": [
    {
     "data": {
      "text/plain": [
       "(125, 45)"
      ]
     },
     "execution_count": 6,
     "metadata": {},
     "output_type": "execute_result"
    }
   ],
   "source": [
    "data.shape"
   ]
  },
  {
   "cell_type": "markdown",
   "metadata": {},
   "source": [
    "### File Information\n",
    "    - Torso: 1-9\n",
    "    - RA: 10-18\n",
    "    - LA: 19-27\n",
    "    - RL: 28-36\n",
    "    - LL: 37-45"
   ]
  },
  {
   "cell_type": "markdown",
   "metadata": {},
   "source": [
    "### Label Information\n",
    "    - a1 = Sitting = 2\n",
    "    - a2 = Standing = 3\n",
    "    - a3 and a4 = Lying back and right = 1\n",
    "    - a9 = walking = 4\n",
    "    - a10 = walking trademill flat 10km/h = 4\n",
    "    - a11 = walking trademill 15 deg inclined = 4\n",
    "    - a12 = running on trademill 8km/h = 5\n",
    "    - a5 = ascending stairs = 12\n",
    "    - a6 = descending stairs = 13"
   ]
  },
  {
   "cell_type": "markdown",
   "metadata": {},
   "source": [
    "#### In future a9, a10, a11 can be merged together "
   ]
  },
  {
   "cell_type": "code",
   "execution_count": 7,
   "metadata": {},
   "outputs": [],
   "source": [
    "COLUMN_NAME = ['AccX', 'AccY','AccZ', 'GyrX', 'GyrY', 'GyrZ', 'MagX', 'MagY','MagZ',\"Person\",\"Activity\"]\n",
    "action = ['a00','a01','a02','a03','a04','a05','a06','a07','a08','a09','a10','a11','a12','a13','a14','a15','a16','a17','a18','a19']\n",
    "a1 = 2\n",
    "a2 = 3\n",
    "a3 = 1\n",
    "a4 = 1\n",
    "a9 = 4\n",
    "# a10= 4\n",
    "# a11= 4\n",
    "a12= 5\n",
    "a5 = 12\n",
    "a6 = 13"
   ]
  },
  {
   "cell_type": "code",
   "execution_count": 8,
   "metadata": {},
   "outputs": [
    {
     "data": {
      "text/plain": [
       "'a01'"
      ]
     },
     "execution_count": 8,
     "metadata": {},
     "output_type": "execute_result"
    }
   ],
   "source": [
    "action[1]"
   ]
  },
  {
   "cell_type": "code",
   "execution_count": 9,
   "metadata": {},
   "outputs": [],
   "source": [
    "torso_index = [0,1,2,3,4,5,6,7,8,\"Person\", \"Activity\"]\n",
    "right_arm_index = [9,10,11,12,13,14,15,16,17,\"Person\", \"Activity\"]\n",
    "left_arm_index = [18,19,20,21,22,23,24,25,26,\"Person\", \"Activity\"]\n",
    "right_leg_index = [27,28,29,30,31,32,33,34,35,\"Person\", \"Activity\"]\n",
    "left_leg_index = [36,37,38,39,40,41,42,43,44,\"Person\", \"Activity\"]"
   ]
  },
  {
   "cell_type": "code",
   "execution_count": 10,
   "metadata": {},
   "outputs": [],
   "source": [
    "body_part_index = [torso_index,right_arm_index,left_arm_index,right_leg_index,left_leg_index]"
   ]
  },
  {
   "cell_type": "code",
   "execution_count": 11,
   "metadata": {},
   "outputs": [],
   "source": [
    "body_part = [\"Torso\",\"Right_Arm\",\"Left_Arm\",\"Right_Leg\",\"Left_Leg\"]"
   ]
  },
  {
   "cell_type": "markdown",
   "metadata": {},
   "source": [
    "# 1. Merge Files"
   ]
  },
  {
   "cell_type": "markdown",
   "metadata": {},
   "source": [
    "#### Function: Merge all the 60 files for a person for a specific activity\n",
    "    - Total time = 5 mins [For each minute 12 segment, For 5 mins 60 segment]"
   ]
  },
  {
   "cell_type": "markdown",
   "metadata": {},
   "source": [
    "### A1"
   ]
  },
  {
   "cell_type": "code",
   "execution_count": 12,
   "metadata": {
    "scrolled": false
   },
   "outputs": [],
   "source": [
    "A1total_data = {}\n",
    "def A1merge_datafiles(action, person):\n",
    "    global A1total_data\n",
    "    index = int(person[1:len(person)])\n",
    "    for x in range(1,61):\n",
    "        if x == 1:\n",
    "            # To create an initial dataframe only once\n",
    "            s = 's0'+str(x)\n",
    "            A1total_data[index] = pd.read_csv(url+'/'+action+'/'+person+'/'+s+'.txt', sep=\",\", header=None)\n",
    "        elif x < 10:\n",
    "            s = 's0'+str(x)\n",
    "            patial_data = pd.read_csv(url+'/'+action+'/'+person+'/'+s+'.txt', sep=\",\", header=None)\n",
    "            A1total_data[index] =A1total_data[index].append(patial_data)\n",
    "        else:\n",
    "            s = 's'+str(x)\n",
    "            patial_data = pd.read_csv(url+'/'+action+'/'+person+'/'+s+'.txt', sep=\",\", header=None)\n",
    "            A1total_data[index] = A1total_data[index].append(patial_data)\n",
    "    \n",
    "    A1total_data[index].loc[:, 'Person'] = index\n",
    "#     A1total_data[index].loc[:, 'Activity'] = action\n",
    "    A1total_data[index].loc[:, 'Activity'] = 0\n",
    "    A1total_data[index].reset_index(drop=True, inplace=True)"
   ]
  },
  {
   "cell_type": "markdown",
   "metadata": {},
   "source": [
    "##### Combine All 60 Files Under Each User"
   ]
  },
  {
   "cell_type": "code",
   "execution_count": 13,
   "metadata": {},
   "outputs": [],
   "source": [
    "for i in range(1,9):\n",
    "    A1merge_datafiles(action[1],'p' + str(i))"
   ]
  },
  {
   "cell_type": "code",
   "execution_count": 14,
   "metadata": {},
   "outputs": [],
   "source": [
    "# A1total_data[1].shape"
   ]
  },
  {
   "cell_type": "markdown",
   "metadata": {},
   "source": [
    "### A2"
   ]
  },
  {
   "cell_type": "code",
   "execution_count": 15,
   "metadata": {},
   "outputs": [],
   "source": [
    "A2total_data = {}\n",
    "def A2merge_datafiles(action, person):\n",
    "    global A2total_data\n",
    "    index = int(person[1:len(person)])\n",
    "    for x in range(1,61):\n",
    "        if x == 1:\n",
    "            # To create an initial dataframe only once\n",
    "            s = 's0'+str(x)\n",
    "            A2total_data[index] = pd.read_csv(url+'/'+action+'/'+person+'/'+s+'.txt', sep=\",\", header=None)\n",
    "        elif x < 10:\n",
    "            s = 's0'+str(x)\n",
    "            patial_data = pd.read_csv(url+'/'+action+'/'+person+'/'+s+'.txt', sep=\",\", header=None)\n",
    "            A2total_data[index] =A2total_data[index].append(patial_data)\n",
    "        else:\n",
    "            s = 's'+str(x)\n",
    "            patial_data = pd.read_csv(url+'/'+action+'/'+person+'/'+s+'.txt', sep=\",\", header=None)\n",
    "            A2total_data[index] = A2total_data[index].append(patial_data)\n",
    "            \n",
    "    A2total_data[index].loc[:, 'Person'] = index\n",
    "    A2total_data[index].loc[:, 'Activity'] = 1\n",
    "    A2total_data[index].reset_index(drop=True, inplace=True)"
   ]
  },
  {
   "cell_type": "code",
   "execution_count": 16,
   "metadata": {},
   "outputs": [],
   "source": [
    "for i in range(1,9):\n",
    "    A2merge_datafiles(action[2],'p' + str(i))"
   ]
  },
  {
   "cell_type": "markdown",
   "metadata": {},
   "source": [
    "### A9"
   ]
  },
  {
   "cell_type": "code",
   "execution_count": 17,
   "metadata": {},
   "outputs": [],
   "source": [
    "A9total_data = {}\n",
    "def A9merge_datafiles(action, person):\n",
    "    global A9total_data\n",
    "    index = int(person[1:len(person)])\n",
    "    for x in range(1,61):\n",
    "        if x == 1:\n",
    "            # To create an initial dataframe only once\n",
    "            s = 's0'+str(x)\n",
    "            A9total_data[index] = pd.read_csv(url+'/'+action+'/'+person+'/'+s+'.txt', sep=\",\", header=None)\n",
    "        elif x < 10:\n",
    "            s = 's0'+str(x)\n",
    "            patial_data = pd.read_csv(url+'/'+action+'/'+person+'/'+s+'.txt', sep=\",\", header=None)\n",
    "            A9total_data[index] =A9total_data[index].append(patial_data)\n",
    "        else:\n",
    "            s = 's'+str(x)\n",
    "            patial_data = pd.read_csv(url+'/'+action+'/'+person+'/'+s+'.txt', sep=\",\", header=None)\n",
    "            A9total_data[index] = A9total_data[index].append(patial_data)\n",
    "            \n",
    "    A9total_data[index].loc[:, 'Person'] = index\n",
    "    A9total_data[index].loc[:, 'Activity'] = 3\n",
    "    A9total_data[index].reset_index(drop=True, inplace=True)"
   ]
  },
  {
   "cell_type": "code",
   "execution_count": 18,
   "metadata": {},
   "outputs": [],
   "source": [
    "for i in range(1,9):\n",
    "    A9merge_datafiles(action[9],'p' + str(i))"
   ]
  },
  {
   "cell_type": "markdown",
   "metadata": {},
   "source": [
    "### A12"
   ]
  },
  {
   "cell_type": "markdown",
   "metadata": {},
   "source": [
    "### Check the index value in this point"
   ]
  },
  {
   "cell_type": "code",
   "execution_count": 21,
   "metadata": {},
   "outputs": [],
   "source": [
    "A12total_data = {}\n",
    "def A12merge_datafiles(action, person):\n",
    "    global A12total_data\n",
    "    index = int(person[1:len(person)])\n",
    "#     print(index)\n",
    "    for x in range(1,61):\n",
    "        if x == 1:\n",
    "            # To create an initial dataframe only once\n",
    "            s = 's0'+str(x)\n",
    "            A12total_data[index] = pd.read_csv(url+'/'+action+'/'+person+'/'+s+'.txt', sep=\",\", header=None)\n",
    "        elif x < 10:\n",
    "            s = 's0'+str(x)\n",
    "            patial_data = pd.read_csv(url+'/'+action+'/'+person+'/'+s+'.txt', sep=\",\", header=None)\n",
    "            A12total_data[index] =A12total_data[index].append(patial_data)\n",
    "        else:\n",
    "            s = 's'+str(x)\n",
    "            patial_data = pd.read_csv(url+'/'+action+'/'+person+'/'+s+'.txt', sep=\",\", header=None)\n",
    "            A12total_data[index] = A12total_data[index].append(patial_data)\n",
    "            \n",
    "    A12total_data[index].loc[:, 'Person'] = index\n",
    "    A12total_data[index].loc[:, 'Activity'] = 4\n",
    "    A12total_data[index].reset_index(drop=True, inplace=True)"
   ]
  },
  {
   "cell_type": "code",
   "execution_count": 22,
   "metadata": {},
   "outputs": [],
   "source": [
    "for i in range(1,9):\n",
    "    A12merge_datafiles(action[12],'p' + str(i))"
   ]
  },
  {
   "cell_type": "markdown",
   "metadata": {},
   "source": [
    "### A5"
   ]
  },
  {
   "cell_type": "code",
   "execution_count": 23,
   "metadata": {},
   "outputs": [],
   "source": [
    "A5total_data = {}\n",
    "def A5merge_datafiles(action, person):\n",
    "    global A5total_data\n",
    "    index = int(person[1:len(person)])\n",
    "    for x in range(1,61):\n",
    "        if x == 1:\n",
    "            # To create an initial dataframe only once\n",
    "            s = 's0'+str(x)\n",
    "            A5total_data[index] = pd.read_csv(url+'/'+action+'/'+person+'/'+s+'.txt', sep=\",\", header=None)\n",
    "        elif x < 10:\n",
    "            s = 's0'+str(x)\n",
    "            patial_data = pd.read_csv(url+'/'+action+'/'+person+'/'+s+'.txt', sep=\",\", header=None)\n",
    "            A5total_data[index] =A5total_data[index].append(patial_data)\n",
    "        else:\n",
    "            s = 's'+str(x)\n",
    "            patial_data = pd.read_csv(url+'/'+action+'/'+person+'/'+s+'.txt', sep=\",\", header=None)\n",
    "            A5total_data[index] = A5total_data[index].append(patial_data)\n",
    "            \n",
    "    A5total_data[index].loc[:, 'Person'] = index\n",
    "    A5total_data[index].loc[:, 'Activity'] = 5\n",
    "    A5total_data[index].reset_index(drop=True, inplace=True)"
   ]
  },
  {
   "cell_type": "code",
   "execution_count": 24,
   "metadata": {},
   "outputs": [],
   "source": [
    "for i in range(1,9):\n",
    "    A5merge_datafiles(action[5],'p' + str(i))"
   ]
  },
  {
   "cell_type": "markdown",
   "metadata": {},
   "source": [
    "### A6"
   ]
  },
  {
   "cell_type": "code",
   "execution_count": 25,
   "metadata": {},
   "outputs": [],
   "source": [
    "A6total_data = {}\n",
    "def A6merge_datafiles(action, person):\n",
    "    global A6total_data\n",
    "    index = int(person[1:len(person)])\n",
    "    for x in range(1,61):\n",
    "        if x == 1:\n",
    "            # To create an initial dataframe only once\n",
    "            s = 's0'+str(x)\n",
    "            A6total_data[index] = pd.read_csv(url+'/'+action+'/'+person+'/'+s+'.txt', sep=\",\", header=None)\n",
    "        elif x < 10:\n",
    "            s = 's0'+str(x)\n",
    "            patial_data = pd.read_csv(url+'/'+action+'/'+person+'/'+s+'.txt', sep=\",\", header=None)\n",
    "            A6total_data[index] =A6total_data[index].append(patial_data)\n",
    "        else:\n",
    "            s = 's'+str(x)\n",
    "            patial_data = pd.read_csv(url+'/'+action+'/'+person+'/'+s+'.txt', sep=\",\", header=None)\n",
    "            A6total_data[index] = A6total_data[index].append(patial_data)\n",
    "            \n",
    "    A6total_data[index].loc[:, 'Person'] = index\n",
    "    A6total_data[index].loc[:, 'Activity'] = 6\n",
    "    A6total_data[index].reset_index(drop=True, inplace=True)"
   ]
  },
  {
   "cell_type": "code",
   "execution_count": 26,
   "metadata": {},
   "outputs": [],
   "source": [
    "for i in range(1,9):\n",
    "    A6merge_datafiles(action[6],'p' + str(i))"
   ]
  },
  {
   "cell_type": "markdown",
   "metadata": {},
   "source": [
    "### A3"
   ]
  },
  {
   "cell_type": "code",
   "execution_count": 27,
   "metadata": {},
   "outputs": [],
   "source": [
    "A3total_data = {}\n",
    "def A3merge_datafiles(action, person):\n",
    "    global A3total_data\n",
    "    index = int(person[1:len(person)])\n",
    "    for x in range(1,61):\n",
    "        if x == 1:\n",
    "            # To create an initial dataframe only once\n",
    "            s = 's0'+str(x)\n",
    "            A3total_data[index] = pd.read_csv(url+'/'+action+'/'+person+'/'+s+'.txt', sep=\",\", header=None)\n",
    "        elif x < 10:\n",
    "            s = 's0'+str(x)\n",
    "            patial_data = pd.read_csv(url+'/'+action+'/'+person+'/'+s+'.txt', sep=\",\", header=None)\n",
    "            A3total_data[index] =A3total_data[index].append(patial_data)\n",
    "        else:\n",
    "            s = 's'+str(x)\n",
    "            patial_data = pd.read_csv(url+'/'+action+'/'+person+'/'+s+'.txt', sep=\",\", header=None)\n",
    "            A3total_data[index] = A3total_data[index].append(patial_data)\n",
    "            \n",
    "    A3total_data[index].loc[:, 'Person'] = index\n",
    "    A3total_data[index].loc[:, 'Activity'] = 2\n",
    "    A3total_data[index].reset_index(drop=True, inplace=True)"
   ]
  },
  {
   "cell_type": "code",
   "execution_count": 28,
   "metadata": {},
   "outputs": [],
   "source": [
    "for i in range(1,9):\n",
    "    A3merge_datafiles(action[3],'p' + str(i))"
   ]
  },
  {
   "cell_type": "markdown",
   "metadata": {},
   "source": [
    "### A4"
   ]
  },
  {
   "cell_type": "code",
   "execution_count": 29,
   "metadata": {},
   "outputs": [],
   "source": [
    "A4total_data = {}\n",
    "def A4merge_datafiles(action, person):\n",
    "    global A4total_data\n",
    "    index = int(person[1:len(person)])\n",
    "    for x in range(1,61):\n",
    "        if x == 1:\n",
    "            # To create an initial dataframe only once\n",
    "            s = 's0'+str(x)\n",
    "            A4total_data[index] = pd.read_csv(url+'/'+action+'/'+person+'/'+s+'.txt', sep=\",\", header=None)\n",
    "        elif x < 10:\n",
    "            s = 's0'+str(x)\n",
    "            patial_data = pd.read_csv(url+'/'+action+'/'+person+'/'+s+'.txt', sep=\",\", header=None)\n",
    "            A4total_data[index] =A4total_data[index].append(patial_data)\n",
    "        else:\n",
    "            s = 's'+str(x)\n",
    "            patial_data = pd.read_csv(url+'/'+action+'/'+person+'/'+s+'.txt', sep=\",\", header=None)\n",
    "            A4total_data[index] = A4total_data[index].append(patial_data)\n",
    "            \n",
    "    A4total_data[index].loc[:, 'Person'] = index\n",
    "    A4total_data[index].loc[:, 'Activity'] = 2\n",
    "    A4total_data[index].reset_index(drop=True, inplace=True)"
   ]
  },
  {
   "cell_type": "code",
   "execution_count": 30,
   "metadata": {},
   "outputs": [],
   "source": [
    "for i in range(1,9):\n",
    "    A4merge_datafiles(action[4],'p' + str(i))"
   ]
  },
  {
   "cell_type": "markdown",
   "metadata": {},
   "source": [
    "# 2. Combine All The Dataframes and Do Normalization, Standardization"
   ]
  },
  {
   "cell_type": "code",
   "execution_count": 31,
   "metadata": {},
   "outputs": [],
   "source": [
    "A1_total_frame = pd.concat([A1total_data[1],A1total_data[2],A1total_data[3],A1total_data[4],A1total_data[5],A1total_data[6],A1total_data[7],A1total_data[8]], ignore_index=True)\n",
    "A1_total_frame.reset_index(drop=True, inplace=True)\n",
    "\n",
    "A2_total_frame = pd.concat([A2total_data[1],A2total_data[2],A2total_data[3],A2total_data[4],A2total_data[5],A2total_data[6],A2total_data[7],A2total_data[8]], ignore_index=True)\n",
    "A2_total_frame.reset_index(drop=True, inplace=True)\n",
    "\n",
    "A3_total_frame = pd.concat([A3total_data[1],A3total_data[2],A3total_data[3],A3total_data[4],A3total_data[5],A3total_data[6],A3total_data[7],A3total_data[8]], ignore_index=True)\n",
    "A3_total_frame.reset_index(drop=True, inplace=True)\n",
    "\n",
    "A4_total_frame = pd.concat([A4total_data[1],A4total_data[2],A4total_data[3],A4total_data[4],A4total_data[5],A4total_data[6],A4total_data[7],A4total_data[8]], ignore_index=True)\n",
    "A4_total_frame.reset_index(drop=True, inplace=True)\n",
    "\n",
    "A5_total_frame = pd.concat([A5total_data[1],A5total_data[2],A5total_data[3],A5total_data[4],A5total_data[5],A5total_data[6],A5total_data[7],A5total_data[8]], ignore_index=True)\n",
    "A5_total_frame.reset_index(drop=True, inplace=True)\n",
    "\n",
    "A6_total_frame = pd.concat([A6total_data[1],A6total_data[2],A6total_data[3],A6total_data[4],A6total_data[5],A6total_data[6],A6total_data[7],A6total_data[8]], ignore_index=True)\n",
    "A6_total_frame.reset_index(drop=True, inplace=True)\n",
    "\n",
    "A9_total_frame = pd.concat([A9total_data[1],A9total_data[2],A9total_data[3],A9total_data[4],A9total_data[5],A9total_data[6],A9total_data[7],A9total_data[8]], ignore_index=True)\n",
    "A9_total_frame.reset_index(drop=True, inplace=True)\n",
    "\n",
    "A12_total_frame = pd.concat([A12total_data[1],A12total_data[2],A12total_data[3],A12total_data[4],A12total_data[5],A12total_data[6],A12total_data[7],A12total_data[8]], ignore_index=True)\n",
    "A12_total_frame.reset_index(drop=True, inplace=True)"
   ]
  },
  {
   "cell_type": "code",
   "execution_count": 32,
   "metadata": {},
   "outputs": [],
   "source": [
    "Grad_Total_Frame = pd.concat([A1_total_frame, A2_total_frame, A3_total_frame, A4_total_frame, A5_total_frame, A6_total_frame, A9_total_frame, A12_total_frame], ignore_index=True)\n",
    "Grad_Total_Frame.reset_index(drop=True, inplace=True)"
   ]
  },
  {
   "cell_type": "code",
   "execution_count": 33,
   "metadata": {},
   "outputs": [
    {
     "data": {
      "text/plain": [
       "(480000, 47)"
      ]
     },
     "execution_count": 33,
     "metadata": {},
     "output_type": "execute_result"
    }
   ],
   "source": [
    "Grad_Total_Frame.shape"
   ]
  },
  {
   "cell_type": "code",
   "execution_count": 34,
   "metadata": {},
   "outputs": [
    {
     "data": {
      "text/html": [
       "<div>\n",
       "<style scoped>\n",
       "    .dataframe tbody tr th:only-of-type {\n",
       "        vertical-align: middle;\n",
       "    }\n",
       "\n",
       "    .dataframe tbody tr th {\n",
       "        vertical-align: top;\n",
       "    }\n",
       "\n",
       "    .dataframe thead th {\n",
       "        text-align: right;\n",
       "    }\n",
       "</style>\n",
       "<table border=\"1\" class=\"dataframe\">\n",
       "  <thead>\n",
       "    <tr style=\"text-align: right;\">\n",
       "      <th></th>\n",
       "      <th>0</th>\n",
       "      <th>1</th>\n",
       "      <th>2</th>\n",
       "      <th>3</th>\n",
       "      <th>4</th>\n",
       "      <th>5</th>\n",
       "      <th>6</th>\n",
       "      <th>7</th>\n",
       "      <th>8</th>\n",
       "      <th>9</th>\n",
       "      <th>...</th>\n",
       "      <th>37</th>\n",
       "      <th>38</th>\n",
       "      <th>39</th>\n",
       "      <th>40</th>\n",
       "      <th>41</th>\n",
       "      <th>42</th>\n",
       "      <th>43</th>\n",
       "      <th>44</th>\n",
       "      <th>Person</th>\n",
       "      <th>Activity</th>\n",
       "    </tr>\n",
       "  </thead>\n",
       "  <tbody>\n",
       "    <tr>\n",
       "      <th>0</th>\n",
       "      <td>8.1305</td>\n",
       "      <td>1.0349</td>\n",
       "      <td>5.4217</td>\n",
       "      <td>-0.009461</td>\n",
       "      <td>0.001915</td>\n",
       "      <td>-0.003424</td>\n",
       "      <td>-0.78712</td>\n",
       "      <td>-0.069654</td>\n",
       "      <td>0.15730</td>\n",
       "      <td>0.70097</td>\n",
       "      <td>...</td>\n",
       "      <td>-9.0812</td>\n",
       "      <td>2.6220</td>\n",
       "      <td>-0.000232</td>\n",
       "      <td>-0.012092</td>\n",
       "      <td>-0.004457</td>\n",
       "      <td>0.74017</td>\n",
       "      <td>0.30053</td>\n",
       "      <td>-0.057730</td>\n",
       "      <td>1</td>\n",
       "      <td>0</td>\n",
       "    </tr>\n",
       "    <tr>\n",
       "      <th>1</th>\n",
       "      <td>8.1305</td>\n",
       "      <td>1.0202</td>\n",
       "      <td>5.3843</td>\n",
       "      <td>-0.009368</td>\n",
       "      <td>0.023485</td>\n",
       "      <td>0.001953</td>\n",
       "      <td>-0.78717</td>\n",
       "      <td>-0.068275</td>\n",
       "      <td>0.15890</td>\n",
       "      <td>0.71829</td>\n",
       "      <td>...</td>\n",
       "      <td>-9.0737</td>\n",
       "      <td>2.6218</td>\n",
       "      <td>-0.014784</td>\n",
       "      <td>-0.016477</td>\n",
       "      <td>0.002789</td>\n",
       "      <td>0.73937</td>\n",
       "      <td>0.30183</td>\n",
       "      <td>-0.057514</td>\n",
       "      <td>1</td>\n",
       "      <td>0</td>\n",
       "    </tr>\n",
       "    <tr>\n",
       "      <th>2</th>\n",
       "      <td>8.1604</td>\n",
       "      <td>1.0201</td>\n",
       "      <td>5.3622</td>\n",
       "      <td>0.015046</td>\n",
       "      <td>0.014330</td>\n",
       "      <td>0.000204</td>\n",
       "      <td>-0.78664</td>\n",
       "      <td>-0.068277</td>\n",
       "      <td>0.15879</td>\n",
       "      <td>0.69849</td>\n",
       "      <td>...</td>\n",
       "      <td>-9.0886</td>\n",
       "      <td>2.6366</td>\n",
       "      <td>-0.012770</td>\n",
       "      <td>0.005717</td>\n",
       "      <td>-0.007918</td>\n",
       "      <td>0.73955</td>\n",
       "      <td>0.30052</td>\n",
       "      <td>-0.057219</td>\n",
       "      <td>1</td>\n",
       "      <td>0</td>\n",
       "    </tr>\n",
       "    <tr>\n",
       "      <th>3</th>\n",
       "      <td>8.1603</td>\n",
       "      <td>1.0052</td>\n",
       "      <td>5.3770</td>\n",
       "      <td>0.006892</td>\n",
       "      <td>0.018045</td>\n",
       "      <td>0.005649</td>\n",
       "      <td>-0.78529</td>\n",
       "      <td>-0.069849</td>\n",
       "      <td>0.15912</td>\n",
       "      <td>0.72799</td>\n",
       "      <td>...</td>\n",
       "      <td>-9.0811</td>\n",
       "      <td>2.6070</td>\n",
       "      <td>-0.005725</td>\n",
       "      <td>0.009620</td>\n",
       "      <td>0.006555</td>\n",
       "      <td>0.74029</td>\n",
       "      <td>0.30184</td>\n",
       "      <td>-0.057750</td>\n",
       "      <td>1</td>\n",
       "      <td>0</td>\n",
       "    </tr>\n",
       "    <tr>\n",
       "      <th>4</th>\n",
       "      <td>8.1605</td>\n",
       "      <td>1.0275</td>\n",
       "      <td>5.3473</td>\n",
       "      <td>0.008811</td>\n",
       "      <td>0.030433</td>\n",
       "      <td>-0.005346</td>\n",
       "      <td>-0.78742</td>\n",
       "      <td>-0.068796</td>\n",
       "      <td>0.15916</td>\n",
       "      <td>0.71572</td>\n",
       "      <td>...</td>\n",
       "      <td>-9.0737</td>\n",
       "      <td>2.6218</td>\n",
       "      <td>-0.003929</td>\n",
       "      <td>-0.008371</td>\n",
       "      <td>0.002816</td>\n",
       "      <td>0.73845</td>\n",
       "      <td>0.30090</td>\n",
       "      <td>-0.057527</td>\n",
       "      <td>1</td>\n",
       "      <td>0</td>\n",
       "    </tr>\n",
       "  </tbody>\n",
       "</table>\n",
       "<p>5 rows × 47 columns</p>\n",
       "</div>"
      ],
      "text/plain": [
       "        0       1       2         3         4         5        6         7  \\\n",
       "0  8.1305  1.0349  5.4217 -0.009461  0.001915 -0.003424 -0.78712 -0.069654   \n",
       "1  8.1305  1.0202  5.3843 -0.009368  0.023485  0.001953 -0.78717 -0.068275   \n",
       "2  8.1604  1.0201  5.3622  0.015046  0.014330  0.000204 -0.78664 -0.068277   \n",
       "3  8.1603  1.0052  5.3770  0.006892  0.018045  0.005649 -0.78529 -0.069849   \n",
       "4  8.1605  1.0275  5.3473  0.008811  0.030433 -0.005346 -0.78742 -0.068796   \n",
       "\n",
       "         8        9  ...      37      38        39        40        41  \\\n",
       "0  0.15730  0.70097  ... -9.0812  2.6220 -0.000232 -0.012092 -0.004457   \n",
       "1  0.15890  0.71829  ... -9.0737  2.6218 -0.014784 -0.016477  0.002789   \n",
       "2  0.15879  0.69849  ... -9.0886  2.6366 -0.012770  0.005717 -0.007918   \n",
       "3  0.15912  0.72799  ... -9.0811  2.6070 -0.005725  0.009620  0.006555   \n",
       "4  0.15916  0.71572  ... -9.0737  2.6218 -0.003929 -0.008371  0.002816   \n",
       "\n",
       "        42       43        44  Person  Activity  \n",
       "0  0.74017  0.30053 -0.057730       1         0  \n",
       "1  0.73937  0.30183 -0.057514       1         0  \n",
       "2  0.73955  0.30052 -0.057219       1         0  \n",
       "3  0.74029  0.30184 -0.057750       1         0  \n",
       "4  0.73845  0.30090 -0.057527       1         0  \n",
       "\n",
       "[5 rows x 47 columns]"
      ]
     },
     "execution_count": 34,
     "metadata": {},
     "output_type": "execute_result"
    }
   ],
   "source": [
    "Grad_Total_Frame.head()"
   ]
  },
  {
   "cell_type": "markdown",
   "metadata": {},
   "source": [
    "### Normalization"
   ]
  },
  {
   "cell_type": "code",
   "execution_count": 35,
   "metadata": {},
   "outputs": [],
   "source": [
    "person_gt = np.array(Grad_Total_Frame['Person'])\n",
    "activity_gt = np.array(Grad_Total_Frame['Activity'])"
   ]
  },
  {
   "cell_type": "code",
   "execution_count": 36,
   "metadata": {},
   "outputs": [],
   "source": [
    "Grad_Total_Frame.drop(['Person','Activity'], axis=1, inplace=True)\n",
    "column_name = Grad_Total_Frame.columns"
   ]
  },
  {
   "cell_type": "code",
   "execution_count": 37,
   "metadata": {},
   "outputs": [],
   "source": [
    "min_max_scaler = preprocessing.MinMaxScaler()\n",
    "np_scaled = min_max_scaler.fit_transform(Grad_Total_Frame)\n",
    "refined_frame_normalized = pd.DataFrame(np_scaled)"
   ]
  },
  {
   "cell_type": "markdown",
   "metadata": {},
   "source": [
    "### Standadization"
   ]
  },
  {
   "cell_type": "code",
   "execution_count": 38,
   "metadata": {},
   "outputs": [],
   "source": [
    "scaler = preprocessing.StandardScaler()\n",
    "df_standardized = scaler.fit_transform(refined_frame_normalized)\n",
    "refined_frame_standardized = pd.DataFrame(df_standardized, columns=column_name)"
   ]
  },
  {
   "cell_type": "code",
   "execution_count": 39,
   "metadata": {},
   "outputs": [],
   "source": [
    "refined_frame_standardized[\"Person\"] = person_gt.copy()\n",
    "refined_frame_standardized[\"Activity\"] = activity_gt.copy()"
   ]
  },
  {
   "cell_type": "code",
   "execution_count": 40,
   "metadata": {},
   "outputs": [
    {
     "data": {
      "text/html": [
       "<div>\n",
       "<style scoped>\n",
       "    .dataframe tbody tr th:only-of-type {\n",
       "        vertical-align: middle;\n",
       "    }\n",
       "\n",
       "    .dataframe tbody tr th {\n",
       "        vertical-align: top;\n",
       "    }\n",
       "\n",
       "    .dataframe thead th {\n",
       "        text-align: right;\n",
       "    }\n",
       "</style>\n",
       "<table border=\"1\" class=\"dataframe\">\n",
       "  <thead>\n",
       "    <tr style=\"text-align: right;\">\n",
       "      <th></th>\n",
       "      <th>0</th>\n",
       "      <th>1</th>\n",
       "      <th>2</th>\n",
       "      <th>3</th>\n",
       "      <th>4</th>\n",
       "      <th>5</th>\n",
       "      <th>6</th>\n",
       "      <th>7</th>\n",
       "      <th>8</th>\n",
       "      <th>9</th>\n",
       "      <th>...</th>\n",
       "      <th>37</th>\n",
       "      <th>38</th>\n",
       "      <th>39</th>\n",
       "      <th>40</th>\n",
       "      <th>41</th>\n",
       "      <th>42</th>\n",
       "      <th>43</th>\n",
       "      <th>44</th>\n",
       "      <th>Person</th>\n",
       "      <th>Activity</th>\n",
       "    </tr>\n",
       "  </thead>\n",
       "  <tbody>\n",
       "    <tr>\n",
       "      <th>0</th>\n",
       "      <td>0.278446</td>\n",
       "      <td>0.780688</td>\n",
       "      <td>0.497715</td>\n",
       "      <td>-0.013858</td>\n",
       "      <td>-0.013510</td>\n",
       "      <td>-0.004827</td>\n",
       "      <td>-0.695099</td>\n",
       "      <td>-0.452608</td>\n",
       "      <td>1.249467</td>\n",
       "      <td>-0.780850</td>\n",
       "      <td>...</td>\n",
       "      <td>-0.969963</td>\n",
       "      <td>0.554351</td>\n",
       "      <td>0.026135</td>\n",
       "      <td>-0.090753</td>\n",
       "      <td>-0.003027</td>\n",
       "      <td>0.830582</td>\n",
       "      <td>0.194433</td>\n",
       "      <td>-0.175115</td>\n",
       "      <td>1</td>\n",
       "      <td>0</td>\n",
       "    </tr>\n",
       "    <tr>\n",
       "      <th>1</th>\n",
       "      <td>0.278446</td>\n",
       "      <td>0.776089</td>\n",
       "      <td>0.488171</td>\n",
       "      <td>-0.013742</td>\n",
       "      <td>0.015217</td>\n",
       "      <td>0.014610</td>\n",
       "      <td>-0.695217</td>\n",
       "      <td>-0.449359</td>\n",
       "      <td>1.253947</td>\n",
       "      <td>-0.777529</td>\n",
       "      <td>...</td>\n",
       "      <td>-0.968767</td>\n",
       "      <td>0.554305</td>\n",
       "      <td>0.008055</td>\n",
       "      <td>-0.100458</td>\n",
       "      <td>0.003641</td>\n",
       "      <td>0.828353</td>\n",
       "      <td>0.197541</td>\n",
       "      <td>-0.174612</td>\n",
       "      <td>1</td>\n",
       "      <td>0</td>\n",
       "    </tr>\n",
       "    <tr>\n",
       "      <th>2</th>\n",
       "      <td>0.283209</td>\n",
       "      <td>0.776058</td>\n",
       "      <td>0.482531</td>\n",
       "      <td>0.016628</td>\n",
       "      <td>0.003025</td>\n",
       "      <td>0.008288</td>\n",
       "      <td>-0.693960</td>\n",
       "      <td>-0.449364</td>\n",
       "      <td>1.253639</td>\n",
       "      <td>-0.781326</td>\n",
       "      <td>...</td>\n",
       "      <td>-0.971143</td>\n",
       "      <td>0.557725</td>\n",
       "      <td>0.010557</td>\n",
       "      <td>-0.051337</td>\n",
       "      <td>-0.006212</td>\n",
       "      <td>0.828855</td>\n",
       "      <td>0.194410</td>\n",
       "      <td>-0.173925</td>\n",
       "      <td>1</td>\n",
       "      <td>0</td>\n",
       "    </tr>\n",
       "    <tr>\n",
       "      <th>3</th>\n",
       "      <td>0.283193</td>\n",
       "      <td>0.771397</td>\n",
       "      <td>0.486308</td>\n",
       "      <td>0.006485</td>\n",
       "      <td>0.007972</td>\n",
       "      <td>0.027971</td>\n",
       "      <td>-0.690758</td>\n",
       "      <td>-0.453067</td>\n",
       "      <td>1.254563</td>\n",
       "      <td>-0.775669</td>\n",
       "      <td>...</td>\n",
       "      <td>-0.969947</td>\n",
       "      <td>0.550884</td>\n",
       "      <td>0.019311</td>\n",
       "      <td>-0.042698</td>\n",
       "      <td>0.007107</td>\n",
       "      <td>0.830917</td>\n",
       "      <td>0.197564</td>\n",
       "      <td>-0.175161</td>\n",
       "      <td>1</td>\n",
       "      <td>0</td>\n",
       "    </tr>\n",
       "    <tr>\n",
       "      <th>4</th>\n",
       "      <td>0.283225</td>\n",
       "      <td>0.778373</td>\n",
       "      <td>0.478729</td>\n",
       "      <td>0.008872</td>\n",
       "      <td>0.024471</td>\n",
       "      <td>-0.011774</td>\n",
       "      <td>-0.695810</td>\n",
       "      <td>-0.450586</td>\n",
       "      <td>1.254675</td>\n",
       "      <td>-0.778022</td>\n",
       "      <td>...</td>\n",
       "      <td>-0.968767</td>\n",
       "      <td>0.554305</td>\n",
       "      <td>0.021542</td>\n",
       "      <td>-0.082517</td>\n",
       "      <td>0.003666</td>\n",
       "      <td>0.825790</td>\n",
       "      <td>0.195318</td>\n",
       "      <td>-0.174642</td>\n",
       "      <td>1</td>\n",
       "      <td>0</td>\n",
       "    </tr>\n",
       "  </tbody>\n",
       "</table>\n",
       "<p>5 rows × 47 columns</p>\n",
       "</div>"
      ],
      "text/plain": [
       "          0         1         2         3         4         5         6  \\\n",
       "0  0.278446  0.780688  0.497715 -0.013858 -0.013510 -0.004827 -0.695099   \n",
       "1  0.278446  0.776089  0.488171 -0.013742  0.015217  0.014610 -0.695217   \n",
       "2  0.283209  0.776058  0.482531  0.016628  0.003025  0.008288 -0.693960   \n",
       "3  0.283193  0.771397  0.486308  0.006485  0.007972  0.027971 -0.690758   \n",
       "4  0.283225  0.778373  0.478729  0.008872  0.024471 -0.011774 -0.695810   \n",
       "\n",
       "          7         8         9  ...        37        38        39        40  \\\n",
       "0 -0.452608  1.249467 -0.780850  ... -0.969963  0.554351  0.026135 -0.090753   \n",
       "1 -0.449359  1.253947 -0.777529  ... -0.968767  0.554305  0.008055 -0.100458   \n",
       "2 -0.449364  1.253639 -0.781326  ... -0.971143  0.557725  0.010557 -0.051337   \n",
       "3 -0.453067  1.254563 -0.775669  ... -0.969947  0.550884  0.019311 -0.042698   \n",
       "4 -0.450586  1.254675 -0.778022  ... -0.968767  0.554305  0.021542 -0.082517   \n",
       "\n",
       "         41        42        43        44  Person  Activity  \n",
       "0 -0.003027  0.830582  0.194433 -0.175115       1         0  \n",
       "1  0.003641  0.828353  0.197541 -0.174612       1         0  \n",
       "2 -0.006212  0.828855  0.194410 -0.173925       1         0  \n",
       "3  0.007107  0.830917  0.197564 -0.175161       1         0  \n",
       "4  0.003666  0.825790  0.195318 -0.174642       1         0  \n",
       "\n",
       "[5 rows x 47 columns]"
      ]
     },
     "execution_count": 40,
     "metadata": {},
     "output_type": "execute_result"
    }
   ],
   "source": [
    "refined_frame_standardized.head()"
   ]
  },
  {
   "cell_type": "markdown",
   "metadata": {},
   "source": [
    "## 3. Extract Each Users Position-wise Data For All Activity, Combine and Save Them"
   ]
  },
  {
   "cell_type": "markdown",
   "metadata": {},
   "source": [
    "### A1"
   ]
  },
  {
   "cell_type": "markdown",
   "metadata": {},
   "source": [
    "##### Get Dataframe Name"
   ]
  },
  {
   "cell_type": "code",
   "execution_count": 41,
   "metadata": {},
   "outputs": [],
   "source": [
    "def get_df_name(df):\n",
    "    name =[x for x in globals() if globals()[x] is df][0]\n",
    "    return name"
   ]
  },
  {
   "cell_type": "markdown",
   "metadata": {},
   "source": [
    "##### Collection for each user\n",
    "    - A1user1: Activity A1, User 1. It contains the 5 sensor collected data positioned at 5 different positions."
   ]
  },
  {
   "cell_type": "code",
   "execution_count": 42,
   "metadata": {},
   "outputs": [],
   "source": [
    "A1user1 = {}\n",
    "A1user2 = {}\n",
    "A1user3 = {}\n",
    "A1user4 = {}\n",
    "A1user5 = {}\n",
    "A1user6 = {}\n",
    "A1user7 = {}\n",
    "A1user8 = {}"
   ]
  },
  {
   "cell_type": "markdown",
   "metadata": {},
   "source": [
    "##### Function: Extract Different Body Positions Data For Each User For a Specific Activity\n",
    "    - refined_frame_standardized\n",
    "    - Based on Person and Activity information"
   ]
  },
  {
   "cell_type": "code",
   "execution_count": 43,
   "metadata": {},
   "outputs": [],
   "source": [
    "def user_position_data(activity, list_frames):\n",
    "    string = get_df_name(list_frames)\n",
    "    index = int(string[-1:])\n",
    "    print(index)\n",
    "    active_frame = refined_frame_standardized[(refined_frame_standardized[\"Person\"] == index) & (refined_frame_standardized[\"Activity\"] == activity)].copy()\n",
    "    for part in range(0,5):\n",
    "            list_frames[part] = active_frame[body_part_index[part]].copy()\n",
    "            list_frames[part].columns = COLUMN_NAME\n",
    "            list_frames[part].loc[:, 'Position'] = body_part[part]\n",
    "            list_frames[part].reset_index(drop=True, inplace=True)"
   ]
  },
  {
   "cell_type": "code",
   "execution_count": 44,
   "metadata": {},
   "outputs": [],
   "source": [
    "# user_position_data(\"a01\", A1user1)\n",
    "# user_position_data(\"a01\", A1user2)\n",
    "# user_position_data(\"a01\", A1user3)\n",
    "# user_position_data(\"a01\", A1user4)\n",
    "# user_position_data(\"a01\", A1user5)\n",
    "# user_position_data(\"a01\", A1user6)\n",
    "# user_position_data(\"a01\", A1user7)\n",
    "# user_position_data(\"a01\", A1user8)"
   ]
  },
  {
   "cell_type": "code",
   "execution_count": 45,
   "metadata": {},
   "outputs": [],
   "source": [
    "user_position_data(0, A1user1)\n",
    "user_position_data(0, A1user2)\n",
    "user_position_data(0, A1user3)\n",
    "user_position_data(0, A1user4)\n",
    "user_position_data(0, A1user5)\n",
    "user_position_data(0, A1user6)\n",
    "user_position_data(0, A1user7)\n",
    "user_position_data(0, A1user8)"
   ]
  },
  {
   "cell_type": "code",
   "execution_count": 46,
   "metadata": {},
   "outputs": [
    {
     "data": {
      "text/html": [
       "<div>\n",
       "<style scoped>\n",
       "    .dataframe tbody tr th:only-of-type {\n",
       "        vertical-align: middle;\n",
       "    }\n",
       "\n",
       "    .dataframe tbody tr th {\n",
       "        vertical-align: top;\n",
       "    }\n",
       "\n",
       "    .dataframe thead th {\n",
       "        text-align: right;\n",
       "    }\n",
       "</style>\n",
       "<table border=\"1\" class=\"dataframe\">\n",
       "  <thead>\n",
       "    <tr style=\"text-align: right;\">\n",
       "      <th></th>\n",
       "      <th>AccX</th>\n",
       "      <th>AccY</th>\n",
       "      <th>AccZ</th>\n",
       "      <th>GyrX</th>\n",
       "      <th>GyrY</th>\n",
       "      <th>GyrZ</th>\n",
       "      <th>MagX</th>\n",
       "      <th>MagY</th>\n",
       "      <th>MagZ</th>\n",
       "      <th>Person</th>\n",
       "      <th>Activity</th>\n",
       "      <th>Position</th>\n",
       "    </tr>\n",
       "  </thead>\n",
       "  <tbody>\n",
       "    <tr>\n",
       "      <th>0</th>\n",
       "      <td>0.278446</td>\n",
       "      <td>0.780688</td>\n",
       "      <td>0.497715</td>\n",
       "      <td>-0.013858</td>\n",
       "      <td>-0.013510</td>\n",
       "      <td>-0.004827</td>\n",
       "      <td>-0.695099</td>\n",
       "      <td>-0.452608</td>\n",
       "      <td>1.249467</td>\n",
       "      <td>1</td>\n",
       "      <td>0</td>\n",
       "      <td>Torso</td>\n",
       "    </tr>\n",
       "    <tr>\n",
       "      <th>1</th>\n",
       "      <td>0.278446</td>\n",
       "      <td>0.776089</td>\n",
       "      <td>0.488171</td>\n",
       "      <td>-0.013742</td>\n",
       "      <td>0.015217</td>\n",
       "      <td>0.014610</td>\n",
       "      <td>-0.695217</td>\n",
       "      <td>-0.449359</td>\n",
       "      <td>1.253947</td>\n",
       "      <td>1</td>\n",
       "      <td>0</td>\n",
       "      <td>Torso</td>\n",
       "    </tr>\n",
       "    <tr>\n",
       "      <th>2</th>\n",
       "      <td>0.283209</td>\n",
       "      <td>0.776058</td>\n",
       "      <td>0.482531</td>\n",
       "      <td>0.016628</td>\n",
       "      <td>0.003025</td>\n",
       "      <td>0.008288</td>\n",
       "      <td>-0.693960</td>\n",
       "      <td>-0.449364</td>\n",
       "      <td>1.253639</td>\n",
       "      <td>1</td>\n",
       "      <td>0</td>\n",
       "      <td>Torso</td>\n",
       "    </tr>\n",
       "    <tr>\n",
       "      <th>3</th>\n",
       "      <td>0.283193</td>\n",
       "      <td>0.771397</td>\n",
       "      <td>0.486308</td>\n",
       "      <td>0.006485</td>\n",
       "      <td>0.007972</td>\n",
       "      <td>0.027971</td>\n",
       "      <td>-0.690758</td>\n",
       "      <td>-0.453067</td>\n",
       "      <td>1.254563</td>\n",
       "      <td>1</td>\n",
       "      <td>0</td>\n",
       "      <td>Torso</td>\n",
       "    </tr>\n",
       "    <tr>\n",
       "      <th>4</th>\n",
       "      <td>0.283225</td>\n",
       "      <td>0.778373</td>\n",
       "      <td>0.478729</td>\n",
       "      <td>0.008872</td>\n",
       "      <td>0.024471</td>\n",
       "      <td>-0.011774</td>\n",
       "      <td>-0.695810</td>\n",
       "      <td>-0.450586</td>\n",
       "      <td>1.254675</td>\n",
       "      <td>1</td>\n",
       "      <td>0</td>\n",
       "      <td>Torso</td>\n",
       "    </tr>\n",
       "  </tbody>\n",
       "</table>\n",
       "</div>"
      ],
      "text/plain": [
       "       AccX      AccY      AccZ      GyrX      GyrY      GyrZ      MagX  \\\n",
       "0  0.278446  0.780688  0.497715 -0.013858 -0.013510 -0.004827 -0.695099   \n",
       "1  0.278446  0.776089  0.488171 -0.013742  0.015217  0.014610 -0.695217   \n",
       "2  0.283209  0.776058  0.482531  0.016628  0.003025  0.008288 -0.693960   \n",
       "3  0.283193  0.771397  0.486308  0.006485  0.007972  0.027971 -0.690758   \n",
       "4  0.283225  0.778373  0.478729  0.008872  0.024471 -0.011774 -0.695810   \n",
       "\n",
       "       MagY      MagZ  Person  Activity Position  \n",
       "0 -0.452608  1.249467       1         0    Torso  \n",
       "1 -0.449359  1.253947       1         0    Torso  \n",
       "2 -0.449364  1.253639       1         0    Torso  \n",
       "3 -0.453067  1.254563       1         0    Torso  \n",
       "4 -0.450586  1.254675       1         0    Torso  "
      ]
     },
     "execution_count": 46,
     "metadata": {},
     "output_type": "execute_result"
    }
   ],
   "source": [
    "A1user1[0].head()"
   ]
  },
  {
   "cell_type": "markdown",
   "metadata": {},
   "source": [
    "### A2"
   ]
  },
  {
   "cell_type": "code",
   "execution_count": 44,
   "metadata": {},
   "outputs": [],
   "source": [
    "A2user1 = {}\n",
    "A2user2 = {}\n",
    "A2user3 = {}\n",
    "A2user4 = {}\n",
    "A2user5 = {}\n",
    "A2user6 = {}\n",
    "A2user7 = {}\n",
    "A2user8 = {}"
   ]
  },
  {
   "cell_type": "code",
   "execution_count": 45,
   "metadata": {},
   "outputs": [],
   "source": [
    "def A2user_position_data(activity, list_frames):\n",
    "    string = get_df_name(list_frames)\n",
    "    index = int(string[6:len(string)])\n",
    "    print(index)\n",
    "    active_frame = refined_frame_standardized[(refined_frame_standardized[\"Person\"] == index) & (refined_frame_standardized[\"Activity\"] == activity)].copy()\n",
    "    for part in range(0,5):\n",
    "            list_frames[part] = active_frame[body_part_index[part]].copy()\n",
    "            list_frames[part].columns = COLUMN_NAME\n",
    "            list_frames[part].loc[:, 'Position'] = body_part[part]\n",
    "            list_frames[part].reset_index(drop=True, inplace=True)"
   ]
  },
  {
   "cell_type": "code",
   "execution_count": 46,
   "metadata": {},
   "outputs": [],
   "source": [
    "A2user_position_data(1, A2user1)\n",
    "A2user_position_data(1, A2user2)\n",
    "A2user_position_data(1, A2user3)\n",
    "A2user_position_data(1, A2user4)\n",
    "A2user_position_data(1, A2user5)\n",
    "A2user_position_data(1, A2user6)\n",
    "A2user_position_data(1, A2user7)\n",
    "A2user_position_data(1, A2user8)"
   ]
  },
  {
   "cell_type": "markdown",
   "metadata": {},
   "source": [
    "### A3"
   ]
  },
  {
   "cell_type": "code",
   "execution_count": 47,
   "metadata": {},
   "outputs": [],
   "source": [
    "A3user1 = {}\n",
    "A3user2 = {}\n",
    "A3user3 = {}\n",
    "A3user4 = {}\n",
    "A3user5 = {}\n",
    "A3user6 = {}\n",
    "A3user7 = {}\n",
    "A3user8 = {}"
   ]
  },
  {
   "cell_type": "code",
   "execution_count": 48,
   "metadata": {},
   "outputs": [],
   "source": [
    "def A3user_position_data(activity, list_frames):\n",
    "    string = get_df_name(list_frames)\n",
    "    index = int(string[-1:])\n",
    "    print(index)\n",
    "    active_frame = refined_frame_standardized[(refined_frame_standardized[\"Person\"] == index) & (refined_frame_standardized[\"Activity\"] == activity)].copy()\n",
    "    for part in range(0,5):\n",
    "            list_frames[part] = active_frame[body_part_index[part]].copy()\n",
    "            list_frames[part].columns = COLUMN_NAME\n",
    "            list_frames[part].loc[:, 'Position'] = body_part[part]\n",
    "            list_frames[part].reset_index(drop=True, inplace=True)"
   ]
  },
  {
   "cell_type": "code",
   "execution_count": 49,
   "metadata": {},
   "outputs": [],
   "source": [
    "user_position_data(2, A3user1)\n",
    "user_position_data(2, A3user2)\n",
    "user_position_data(2, A3user3)\n",
    "user_position_data(2, A3user4)\n",
    "user_position_data(2, A3user5)\n",
    "user_position_data(2, A3user6)\n",
    "user_position_data(2, A3user7)\n",
    "user_position_data(2, A3user8)"
   ]
  },
  {
   "cell_type": "markdown",
   "metadata": {},
   "source": [
    "### A4"
   ]
  },
  {
   "cell_type": "code",
   "execution_count": 50,
   "metadata": {},
   "outputs": [],
   "source": [
    "A4user1 = {}\n",
    "A4user2 = {}\n",
    "A4user3 = {}\n",
    "A4user4 = {}\n",
    "A4user5 = {}\n",
    "A4user6 = {}\n",
    "A4user7 = {}\n",
    "A4user8 = {}"
   ]
  },
  {
   "cell_type": "code",
   "execution_count": 51,
   "metadata": {},
   "outputs": [],
   "source": [
    "def A4user_position_data(activity, list_frames):\n",
    "    string = get_df_name(list_frames)\n",
    "    index = int(string[-1:])\n",
    "    print(index)\n",
    "    active_frame = refined_frame_standardized[(refined_frame_standardized[\"Person\"] == index) & (refined_frame_standardized[\"Activity\"] == activity)].copy()\n",
    "    for part in range(0,5):\n",
    "            list_frames[part] = active_frame[body_part_index[part]].copy()\n",
    "            list_frames[part].columns = COLUMN_NAME\n",
    "            list_frames[part].loc[:, 'Position'] = body_part[part]\n",
    "            list_frames[part].reset_index(drop=True, inplace=True)"
   ]
  },
  {
   "cell_type": "code",
   "execution_count": 52,
   "metadata": {},
   "outputs": [],
   "source": [
    "user_position_data(2, A4user1)\n",
    "user_position_data(2, A4user2)\n",
    "user_position_data(2, A4user3)\n",
    "user_position_data(2, A4user4)\n",
    "user_position_data(2, A4user5)\n",
    "user_position_data(2, A4user6)\n",
    "user_position_data(2, A4user7)\n",
    "user_position_data(2, A4user8)"
   ]
  },
  {
   "cell_type": "markdown",
   "metadata": {},
   "source": [
    "### A5"
   ]
  },
  {
   "cell_type": "code",
   "execution_count": 53,
   "metadata": {},
   "outputs": [],
   "source": [
    "A5user1 = {}\n",
    "A5user2 = {}\n",
    "A5user3 = {}\n",
    "A5user4 = {}\n",
    "A5user5 = {}\n",
    "A5user6 = {}\n",
    "A5user7 = {}\n",
    "A5user8 = {}"
   ]
  },
  {
   "cell_type": "code",
   "execution_count": 54,
   "metadata": {},
   "outputs": [],
   "source": [
    "def A5user_position_data(activity, list_frames):\n",
    "    string = get_df_name(list_frames)\n",
    "    index = int(string[-1:])\n",
    "    print(index)\n",
    "    active_frame = refined_frame_standardized[(refined_frame_standardized[\"Person\"] == index) & (refined_frame_standardized[\"Activity\"] == activity)].copy()\n",
    "    for part in range(0,5):\n",
    "            list_frames[part] = active_frame[body_part_index[part]].copy()\n",
    "            list_frames[part].columns = COLUMN_NAME\n",
    "            list_frames[part].loc[:, 'Position'] = body_part[part]\n",
    "            list_frames[part].reset_index(drop=True, inplace=True)"
   ]
  },
  {
   "cell_type": "code",
   "execution_count": 55,
   "metadata": {},
   "outputs": [],
   "source": [
    "user_position_data(5, A5user1)\n",
    "user_position_data(5, A5user2)\n",
    "user_position_data(5, A5user3)\n",
    "user_position_data(5, A5user4)\n",
    "user_position_data(5, A5user5)\n",
    "user_position_data(5, A5user6)\n",
    "user_position_data(5, A5user7)\n",
    "user_position_data(5, A5user8)"
   ]
  },
  {
   "cell_type": "markdown",
   "metadata": {},
   "source": [
    "### A6"
   ]
  },
  {
   "cell_type": "code",
   "execution_count": 56,
   "metadata": {},
   "outputs": [],
   "source": [
    "A6user1 = {}\n",
    "A6user2 = {}\n",
    "A6user3 = {}\n",
    "A6user4 = {}\n",
    "A6user5 = {}\n",
    "A6user6 = {}\n",
    "A6user7 = {}\n",
    "A6user8 = {}"
   ]
  },
  {
   "cell_type": "code",
   "execution_count": 57,
   "metadata": {},
   "outputs": [],
   "source": [
    "def A6user_position_data(activity, list_frames):\n",
    "    string = get_df_name(list_frames)\n",
    "    index = int(string[-1:])\n",
    "    print(index)\n",
    "    active_frame = refined_frame_standardized[(refined_frame_standardized[\"Person\"] == index) & (refined_frame_standardized[\"Activity\"] == activity)].copy()\n",
    "    for part in range(0,5):\n",
    "            list_frames[part] = active_frame[body_part_index[part]].copy()\n",
    "            list_frames[part].columns = COLUMN_NAME\n",
    "            list_frames[part].loc[:, 'Position'] = body_part[part]\n",
    "            list_frames[part].reset_index(drop=True, inplace=True)"
   ]
  },
  {
   "cell_type": "code",
   "execution_count": 58,
   "metadata": {},
   "outputs": [],
   "source": [
    "user_position_data(6, A6user1)\n",
    "user_position_data(6, A6user2)\n",
    "user_position_data(6, A6user3)\n",
    "user_position_data(6, A6user4)\n",
    "user_position_data(6, A6user5)\n",
    "user_position_data(6, A6user6)\n",
    "user_position_data(6, A6user7)\n",
    "user_position_data(6, A6user8)"
   ]
  },
  {
   "cell_type": "markdown",
   "metadata": {},
   "source": [
    "### A9"
   ]
  },
  {
   "cell_type": "code",
   "execution_count": 59,
   "metadata": {},
   "outputs": [],
   "source": [
    "A9user1 = {}\n",
    "A9user2 = {}\n",
    "A9user3 = {}\n",
    "A9user4 = {}\n",
    "A9user5 = {}\n",
    "A9user6 = {}\n",
    "A9user7 = {}\n",
    "A9user8 = {}"
   ]
  },
  {
   "cell_type": "code",
   "execution_count": 60,
   "metadata": {},
   "outputs": [],
   "source": [
    "def A9user_position_data(activity, list_frames):\n",
    "    string = get_df_name(list_frames)\n",
    "    index = int(string[6:len(string)])\n",
    "    print(index)\n",
    "    active_frame = refined_frame_standardized[(refined_frame_standardized[\"Person\"] == index) & (refined_frame_standardized[\"Activity\"] == activity)].copy()\n",
    "    for part in range(0,5):\n",
    "            list_frames[part] = active_frame[body_part_index[part]].copy()\n",
    "            list_frames[part].columns = COLUMN_NAME\n",
    "            list_frames[part].loc[:, 'Position'] = body_part[part]\n",
    "            list_frames[part].reset_index(drop=True, inplace=True)"
   ]
  },
  {
   "cell_type": "code",
   "execution_count": 61,
   "metadata": {},
   "outputs": [],
   "source": [
    "A9user_position_data(3, A9user1)\n",
    "A9user_position_data(3, A9user2)\n",
    "A9user_position_data(3, A9user3)\n",
    "A9user_position_data(3, A9user4)\n",
    "A9user_position_data(3, A9user5)\n",
    "A9user_position_data(3, A9user6)\n",
    "A9user_position_data(3, A9user7)\n",
    "A9user_position_data(3, A9user8)"
   ]
  },
  {
   "cell_type": "markdown",
   "metadata": {},
   "source": [
    "### A12"
   ]
  },
  {
   "cell_type": "code",
   "execution_count": 62,
   "metadata": {},
   "outputs": [],
   "source": [
    "A12user1 = {}\n",
    "A12user2 = {}\n",
    "A12user3 = {}\n",
    "A12user4 = {}\n",
    "A12user5 = {}\n",
    "A12user6 = {}\n",
    "A12user7 = {}\n",
    "A12user8 = {}"
   ]
  },
  {
   "cell_type": "code",
   "execution_count": 63,
   "metadata": {},
   "outputs": [],
   "source": [
    "def A12user_position_data(activity, list_frames):\n",
    "    string = get_df_name(list_frames)\n",
    "    index = int(string[-1:])\n",
    "    print(index)\n",
    "    active_frame = refined_frame_standardized[(refined_frame_standardized[\"Person\"] == index) & (refined_frame_standardized[\"Activity\"] == activity)].copy()\n",
    "    for part in range(0,5):\n",
    "            list_frames[part] = active_frame[body_part_index[part]].copy()\n",
    "            list_frames[part].columns = COLUMN_NAME\n",
    "            list_frames[part].loc[:, 'Position'] = body_part[part]\n",
    "            list_frames[part].reset_index(drop=True, inplace=True)"
   ]
  },
  {
   "cell_type": "code",
   "execution_count": 64,
   "metadata": {},
   "outputs": [],
   "source": [
    "A12user_position_data(4, A12user1)\n",
    "A12user_position_data(4, A12user2)\n",
    "A12user_position_data(4, A12user3)\n",
    "A12user_position_data(4, A12user4)\n",
    "A12user_position_data(4, A12user5)\n",
    "A12user_position_data(4, A12user6)\n",
    "A12user_position_data(4, A12user7)\n",
    "A12user_position_data(4, A12user8)"
   ]
  },
  {
   "cell_type": "markdown",
   "metadata": {},
   "source": [
    "## 4. Dataset Visualization\n",
    "    - 0:Torso\n",
    "    - 1:Right Arm\n",
    "    - 2:Left Arm\n",
    "    - 3:Right Leg\n",
    "    - 4:Left Leg"
   ]
  },
  {
   "cell_type": "code",
   "execution_count": 65,
   "metadata": {
    "scrolled": true
   },
   "outputs": [
    {
     "data": {
      "text/html": [
       "<div>\n",
       "<style scoped>\n",
       "    .dataframe tbody tr th:only-of-type {\n",
       "        vertical-align: middle;\n",
       "    }\n",
       "\n",
       "    .dataframe tbody tr th {\n",
       "        vertical-align: top;\n",
       "    }\n",
       "\n",
       "    .dataframe thead th {\n",
       "        text-align: right;\n",
       "    }\n",
       "</style>\n",
       "<table border=\"1\" class=\"dataframe\">\n",
       "  <thead>\n",
       "    <tr style=\"text-align: right;\">\n",
       "      <th></th>\n",
       "      <th>AccX</th>\n",
       "      <th>AccY</th>\n",
       "      <th>AccZ</th>\n",
       "      <th>GyrX</th>\n",
       "      <th>GyrY</th>\n",
       "      <th>GyrZ</th>\n",
       "      <th>MagX</th>\n",
       "      <th>MagY</th>\n",
       "      <th>MagZ</th>\n",
       "      <th>Person</th>\n",
       "      <th>Activity</th>\n",
       "      <th>Position</th>\n",
       "    </tr>\n",
       "  </thead>\n",
       "  <tbody>\n",
       "    <tr>\n",
       "      <th>0</th>\n",
       "      <td>4.523730</td>\n",
       "      <td>-0.323116</td>\n",
       "      <td>-3.042097</td>\n",
       "      <td>1.921179</td>\n",
       "      <td>-1.920017</td>\n",
       "      <td>0.481349</td>\n",
       "      <td>-1.036830</td>\n",
       "      <td>0.242195</td>\n",
       "      <td>-0.354116</td>\n",
       "      <td>8</td>\n",
       "      <td>4</td>\n",
       "      <td>Torso</td>\n",
       "    </tr>\n",
       "    <tr>\n",
       "      <th>1</th>\n",
       "      <td>3.175720</td>\n",
       "      <td>-2.053132</td>\n",
       "      <td>-1.323522</td>\n",
       "      <td>3.612575</td>\n",
       "      <td>1.564400</td>\n",
       "      <td>-0.524302</td>\n",
       "      <td>-0.990485</td>\n",
       "      <td>0.128791</td>\n",
       "      <td>-0.478371</td>\n",
       "      <td>8</td>\n",
       "      <td>4</td>\n",
       "      <td>Torso</td>\n",
       "    </tr>\n",
       "    <tr>\n",
       "      <th>2</th>\n",
       "      <td>1.549124</td>\n",
       "      <td>0.609460</td>\n",
       "      <td>-0.262892</td>\n",
       "      <td>2.860235</td>\n",
       "      <td>0.048843</td>\n",
       "      <td>0.421451</td>\n",
       "      <td>-0.928509</td>\n",
       "      <td>-0.007322</td>\n",
       "      <td>-0.611586</td>\n",
       "      <td>8</td>\n",
       "      <td>4</td>\n",
       "      <td>Torso</td>\n",
       "    </tr>\n",
       "    <tr>\n",
       "      <th>3</th>\n",
       "      <td>-0.184525</td>\n",
       "      <td>1.240978</td>\n",
       "      <td>-0.594762</td>\n",
       "      <td>2.585323</td>\n",
       "      <td>1.040399</td>\n",
       "      <td>0.190621</td>\n",
       "      <td>-0.898363</td>\n",
       "      <td>-0.135093</td>\n",
       "      <td>-0.650027</td>\n",
       "      <td>8</td>\n",
       "      <td>4</td>\n",
       "      <td>Torso</td>\n",
       "    </tr>\n",
       "    <tr>\n",
       "      <th>4</th>\n",
       "      <td>-0.810267</td>\n",
       "      <td>0.657632</td>\n",
       "      <td>-0.614998</td>\n",
       "      <td>1.336399</td>\n",
       "      <td>1.110679</td>\n",
       "      <td>0.255732</td>\n",
       "      <td>-0.856406</td>\n",
       "      <td>-0.225906</td>\n",
       "      <td>-0.708711</td>\n",
       "      <td>8</td>\n",
       "      <td>4</td>\n",
       "      <td>Torso</td>\n",
       "    </tr>\n",
       "  </tbody>\n",
       "</table>\n",
       "</div>"
      ],
      "text/plain": [
       "       AccX      AccY      AccZ      GyrX      GyrY      GyrZ      MagX  \\\n",
       "0  4.523730 -0.323116 -3.042097  1.921179 -1.920017  0.481349 -1.036830   \n",
       "1  3.175720 -2.053132 -1.323522  3.612575  1.564400 -0.524302 -0.990485   \n",
       "2  1.549124  0.609460 -0.262892  2.860235  0.048843  0.421451 -0.928509   \n",
       "3 -0.184525  1.240978 -0.594762  2.585323  1.040399  0.190621 -0.898363   \n",
       "4 -0.810267  0.657632 -0.614998  1.336399  1.110679  0.255732 -0.856406   \n",
       "\n",
       "       MagY      MagZ  Person  Activity Position  \n",
       "0  0.242195 -0.354116       8         4    Torso  \n",
       "1  0.128791 -0.478371       8         4    Torso  \n",
       "2 -0.007322 -0.611586       8         4    Torso  \n",
       "3 -0.135093 -0.650027       8         4    Torso  \n",
       "4 -0.225906 -0.708711       8         4    Torso  "
      ]
     },
     "execution_count": 65,
     "metadata": {},
     "output_type": "execute_result"
    }
   ],
   "source": [
    "A12user8[0].head()"
   ]
  },
  {
   "cell_type": "code",
   "execution_count": 66,
   "metadata": {},
   "outputs": [],
   "source": [
    "def plot_activity(activity, df, position, i=1000):\n",
    "    data = df[df['Activity'] == activity][['AccX', 'AccY','AccZ', 'GyrX', 'GyrY', 'GyrZ', 'MagX', 'MagY','MagZ']][:i]\n",
    "    title_name = \"\"\n",
    "    if position == 0:\n",
    "        title_name = \"Torso\"\n",
    "    elif position == 1:\n",
    "        title_name = \"Right Arm\"\n",
    "    elif position == 2:\n",
    "        title_name = \"Left Arm\"\n",
    "    elif position == 3:\n",
    "        title_name = \"Right Leg\"\n",
    "    elif position == 4:\n",
    "        title_name = \"Left Leg\"\n",
    "        \n",
    "    axis = data.plot(subplots=True, figsize=(16, 12), title=title_name)\n",
    "    for ax in axis:\n",
    "        ax.legend(loc='lower left', bbox_to_anchor=(1.0, 0.5))\n",
    "        \n",
    "def plot_datasets(df, activity_id, pos, i=500):\n",
    "    plot_activity(activity_id, df, pos, i)"
   ]
  },
  {
   "cell_type": "markdown",
   "metadata": {},
   "source": [
    "##### A1 Visualization\n",
    "    - Visualization of the index and the axes alteration"
   ]
  },
  {
   "cell_type": "code",
   "execution_count": 67,
   "metadata": {
    "scrolled": true
   },
   "outputs": [],
   "source": [
    "# plot_datasets(A1user1[0], \"a01\", 0)\n",
    "# plot_datasets(A1user1[1], \"a01\", 1)\n",
    "# plot_datasets(A1user1[2], \"a01\", 2)\n",
    "# plot_datasets(A1user1[3], \"a01\", 3)\n",
    "# plot_datasets(A1user1[4], \"a01\", 4)"
   ]
  },
  {
   "cell_type": "markdown",
   "metadata": {},
   "source": [
    "##### A2 Visualization"
   ]
  },
  {
   "cell_type": "code",
   "execution_count": 68,
   "metadata": {},
   "outputs": [],
   "source": [
    "# plot_datasets(A2user1[0], \"a02\", 0)\n",
    "# plot_datasets(A2user1[1], \"a02\", 1)\n",
    "# plot_datasets(A2user1[2], \"a02\", 2)\n",
    "# plot_datasets(A2user1[3], \"a02\", 3)\n",
    "# plot_datasets(A2user1[4], \"a02\", 4)"
   ]
  },
  {
   "cell_type": "markdown",
   "metadata": {},
   "source": [
    "##### A3 Visualization"
   ]
  },
  {
   "cell_type": "code",
   "execution_count": 69,
   "metadata": {},
   "outputs": [],
   "source": [
    "# plot_datasets(A3user1[0], \"a03\", 0)\n",
    "# plot_datasets(A3user1[1], \"a03\", 1)\n",
    "# plot_datasets(A3user1[2], \"a03\", 2)\n",
    "# plot_datasets(A3user1[3], \"a03\", 3)\n",
    "# plot_datasets(A3user1[4], \"a03\", 4)"
   ]
  },
  {
   "cell_type": "markdown",
   "metadata": {},
   "source": [
    "##### A4 Visualization"
   ]
  },
  {
   "cell_type": "code",
   "execution_count": 70,
   "metadata": {
    "scrolled": true
   },
   "outputs": [],
   "source": [
    "# plot_datasets(A4user1[0], \"a04\", 0)\n",
    "# plot_datasets(A4user1[1], \"a04\", 1)\n",
    "# plot_datasets(A4user1[2], \"a04\", 2)\n",
    "# plot_datasets(A4user1[3], \"a04\", 3)\n",
    "# plot_datasets(A4user1[4], \"a04\", 4)"
   ]
  },
  {
   "cell_type": "markdown",
   "metadata": {},
   "source": [
    "##### A5 Visualization"
   ]
  },
  {
   "cell_type": "code",
   "execution_count": 71,
   "metadata": {},
   "outputs": [],
   "source": [
    "# plot_datasets(A5user1[0], \"a05\", 0)\n",
    "# plot_datasets(A5user1[1], \"a05\", 1)\n",
    "# plot_datasets(A5user1[2], \"a05\", 2)\n",
    "# plot_datasets(A5user1[3], \"a05\", 3)\n",
    "# plot_datasets(A5user1[4], \"a05\", 4)"
   ]
  },
  {
   "cell_type": "markdown",
   "metadata": {},
   "source": [
    "##### A6 Visualization"
   ]
  },
  {
   "cell_type": "code",
   "execution_count": 72,
   "metadata": {},
   "outputs": [],
   "source": [
    "# plot_datasets(A6user1[0], \"a06\", 0)\n",
    "# plot_datasets(A6user1[1], \"a06\", 1)\n",
    "# plot_datasets(A6user1[2], \"a06\", 2)\n",
    "# plot_datasets(A6user1[3], \"a06\", 3)\n",
    "# plot_datasets(A6user1[4], \"a06\", 4)"
   ]
  },
  {
   "cell_type": "markdown",
   "metadata": {},
   "source": [
    "##### A9 Visualization"
   ]
  },
  {
   "cell_type": "code",
   "execution_count": 73,
   "metadata": {},
   "outputs": [],
   "source": [
    "# plot_datasets(A9user1[0], \"a09\", 0)\n",
    "# plot_datasets(A9user1[1], \"a09\", 1)\n",
    "# plot_datasets(A9user1[2], \"a09\", 2)\n",
    "# plot_datasets(A9user1[3], \"a09\", 3)\n",
    "# plot_datasets(A9user1[4], \"a09\", 4)"
   ]
  },
  {
   "cell_type": "markdown",
   "metadata": {},
   "source": [
    "##### A12 Visualization"
   ]
  },
  {
   "cell_type": "code",
   "execution_count": 74,
   "metadata": {},
   "outputs": [],
   "source": [
    "# plot_datasets(A12user1[0], \"a12\", 0)\n",
    "# plot_datasets(A12user1[1], \"a12\", 1)\n",
    "# plot_datasets(A12user1[2], \"a12\", 2)\n",
    "# plot_datasets(A12user1[3], \"a12\", 3)\n",
    "# plot_datasets(A12user1[4], \"a12\", 4)"
   ]
  },
  {
   "cell_type": "markdown",
   "metadata": {},
   "source": [
    "# 5. Calculate the magnitude to reduce the number of dimentions"
   ]
  },
  {
   "cell_type": "code",
   "execution_count": 75,
   "metadata": {},
   "outputs": [],
   "source": [
    "def magnitude(df):\n",
    "    ax2 = df['AccX']**2\n",
    "    ay2 = df['AccY']**2\n",
    "    az2 = df['AccZ']**2\n",
    "    am2 = ax2 + ay2 + az2\n",
    "    \n",
    "    gx2 = df['GyrX']**2\n",
    "    gy2 = df['GyrY']**2\n",
    "    gz2 = df['GyrZ']**2\n",
    "    gm2 = gx2 + gy2 + gz2\n",
    "    \n",
    "    mx2 = df['MagX']**2\n",
    "    my2 = df['MagY']**2\n",
    "    mz2 = df['MagZ']**2\n",
    "    mm2 = mx2 + my2 + mz2\n",
    "    \n",
    "    df['Am']=am2.apply(lambda x: math.sqrt(x))\n",
    "    df['Gm']=gm2.apply(lambda x: math.sqrt(x))\n",
    "    df['Mm']=mm2.apply(lambda x: math.sqrt(x))"
   ]
  },
  {
   "cell_type": "markdown",
   "metadata": {},
   "source": [
    "##### Dataframe Collections\n",
    "    - A1user1...8\n",
    "    - A2user1...8\n",
    "    - A3user1...8\n",
    "    - A4user1...8\n",
    "    - A5user1...8\n",
    "    - A6user1...8\n",
    "    - A9user1...8\n",
    "    - A12user1...8"
   ]
  },
  {
   "cell_type": "markdown",
   "metadata": {},
   "source": [
    "##### Activity Information"
   ]
  },
  {
   "cell_type": "code",
   "execution_count": 76,
   "metadata": {},
   "outputs": [],
   "source": [
    "# - a1 = Sitting = 2\n",
    "# - a2 = Standing = 3\n",
    "# - a3 and a4 = Lying back and right = 1\n",
    "# - a9 = walking = 4\n",
    "# - a12 = running on trademill 8km/h = 5\n",
    "# - a5 = ascending stairs = 12\n",
    "# - a6 = descending stairs = 13"
   ]
  },
  {
   "cell_type": "markdown",
   "metadata": {},
   "source": [
    "#### Calculate Magnitude"
   ]
  },
  {
   "cell_type": "code",
   "execution_count": 77,
   "metadata": {},
   "outputs": [],
   "source": [
    "# for index in range(0,5):\n",
    "#     magnitude(A1user1[index])\n",
    "#     magnitude(A1user2[index])\n",
    "#     magnitude(A1user3[index])\n",
    "#     magnitude(A1user4[index])\n",
    "#     magnitude(A1user5[index])\n",
    "#     magnitude(A1user6[index])\n",
    "#     magnitude(A1user7[index])\n",
    "#     magnitude(A1user8[index])\n",
    "    \n",
    "#     magnitude(A2user1[index])\n",
    "#     magnitude(A2user2[index])\n",
    "#     magnitude(A2user3[index])\n",
    "#     magnitude(A2user4[index])\n",
    "#     magnitude(A2user5[index])\n",
    "#     magnitude(A2user6[index])\n",
    "#     magnitude(A2user7[index])\n",
    "#     magnitude(A2user8[index])\n",
    "    \n",
    "#     magnitude(A3user1[index])\n",
    "#     magnitude(A3user2[index])\n",
    "#     magnitude(A3user3[index])\n",
    "#     magnitude(A3user4[index])\n",
    "#     magnitude(A3user5[index])\n",
    "#     magnitude(A3user6[index])\n",
    "#     magnitude(A3user7[index])\n",
    "#     magnitude(A3user8[index])\n",
    "    \n",
    "#     magnitude(A4user1[index])\n",
    "#     magnitude(A4user2[index])\n",
    "#     magnitude(A4user3[index])\n",
    "#     magnitude(A4user4[index])\n",
    "#     magnitude(A4user5[index])\n",
    "#     magnitude(A4user6[index])\n",
    "#     magnitude(A4user7[index])\n",
    "#     magnitude(A4user8[index])\n",
    "    \n",
    "#     magnitude(A5user1[index])\n",
    "#     magnitude(A5user2[index])\n",
    "#     magnitude(A5user3[index])\n",
    "#     magnitude(A5user4[index])\n",
    "#     magnitude(A5user5[index])\n",
    "#     magnitude(A5user6[index])\n",
    "#     magnitude(A5user7[index])\n",
    "#     magnitude(A5user8[index])\n",
    "    \n",
    "#     magnitude(A6user1[index])\n",
    "#     magnitude(A6user2[index])\n",
    "#     magnitude(A6user3[index])\n",
    "#     magnitude(A6user4[index])\n",
    "#     magnitude(A6user5[index])\n",
    "#     magnitude(A6user6[index])\n",
    "#     magnitude(A6user7[index])\n",
    "#     magnitude(A6user8[index])\n",
    "    \n",
    "#     magnitude(A9user1[index])\n",
    "#     magnitude(A9user2[index])\n",
    "#     magnitude(A9user3[index])\n",
    "#     magnitude(A9user4[index])\n",
    "#     magnitude(A9user5[index])\n",
    "#     magnitude(A9user6[index])\n",
    "#     magnitude(A9user7[index])\n",
    "#     magnitude(A9user8[index])\n",
    "    \n",
    "#     magnitude(A12user1[index])\n",
    "#     magnitude(A12user2[index])\n",
    "#     magnitude(A12user3[index])\n",
    "#     magnitude(A12user4[index])\n",
    "#     magnitude(A12user5[index])\n",
    "#     magnitude(A12user6[index])\n",
    "#     magnitude(A12user7[index])\n",
    "#     magnitude(A12user8[index])"
   ]
  },
  {
   "cell_type": "code",
   "execution_count": 78,
   "metadata": {},
   "outputs": [
    {
     "data": {
      "text/html": [
       "<div>\n",
       "<style scoped>\n",
       "    .dataframe tbody tr th:only-of-type {\n",
       "        vertical-align: middle;\n",
       "    }\n",
       "\n",
       "    .dataframe tbody tr th {\n",
       "        vertical-align: top;\n",
       "    }\n",
       "\n",
       "    .dataframe thead th {\n",
       "        text-align: right;\n",
       "    }\n",
       "</style>\n",
       "<table border=\"1\" class=\"dataframe\">\n",
       "  <thead>\n",
       "    <tr style=\"text-align: right;\">\n",
       "      <th></th>\n",
       "      <th>AccX</th>\n",
       "      <th>AccY</th>\n",
       "      <th>AccZ</th>\n",
       "      <th>GyrX</th>\n",
       "      <th>GyrY</th>\n",
       "      <th>GyrZ</th>\n",
       "      <th>MagX</th>\n",
       "      <th>MagY</th>\n",
       "      <th>MagZ</th>\n",
       "      <th>Person</th>\n",
       "      <th>Activity</th>\n",
       "      <th>Position</th>\n",
       "    </tr>\n",
       "  </thead>\n",
       "  <tbody>\n",
       "    <tr>\n",
       "      <th>0</th>\n",
       "      <td>0.278446</td>\n",
       "      <td>0.780688</td>\n",
       "      <td>0.497715</td>\n",
       "      <td>-0.013858</td>\n",
       "      <td>-0.013510</td>\n",
       "      <td>-0.004827</td>\n",
       "      <td>-0.695099</td>\n",
       "      <td>-0.452608</td>\n",
       "      <td>1.249467</td>\n",
       "      <td>1</td>\n",
       "      <td>0</td>\n",
       "      <td>Torso</td>\n",
       "    </tr>\n",
       "    <tr>\n",
       "      <th>1</th>\n",
       "      <td>0.278446</td>\n",
       "      <td>0.776089</td>\n",
       "      <td>0.488171</td>\n",
       "      <td>-0.013742</td>\n",
       "      <td>0.015217</td>\n",
       "      <td>0.014610</td>\n",
       "      <td>-0.695217</td>\n",
       "      <td>-0.449359</td>\n",
       "      <td>1.253947</td>\n",
       "      <td>1</td>\n",
       "      <td>0</td>\n",
       "      <td>Torso</td>\n",
       "    </tr>\n",
       "    <tr>\n",
       "      <th>2</th>\n",
       "      <td>0.283209</td>\n",
       "      <td>0.776058</td>\n",
       "      <td>0.482531</td>\n",
       "      <td>0.016628</td>\n",
       "      <td>0.003025</td>\n",
       "      <td>0.008288</td>\n",
       "      <td>-0.693960</td>\n",
       "      <td>-0.449364</td>\n",
       "      <td>1.253639</td>\n",
       "      <td>1</td>\n",
       "      <td>0</td>\n",
       "      <td>Torso</td>\n",
       "    </tr>\n",
       "    <tr>\n",
       "      <th>3</th>\n",
       "      <td>0.283193</td>\n",
       "      <td>0.771397</td>\n",
       "      <td>0.486308</td>\n",
       "      <td>0.006485</td>\n",
       "      <td>0.007972</td>\n",
       "      <td>0.027971</td>\n",
       "      <td>-0.690758</td>\n",
       "      <td>-0.453067</td>\n",
       "      <td>1.254563</td>\n",
       "      <td>1</td>\n",
       "      <td>0</td>\n",
       "      <td>Torso</td>\n",
       "    </tr>\n",
       "    <tr>\n",
       "      <th>4</th>\n",
       "      <td>0.283225</td>\n",
       "      <td>0.778373</td>\n",
       "      <td>0.478729</td>\n",
       "      <td>0.008872</td>\n",
       "      <td>0.024471</td>\n",
       "      <td>-0.011774</td>\n",
       "      <td>-0.695810</td>\n",
       "      <td>-0.450586</td>\n",
       "      <td>1.254675</td>\n",
       "      <td>1</td>\n",
       "      <td>0</td>\n",
       "      <td>Torso</td>\n",
       "    </tr>\n",
       "  </tbody>\n",
       "</table>\n",
       "</div>"
      ],
      "text/plain": [
       "       AccX      AccY      AccZ      GyrX      GyrY      GyrZ      MagX  \\\n",
       "0  0.278446  0.780688  0.497715 -0.013858 -0.013510 -0.004827 -0.695099   \n",
       "1  0.278446  0.776089  0.488171 -0.013742  0.015217  0.014610 -0.695217   \n",
       "2  0.283209  0.776058  0.482531  0.016628  0.003025  0.008288 -0.693960   \n",
       "3  0.283193  0.771397  0.486308  0.006485  0.007972  0.027971 -0.690758   \n",
       "4  0.283225  0.778373  0.478729  0.008872  0.024471 -0.011774 -0.695810   \n",
       "\n",
       "       MagY      MagZ  Person  Activity Position  \n",
       "0 -0.452608  1.249467       1         0    Torso  \n",
       "1 -0.449359  1.253947       1         0    Torso  \n",
       "2 -0.449364  1.253639       1         0    Torso  \n",
       "3 -0.453067  1.254563       1         0    Torso  \n",
       "4 -0.450586  1.254675       1         0    Torso  "
      ]
     },
     "execution_count": 78,
     "metadata": {},
     "output_type": "execute_result"
    }
   ],
   "source": [
    "A1user1[0].head()"
   ]
  },
  {
   "cell_type": "code",
   "execution_count": 79,
   "metadata": {},
   "outputs": [
    {
     "data": {
      "text/html": [
       "<div>\n",
       "<style scoped>\n",
       "    .dataframe tbody tr th:only-of-type {\n",
       "        vertical-align: middle;\n",
       "    }\n",
       "\n",
       "    .dataframe tbody tr th {\n",
       "        vertical-align: top;\n",
       "    }\n",
       "\n",
       "    .dataframe thead th {\n",
       "        text-align: right;\n",
       "    }\n",
       "</style>\n",
       "<table border=\"1\" class=\"dataframe\">\n",
       "  <thead>\n",
       "    <tr style=\"text-align: right;\">\n",
       "      <th></th>\n",
       "      <th>AccX</th>\n",
       "      <th>AccY</th>\n",
       "      <th>AccZ</th>\n",
       "      <th>GyrX</th>\n",
       "      <th>GyrY</th>\n",
       "      <th>GyrZ</th>\n",
       "      <th>MagX</th>\n",
       "      <th>MagY</th>\n",
       "      <th>MagZ</th>\n",
       "      <th>Person</th>\n",
       "      <th>Activity</th>\n",
       "      <th>Position</th>\n",
       "    </tr>\n",
       "  </thead>\n",
       "  <tbody>\n",
       "    <tr>\n",
       "      <th>0</th>\n",
       "      <td>-2.761930</td>\n",
       "      <td>0.545915</td>\n",
       "      <td>-1.070446</td>\n",
       "      <td>0.557284</td>\n",
       "      <td>-2.311120</td>\n",
       "      <td>-2.944980</td>\n",
       "      <td>1.336950</td>\n",
       "      <td>0.539088</td>\n",
       "      <td>-0.432687</td>\n",
       "      <td>8</td>\n",
       "      <td>4</td>\n",
       "      <td>Left_Leg</td>\n",
       "    </tr>\n",
       "    <tr>\n",
       "      <th>1</th>\n",
       "      <td>-3.768866</td>\n",
       "      <td>0.991912</td>\n",
       "      <td>-1.834669</td>\n",
       "      <td>-0.475811</td>\n",
       "      <td>-0.340914</td>\n",
       "      <td>-2.715565</td>\n",
       "      <td>1.263318</td>\n",
       "      <td>0.837494</td>\n",
       "      <td>-0.513680</td>\n",
       "      <td>8</td>\n",
       "      <td>4</td>\n",
       "      <td>Left_Leg</td>\n",
       "    </tr>\n",
       "    <tr>\n",
       "      <th>2</th>\n",
       "      <td>-1.253784</td>\n",
       "      <td>1.757605</td>\n",
       "      <td>-0.868222</td>\n",
       "      <td>-0.642522</td>\n",
       "      <td>0.550192</td>\n",
       "      <td>-1.425665</td>\n",
       "      <td>1.201694</td>\n",
       "      <td>1.042326</td>\n",
       "      <td>-0.617668</td>\n",
       "      <td>8</td>\n",
       "      <td>4</td>\n",
       "      <td>Left_Leg</td>\n",
       "    </tr>\n",
       "    <tr>\n",
       "      <th>3</th>\n",
       "      <td>0.575574</td>\n",
       "      <td>1.923963</td>\n",
       "      <td>-0.600384</td>\n",
       "      <td>1.069470</td>\n",
       "      <td>1.413078</td>\n",
       "      <td>-0.743464</td>\n",
       "      <td>1.137200</td>\n",
       "      <td>1.133963</td>\n",
       "      <td>-0.719399</td>\n",
       "      <td>8</td>\n",
       "      <td>4</td>\n",
       "      <td>Left_Leg</td>\n",
       "    </tr>\n",
       "    <tr>\n",
       "      <th>4</th>\n",
       "      <td>1.676279</td>\n",
       "      <td>2.582760</td>\n",
       "      <td>-1.138439</td>\n",
       "      <td>-0.363518</td>\n",
       "      <td>1.181969</td>\n",
       "      <td>0.033001</td>\n",
       "      <td>1.086023</td>\n",
       "      <td>1.142209</td>\n",
       "      <td>-0.776885</td>\n",
       "      <td>8</td>\n",
       "      <td>4</td>\n",
       "      <td>Left_Leg</td>\n",
       "    </tr>\n",
       "  </tbody>\n",
       "</table>\n",
       "</div>"
      ],
      "text/plain": [
       "       AccX      AccY      AccZ      GyrX      GyrY      GyrZ      MagX  \\\n",
       "0 -2.761930  0.545915 -1.070446  0.557284 -2.311120 -2.944980  1.336950   \n",
       "1 -3.768866  0.991912 -1.834669 -0.475811 -0.340914 -2.715565  1.263318   \n",
       "2 -1.253784  1.757605 -0.868222 -0.642522  0.550192 -1.425665  1.201694   \n",
       "3  0.575574  1.923963 -0.600384  1.069470  1.413078 -0.743464  1.137200   \n",
       "4  1.676279  2.582760 -1.138439 -0.363518  1.181969  0.033001  1.086023   \n",
       "\n",
       "       MagY      MagZ  Person  Activity  Position  \n",
       "0  0.539088 -0.432687       8         4  Left_Leg  \n",
       "1  0.837494 -0.513680       8         4  Left_Leg  \n",
       "2  1.042326 -0.617668       8         4  Left_Leg  \n",
       "3  1.133963 -0.719399       8         4  Left_Leg  \n",
       "4  1.142209 -0.776885       8         4  Left_Leg  "
      ]
     },
     "execution_count": 79,
     "metadata": {},
     "output_type": "execute_result"
    }
   ],
   "source": [
    "A12user8[4].head()"
   ]
  },
  {
   "cell_type": "code",
   "execution_count": 80,
   "metadata": {},
   "outputs": [
    {
     "data": {
      "text/plain": [
       "(7500, 12)"
      ]
     },
     "execution_count": 80,
     "metadata": {},
     "output_type": "execute_result"
    }
   ],
   "source": [
    "A12user1[4].shape"
   ]
  },
  {
   "cell_type": "markdown",
   "metadata": {},
   "source": [
    "# 7. Combine Each User-all activity data for different position"
   ]
  },
  {
   "cell_type": "markdown",
   "metadata": {},
   "source": [
    "- 0:Torso\n",
    "- 1:Right Arm\n",
    "- 2:Left Arm\n",
    "- 3:Right Leg\n",
    "- 4:Left Leg\n",
    "\n",
    "A1user1[0] = Activity A1 of User 1 from Sensor position 0"
   ]
  },
  {
   "cell_type": "markdown",
   "metadata": {},
   "source": [
    "##### User 1"
   ]
  },
  {
   "cell_type": "code",
   "execution_count": 81,
   "metadata": {},
   "outputs": [],
   "source": [
    "U1_Torso = pd.concat([A1user1[0], A2user1[0],A3user1[0],A4user1[0],A5user1[0],A6user1[0],A9user1[0],A12user1[0]], ignore_index=True)\n",
    "U1_RA = pd.concat([A1user1[1], A2user1[1],A3user1[1],A4user1[1],A5user1[1],A6user1[1],A9user1[1],A12user1[1]], ignore_index=True)\n",
    "U1_LA = pd.concat([A1user1[2], A2user1[2],A3user1[2],A4user1[2],A5user1[2],A6user1[2],A9user1[2],A12user1[2]], ignore_index=True)\n",
    "U1_RL = pd.concat([A1user1[3], A2user1[3],A3user1[3],A4user1[3],A5user1[3],A6user1[3],A9user1[3],A12user1[3]], ignore_index=True)\n",
    "U1_LL = pd.concat([A1user1[4], A2user1[4],A3user1[4],A4user1[4],A5user1[4],A6user1[4],A9user1[4],A12user1[4]], ignore_index=True)"
   ]
  },
  {
   "cell_type": "markdown",
   "metadata": {},
   "source": [
    "##### User 2"
   ]
  },
  {
   "cell_type": "code",
   "execution_count": 82,
   "metadata": {},
   "outputs": [],
   "source": [
    "U2_Torso = pd.concat([A1user2[0], A2user2[0],A3user2[0],A4user2[0],A5user2[0],A6user2[0],A9user2[0],A12user2[0]], ignore_index=True)\n",
    "U2_RA = pd.concat([A1user2[1], A2user2[1],A3user2[1],A4user2[1],A5user2[1],A6user2[1],A9user2[1],A12user2[1]], ignore_index=True)\n",
    "U2_LA = pd.concat([A1user2[2], A2user2[2],A3user2[2],A4user2[2],A5user2[2],A6user2[2],A9user2[2],A12user2[2]], ignore_index=True)\n",
    "U2_RL = pd.concat([A1user2[3], A2user2[3],A3user2[3],A4user2[3],A5user2[3],A6user2[3],A9user2[3],A12user2[3]], ignore_index=True)\n",
    "U2_LL = pd.concat([A1user2[4], A2user2[4],A3user2[4],A4user2[4],A5user2[4],A6user2[4],A9user2[4],A12user2[4]], ignore_index=True)"
   ]
  },
  {
   "cell_type": "markdown",
   "metadata": {},
   "source": [
    "##### User 3"
   ]
  },
  {
   "cell_type": "code",
   "execution_count": 83,
   "metadata": {},
   "outputs": [],
   "source": [
    "U3_Torso = pd.concat([A1user3[0], A2user3[0],A3user3[0],A4user3[0],A5user3[0],A6user3[0],A9user3[0],A12user3[0]], ignore_index=True)\n",
    "U3_RA = pd.concat([A1user3[1], A2user3[1],A3user3[1],A4user3[1],A5user3[1],A6user3[1],A9user3[1],A12user3[1]], ignore_index=True)\n",
    "U3_LA = pd.concat([A1user3[2], A2user3[2],A3user3[2],A4user3[2],A5user3[2],A6user3[2],A9user3[2],A12user3[2]], ignore_index=True)\n",
    "U3_RL = pd.concat([A1user3[3], A2user3[3],A3user3[3],A4user3[3],A5user3[3],A6user3[3],A9user3[3],A12user3[3]], ignore_index=True)\n",
    "U3_LL = pd.concat([A1user3[4], A2user3[4],A3user3[4],A4user3[4],A5user3[4],A6user3[4],A9user3[4],A12user3[4]], ignore_index=True)"
   ]
  },
  {
   "cell_type": "markdown",
   "metadata": {},
   "source": [
    "##### User 4"
   ]
  },
  {
   "cell_type": "code",
   "execution_count": 84,
   "metadata": {},
   "outputs": [],
   "source": [
    "U4_Torso = pd.concat([A1user4[0], A2user4[0],A3user4[0],A4user4[0],A5user4[0],A6user4[0],A9user4[0],A12user4[0]], ignore_index=True)\n",
    "U4_RA = pd.concat([A1user4[1], A2user4[1],A3user4[1],A4user4[1],A5user4[1],A6user4[1],A9user4[1],A12user4[1]], ignore_index=True)\n",
    "U4_LA = pd.concat([A1user4[2], A2user4[2],A3user4[2],A4user4[2],A5user4[2],A6user4[2],A9user4[2],A12user4[2]], ignore_index=True)\n",
    "U4_RL = pd.concat([A1user4[3], A2user4[3],A3user4[3],A4user4[3],A5user4[3],A6user4[3],A9user4[3],A12user4[3]], ignore_index=True)\n",
    "U4_LL = pd.concat([A1user4[4], A2user4[4],A3user4[4],A4user4[4],A5user4[4],A6user4[4],A9user4[4],A12user4[4]], ignore_index=True)"
   ]
  },
  {
   "cell_type": "markdown",
   "metadata": {},
   "source": [
    "##### User 5"
   ]
  },
  {
   "cell_type": "code",
   "execution_count": 85,
   "metadata": {},
   "outputs": [],
   "source": [
    "U5_Torso = pd.concat([A1user5[0], A2user5[0],A3user5[0],A4user5[0],A5user5[0],A6user5[0],A9user5[0],A12user5[0]], ignore_index=True)\n",
    "U5_RA = pd.concat([A1user5[1], A2user5[1],A3user5[1],A4user5[1],A5user5[1],A6user5[1],A9user5[1],A12user5[1]], ignore_index=True)\n",
    "U5_LA = pd.concat([A1user5[2], A2user5[2],A3user5[2],A4user5[2],A5user5[2],A6user5[2],A9user5[2],A12user5[2]], ignore_index=True)\n",
    "U5_RL = pd.concat([A1user5[3], A2user5[3],A3user5[3],A4user5[3],A5user5[3],A6user5[3],A9user5[3],A12user5[3]], ignore_index=True)\n",
    "U5_LL = pd.concat([A1user5[4], A2user5[4],A3user5[4],A4user5[4],A5user5[4],A6user5[4],A9user5[4],A12user5[4]], ignore_index=True)"
   ]
  },
  {
   "cell_type": "markdown",
   "metadata": {},
   "source": [
    "##### User 6"
   ]
  },
  {
   "cell_type": "code",
   "execution_count": 86,
   "metadata": {},
   "outputs": [],
   "source": [
    "U6_Torso = pd.concat([A1user6[0], A2user6[0],A3user6[0],A4user6[0],A5user6[0],A6user6[0],A9user6[0],A12user6[0]], ignore_index=True)\n",
    "U6_RA = pd.concat([A1user6[1], A2user6[1],A3user6[1],A4user6[1],A5user6[1],A6user6[1],A9user6[1],A12user6[1]], ignore_index=True)\n",
    "U6_LA = pd.concat([A1user6[2], A2user6[2],A3user6[2],A4user6[2],A5user6[2],A6user6[2],A9user6[2],A12user6[2]], ignore_index=True)\n",
    "U6_RL = pd.concat([A1user6[3], A2user6[3],A3user6[3],A4user6[3],A5user6[3],A6user6[3],A9user6[3],A12user6[3]], ignore_index=True)\n",
    "U6_LL = pd.concat([A1user6[4], A2user6[4],A3user6[4],A4user6[4],A5user6[4],A6user6[4],A9user6[4],A12user6[4]], ignore_index=True)"
   ]
  },
  {
   "cell_type": "markdown",
   "metadata": {},
   "source": [
    "##### User 7"
   ]
  },
  {
   "cell_type": "code",
   "execution_count": 87,
   "metadata": {},
   "outputs": [],
   "source": [
    "U7_Torso = pd.concat([A1user7[0], A2user7[0],A3user7[0],A4user7[0],A5user7[0],A6user7[0],A9user7[0],A12user7[0]], ignore_index=True)\n",
    "U7_RA = pd.concat([A1user7[1], A2user7[1],A3user7[1],A4user7[1],A5user7[1],A6user7[1],A9user7[1],A12user7[1]], ignore_index=True)\n",
    "U7_LA = pd.concat([A1user7[2], A2user7[2],A3user7[2],A4user7[2],A5user7[2],A6user7[2],A9user7[2],A12user7[2]], ignore_index=True)\n",
    "U7_RL = pd.concat([A1user7[3], A2user7[3],A3user7[3],A4user7[3],A5user7[3],A6user7[3],A9user7[3],A12user7[3]], ignore_index=True)\n",
    "U7_LL = pd.concat([A1user7[4], A2user7[4],A3user7[4],A4user7[4],A5user7[4],A6user7[4],A9user7[4],A12user7[4]], ignore_index=True)"
   ]
  },
  {
   "cell_type": "markdown",
   "metadata": {},
   "source": [
    "##### User 8"
   ]
  },
  {
   "cell_type": "code",
   "execution_count": 88,
   "metadata": {},
   "outputs": [],
   "source": [
    "U8_Torso = pd.concat([A1user8[0], A2user8[0],A3user8[0],A4user8[0],A5user8[0],A6user8[0],A9user8[0],A12user8[0]], ignore_index=True)\n",
    "U8_RA = pd.concat([A1user8[1], A2user8[1],A3user8[1],A4user8[1],A5user8[1],A6user8[1],A9user8[1],A12user8[1]], ignore_index=True)\n",
    "U8_LA = pd.concat([A1user8[2], A2user8[2],A3user8[2],A4user8[2],A5user8[2],A6user8[2],A9user8[2],A12user8[2]], ignore_index=True)\n",
    "U8_RL = pd.concat([A1user8[3], A2user8[3],A3user8[3],A4user8[3],A5user8[3],A6user8[3],A9user8[3],A12user8[3]], ignore_index=True)\n",
    "U8_LL = pd.concat([A1user8[4], A2user8[4],A3user8[4],A4user8[4],A5user8[4],A6user8[4],A9user8[4],A12user8[4]], ignore_index=True)"
   ]
  },
  {
   "cell_type": "markdown",
   "metadata": {},
   "source": [
    "### Save the frames"
   ]
  },
  {
   "cell_type": "code",
   "execution_count": 89,
   "metadata": {},
   "outputs": [],
   "source": [
    "save_path = \"/home/avijoychakma/Downloads/DSADS Files/\""
   ]
  },
  {
   "cell_type": "code",
   "execution_count": 90,
   "metadata": {},
   "outputs": [],
   "source": [
    "U1_Torso.to_csv (save_path+'U1_Torso.csv', index = None, header=True)\n",
    "U1_RA.to_csv (save_path+'U1_RA.csv', index = None, header=True)\n",
    "U1_LA.to_csv (save_path+'U1_LA.csv', index = None, header=True)\n",
    "U1_RL.to_csv (save_path+'U1_RL.csv', index = None, header=True)\n",
    "U1_LL.to_csv (save_path+'U1_LL.csv', index = None, header=True)"
   ]
  },
  {
   "cell_type": "code",
   "execution_count": 91,
   "metadata": {},
   "outputs": [],
   "source": [
    "U2_Torso.to_csv (save_path+'U2_Torso.csv', index = None, header=True)\n",
    "U2_RA.to_csv (save_path+'U2_RA.csv', index = None, header=True)\n",
    "U2_LA.to_csv (save_path+'U2_LA.csv', index = None, header=True)\n",
    "U2_RL.to_csv (save_path+'U2_RL.csv', index = None, header=True)\n",
    "U2_LL.to_csv (save_path+'U2_LL.csv', index = None, header=True)"
   ]
  },
  {
   "cell_type": "code",
   "execution_count": 92,
   "metadata": {},
   "outputs": [],
   "source": [
    "U3_Torso.to_csv (save_path+'U3_Torso.csv', index = None, header=True)\n",
    "U3_RA.to_csv (save_path+'U3_RA.csv', index = None, header=True)\n",
    "U3_LA.to_csv (save_path+'U3_LA.csv', index = None, header=True)\n",
    "U3_RL.to_csv (save_path+'U3_RL.csv', index = None, header=True)\n",
    "U3_LL.to_csv (save_path+'U3_LL.csv', index = None, header=True)"
   ]
  },
  {
   "cell_type": "code",
   "execution_count": 93,
   "metadata": {},
   "outputs": [],
   "source": [
    "U4_Torso.to_csv (save_path+'U4_Torso.csv', index = None, header=True)\n",
    "U4_RA.to_csv (save_path+'U4_RA.csv', index = None, header=True)\n",
    "U4_LA.to_csv (save_path+'U4_LA.csv', index = None, header=True)\n",
    "U4_RL.to_csv (save_path+'U4_RL.csv', index = None, header=True)\n",
    "U4_LL.to_csv (save_path+'U4_LL.csv', index = None, header=True)"
   ]
  },
  {
   "cell_type": "code",
   "execution_count": 94,
   "metadata": {},
   "outputs": [],
   "source": [
    "U5_Torso.to_csv (save_path+'U5_Torso.csv', index = None, header=True)\n",
    "U5_RA.to_csv (save_path+'U5_RA.csv', index = None, header=True)\n",
    "U5_LA.to_csv (save_path+'U5_LA.csv', index = None, header=True)\n",
    "U5_RL.to_csv (save_path+'U5_RL.csv', index = None, header=True)\n",
    "U5_LL.to_csv (save_path+'U5_LL.csv', index = None, header=True)"
   ]
  },
  {
   "cell_type": "code",
   "execution_count": 95,
   "metadata": {},
   "outputs": [],
   "source": [
    "U6_Torso.to_csv (save_path+'U6_Torso.csv', index = None, header=True)\n",
    "U6_RA.to_csv (save_path+'U6_RA.csv', index = None, header=True)\n",
    "U6_LA.to_csv (save_path+'U6_LA.csv', index = None, header=True)\n",
    "U6_RL.to_csv (save_path+'U6_RL.csv', index = None, header=True)\n",
    "U6_LL.to_csv (save_path+'U6_LL.csv', index = None, header=True)"
   ]
  },
  {
   "cell_type": "code",
   "execution_count": 96,
   "metadata": {},
   "outputs": [],
   "source": [
    "U7_Torso.to_csv (save_path+'U7_Torso.csv', index = None, header=True)\n",
    "U7_RA.to_csv (save_path+'U7_RA.csv', index = None, header=True)\n",
    "U7_LA.to_csv (save_path+'U7_LA.csv', index = None, header=True)\n",
    "U7_RL.to_csv (save_path+'U7_RL.csv', index = None, header=True)\n",
    "U7_LL.to_csv (save_path+'U7_LL.csv', index = None, header=True)"
   ]
  },
  {
   "cell_type": "code",
   "execution_count": 97,
   "metadata": {},
   "outputs": [],
   "source": [
    "U8_Torso.to_csv (save_path+'U8_Torso.csv', index = None, header=True)\n",
    "U8_RA.to_csv (save_path+'U8_RA.csv', index = None, header=True)\n",
    "U8_LA.to_csv (save_path+'U8_LA.csv', index = None, header=True)\n",
    "U8_RL.to_csv (save_path+'U8_RL.csv', index = None, header=True)\n",
    "U8_LL.to_csv (save_path+'U8_LL.csv', index = None, header=True)"
   ]
  },
  {
   "cell_type": "markdown",
   "metadata": {},
   "source": [
    "# 8. Prepare Final Dataset"
   ]
  },
  {
   "cell_type": "code",
   "execution_count": null,
   "metadata": {},
   "outputs": [],
   "source": []
  },
  {
   "cell_type": "code",
   "execution_count": 98,
   "metadata": {},
   "outputs": [],
   "source": [
    "Torso_dataset = []\n",
    "RA_dataset = []\n",
    "LA_dataset = []\n",
    "RL_dataset = []\n",
    "LL_dataset = []\n",
    "Torso_gt = []\n",
    "RA_gt = []\n",
    "LA_gt = []\n",
    "RL_gt = []\n",
    "LL_gt = []"
   ]
  },
  {
   "cell_type": "code",
   "execution_count": 99,
   "metadata": {},
   "outputs": [],
   "source": [
    "save_path = \"/home/avijoychakma/Downloads/DSADS Files/\""
   ]
  },
  {
   "cell_type": "code",
   "execution_count": 100,
   "metadata": {},
   "outputs": [],
   "source": [
    "position = [\"Torso\",\"RA\",\"LA\",\"RL\",\"LL\"]"
   ]
  },
  {
   "cell_type": "code",
   "execution_count": 101,
   "metadata": {},
   "outputs": [],
   "source": [
    "win_size=128\n",
    "step_size=64"
   ]
  },
  {
   "cell_type": "code",
   "execution_count": 102,
   "metadata": {},
   "outputs": [
    {
     "name": "stderr",
     "output_type": "stream",
     "text": [
      "100%|██████████| 5/5 [00:05<00:00,  1.12s/it]\n"
     ]
    }
   ],
   "source": [
    "for position_index in tqdm(range(1,6)): #Back, RUA, RLA, LUA, LLA\n",
    "    for person_index in range(1,9): # 4 Persons\n",
    "        file_name = \"U\"+str(person_index) + \"_\"+position[position_index-1]\n",
    "        \n",
    "        df = pd.read_csv(save_path+file_name+'.csv', sep=\",\")   \n",
    "        len_df = df.shape[0]\n",
    "        narray = df.to_numpy()\n",
    "\n",
    "        for i in range(0, len_df, step_size):\n",
    "            window = narray[i:i+win_size,0:9]\n",
    "            \n",
    "            if window.shape[0] != win_size:\n",
    "                continue\n",
    "            else:\n",
    "                reshaped_window = window.reshape(1,win_size,1,9)\n",
    "                gt = np.bincount(narray[i:i+win_size,10:11].astype(int).ravel()).argmax()\n",
    "                \n",
    "                if position_index == 1:\n",
    "                    Torso_dataset.append(reshaped_window)\n",
    "                    Torso_gt.append(gt)\n",
    "                elif position_index == 2:\n",
    "                    RA_dataset.append(reshaped_window)\n",
    "                    RA_gt.append(gt)\n",
    "                elif position_index == 3:\n",
    "                    LA_dataset.append(reshaped_window)\n",
    "                    LA_gt.append(gt)\n",
    "                elif position_index == 4:\n",
    "                    RL_dataset.append(reshaped_window)\n",
    "                    RL_gt.append(gt)\n",
    "                elif position_index == 5:\n",
    "                    LL_dataset.append(reshaped_window)\n",
    "                    LL_gt.append(gt)"
   ]
  },
  {
   "cell_type": "code",
   "execution_count": 103,
   "metadata": {},
   "outputs": [
    {
     "data": {
      "text/plain": [
       "9360"
      ]
     },
     "execution_count": 103,
     "metadata": {},
     "output_type": "execute_result"
    }
   ],
   "source": [
    "len(Torso_dataset)"
   ]
  },
  {
   "cell_type": "markdown",
   "metadata": {},
   "source": [
    "### We are interested in only in three different positions - Torso, Dominant arm, Dominant leg\n",
    "    - Index 0,1,3\n",
    "    - Scenario 1: Same dataset but different sensor position\n",
    "        - Analyze with different combination of position\n",
    "        - User based domain adaptation\n",
    "        - Position based domain adaptation\n",
    "    - Standardization and normalization of the dataframe"
   ]
  },
  {
   "cell_type": "markdown",
   "metadata": {},
   "source": [
    "# 9. Prepare the Dataloader"
   ]
  },
  {
   "cell_type": "code",
   "execution_count": 104,
   "metadata": {},
   "outputs": [],
   "source": [
    "def plot():\n",
    "    data = np.loadtxt('result.csv', delimiter=',')\n",
    "    plt.figure()\n",
    "    plt.plot(range(1, len(data[:, 0]) + 1), data[:, 0], color='blue', label='train')\n",
    "    plt.plot(range(1, len(data[:, 1]) + 1), data[:, 1], color='red', label='test')\n",
    "    plt.legend()\n",
    "    plt.xlabel('Epoch', fontsize=14)\n",
    "    plt.ylabel('Accuracy (%)', fontsize=14)\n",
    "    plt.title('Training and Test Accuracy', fontsize=20)"
   ]
  },
  {
   "cell_type": "code",
   "execution_count": 105,
   "metadata": {
    "scrolled": true
   },
   "outputs": [
    {
     "data": {
      "text/plain": [
       "array([0, 1, 2, 3, 4, 5, 6])"
      ]
     },
     "execution_count": 105,
     "metadata": {},
     "output_type": "execute_result"
    }
   ],
   "source": [
    "np.unique(Torso_gt)"
   ]
  },
  {
   "cell_type": "code",
   "execution_count": 108,
   "metadata": {},
   "outputs": [],
   "source": [
    "Torso = np.concatenate( Torso_dataset, axis=0 )\n",
    "Torso_Ground_Truth = np.array( Torso_gt )"
   ]
  },
  {
   "cell_type": "code",
   "execution_count": 109,
   "metadata": {},
   "outputs": [
    {
     "data": {
      "text/plain": [
       "(9360, 128, 1, 9)"
      ]
     },
     "execution_count": 109,
     "metadata": {},
     "output_type": "execute_result"
    }
   ],
   "source": [
    "Torso.shape"
   ]
  },
  {
   "cell_type": "markdown",
   "metadata": {},
   "source": [
    "#### Split the dataset into training and testing"
   ]
  },
  {
   "cell_type": "code",
   "execution_count": 110,
   "metadata": {},
   "outputs": [],
   "source": [
    "def onehot_to_label(y_onehot):\n",
    "    a = np.argwhere(y_onehot == 1)\n",
    "    return a[:, -1]"
   ]
  },
  {
   "cell_type": "code",
   "execution_count": 111,
   "metadata": {},
   "outputs": [],
   "source": [
    "X_train, X_test, y_train, y_test = train_test_split(Torso, Torso_Ground_Truth, test_size=0.25, random_state=42)"
   ]
  },
  {
   "cell_type": "code",
   "execution_count": 112,
   "metadata": {},
   "outputs": [
    {
     "data": {
      "text/plain": [
       "array([0, 1, 2, 3, 4, 5, 6])"
      ]
     },
     "execution_count": 112,
     "metadata": {},
     "output_type": "execute_result"
    }
   ],
   "source": [
    "np.unique(y_train)"
   ]
  },
  {
   "cell_type": "code",
   "execution_count": 113,
   "metadata": {},
   "outputs": [],
   "source": [
    "y_train = onehot_to_label(np.eye(7)[y_train])"
   ]
  },
  {
   "cell_type": "code",
   "execution_count": 114,
   "metadata": {
    "scrolled": true
   },
   "outputs": [],
   "source": [
    "y_test = onehot_to_label(np.eye(7)[y_test])"
   ]
  },
  {
   "cell_type": "code",
   "execution_count": 115,
   "metadata": {},
   "outputs": [
    {
     "data": {
      "text/plain": [
       "(7020, 128, 1, 9)"
      ]
     },
     "execution_count": 115,
     "metadata": {},
     "output_type": "execute_result"
    }
   ],
   "source": [
    "X_train.shape"
   ]
  },
  {
   "cell_type": "markdown",
   "metadata": {},
   "source": [
    "#### Data type conversion"
   ]
  },
  {
   "cell_type": "code",
   "execution_count": 116,
   "metadata": {},
   "outputs": [],
   "source": [
    "X_train =X_train.astype(np.float32)\n",
    "y_train =y_train.astype(np.float32)\n",
    "X_test =X_test.astype(np.float32)\n",
    "y_test =y_test.astype(np.float32)"
   ]
  },
  {
   "cell_type": "code",
   "execution_count": 117,
   "metadata": {},
   "outputs": [
    {
     "data": {
      "text/plain": [
       "(7020, 128, 1, 9)"
      ]
     },
     "execution_count": 117,
     "metadata": {},
     "output_type": "execute_result"
    }
   ],
   "source": [
    "X_train.shape"
   ]
  },
  {
   "cell_type": "code",
   "execution_count": 119,
   "metadata": {},
   "outputs": [
    {
     "data": {
      "text/plain": [
       "(7020,)"
      ]
     },
     "execution_count": 119,
     "metadata": {},
     "output_type": "execute_result"
    }
   ],
   "source": [
    "y_train.shape"
   ]
  },
  {
   "cell_type": "markdown",
   "metadata": {},
   "source": [
    "#### Dataloader Class"
   ]
  },
  {
   "cell_type": "code",
   "execution_count": 120,
   "metadata": {},
   "outputs": [],
   "source": [
    "class data_loader(Dataset):\n",
    "    def __init__(self, samples, labels, transform=None):\n",
    "        self.samples = samples\n",
    "        self.labels = labels\n",
    "        self.transform = transform\n",
    "\n",
    "    def __getitem__(self, index):\n",
    "        return self.transform(self.samples[index]), self.transform(self.samples[index])\n",
    "\n",
    "    def __len__(self):\n",
    "        return len(self.samples)"
   ]
  },
  {
   "cell_type": "markdown",
   "metadata": {},
   "source": [
    "#### Train and test loader"
   ]
  },
  {
   "cell_type": "code",
   "execution_count": 121,
   "metadata": {},
   "outputs": [],
   "source": [
    "def load(batch_size=64):\n",
    "  \n",
    "    X_train_swap = np.swapaxes(X_train,1,3)\n",
    "    X_test_swap = np.swapaxes(X_test,1,3)\n",
    "    \n",
    "    transform = transforms.Compose([\n",
    "        transforms.ToTensor(),\n",
    "        transforms.Normalize(mean=(0,0,0,0,0,0,0,0,0), std=(1,1,1,1,1,1,1,1,1))\n",
    "    ])\n",
    "    \n",
    "    train_set = data_loader(X_train_swap, y_train, transform)\n",
    "    test_set = data_loader(X_test_swap, y_test, transform)\n",
    "\n",
    "    \n",
    "    train_loader = DataLoader(train_set, batch_size=batch_size, shuffle=True, drop_last=True)\n",
    "    test_loader = DataLoader(test_set, batch_size=batch_size, shuffle=False)\n",
    "    return train_loader, test_loader"
   ]
  },
  {
   "cell_type": "code",
   "execution_count": 122,
   "metadata": {},
   "outputs": [],
   "source": [
    "# train_loader, test_loader = load(32)\n",
    "# dataiter = iter(train_loader)\n",
    "# images, labels = dataiter.next()\n",
    "# # images = images.permute(0,1,3,2)\n",
    "# print(type(images))\n",
    "# print(images.shape)\n",
    "# print(labels.shape)"
   ]
  },
  {
   "cell_type": "markdown",
   "metadata": {},
   "source": [
    "#### Model train and test"
   ]
  },
  {
   "cell_type": "code",
   "execution_count": 123,
   "metadata": {},
   "outputs": [],
   "source": [
    "BATCH_SIZE = 64\n",
    "N_EPOCH = 5\n",
    "LEARNING_RATE = 0.01\n",
    "DEVICE = torch.device('cuda:0' if torch.cuda.is_available() else 'cpu')\n",
    "result = []\n",
    "\n",
    "\n",
    "def train(model, optimizer, train_loader, test_loader):\n",
    "    n_batch = len(train_loader.dataset) // BATCH_SIZE\n",
    "    criterion = nn.CrossEntropyLoss()\n",
    "\n",
    "    for e in range(N_EPOCH):\n",
    "        model.train()\n",
    "        correct, total_loss = 0, 0\n",
    "        total = 0\n",
    "        for index, (sample, target) in enumerate(train_loader):\n",
    "            sample, target = sample.to(DEVICE).float(), target.to(DEVICE).long()\n",
    "            sample = sample.view(-1, 9, 1, 128)\n",
    "\n",
    "            output = model(sample)\n",
    "            loss = criterion(output, target)\n",
    "            optimizer.zero_grad()\n",
    "            loss.backward()\n",
    "            optimizer.step()\n",
    "            total_loss += loss.item()\n",
    "            _, predicted = torch.max(output.data, 1)\n",
    "            total += target.size(0)\n",
    "            correct += (predicted == target).sum()\n",
    "\n",
    "            if index % 20 == 0:\n",
    "                tqdm.tqdm.write('Epoch: [{}/{}], Batch: [{}/{}], loss:{:.4f}'.format(e + 1, N_EPOCH, index + 1, n_batch,\n",
    "                                                                                     loss.item()))\n",
    "        acc_train = float(correct) * 100.0 / (BATCH_SIZE * n_batch)\n",
    "        tqdm.tqdm.write(\n",
    "            'Epoch: [{}/{}], loss: {:.4f}, train acc: {:.2f}%'.format(e + 1, N_EPOCH, total_loss * 1.0 / n_batch,\n",
    "                                                                      acc_train))\n",
    "\n",
    "        # Testing\n",
    "        model.train(False)\n",
    "        with torch.no_grad():\n",
    "            correct, total = 0, 0\n",
    "            for sample, target in test_loader:\n",
    "                sample, target = sample.to(DEVICE).float(), target.to(DEVICE).long()\n",
    "                sample = sample.view(-1, 9, 1, 128)\n",
    "                output = model(sample)\n",
    "                _, predicted = torch.max(output.data, 1)\n",
    "                total += target.size(0)\n",
    "                correct += (predicted == target).sum()\n",
    "        acc_test = float(correct) * 100 / total\n",
    "        tqdm.tqdm.write('Epoch: [{}/{}], test acc: {:.2f}%'.format(e + 1, N_EPOCH, float(correct) * 100 / total))\n",
    "        result.append([acc_train, acc_test])\n",
    "        result_np = np.array(result, dtype=float)\n",
    "        np.savetxt('result.csv', result_np, fmt='%.2f', delimiter=',')"
   ]
  },
  {
   "cell_type": "markdown",
   "metadata": {},
   "source": [
    "#### Execute the model"
   ]
  },
  {
   "cell_type": "code",
   "execution_count": 124,
   "metadata": {},
   "outputs": [
    {
     "ename": "RuntimeError",
     "evalue": "The size of tensor a (128) must match the size of tensor b (9) at non-singleton dimension 0",
     "output_type": "error",
     "traceback": [
      "\u001b[0;31m---------------------------------------------------------------------------\u001b[0m",
      "\u001b[0;31mRuntimeError\u001b[0m                              Traceback (most recent call last)",
      "\u001b[0;32m<ipython-input-124-795106d208fa>\u001b[0m in \u001b[0;36m<module>\u001b[0;34m\u001b[0m\n\u001b[1;32m      5\u001b[0m     \u001b[0moptimizer\u001b[0m \u001b[0;34m=\u001b[0m \u001b[0moptim\u001b[0m\u001b[0;34m.\u001b[0m\u001b[0mSGD\u001b[0m\u001b[0;34m(\u001b[0m\u001b[0mparams\u001b[0m\u001b[0;34m=\u001b[0m\u001b[0mmodel\u001b[0m\u001b[0;34m.\u001b[0m\u001b[0mparameters\u001b[0m\u001b[0;34m(\u001b[0m\u001b[0;34m)\u001b[0m\u001b[0;34m,\u001b[0m \u001b[0mlr\u001b[0m\u001b[0;34m=\u001b[0m\u001b[0mLEARNING_RATE\u001b[0m\u001b[0;34m,\u001b[0m \u001b[0mmomentum\u001b[0m\u001b[0;34m=\u001b[0m\u001b[0;36m0.9\u001b[0m\u001b[0;34m)\u001b[0m\u001b[0;34m\u001b[0m\u001b[0;34m\u001b[0m\u001b[0m\n\u001b[1;32m      6\u001b[0m \u001b[0;34m\u001b[0m\u001b[0m\n\u001b[0;32m----> 7\u001b[0;31m     \u001b[0mtrain\u001b[0m\u001b[0;34m(\u001b[0m\u001b[0mmodel\u001b[0m\u001b[0;34m,\u001b[0m \u001b[0moptimizer\u001b[0m\u001b[0;34m,\u001b[0m \u001b[0mtrain_loader\u001b[0m\u001b[0;34m,\u001b[0m \u001b[0mtest_loader\u001b[0m\u001b[0;34m)\u001b[0m\u001b[0;34m\u001b[0m\u001b[0;34m\u001b[0m\u001b[0m\n\u001b[0m\u001b[1;32m      8\u001b[0m     \u001b[0mresult\u001b[0m \u001b[0;34m=\u001b[0m \u001b[0mnp\u001b[0m\u001b[0;34m.\u001b[0m\u001b[0marray\u001b[0m\u001b[0;34m(\u001b[0m\u001b[0mresult\u001b[0m\u001b[0;34m,\u001b[0m \u001b[0mdtype\u001b[0m\u001b[0;34m=\u001b[0m\u001b[0mfloat\u001b[0m\u001b[0;34m)\u001b[0m\u001b[0;34m\u001b[0m\u001b[0;34m\u001b[0m\u001b[0m\n\u001b[1;32m      9\u001b[0m     \u001b[0mnp\u001b[0m\u001b[0;34m.\u001b[0m\u001b[0msavetxt\u001b[0m\u001b[0;34m(\u001b[0m\u001b[0;34m'result.csv'\u001b[0m\u001b[0;34m,\u001b[0m \u001b[0mresult\u001b[0m\u001b[0;34m,\u001b[0m \u001b[0mfmt\u001b[0m\u001b[0;34m=\u001b[0m\u001b[0;34m'%.2f'\u001b[0m\u001b[0;34m,\u001b[0m \u001b[0mdelimiter\u001b[0m\u001b[0;34m=\u001b[0m\u001b[0;34m','\u001b[0m\u001b[0;34m)\u001b[0m\u001b[0;34m\u001b[0m\u001b[0;34m\u001b[0m\u001b[0m\n",
      "\u001b[0;32m<ipython-input-123-d6527a876e79>\u001b[0m in \u001b[0;36mtrain\u001b[0;34m(model, optimizer, train_loader, test_loader)\u001b[0m\n\u001b[1;32m     14\u001b[0m         \u001b[0mcorrect\u001b[0m\u001b[0;34m,\u001b[0m \u001b[0mtotal_loss\u001b[0m \u001b[0;34m=\u001b[0m \u001b[0;36m0\u001b[0m\u001b[0;34m,\u001b[0m \u001b[0;36m0\u001b[0m\u001b[0;34m\u001b[0m\u001b[0;34m\u001b[0m\u001b[0m\n\u001b[1;32m     15\u001b[0m         \u001b[0mtotal\u001b[0m \u001b[0;34m=\u001b[0m \u001b[0;36m0\u001b[0m\u001b[0;34m\u001b[0m\u001b[0;34m\u001b[0m\u001b[0m\n\u001b[0;32m---> 16\u001b[0;31m         \u001b[0;32mfor\u001b[0m \u001b[0mindex\u001b[0m\u001b[0;34m,\u001b[0m \u001b[0;34m(\u001b[0m\u001b[0msample\u001b[0m\u001b[0;34m,\u001b[0m \u001b[0mtarget\u001b[0m\u001b[0;34m)\u001b[0m \u001b[0;32min\u001b[0m \u001b[0menumerate\u001b[0m\u001b[0;34m(\u001b[0m\u001b[0mtrain_loader\u001b[0m\u001b[0;34m)\u001b[0m\u001b[0;34m:\u001b[0m\u001b[0;34m\u001b[0m\u001b[0;34m\u001b[0m\u001b[0m\n\u001b[0m\u001b[1;32m     17\u001b[0m             \u001b[0msample\u001b[0m\u001b[0;34m,\u001b[0m \u001b[0mtarget\u001b[0m \u001b[0;34m=\u001b[0m \u001b[0msample\u001b[0m\u001b[0;34m.\u001b[0m\u001b[0mto\u001b[0m\u001b[0;34m(\u001b[0m\u001b[0mDEVICE\u001b[0m\u001b[0;34m)\u001b[0m\u001b[0;34m.\u001b[0m\u001b[0mfloat\u001b[0m\u001b[0;34m(\u001b[0m\u001b[0;34m)\u001b[0m\u001b[0;34m,\u001b[0m \u001b[0mtarget\u001b[0m\u001b[0;34m.\u001b[0m\u001b[0mto\u001b[0m\u001b[0;34m(\u001b[0m\u001b[0mDEVICE\u001b[0m\u001b[0;34m)\u001b[0m\u001b[0;34m.\u001b[0m\u001b[0mlong\u001b[0m\u001b[0;34m(\u001b[0m\u001b[0;34m)\u001b[0m\u001b[0;34m\u001b[0m\u001b[0;34m\u001b[0m\u001b[0m\n\u001b[1;32m     18\u001b[0m \u001b[0;34m\u001b[0m\u001b[0m\n",
      "\u001b[0;32m~/anaconda3/lib/python3.7/site-packages/torch/utils/data/dataloader.py\u001b[0m in \u001b[0;36m__next__\u001b[0;34m(self)\u001b[0m\n\u001b[1;32m    558\u001b[0m         \u001b[0;32mif\u001b[0m \u001b[0mself\u001b[0m\u001b[0;34m.\u001b[0m\u001b[0mnum_workers\u001b[0m \u001b[0;34m==\u001b[0m \u001b[0;36m0\u001b[0m\u001b[0;34m:\u001b[0m  \u001b[0;31m# same-process loading\u001b[0m\u001b[0;34m\u001b[0m\u001b[0;34m\u001b[0m\u001b[0m\n\u001b[1;32m    559\u001b[0m             \u001b[0mindices\u001b[0m \u001b[0;34m=\u001b[0m \u001b[0mnext\u001b[0m\u001b[0;34m(\u001b[0m\u001b[0mself\u001b[0m\u001b[0;34m.\u001b[0m\u001b[0msample_iter\u001b[0m\u001b[0;34m)\u001b[0m  \u001b[0;31m# may raise StopIteration\u001b[0m\u001b[0;34m\u001b[0m\u001b[0;34m\u001b[0m\u001b[0m\n\u001b[0;32m--> 560\u001b[0;31m             \u001b[0mbatch\u001b[0m \u001b[0;34m=\u001b[0m \u001b[0mself\u001b[0m\u001b[0;34m.\u001b[0m\u001b[0mcollate_fn\u001b[0m\u001b[0;34m(\u001b[0m\u001b[0;34m[\u001b[0m\u001b[0mself\u001b[0m\u001b[0;34m.\u001b[0m\u001b[0mdataset\u001b[0m\u001b[0;34m[\u001b[0m\u001b[0mi\u001b[0m\u001b[0;34m]\u001b[0m \u001b[0;32mfor\u001b[0m \u001b[0mi\u001b[0m \u001b[0;32min\u001b[0m \u001b[0mindices\u001b[0m\u001b[0;34m]\u001b[0m\u001b[0;34m)\u001b[0m\u001b[0;34m\u001b[0m\u001b[0;34m\u001b[0m\u001b[0m\n\u001b[0m\u001b[1;32m    561\u001b[0m             \u001b[0;32mif\u001b[0m \u001b[0mself\u001b[0m\u001b[0;34m.\u001b[0m\u001b[0mpin_memory\u001b[0m\u001b[0;34m:\u001b[0m\u001b[0;34m\u001b[0m\u001b[0;34m\u001b[0m\u001b[0m\n\u001b[1;32m    562\u001b[0m                 \u001b[0mbatch\u001b[0m \u001b[0;34m=\u001b[0m \u001b[0m_utils\u001b[0m\u001b[0;34m.\u001b[0m\u001b[0mpin_memory\u001b[0m\u001b[0;34m.\u001b[0m\u001b[0mpin_memory_batch\u001b[0m\u001b[0;34m(\u001b[0m\u001b[0mbatch\u001b[0m\u001b[0;34m)\u001b[0m\u001b[0;34m\u001b[0m\u001b[0;34m\u001b[0m\u001b[0m\n",
      "\u001b[0;32m~/anaconda3/lib/python3.7/site-packages/torch/utils/data/dataloader.py\u001b[0m in \u001b[0;36m<listcomp>\u001b[0;34m(.0)\u001b[0m\n\u001b[1;32m    558\u001b[0m         \u001b[0;32mif\u001b[0m \u001b[0mself\u001b[0m\u001b[0;34m.\u001b[0m\u001b[0mnum_workers\u001b[0m \u001b[0;34m==\u001b[0m \u001b[0;36m0\u001b[0m\u001b[0;34m:\u001b[0m  \u001b[0;31m# same-process loading\u001b[0m\u001b[0;34m\u001b[0m\u001b[0;34m\u001b[0m\u001b[0m\n\u001b[1;32m    559\u001b[0m             \u001b[0mindices\u001b[0m \u001b[0;34m=\u001b[0m \u001b[0mnext\u001b[0m\u001b[0;34m(\u001b[0m\u001b[0mself\u001b[0m\u001b[0;34m.\u001b[0m\u001b[0msample_iter\u001b[0m\u001b[0;34m)\u001b[0m  \u001b[0;31m# may raise StopIteration\u001b[0m\u001b[0;34m\u001b[0m\u001b[0;34m\u001b[0m\u001b[0m\n\u001b[0;32m--> 560\u001b[0;31m             \u001b[0mbatch\u001b[0m \u001b[0;34m=\u001b[0m \u001b[0mself\u001b[0m\u001b[0;34m.\u001b[0m\u001b[0mcollate_fn\u001b[0m\u001b[0;34m(\u001b[0m\u001b[0;34m[\u001b[0m\u001b[0mself\u001b[0m\u001b[0;34m.\u001b[0m\u001b[0mdataset\u001b[0m\u001b[0;34m[\u001b[0m\u001b[0mi\u001b[0m\u001b[0;34m]\u001b[0m \u001b[0;32mfor\u001b[0m \u001b[0mi\u001b[0m \u001b[0;32min\u001b[0m \u001b[0mindices\u001b[0m\u001b[0;34m]\u001b[0m\u001b[0;34m)\u001b[0m\u001b[0;34m\u001b[0m\u001b[0;34m\u001b[0m\u001b[0m\n\u001b[0m\u001b[1;32m    561\u001b[0m             \u001b[0;32mif\u001b[0m \u001b[0mself\u001b[0m\u001b[0;34m.\u001b[0m\u001b[0mpin_memory\u001b[0m\u001b[0;34m:\u001b[0m\u001b[0;34m\u001b[0m\u001b[0;34m\u001b[0m\u001b[0m\n\u001b[1;32m    562\u001b[0m                 \u001b[0mbatch\u001b[0m \u001b[0;34m=\u001b[0m \u001b[0m_utils\u001b[0m\u001b[0;34m.\u001b[0m\u001b[0mpin_memory\u001b[0m\u001b[0;34m.\u001b[0m\u001b[0mpin_memory_batch\u001b[0m\u001b[0;34m(\u001b[0m\u001b[0mbatch\u001b[0m\u001b[0;34m)\u001b[0m\u001b[0;34m\u001b[0m\u001b[0;34m\u001b[0m\u001b[0m\n",
      "\u001b[0;32m<ipython-input-120-9a80ac71b707>\u001b[0m in \u001b[0;36m__getitem__\u001b[0;34m(self, index)\u001b[0m\n\u001b[1;32m      6\u001b[0m \u001b[0;34m\u001b[0m\u001b[0m\n\u001b[1;32m      7\u001b[0m     \u001b[0;32mdef\u001b[0m \u001b[0m__getitem__\u001b[0m\u001b[0;34m(\u001b[0m\u001b[0mself\u001b[0m\u001b[0;34m,\u001b[0m \u001b[0mindex\u001b[0m\u001b[0;34m)\u001b[0m\u001b[0;34m:\u001b[0m\u001b[0;34m\u001b[0m\u001b[0;34m\u001b[0m\u001b[0m\n\u001b[0;32m----> 8\u001b[0;31m         \u001b[0;32mreturn\u001b[0m \u001b[0mself\u001b[0m\u001b[0;34m.\u001b[0m\u001b[0mtransform\u001b[0m\u001b[0;34m(\u001b[0m\u001b[0mself\u001b[0m\u001b[0;34m.\u001b[0m\u001b[0msamples\u001b[0m\u001b[0;34m[\u001b[0m\u001b[0mindex\u001b[0m\u001b[0;34m]\u001b[0m\u001b[0;34m)\u001b[0m\u001b[0;34m,\u001b[0m \u001b[0mself\u001b[0m\u001b[0;34m.\u001b[0m\u001b[0mtransform\u001b[0m\u001b[0;34m(\u001b[0m\u001b[0mself\u001b[0m\u001b[0;34m.\u001b[0m\u001b[0msamples\u001b[0m\u001b[0;34m[\u001b[0m\u001b[0mindex\u001b[0m\u001b[0;34m]\u001b[0m\u001b[0;34m)\u001b[0m\u001b[0;34m\u001b[0m\u001b[0;34m\u001b[0m\u001b[0m\n\u001b[0m\u001b[1;32m      9\u001b[0m \u001b[0;34m\u001b[0m\u001b[0m\n\u001b[1;32m     10\u001b[0m     \u001b[0;32mdef\u001b[0m \u001b[0m__len__\u001b[0m\u001b[0;34m(\u001b[0m\u001b[0mself\u001b[0m\u001b[0;34m)\u001b[0m\u001b[0;34m:\u001b[0m\u001b[0;34m\u001b[0m\u001b[0;34m\u001b[0m\u001b[0m\n",
      "\u001b[0;32m~/anaconda3/lib/python3.7/site-packages/torchvision/transforms/transforms.py\u001b[0m in \u001b[0;36m__call__\u001b[0;34m(self, img)\u001b[0m\n\u001b[1;32m     59\u001b[0m     \u001b[0;32mdef\u001b[0m \u001b[0m__call__\u001b[0m\u001b[0;34m(\u001b[0m\u001b[0mself\u001b[0m\u001b[0;34m,\u001b[0m \u001b[0mimg\u001b[0m\u001b[0;34m)\u001b[0m\u001b[0;34m:\u001b[0m\u001b[0;34m\u001b[0m\u001b[0;34m\u001b[0m\u001b[0m\n\u001b[1;32m     60\u001b[0m         \u001b[0;32mfor\u001b[0m \u001b[0mt\u001b[0m \u001b[0;32min\u001b[0m \u001b[0mself\u001b[0m\u001b[0;34m.\u001b[0m\u001b[0mtransforms\u001b[0m\u001b[0;34m:\u001b[0m\u001b[0;34m\u001b[0m\u001b[0;34m\u001b[0m\u001b[0m\n\u001b[0;32m---> 61\u001b[0;31m             \u001b[0mimg\u001b[0m \u001b[0;34m=\u001b[0m \u001b[0mt\u001b[0m\u001b[0;34m(\u001b[0m\u001b[0mimg\u001b[0m\u001b[0;34m)\u001b[0m\u001b[0;34m\u001b[0m\u001b[0;34m\u001b[0m\u001b[0m\n\u001b[0m\u001b[1;32m     62\u001b[0m         \u001b[0;32mreturn\u001b[0m \u001b[0mimg\u001b[0m\u001b[0;34m\u001b[0m\u001b[0;34m\u001b[0m\u001b[0m\n\u001b[1;32m     63\u001b[0m \u001b[0;34m\u001b[0m\u001b[0m\n",
      "\u001b[0;32m~/anaconda3/lib/python3.7/site-packages/torchvision/transforms/transforms.py\u001b[0m in \u001b[0;36m__call__\u001b[0;34m(self, tensor)\u001b[0m\n\u001b[1;32m    162\u001b[0m             \u001b[0mTensor\u001b[0m\u001b[0;34m:\u001b[0m \u001b[0mNormalized\u001b[0m \u001b[0mTensor\u001b[0m \u001b[0mimage\u001b[0m\u001b[0;34m.\u001b[0m\u001b[0;34m\u001b[0m\u001b[0;34m\u001b[0m\u001b[0m\n\u001b[1;32m    163\u001b[0m         \"\"\"\n\u001b[0;32m--> 164\u001b[0;31m         \u001b[0;32mreturn\u001b[0m \u001b[0mF\u001b[0m\u001b[0;34m.\u001b[0m\u001b[0mnormalize\u001b[0m\u001b[0;34m(\u001b[0m\u001b[0mtensor\u001b[0m\u001b[0;34m,\u001b[0m \u001b[0mself\u001b[0m\u001b[0;34m.\u001b[0m\u001b[0mmean\u001b[0m\u001b[0;34m,\u001b[0m \u001b[0mself\u001b[0m\u001b[0;34m.\u001b[0m\u001b[0mstd\u001b[0m\u001b[0;34m,\u001b[0m \u001b[0mself\u001b[0m\u001b[0;34m.\u001b[0m\u001b[0minplace\u001b[0m\u001b[0;34m)\u001b[0m\u001b[0;34m\u001b[0m\u001b[0;34m\u001b[0m\u001b[0m\n\u001b[0m\u001b[1;32m    165\u001b[0m \u001b[0;34m\u001b[0m\u001b[0m\n\u001b[1;32m    166\u001b[0m     \u001b[0;32mdef\u001b[0m \u001b[0m__repr__\u001b[0m\u001b[0;34m(\u001b[0m\u001b[0mself\u001b[0m\u001b[0;34m)\u001b[0m\u001b[0;34m:\u001b[0m\u001b[0;34m\u001b[0m\u001b[0;34m\u001b[0m\u001b[0m\n",
      "\u001b[0;32m~/anaconda3/lib/python3.7/site-packages/torchvision/transforms/functional.py\u001b[0m in \u001b[0;36mnormalize\u001b[0;34m(tensor, mean, std, inplace)\u001b[0m\n\u001b[1;32m    206\u001b[0m     \u001b[0mmean\u001b[0m \u001b[0;34m=\u001b[0m \u001b[0mtorch\u001b[0m\u001b[0;34m.\u001b[0m\u001b[0mas_tensor\u001b[0m\u001b[0;34m(\u001b[0m\u001b[0mmean\u001b[0m\u001b[0;34m,\u001b[0m \u001b[0mdtype\u001b[0m\u001b[0;34m=\u001b[0m\u001b[0mtorch\u001b[0m\u001b[0;34m.\u001b[0m\u001b[0mfloat32\u001b[0m\u001b[0;34m,\u001b[0m \u001b[0mdevice\u001b[0m\u001b[0;34m=\u001b[0m\u001b[0mtensor\u001b[0m\u001b[0;34m.\u001b[0m\u001b[0mdevice\u001b[0m\u001b[0;34m)\u001b[0m\u001b[0;34m\u001b[0m\u001b[0;34m\u001b[0m\u001b[0m\n\u001b[1;32m    207\u001b[0m     \u001b[0mstd\u001b[0m \u001b[0;34m=\u001b[0m \u001b[0mtorch\u001b[0m\u001b[0;34m.\u001b[0m\u001b[0mas_tensor\u001b[0m\u001b[0;34m(\u001b[0m\u001b[0mstd\u001b[0m\u001b[0;34m,\u001b[0m \u001b[0mdtype\u001b[0m\u001b[0;34m=\u001b[0m\u001b[0mtorch\u001b[0m\u001b[0;34m.\u001b[0m\u001b[0mfloat32\u001b[0m\u001b[0;34m,\u001b[0m \u001b[0mdevice\u001b[0m\u001b[0;34m=\u001b[0m\u001b[0mtensor\u001b[0m\u001b[0;34m.\u001b[0m\u001b[0mdevice\u001b[0m\u001b[0;34m)\u001b[0m\u001b[0;34m\u001b[0m\u001b[0;34m\u001b[0m\u001b[0m\n\u001b[0;32m--> 208\u001b[0;31m     \u001b[0mtensor\u001b[0m\u001b[0;34m.\u001b[0m\u001b[0msub_\u001b[0m\u001b[0;34m(\u001b[0m\u001b[0mmean\u001b[0m\u001b[0;34m[\u001b[0m\u001b[0;34m:\u001b[0m\u001b[0;34m,\u001b[0m \u001b[0;32mNone\u001b[0m\u001b[0;34m,\u001b[0m \u001b[0;32mNone\u001b[0m\u001b[0;34m]\u001b[0m\u001b[0;34m)\u001b[0m\u001b[0;34m.\u001b[0m\u001b[0mdiv_\u001b[0m\u001b[0;34m(\u001b[0m\u001b[0mstd\u001b[0m\u001b[0;34m[\u001b[0m\u001b[0;34m:\u001b[0m\u001b[0;34m,\u001b[0m \u001b[0;32mNone\u001b[0m\u001b[0;34m,\u001b[0m \u001b[0;32mNone\u001b[0m\u001b[0;34m]\u001b[0m\u001b[0;34m)\u001b[0m\u001b[0;34m\u001b[0m\u001b[0;34m\u001b[0m\u001b[0m\n\u001b[0m\u001b[1;32m    209\u001b[0m     \u001b[0;32mreturn\u001b[0m \u001b[0mtensor\u001b[0m\u001b[0;34m\u001b[0m\u001b[0;34m\u001b[0m\u001b[0m\n\u001b[1;32m    210\u001b[0m \u001b[0;34m\u001b[0m\u001b[0m\n",
      "\u001b[0;31mRuntimeError\u001b[0m: The size of tensor a (128) must match the size of tensor b (9) at non-singleton dimension 0"
     ]
    }
   ],
   "source": [
    "if __name__ == '__main__':\n",
    "    torch.manual_seed(10)\n",
    "    model = net.Network().to(DEVICE)\n",
    "    train_loader, test_loader = load()\n",
    "    optimizer = optim.SGD(params=model.parameters(), lr=LEARNING_RATE, momentum=0.9)\n",
    "    \n",
    "    train(model, optimizer, train_loader, test_loader)\n",
    "    result = np.array(result, dtype=float)\n",
    "    np.savetxt('result.csv', result, fmt='%.2f', delimiter=',')\n",
    "    plot()"
   ]
  },
  {
   "cell_type": "code",
   "execution_count": 291,
   "metadata": {},
   "outputs": [],
   "source": [
    "x = np.array([2,3,1,0,4,5,6])"
   ]
  },
  {
   "cell_type": "code",
   "execution_count": 294,
   "metadata": {},
   "outputs": [
    {
     "data": {
      "text/plain": [
       "array([7, 3, 3, ..., 6, 7, 3])"
      ]
     },
     "execution_count": 294,
     "metadata": {},
     "output_type": "execute_result"
    }
   ],
   "source": [
    "y_train"
   ]
  },
  {
   "cell_type": "code",
   "execution_count": 295,
   "metadata": {},
   "outputs": [],
   "source": [
    "x = np.array(y_train)"
   ]
  },
  {
   "cell_type": "code",
   "execution_count": 298,
   "metadata": {},
   "outputs": [],
   "source": [
    "YY = np.eye(8)[x]"
   ]
  },
  {
   "cell_type": "code",
   "execution_count": 293,
   "metadata": {},
   "outputs": [
    {
     "data": {
      "text/plain": [
       "array([[0., 0., 1., 0., 0., 0., 0.],\n",
       "       [0., 0., 0., 1., 0., 0., 0.],\n",
       "       [0., 1., 0., 0., 0., 0., 0.],\n",
       "       [1., 0., 0., 0., 0., 0., 0.],\n",
       "       [0., 0., 0., 0., 1., 0., 0.],\n",
       "       [0., 0., 0., 0., 0., 1., 0.],\n",
       "       [0., 0., 0., 0., 0., 0., 1.]])"
      ]
     },
     "execution_count": 293,
     "metadata": {},
     "output_type": "execute_result"
    }
   ],
   "source": [
    "YY"
   ]
  },
  {
   "cell_type": "code",
   "execution_count": null,
   "metadata": {},
   "outputs": [],
   "source": []
  }
 ],
 "metadata": {
  "kernelspec": {
   "display_name": "Python 3",
   "language": "python",
   "name": "python3"
  },
  "language_info": {
   "codemirror_mode": {
    "name": "ipython",
    "version": 3
   },
   "file_extension": ".py",
   "mimetype": "text/x-python",
   "name": "python",
   "nbconvert_exporter": "python",
   "pygments_lexer": "ipython3",
   "version": "3.7.3"
  }
 },
 "nbformat": 4,
 "nbformat_minor": 2
}
