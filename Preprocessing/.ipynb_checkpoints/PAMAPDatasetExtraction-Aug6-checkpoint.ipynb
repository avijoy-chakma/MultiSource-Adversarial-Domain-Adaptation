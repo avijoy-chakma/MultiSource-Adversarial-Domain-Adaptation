{
 "cells": [
  {
   "cell_type": "code",
   "execution_count": 1,
   "metadata": {},
   "outputs": [],
   "source": [
    "import matplotlib as plt\n",
    "import pandas as pd\n",
    "import os\n",
    "from tqdm import tqdm\n",
    "import numpy as np\n",
    "import math\n",
    "from sklearn import preprocessing\n",
    "import csv"
   ]
  },
  {
   "cell_type": "code",
   "execution_count": 2,
   "metadata": {},
   "outputs": [],
   "source": [
    "url = \"/home/avijoychakma/Downloads/PerCom 2020/Dataset/PAMAP2_Dataset/Protocol/\""
   ]
  },
  {
   "cell_type": "code",
   "execution_count": 3,
   "metadata": {},
   "outputs": [],
   "source": [
    "# url = \"/home/avijoy/Downloads/Dataset/PAMAP2_Dataset/Protocol/\""
   ]
  },
  {
   "cell_type": "markdown",
   "metadata": {},
   "source": [
    "# 1. Dataset Information\n",
    "- Missing data\n",
    "- File Format(Each row 54 column)\n",
    "        1 timestamp\n",
    "        2 Activity class\n",
    "        3 HR rate\n",
    "        4-20 IMU hand, 21-37 IMU chest, 38-54 IMU ankle \n",
    "           \n",
    "- 100 hz sampling freq\n",
    "- List of activityIDs and corresponding activities:\n",
    " 1 lying\n",
    "2 sitting\n",
    "3 standing\n",
    "4 walking\n",
    "5 running\n",
    "6 cycling\n",
    "7 Nordic walking\n",
    "9 watching TV\n",
    "10 computer work\n",
    "11 car driving\n",
    "12 ascending stairs\n",
    "13 descending stairs\n",
    "16 vacuum cleaning\n",
    "17 ironing\n",
    "18 folding laundry\n",
    "19 house cleaning\n",
    "20 playing soccer\n",
    "24 rope jumping\n",
    "0 other (transient activities)\n",
    "\n",
    "- Important activities: 1,2,3,4,5,12,13,6(For activity shifting)"
   ]
  },
  {
   "cell_type": "markdown",
   "metadata": {},
   "source": [
    "#### Extract only the IMU data for Chest, Hand, Ankle for User1\n",
    "    - For Each IMU data:    \n",
    "        - 1 temp, \n",
    "        - 2-4: 3D acceleration, [Recommended]\n",
    "        - 5-7: 3D acceleration, \n",
    "        - 8-10: 3D gyroscope, \n",
    "        - 11-13: 3D magnetometer, \n",
    "        - 14-17: orientation(invalid)"
   ]
  },
  {
   "cell_type": "markdown",
   "metadata": {},
   "source": [
    "#### Column 1 Represents the Activity Class\n",
    "    - Considered classes:Sitting, Standing, Lying, Walking, Running, Stair Up, Stair Down\n",
    "    - For any user, working_df contains all the activity data\n",
    "        - Indexing is important for temporal relation"
   ]
  },
  {
   "cell_type": "markdown",
   "metadata": {},
   "source": [
    "#### Body Position:\n",
    "    - 0: Torso\n",
    "    - 1: Dominant Arm\n",
    "    - 3: Dominant Leg"
   ]
  },
  {
   "cell_type": "code",
   "execution_count": 4,
   "metadata": {},
   "outputs": [],
   "source": [
    "hand = [1,4,5,6,10,11,12,13,14,15]\n",
    "chest = [1,21,22,23,27,28,29,30,31,32]\n",
    "ankle = [1,38,39,40,44,45,46,47,48,49]\n",
    "column_name = ['Activity','AccX', 'AccY','AccZ', 'GyrX', 'GyrY', 'GyrZ', 'MagX', 'MagY','MagZ', 'Person', 'Body_Position']\n",
    "rearranged_column_name = ['AccX', 'AccY','AccZ', 'GyrX', 'GyrY', 'GyrZ', 'MagX', 'MagY','MagZ', 'Person', 'Body_Position', 'Activity']\n",
    "activity = [1,2,3,4,5,12,13]"
   ]
  },
  {
   "cell_type": "code",
   "execution_count": 5,
   "metadata": {},
   "outputs": [],
   "source": [
    "user = {}"
   ]
  },
  {
   "cell_type": "markdown",
   "metadata": {},
   "source": [
    "###### Each user data for three different position is stored as such that \n",
    "    - User1 data at index 10,11,12\n",
    "    - User2 data at index 20,21,22\n",
    "    - User8 data at index 80,81,82"
   ]
  },
  {
   "cell_type": "code",
   "execution_count": 6,
   "metadata": {},
   "outputs": [],
   "source": [
    "for person_index in range(1,9):\n",
    "\n",
    "    df = pd.read_csv(url+\"subject10\"+str(person_index)+\".dat\",sep=\"\\s+\", header=None)\n",
    "    \n",
    "    # Consider only the relevant activities. Column 1 indicates the activity\n",
    "    working_df = df[(df[1] == 1) | (df[1] == 2) | (df[1] == 3) | (df[1] == 4) | (df[1] == 5) | (df[1] == 12) | (df[1] == 13)]\n",
    "    \n",
    "    # Initialization\n",
    "    idx = 0\n",
    "    \n",
    "    # For three positions\n",
    "    for index in range(1,4):\n",
    "        if index == 1:\n",
    "            \n",
    "            # Calculate index\n",
    "            idx = person_index*10\n",
    "            user[idx] = working_df[hand].copy()\n",
    "            user[idx].loc[:, 'Person'] = person_index\n",
    "            user[idx].loc[:, 'Body_Position'] = \"Dominant_Arm\"\n",
    "            \n",
    "        elif index == 2:\n",
    "            idx = person_index*10 + 1\n",
    "            user[idx] = working_df[chest].copy()\n",
    "            user[idx].loc[:, 'Person'] = person_index\n",
    "            user[idx].loc[:, 'Body_Position'] = \"Torso\"\n",
    "            \n",
    "        elif index == 3:\n",
    "            idx = person_index*10 + 2\n",
    "            user[idx] = working_df[ankle].copy()\n",
    "            user[idx].loc[:, 'Person'] = person_index\n",
    "            user[idx].loc[:, 'Body_Position'] = \"Dominant_Leg\"\n",
    "\n",
    "        # Assigning the column name\n",
    "        user[idx].columns = column_name\n",
    "\n",
    "        # Rearranging the column to place the ground truth activity column at the end\n",
    "        user[idx] = user[idx].reindex(rearranged_column_name, axis=1)\n",
    "\n",
    "        user[idx].reset_index(drop=True, inplace=True)\n",
    "        # Remove the NaN entries\n",
    "        user[idx].dropna(inplace = True)"
   ]
  },
  {
   "cell_type": "code",
   "execution_count": 7,
   "metadata": {},
   "outputs": [
    {
     "data": {
      "text/html": [
       "<div>\n",
       "<style scoped>\n",
       "    .dataframe tbody tr th:only-of-type {\n",
       "        vertical-align: middle;\n",
       "    }\n",
       "\n",
       "    .dataframe tbody tr th {\n",
       "        vertical-align: top;\n",
       "    }\n",
       "\n",
       "    .dataframe thead th {\n",
       "        text-align: right;\n",
       "    }\n",
       "</style>\n",
       "<table border=\"1\" class=\"dataframe\">\n",
       "  <thead>\n",
       "    <tr style=\"text-align: right;\">\n",
       "      <th></th>\n",
       "      <th>AccX</th>\n",
       "      <th>AccY</th>\n",
       "      <th>AccZ</th>\n",
       "      <th>GyrX</th>\n",
       "      <th>GyrY</th>\n",
       "      <th>GyrZ</th>\n",
       "      <th>MagX</th>\n",
       "      <th>MagY</th>\n",
       "      <th>MagZ</th>\n",
       "      <th>Person</th>\n",
       "      <th>Body_Position</th>\n",
       "      <th>Activity</th>\n",
       "    </tr>\n",
       "  </thead>\n",
       "  <tbody>\n",
       "    <tr>\n",
       "      <th>0</th>\n",
       "      <td>2.21530</td>\n",
       "      <td>8.27915</td>\n",
       "      <td>5.58753</td>\n",
       "      <td>-0.004750</td>\n",
       "      <td>0.037579</td>\n",
       "      <td>-0.011145</td>\n",
       "      <td>8.93200</td>\n",
       "      <td>-67.9326</td>\n",
       "      <td>-19.9755</td>\n",
       "      <td>1</td>\n",
       "      <td>Dominant_Arm</td>\n",
       "      <td>1</td>\n",
       "    </tr>\n",
       "    <tr>\n",
       "      <th>1</th>\n",
       "      <td>2.29196</td>\n",
       "      <td>7.67288</td>\n",
       "      <td>5.74467</td>\n",
       "      <td>-0.171710</td>\n",
       "      <td>0.025479</td>\n",
       "      <td>-0.009538</td>\n",
       "      <td>9.58300</td>\n",
       "      <td>-67.9584</td>\n",
       "      <td>-20.9091</td>\n",
       "      <td>1</td>\n",
       "      <td>Dominant_Arm</td>\n",
       "      <td>1</td>\n",
       "    </tr>\n",
       "    <tr>\n",
       "      <th>2</th>\n",
       "      <td>2.29090</td>\n",
       "      <td>7.14240</td>\n",
       "      <td>5.82342</td>\n",
       "      <td>-0.238241</td>\n",
       "      <td>0.011214</td>\n",
       "      <td>0.000831</td>\n",
       "      <td>9.05516</td>\n",
       "      <td>-67.4017</td>\n",
       "      <td>-19.5083</td>\n",
       "      <td>1</td>\n",
       "      <td>Dominant_Arm</td>\n",
       "      <td>1</td>\n",
       "    </tr>\n",
       "    <tr>\n",
       "      <th>3</th>\n",
       "      <td>2.21800</td>\n",
       "      <td>7.14365</td>\n",
       "      <td>5.89930</td>\n",
       "      <td>-0.192912</td>\n",
       "      <td>0.019053</td>\n",
       "      <td>0.013374</td>\n",
       "      <td>9.92698</td>\n",
       "      <td>-67.4387</td>\n",
       "      <td>-20.5602</td>\n",
       "      <td>1</td>\n",
       "      <td>Dominant_Arm</td>\n",
       "      <td>1</td>\n",
       "    </tr>\n",
       "    <tr>\n",
       "      <th>4</th>\n",
       "      <td>2.30106</td>\n",
       "      <td>7.25857</td>\n",
       "      <td>6.09259</td>\n",
       "      <td>-0.069961</td>\n",
       "      <td>-0.018328</td>\n",
       "      <td>0.004582</td>\n",
       "      <td>9.15626</td>\n",
       "      <td>-67.1825</td>\n",
       "      <td>-20.0857</td>\n",
       "      <td>1</td>\n",
       "      <td>Dominant_Arm</td>\n",
       "      <td>1</td>\n",
       "    </tr>\n",
       "  </tbody>\n",
       "</table>\n",
       "</div>"
      ],
      "text/plain": [
       "      AccX     AccY     AccZ      GyrX      GyrY      GyrZ     MagX     MagY  \\\n",
       "0  2.21530  8.27915  5.58753 -0.004750  0.037579 -0.011145  8.93200 -67.9326   \n",
       "1  2.29196  7.67288  5.74467 -0.171710  0.025479 -0.009538  9.58300 -67.9584   \n",
       "2  2.29090  7.14240  5.82342 -0.238241  0.011214  0.000831  9.05516 -67.4017   \n",
       "3  2.21800  7.14365  5.89930 -0.192912  0.019053  0.013374  9.92698 -67.4387   \n",
       "4  2.30106  7.25857  6.09259 -0.069961 -0.018328  0.004582  9.15626 -67.1825   \n",
       "\n",
       "      MagZ  Person Body_Position  Activity  \n",
       "0 -19.9755       1  Dominant_Arm         1  \n",
       "1 -20.9091       1  Dominant_Arm         1  \n",
       "2 -19.5083       1  Dominant_Arm         1  \n",
       "3 -20.5602       1  Dominant_Arm         1  \n",
       "4 -20.0857       1  Dominant_Arm         1  "
      ]
     },
     "execution_count": 7,
     "metadata": {},
     "output_type": "execute_result"
    }
   ],
   "source": [
    "user[10].head()"
   ]
  },
  {
   "cell_type": "markdown",
   "metadata": {},
   "source": [
    "#### User 9 activities - Computer work, folding laundry, houe cleaning, playing soccer, rope jumping"
   ]
  },
  {
   "cell_type": "code",
   "execution_count": 8,
   "metadata": {},
   "outputs": [],
   "source": [
    "# df = pd.read_csv(url+\"subject109.dat\",sep=\"\\s+\", header=None)\n",
    "# working_df = df[(df[1] == 1) | (df[1] == 2) | (df[1] == 3) | (df[1] == 4) | (df[1] == 5) | (df[1] == 12) | (df[1] == 13)]\n",
    "# working_df.head()"
   ]
  },
  {
   "cell_type": "markdown",
   "metadata": {},
   "source": [
    "#### \"user\" collection contains 24 dataframes. Each dataframes contains a position specific data of 6 different activities.\n",
    "    - Calculate magnitude\n",
    "    - Decision: Direct windowing/split each dataframe in different activity dataframe then apply windowing"
   ]
  },
  {
   "cell_type": "code",
   "execution_count": 9,
   "metadata": {},
   "outputs": [],
   "source": [
    "# user[10].head()"
   ]
  },
  {
   "cell_type": "markdown",
   "metadata": {},
   "source": [
    "# 2. Function Magnitude"
   ]
  },
  {
   "cell_type": "code",
   "execution_count": 10,
   "metadata": {},
   "outputs": [],
   "source": [
    "def magnitude(df):\n",
    "    ax2 = df['AccX']**2\n",
    "    ay2 = df['AccY']**2\n",
    "    az2 = df['AccZ']**2\n",
    "    am2 = ax2 + ay2 + az2\n",
    "    \n",
    "    gx2 = df['GyrX']**2\n",
    "    gy2 = df['GyrY']**2\n",
    "    gz2 = df['GyrZ']**2\n",
    "    gm2 = gx2 + gy2 + gz2\n",
    "    \n",
    "    mx2 = df['MagX']**2\n",
    "    my2 = df['MagY']**2\n",
    "    mz2 = df['MagZ']**2\n",
    "    mm2 = mx2 + my2 + mz2\n",
    "    \n",
    "    df['Am']=am2.apply(lambda x: math.sqrt(x))\n",
    "    df['Gm']=gm2.apply(lambda x: math.sqrt(x))\n",
    "    df['Mm']=mm2.apply(lambda x: math.sqrt(x))"
   ]
  },
  {
   "cell_type": "markdown",
   "metadata": {},
   "source": [
    "#### Calculate Magnitude"
   ]
  },
  {
   "cell_type": "code",
   "execution_count": 11,
   "metadata": {},
   "outputs": [],
   "source": [
    "# for person_index in range(1,9):\n",
    "#     idx = 0\n",
    "#     for index in range(1,4):\n",
    "#         if index == 1:\n",
    "#             idx = person_index*10\n",
    "#         elif index == 2:\n",
    "#             idx = person_index*10 + 1\n",
    "#         elif index == 3:\n",
    "#             idx = person_index*10 + 2\n",
    "\n",
    "#         # Calculate magnitude\n",
    "#         magnitude(user[idx])"
   ]
  },
  {
   "cell_type": "markdown",
   "metadata": {},
   "source": [
    "# 3. Combine Files for Normalization and Standardization"
   ]
  },
  {
   "cell_type": "code",
   "execution_count": 12,
   "metadata": {},
   "outputs": [
    {
     "data": {
      "text/html": [
       "<div>\n",
       "<style scoped>\n",
       "    .dataframe tbody tr th:only-of-type {\n",
       "        vertical-align: middle;\n",
       "    }\n",
       "\n",
       "    .dataframe tbody tr th {\n",
       "        vertical-align: top;\n",
       "    }\n",
       "\n",
       "    .dataframe thead th {\n",
       "        text-align: right;\n",
       "    }\n",
       "</style>\n",
       "<table border=\"1\" class=\"dataframe\">\n",
       "  <thead>\n",
       "    <tr style=\"text-align: right;\">\n",
       "      <th></th>\n",
       "      <th>AccX</th>\n",
       "      <th>AccY</th>\n",
       "      <th>AccZ</th>\n",
       "      <th>GyrX</th>\n",
       "      <th>GyrY</th>\n",
       "      <th>GyrZ</th>\n",
       "      <th>MagX</th>\n",
       "      <th>MagY</th>\n",
       "      <th>MagZ</th>\n",
       "      <th>Person</th>\n",
       "      <th>Body_Position</th>\n",
       "      <th>Activity</th>\n",
       "    </tr>\n",
       "  </thead>\n",
       "  <tbody>\n",
       "    <tr>\n",
       "      <th>0</th>\n",
       "      <td>2.21530</td>\n",
       "      <td>8.27915</td>\n",
       "      <td>5.58753</td>\n",
       "      <td>-0.004750</td>\n",
       "      <td>0.037579</td>\n",
       "      <td>-0.011145</td>\n",
       "      <td>8.93200</td>\n",
       "      <td>-67.9326</td>\n",
       "      <td>-19.9755</td>\n",
       "      <td>1</td>\n",
       "      <td>Dominant_Arm</td>\n",
       "      <td>1</td>\n",
       "    </tr>\n",
       "    <tr>\n",
       "      <th>1</th>\n",
       "      <td>2.29196</td>\n",
       "      <td>7.67288</td>\n",
       "      <td>5.74467</td>\n",
       "      <td>-0.171710</td>\n",
       "      <td>0.025479</td>\n",
       "      <td>-0.009538</td>\n",
       "      <td>9.58300</td>\n",
       "      <td>-67.9584</td>\n",
       "      <td>-20.9091</td>\n",
       "      <td>1</td>\n",
       "      <td>Dominant_Arm</td>\n",
       "      <td>1</td>\n",
       "    </tr>\n",
       "    <tr>\n",
       "      <th>2</th>\n",
       "      <td>2.29090</td>\n",
       "      <td>7.14240</td>\n",
       "      <td>5.82342</td>\n",
       "      <td>-0.238241</td>\n",
       "      <td>0.011214</td>\n",
       "      <td>0.000831</td>\n",
       "      <td>9.05516</td>\n",
       "      <td>-67.4017</td>\n",
       "      <td>-19.5083</td>\n",
       "      <td>1</td>\n",
       "      <td>Dominant_Arm</td>\n",
       "      <td>1</td>\n",
       "    </tr>\n",
       "    <tr>\n",
       "      <th>3</th>\n",
       "      <td>2.21800</td>\n",
       "      <td>7.14365</td>\n",
       "      <td>5.89930</td>\n",
       "      <td>-0.192912</td>\n",
       "      <td>0.019053</td>\n",
       "      <td>0.013374</td>\n",
       "      <td>9.92698</td>\n",
       "      <td>-67.4387</td>\n",
       "      <td>-20.5602</td>\n",
       "      <td>1</td>\n",
       "      <td>Dominant_Arm</td>\n",
       "      <td>1</td>\n",
       "    </tr>\n",
       "    <tr>\n",
       "      <th>4</th>\n",
       "      <td>2.30106</td>\n",
       "      <td>7.25857</td>\n",
       "      <td>6.09259</td>\n",
       "      <td>-0.069961</td>\n",
       "      <td>-0.018328</td>\n",
       "      <td>0.004582</td>\n",
       "      <td>9.15626</td>\n",
       "      <td>-67.1825</td>\n",
       "      <td>-20.0857</td>\n",
       "      <td>1</td>\n",
       "      <td>Dominant_Arm</td>\n",
       "      <td>1</td>\n",
       "    </tr>\n",
       "  </tbody>\n",
       "</table>\n",
       "</div>"
      ],
      "text/plain": [
       "      AccX     AccY     AccZ      GyrX      GyrY      GyrZ     MagX     MagY  \\\n",
       "0  2.21530  8.27915  5.58753 -0.004750  0.037579 -0.011145  8.93200 -67.9326   \n",
       "1  2.29196  7.67288  5.74467 -0.171710  0.025479 -0.009538  9.58300 -67.9584   \n",
       "2  2.29090  7.14240  5.82342 -0.238241  0.011214  0.000831  9.05516 -67.4017   \n",
       "3  2.21800  7.14365  5.89930 -0.192912  0.019053  0.013374  9.92698 -67.4387   \n",
       "4  2.30106  7.25857  6.09259 -0.069961 -0.018328  0.004582  9.15626 -67.1825   \n",
       "\n",
       "      MagZ  Person Body_Position  Activity  \n",
       "0 -19.9755       1  Dominant_Arm         1  \n",
       "1 -20.9091       1  Dominant_Arm         1  \n",
       "2 -19.5083       1  Dominant_Arm         1  \n",
       "3 -20.5602       1  Dominant_Arm         1  \n",
       "4 -20.0857       1  Dominant_Arm         1  "
      ]
     },
     "execution_count": 12,
     "metadata": {},
     "output_type": "execute_result"
    }
   ],
   "source": [
    "user[10].head()"
   ]
  },
  {
   "cell_type": "code",
   "execution_count": 13,
   "metadata": {},
   "outputs": [
    {
     "data": {
      "text/html": [
       "<div>\n",
       "<style scoped>\n",
       "    .dataframe tbody tr th:only-of-type {\n",
       "        vertical-align: middle;\n",
       "    }\n",
       "\n",
       "    .dataframe tbody tr th {\n",
       "        vertical-align: top;\n",
       "    }\n",
       "\n",
       "    .dataframe thead th {\n",
       "        text-align: right;\n",
       "    }\n",
       "</style>\n",
       "<table border=\"1\" class=\"dataframe\">\n",
       "  <thead>\n",
       "    <tr style=\"text-align: right;\">\n",
       "      <th></th>\n",
       "      <th>AccX</th>\n",
       "      <th>AccY</th>\n",
       "      <th>AccZ</th>\n",
       "      <th>GyrX</th>\n",
       "      <th>GyrY</th>\n",
       "      <th>GyrZ</th>\n",
       "      <th>MagX</th>\n",
       "      <th>MagY</th>\n",
       "      <th>MagZ</th>\n",
       "      <th>Person</th>\n",
       "      <th>Body_Position</th>\n",
       "      <th>Activity</th>\n",
       "    </tr>\n",
       "  </thead>\n",
       "  <tbody>\n",
       "    <tr>\n",
       "      <th>146686</th>\n",
       "      <td>1.69696</td>\n",
       "      <td>7.71783</td>\n",
       "      <td>6.00502</td>\n",
       "      <td>0.412546</td>\n",
       "      <td>-0.031720</td>\n",
       "      <td>-0.001247</td>\n",
       "      <td>-8.25936</td>\n",
       "      <td>-53.5808</td>\n",
       "      <td>-34.5529</td>\n",
       "      <td>1</td>\n",
       "      <td>Dominant_Arm</td>\n",
       "      <td>5</td>\n",
       "    </tr>\n",
       "    <tr>\n",
       "      <th>146687</th>\n",
       "      <td>1.96733</td>\n",
       "      <td>9.49726</td>\n",
       "      <td>5.81063</td>\n",
       "      <td>0.882112</td>\n",
       "      <td>-0.051755</td>\n",
       "      <td>0.092812</td>\n",
       "      <td>-8.59271</td>\n",
       "      <td>-53.7807</td>\n",
       "      <td>-34.4355</td>\n",
       "      <td>1</td>\n",
       "      <td>Dominant_Arm</td>\n",
       "      <td>5</td>\n",
       "    </tr>\n",
       "    <tr>\n",
       "      <th>146688</th>\n",
       "      <td>2.36427</td>\n",
       "      <td>10.62550</td>\n",
       "      <td>5.04302</td>\n",
       "      <td>1.011040</td>\n",
       "      <td>-0.077139</td>\n",
       "      <td>0.180579</td>\n",
       "      <td>-8.80487</td>\n",
       "      <td>-53.8846</td>\n",
       "      <td>-33.8556</td>\n",
       "      <td>1</td>\n",
       "      <td>Dominant_Arm</td>\n",
       "      <td>5</td>\n",
       "    </tr>\n",
       "    <tr>\n",
       "      <th>146689</th>\n",
       "      <td>2.62452</td>\n",
       "      <td>10.58450</td>\n",
       "      <td>4.93160</td>\n",
       "      <td>0.641135</td>\n",
       "      <td>-0.064907</td>\n",
       "      <td>0.133527</td>\n",
       "      <td>-8.69430</td>\n",
       "      <td>-54.1086</td>\n",
       "      <td>-33.8593</td>\n",
       "      <td>1</td>\n",
       "      <td>Dominant_Arm</td>\n",
       "      <td>5</td>\n",
       "    </tr>\n",
       "    <tr>\n",
       "      <th>146690</th>\n",
       "      <td>2.80333</td>\n",
       "      <td>9.52010</td>\n",
       "      <td>4.86089</td>\n",
       "      <td>-0.077421</td>\n",
       "      <td>-0.117665</td>\n",
       "      <td>0.105727</td>\n",
       "      <td>-9.46798</td>\n",
       "      <td>-54.5050</td>\n",
       "      <td>-33.3918</td>\n",
       "      <td>1</td>\n",
       "      <td>Dominant_Arm</td>\n",
       "      <td>5</td>\n",
       "    </tr>\n",
       "  </tbody>\n",
       "</table>\n",
       "</div>"
      ],
      "text/plain": [
       "           AccX      AccY     AccZ      GyrX      GyrY      GyrZ     MagX  \\\n",
       "146686  1.69696   7.71783  6.00502  0.412546 -0.031720 -0.001247 -8.25936   \n",
       "146687  1.96733   9.49726  5.81063  0.882112 -0.051755  0.092812 -8.59271   \n",
       "146688  2.36427  10.62550  5.04302  1.011040 -0.077139  0.180579 -8.80487   \n",
       "146689  2.62452  10.58450  4.93160  0.641135 -0.064907  0.133527 -8.69430   \n",
       "146690  2.80333   9.52010  4.86089 -0.077421 -0.117665  0.105727 -9.46798   \n",
       "\n",
       "           MagY     MagZ  Person Body_Position  Activity  \n",
       "146686 -53.5808 -34.5529       1  Dominant_Arm         5  \n",
       "146687 -53.7807 -34.4355       1  Dominant_Arm         5  \n",
       "146688 -53.8846 -33.8556       1  Dominant_Arm         5  \n",
       "146689 -54.1086 -33.8593       1  Dominant_Arm         5  \n",
       "146690 -54.5050 -33.3918       1  Dominant_Arm         5  "
      ]
     },
     "execution_count": 13,
     "metadata": {},
     "output_type": "execute_result"
    }
   ],
   "source": [
    "user[10].tail()"
   ]
  },
  {
   "cell_type": "code",
   "execution_count": 14,
   "metadata": {},
   "outputs": [
    {
     "data": {
      "text/plain": [
       "array([ 1,  2,  3, 12, 13,  4,  5])"
      ]
     },
     "execution_count": 14,
     "metadata": {},
     "output_type": "execute_result"
    }
   ],
   "source": [
    "user[10]['Activity'].unique()"
   ]
  },
  {
   "cell_type": "code",
   "execution_count": 15,
   "metadata": {},
   "outputs": [],
   "source": [
    "total_frame = pd.concat([user[10],user[11],user[12],user[20],user[21],user[22],user[30],user[31],user[32],user[40],user[41],user[42],user[50],user[51],user[52],user[60],user[61],user[62],user[70],user[71],user[72],user[80],user[81],user[82]], ignore_index=True)"
   ]
  },
  {
   "cell_type": "code",
   "execution_count": 16,
   "metadata": {},
   "outputs": [
    {
     "data": {
      "text/plain": [
       "(3366362, 12)"
      ]
     },
     "execution_count": 16,
     "metadata": {},
     "output_type": "execute_result"
    }
   ],
   "source": [
    "total_frame.shape"
   ]
  },
  {
   "cell_type": "code",
   "execution_count": 17,
   "metadata": {},
   "outputs": [
    {
     "data": {
      "text/html": [
       "<div>\n",
       "<style scoped>\n",
       "    .dataframe tbody tr th:only-of-type {\n",
       "        vertical-align: middle;\n",
       "    }\n",
       "\n",
       "    .dataframe tbody tr th {\n",
       "        vertical-align: top;\n",
       "    }\n",
       "\n",
       "    .dataframe thead th {\n",
       "        text-align: right;\n",
       "    }\n",
       "</style>\n",
       "<table border=\"1\" class=\"dataframe\">\n",
       "  <thead>\n",
       "    <tr style=\"text-align: right;\">\n",
       "      <th></th>\n",
       "      <th>AccX</th>\n",
       "      <th>AccY</th>\n",
       "      <th>AccZ</th>\n",
       "      <th>GyrX</th>\n",
       "      <th>GyrY</th>\n",
       "      <th>GyrZ</th>\n",
       "      <th>MagX</th>\n",
       "      <th>MagY</th>\n",
       "      <th>MagZ</th>\n",
       "      <th>Person</th>\n",
       "      <th>Body_Position</th>\n",
       "      <th>Activity</th>\n",
       "    </tr>\n",
       "  </thead>\n",
       "  <tbody>\n",
       "    <tr>\n",
       "      <th>0</th>\n",
       "      <td>2.21530</td>\n",
       "      <td>8.27915</td>\n",
       "      <td>5.58753</td>\n",
       "      <td>-0.004750</td>\n",
       "      <td>0.037579</td>\n",
       "      <td>-0.011145</td>\n",
       "      <td>8.93200</td>\n",
       "      <td>-67.9326</td>\n",
       "      <td>-19.9755</td>\n",
       "      <td>1</td>\n",
       "      <td>Dominant_Arm</td>\n",
       "      <td>1</td>\n",
       "    </tr>\n",
       "    <tr>\n",
       "      <th>1</th>\n",
       "      <td>2.29196</td>\n",
       "      <td>7.67288</td>\n",
       "      <td>5.74467</td>\n",
       "      <td>-0.171710</td>\n",
       "      <td>0.025479</td>\n",
       "      <td>-0.009538</td>\n",
       "      <td>9.58300</td>\n",
       "      <td>-67.9584</td>\n",
       "      <td>-20.9091</td>\n",
       "      <td>1</td>\n",
       "      <td>Dominant_Arm</td>\n",
       "      <td>1</td>\n",
       "    </tr>\n",
       "    <tr>\n",
       "      <th>2</th>\n",
       "      <td>2.29090</td>\n",
       "      <td>7.14240</td>\n",
       "      <td>5.82342</td>\n",
       "      <td>-0.238241</td>\n",
       "      <td>0.011214</td>\n",
       "      <td>0.000831</td>\n",
       "      <td>9.05516</td>\n",
       "      <td>-67.4017</td>\n",
       "      <td>-19.5083</td>\n",
       "      <td>1</td>\n",
       "      <td>Dominant_Arm</td>\n",
       "      <td>1</td>\n",
       "    </tr>\n",
       "    <tr>\n",
       "      <th>3</th>\n",
       "      <td>2.21800</td>\n",
       "      <td>7.14365</td>\n",
       "      <td>5.89930</td>\n",
       "      <td>-0.192912</td>\n",
       "      <td>0.019053</td>\n",
       "      <td>0.013374</td>\n",
       "      <td>9.92698</td>\n",
       "      <td>-67.4387</td>\n",
       "      <td>-20.5602</td>\n",
       "      <td>1</td>\n",
       "      <td>Dominant_Arm</td>\n",
       "      <td>1</td>\n",
       "    </tr>\n",
       "    <tr>\n",
       "      <th>4</th>\n",
       "      <td>2.30106</td>\n",
       "      <td>7.25857</td>\n",
       "      <td>6.09259</td>\n",
       "      <td>-0.069961</td>\n",
       "      <td>-0.018328</td>\n",
       "      <td>0.004582</td>\n",
       "      <td>9.15626</td>\n",
       "      <td>-67.1825</td>\n",
       "      <td>-20.0857</td>\n",
       "      <td>1</td>\n",
       "      <td>Dominant_Arm</td>\n",
       "      <td>1</td>\n",
       "    </tr>\n",
       "  </tbody>\n",
       "</table>\n",
       "</div>"
      ],
      "text/plain": [
       "      AccX     AccY     AccZ      GyrX      GyrY      GyrZ     MagX     MagY  \\\n",
       "0  2.21530  8.27915  5.58753 -0.004750  0.037579 -0.011145  8.93200 -67.9326   \n",
       "1  2.29196  7.67288  5.74467 -0.171710  0.025479 -0.009538  9.58300 -67.9584   \n",
       "2  2.29090  7.14240  5.82342 -0.238241  0.011214  0.000831  9.05516 -67.4017   \n",
       "3  2.21800  7.14365  5.89930 -0.192912  0.019053  0.013374  9.92698 -67.4387   \n",
       "4  2.30106  7.25857  6.09259 -0.069961 -0.018328  0.004582  9.15626 -67.1825   \n",
       "\n",
       "      MagZ  Person Body_Position  Activity  \n",
       "0 -19.9755       1  Dominant_Arm         1  \n",
       "1 -20.9091       1  Dominant_Arm         1  \n",
       "2 -19.5083       1  Dominant_Arm         1  \n",
       "3 -20.5602       1  Dominant_Arm         1  \n",
       "4 -20.0857       1  Dominant_Arm         1  "
      ]
     },
     "execution_count": 17,
     "metadata": {},
     "output_type": "execute_result"
    }
   ],
   "source": [
    "total_frame.head()"
   ]
  },
  {
   "cell_type": "markdown",
   "metadata": {},
   "source": [
    "#### Save GT"
   ]
  },
  {
   "cell_type": "code",
   "execution_count": 18,
   "metadata": {},
   "outputs": [],
   "source": [
    "person_gt = np.array(total_frame['Person'])\n",
    "activity_gt = np.array(total_frame['Activity'])\n",
    "position_gt = np.array(total_frame['Body_Position'])"
   ]
  },
  {
   "cell_type": "code",
   "execution_count": 19,
   "metadata": {},
   "outputs": [],
   "source": [
    "total_frame.drop(['Person','Activity','Body_Position'], axis=1, inplace=True)\n",
    "column_name = total_frame.columns"
   ]
  },
  {
   "cell_type": "code",
   "execution_count": 20,
   "metadata": {},
   "outputs": [],
   "source": [
    "min_max_scaler = preprocessing.MinMaxScaler()\n",
    "np_scaled = min_max_scaler.fit_transform(total_frame)\n",
    "refined_frame_normalized = pd.DataFrame(np_scaled)"
   ]
  },
  {
   "cell_type": "code",
   "execution_count": 21,
   "metadata": {},
   "outputs": [],
   "source": [
    "scaler = preprocessing.StandardScaler()\n",
    "df_standardized = scaler.fit_transform(refined_frame_normalized)\n",
    "refined_frame_standardized = pd.DataFrame(df_standardized, columns=column_name)"
   ]
  },
  {
   "cell_type": "code",
   "execution_count": 22,
   "metadata": {},
   "outputs": [],
   "source": [
    "refined_frame_standardized[\"Person\"] = person_gt\n",
    "refined_frame_standardized[\"Activity\"] = activity_gt\n",
    "refined_frame_standardized[\"Body_Position\"] = position_gt"
   ]
  },
  {
   "cell_type": "code",
   "execution_count": 23,
   "metadata": {},
   "outputs": [
    {
     "data": {
      "text/html": [
       "<div>\n",
       "<style scoped>\n",
       "    .dataframe tbody tr th:only-of-type {\n",
       "        vertical-align: middle;\n",
       "    }\n",
       "\n",
       "    .dataframe tbody tr th {\n",
       "        vertical-align: top;\n",
       "    }\n",
       "\n",
       "    .dataframe thead th {\n",
       "        text-align: right;\n",
       "    }\n",
       "</style>\n",
       "<table border=\"1\" class=\"dataframe\">\n",
       "  <thead>\n",
       "    <tr style=\"text-align: right;\">\n",
       "      <th></th>\n",
       "      <th>AccX</th>\n",
       "      <th>AccY</th>\n",
       "      <th>AccZ</th>\n",
       "      <th>GyrX</th>\n",
       "      <th>GyrY</th>\n",
       "      <th>GyrZ</th>\n",
       "      <th>MagX</th>\n",
       "      <th>MagY</th>\n",
       "      <th>MagZ</th>\n",
       "      <th>Person</th>\n",
       "      <th>Activity</th>\n",
       "      <th>Body_Position</th>\n",
       "    </tr>\n",
       "  </thead>\n",
       "  <tbody>\n",
       "    <tr>\n",
       "      <th>0</th>\n",
       "      <td>0.087163</td>\n",
       "      <td>0.594070</td>\n",
       "      <td>1.075536</td>\n",
       "      <td>-0.006267</td>\n",
       "      <td>0.047094</td>\n",
       "      <td>-0.001270</td>\n",
       "      <td>0.304926</td>\n",
       "      <td>-2.219446</td>\n",
       "      <td>-0.693121</td>\n",
       "      <td>1</td>\n",
       "      <td>1</td>\n",
       "      <td>Dominant_Arm</td>\n",
       "    </tr>\n",
       "    <tr>\n",
       "      <th>1</th>\n",
       "      <td>0.096402</td>\n",
       "      <td>0.516580</td>\n",
       "      <td>1.107448</td>\n",
       "      <td>-0.165422</td>\n",
       "      <td>0.031717</td>\n",
       "      <td>-0.000267</td>\n",
       "      <td>0.326715</td>\n",
       "      <td>-2.220479</td>\n",
       "      <td>-0.730407</td>\n",
       "      <td>1</td>\n",
       "      <td>1</td>\n",
       "      <td>Dominant_Arm</td>\n",
       "    </tr>\n",
       "    <tr>\n",
       "      <th>2</th>\n",
       "      <td>0.096275</td>\n",
       "      <td>0.448777</td>\n",
       "      <td>1.123440</td>\n",
       "      <td>-0.228844</td>\n",
       "      <td>0.013589</td>\n",
       "      <td>0.006209</td>\n",
       "      <td>0.309048</td>\n",
       "      <td>-2.198191</td>\n",
       "      <td>-0.674462</td>\n",
       "      <td>1</td>\n",
       "      <td>1</td>\n",
       "      <td>Dominant_Arm</td>\n",
       "    </tr>\n",
       "    <tr>\n",
       "      <th>3</th>\n",
       "      <td>0.087489</td>\n",
       "      <td>0.448937</td>\n",
       "      <td>1.138849</td>\n",
       "      <td>-0.185633</td>\n",
       "      <td>0.023552</td>\n",
       "      <td>0.014042</td>\n",
       "      <td>0.338228</td>\n",
       "      <td>-2.199672</td>\n",
       "      <td>-0.716473</td>\n",
       "      <td>1</td>\n",
       "      <td>1</td>\n",
       "      <td>Dominant_Arm</td>\n",
       "    </tr>\n",
       "    <tr>\n",
       "      <th>4</th>\n",
       "      <td>0.097499</td>\n",
       "      <td>0.463626</td>\n",
       "      <td>1.178101</td>\n",
       "      <td>-0.068430</td>\n",
       "      <td>-0.023951</td>\n",
       "      <td>0.008551</td>\n",
       "      <td>0.312432</td>\n",
       "      <td>-2.189415</td>\n",
       "      <td>-0.697522</td>\n",
       "      <td>1</td>\n",
       "      <td>1</td>\n",
       "      <td>Dominant_Arm</td>\n",
       "    </tr>\n",
       "  </tbody>\n",
       "</table>\n",
       "</div>"
      ],
      "text/plain": [
       "       AccX      AccY      AccZ      GyrX      GyrY      GyrZ      MagX  \\\n",
       "0  0.087163  0.594070  1.075536 -0.006267  0.047094 -0.001270  0.304926   \n",
       "1  0.096402  0.516580  1.107448 -0.165422  0.031717 -0.000267  0.326715   \n",
       "2  0.096275  0.448777  1.123440 -0.228844  0.013589  0.006209  0.309048   \n",
       "3  0.087489  0.448937  1.138849 -0.185633  0.023552  0.014042  0.338228   \n",
       "4  0.097499  0.463626  1.178101 -0.068430 -0.023951  0.008551  0.312432   \n",
       "\n",
       "       MagY      MagZ  Person  Activity Body_Position  \n",
       "0 -2.219446 -0.693121       1         1  Dominant_Arm  \n",
       "1 -2.220479 -0.730407       1         1  Dominant_Arm  \n",
       "2 -2.198191 -0.674462       1         1  Dominant_Arm  \n",
       "3 -2.199672 -0.716473       1         1  Dominant_Arm  \n",
       "4 -2.189415 -0.697522       1         1  Dominant_Arm  "
      ]
     },
     "execution_count": 23,
     "metadata": {},
     "output_type": "execute_result"
    }
   ],
   "source": [
    "refined_frame_standardized.head()"
   ]
  },
  {
   "cell_type": "code",
   "execution_count": 24,
   "metadata": {},
   "outputs": [
    {
     "data": {
      "text/plain": [
       "array(['Dominant_Arm', 'Torso', 'Dominant_Leg'], dtype=object)"
      ]
     },
     "execution_count": 24,
     "metadata": {},
     "output_type": "execute_result"
    }
   ],
   "source": [
    "refined_frame_standardized[\"Body_Position\"].unique()"
   ]
  },
  {
   "cell_type": "code",
   "execution_count": 25,
   "metadata": {},
   "outputs": [],
   "source": [
    "# active_frame = refined_frame_standardized[refined_frame_standardized[\"Body_Position\"] = \"Dominant_Arm\"]"
   ]
  },
  {
   "cell_type": "markdown",
   "metadata": {},
   "source": [
    "#### Extract and Save Position-based each User data Files"
   ]
  },
  {
   "cell_type": "code",
   "execution_count": 26,
   "metadata": {},
   "outputs": [],
   "source": [
    "save_path = \"/home/avijoychakma/Downloads/PAMAP_Files/\""
   ]
  },
  {
   "cell_type": "markdown",
   "metadata": {},
   "source": [
    "##### User 1"
   ]
  },
  {
   "cell_type": "code",
   "execution_count": 27,
   "metadata": {},
   "outputs": [],
   "source": [
    "User1_Dominant_Arm = refined_frame_standardized[(refined_frame_standardized[\"Person\"] == 1) & (refined_frame_standardized[\"Body_Position\"] == \"Dominant_Arm\")]\n",
    "User1_Dominant_Arm.reset_index(drop=True, inplace=True)\n",
    "User1_Dominant_Arm.to_csv (save_path+'User1_Dominant_Arm.csv', index = None, header=True)\n",
    "\n",
    "User1_Torso = refined_frame_standardized[(refined_frame_standardized[\"Person\"] == 1) & (refined_frame_standardized[\"Body_Position\"] == \"Torso\")]\n",
    "User1_Torso.reset_index(drop=True, inplace=True)\n",
    "User1_Torso.to_csv (save_path+'User1_Torso.csv', index = None, header=True)\n",
    "\n",
    "User1_Dominant_Leg = refined_frame_standardized[(refined_frame_standardized[\"Person\"] == 1) & (refined_frame_standardized[\"Body_Position\"] == \"Dominant_Leg\")]\n",
    "User1_Dominant_Leg.reset_index(drop=True, inplace=True)\n",
    "User1_Dominant_Leg.to_csv (save_path+'User1_Dominant_Leg.csv', index = None, header=True)"
   ]
  },
  {
   "cell_type": "markdown",
   "metadata": {},
   "source": [
    "##### User 2"
   ]
  },
  {
   "cell_type": "code",
   "execution_count": 28,
   "metadata": {},
   "outputs": [],
   "source": [
    "User2_Dominant_Arm = refined_frame_standardized[(refined_frame_standardized[\"Person\"] == 2) & (refined_frame_standardized[\"Body_Position\"] == \"Dominant_Arm\")]\n",
    "User2_Dominant_Arm.reset_index(drop=True, inplace=True)\n",
    "User2_Dominant_Arm.to_csv (save_path+'User2_Dominant_Arm.csv', index = None, header=True)\n",
    "\n",
    "User2_Torso = refined_frame_standardized[(refined_frame_standardized[\"Person\"] == 2) & (refined_frame_standardized[\"Body_Position\"] == \"Torso\")]\n",
    "User2_Torso.reset_index(drop=True, inplace=True)\n",
    "User2_Torso.to_csv (save_path+'User2_Torso.csv', index = None, header=True)\n",
    "\n",
    "User2_Dominant_Leg = refined_frame_standardized[(refined_frame_standardized[\"Person\"] == 2) & (refined_frame_standardized[\"Body_Position\"] == \"Dominant_Leg\")]\n",
    "User2_Dominant_Leg.reset_index(drop=True, inplace=True)\n",
    "User2_Dominant_Leg.to_csv (save_path+'User2_Dominant_Leg.csv', index = None, header=True)"
   ]
  },
  {
   "cell_type": "markdown",
   "metadata": {},
   "source": [
    "##### User 3"
   ]
  },
  {
   "cell_type": "code",
   "execution_count": 29,
   "metadata": {},
   "outputs": [],
   "source": [
    "User3_Dominant_Arm = refined_frame_standardized[(refined_frame_standardized[\"Person\"] == 3) & (refined_frame_standardized[\"Body_Position\"] == \"Dominant_Arm\")]\n",
    "User3_Dominant_Arm.reset_index(drop=True, inplace=True)\n",
    "User3_Dominant_Arm.to_csv (save_path+'User3_Dominant_Arm.csv', index = None, header=True)\n",
    "\n",
    "User3_Torso = refined_frame_standardized[(refined_frame_standardized[\"Person\"] == 3) & (refined_frame_standardized[\"Body_Position\"] == \"Torso\")]\n",
    "User3_Torso.reset_index(drop=True, inplace=True)\n",
    "User3_Torso.to_csv (save_path+'User3_Torso.csv', index = None, header=True)\n",
    "\n",
    "User3_Dominant_Leg = refined_frame_standardized[(refined_frame_standardized[\"Person\"] == 3) & (refined_frame_standardized[\"Body_Position\"] == \"Dominant_Leg\")]\n",
    "User3_Dominant_Leg.reset_index(drop=True, inplace=True)\n",
    "User3_Dominant_Leg.to_csv (save_path+'User3_Dominant_Leg.csv', index = None, header=True)"
   ]
  },
  {
   "cell_type": "markdown",
   "metadata": {},
   "source": [
    "##### User 4"
   ]
  },
  {
   "cell_type": "code",
   "execution_count": 30,
   "metadata": {},
   "outputs": [],
   "source": [
    "User4_Dominant_Arm = refined_frame_standardized[(refined_frame_standardized[\"Person\"] == 4) & (refined_frame_standardized[\"Body_Position\"] == \"Dominant_Arm\")]\n",
    "User4_Dominant_Arm.reset_index(drop=True, inplace=True)\n",
    "User4_Dominant_Arm.to_csv (save_path+'User4_Dominant_Arm.csv', index = None, header=True)\n",
    "\n",
    "User4_Torso = refined_frame_standardized[(refined_frame_standardized[\"Person\"] == 4) & (refined_frame_standardized[\"Body_Position\"] == \"Torso\")]\n",
    "User4_Torso.reset_index(drop=True, inplace=True)\n",
    "User4_Torso.to_csv (save_path+'User4_Torso.csv', index = None, header=True)\n",
    "\n",
    "User4_Dominant_Leg = refined_frame_standardized[(refined_frame_standardized[\"Person\"] == 4) & (refined_frame_standardized[\"Body_Position\"] == \"Dominant_Leg\")]\n",
    "User4_Dominant_Leg.reset_index(drop=True, inplace=True)\n",
    "User4_Dominant_Leg.to_csv (save_path+'User4_Dominant_Leg.csv', index = None, header=True)"
   ]
  },
  {
   "cell_type": "markdown",
   "metadata": {},
   "source": [
    "##### User 5"
   ]
  },
  {
   "cell_type": "code",
   "execution_count": 31,
   "metadata": {},
   "outputs": [],
   "source": [
    "User5_Dominant_Arm = refined_frame_standardized[(refined_frame_standardized[\"Person\"] == 5) & (refined_frame_standardized[\"Body_Position\"] == \"Dominant_Arm\")]\n",
    "User5_Dominant_Arm.reset_index(drop=True, inplace=True)\n",
    "User5_Dominant_Arm.to_csv (save_path+'User5_Dominant_Arm.csv', index = None, header=True)\n",
    "\n",
    "User5_Torso = refined_frame_standardized[(refined_frame_standardized[\"Person\"] == 5) & (refined_frame_standardized[\"Body_Position\"] == \"Torso\")]\n",
    "User5_Torso.reset_index(drop=True, inplace=True)\n",
    "User5_Torso.to_csv (save_path+'User5_Torso.csv', index = None, header=True)\n",
    "\n",
    "User5_Dominant_Leg = refined_frame_standardized[(refined_frame_standardized[\"Person\"] == 5) & (refined_frame_standardized[\"Body_Position\"] == \"Dominant_Leg\")]\n",
    "User5_Dominant_Leg.reset_index(drop=True, inplace=True)\n",
    "User5_Dominant_Leg.to_csv (save_path+'User5_Dominant_Leg.csv', index = None, header=True)"
   ]
  },
  {
   "cell_type": "markdown",
   "metadata": {},
   "source": [
    "##### User 6"
   ]
  },
  {
   "cell_type": "code",
   "execution_count": 32,
   "metadata": {},
   "outputs": [],
   "source": [
    "User6_Dominant_Arm = refined_frame_standardized[(refined_frame_standardized[\"Person\"] == 6) & (refined_frame_standardized[\"Body_Position\"] == \"Dominant_Arm\")]\n",
    "User6_Dominant_Arm.reset_index(drop=True, inplace=True)\n",
    "User6_Dominant_Arm.to_csv (save_path+'User6_Dominant_Arm.csv', index = None, header=True)\n",
    "\n",
    "User6_Torso = refined_frame_standardized[(refined_frame_standardized[\"Person\"] == 6) & (refined_frame_standardized[\"Body_Position\"] == \"Torso\")]\n",
    "User6_Torso.reset_index(drop=True, inplace=True)\n",
    "User6_Torso.to_csv (save_path+'User6_Torso.csv', index = None, header=True)\n",
    "\n",
    "User6_Dominant_Leg = refined_frame_standardized[(refined_frame_standardized[\"Person\"] == 6) & (refined_frame_standardized[\"Body_Position\"] == \"Dominant_Leg\")]\n",
    "User6_Dominant_Leg.reset_index(drop=True, inplace=True)\n",
    "User6_Dominant_Leg.to_csv (save_path+'User6_Dominant_Leg.csv', index = None, header=True)"
   ]
  },
  {
   "cell_type": "markdown",
   "metadata": {},
   "source": [
    "##### User 7"
   ]
  },
  {
   "cell_type": "code",
   "execution_count": 33,
   "metadata": {},
   "outputs": [],
   "source": [
    "User7_Dominant_Arm = refined_frame_standardized[(refined_frame_standardized[\"Person\"] == 7) & (refined_frame_standardized[\"Body_Position\"] == \"Dominant_Arm\")]\n",
    "User7_Dominant_Arm.reset_index(drop=True, inplace=True)\n",
    "User7_Dominant_Arm.to_csv (save_path+'User7_Dominant_Arm.csv', index = None, header=True)\n",
    "\n",
    "User7_Torso = refined_frame_standardized[(refined_frame_standardized[\"Person\"] == 7) & (refined_frame_standardized[\"Body_Position\"] == \"Torso\")]\n",
    "User7_Torso.reset_index(drop=True, inplace=True)\n",
    "User7_Torso.to_csv (save_path+'User7_Torso.csv', index = None, header=True)\n",
    "\n",
    "User7_Dominant_Leg = refined_frame_standardized[(refined_frame_standardized[\"Person\"] == 7) & (refined_frame_standardized[\"Body_Position\"] == \"Dominant_Leg\")]\n",
    "User7_Dominant_Leg.reset_index(drop=True, inplace=True)\n",
    "User7_Dominant_Leg.to_csv (save_path+'User7_Dominant_Leg.csv', index = None, header=True)"
   ]
  },
  {
   "cell_type": "markdown",
   "metadata": {},
   "source": [
    "##### User 8"
   ]
  },
  {
   "cell_type": "code",
   "execution_count": 34,
   "metadata": {},
   "outputs": [],
   "source": [
    "User8_Dominant_Arm = refined_frame_standardized[(refined_frame_standardized[\"Person\"] == 8) & (refined_frame_standardized[\"Body_Position\"] == \"Dominant_Arm\")]\n",
    "User8_Dominant_Arm.reset_index(drop=True, inplace=True)\n",
    "User8_Dominant_Arm.to_csv (save_path+'User8_Dominant_Arm.csv', index = None, header=True)\n",
    "\n",
    "User8_Torso = refined_frame_standardized[(refined_frame_standardized[\"Person\"] == 8) & (refined_frame_standardized[\"Body_Position\"] == \"Torso\")]\n",
    "User8_Torso.reset_index(drop=True, inplace=True)\n",
    "User8_Torso.to_csv (save_path+'User8_Torso.csv', index = None, header=True)\n",
    "\n",
    "User8_Dominant_Leg = refined_frame_standardized[(refined_frame_standardized[\"Person\"] == 8) & (refined_frame_standardized[\"Body_Position\"] == \"Dominant_Leg\")]\n",
    "User8_Dominant_Leg.reset_index(drop=True, inplace=True)\n",
    "User8_Dominant_Leg.to_csv (save_path+'User8_Dominant_Leg.csv', index = None, header=True)"
   ]
  },
  {
   "cell_type": "markdown",
   "metadata": {},
   "source": [
    "# 4. Windowing"
   ]
  },
  {
   "cell_type": "code",
   "execution_count": 38,
   "metadata": {},
   "outputs": [
    {
     "data": {
      "text/html": [
       "<div>\n",
       "<style scoped>\n",
       "    .dataframe tbody tr th:only-of-type {\n",
       "        vertical-align: middle;\n",
       "    }\n",
       "\n",
       "    .dataframe tbody tr th {\n",
       "        vertical-align: top;\n",
       "    }\n",
       "\n",
       "    .dataframe thead th {\n",
       "        text-align: right;\n",
       "    }\n",
       "</style>\n",
       "<table border=\"1\" class=\"dataframe\">\n",
       "  <thead>\n",
       "    <tr style=\"text-align: right;\">\n",
       "      <th></th>\n",
       "      <th>AccX</th>\n",
       "      <th>AccY</th>\n",
       "      <th>AccZ</th>\n",
       "      <th>GyrX</th>\n",
       "      <th>GyrY</th>\n",
       "      <th>GyrZ</th>\n",
       "      <th>MagX</th>\n",
       "      <th>MagY</th>\n",
       "      <th>MagZ</th>\n",
       "      <th>Person</th>\n",
       "      <th>Activity</th>\n",
       "      <th>Body_Position</th>\n",
       "    </tr>\n",
       "  </thead>\n",
       "  <tbody>\n",
       "    <tr>\n",
       "      <th>0</th>\n",
       "      <td>0.972421</td>\n",
       "      <td>-0.498460</td>\n",
       "      <td>-0.567233</td>\n",
       "      <td>-0.010484</td>\n",
       "      <td>-0.075606</td>\n",
       "      <td>0.006581</td>\n",
       "      <td>-1.163107</td>\n",
       "      <td>2.015507</td>\n",
       "      <td>-0.593469</td>\n",
       "      <td>8</td>\n",
       "      <td>1</td>\n",
       "      <td>Dominant_Leg</td>\n",
       "    </tr>\n",
       "    <tr>\n",
       "      <th>1</th>\n",
       "      <td>0.971697</td>\n",
       "      <td>-0.483655</td>\n",
       "      <td>-0.614411</td>\n",
       "      <td>-0.019458</td>\n",
       "      <td>0.024836</td>\n",
       "      <td>0.000141</td>\n",
       "      <td>-1.163813</td>\n",
       "      <td>2.046428</td>\n",
       "      <td>-0.610502</td>\n",
       "      <td>8</td>\n",
       "      <td>1</td>\n",
       "      <td>Dominant_Leg</td>\n",
       "    </tr>\n",
       "    <tr>\n",
       "      <th>2</th>\n",
       "      <td>0.980960</td>\n",
       "      <td>-0.488651</td>\n",
       "      <td>-0.598529</td>\n",
       "      <td>0.020330</td>\n",
       "      <td>0.025876</td>\n",
       "      <td>-0.006672</td>\n",
       "      <td>-1.184575</td>\n",
       "      <td>2.001206</td>\n",
       "      <td>-0.633195</td>\n",
       "      <td>8</td>\n",
       "      <td>1</td>\n",
       "      <td>Dominant_Leg</td>\n",
       "    </tr>\n",
       "    <tr>\n",
       "      <th>3</th>\n",
       "      <td>0.972180</td>\n",
       "      <td>-0.493525</td>\n",
       "      <td>-0.582959</td>\n",
       "      <td>-0.010434</td>\n",
       "      <td>-0.004568</td>\n",
       "      <td>-0.002438</td>\n",
       "      <td>-1.181161</td>\n",
       "      <td>2.052565</td>\n",
       "      <td>-0.627576</td>\n",
       "      <td>8</td>\n",
       "      <td>1</td>\n",
       "      <td>Dominant_Leg</td>\n",
       "    </tr>\n",
       "    <tr>\n",
       "      <th>4</th>\n",
       "      <td>0.972156</td>\n",
       "      <td>-0.498378</td>\n",
       "      <td>-0.582910</td>\n",
       "      <td>0.011414</td>\n",
       "      <td>-0.013206</td>\n",
       "      <td>0.026092</td>\n",
       "      <td>-1.180980</td>\n",
       "      <td>2.042244</td>\n",
       "      <td>-0.627564</td>\n",
       "      <td>8</td>\n",
       "      <td>1</td>\n",
       "      <td>Dominant_Leg</td>\n",
       "    </tr>\n",
       "  </tbody>\n",
       "</table>\n",
       "</div>"
      ],
      "text/plain": [
       "       AccX      AccY      AccZ      GyrX      GyrY      GyrZ      MagX  \\\n",
       "0  0.972421 -0.498460 -0.567233 -0.010484 -0.075606  0.006581 -1.163107   \n",
       "1  0.971697 -0.483655 -0.614411 -0.019458  0.024836  0.000141 -1.163813   \n",
       "2  0.980960 -0.488651 -0.598529  0.020330  0.025876 -0.006672 -1.184575   \n",
       "3  0.972180 -0.493525 -0.582959 -0.010434 -0.004568 -0.002438 -1.181161   \n",
       "4  0.972156 -0.498378 -0.582910  0.011414 -0.013206  0.026092 -1.180980   \n",
       "\n",
       "       MagY      MagZ  Person  Activity Body_Position  \n",
       "0  2.015507 -0.593469       8         1  Dominant_Leg  \n",
       "1  2.046428 -0.610502       8         1  Dominant_Leg  \n",
       "2  2.001206 -0.633195       8         1  Dominant_Leg  \n",
       "3  2.052565 -0.627576       8         1  Dominant_Leg  \n",
       "4  2.042244 -0.627564       8         1  Dominant_Leg  "
      ]
     },
     "execution_count": 38,
     "metadata": {},
     "output_type": "execute_result"
    }
   ],
   "source": [
    "User8_Dominant_Leg.head()"
   ]
  },
  {
   "cell_type": "code",
   "execution_count": 35,
   "metadata": {},
   "outputs": [],
   "source": [
    "Torso_dataset = []\n",
    "Dominant_Arm_dataset = []\n",
    "Dominant_Leg_dataset = []\n",
    "\n",
    "Torso_gt = []\n",
    "Dominant_Arm_gt = []\n",
    "Dominant_Leg_gt = []"
   ]
  },
  {
   "cell_type": "code",
   "execution_count": 36,
   "metadata": {},
   "outputs": [],
   "source": [
    "position = ['Dominant_Arm', 'Torso', 'Dominant_Leg']"
   ]
  },
  {
   "cell_type": "code",
   "execution_count": 37,
   "metadata": {},
   "outputs": [],
   "source": [
    "win_size=128\n",
    "step_size=64"
   ]
  },
  {
   "cell_type": "code",
   "execution_count": 39,
   "metadata": {},
   "outputs": [
    {
     "name": "stderr",
     "output_type": "stream",
     "text": [
      "100%|██████████| 3/3 [00:05<00:00,  1.95s/it]\n"
     ]
    }
   ],
   "source": [
    "for position_index in tqdm(range(1,4)): #Back, RUA, RLA, LUA, LLA\n",
    "    for person_index in range(1,9): # 4 Persons\n",
    "        file_name = \"User\"+str(person_index) + \"_\"+position[position_index-1]\n",
    "        \n",
    "        df = pd.read_csv(save_path+file_name+'.csv', sep=\",\")   \n",
    "        len_df = df.shape[0]\n",
    "        narray = df.to_numpy()\n",
    "\n",
    "        for i in range(0, len_df, step_size):\n",
    "            window = narray[i:i+win_size,0:9]\n",
    "            \n",
    "            if window.shape[0] != win_size:\n",
    "                continue\n",
    "            else:\n",
    "                reshaped_window = window.reshape(1,win_size,1,9)\n",
    "                gt = np.bincount(narray[i:i+win_size,10:11].astype(int).ravel()).argmax()\n",
    "#                 print(gt)\n",
    "                \n",
    "                if position_index == 1:\n",
    "                    Dominant_Arm_dataset.append(reshaped_window)\n",
    "                    Dominant_Arm_gt.append(gt)\n",
    "                elif position_index == 2:\n",
    "                    Torso_dataset.append(reshaped_window)\n",
    "                    Torso_gt.append(gt)\n",
    "                elif position_index == 3:\n",
    "                    Dominant_Leg_dataset.append(reshaped_window)\n",
    "                    Dominant_Leg_gt.append(gt)"
   ]
  },
  {
   "cell_type": "markdown",
   "metadata": {},
   "source": [
    "# 3. Windowing(Old)"
   ]
  },
  {
   "cell_type": "code",
   "execution_count": 40,
   "metadata": {},
   "outputs": [],
   "source": [
    "# win_size = 4\n",
    "# step_size = 2\n",
    "# main_df = pd.DataFrame()"
   ]
  },
  {
   "cell_type": "code",
   "execution_count": 41,
   "metadata": {},
   "outputs": [],
   "source": [
    "# def windowing(dataframe, activity, position, person):\n",
    "#     global main_df\n",
    "#     df_length = dataframe.shape[0]\n",
    "    \n",
    "#     for i in range(0, df_length, step_size):\n",
    "#         window_df = dataframe[['Am','Gm','Mm']][i:i+win_size]\n",
    "        \n",
    "#         # check the row number in the dataframe so that NaN are not generated \n",
    "#         if window_df.shape[0] != win_size:\n",
    "#             continue\n",
    "            \n",
    "#         # Transpose the dataframe so that the link 1 can be followed\n",
    "#         transposed_df = window_df.T\n",
    "\n",
    "#         stacked_df = transposed_df.stack()\n",
    "#         stacked_df.reset_index(drop=True, inplace = True)\n",
    "#         single_row_df = stacked_df.to_frame().T\n",
    "        \n",
    "#         # Add the activity,person, body position info so that the final dataframe can be manipulated based on position\n",
    "#         single_row_df.loc[:, 'Activity'] = activity\n",
    "#         single_row_df.loc[:, 'Body_Position'] = position\n",
    "#         single_row_df.loc[:, 'Person'] = person\n",
    "        \n",
    "#         main_df = main_df.append(single_row_df)\n",
    "#         main_df.reset_index(drop=True, inplace = True)"
   ]
  },
  {
   "cell_type": "code",
   "execution_count": 42,
   "metadata": {},
   "outputs": [],
   "source": [
    "# # Iterate through all the person\n",
    "# for person_index in range(1,9):\n",
    "#     idx = 0\n",
    "#     pos_index = 0\n",
    "#     # Iterate through all three body positions\n",
    "#     for index in range(1,4):\n",
    "#         if index == 1:\n",
    "#             idx = person_index*10\n",
    "#             pos_index = 1\n",
    "#         elif index == 2:\n",
    "#             idx = person_index*10 + 1\n",
    "#             pos_index = 0\n",
    "#         elif index == 3:\n",
    "#             idx = person_index*10 + 2\n",
    "#             pos_index = 3\n",
    "        \n",
    "#         # Iterate through all the activities\n",
    "#         for activity_index in range(0,7):\n",
    "#             active_df = user[idx][user[idx]['Activity'] == activity[activity_index]]\n",
    "#             windowing(active_df, activity_index, pos_index, person_index)"
   ]
  },
  {
   "cell_type": "code",
   "execution_count": null,
   "metadata": {},
   "outputs": [],
   "source": []
  }
 ],
 "metadata": {
  "kernelspec": {
   "display_name": "Python 3",
   "language": "python",
   "name": "python3"
  },
  "language_info": {
   "codemirror_mode": {
    "name": "ipython",
    "version": 3
   },
   "file_extension": ".py",
   "mimetype": "text/x-python",
   "name": "python",
   "nbconvert_exporter": "python",
   "pygments_lexer": "ipython3",
   "version": "3.7.3"
  }
 },
 "nbformat": 4,
 "nbformat_minor": 2
}
