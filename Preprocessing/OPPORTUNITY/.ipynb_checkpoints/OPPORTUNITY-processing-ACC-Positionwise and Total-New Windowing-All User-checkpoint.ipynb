{
 "cells": [
  {
   "cell_type": "code",
   "execution_count": 1,
   "metadata": {},
   "outputs": [],
   "source": [
    "# https://archive.ics.uci.edu/ml/datasets/opportunity+activity+recognition"
   ]
  },
  {
   "cell_type": "code",
   "execution_count": 2,
   "metadata": {},
   "outputs": [],
   "source": [
    "import matplotlib as plt\n",
    "import pandas as pd\n",
    "import os\n",
    "import numpy as np\n",
    "import math\n",
    "import csv\n",
    "from pandas.compat import StringIO\n",
    "from sklearn import preprocessing\n",
    "from tqdm import tqdm"
   ]
  },
  {
   "cell_type": "code",
   "execution_count": 3,
   "metadata": {},
   "outputs": [],
   "source": [
    "url = \"/home/avijoychakma/Downloads/PerCom 2020/Dataset/OpportunityUCIDataset/dataset/\""
   ]
  },
  {
   "cell_type": "markdown",
   "metadata": {},
   "source": [
    "# OLD and dataset accelerometer values are in thousends \n",
    "    - Locomotion Annotation: Stand, Walk, Sit, Lie\n",
    "    Column Information:\n",
    "    1: Milisec\n",
    "    38-46: Back IMU\n",
    "    51-59: Right Upper Arm\n",
    "    64-72: Right Lower Arm\n",
    "    77-85: Left Upper Arm\n",
    "    90-98: Left Lower Arm\n",
    "    103-117: Left Shoe\n",
    "    119-133: Right Shoe\n",
    "    244: Locomotion\n",
    "    \n",
    "    Shoe accumulated data is different than the Back, Left, right arm. Leave shoe data seperate."
   ]
  },
  {
   "cell_type": "markdown",
   "metadata": {},
   "source": [
    "### Directory Structure\n",
    "    - 4 user\n",
    "    - 5 runs for each user"
   ]
  },
  {
   "cell_type": "markdown",
   "metadata": {},
   "source": [
    "### Locomotion Information\n",
    "    1   -   Locomotion   -   Stand\n",
    "    2   -   Locomotion   -   Walk\n",
    "    4   -   Locomotion   -   Sit\n",
    "    5   -   Locomotion   -   Lie"
   ]
  },
  {
   "cell_type": "markdown",
   "metadata": {},
   "source": [
    "### Label Mapping\n",
    "    - Stand: 1\n",
    "    - Walk: 3\n",
    "    - Sit: 0\n",
    "    - Lie: 2"
   ]
  },
  {
   "cell_type": "code",
   "execution_count": 4,
   "metadata": {},
   "outputs": [],
   "source": [
    "total_frame = {}\n",
    "BACK_frame = {}\n",
    "RUA_frame = {}\n",
    "RLA_frame = {}\n",
    "LUA_frame = {}\n",
    "LLA_frame = {}"
   ]
  },
  {
   "cell_type": "code",
   "execution_count": 5,
   "metadata": {},
   "outputs": [],
   "source": [
    "# Back_frame, RUA_frame, RLA_frame, LUA_frame, LLA_frame: \n",
    "# 11-15: User1\n",
    "# 21-25: User2\n",
    "# 31-35: User3\n",
    "# 41-45: User4"
   ]
  },
  {
   "cell_type": "code",
   "execution_count": 6,
   "metadata": {},
   "outputs": [],
   "source": [
    "# GT= 0 is for the interleaving activity"
   ]
  },
  {
   "cell_type": "code",
   "execution_count": 7,
   "metadata": {},
   "outputs": [],
   "source": [
    "for user_index in range(1,2):\n",
    "    for run_index in range(1,2):\n",
    "        file_name = \"S\"+str(user_index)+\"-ADL\"+str(run_index)+\".dat\"\n",
    "        dataframe = pd.read_csv(url+file_name,sep=\" \", header=None) "
   ]
  },
  {
   "cell_type": "code",
   "execution_count": 8,
   "metadata": {},
   "outputs": [
    {
     "data": {
      "text/plain": [
       "0      0\n",
       "1     33\n",
       "2     67\n",
       "3    100\n",
       "4    133\n",
       "Name: 0, dtype: int64"
      ]
     },
     "execution_count": 8,
     "metadata": {},
     "output_type": "execute_result"
    }
   ],
   "source": [
    "dataframe[0].head()"
   ]
  },
  {
   "cell_type": "code",
   "execution_count": 9,
   "metadata": {},
   "outputs": [],
   "source": [
    "for user_index in range(1,5):\n",
    "    for run_index in range(1,6):\n",
    "        file_name = \"S\"+str(user_index)+\"-ADL\"+str(run_index)+\".dat\"\n",
    "        dataframe = pd.read_csv(url+file_name,sep=\" \", header=None) \n",
    "        \n",
    "        dataframe.sort_values(0)\n",
    "        index = (user_index * 10) + run_index\n",
    "        \n",
    "        BACK_IMU_frame = dataframe[[0,37,38,39,243]].copy()\n",
    "        BACK_IMU_frame.rename(columns={0:'Time', 37: 'Acc_x', 38:'Acc_y', 39: 'Acc_z', 243: 'gt'}, inplace=True)\n",
    "        BACK_IMU_frame = BACK_IMU_frame.dropna()\n",
    "        BACK_IMU_frame = BACK_IMU_frame[BACK_IMU_frame[\"gt\"] != 0].copy()\n",
    "        \n",
    "        BACK_IMU_frame.loc[:, 'Person'] = user_index\n",
    "        BACK_IMU_frame.loc[:, 'Position'] = \"Back\"\n",
    "        BACK_frame[index] = BACK_IMU_frame.copy()\n",
    "        BACK_frame[index].reset_index(drop=True, inplace=True)\n",
    "        \n",
    "        \n",
    "        \n",
    "        \n",
    "        RUA_IMU_frame = dataframe[[0,50,51,52,243]].copy()\n",
    "        RUA_IMU_frame.rename(columns={0:'Time', 50: 'Acc_x', 51:'Acc_y', 52: 'Acc_z', 243: 'gt'}, inplace=True)\n",
    "        RUA_IMU_frame = RUA_IMU_frame.dropna()\n",
    "        RUA_IMU_frame = RUA_IMU_frame[RUA_IMU_frame[\"gt\"] != 0].copy()\n",
    "        \n",
    "        RUA_IMU_frame.loc[:, 'Person'] = user_index\n",
    "        RUA_IMU_frame.loc[:, 'Position'] = \"Right Upper Arm\"\n",
    "        RUA_frame[index] = RUA_IMU_frame.copy()\n",
    "        RUA_frame[index].reset_index(drop=True, inplace=True)\n",
    "        \n",
    "        \n",
    "        \n",
    "        RLA_IMU_frame = dataframe[[0,63,64,65,243]].copy()\n",
    "        RLA_IMU_frame.rename(columns={0:'Time', 63: 'Acc_x', 64:'Acc_y', 65: 'Acc_z', 243: 'gt'}, inplace=True)\n",
    "        RLA_IMU_frame = RLA_IMU_frame.dropna()\n",
    "        RLA_IMU_frame = RLA_IMU_frame[RLA_IMU_frame[\"gt\"] != 0].copy()\n",
    "\n",
    "        RLA_IMU_frame.loc[:, 'Person'] = user_index\n",
    "        RLA_IMU_frame.loc[:, 'Position'] = \"Right Lower Arm\"\n",
    "        RLA_frame[index] = RLA_IMU_frame.copy()\n",
    "        RLA_frame[index].reset_index(drop=True, inplace=True)\n",
    "        \n",
    "        \n",
    "        \n",
    "        LUA_IMU_frame = dataframe[[0,76,77,78,243]].copy()\n",
    "        LUA_IMU_frame.rename(columns={0:'Time', 76: 'Acc_x', 77:'Acc_y', 78: 'Acc_z', 243: 'gt'}, inplace=True)\n",
    "        LUA_IMU_frame = LUA_IMU_frame.dropna()\n",
    "        LUA_IMU_frame = LUA_IMU_frame[LUA_IMU_frame[\"gt\"] != 0].copy()\n",
    "\n",
    "        LUA_IMU_frame.loc[:, 'Person'] = user_index\n",
    "        LUA_IMU_frame.loc[:, 'Position'] = \"Left Upper Arm\"\n",
    "        LUA_frame[index] = LUA_IMU_frame.copy()\n",
    "        LUA_frame[index].reset_index(drop=True, inplace=True)\n",
    "        \n",
    "        \n",
    "        \n",
    "        LLA_IMU_frame = dataframe[[0,89,90,91,243]].copy()\n",
    "        LLA_IMU_frame.rename(columns={0:'Time', 89: 'Acc_x', 90:'Acc_y', 91: 'Acc_z', 243: 'gt'}, inplace=True)\n",
    "        LLA_IMU_frame = LLA_IMU_frame.dropna()\n",
    "        LLA_IMU_frame = LLA_IMU_frame[LLA_IMU_frame[\"gt\"] != 0].copy()\n",
    "\n",
    "        LLA_IMU_frame.loc[:, 'Person'] = user_index\n",
    "        LLA_IMU_frame.loc[:, 'Position'] = \"Left Lower Arm\"\n",
    "        LLA_frame[index] = LLA_IMU_frame.copy()\n",
    "        LLA_frame[index].reset_index(drop=True, inplace=True)\n",
    "        "
   ]
  },
  {
   "cell_type": "code",
   "execution_count": 10,
   "metadata": {},
   "outputs": [
    {
     "data": {
      "text/html": [
       "<div>\n",
       "<style scoped>\n",
       "    .dataframe tbody tr th:only-of-type {\n",
       "        vertical-align: middle;\n",
       "    }\n",
       "\n",
       "    .dataframe tbody tr th {\n",
       "        vertical-align: top;\n",
       "    }\n",
       "\n",
       "    .dataframe thead th {\n",
       "        text-align: right;\n",
       "    }\n",
       "</style>\n",
       "<table border=\"1\" class=\"dataframe\">\n",
       "  <thead>\n",
       "    <tr style=\"text-align: right;\">\n",
       "      <th></th>\n",
       "      <th>Time</th>\n",
       "      <th>Acc_x</th>\n",
       "      <th>Acc_y</th>\n",
       "      <th>Acc_z</th>\n",
       "      <th>gt</th>\n",
       "      <th>Person</th>\n",
       "      <th>Position</th>\n",
       "    </tr>\n",
       "  </thead>\n",
       "  <tbody>\n",
       "    <tr>\n",
       "      <th>0</th>\n",
       "      <td>98466</td>\n",
       "      <td>-987.0</td>\n",
       "      <td>-130.0</td>\n",
       "      <td>106.0</td>\n",
       "      <td>1</td>\n",
       "      <td>1</td>\n",
       "      <td>Back</td>\n",
       "    </tr>\n",
       "    <tr>\n",
       "      <th>1</th>\n",
       "      <td>98499</td>\n",
       "      <td>-986.0</td>\n",
       "      <td>-128.0</td>\n",
       "      <td>106.0</td>\n",
       "      <td>1</td>\n",
       "      <td>1</td>\n",
       "      <td>Back</td>\n",
       "    </tr>\n",
       "    <tr>\n",
       "      <th>2</th>\n",
       "      <td>98532</td>\n",
       "      <td>-989.0</td>\n",
       "      <td>-131.0</td>\n",
       "      <td>103.0</td>\n",
       "      <td>1</td>\n",
       "      <td>1</td>\n",
       "      <td>Back</td>\n",
       "    </tr>\n",
       "    <tr>\n",
       "      <th>3</th>\n",
       "      <td>98566</td>\n",
       "      <td>-989.0</td>\n",
       "      <td>-127.0</td>\n",
       "      <td>105.0</td>\n",
       "      <td>1</td>\n",
       "      <td>1</td>\n",
       "      <td>Back</td>\n",
       "    </tr>\n",
       "    <tr>\n",
       "      <th>4</th>\n",
       "      <td>98599</td>\n",
       "      <td>-989.0</td>\n",
       "      <td>-127.0</td>\n",
       "      <td>110.0</td>\n",
       "      <td>1</td>\n",
       "      <td>1</td>\n",
       "      <td>Back</td>\n",
       "    </tr>\n",
       "  </tbody>\n",
       "</table>\n",
       "</div>"
      ],
      "text/plain": [
       "    Time  Acc_x  Acc_y  Acc_z  gt  Person Position\n",
       "0  98466 -987.0 -130.0  106.0   1       1     Back\n",
       "1  98499 -986.0 -128.0  106.0   1       1     Back\n",
       "2  98532 -989.0 -131.0  103.0   1       1     Back\n",
       "3  98566 -989.0 -127.0  105.0   1       1     Back\n",
       "4  98599 -989.0 -127.0  110.0   1       1     Back"
      ]
     },
     "execution_count": 10,
     "metadata": {},
     "output_type": "execute_result"
    }
   ],
   "source": [
    "BACK_frame[11].head()"
   ]
  },
  {
   "cell_type": "code",
   "execution_count": 11,
   "metadata": {},
   "outputs": [
    {
     "data": {
      "text/html": [
       "<div>\n",
       "<style scoped>\n",
       "    .dataframe tbody tr th:only-of-type {\n",
       "        vertical-align: middle;\n",
       "    }\n",
       "\n",
       "    .dataframe tbody tr th {\n",
       "        vertical-align: top;\n",
       "    }\n",
       "\n",
       "    .dataframe thead th {\n",
       "        text-align: right;\n",
       "    }\n",
       "</style>\n",
       "<table border=\"1\" class=\"dataframe\">\n",
       "  <thead>\n",
       "    <tr style=\"text-align: right;\">\n",
       "      <th></th>\n",
       "      <th>Time</th>\n",
       "      <th>Acc_x</th>\n",
       "      <th>Acc_y</th>\n",
       "      <th>Acc_z</th>\n",
       "      <th>gt</th>\n",
       "      <th>Person</th>\n",
       "      <th>Position</th>\n",
       "    </tr>\n",
       "  </thead>\n",
       "  <tbody>\n",
       "    <tr>\n",
       "      <th>37502</th>\n",
       "      <td>1625284</td>\n",
       "      <td>-813.0</td>\n",
       "      <td>-380.0</td>\n",
       "      <td>17.0</td>\n",
       "      <td>2</td>\n",
       "      <td>1</td>\n",
       "      <td>Back</td>\n",
       "    </tr>\n",
       "    <tr>\n",
       "      <th>37503</th>\n",
       "      <td>1625317</td>\n",
       "      <td>-915.0</td>\n",
       "      <td>-463.0</td>\n",
       "      <td>47.0</td>\n",
       "      <td>2</td>\n",
       "      <td>1</td>\n",
       "      <td>Back</td>\n",
       "    </tr>\n",
       "    <tr>\n",
       "      <th>37504</th>\n",
       "      <td>1625350</td>\n",
       "      <td>-1008.0</td>\n",
       "      <td>-447.0</td>\n",
       "      <td>146.0</td>\n",
       "      <td>2</td>\n",
       "      <td>1</td>\n",
       "      <td>Back</td>\n",
       "    </tr>\n",
       "    <tr>\n",
       "      <th>37505</th>\n",
       "      <td>1625384</td>\n",
       "      <td>-1030.0</td>\n",
       "      <td>-373.0</td>\n",
       "      <td>115.0</td>\n",
       "      <td>2</td>\n",
       "      <td>1</td>\n",
       "      <td>Back</td>\n",
       "    </tr>\n",
       "    <tr>\n",
       "      <th>37506</th>\n",
       "      <td>1625417</td>\n",
       "      <td>-955.0</td>\n",
       "      <td>-325.0</td>\n",
       "      <td>78.0</td>\n",
       "      <td>2</td>\n",
       "      <td>1</td>\n",
       "      <td>Back</td>\n",
       "    </tr>\n",
       "  </tbody>\n",
       "</table>\n",
       "</div>"
      ],
      "text/plain": [
       "          Time   Acc_x  Acc_y  Acc_z  gt  Person Position\n",
       "37502  1625284  -813.0 -380.0   17.0   2       1     Back\n",
       "37503  1625317  -915.0 -463.0   47.0   2       1     Back\n",
       "37504  1625350 -1008.0 -447.0  146.0   2       1     Back\n",
       "37505  1625384 -1030.0 -373.0  115.0   2       1     Back\n",
       "37506  1625417  -955.0 -325.0   78.0   2       1     Back"
      ]
     },
     "execution_count": 11,
     "metadata": {},
     "output_type": "execute_result"
    }
   ],
   "source": [
    "BACK_frame[11].tail()"
   ]
  },
  {
   "cell_type": "code",
   "execution_count": 12,
   "metadata": {},
   "outputs": [
    {
     "data": {
      "text/plain": [
       "array([1, 2, 4, 5])"
      ]
     },
     "execution_count": 12,
     "metadata": {},
     "output_type": "execute_result"
    }
   ],
   "source": [
    "np.unique(BACK_frame[11]['gt'])"
   ]
  },
  {
   "cell_type": "code",
   "execution_count": 13,
   "metadata": {},
   "outputs": [],
   "source": [
    "# user1 = {}"
   ]
  },
  {
   "cell_type": "code",
   "execution_count": 14,
   "metadata": {},
   "outputs": [],
   "source": [
    "# Back_frame_train = pd.DataFrame(columns=['Time','Acc_x', 'Acc_y', 'Acc_z', 'gt', 'Person', 'Position'])\n",
    "# Back_frame_valid = pd.DataFrame(columns=['Time','Acc_x', 'Acc_y', 'Acc_z', 'gt', 'Person', 'Position'])\n",
    "\n",
    "# RUA_frame_train = pd.DataFrame(columns=['Time','Acc_x', 'Acc_y', 'Acc_z', 'gt', 'Person', 'Position'])\n",
    "# RUA_frame_valid = pd.DataFrame(columns=['Time','Acc_x', 'Acc_y', 'Acc_z', 'gt', 'Person', 'Position'])\n",
    "\n",
    "# RLA_frame_train = pd.DataFrame(columns=['Time','Acc_x', 'Acc_y', 'Acc_z', 'gt', 'Person', 'Position'])\n",
    "# RLA_frame_valid = pd.DataFrame(columns=['Time','Acc_x', 'Acc_y', 'Acc_z', 'gt', 'Person', 'Position'])\n",
    "\n",
    "# LUA_frame_train = pd.DataFrame(columns=['Time','Acc_x', 'Acc_y', 'Acc_z', 'gt', 'Person', 'Position'])\n",
    "# LUA_frame_valid = pd.DataFrame(columns=['Time','Acc_x', 'Acc_y', 'Acc_z', 'gt', 'Person', 'Position'])\n",
    "\n",
    "# LLA_frame_train = pd.DataFrame(columns=['Time','Acc_x', 'Acc_y', 'Acc_z', 'gt', 'Person', 'Position'])\n",
    "# LLA_frame_valid = pd.DataFrame(columns=['Time','Acc_x', 'Acc_y', 'Acc_z', 'gt', 'Person', 'Position'])"
   ]
  },
  {
   "cell_type": "code",
   "execution_count": 15,
   "metadata": {},
   "outputs": [],
   "source": [
    "# upto = int(label_1_user_1.shape[0]*0.8)"
   ]
  },
  {
   "cell_type": "code",
   "execution_count": 16,
   "metadata": {},
   "outputs": [],
   "source": [
    "# train_label1_user1 = label_1_user_1[0:upto]\n",
    "# valid_label1_user1 = label_1_user_1[upto+1 : label_1_user_1.shape[0]]"
   ]
  },
  {
   "cell_type": "code",
   "execution_count": 17,
   "metadata": {},
   "outputs": [],
   "source": [
    "# user1_train = pd.concat([Back_frame_train, train_label1_user1])"
   ]
  },
  {
   "cell_type": "code",
   "execution_count": 18,
   "metadata": {},
   "outputs": [],
   "source": [
    "Back_frame_total = pd.DataFrame(columns=['Time', 'Acc_x', 'Acc_y', 'Acc_z', 'gt', 'Person', 'Position'])\n",
    "RUA_frame_total = pd.DataFrame(columns=['Time', 'Acc_x', 'Acc_y', 'Acc_z', 'gt', 'Person', 'Position'])\n",
    "RLA_frame_total = pd.DataFrame(columns=['Time', 'Acc_x', 'Acc_y', 'Acc_z', 'gt', 'Person', 'Position'])\n",
    "LUA_frame_total = pd.DataFrame(columns=['Time', 'Acc_x', 'Acc_y', 'Acc_z', 'gt', 'Person', 'Position'])\n",
    "LLA_frame_total = pd.DataFrame(columns=['Time', 'Acc_x', 'Acc_y', 'Acc_z', 'gt', 'Person', 'Position'])"
   ]
  },
  {
   "cell_type": "code",
   "execution_count": 19,
   "metadata": {},
   "outputs": [],
   "source": [
    "back_shape = 0\n",
    "for user_index in range(1,5):\n",
    "    for run_index in range(1,6):\n",
    "        index = (user_index * 10) + run_index\n",
    "        \n",
    "        # To check the final dataframe size\n",
    "        back_shape = back_shape + BACK_frame[index].shape[0]\n",
    "        \n",
    "        Back_frame_total = Back_frame_total.append(BACK_frame[index], ignore_index=True)\n",
    "        RUA_frame_total = RUA_frame_total.append(RUA_frame[index], ignore_index=True)\n",
    "        RLA_frame_total = RLA_frame_total.append(RLA_frame[index], ignore_index=True)\n",
    "        LUA_frame_total = LUA_frame_total.append(LUA_frame[index], ignore_index=True)\n",
    "        LLA_frame_total = LLA_frame_total.append(LLA_frame[index], ignore_index=True)"
   ]
  },
  {
   "cell_type": "code",
   "execution_count": 20,
   "metadata": {},
   "outputs": [
    {
     "data": {
      "text/html": [
       "<div>\n",
       "<style scoped>\n",
       "    .dataframe tbody tr th:only-of-type {\n",
       "        vertical-align: middle;\n",
       "    }\n",
       "\n",
       "    .dataframe tbody tr th {\n",
       "        vertical-align: top;\n",
       "    }\n",
       "\n",
       "    .dataframe thead th {\n",
       "        text-align: right;\n",
       "    }\n",
       "</style>\n",
       "<table border=\"1\" class=\"dataframe\">\n",
       "  <thead>\n",
       "    <tr style=\"text-align: right;\">\n",
       "      <th></th>\n",
       "      <th>Time</th>\n",
       "      <th>Acc_x</th>\n",
       "      <th>Acc_y</th>\n",
       "      <th>Acc_z</th>\n",
       "      <th>gt</th>\n",
       "      <th>Person</th>\n",
       "      <th>Position</th>\n",
       "    </tr>\n",
       "  </thead>\n",
       "  <tbody>\n",
       "    <tr>\n",
       "      <th>0</th>\n",
       "      <td>98466</td>\n",
       "      <td>-987.0</td>\n",
       "      <td>-130.0</td>\n",
       "      <td>106.0</td>\n",
       "      <td>1</td>\n",
       "      <td>1</td>\n",
       "      <td>Back</td>\n",
       "    </tr>\n",
       "    <tr>\n",
       "      <th>1</th>\n",
       "      <td>98499</td>\n",
       "      <td>-986.0</td>\n",
       "      <td>-128.0</td>\n",
       "      <td>106.0</td>\n",
       "      <td>1</td>\n",
       "      <td>1</td>\n",
       "      <td>Back</td>\n",
       "    </tr>\n",
       "    <tr>\n",
       "      <th>2</th>\n",
       "      <td>98532</td>\n",
       "      <td>-989.0</td>\n",
       "      <td>-131.0</td>\n",
       "      <td>103.0</td>\n",
       "      <td>1</td>\n",
       "      <td>1</td>\n",
       "      <td>Back</td>\n",
       "    </tr>\n",
       "    <tr>\n",
       "      <th>3</th>\n",
       "      <td>98566</td>\n",
       "      <td>-989.0</td>\n",
       "      <td>-127.0</td>\n",
       "      <td>105.0</td>\n",
       "      <td>1</td>\n",
       "      <td>1</td>\n",
       "      <td>Back</td>\n",
       "    </tr>\n",
       "    <tr>\n",
       "      <th>4</th>\n",
       "      <td>98599</td>\n",
       "      <td>-989.0</td>\n",
       "      <td>-127.0</td>\n",
       "      <td>110.0</td>\n",
       "      <td>1</td>\n",
       "      <td>1</td>\n",
       "      <td>Back</td>\n",
       "    </tr>\n",
       "  </tbody>\n",
       "</table>\n",
       "</div>"
      ],
      "text/plain": [
       "    Time  Acc_x  Acc_y  Acc_z gt Person Position\n",
       "0  98466 -987.0 -130.0  106.0  1      1     Back\n",
       "1  98499 -986.0 -128.0  106.0  1      1     Back\n",
       "2  98532 -989.0 -131.0  103.0  1      1     Back\n",
       "3  98566 -989.0 -127.0  105.0  1      1     Back\n",
       "4  98599 -989.0 -127.0  110.0  1      1     Back"
      ]
     },
     "execution_count": 20,
     "metadata": {},
     "output_type": "execute_result"
    }
   ],
   "source": [
    "Back_frame_total.head()"
   ]
  },
  {
   "cell_type": "code",
   "execution_count": 21,
   "metadata": {},
   "outputs": [
    {
     "data": {
      "text/html": [
       "<div>\n",
       "<style scoped>\n",
       "    .dataframe tbody tr th:only-of-type {\n",
       "        vertical-align: middle;\n",
       "    }\n",
       "\n",
       "    .dataframe tbody tr th {\n",
       "        vertical-align: top;\n",
       "    }\n",
       "\n",
       "    .dataframe thead th {\n",
       "        text-align: right;\n",
       "    }\n",
       "</style>\n",
       "<table border=\"1\" class=\"dataframe\">\n",
       "  <thead>\n",
       "    <tr style=\"text-align: right;\">\n",
       "      <th></th>\n",
       "      <th>Time</th>\n",
       "      <th>Acc_x</th>\n",
       "      <th>Acc_y</th>\n",
       "      <th>Acc_z</th>\n",
       "      <th>gt</th>\n",
       "      <th>Person</th>\n",
       "      <th>Position</th>\n",
       "    </tr>\n",
       "  </thead>\n",
       "  <tbody>\n",
       "    <tr>\n",
       "      <th>492238</th>\n",
       "      <td>943257</td>\n",
       "      <td>-980.0</td>\n",
       "      <td>-244.0</td>\n",
       "      <td>256.0</td>\n",
       "      <td>2</td>\n",
       "      <td>4</td>\n",
       "      <td>Back</td>\n",
       "    </tr>\n",
       "    <tr>\n",
       "      <th>492239</th>\n",
       "      <td>943291</td>\n",
       "      <td>-1009.0</td>\n",
       "      <td>-219.0</td>\n",
       "      <td>268.0</td>\n",
       "      <td>2</td>\n",
       "      <td>4</td>\n",
       "      <td>Back</td>\n",
       "    </tr>\n",
       "    <tr>\n",
       "      <th>492240</th>\n",
       "      <td>943324</td>\n",
       "      <td>-972.0</td>\n",
       "      <td>-192.0</td>\n",
       "      <td>269.0</td>\n",
       "      <td>2</td>\n",
       "      <td>4</td>\n",
       "      <td>Back</td>\n",
       "    </tr>\n",
       "    <tr>\n",
       "      <th>492241</th>\n",
       "      <td>943357</td>\n",
       "      <td>-910.0</td>\n",
       "      <td>-204.0</td>\n",
       "      <td>255.0</td>\n",
       "      <td>2</td>\n",
       "      <td>4</td>\n",
       "      <td>Back</td>\n",
       "    </tr>\n",
       "    <tr>\n",
       "      <th>492242</th>\n",
       "      <td>943391</td>\n",
       "      <td>-876.0</td>\n",
       "      <td>-219.0</td>\n",
       "      <td>256.0</td>\n",
       "      <td>2</td>\n",
       "      <td>4</td>\n",
       "      <td>Back</td>\n",
       "    </tr>\n",
       "  </tbody>\n",
       "</table>\n",
       "</div>"
      ],
      "text/plain": [
       "          Time   Acc_x  Acc_y  Acc_z gt Person Position\n",
       "492238  943257  -980.0 -244.0  256.0  2      4     Back\n",
       "492239  943291 -1009.0 -219.0  268.0  2      4     Back\n",
       "492240  943324  -972.0 -192.0  269.0  2      4     Back\n",
       "492241  943357  -910.0 -204.0  255.0  2      4     Back\n",
       "492242  943391  -876.0 -219.0  256.0  2      4     Back"
      ]
     },
     "execution_count": 21,
     "metadata": {},
     "output_type": "execute_result"
    }
   ],
   "source": [
    "Back_frame_total.tail()"
   ]
  },
  {
   "cell_type": "code",
   "execution_count": 22,
   "metadata": {
    "scrolled": true
   },
   "outputs": [
    {
     "data": {
      "text/plain": [
       "492243"
      ]
     },
     "execution_count": 22,
     "metadata": {},
     "output_type": "execute_result"
    }
   ],
   "source": [
    "back_shape"
   ]
  },
  {
   "cell_type": "code",
   "execution_count": 23,
   "metadata": {
    "scrolled": true
   },
   "outputs": [
    {
     "data": {
      "text/plain": [
       "array([1, 2, 4, 5], dtype=object)"
      ]
     },
     "execution_count": 23,
     "metadata": {},
     "output_type": "execute_result"
    }
   ],
   "source": [
    "np.unique(Back_frame_total['gt'])"
   ]
  },
  {
   "cell_type": "markdown",
   "metadata": {},
   "source": [
    "### Label Mapping"
   ]
  },
  {
   "cell_type": "code",
   "execution_count": 24,
   "metadata": {},
   "outputs": [],
   "source": [
    "Back_frame_total.replace({'gt' : { 1:100, 2:200, 4:400, 5:500}}, inplace = True)\n",
    "Back_frame_total.replace({'gt' : { 100:1, 200:3, 400:0, 500:2}}, inplace = True)\n",
    "\n",
    "RUA_frame_total.replace({'gt' : { 1:100, 2:200, 4:400, 5:500}}, inplace = True)\n",
    "RUA_frame_total.replace({'gt' : { 100:1, 200:3, 400:0, 500:2}}, inplace = True)\n",
    "\n",
    "RLA_frame_total.replace({'gt' : { 1:100, 2:200, 4:400, 5:500}}, inplace = True)\n",
    "RLA_frame_total.replace({'gt' : { 100:1, 200:3, 400:0, 500:2}}, inplace = True)\n",
    "\n",
    "LUA_frame_total.replace({'gt' : { 1:100, 2:200, 4:400, 5:500}}, inplace = True)\n",
    "LUA_frame_total.replace({'gt' : { 100:1, 200:3, 400:0, 500:2}}, inplace = True)\n",
    "\n",
    "LLA_frame_total.replace({'gt' : { 1:100, 2:200, 4:400, 5:500}}, inplace = True)\n",
    "LLA_frame_total.replace({'gt' : { 100:1, 200:3, 400:0, 500:2}}, inplace = True)"
   ]
  },
  {
   "cell_type": "code",
   "execution_count": 25,
   "metadata": {},
   "outputs": [
    {
     "data": {
      "text/plain": [
       "array([0, 1, 2, 3])"
      ]
     },
     "execution_count": 25,
     "metadata": {},
     "output_type": "execute_result"
    }
   ],
   "source": [
    "np.unique(LLA_frame_total['gt'])"
   ]
  },
  {
   "cell_type": "markdown",
   "metadata": {},
   "source": [
    "### Position-wise Standardization and Normalization"
   ]
  },
  {
   "cell_type": "markdown",
   "metadata": {},
   "source": [
    "#### Back"
   ]
  },
  {
   "cell_type": "code",
   "execution_count": 26,
   "metadata": {},
   "outputs": [],
   "source": [
    "time_gt = np.array(Back_frame_total['Time'])\n",
    "person_gt = np.array(Back_frame_total['Person'])\n",
    "gt = np.array(Back_frame_total['gt'])\n",
    "position_gt = np.array(Back_frame_total['Position'])\n",
    "\n",
    "Back_frame_total.drop(['Person','gt','Position'], axis=1, inplace=True)\n",
    "column_name = Back_frame_total.columns\n",
    "\n",
    "scaler = preprocessing.StandardScaler()\n",
    "df_standardized = scaler.fit_transform(Back_frame_total)\n",
    "Back_frame_total = pd.DataFrame(df_standardized)\n",
    "\n",
    "min_max_scaler = preprocessing.MinMaxScaler()\n",
    "np_scaled = min_max_scaler.fit_transform(Back_frame_total)\n",
    "Back_frame_total = pd.DataFrame(np_scaled, columns=column_name)\n",
    "\n",
    "Back_frame_total[\"Person\"] = person_gt\n",
    "Back_frame_total[\"gt\"] = gt\n",
    "Back_frame_total[\"Position\"] = position_gt\n",
    "Back_frame_total[\"Time\"] = time_gt"
   ]
  },
  {
   "cell_type": "code",
   "execution_count": 27,
   "metadata": {},
   "outputs": [
    {
     "data": {
      "text/html": [
       "<div>\n",
       "<style scoped>\n",
       "    .dataframe tbody tr th:only-of-type {\n",
       "        vertical-align: middle;\n",
       "    }\n",
       "\n",
       "    .dataframe tbody tr th {\n",
       "        vertical-align: top;\n",
       "    }\n",
       "\n",
       "    .dataframe thead th {\n",
       "        text-align: right;\n",
       "    }\n",
       "</style>\n",
       "<table border=\"1\" class=\"dataframe\">\n",
       "  <thead>\n",
       "    <tr style=\"text-align: right;\">\n",
       "      <th></th>\n",
       "      <th>Time</th>\n",
       "      <th>Acc_x</th>\n",
       "      <th>Acc_y</th>\n",
       "      <th>Acc_z</th>\n",
       "      <th>Person</th>\n",
       "      <th>gt</th>\n",
       "      <th>Position</th>\n",
       "    </tr>\n",
       "  </thead>\n",
       "  <tbody>\n",
       "    <tr>\n",
       "      <th>0</th>\n",
       "      <td>98466</td>\n",
       "      <td>0.362151</td>\n",
       "      <td>0.375000</td>\n",
       "      <td>0.498662</td>\n",
       "      <td>1</td>\n",
       "      <td>1</td>\n",
       "      <td>Back</td>\n",
       "    </tr>\n",
       "    <tr>\n",
       "      <th>1</th>\n",
       "      <td>98499</td>\n",
       "      <td>0.362550</td>\n",
       "      <td>0.375643</td>\n",
       "      <td>0.498662</td>\n",
       "      <td>1</td>\n",
       "      <td>1</td>\n",
       "      <td>Back</td>\n",
       "    </tr>\n",
       "    <tr>\n",
       "      <th>2</th>\n",
       "      <td>98532</td>\n",
       "      <td>0.361355</td>\n",
       "      <td>0.374679</td>\n",
       "      <td>0.497514</td>\n",
       "      <td>1</td>\n",
       "      <td>1</td>\n",
       "      <td>Back</td>\n",
       "    </tr>\n",
       "    <tr>\n",
       "      <th>3</th>\n",
       "      <td>98566</td>\n",
       "      <td>0.361355</td>\n",
       "      <td>0.375964</td>\n",
       "      <td>0.498279</td>\n",
       "      <td>1</td>\n",
       "      <td>1</td>\n",
       "      <td>Back</td>\n",
       "    </tr>\n",
       "    <tr>\n",
       "      <th>4</th>\n",
       "      <td>98599</td>\n",
       "      <td>0.361355</td>\n",
       "      <td>0.375964</td>\n",
       "      <td>0.500191</td>\n",
       "      <td>1</td>\n",
       "      <td>1</td>\n",
       "      <td>Back</td>\n",
       "    </tr>\n",
       "  </tbody>\n",
       "</table>\n",
       "</div>"
      ],
      "text/plain": [
       "    Time     Acc_x     Acc_y     Acc_z Person  gt Position\n",
       "0  98466  0.362151  0.375000  0.498662      1   1     Back\n",
       "1  98499  0.362550  0.375643  0.498662      1   1     Back\n",
       "2  98532  0.361355  0.374679  0.497514      1   1     Back\n",
       "3  98566  0.361355  0.375964  0.498279      1   1     Back\n",
       "4  98599  0.361355  0.375964  0.500191      1   1     Back"
      ]
     },
     "execution_count": 27,
     "metadata": {},
     "output_type": "execute_result"
    }
   ],
   "source": [
    "Back_frame_total.head()"
   ]
  },
  {
   "cell_type": "code",
   "execution_count": 28,
   "metadata": {},
   "outputs": [
    {
     "data": {
      "text/plain": [
       "0.0"
      ]
     },
     "execution_count": 28,
     "metadata": {},
     "output_type": "execute_result"
    }
   ],
   "source": [
    "np.min(Back_frame_total['Acc_x'])"
   ]
  },
  {
   "cell_type": "markdown",
   "metadata": {},
   "source": [
    "#### RUA"
   ]
  },
  {
   "cell_type": "code",
   "execution_count": 29,
   "metadata": {},
   "outputs": [],
   "source": [
    "time_gt = np.array(RUA_frame_total['Time'])\n",
    "person_gt = np.array(RUA_frame_total['Person'])\n",
    "gt = np.array(RUA_frame_total['gt'])\n",
    "position_gt = np.array(RUA_frame_total['Position'])\n",
    "\n",
    "RUA_frame_total.drop(['Person','gt','Position'], axis=1, inplace=True)\n",
    "column_name = RUA_frame_total.columns\n",
    "\n",
    "scaler = preprocessing.StandardScaler()\n",
    "df_standardized = scaler.fit_transform(RUA_frame_total)\n",
    "RUA_frame_total = pd.DataFrame(df_standardized)\n",
    "\n",
    "min_max_scaler = preprocessing.MinMaxScaler()\n",
    "np_scaled = min_max_scaler.fit_transform(RUA_frame_total)\n",
    "RUA_frame_total = pd.DataFrame(np_scaled, columns=column_name)\n",
    "\n",
    "RUA_frame_total[\"Person\"] = person_gt\n",
    "RUA_frame_total[\"gt\"] = gt\n",
    "RUA_frame_total[\"Position\"] = position_gt\n",
    "RUA_frame_total[\"Time\"] = time_gt"
   ]
  },
  {
   "cell_type": "markdown",
   "metadata": {},
   "source": [
    "#### RLA"
   ]
  },
  {
   "cell_type": "code",
   "execution_count": 30,
   "metadata": {},
   "outputs": [],
   "source": [
    "time_gt = np.array(RLA_frame_total['Time'])\n",
    "person_gt = np.array(RLA_frame_total['Person'])\n",
    "gt = np.array(RLA_frame_total['gt'])\n",
    "position_gt = np.array(RLA_frame_total['Position'])\n",
    "\n",
    "RLA_frame_total.drop(['Person','gt','Position'], axis=1, inplace=True)\n",
    "column_name = RLA_frame_total.columns\n",
    "\n",
    "scaler = preprocessing.StandardScaler()\n",
    "df_standardized = scaler.fit_transform(RLA_frame_total)\n",
    "RLA_frame_total = pd.DataFrame(df_standardized)\n",
    "\n",
    "min_max_scaler = preprocessing.MinMaxScaler()\n",
    "np_scaled = min_max_scaler.fit_transform(RLA_frame_total)\n",
    "RLA_frame_total = pd.DataFrame(np_scaled, columns=column_name)\n",
    "\n",
    "RLA_frame_total[\"Person\"] = person_gt\n",
    "RLA_frame_total[\"gt\"] = gt\n",
    "RLA_frame_total[\"Position\"] = position_gt\n",
    "RLA_frame_total[\"Time\"] = time_gt"
   ]
  },
  {
   "cell_type": "markdown",
   "metadata": {},
   "source": [
    "#### LUA"
   ]
  },
  {
   "cell_type": "code",
   "execution_count": 31,
   "metadata": {},
   "outputs": [],
   "source": [
    "time_gt = np.array(LUA_frame_total['Time'])\n",
    "person_gt = np.array(LUA_frame_total['Person'])\n",
    "gt = np.array(LUA_frame_total['gt'])\n",
    "position_gt = np.array(LUA_frame_total['Position'])\n",
    "\n",
    "LUA_frame_total.drop(['Person','gt','Position'], axis=1, inplace=True)\n",
    "column_name = LUA_frame_total.columns\n",
    "\n",
    "scaler = preprocessing.StandardScaler()\n",
    "df_standardized = scaler.fit_transform(LUA_frame_total)\n",
    "LUA_frame_total = pd.DataFrame(df_standardized)\n",
    "\n",
    "min_max_scaler = preprocessing.MinMaxScaler()\n",
    "np_scaled = min_max_scaler.fit_transform(LUA_frame_total)\n",
    "LUA_frame_total = pd.DataFrame(np_scaled, columns=column_name)\n",
    "\n",
    "LUA_frame_total[\"Person\"] = person_gt\n",
    "LUA_frame_total[\"gt\"] = gt\n",
    "LUA_frame_total[\"Position\"] = position_gt\n",
    "LUA_frame_total[\"Time\"] = time_gt"
   ]
  },
  {
   "cell_type": "markdown",
   "metadata": {},
   "source": [
    "#### LLA"
   ]
  },
  {
   "cell_type": "code",
   "execution_count": 32,
   "metadata": {},
   "outputs": [],
   "source": [
    "time_gt = np.array(LLA_frame_total['Time'])\n",
    "person_gt = np.array(LLA_frame_total['Person'])\n",
    "gt = np.array(LLA_frame_total['gt'])\n",
    "position_gt = np.array(LLA_frame_total['Position'])\n",
    "\n",
    "LLA_frame_total.drop(['Person','gt','Position'], axis=1, inplace=True)\n",
    "column_name = LLA_frame_total.columns\n",
    "\n",
    "scaler = preprocessing.StandardScaler()\n",
    "df_standardized = scaler.fit_transform(LLA_frame_total)\n",
    "LLA_frame_total = pd.DataFrame(df_standardized)\n",
    "\n",
    "min_max_scaler = preprocessing.MinMaxScaler()\n",
    "np_scaled = min_max_scaler.fit_transform(LLA_frame_total)\n",
    "LLA_frame_total = pd.DataFrame(np_scaled, columns=column_name)\n",
    "\n",
    "LLA_frame_total[\"Person\"] = person_gt\n",
    "LLA_frame_total[\"gt\"] = gt\n",
    "LLA_frame_total[\"Position\"] = position_gt\n",
    "LLA_frame_total[\"Time\"] = time_gt"
   ]
  },
  {
   "cell_type": "code",
   "execution_count": 33,
   "metadata": {},
   "outputs": [
    {
     "data": {
      "text/html": [
       "<div>\n",
       "<style scoped>\n",
       "    .dataframe tbody tr th:only-of-type {\n",
       "        vertical-align: middle;\n",
       "    }\n",
       "\n",
       "    .dataframe tbody tr th {\n",
       "        vertical-align: top;\n",
       "    }\n",
       "\n",
       "    .dataframe thead th {\n",
       "        text-align: right;\n",
       "    }\n",
       "</style>\n",
       "<table border=\"1\" class=\"dataframe\">\n",
       "  <thead>\n",
       "    <tr style=\"text-align: right;\">\n",
       "      <th></th>\n",
       "      <th>Time</th>\n",
       "      <th>Acc_x</th>\n",
       "      <th>Acc_y</th>\n",
       "      <th>Acc_z</th>\n",
       "      <th>Person</th>\n",
       "      <th>gt</th>\n",
       "      <th>Position</th>\n",
       "    </tr>\n",
       "  </thead>\n",
       "  <tbody>\n",
       "    <tr>\n",
       "      <th>0</th>\n",
       "      <td>98466</td>\n",
       "      <td>0.490766</td>\n",
       "      <td>0.622639</td>\n",
       "      <td>0.589294</td>\n",
       "      <td>1</td>\n",
       "      <td>1</td>\n",
       "      <td>Left Lower Arm</td>\n",
       "    </tr>\n",
       "    <tr>\n",
       "      <th>1</th>\n",
       "      <td>98499</td>\n",
       "      <td>0.491498</td>\n",
       "      <td>0.621701</td>\n",
       "      <td>0.589856</td>\n",
       "      <td>1</td>\n",
       "      <td>1</td>\n",
       "      <td>Left Lower Arm</td>\n",
       "    </tr>\n",
       "    <tr>\n",
       "      <th>2</th>\n",
       "      <td>98532</td>\n",
       "      <td>0.491132</td>\n",
       "      <td>0.622237</td>\n",
       "      <td>0.590531</td>\n",
       "      <td>1</td>\n",
       "      <td>1</td>\n",
       "      <td>Left Lower Arm</td>\n",
       "    </tr>\n",
       "    <tr>\n",
       "      <th>3</th>\n",
       "      <td>98566</td>\n",
       "      <td>0.491315</td>\n",
       "      <td>0.621969</td>\n",
       "      <td>0.591543</td>\n",
       "      <td>1</td>\n",
       "      <td>1</td>\n",
       "      <td>Left Lower Arm</td>\n",
       "    </tr>\n",
       "    <tr>\n",
       "      <th>4</th>\n",
       "      <td>98599</td>\n",
       "      <td>0.490949</td>\n",
       "      <td>0.621165</td>\n",
       "      <td>0.591880</td>\n",
       "      <td>1</td>\n",
       "      <td>1</td>\n",
       "      <td>Left Lower Arm</td>\n",
       "    </tr>\n",
       "  </tbody>\n",
       "</table>\n",
       "</div>"
      ],
      "text/plain": [
       "    Time     Acc_x     Acc_y     Acc_z Person  gt        Position\n",
       "0  98466  0.490766  0.622639  0.589294      1   1  Left Lower Arm\n",
       "1  98499  0.491498  0.621701  0.589856      1   1  Left Lower Arm\n",
       "2  98532  0.491132  0.622237  0.590531      1   1  Left Lower Arm\n",
       "3  98566  0.491315  0.621969  0.591543      1   1  Left Lower Arm\n",
       "4  98599  0.490949  0.621165  0.591880      1   1  Left Lower Arm"
      ]
     },
     "execution_count": 33,
     "metadata": {},
     "output_type": "execute_result"
    }
   ],
   "source": [
    "LLA_frame_total.head()"
   ]
  },
  {
   "cell_type": "code",
   "execution_count": 34,
   "metadata": {},
   "outputs": [
    {
     "data": {
      "text/html": [
       "<div>\n",
       "<style scoped>\n",
       "    .dataframe tbody tr th:only-of-type {\n",
       "        vertical-align: middle;\n",
       "    }\n",
       "\n",
       "    .dataframe tbody tr th {\n",
       "        vertical-align: top;\n",
       "    }\n",
       "\n",
       "    .dataframe thead th {\n",
       "        text-align: right;\n",
       "    }\n",
       "</style>\n",
       "<table border=\"1\" class=\"dataframe\">\n",
       "  <thead>\n",
       "    <tr style=\"text-align: right;\">\n",
       "      <th></th>\n",
       "      <th>Time</th>\n",
       "      <th>Acc_x</th>\n",
       "      <th>Acc_y</th>\n",
       "      <th>Acc_z</th>\n",
       "      <th>Person</th>\n",
       "      <th>gt</th>\n",
       "      <th>Position</th>\n",
       "    </tr>\n",
       "  </thead>\n",
       "  <tbody>\n",
       "    <tr>\n",
       "      <th>492238</th>\n",
       "      <td>943257</td>\n",
       "      <td>0.497714</td>\n",
       "      <td>0.631614</td>\n",
       "      <td>0.571525</td>\n",
       "      <td>4</td>\n",
       "      <td>3</td>\n",
       "      <td>Left Lower Arm</td>\n",
       "    </tr>\n",
       "    <tr>\n",
       "      <th>492239</th>\n",
       "      <td>943291</td>\n",
       "      <td>0.504480</td>\n",
       "      <td>0.626658</td>\n",
       "      <td>0.569276</td>\n",
       "      <td>4</td>\n",
       "      <td>3</td>\n",
       "      <td>Left Lower Arm</td>\n",
       "    </tr>\n",
       "    <tr>\n",
       "      <th>492240</th>\n",
       "      <td>943324</td>\n",
       "      <td>0.509600</td>\n",
       "      <td>0.605224</td>\n",
       "      <td>0.565902</td>\n",
       "      <td>4</td>\n",
       "      <td>3</td>\n",
       "      <td>Left Lower Arm</td>\n",
       "    </tr>\n",
       "    <tr>\n",
       "      <th>492241</th>\n",
       "      <td>943357</td>\n",
       "      <td>0.509782</td>\n",
       "      <td>0.597857</td>\n",
       "      <td>0.579510</td>\n",
       "      <td>4</td>\n",
       "      <td>3</td>\n",
       "      <td>Left Lower Arm</td>\n",
       "    </tr>\n",
       "    <tr>\n",
       "      <th>492242</th>\n",
       "      <td>943391</td>\n",
       "      <td>0.513622</td>\n",
       "      <td>0.598526</td>\n",
       "      <td>0.577935</td>\n",
       "      <td>4</td>\n",
       "      <td>3</td>\n",
       "      <td>Left Lower Arm</td>\n",
       "    </tr>\n",
       "  </tbody>\n",
       "</table>\n",
       "</div>"
      ],
      "text/plain": [
       "          Time     Acc_x     Acc_y     Acc_z Person  gt        Position\n",
       "492238  943257  0.497714  0.631614  0.571525      4   3  Left Lower Arm\n",
       "492239  943291  0.504480  0.626658  0.569276      4   3  Left Lower Arm\n",
       "492240  943324  0.509600  0.605224  0.565902      4   3  Left Lower Arm\n",
       "492241  943357  0.509782  0.597857  0.579510      4   3  Left Lower Arm\n",
       "492242  943391  0.513622  0.598526  0.577935      4   3  Left Lower Arm"
      ]
     },
     "execution_count": 34,
     "metadata": {},
     "output_type": "execute_result"
    }
   ],
   "source": [
    "LLA_frame_total.tail()"
   ]
  },
  {
   "cell_type": "markdown",
   "metadata": {},
   "source": [
    "### Save Files"
   ]
  },
  {
   "cell_type": "code",
   "execution_count": 35,
   "metadata": {},
   "outputs": [],
   "source": [
    "save_path = \"/home/avijoychakma/Downloads/DTCN-AR/Dataset Preprocessing/OPPORTUNITY/ACC-Position-Preprocessed/New Windowing/\""
   ]
  },
  {
   "cell_type": "code",
   "execution_count": 36,
   "metadata": {},
   "outputs": [
    {
     "data": {
      "text/html": [
       "<div>\n",
       "<style scoped>\n",
       "    .dataframe tbody tr th:only-of-type {\n",
       "        vertical-align: middle;\n",
       "    }\n",
       "\n",
       "    .dataframe tbody tr th {\n",
       "        vertical-align: top;\n",
       "    }\n",
       "\n",
       "    .dataframe thead th {\n",
       "        text-align: right;\n",
       "    }\n",
       "</style>\n",
       "<table border=\"1\" class=\"dataframe\">\n",
       "  <thead>\n",
       "    <tr style=\"text-align: right;\">\n",
       "      <th></th>\n",
       "      <th>Time</th>\n",
       "      <th>Acc_x</th>\n",
       "      <th>Acc_y</th>\n",
       "      <th>Acc_z</th>\n",
       "      <th>Person</th>\n",
       "      <th>gt</th>\n",
       "      <th>Position</th>\n",
       "    </tr>\n",
       "  </thead>\n",
       "  <tbody>\n",
       "    <tr>\n",
       "      <th>0</th>\n",
       "      <td>98466</td>\n",
       "      <td>0.362151</td>\n",
       "      <td>0.375000</td>\n",
       "      <td>0.498662</td>\n",
       "      <td>1</td>\n",
       "      <td>1</td>\n",
       "      <td>Back</td>\n",
       "    </tr>\n",
       "    <tr>\n",
       "      <th>1</th>\n",
       "      <td>98499</td>\n",
       "      <td>0.362550</td>\n",
       "      <td>0.375643</td>\n",
       "      <td>0.498662</td>\n",
       "      <td>1</td>\n",
       "      <td>1</td>\n",
       "      <td>Back</td>\n",
       "    </tr>\n",
       "    <tr>\n",
       "      <th>2</th>\n",
       "      <td>98532</td>\n",
       "      <td>0.361355</td>\n",
       "      <td>0.374679</td>\n",
       "      <td>0.497514</td>\n",
       "      <td>1</td>\n",
       "      <td>1</td>\n",
       "      <td>Back</td>\n",
       "    </tr>\n",
       "    <tr>\n",
       "      <th>3</th>\n",
       "      <td>98566</td>\n",
       "      <td>0.361355</td>\n",
       "      <td>0.375964</td>\n",
       "      <td>0.498279</td>\n",
       "      <td>1</td>\n",
       "      <td>1</td>\n",
       "      <td>Back</td>\n",
       "    </tr>\n",
       "    <tr>\n",
       "      <th>4</th>\n",
       "      <td>98599</td>\n",
       "      <td>0.361355</td>\n",
       "      <td>0.375964</td>\n",
       "      <td>0.500191</td>\n",
       "      <td>1</td>\n",
       "      <td>1</td>\n",
       "      <td>Back</td>\n",
       "    </tr>\n",
       "  </tbody>\n",
       "</table>\n",
       "</div>"
      ],
      "text/plain": [
       "    Time     Acc_x     Acc_y     Acc_z Person  gt Position\n",
       "0  98466  0.362151  0.375000  0.498662      1   1     Back\n",
       "1  98499  0.362550  0.375643  0.498662      1   1     Back\n",
       "2  98532  0.361355  0.374679  0.497514      1   1     Back\n",
       "3  98566  0.361355  0.375964  0.498279      1   1     Back\n",
       "4  98599  0.361355  0.375964  0.500191      1   1     Back"
      ]
     },
     "execution_count": 36,
     "metadata": {},
     "output_type": "execute_result"
    }
   ],
   "source": [
    "Back_frame_total.head()"
   ]
  },
  {
   "cell_type": "code",
   "execution_count": 37,
   "metadata": {},
   "outputs": [
    {
     "data": {
      "text/html": [
       "<div>\n",
       "<style scoped>\n",
       "    .dataframe tbody tr th:only-of-type {\n",
       "        vertical-align: middle;\n",
       "    }\n",
       "\n",
       "    .dataframe tbody tr th {\n",
       "        vertical-align: top;\n",
       "    }\n",
       "\n",
       "    .dataframe thead th {\n",
       "        text-align: right;\n",
       "    }\n",
       "</style>\n",
       "<table border=\"1\" class=\"dataframe\">\n",
       "  <thead>\n",
       "    <tr style=\"text-align: right;\">\n",
       "      <th></th>\n",
       "      <th>Time</th>\n",
       "      <th>Acc_x</th>\n",
       "      <th>Acc_y</th>\n",
       "      <th>Acc_z</th>\n",
       "      <th>Person</th>\n",
       "      <th>gt</th>\n",
       "      <th>Position</th>\n",
       "    </tr>\n",
       "  </thead>\n",
       "  <tbody>\n",
       "    <tr>\n",
       "      <th>492238</th>\n",
       "      <td>943257</td>\n",
       "      <td>0.364940</td>\n",
       "      <td>0.338368</td>\n",
       "      <td>0.556023</td>\n",
       "      <td>4</td>\n",
       "      <td>3</td>\n",
       "      <td>Back</td>\n",
       "    </tr>\n",
       "    <tr>\n",
       "      <th>492239</th>\n",
       "      <td>943291</td>\n",
       "      <td>0.353386</td>\n",
       "      <td>0.346401</td>\n",
       "      <td>0.560612</td>\n",
       "      <td>4</td>\n",
       "      <td>3</td>\n",
       "      <td>Back</td>\n",
       "    </tr>\n",
       "    <tr>\n",
       "      <th>492240</th>\n",
       "      <td>943324</td>\n",
       "      <td>0.368127</td>\n",
       "      <td>0.355077</td>\n",
       "      <td>0.560994</td>\n",
       "      <td>4</td>\n",
       "      <td>3</td>\n",
       "      <td>Back</td>\n",
       "    </tr>\n",
       "    <tr>\n",
       "      <th>492241</th>\n",
       "      <td>943357</td>\n",
       "      <td>0.392829</td>\n",
       "      <td>0.351221</td>\n",
       "      <td>0.555641</td>\n",
       "      <td>4</td>\n",
       "      <td>3</td>\n",
       "      <td>Back</td>\n",
       "    </tr>\n",
       "    <tr>\n",
       "      <th>492242</th>\n",
       "      <td>943391</td>\n",
       "      <td>0.406375</td>\n",
       "      <td>0.346401</td>\n",
       "      <td>0.556023</td>\n",
       "      <td>4</td>\n",
       "      <td>3</td>\n",
       "      <td>Back</td>\n",
       "    </tr>\n",
       "  </tbody>\n",
       "</table>\n",
       "</div>"
      ],
      "text/plain": [
       "          Time     Acc_x     Acc_y     Acc_z Person  gt Position\n",
       "492238  943257  0.364940  0.338368  0.556023      4   3     Back\n",
       "492239  943291  0.353386  0.346401  0.560612      4   3     Back\n",
       "492240  943324  0.368127  0.355077  0.560994      4   3     Back\n",
       "492241  943357  0.392829  0.351221  0.555641      4   3     Back\n",
       "492242  943391  0.406375  0.346401  0.556023      4   3     Back"
      ]
     },
     "execution_count": 37,
     "metadata": {},
     "output_type": "execute_result"
    }
   ],
   "source": [
    "Back_frame_total.tail()"
   ]
  },
  {
   "cell_type": "code",
   "execution_count": 38,
   "metadata": {},
   "outputs": [
    {
     "data": {
      "text/plain": [
       "array([0, 1, 2, 3])"
      ]
     },
     "execution_count": 38,
     "metadata": {},
     "output_type": "execute_result"
    }
   ],
   "source": [
    "np.unique(Back_frame_total['gt'])"
   ]
  },
  {
   "cell_type": "code",
   "execution_count": 39,
   "metadata": {},
   "outputs": [],
   "source": [
    "# for user_index in range(1,5):\n",
    "#     for activity_index in range(0,4):\n",
    "#         back_dataframe = Back_frame_total[(Back_frame_total['Person'] == user_index) & (Back_frame_total['gt'] == activity_index)]\n",
    "#         back_dataframe.to_csv (save_path+'BACK_user'+str(user_index)+'_a'+str(activity_index)+'.csv', index = None, header=True)\n",
    "        \n",
    "#         RUA_dataframe = RUA_frame_total[(RUA_frame_total['Person'] == user_index) & (RUA_frame_total['gt'] == activity_index)]\n",
    "#         RUA_dataframe.to_csv (save_path+'RUA_user'+str(user_index)+'_a'+str(activity_index)+'.csv', index = None, header=True)\n",
    "        \n",
    "#         RLA_dataframe = RLA_frame_total[(RLA_frame_total['Person'] == user_index) & (RLA_frame_total['gt'] == activity_index)]\n",
    "#         RLA_dataframe.to_csv (save_path+'RLA_user'+str(user_index)+'_a'+str(activity_index)+'.csv', index = None, header=True)\n",
    "        \n",
    "#         LUA_dataframe = LUA_frame_total[(LUA_frame_total['Person'] == user_index) & (LUA_frame_total['gt'] == activity_index)]\n",
    "#         LUA_dataframe.to_csv (save_path+'LUA_user'+str(user_index)+'_a'+str(activity_index)+'.csv', index = None, header=True)\n",
    "        \n",
    "#         LLA_dataframe = LLA_frame_total[(LLA_frame_total['Person'] == user_index) & (LLA_frame_total['gt'] == activity_index)]\n",
    "#         LLA_dataframe.to_csv (save_path+'LLA_user'+str(user_index)+'_a'+str(activity_index)+'.csv', index = None, header=True)"
   ]
  },
  {
   "cell_type": "code",
   "execution_count": 40,
   "metadata": {},
   "outputs": [],
   "source": [
    "for user_index in range(1,5):\n",
    "    for activity_index in range(0,4):\n",
    "        back_dataframe = Back_frame_total[(Back_frame_total['Person'] == user_index) & (Back_frame_total['gt'] == activity_index)]\n",
    "        upto = int(back_dataframe.shape[0]*0.8)    \n",
    "        train = back_dataframe[0:upto].copy()\n",
    "        valid = back_dataframe[upto+1 : back_dataframe.shape[0]].copy()\n",
    "        train.to_csv (save_path+'BACK_user'+str(user_index)+'_a'+str(activity_index)+'_train_'+'.csv', index = None, header=True)\n",
    "        valid.to_csv (save_path+'BACK_user'+str(user_index)+'_a'+str(activity_index)+'_valid_'+'.csv', index = None, header=True)\n",
    "        \n",
    "        RUA_dataframe = RUA_frame_total[(RUA_frame_total['Person'] == user_index) & (RUA_frame_total['gt'] == activity_index)]\n",
    "        upto = int(RUA_dataframe.shape[0]*0.8)    \n",
    "        train = RUA_dataframe[0:upto].copy()\n",
    "        valid = RUA_dataframe[upto+1 : RUA_dataframe.shape[0]].copy()\n",
    "        train.to_csv (save_path+'RUA_user'+str(user_index)+'_a'+str(activity_index)+'_train_'+'.csv', index = None, header=True)\n",
    "        valid.to_csv (save_path+'RUA_user'+str(user_index)+'_a'+str(activity_index)+'_valid_'+'.csv', index = None, header=True)\n",
    "        \n",
    "        RLA_dataframe = RLA_frame_total[(RLA_frame_total['Person'] == user_index) & (RLA_frame_total['gt'] == activity_index)]\n",
    "        upto = int(RLA_dataframe.shape[0]*0.8)    \n",
    "        train = RLA_dataframe[0:upto].copy()\n",
    "        valid = RLA_dataframe[upto+1 : RLA_dataframe.shape[0]].copy()\n",
    "        train.to_csv (save_path+'RLA_user'+str(user_index)+'_a'+str(activity_index)+'_train_'+'.csv', index = None, header=True)\n",
    "        valid.to_csv (save_path+'RLA_user'+str(user_index)+'_a'+str(activity_index)+'_valid_'+'.csv', index = None, header=True)\n",
    "        \n",
    "        LUA_dataframe = LUA_frame_total[(LUA_frame_total['Person'] == user_index) & (LUA_frame_total['gt'] == activity_index)]\n",
    "        upto = int(LUA_dataframe.shape[0]*0.8)    \n",
    "        train = LUA_dataframe[0:upto].copy()\n",
    "        valid = LUA_dataframe[upto+1 : LUA_dataframe.shape[0]].copy()\n",
    "        train.to_csv (save_path+'LUA_user'+str(user_index)+'_a'+str(activity_index)+'_train_'+'.csv', index = None, header=True)\n",
    "        valid.to_csv (save_path+'LUA_user'+str(user_index)+'_a'+str(activity_index)+'_valid_'+'.csv', index = None, header=True)\n",
    "        \n",
    "        LLA_dataframe = LLA_frame_total[(LLA_frame_total['Person'] == user_index) & (LLA_frame_total['gt'] == activity_index)]\n",
    "        upto = int(LLA_dataframe.shape[0]*0.8)    \n",
    "        train = LLA_dataframe[0:upto].copy()\n",
    "        valid = LLA_dataframe[upto+1 : LLA_dataframe.shape[0]].copy()\n",
    "        train.to_csv (save_path+'LLA_user'+str(user_index)+'_a'+str(activity_index)+'_train_'+'.csv', index = None, header=True)\n",
    "        valid.to_csv (save_path+'LLA_user'+str(user_index)+'_a'+str(activity_index)+'_valid_'+'.csv', index = None, header=True)"
   ]
  },
  {
   "cell_type": "markdown",
   "metadata": {},
   "source": [
    "### Total Dataframe Standardization and Normalization"
   ]
  },
  {
   "cell_type": "code",
   "execution_count": 41,
   "metadata": {},
   "outputs": [],
   "source": [
    "# save_path = \"/home/avijoychakma/Downloads/DTCN-AR/Dataset Preprocessing/OPPORTUNITY/ACC-Total-Preprocessed/\""
   ]
  },
  {
   "cell_type": "code",
   "execution_count": 42,
   "metadata": {
    "scrolled": true
   },
   "outputs": [],
   "source": [
    "# total_frame = pd.concat([Back_frame_total, RUA_frame_total, RLA_frame_total, LUA_frame_total, LLA_frame_total])\n",
    "# total_frame.reset_index(drop=True, inplace = True)"
   ]
  },
  {
   "cell_type": "code",
   "execution_count": 43,
   "metadata": {},
   "outputs": [],
   "source": [
    "# total_frame.tail()"
   ]
  },
  {
   "cell_type": "code",
   "execution_count": 44,
   "metadata": {},
   "outputs": [],
   "source": [
    "# person_gt = np.array(total_frame['Person'])\n",
    "# gt = np.array(total_frame['gt'])\n",
    "# position_gt = np.array(total_frame['Position'])"
   ]
  },
  {
   "cell_type": "code",
   "execution_count": 45,
   "metadata": {},
   "outputs": [],
   "source": [
    "# total_frame.drop(['Person','gt','Position'], axis=1, inplace=True)\n",
    "# column_name = total_frame.columns"
   ]
  },
  {
   "cell_type": "code",
   "execution_count": 46,
   "metadata": {},
   "outputs": [],
   "source": [
    "# scaler = preprocessing.StandardScaler()\n",
    "# df_standardized = scaler.fit_transform(total_frame)\n",
    "# total_frame = pd.DataFrame(df_standardized)"
   ]
  },
  {
   "cell_type": "code",
   "execution_count": 47,
   "metadata": {},
   "outputs": [],
   "source": [
    "# min_max_scaler = preprocessing.MinMaxScaler()\n",
    "# np_scaled = min_max_scaler.fit_transform(total_frame)\n",
    "# total_frame = pd.DataFrame(np_scaled, columns=column_name)"
   ]
  },
  {
   "cell_type": "code",
   "execution_count": 48,
   "metadata": {},
   "outputs": [],
   "source": [
    "# total_frame[\"Person\"] = person_gt\n",
    "# total_frame[\"gt\"] = gt\n",
    "# total_frame[\"Position\"] = position_gt"
   ]
  },
  {
   "cell_type": "code",
   "execution_count": 49,
   "metadata": {},
   "outputs": [],
   "source": [
    "# total_frame.head()"
   ]
  },
  {
   "cell_type": "code",
   "execution_count": 50,
   "metadata": {},
   "outputs": [],
   "source": [
    "# total_frame.shape"
   ]
  },
  {
   "cell_type": "code",
   "execution_count": 51,
   "metadata": {},
   "outputs": [],
   "source": [
    "# np.unique(total_frame['Position'])"
   ]
  },
  {
   "cell_type": "markdown",
   "metadata": {},
   "source": [
    "### Save Files"
   ]
  },
  {
   "cell_type": "code",
   "execution_count": 52,
   "metadata": {},
   "outputs": [],
   "source": [
    "# user1_BACK = total_frame[(total_frame['Person'] == 1) & (total_frame['Position'] == 'Back')]\n",
    "# user1_BACK.reset_index(drop=True, inplace=True)\n",
    "\n",
    "# user2_BACK = total_frame[(total_frame['Person'] == 2) & (total_frame['Position'] == 'Back')]\n",
    "# user2_BACK.reset_index(drop=True, inplace=True)\n",
    "\n",
    "# user3_BACK = total_frame[(total_frame['Person'] == 3) & (total_frame['Position'] == 'Back')]\n",
    "# user3_BACK.reset_index(drop=True, inplace=True)\n",
    "\n",
    "# user4_BACK = total_frame[(total_frame['Person'] == 4) & (total_frame['Position'] == 'Back')]\n",
    "# user4_BACK.reset_index(drop=True, inplace=True)\n",
    "\n",
    "# user1_BACK.to_csv (save_path+'user1_back.csv', index = None, header=True)\n",
    "# user2_BACK.to_csv (save_path+'user2_back.csv', index = None, header=True)\n",
    "# user3_BACK.to_csv (save_path+'user3_back.csv', index = None, header=True)\n",
    "# user4_BACK.to_csv (save_path+'user4_back.csv', index = None, header=True)"
   ]
  },
  {
   "cell_type": "code",
   "execution_count": 53,
   "metadata": {},
   "outputs": [],
   "source": [
    "# user1_RUA = total_frame[(total_frame['Person'] == 1) & (total_frame['Position'] == 'Right Upper Arm')]\n",
    "# user1_RUA.reset_index(drop=True, inplace=True)\n",
    "\n",
    "# user2_RUA = total_frame[(total_frame['Person'] == 2) & (total_frame['Position'] == 'Right Upper Arm')]\n",
    "# user2_RUA.reset_index(drop=True, inplace=True)\n",
    "\n",
    "# user3_RUA = total_frame[(total_frame['Person'] == 3) & (total_frame['Position'] == 'Right Upper Arm')]\n",
    "# user3_RUA.reset_index(drop=True, inplace=True)\n",
    "\n",
    "# user4_RUA = total_frame[(total_frame['Person'] == 4) & (total_frame['Position'] == 'Right Upper Arm')]\n",
    "# user4_RUA.reset_index(drop=True, inplace=True)\n",
    "\n",
    "# user1_RUA.to_csv (save_path+'user1_RUA.csv', index = None, header=True)\n",
    "# user2_RUA.to_csv (save_path+'user2_RUA.csv', index = None, header=True)\n",
    "# user3_RUA.to_csv (save_path+'user3_RUA.csv', index = None, header=True)\n",
    "# user4_RUA.to_csv (save_path+'user4_RUA.csv', index = None, header=True)"
   ]
  },
  {
   "cell_type": "code",
   "execution_count": 54,
   "metadata": {},
   "outputs": [],
   "source": [
    "# user1_RLA = total_frame[(total_frame['Person'] == 1) & (total_frame['Position'] == 'Right Lower Arm')]\n",
    "# user1_RLA.reset_index(drop=True, inplace=True)\n",
    "\n",
    "# user2_RLA = total_frame[(total_frame['Person'] == 2) & (total_frame['Position'] == 'Right Lower Arm')]\n",
    "# user2_RLA.reset_index(drop=True, inplace=True)\n",
    "\n",
    "# user3_RLA = total_frame[(total_frame['Person'] == 3) & (total_frame['Position'] == 'Right Lower Arm')]\n",
    "# user3_RLA.reset_index(drop=True, inplace=True)\n",
    "\n",
    "# user4_RLA = total_frame[(total_frame['Person'] == 4) & (total_frame['Position'] == 'Right Lower Arm')]\n",
    "# user4_RLA.reset_index(drop=True, inplace=True)\n",
    "\n",
    "# user1_RLA.to_csv (save_path+'user1_RLA.csv', index = None, header=True)\n",
    "# user2_RLA.to_csv (save_path+'user2_RLA.csv', index = None, header=True)\n",
    "# user3_RLA.to_csv (save_path+'user3_RLA.csv', index = None, header=True)\n",
    "# user4_RLA.to_csv (save_path+'user4_RLA.csv', index = None, header=True)"
   ]
  },
  {
   "cell_type": "code",
   "execution_count": 55,
   "metadata": {},
   "outputs": [],
   "source": [
    "# user1_LUA = total_frame[(total_frame['Person'] == 1) & (total_frame['Position'] == 'Left Upper Arm')]\n",
    "# user1_LUA.reset_index(drop=True, inplace=True)\n",
    "\n",
    "# user2_LUA = total_frame[(total_frame['Person'] == 2) & (total_frame['Position'] == 'Left Upper Arm')]\n",
    "# user2_LUA.reset_index(drop=True, inplace=True)\n",
    "\n",
    "# user3_LUA = total_frame[(total_frame['Person'] == 3) & (total_frame['Position'] == 'Left Upper Arm')]\n",
    "# user3_LUA.reset_index(drop=True, inplace=True)\n",
    "\n",
    "# user4_LUA = total_frame[(total_frame['Person'] == 4) & (total_frame['Position'] == 'Left Upper Arm')]\n",
    "# user4_LUA.reset_index(drop=True, inplace=True)\n",
    "\n",
    "# user1_LUA.to_csv (save_path+'user1_LUA.csv', index = None, header=True)\n",
    "# user2_LUA.to_csv (save_path+'user2_LUA.csv', index = None, header=True)\n",
    "# user3_LUA.to_csv (save_path+'user3_LUA.csv', index = None, header=True)\n",
    "# user4_LUA.to_csv (save_path+'user4_LUA.csv', index = None, header=True)"
   ]
  },
  {
   "cell_type": "code",
   "execution_count": 56,
   "metadata": {},
   "outputs": [],
   "source": [
    "# user1_LLA = total_frame[(total_frame['Person'] == 1) & (total_frame['Position'] == 'Left Lower Arm')]\n",
    "# user1_LLA.reset_index(drop=True, inplace=True)\n",
    "\n",
    "# user2_LLA = total_frame[(total_frame['Person'] == 2) & (total_frame['Position'] == 'Left Lower Arm')]\n",
    "# user2_LLA.reset_index(drop=True, inplace=True)\n",
    "\n",
    "# user3_LLA = total_frame[(total_frame['Person'] == 3) & (total_frame['Position'] == 'Left Lower Arm')]\n",
    "# user3_LLA.reset_index(drop=True, inplace=True)\n",
    "\n",
    "# user4_LLA = total_frame[(total_frame['Person'] == 4) & (total_frame['Position'] == 'Left Lower Arm')]\n",
    "# user4_LLA.reset_index(drop=True, inplace=True)\n",
    "\n",
    "# user1_LLA.to_csv (save_path+'user1_LLA.csv', index = None, header=True)\n",
    "# user2_LLA.to_csv (save_path+'user2_LLA.csv', index = None, header=True)\n",
    "# user3_LLA.to_csv (save_path+'user3_LLA.csv', index = None, header=True)\n",
    "# user4_LLA.to_csv (save_path+'user4_LLA.csv', index = None, header=True)"
   ]
  },
  {
   "cell_type": "code",
   "execution_count": 57,
   "metadata": {},
   "outputs": [],
   "source": [
    "search_path = \"/home/avijoychakma/Downloads/DTCN-AR/Dataset Preprocessing/OPPORTUNITY/ACC-Position-Preprocessed/New Windowing/\"\n",
    "save_path = \"/home/avijoychakma/Downloads/DTCN-AR/Dataset Preprocessing/OPPORTUNITY/ACC-Position-Preprocessed/New Windowing/Splitted Files/\""
   ]
  },
  {
   "cell_type": "code",
   "execution_count": 58,
   "metadata": {},
   "outputs": [],
   "source": [
    "position = [\"BACK\",\"RUA\",\"RLA\",\"LUA\",\"LLA\"]\n",
    "user = [\"user1\", \"user2\", \"user3\", \"user4\"]\n",
    "activity = [\"a0\", \"a1\", \"a2\", \"a3\"]"
   ]
  },
  {
   "cell_type": "code",
   "execution_count": 59,
   "metadata": {},
   "outputs": [],
   "source": [
    "BACK_train = pd.DataFrame(columns=['Time','Acc_x', 'Acc_y', 'Acc_z', 'Person', 'gt', 'Position'])\n",
    "BACK_valid = pd.DataFrame(columns=['Time','Acc_x', 'Acc_y', 'Acc_z', 'Person', 'gt', 'Position'])\n",
    "\n",
    "RUA_train = pd.DataFrame(columns=['Time','Acc_x', 'Acc_y', 'Acc_z', 'Person', 'gt', 'Position'])\n",
    "RUA_valid = pd.DataFrame(columns=['Time','Acc_x', 'Acc_y', 'Acc_z', 'Person', 'gt', 'Position'])\n",
    "\n",
    "RLA_train = pd.DataFrame(columns=['Time','Acc_x', 'Acc_y', 'Acc_z', 'Person', 'gt', 'Position'])\n",
    "RLA_valid = pd.DataFrame(columns=['Time','Acc_x', 'Acc_y', 'Acc_z', 'Person', 'gt', 'Position'])\n",
    "\n",
    "LUA_train = pd.DataFrame(columns=['Time','Acc_x', 'Acc_y', 'Acc_z', 'Person', 'gt', 'Position'])\n",
    "LUA_valid = pd.DataFrame(columns=['Time','Acc_x', 'Acc_y', 'Acc_z', 'Person', 'gt', 'Position'])\n",
    "\n",
    "LLA_train = pd.DataFrame(columns=['Time','Acc_x', 'Acc_y', 'Acc_z', 'Person', 'gt', 'Position'])\n",
    "LLA_valid = pd.DataFrame(columns=['Time','Acc_x', 'Acc_y', 'Acc_z', 'Person', 'gt', 'Position'])"
   ]
  },
  {
   "cell_type": "code",
   "execution_count": 60,
   "metadata": {},
   "outputs": [
    {
     "data": {
      "text/plain": [
       "(0, 7)"
      ]
     },
     "execution_count": 60,
     "metadata": {},
     "output_type": "execute_result"
    }
   ],
   "source": [
    "BACK_train.shape"
   ]
  },
  {
   "cell_type": "code",
   "execution_count": 61,
   "metadata": {},
   "outputs": [],
   "source": [
    "# for position_index in range(0,1):\n",
    "#     for user_index in range(1,2):\n",
    "#         for activity_index in range(0,1):\n",
    "#             train_file_name = position[position_index]+'_'+user[user_index-1]+'_'+activity[activity_index]+'_train_'+\".csv\"\n",
    "#             valid_file_name = position[position_index]+'_'+user[user_index-1]+'_'+activity[activity_index]+'_valid_'+\".csv\"\n",
    "            \n",
    "#             train_dataframe = pd.read_csv(search_path+train_file_name)\n",
    "#             valid_dataframe = pd.read_csv(search_path+valid_file_name)\n",
    "            \n",
    "#             BACK_train = pd.concat([BACK_train, train_dataframe], ignore_index=True, sort=False)\n",
    "#             BACK_valid = pd.concat([BACK_valid, valid_dataframe], ignore_index=True, sort=False)"
   ]
  },
  {
   "cell_type": "code",
   "execution_count": 62,
   "metadata": {},
   "outputs": [],
   "source": [
    "for position_index in range(0,5):\n",
    "    for user_index in range(1,5):\n",
    "        for activity_index in range(0,4):\n",
    "            train_file_name = position[position_index]+'_'+user[user_index-1]+'_'+activity[activity_index]+'_train_'+\".csv\"\n",
    "            valid_file_name = position[position_index]+'_'+user[user_index-1]+'_'+activity[activity_index]+'_valid_'+\".csv\"\n",
    "            \n",
    "            train_dataframe = pd.read_csv(search_path+train_file_name)\n",
    "            valid_dataframe = pd.read_csv(search_path+valid_file_name)\n",
    "            \n",
    "            if position_index == 0:\n",
    "                BACK_train = pd.concat([BACK_train, train_dataframe], ignore_index=True, sort=False)\n",
    "                BACK_valid = pd.concat([BACK_valid, valid_dataframe], ignore_index=True, sort=False)\n",
    "            elif user_index == 1:\n",
    "                RUA_train = pd.concat([RUA_train, train_dataframe], ignore_index=True, sort=False)\n",
    "                RUA_valid = pd.concat([RUA_valid, valid_dataframe], ignore_index=True, sort=False)\n",
    "            elif user_index == 2:\n",
    "                RLA_train = pd.concat([RLA_train, train_dataframe], ignore_index=True, sort=False)\n",
    "                RLA_valid = pd.concat([RLA_valid, valid_dataframe], ignore_index=True, sort=False)\n",
    "            elif user_index == 3:\n",
    "                LUA_train = pd.concat([LUA_train, train_dataframe], ignore_index=True, sort=False)\n",
    "                LUA_valid = pd.concat([LUA_valid, valid_dataframe], ignore_index=True, sort=False)\n",
    "            elif user_index == 4:\n",
    "                LLA_train = pd.concat([LLA_train, train_dataframe], ignore_index=True, sort=False)\n",
    "                LLA_valid = pd.concat([LLA_valid, valid_dataframe], ignore_index=True, sort=False)\n",
    "                \n",
    "                \n",
    "BACK_train.to_csv (save_path+'BACK_train.csv', index = None, header=True)\n",
    "BACK_valid.to_csv (save_path+'BACK_valid.csv', index = None, header=True)\n",
    "\n",
    "RUA_train.to_csv (save_path+'RUA_train.csv', index = None, header=True)\n",
    "RUA_valid.to_csv (save_path+'RUA_valid.csv', index = None, header=True)\n",
    "\n",
    "RLA_train.to_csv (save_path+'RLA_train.csv', index = None, header=True)\n",
    "RLA_valid.to_csv (save_path+'RLA_valid.csv', index = None, header=True)\n",
    "\n",
    "LUA_train.to_csv (save_path+'LUA_train.csv', index = None, header=True)\n",
    "LUA_valid.to_csv (save_path+'LUA_valid.csv', index = None, header=True)\n",
    "\n",
    "LLA_train.to_csv (save_path+'LLA_train.csv', index = None, header=True)\n",
    "LLA_valid.to_csv (save_path+'LLA_valid.csv', index = None, header=True)"
   ]
  },
  {
   "cell_type": "markdown",
   "metadata": {},
   "source": [
    "## Prepare Final Dataset"
   ]
  },
  {
   "cell_type": "code",
   "execution_count": 63,
   "metadata": {},
   "outputs": [],
   "source": [
    "BACK_dataset_train = []\n",
    "RUA_dataset_train = []\n",
    "RLA_dataset_train = []\n",
    "LUA_dataset_train = []\n",
    "LLA_dataset_train = []\n",
    "BACK_gt_train = []\n",
    "RUA_gt_train = []\n",
    "RLA_gt_train = []\n",
    "LUA_gt_train = []\n",
    "LLA_gt_train = []"
   ]
  },
  {
   "cell_type": "code",
   "execution_count": 64,
   "metadata": {},
   "outputs": [],
   "source": [
    "BACK_dataset_valid = []\n",
    "RUA_dataset_valid = []\n",
    "RLA_dataset_valid = []\n",
    "LUA_dataset_valid = []\n",
    "LLA_dataset_valid = []\n",
    "BACK_gt_valid = []\n",
    "RUA_gt_valid = []\n",
    "RLA_gt_valid = []\n",
    "LUA_gt_valid = []\n",
    "LLA_gt_valid = []"
   ]
  },
  {
   "cell_type": "code",
   "execution_count": 65,
   "metadata": {},
   "outputs": [],
   "source": [
    "win_size=128\n",
    "step_size=64\n",
    "AXIS = 3\n",
    "FROM = 1\n",
    "TO = FROM+3\n",
    "START = TO + 1\n",
    "END = TO + 2"
   ]
  },
  {
   "cell_type": "code",
   "execution_count": 66,
   "metadata": {},
   "outputs": [],
   "source": [
    "item = [\"train\",\"valid\"]"
   ]
  },
  {
   "cell_type": "code",
   "execution_count": 67,
   "metadata": {},
   "outputs": [
    {
     "name": "stderr",
     "output_type": "stream",
     "text": [
      "100%|██████████| 5/5 [00:02<00:00,  2.38it/s]\n"
     ]
    }
   ],
   "source": [
    "for position_index in tqdm(range(0,5)): #Back, RUA, RLA, LUA, LLA\n",
    "    for split_index in range(0,2): # 4 Persons\n",
    "        file_name = position[position_index]+'_'+item[split_index]\n",
    "        \n",
    "        df = pd.read_csv(save_path+file_name+'.csv', sep=\",\")   \n",
    "        len_df = df.shape[0]\n",
    "        narray = df.to_numpy()\n",
    "\n",
    "        for i in range(0, len_df, step_size):\n",
    "            window = narray[i:i+win_size, FROM:TO]\n",
    "            \n",
    "            if window.shape[0] != win_size:\n",
    "                continue\n",
    "            else:\n",
    "                reshaped_window = window.reshape(1,win_size,1,AXIS)\n",
    "                gt = np.bincount(narray[i:i+win_size,START:END].astype(int).ravel()).argmax()\n",
    "                \n",
    "                if position_index == 0:\n",
    "                    if split_index == 0:\n",
    "                        BACK_dataset_train.append(reshaped_window)\n",
    "                        BACK_gt_train.append(gt)\n",
    "                    elif split_index == 1:\n",
    "                        BACK_dataset_valid.append(reshaped_window)\n",
    "                        BACK_gt_valid.append(gt)\n",
    "                elif position_index == 1:\n",
    "                    if split_index == 0:\n",
    "                        RUA_dataset_train.append(reshaped_window)\n",
    "                        RUA_gt_train.append(gt)\n",
    "                    elif split_index == 1:\n",
    "                        RUA_dataset_valid.append(reshaped_window)\n",
    "                        RUA_gt_valid.append(gt)\n",
    "                elif position_index == 2:\n",
    "                    if split_index == 0:\n",
    "                        RLA_dataset_train.append(reshaped_window)\n",
    "                        RLA_gt_train.append(gt)\n",
    "                    elif split_index == 1:\n",
    "                        RLA_dataset_valid.append(reshaped_window)\n",
    "                        RLA_gt_valid.append(gt)\n",
    "                elif position_index == 3:\n",
    "                    if split_index == 0:\n",
    "                        LUA_dataset_train.append(reshaped_window)\n",
    "                        LUA_gt_train.append(gt)\n",
    "                    elif split_index == 1:\n",
    "                        LUA_dataset_valid.append(reshaped_window)\n",
    "                        LUA_gt_valid.append(gt)\n",
    "                elif position_index == 4:\n",
    "                    if split_index == 0:\n",
    "                        LLA_dataset_train.append(reshaped_window)\n",
    "                        LLA_gt_train.append(gt)\n",
    "                    elif split_index == 1:\n",
    "                        LLA_dataset_valid.append(reshaped_window)\n",
    "                        LLA_gt_valid.append(gt)"
   ]
  }
 ],
 "metadata": {
  "kernelspec": {
   "display_name": "Python 3",
   "language": "python",
   "name": "python3"
  },
  "language_info": {
   "codemirror_mode": {
    "name": "ipython",
    "version": 3
   },
   "file_extension": ".py",
   "mimetype": "text/x-python",
   "name": "python",
   "nbconvert_exporter": "python",
   "pygments_lexer": "ipython3",
   "version": "3.7.3"
  }
 },
 "nbformat": 4,
 "nbformat_minor": 2
}
