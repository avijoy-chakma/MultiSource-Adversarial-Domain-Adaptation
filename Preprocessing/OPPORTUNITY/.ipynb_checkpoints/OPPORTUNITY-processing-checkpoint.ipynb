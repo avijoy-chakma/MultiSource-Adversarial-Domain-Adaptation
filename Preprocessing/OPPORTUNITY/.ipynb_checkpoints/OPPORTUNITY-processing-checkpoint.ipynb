{
 "cells": [
  {
   "cell_type": "code",
   "execution_count": 1,
   "metadata": {
    "ExecuteTime": {
     "end_time": "2020-07-15T19:30:30.395461Z",
     "start_time": "2020-07-15T19:30:30.392236Z"
    }
   },
   "outputs": [],
   "source": [
    "# https://archive.ics.uci.edu/ml/datasets/opportunity+activity+recognition"
   ]
  },
  {
   "cell_type": "code",
   "execution_count": 2,
   "metadata": {
    "ExecuteTime": {
     "end_time": "2020-07-15T19:30:30.411257Z",
     "start_time": "2020-07-15T19:30:30.399349Z"
    }
   },
   "outputs": [],
   "source": [
    "home_url = \"/notebooks\"\n",
    "directory = \"POC\""
   ]
  },
  {
   "cell_type": "code",
   "execution_count": 3,
   "metadata": {
    "ExecuteTime": {
     "end_time": "2020-07-15T19:30:31.510649Z",
     "start_time": "2020-07-15T19:30:30.414804Z"
    }
   },
   "outputs": [],
   "source": [
    "import sys\n",
    "sys.path.append(home_url+'/Downloads/'+directory+'/Debug-Packages/Utils/')\n",
    "import matplotlib as plt\n",
    "import pandas as pd\n",
    "import os\n",
    "import numpy as np\n",
    "import math\n",
    "import csv\n",
    "from Visualization import plot_activity\n",
    "from DataPreprocess import standardization_and_normalization\n",
    "from sklearn import preprocessing\n",
    "import tqdm"
   ]
  },
  {
   "cell_type": "code",
   "execution_count": 4,
   "metadata": {
    "ExecuteTime": {
     "end_time": "2020-07-15T19:30:31.518948Z",
     "start_time": "2020-07-15T19:30:31.512352Z"
    }
   },
   "outputs": [],
   "source": [
    "win_size=128\n",
    "overlap = 0.95\n",
    "activity_num = 4\n",
    "source1 = 0\n",
    "source2 = 1\n",
    "target = 2"
   ]
  },
  {
   "cell_type": "code",
   "execution_count": 5,
   "metadata": {
    "ExecuteTime": {
     "end_time": "2020-07-15T19:30:31.532686Z",
     "start_time": "2020-07-15T19:30:31.522176Z"
    }
   },
   "outputs": [],
   "source": [
    "url = home_url+\"/Downloads/\"+directory+\"/Dataset/OpportunityUCIDataset/dataset/\""
   ]
  },
  {
   "cell_type": "code",
   "execution_count": 6,
   "metadata": {
    "ExecuteTime": {
     "end_time": "2020-07-15T19:30:31.544845Z",
     "start_time": "2020-07-15T19:30:31.534909Z"
    }
   },
   "outputs": [],
   "source": [
    "# save_path = \"/home/avijoy/Downloads/DTCN-AR/Preprocessing/OPPORTUNITY/ACC-Position-Preprocessed/\""
   ]
  },
  {
   "cell_type": "code",
   "execution_count": 7,
   "metadata": {
    "ExecuteTime": {
     "end_time": "2020-07-15T19:30:31.558823Z",
     "start_time": "2020-07-15T19:30:31.547474Z"
    }
   },
   "outputs": [],
   "source": [
    "step_size=int(win_size*overlap)\n",
    "activity_num = 4\n",
    "selected_user = 1\n",
    "train_percentage = 0.6\n",
    "valid_percentage = 0.2\n",
    "\n",
    "AXIS = 3\n",
    "FROM = 0\n",
    "TO = FROM+3\n",
    "START = 3\n",
    "END = 4"
   ]
  },
  {
   "cell_type": "code",
   "execution_count": 8,
   "metadata": {
    "ExecuteTime": {
     "end_time": "2020-07-15T19:30:31.572447Z",
     "start_time": "2020-07-15T19:30:31.560921Z"
    }
   },
   "outputs": [],
   "source": [
    "item = [\"train\",\"valid\",\"test\"]\n",
    "user = [\"U1\",\"U2\",\"U3\",\"U4\"]\n",
    "position = [\"BACK\", \"RUA\", \"RLA\", \"LUA\",\"LLA\"]"
   ]
  },
  {
   "cell_type": "code",
   "execution_count": 9,
   "metadata": {
    "ExecuteTime": {
     "end_time": "2020-07-15T19:30:31.586773Z",
     "start_time": "2020-07-15T19:30:31.576496Z"
    }
   },
   "outputs": [],
   "source": [
    "folder_name = str(activity_num)+ \" Activity\"+\"_Window \"+str(win_size)+ \"_Overlap \"+str(overlap)\n",
    "save_path = os.getcwd() +\"/Data Files/\"+folder_name+\"/\"\n",
    "if not os.path.exists(save_path):\n",
    "    os.makedirs(save_path)"
   ]
  },
  {
   "cell_type": "markdown",
   "metadata": {},
   "source": [
    "# OLD and dataset accelerometer values are in thousends \n",
    "    - Locomotion Annotation: Stand, Walk, Sit, Lie\n",
    "    Column Information:\n",
    "    1: Milisec\n",
    "    38-46: Back IMU\n",
    "    51-59: Right Upper Arm\n",
    "    64-72: Right Lower Arm\n",
    "    77-85: Left Upper Arm\n",
    "    90-98: Left Lower Arm\n",
    "    103-117: Left Shoe\n",
    "    119-133: Right Shoe\n",
    "    244: Locomotion\n",
    "    \n",
    "    Shoe accumulated data is different than the Back, Left, right arm. Leave shoe data seperate."
   ]
  },
  {
   "cell_type": "markdown",
   "metadata": {},
   "source": [
    "### Directory Structure\n",
    "    - 4 user\n",
    "    - 5 runs for each user"
   ]
  },
  {
   "cell_type": "markdown",
   "metadata": {},
   "source": [
    "### Locomotion Information\n",
    "    1   -   Locomotion   -   Stand\n",
    "    2   -   Locomotion   -   Walk\n",
    "    4   -   Locomotion   -   Sit\n",
    "    5   -   Locomotion   -   Lie"
   ]
  },
  {
   "cell_type": "markdown",
   "metadata": {},
   "source": [
    "### Label Mapping\n",
    "    - Stand: 1\n",
    "    - Walk: 3\n",
    "    - Sit: 0\n",
    "    - Lie: 2"
   ]
  },
  {
   "cell_type": "code",
   "execution_count": 10,
   "metadata": {
    "ExecuteTime": {
     "end_time": "2020-07-15T19:30:31.603676Z",
     "start_time": "2020-07-15T19:30:31.589312Z"
    }
   },
   "outputs": [
    {
     "data": {
      "text/plain": [
       "'/notebooks/Downloads/POC/Preprocessing/OPPORTUNITY/Data Files/4 Activity_Window 128_Overlap 0.9/'"
      ]
     },
     "execution_count": 10,
     "metadata": {},
     "output_type": "execute_result"
    }
   ],
   "source": [
    "save_path"
   ]
  },
  {
   "cell_type": "code",
   "execution_count": 11,
   "metadata": {
    "ExecuteTime": {
     "end_time": "2020-07-15T19:30:31.616665Z",
     "start_time": "2020-07-15T19:30:31.605951Z"
    }
   },
   "outputs": [],
   "source": [
    "total_frame = {}\n",
    "BACK_frame = {}\n",
    "RUA_frame = {}\n",
    "RLA_frame = {}\n",
    "LUA_frame = {}\n",
    "LLA_frame = {}"
   ]
  },
  {
   "cell_type": "code",
   "execution_count": 12,
   "metadata": {
    "ExecuteTime": {
     "end_time": "2020-07-15T19:30:31.628342Z",
     "start_time": "2020-07-15T19:30:31.618238Z"
    }
   },
   "outputs": [],
   "source": [
    "# Back_frame, RUA_frame, RLA_frame, LUA_frame, LLA_frame: \n",
    "# 11-15: User1 : For all 5 Frames\n",
    "# 21-25: User2\n",
    "# 31-35: User3\n",
    "# 41-45: User4"
   ]
  },
  {
   "cell_type": "code",
   "execution_count": 13,
   "metadata": {
    "ExecuteTime": {
     "end_time": "2020-07-15T19:30:31.639551Z",
     "start_time": "2020-07-15T19:30:31.630563Z"
    }
   },
   "outputs": [],
   "source": [
    "# def plot_activity(df, position='Default'):\n",
    "#     data = df[['Acc_x', 'Acc_y','Acc_z']][:df.shape[0]]\n",
    "\n",
    "# #     position += '  Index Range: '+str(df.index[0])+ '  to  '+ str(df.index[-1])\n",
    "#     axis = data.plot(subplots=True, figsize=(16, 12), title=position)\n",
    "#     for ax in axis:\n",
    "#         ax.legend(loc='lower left', bbox_to_anchor=(1.0, 0.5))\n",
    "# #         ax.figure.savefig(visualization_url+position+'.png')"
   ]
  },
  {
   "cell_type": "code",
   "execution_count": 14,
   "metadata": {
    "ExecuteTime": {
     "end_time": "2020-07-15T19:30:47.074629Z",
     "start_time": "2020-07-15T19:30:31.642209Z"
    }
   },
   "outputs": [],
   "source": [
    "for user_index in range(1,5):\n",
    "    for run_index in range(1,6):\n",
    "        file_name = \"S\"+str(user_index)+\"-ADL\"+str(run_index)+\".dat\"\n",
    "        dataframe = pd.read_csv(url+file_name,sep=\" \", header=None) \n",
    "        \n",
    "        \n",
    "        ## Print the signal\n",
    "        dataframe.sort_values(0)\n",
    "        ## Print the signal\n",
    "        index = (user_index * 10) + run_index\n",
    "        \n",
    "        BACK_IMU_frame = dataframe[[37,38,39,243]].copy()\n",
    "        BACK_IMU_frame.rename(columns={37: 'Acc_x', 38:'Acc_y', 39: 'Acc_z', 243: 'gt'}, inplace=True)\n",
    "        \n",
    "        # Check the shape\n",
    "        BACK_IMU_frame = BACK_IMU_frame.dropna()\n",
    "        # Check the shape\n",
    "        BACK_IMU_frame = BACK_IMU_frame[BACK_IMU_frame[\"gt\"] != 0].copy()\n",
    "        \n",
    "        BACK_IMU_frame.loc[:, 'Person'] = user_index\n",
    "        BACK_IMU_frame.loc[:, 'Position'] = \"Back\"\n",
    "        BACK_frame[index] = BACK_IMU_frame.copy()\n",
    "        BACK_frame[index].reset_index(drop=True, inplace=True)\n",
    "        # Check the size\n",
    "        \n",
    "        \n",
    "        \n",
    "        \n",
    "        RUA_IMU_frame = dataframe[[50,51,52,243]].copy()\n",
    "        RUA_IMU_frame.rename(columns={50: 'Acc_x', 51:'Acc_y', 52: 'Acc_z', 243: 'gt'}, inplace=True)\n",
    "        RUA_IMU_frame = RUA_IMU_frame.dropna()\n",
    "        RUA_IMU_frame = RUA_IMU_frame[RUA_IMU_frame[\"gt\"] != 0].copy()\n",
    "        \n",
    "        RUA_IMU_frame.loc[:, 'Person'] = user_index\n",
    "        RUA_IMU_frame.loc[:, 'Position'] = \"Right Upper Arm\"\n",
    "        RUA_frame[index] = RUA_IMU_frame.copy()\n",
    "        RUA_frame[index].reset_index(drop=True, inplace=True)\n",
    "        \n",
    "        \n",
    "        \n",
    "        RLA_IMU_frame = dataframe[[63,64,65,243]].copy()\n",
    "        RLA_IMU_frame.rename(columns={63: 'Acc_x', 64:'Acc_y', 65: 'Acc_z', 243: 'gt'}, inplace=True)\n",
    "        RLA_IMU_frame = RLA_IMU_frame.dropna()\n",
    "        RLA_IMU_frame = RLA_IMU_frame[RLA_IMU_frame[\"gt\"] != 0].copy()\n",
    "\n",
    "        RLA_IMU_frame.loc[:, 'Person'] = user_index\n",
    "        RLA_IMU_frame.loc[:, 'Position'] = \"Right Lower Arm\"\n",
    "        RLA_frame[index] = RLA_IMU_frame.copy()\n",
    "        RLA_frame[index].reset_index(drop=True, inplace=True)\n",
    "        \n",
    "        \n",
    "        \n",
    "        LUA_IMU_frame = dataframe[[76,77,78,243]].copy()\n",
    "        LUA_IMU_frame.rename(columns={76: 'Acc_x', 77:'Acc_y', 78: 'Acc_z', 243: 'gt'}, inplace=True)\n",
    "        LUA_IMU_frame = LUA_IMU_frame.dropna()\n",
    "        LUA_IMU_frame = LUA_IMU_frame[LUA_IMU_frame[\"gt\"] != 0].copy()\n",
    "\n",
    "        LUA_IMU_frame.loc[:, 'Person'] = user_index\n",
    "        LUA_IMU_frame.loc[:, 'Position'] = \"Left Upper Arm\"\n",
    "        LUA_frame[index] = LUA_IMU_frame.copy()\n",
    "        LUA_frame[index].reset_index(drop=True, inplace=True)\n",
    "        \n",
    "        \n",
    "        \n",
    "        LLA_IMU_frame = dataframe[[89,90,91,243]].copy()\n",
    "        LLA_IMU_frame.rename(columns={89: 'Acc_x', 90:'Acc_y', 91: 'Acc_z', 243: 'gt'}, inplace=True)\n",
    "        LLA_IMU_frame = LLA_IMU_frame.dropna()\n",
    "        LLA_IMU_frame = LLA_IMU_frame[LLA_IMU_frame[\"gt\"] != 0].copy()\n",
    "\n",
    "        LLA_IMU_frame.loc[:, 'Person'] = user_index\n",
    "        LLA_IMU_frame.loc[:, 'Position'] = \"Left Lower Arm\"\n",
    "        LLA_frame[index] = LLA_IMU_frame.copy()\n",
    "        LLA_frame[index].reset_index(drop=True, inplace=True)\n",
    "        "
   ]
  },
  {
   "cell_type": "code",
   "execution_count": 15,
   "metadata": {
    "ExecuteTime": {
     "end_time": "2020-07-15T19:30:47.093875Z",
     "start_time": "2020-07-15T19:30:47.076262Z"
    }
   },
   "outputs": [
    {
     "data": {
      "text/html": [
       "<div>\n",
       "<style scoped>\n",
       "    .dataframe tbody tr th:only-of-type {\n",
       "        vertical-align: middle;\n",
       "    }\n",
       "\n",
       "    .dataframe tbody tr th {\n",
       "        vertical-align: top;\n",
       "    }\n",
       "\n",
       "    .dataframe thead th {\n",
       "        text-align: right;\n",
       "    }\n",
       "</style>\n",
       "<table border=\"1\" class=\"dataframe\">\n",
       "  <thead>\n",
       "    <tr style=\"text-align: right;\">\n",
       "      <th></th>\n",
       "      <th>Acc_x</th>\n",
       "      <th>Acc_y</th>\n",
       "      <th>Acc_z</th>\n",
       "      <th>gt</th>\n",
       "      <th>Person</th>\n",
       "      <th>Position</th>\n",
       "    </tr>\n",
       "  </thead>\n",
       "  <tbody>\n",
       "    <tr>\n",
       "      <th>0</th>\n",
       "      <td>-993.0</td>\n",
       "      <td>-269.0</td>\n",
       "      <td>-76.0</td>\n",
       "      <td>1</td>\n",
       "      <td>1</td>\n",
       "      <td>Back</td>\n",
       "    </tr>\n",
       "    <tr>\n",
       "      <th>1</th>\n",
       "      <td>-1000.0</td>\n",
       "      <td>-253.0</td>\n",
       "      <td>-58.0</td>\n",
       "      <td>1</td>\n",
       "      <td>1</td>\n",
       "      <td>Back</td>\n",
       "    </tr>\n",
       "    <tr>\n",
       "      <th>2</th>\n",
       "      <td>-988.0</td>\n",
       "      <td>-256.0</td>\n",
       "      <td>-61.0</td>\n",
       "      <td>1</td>\n",
       "      <td>1</td>\n",
       "      <td>Back</td>\n",
       "    </tr>\n",
       "    <tr>\n",
       "      <th>3</th>\n",
       "      <td>-980.0</td>\n",
       "      <td>-278.0</td>\n",
       "      <td>-47.0</td>\n",
       "      <td>1</td>\n",
       "      <td>1</td>\n",
       "      <td>Back</td>\n",
       "    </tr>\n",
       "    <tr>\n",
       "      <th>4</th>\n",
       "      <td>-990.0</td>\n",
       "      <td>-275.0</td>\n",
       "      <td>-23.0</td>\n",
       "      <td>1</td>\n",
       "      <td>1</td>\n",
       "      <td>Back</td>\n",
       "    </tr>\n",
       "  </tbody>\n",
       "</table>\n",
       "</div>"
      ],
      "text/plain": [
       "    Acc_x  Acc_y  Acc_z  gt  Person Position\n",
       "0  -993.0 -269.0  -76.0   1       1     Back\n",
       "1 -1000.0 -253.0  -58.0   1       1     Back\n",
       "2  -988.0 -256.0  -61.0   1       1     Back\n",
       "3  -980.0 -278.0  -47.0   1       1     Back\n",
       "4  -990.0 -275.0  -23.0   1       1     Back"
      ]
     },
     "execution_count": 15,
     "metadata": {},
     "output_type": "execute_result"
    }
   ],
   "source": [
    "BACK_frame[15].head()"
   ]
  },
  {
   "cell_type": "code",
   "execution_count": 16,
   "metadata": {
    "ExecuteTime": {
     "end_time": "2020-07-15T19:30:47.104232Z",
     "start_time": "2020-07-15T19:30:47.095038Z"
    }
   },
   "outputs": [
    {
     "data": {
      "text/plain": [
       "array([1, 2, 5, 4])"
      ]
     },
     "execution_count": 16,
     "metadata": {},
     "output_type": "execute_result"
    }
   ],
   "source": [
    "BACK_frame[15]['gt'].unique()"
   ]
  },
  {
   "cell_type": "markdown",
   "metadata": {},
   "source": [
    "#### Ground truth has to start from 0"
   ]
  },
  {
   "cell_type": "code",
   "execution_count": 17,
   "metadata": {
    "ExecuteTime": {
     "end_time": "2020-07-15T19:30:47.117288Z",
     "start_time": "2020-07-15T19:30:47.105682Z"
    }
   },
   "outputs": [
    {
     "data": {
      "text/plain": [
       "array([1, 2, 4, 5])"
      ]
     },
     "execution_count": 17,
     "metadata": {},
     "output_type": "execute_result"
    }
   ],
   "source": [
    "np.unique(BACK_frame[11]['gt'])"
   ]
  },
  {
   "cell_type": "code",
   "execution_count": 18,
   "metadata": {
    "ExecuteTime": {
     "end_time": "2020-07-15T19:30:47.187057Z",
     "start_time": "2020-07-15T19:30:47.119273Z"
    }
   },
   "outputs": [],
   "source": [
    "User1_Back_frame_total = pd.DataFrame(columns=['Acc_x', 'Acc_y', 'Acc_z', 'gt', 'Person', 'Position'])\n",
    "User1_RUA_frame_total = pd.DataFrame(columns=['Acc_x', 'Acc_y', 'Acc_z', 'gt', 'Person', 'Position'])\n",
    "User1_RLA_frame_total = pd.DataFrame(columns=['Acc_x', 'Acc_y', 'Acc_z', 'gt', 'Person', 'Position'])\n",
    "User1_LUA_frame_total = pd.DataFrame(columns=['Acc_x', 'Acc_y', 'Acc_z', 'gt', 'Person', 'Position'])\n",
    "User1_LLA_frame_total = pd.DataFrame(columns=['Acc_x', 'Acc_y', 'Acc_z', 'gt', 'Person', 'Position'])\n",
    "\n",
    "User2_Back_frame_total = pd.DataFrame(columns=['Acc_x', 'Acc_y', 'Acc_z', 'gt', 'Person', 'Position'])\n",
    "User2_RUA_frame_total = pd.DataFrame(columns=['Acc_x', 'Acc_y', 'Acc_z', 'gt', 'Person', 'Position'])\n",
    "User2_RLA_frame_total = pd.DataFrame(columns=['Acc_x', 'Acc_y', 'Acc_z', 'gt', 'Person', 'Position'])\n",
    "User2_LUA_frame_total = pd.DataFrame(columns=['Acc_x', 'Acc_y', 'Acc_z', 'gt', 'Person', 'Position'])\n",
    "User2_LLA_frame_total = pd.DataFrame(columns=['Acc_x', 'Acc_y', 'Acc_z', 'gt', 'Person', 'Position'])\n",
    "\n",
    "User3_Back_frame_total = pd.DataFrame(columns=['Acc_x', 'Acc_y', 'Acc_z', 'gt', 'Person', 'Position'])\n",
    "User3_RUA_frame_total = pd.DataFrame(columns=['Acc_x', 'Acc_y', 'Acc_z', 'gt', 'Person', 'Position'])\n",
    "User3_RLA_frame_total = pd.DataFrame(columns=['Acc_x', 'Acc_y', 'Acc_z', 'gt', 'Person', 'Position'])\n",
    "User3_LUA_frame_total = pd.DataFrame(columns=['Acc_x', 'Acc_y', 'Acc_z', 'gt', 'Person', 'Position'])\n",
    "User3_LLA_frame_total = pd.DataFrame(columns=['Acc_x', 'Acc_y', 'Acc_z', 'gt', 'Person', 'Position'])\n",
    "\n",
    "User4_Back_frame_total = pd.DataFrame(columns=['Acc_x', 'Acc_y', 'Acc_z', 'gt', 'Person', 'Position'])\n",
    "User4_RUA_frame_total = pd.DataFrame(columns=['Acc_x', 'Acc_y', 'Acc_z', 'gt', 'Person', 'Position'])\n",
    "User4_RLA_frame_total = pd.DataFrame(columns=['Acc_x', 'Acc_y', 'Acc_z', 'gt', 'Person', 'Position'])\n",
    "User4_LUA_frame_total = pd.DataFrame(columns=['Acc_x', 'Acc_y', 'Acc_z', 'gt', 'Person', 'Position'])\n",
    "User4_LLA_frame_total = pd.DataFrame(columns=['Acc_x', 'Acc_y', 'Acc_z', 'gt', 'Person', 'Position'])"
   ]
  },
  {
   "cell_type": "code",
   "execution_count": 19,
   "metadata": {
    "ExecuteTime": {
     "end_time": "2020-07-15T19:30:47.639712Z",
     "start_time": "2020-07-15T19:30:47.189286Z"
    }
   },
   "outputs": [],
   "source": [
    "back_shape = 0\n",
    "for user_index in range(1,5):\n",
    "    for run_index in range(1,6):\n",
    "        index = (user_index * 10) + run_index\n",
    "\n",
    "        if user_index == 1:\n",
    "            User1_Back_frame_total = User1_Back_frame_total.append(BACK_frame[index], ignore_index=True)\n",
    "            User1_RUA_frame_total = User1_RUA_frame_total.append(RUA_frame[index], ignore_index=True)\n",
    "            User1_RLA_frame_total = User1_RLA_frame_total.append(RLA_frame[index], ignore_index=True)\n",
    "            User1_LUA_frame_total = User1_LUA_frame_total.append(LUA_frame[index], ignore_index=True)\n",
    "            User1_LLA_frame_total = User1_LLA_frame_total.append(LLA_frame[index], ignore_index=True)\n",
    "        elif user_index == 2:\n",
    "            User2_Back_frame_total = User2_Back_frame_total.append(BACK_frame[index], ignore_index=True)\n",
    "            User2_RUA_frame_total = User2_RUA_frame_total.append(RUA_frame[index], ignore_index=True)\n",
    "            User2_RLA_frame_total = User2_RLA_frame_total.append(RLA_frame[index], ignore_index=True)\n",
    "            User2_LUA_frame_total = User2_LUA_frame_total.append(LUA_frame[index], ignore_index=True)\n",
    "            User2_LLA_frame_total = User2_LLA_frame_total.append(LLA_frame[index], ignore_index=True)\n",
    "        elif user_index == 3:\n",
    "            User3_Back_frame_total = User3_Back_frame_total.append(BACK_frame[index], ignore_index=True)\n",
    "            User3_RUA_frame_total = User3_RUA_frame_total.append(RUA_frame[index], ignore_index=True)\n",
    "            User3_RLA_frame_total = User3_RLA_frame_total.append(RLA_frame[index], ignore_index=True)\n",
    "            User3_LUA_frame_total = User3_LUA_frame_total.append(LUA_frame[index], ignore_index=True)\n",
    "            User3_LLA_frame_total = User3_LLA_frame_total.append(LLA_frame[index], ignore_index=True)\n",
    "        elif user_index == 4:\n",
    "            User4_Back_frame_total = User4_Back_frame_total.append(BACK_frame[index], ignore_index=True)\n",
    "            User4_RUA_frame_total = User4_RUA_frame_total.append(RUA_frame[index], ignore_index=True)\n",
    "            User4_RLA_frame_total = User4_RLA_frame_total.append(RLA_frame[index], ignore_index=True)\n",
    "            User4_LUA_frame_total = User4_LUA_frame_total.append(LUA_frame[index], ignore_index=True)\n",
    "            User4_LLA_frame_total = User4_LLA_frame_total.append(LLA_frame[index], ignore_index=True)"
   ]
  },
  {
   "cell_type": "code",
   "execution_count": 20,
   "metadata": {
    "ExecuteTime": {
     "end_time": "2020-07-15T19:30:47.733523Z",
     "start_time": "2020-07-15T19:30:47.641234Z"
    }
   },
   "outputs": [
    {
     "data": {
      "text/plain": [
       "array([1, 2, 4, 5], dtype=object)"
      ]
     },
     "execution_count": 20,
     "metadata": {},
     "output_type": "execute_result"
    }
   ],
   "source": [
    "np.unique(User1_Back_frame_total['gt'])"
   ]
  },
  {
   "cell_type": "markdown",
   "metadata": {},
   "source": [
    "#### User 1 - Label Mapping"
   ]
  },
  {
   "cell_type": "code",
   "execution_count": 21,
   "metadata": {
    "ExecuteTime": {
     "end_time": "2020-07-15T19:30:47.886204Z",
     "start_time": "2020-07-15T19:30:47.735158Z"
    }
   },
   "outputs": [],
   "source": [
    "User1_Back_frame_total.replace({'gt' : { 1:100, 2:200, 4:400, 5:500}}, inplace = True)\n",
    "User1_Back_frame_total.replace({'gt' : { 100:1, 200:3, 400:0, 500:2}}, inplace = True)\n",
    "\n",
    "User1_RUA_frame_total.replace({'gt' : { 1:100, 2:200, 4:400, 5:500}}, inplace = True)\n",
    "User1_RUA_frame_total.replace({'gt' : { 100:1, 200:3, 400:0, 500:2}}, inplace = True)\n",
    "\n",
    "User1_RLA_frame_total.replace({'gt' : { 1:100, 2:200, 4:400, 5:500}}, inplace = True)\n",
    "User1_RLA_frame_total.replace({'gt' : { 100:1, 200:3, 400:0, 500:2}}, inplace = True)\n",
    "\n",
    "User1_LUA_frame_total.replace({'gt' : { 1:100, 2:200, 4:400, 5:500}}, inplace = True)\n",
    "User1_LUA_frame_total.replace({'gt' : { 100:1, 200:3, 400:0, 500:2}}, inplace = True)\n",
    "\n",
    "User1_LLA_frame_total.replace({'gt' : { 1:100, 2:200, 4:400, 5:500}}, inplace = True)\n",
    "User1_LLA_frame_total.replace({'gt' : { 100:1, 200:3, 400:0, 500:2}}, inplace = True)"
   ]
  },
  {
   "cell_type": "code",
   "execution_count": 22,
   "metadata": {
    "ExecuteTime": {
     "end_time": "2020-07-15T19:30:47.899042Z",
     "start_time": "2020-07-15T19:30:47.889505Z"
    },
    "scrolled": true
   },
   "outputs": [
    {
     "data": {
      "text/plain": [
       "array([0, 1, 2, 3])"
      ]
     },
     "execution_count": 22,
     "metadata": {},
     "output_type": "execute_result"
    }
   ],
   "source": [
    "np.unique(User1_LLA_frame_total['gt'])"
   ]
  },
  {
   "cell_type": "markdown",
   "metadata": {},
   "source": [
    "#### User 2 - Label Mapping"
   ]
  },
  {
   "cell_type": "code",
   "execution_count": 23,
   "metadata": {
    "ExecuteTime": {
     "end_time": "2020-07-15T19:30:48.044887Z",
     "start_time": "2020-07-15T19:30:47.900431Z"
    }
   },
   "outputs": [],
   "source": [
    "User2_Back_frame_total.replace({'gt' : { 1:100, 2:200, 4:400, 5:500}}, inplace = True)\n",
    "User2_Back_frame_total.replace({'gt' : { 100:1, 200:3, 400:0, 500:2}}, inplace = True)\n",
    "\n",
    "User2_RUA_frame_total.replace({'gt' : { 1:100, 2:200, 4:400, 5:500}}, inplace = True)\n",
    "User2_RUA_frame_total.replace({'gt' : { 100:1, 200:3, 400:0, 500:2}}, inplace = True)\n",
    "\n",
    "User2_RLA_frame_total.replace({'gt' : { 1:100, 2:200, 4:400, 5:500}}, inplace = True)\n",
    "User2_RLA_frame_total.replace({'gt' : { 100:1, 200:3, 400:0, 500:2}}, inplace = True)\n",
    "\n",
    "User2_LUA_frame_total.replace({'gt' : { 1:100, 2:200, 4:400, 5:500}}, inplace = True)\n",
    "User2_LUA_frame_total.replace({'gt' : { 100:1, 200:3, 400:0, 500:2}}, inplace = True)\n",
    "\n",
    "User2_LLA_frame_total.replace({'gt' : { 1:100, 2:200, 4:400, 5:500}}, inplace = True)\n",
    "User2_LLA_frame_total.replace({'gt' : { 100:1, 200:3, 400:0, 500:2}}, inplace = True)"
   ]
  },
  {
   "cell_type": "markdown",
   "metadata": {},
   "source": [
    "#### User 3 - Label Mapping"
   ]
  },
  {
   "cell_type": "code",
   "execution_count": 24,
   "metadata": {
    "ExecuteTime": {
     "end_time": "2020-07-15T19:30:48.183817Z",
     "start_time": "2020-07-15T19:30:48.046685Z"
    }
   },
   "outputs": [],
   "source": [
    "User3_Back_frame_total.replace({'gt' : { 1:100, 2:200, 4:400, 5:500}}, inplace = True)\n",
    "User3_Back_frame_total.replace({'gt' : { 100:1, 200:3, 400:0, 500:2}}, inplace = True)\n",
    "\n",
    "User3_RUA_frame_total.replace({'gt' : { 1:100, 2:200, 4:400, 5:500}}, inplace = True)\n",
    "User3_RUA_frame_total.replace({'gt' : { 100:1, 200:3, 400:0, 500:2}}, inplace = True)\n",
    "\n",
    "User3_RLA_frame_total.replace({'gt' : { 1:100, 2:200, 4:400, 5:500}}, inplace = True)\n",
    "User3_RLA_frame_total.replace({'gt' : { 100:1, 200:3, 400:0, 500:2}}, inplace = True)\n",
    "\n",
    "User3_LUA_frame_total.replace({'gt' : { 1:100, 2:200, 4:400, 5:500}}, inplace = True)\n",
    "User3_LUA_frame_total.replace({'gt' : { 100:1, 200:3, 400:0, 500:2}}, inplace = True)\n",
    "\n",
    "User3_LLA_frame_total.replace({'gt' : { 1:100, 2:200, 4:400, 5:500}}, inplace = True)\n",
    "User3_LLA_frame_total.replace({'gt' : { 100:1, 200:3, 400:0, 500:2}}, inplace = True)"
   ]
  },
  {
   "cell_type": "markdown",
   "metadata": {},
   "source": [
    "#### User 4 - Label Mapping"
   ]
  },
  {
   "cell_type": "code",
   "execution_count": 25,
   "metadata": {
    "ExecuteTime": {
     "end_time": "2020-07-15T19:30:48.305217Z",
     "start_time": "2020-07-15T19:30:48.185571Z"
    }
   },
   "outputs": [],
   "source": [
    "User4_Back_frame_total.replace({'gt' : { 1:100, 2:200, 4:400, 5:500}}, inplace = True)\n",
    "User4_Back_frame_total.replace({'gt' : { 100:1, 200:3, 400:0, 500:2}}, inplace = True)\n",
    "\n",
    "User4_RUA_frame_total.replace({'gt' : { 1:100, 2:200, 4:400, 5:500}}, inplace = True)\n",
    "User4_RUA_frame_total.replace({'gt' : { 100:1, 200:3, 400:0, 500:2}}, inplace = True)\n",
    "\n",
    "User4_RLA_frame_total.replace({'gt' : { 1:100, 2:200, 4:400, 5:500}}, inplace = True)\n",
    "User4_RLA_frame_total.replace({'gt' : { 100:1, 200:3, 400:0, 500:2}}, inplace = True)\n",
    "\n",
    "User4_LUA_frame_total.replace({'gt' : { 1:100, 2:200, 4:400, 5:500}}, inplace = True)\n",
    "User4_LUA_frame_total.replace({'gt' : { 100:1, 200:3, 400:0, 500:2}}, inplace = True)\n",
    "\n",
    "User4_LLA_frame_total.replace({'gt' : { 1:100, 2:200, 4:400, 5:500}}, inplace = True)\n",
    "User4_LLA_frame_total.replace({'gt' : { 100:1, 200:3, 400:0, 500:2}}, inplace = True)"
   ]
  },
  {
   "cell_type": "markdown",
   "metadata": {},
   "source": [
    "### User Specific, Position-wise Standardization and Normalization"
   ]
  },
  {
   "cell_type": "markdown",
   "metadata": {},
   "source": [
    "#### User 1 - Back"
   ]
  },
  {
   "cell_type": "code",
   "execution_count": 26,
   "metadata": {
    "ExecuteTime": {
     "end_time": "2020-07-15T19:30:48.322770Z",
     "start_time": "2020-07-15T19:30:48.306840Z"
    }
   },
   "outputs": [],
   "source": [
    "person_gt = np.array(User1_Back_frame_total['Person'])\n",
    "gt = np.array(User1_Back_frame_total['gt'])\n",
    "position_gt = np.array(User1_Back_frame_total['Position'])\n",
    "\n",
    "User1_Back_frame_total.drop(['Person','gt','Position'], axis=1, inplace=True)\n",
    "column_name = User1_Back_frame_total.columns\n",
    "\n",
    "np_scaled = standardization_and_normalization(User1_Back_frame_total)\n",
    "User1_Back_frame_total = pd.DataFrame(np_scaled, columns=column_name)\n",
    "\n",
    "User1_Back_frame_total[\"Person\"] = person_gt\n",
    "User1_Back_frame_total[\"gt\"] = gt\n",
    "User1_Back_frame_total[\"Position\"] = position_gt\n"
   ]
  },
  {
   "cell_type": "code",
   "execution_count": 27,
   "metadata": {
    "ExecuteTime": {
     "end_time": "2020-07-15T19:30:48.332506Z",
     "start_time": "2020-07-15T19:30:48.327974Z"
    }
   },
   "outputs": [
    {
     "data": {
      "text/plain": [
       "array([0, 1, 2, 3])"
      ]
     },
     "execution_count": 27,
     "metadata": {},
     "output_type": "execute_result"
    }
   ],
   "source": [
    "np.unique(User1_Back_frame_total['gt'])"
   ]
  },
  {
   "cell_type": "code",
   "execution_count": 28,
   "metadata": {
    "ExecuteTime": {
     "end_time": "2020-07-15T19:30:48.440335Z",
     "start_time": "2020-07-15T19:30:48.335078Z"
    }
   },
   "outputs": [
    {
     "data": {
      "text/plain": [
       "array([1], dtype=object)"
      ]
     },
     "execution_count": 28,
     "metadata": {},
     "output_type": "execute_result"
    }
   ],
   "source": [
    "np.unique(User1_Back_frame_total['Person'])"
   ]
  },
  {
   "cell_type": "code",
   "execution_count": 29,
   "metadata": {
    "ExecuteTime": {
     "end_time": "2020-07-15T19:30:48.547631Z",
     "start_time": "2020-07-15T19:30:48.445086Z"
    }
   },
   "outputs": [
    {
     "data": {
      "text/plain": [
       "array(['Back'], dtype=object)"
      ]
     },
     "execution_count": 29,
     "metadata": {},
     "output_type": "execute_result"
    }
   ],
   "source": [
    "np.unique(User1_Back_frame_total['Position'])"
   ]
  },
  {
   "cell_type": "markdown",
   "metadata": {},
   "source": [
    "#### User 2 - Back"
   ]
  },
  {
   "cell_type": "code",
   "execution_count": 30,
   "metadata": {
    "ExecuteTime": {
     "end_time": "2020-07-15T19:30:48.576841Z",
     "start_time": "2020-07-15T19:30:48.548889Z"
    }
   },
   "outputs": [],
   "source": [
    "person_gt = np.array(User2_Back_frame_total['Person'])\n",
    "gt = np.array(User2_Back_frame_total['gt'])\n",
    "position_gt = np.array(User2_Back_frame_total['Position'])\n",
    "\n",
    "User2_Back_frame_total.drop(['Person','gt','Position'], axis=1, inplace=True)\n",
    "column_name = User2_Back_frame_total.columns\n",
    "\n",
    "np_scaled = standardization_and_normalization(User2_Back_frame_total)\n",
    "User2_Back_frame_total = pd.DataFrame(np_scaled, columns=column_name)\n",
    "\n",
    "User2_Back_frame_total[\"Person\"] = person_gt\n",
    "User2_Back_frame_total[\"gt\"] = gt\n",
    "User2_Back_frame_total[\"Position\"] = position_gt"
   ]
  },
  {
   "cell_type": "markdown",
   "metadata": {},
   "source": [
    "#### User 3 - Back"
   ]
  },
  {
   "cell_type": "code",
   "execution_count": 31,
   "metadata": {
    "ExecuteTime": {
     "end_time": "2020-07-15T19:30:48.593998Z",
     "start_time": "2020-07-15T19:30:48.578188Z"
    }
   },
   "outputs": [],
   "source": [
    "person_gt = np.array(User3_Back_frame_total['Person'])\n",
    "gt = np.array(User3_Back_frame_total['gt'])\n",
    "position_gt = np.array(User3_Back_frame_total['Position'])\n",
    "\n",
    "User3_Back_frame_total.drop(['Person','gt','Position'], axis=1, inplace=True)\n",
    "column_name = User3_Back_frame_total.columns\n",
    "\n",
    "np_scaled = standardization_and_normalization(User3_Back_frame_total)\n",
    "User3_Back_frame_total = pd.DataFrame(np_scaled, columns=column_name)\n",
    "\n",
    "User3_Back_frame_total[\"Person\"] = person_gt\n",
    "User3_Back_frame_total[\"gt\"] = gt\n",
    "User3_Back_frame_total[\"Position\"] = position_gt"
   ]
  },
  {
   "cell_type": "markdown",
   "metadata": {},
   "source": [
    "#### User 4 - Back"
   ]
  },
  {
   "cell_type": "code",
   "execution_count": 32,
   "metadata": {
    "ExecuteTime": {
     "end_time": "2020-07-15T19:30:48.610328Z",
     "start_time": "2020-07-15T19:30:48.595319Z"
    }
   },
   "outputs": [],
   "source": [
    "person_gt = np.array(User4_Back_frame_total['Person'])\n",
    "gt = np.array(User4_Back_frame_total['gt'])\n",
    "position_gt = np.array(User4_Back_frame_total['Position'])\n",
    "\n",
    "User4_Back_frame_total.drop(['Person','gt','Position'], axis=1, inplace=True)\n",
    "column_name = User4_Back_frame_total.columns\n",
    "\n",
    "np_scaled = standardization_and_normalization(User4_Back_frame_total)\n",
    "User4_Back_frame_total = pd.DataFrame(np_scaled, columns=column_name)\n",
    "\n",
    "User4_Back_frame_total[\"Person\"] = person_gt\n",
    "User4_Back_frame_total[\"gt\"] = gt\n",
    "User4_Back_frame_total[\"Position\"] = position_gt"
   ]
  },
  {
   "cell_type": "code",
   "execution_count": 33,
   "metadata": {
    "ExecuteTime": {
     "end_time": "2020-07-15T19:30:48.620922Z",
     "start_time": "2020-07-15T19:30:48.611669Z"
    }
   },
   "outputs": [
    {
     "data": {
      "text/html": [
       "<div>\n",
       "<style scoped>\n",
       "    .dataframe tbody tr th:only-of-type {\n",
       "        vertical-align: middle;\n",
       "    }\n",
       "\n",
       "    .dataframe tbody tr th {\n",
       "        vertical-align: top;\n",
       "    }\n",
       "\n",
       "    .dataframe thead th {\n",
       "        text-align: right;\n",
       "    }\n",
       "</style>\n",
       "<table border=\"1\" class=\"dataframe\">\n",
       "  <thead>\n",
       "    <tr style=\"text-align: right;\">\n",
       "      <th></th>\n",
       "      <th>Acc_x</th>\n",
       "      <th>Acc_y</th>\n",
       "      <th>Acc_z</th>\n",
       "      <th>Person</th>\n",
       "      <th>gt</th>\n",
       "      <th>Position</th>\n",
       "    </tr>\n",
       "  </thead>\n",
       "  <tbody>\n",
       "    <tr>\n",
       "      <th>0</th>\n",
       "      <td>-0.310155</td>\n",
       "      <td>0.741453</td>\n",
       "      <td>-0.157912</td>\n",
       "      <td>4</td>\n",
       "      <td>3</td>\n",
       "      <td>Back</td>\n",
       "    </tr>\n",
       "    <tr>\n",
       "      <th>1</th>\n",
       "      <td>-0.456045</td>\n",
       "      <td>0.732549</td>\n",
       "      <td>-0.129991</td>\n",
       "      <td>4</td>\n",
       "      <td>3</td>\n",
       "      <td>Back</td>\n",
       "    </tr>\n",
       "    <tr>\n",
       "      <th>2</th>\n",
       "      <td>-0.506937</td>\n",
       "      <td>0.759261</td>\n",
       "      <td>-0.166288</td>\n",
       "      <td>4</td>\n",
       "      <td>3</td>\n",
       "      <td>Back</td>\n",
       "    </tr>\n",
       "    <tr>\n",
       "      <th>3</th>\n",
       "      <td>-0.540865</td>\n",
       "      <td>0.759261</td>\n",
       "      <td>-0.191417</td>\n",
       "      <td>4</td>\n",
       "      <td>3</td>\n",
       "      <td>Back</td>\n",
       "    </tr>\n",
       "    <tr>\n",
       "      <th>4</th>\n",
       "      <td>-0.568007</td>\n",
       "      <td>0.719193</td>\n",
       "      <td>-0.222129</td>\n",
       "      <td>4</td>\n",
       "      <td>3</td>\n",
       "      <td>Back</td>\n",
       "    </tr>\n",
       "  </tbody>\n",
       "</table>\n",
       "</div>"
      ],
      "text/plain": [
       "      Acc_x     Acc_y     Acc_z Person  gt Position\n",
       "0 -0.310155  0.741453 -0.157912      4   3     Back\n",
       "1 -0.456045  0.732549 -0.129991      4   3     Back\n",
       "2 -0.506937  0.759261 -0.166288      4   3     Back\n",
       "3 -0.540865  0.759261 -0.191417      4   3     Back\n",
       "4 -0.568007  0.719193 -0.222129      4   3     Back"
      ]
     },
     "execution_count": 33,
     "metadata": {},
     "output_type": "execute_result"
    }
   ],
   "source": [
    "User4_Back_frame_total.head()"
   ]
  },
  {
   "cell_type": "code",
   "execution_count": 34,
   "metadata": {
    "ExecuteTime": {
     "end_time": "2020-07-15T19:30:48.634134Z",
     "start_time": "2020-07-15T19:30:48.622417Z"
    }
   },
   "outputs": [
    {
     "data": {
      "text/plain": [
       "4.755277182226516"
      ]
     },
     "execution_count": 34,
     "metadata": {},
     "output_type": "execute_result"
    }
   ],
   "source": [
    "np.max(User4_Back_frame_total['Acc_x'])"
   ]
  },
  {
   "cell_type": "markdown",
   "metadata": {},
   "source": [
    "#### User1-RUA"
   ]
  },
  {
   "cell_type": "code",
   "execution_count": 35,
   "metadata": {
    "ExecuteTime": {
     "end_time": "2020-07-15T19:30:48.658427Z",
     "start_time": "2020-07-15T19:30:48.635990Z"
    }
   },
   "outputs": [],
   "source": [
    "person_gt = np.array(User1_RUA_frame_total['Person'])\n",
    "gt = np.array(User1_RUA_frame_total['gt'])\n",
    "position_gt = np.array(User1_RUA_frame_total['Position'])\n",
    "\n",
    "User1_RUA_frame_total.drop(['Person','gt','Position'], axis=1, inplace=True)\n",
    "column_name = User1_RUA_frame_total.columns\n",
    "\n",
    "np_scaled = standardization_and_normalization(User1_RUA_frame_total)\n",
    "User1_RUA_frame_total = pd.DataFrame(np_scaled, columns=column_name)\n",
    "\n",
    "User1_RUA_frame_total[\"Person\"] = person_gt\n",
    "User1_RUA_frame_total[\"gt\"] = gt\n",
    "User1_RUA_frame_total[\"Position\"] = position_gt"
   ]
  },
  {
   "cell_type": "markdown",
   "metadata": {},
   "source": [
    "#### User2 - RUA"
   ]
  },
  {
   "cell_type": "code",
   "execution_count": 36,
   "metadata": {
    "ExecuteTime": {
     "end_time": "2020-07-15T19:30:48.676314Z",
     "start_time": "2020-07-15T19:30:48.660037Z"
    }
   },
   "outputs": [],
   "source": [
    "person_gt = np.array(User2_RUA_frame_total['Person'])\n",
    "gt = np.array(User2_RUA_frame_total['gt'])\n",
    "position_gt = np.array(User2_RUA_frame_total['Position'])\n",
    "\n",
    "User2_RUA_frame_total.drop(['Person','gt','Position'], axis=1, inplace=True)\n",
    "column_name = User2_RUA_frame_total.columns\n",
    "\n",
    "np_scaled = standardization_and_normalization(User2_RUA_frame_total)\n",
    "User2_RUA_frame_total = pd.DataFrame(np_scaled, columns=column_name)\n",
    "\n",
    "User2_RUA_frame_total[\"Person\"] = person_gt\n",
    "User2_RUA_frame_total[\"gt\"] = gt\n",
    "User2_RUA_frame_total[\"Position\"] = position_gt"
   ]
  },
  {
   "cell_type": "markdown",
   "metadata": {},
   "source": [
    "#### User3 - RUA"
   ]
  },
  {
   "cell_type": "code",
   "execution_count": 37,
   "metadata": {
    "ExecuteTime": {
     "end_time": "2020-07-15T19:30:48.694579Z",
     "start_time": "2020-07-15T19:30:48.677729Z"
    }
   },
   "outputs": [],
   "source": [
    "person_gt = np.array(User3_RUA_frame_total['Person'])\n",
    "gt = np.array(User3_RUA_frame_total['gt'])\n",
    "position_gt = np.array(User3_RUA_frame_total['Position'])\n",
    "\n",
    "User3_RUA_frame_total.drop(['Person','gt','Position'], axis=1, inplace=True)\n",
    "column_name = User3_RUA_frame_total.columns\n",
    "\n",
    "np_scaled = standardization_and_normalization(User3_RUA_frame_total)\n",
    "User3_RUA_frame_total = pd.DataFrame(np_scaled, columns=column_name)\n",
    "\n",
    "User3_RUA_frame_total[\"Person\"] = person_gt\n",
    "User3_RUA_frame_total[\"gt\"] = gt\n",
    "User3_RUA_frame_total[\"Position\"] = position_gt"
   ]
  },
  {
   "cell_type": "markdown",
   "metadata": {},
   "source": [
    "#### USer4 - RUA"
   ]
  },
  {
   "cell_type": "code",
   "execution_count": 38,
   "metadata": {
    "ExecuteTime": {
     "end_time": "2020-07-15T19:30:48.711555Z",
     "start_time": "2020-07-15T19:30:48.696303Z"
    }
   },
   "outputs": [],
   "source": [
    "person_gt = np.array(User4_RUA_frame_total['Person'])\n",
    "gt = np.array(User4_RUA_frame_total['gt'])\n",
    "position_gt = np.array(User4_RUA_frame_total['Position'])\n",
    "\n",
    "User4_RUA_frame_total.drop(['Person','gt','Position'], axis=1, inplace=True)\n",
    "column_name = User4_RUA_frame_total.columns\n",
    "\n",
    "np_scaled = standardization_and_normalization(User4_RUA_frame_total)\n",
    "User4_RUA_frame_total = pd.DataFrame(np_scaled, columns=column_name)\n",
    "\n",
    "User4_RUA_frame_total[\"Person\"] = person_gt\n",
    "User4_RUA_frame_total[\"gt\"] = gt\n",
    "User4_RUA_frame_total[\"Position\"] = position_gt"
   ]
  },
  {
   "cell_type": "markdown",
   "metadata": {},
   "source": [
    "#### User 1 - RLA"
   ]
  },
  {
   "cell_type": "code",
   "execution_count": 39,
   "metadata": {
    "ExecuteTime": {
     "end_time": "2020-07-15T19:30:48.730142Z",
     "start_time": "2020-07-15T19:30:48.713222Z"
    }
   },
   "outputs": [],
   "source": [
    "person_gt = np.array(User1_RLA_frame_total['Person'])\n",
    "gt = np.array(User1_RLA_frame_total['gt'])\n",
    "position_gt = np.array(User1_RLA_frame_total['Position'])\n",
    "\n",
    "User1_RLA_frame_total.drop(['Person','gt','Position'], axis=1, inplace=True)\n",
    "column_name = User1_RLA_frame_total.columns\n",
    "\n",
    "np_scaled = standardization_and_normalization(User1_RLA_frame_total)\n",
    "User1_RLA_frame_total = pd.DataFrame(np_scaled, columns=column_name)\n",
    "\n",
    "User1_RLA_frame_total[\"Person\"] = person_gt\n",
    "User1_RLA_frame_total[\"gt\"] = gt\n",
    "User1_RLA_frame_total[\"Position\"] = position_gt"
   ]
  },
  {
   "cell_type": "markdown",
   "metadata": {},
   "source": [
    "#### User 2 - RLA"
   ]
  },
  {
   "cell_type": "code",
   "execution_count": 40,
   "metadata": {
    "ExecuteTime": {
     "end_time": "2020-07-15T19:30:48.748496Z",
     "start_time": "2020-07-15T19:30:48.731946Z"
    }
   },
   "outputs": [],
   "source": [
    "person_gt = np.array(User2_RLA_frame_total['Person'])\n",
    "gt = np.array(User2_RLA_frame_total['gt'])\n",
    "position_gt = np.array(User2_RLA_frame_total['Position'])\n",
    "\n",
    "User2_RLA_frame_total.drop(['Person','gt','Position'], axis=1, inplace=True)\n",
    "column_name = User2_RLA_frame_total.columns\n",
    "\n",
    "np_scaled = standardization_and_normalization(User2_RLA_frame_total)\n",
    "User2_RLA_frame_total = pd.DataFrame(np_scaled, columns=column_name)\n",
    "\n",
    "User2_RLA_frame_total[\"Person\"] = person_gt\n",
    "User2_RLA_frame_total[\"gt\"] = gt\n",
    "User2_RLA_frame_total[\"Position\"] = position_gt"
   ]
  },
  {
   "cell_type": "markdown",
   "metadata": {},
   "source": [
    "#### User 3 - RLA"
   ]
  },
  {
   "cell_type": "code",
   "execution_count": 41,
   "metadata": {
    "ExecuteTime": {
     "end_time": "2020-07-15T19:30:48.766646Z",
     "start_time": "2020-07-15T19:30:48.750132Z"
    }
   },
   "outputs": [],
   "source": [
    "person_gt = np.array(User3_RLA_frame_total['Person'])\n",
    "gt = np.array(User3_RLA_frame_total['gt'])\n",
    "position_gt = np.array(User3_RLA_frame_total['Position'])\n",
    "\n",
    "User3_RLA_frame_total.drop(['Person','gt','Position'], axis=1, inplace=True)\n",
    "column_name = User3_RLA_frame_total.columns\n",
    "\n",
    "np_scaled = standardization_and_normalization(User3_RLA_frame_total)\n",
    "User3_RLA_frame_total = pd.DataFrame(np_scaled, columns=column_name)\n",
    "\n",
    "User3_RLA_frame_total[\"Person\"] = person_gt\n",
    "User3_RLA_frame_total[\"gt\"] = gt\n",
    "User3_RLA_frame_total[\"Position\"] = position_gt"
   ]
  },
  {
   "cell_type": "markdown",
   "metadata": {},
   "source": [
    "#### User 4 - RLA"
   ]
  },
  {
   "cell_type": "code",
   "execution_count": 42,
   "metadata": {
    "ExecuteTime": {
     "end_time": "2020-07-15T19:30:48.785977Z",
     "start_time": "2020-07-15T19:30:48.768781Z"
    }
   },
   "outputs": [],
   "source": [
    "person_gt = np.array(User4_RLA_frame_total['Person'])\n",
    "gt = np.array(User4_RLA_frame_total['gt'])\n",
    "position_gt = np.array(User4_RLA_frame_total['Position'])\n",
    "\n",
    "User4_RLA_frame_total.drop(['Person','gt','Position'], axis=1, inplace=True)\n",
    "column_name = User4_RLA_frame_total.columns\n",
    "\n",
    "np_scaled = standardization_and_normalization(User4_RLA_frame_total)\n",
    "User4_RLA_frame_total = pd.DataFrame(np_scaled, columns=column_name)\n",
    "\n",
    "User4_RLA_frame_total[\"Person\"] = person_gt\n",
    "User4_RLA_frame_total[\"gt\"] = gt\n",
    "User4_RLA_frame_total[\"Position\"] = position_gt"
   ]
  },
  {
   "cell_type": "markdown",
   "metadata": {},
   "source": [
    "#### User 1 - LUA"
   ]
  },
  {
   "cell_type": "code",
   "execution_count": 43,
   "metadata": {
    "ExecuteTime": {
     "end_time": "2020-07-15T19:30:48.803516Z",
     "start_time": "2020-07-15T19:30:48.787343Z"
    }
   },
   "outputs": [],
   "source": [
    "person_gt = np.array(User1_LUA_frame_total['Person'])\n",
    "gt = np.array(User1_LUA_frame_total['gt'])\n",
    "position_gt = np.array(User1_LUA_frame_total['Position'])\n",
    "\n",
    "User1_LUA_frame_total.drop(['Person','gt','Position'], axis=1, inplace=True)\n",
    "column_name = User1_LUA_frame_total.columns\n",
    "\n",
    "np_scaled = standardization_and_normalization(User1_LUA_frame_total)\n",
    "User1_LUA_frame_total = pd.DataFrame(np_scaled, columns=column_name)\n",
    "\n",
    "User1_LUA_frame_total[\"Person\"] = person_gt\n",
    "User1_LUA_frame_total[\"gt\"] = gt\n",
    "User1_LUA_frame_total[\"Position\"] = position_gt"
   ]
  },
  {
   "cell_type": "markdown",
   "metadata": {},
   "source": [
    "#### User 2 - LUA"
   ]
  },
  {
   "cell_type": "code",
   "execution_count": 44,
   "metadata": {
    "ExecuteTime": {
     "end_time": "2020-07-15T19:30:48.820720Z",
     "start_time": "2020-07-15T19:30:48.804943Z"
    }
   },
   "outputs": [],
   "source": [
    "person_gt = np.array(User2_LUA_frame_total['Person'])\n",
    "gt = np.array(User2_LUA_frame_total['gt'])\n",
    "position_gt = np.array(User2_LUA_frame_total['Position'])\n",
    "\n",
    "User2_LUA_frame_total.drop(['Person','gt','Position'], axis=1, inplace=True)\n",
    "column_name = User2_LUA_frame_total.columns\n",
    "\n",
    "np_scaled = standardization_and_normalization(User2_LUA_frame_total)\n",
    "User2_LUA_frame_total = pd.DataFrame(np_scaled, columns=column_name)\n",
    "\n",
    "User2_LUA_frame_total[\"Person\"] = person_gt\n",
    "User2_LUA_frame_total[\"gt\"] = gt\n",
    "User2_LUA_frame_total[\"Position\"] = position_gt"
   ]
  },
  {
   "cell_type": "markdown",
   "metadata": {},
   "source": [
    "#### User 3 - LUA"
   ]
  },
  {
   "cell_type": "code",
   "execution_count": 45,
   "metadata": {
    "ExecuteTime": {
     "end_time": "2020-07-15T19:30:48.838342Z",
     "start_time": "2020-07-15T19:30:48.822133Z"
    }
   },
   "outputs": [],
   "source": [
    "person_gt = np.array(User3_LUA_frame_total['Person'])\n",
    "gt = np.array(User3_LUA_frame_total['gt'])\n",
    "position_gt = np.array(User3_LUA_frame_total['Position'])\n",
    "\n",
    "User3_LUA_frame_total.drop(['Person','gt','Position'], axis=1, inplace=True)\n",
    "column_name = User3_LUA_frame_total.columns\n",
    "\n",
    "np_scaled = standardization_and_normalization(User3_LUA_frame_total)\n",
    "User3_LUA_frame_total = pd.DataFrame(np_scaled, columns=column_name)\n",
    "\n",
    "User3_LUA_frame_total[\"Person\"] = person_gt\n",
    "User3_LUA_frame_total[\"gt\"] = gt\n",
    "User3_LUA_frame_total[\"Position\"] = position_gt"
   ]
  },
  {
   "cell_type": "markdown",
   "metadata": {},
   "source": [
    "#### User 4 - LUA"
   ]
  },
  {
   "cell_type": "code",
   "execution_count": 46,
   "metadata": {
    "ExecuteTime": {
     "end_time": "2020-07-15T19:30:48.854742Z",
     "start_time": "2020-07-15T19:30:48.839807Z"
    }
   },
   "outputs": [],
   "source": [
    "person_gt = np.array(User4_LUA_frame_total['Person'])\n",
    "gt = np.array(User4_LUA_frame_total['gt'])\n",
    "position_gt = np.array(User4_LUA_frame_total['Position'])\n",
    "\n",
    "User4_LUA_frame_total.drop(['Person','gt','Position'], axis=1, inplace=True)\n",
    "column_name = User4_LUA_frame_total.columns\n",
    "\n",
    "np_scaled = standardization_and_normalization(User4_LUA_frame_total)\n",
    "User4_LUA_frame_total = pd.DataFrame(np_scaled, columns=column_name)\n",
    "\n",
    "User4_LUA_frame_total[\"Person\"] = person_gt\n",
    "User4_LUA_frame_total[\"gt\"] = gt\n",
    "User4_LUA_frame_total[\"Position\"] = position_gt"
   ]
  },
  {
   "cell_type": "markdown",
   "metadata": {},
   "source": [
    "#### User 1 - LLA"
   ]
  },
  {
   "cell_type": "code",
   "execution_count": 47,
   "metadata": {
    "ExecuteTime": {
     "end_time": "2020-07-15T19:30:48.872986Z",
     "start_time": "2020-07-15T19:30:48.856444Z"
    }
   },
   "outputs": [],
   "source": [
    "person_gt = np.array(User1_LLA_frame_total['Person'])\n",
    "gt = np.array(User1_LLA_frame_total['gt'])\n",
    "position_gt = np.array(User1_LLA_frame_total['Position'])\n",
    "\n",
    "User1_LLA_frame_total.drop(['Person','gt','Position'], axis=1, inplace=True)\n",
    "column_name = User1_LLA_frame_total.columns\n",
    "\n",
    "np_scaled = standardization_and_normalization(User1_LLA_frame_total)\n",
    "User1_LLA_frame_total = pd.DataFrame(np_scaled, columns=column_name)\n",
    "\n",
    "User1_LLA_frame_total[\"Person\"] = person_gt\n",
    "User1_LLA_frame_total[\"gt\"] = gt\n",
    "User1_LLA_frame_total[\"Position\"] = position_gt"
   ]
  },
  {
   "cell_type": "markdown",
   "metadata": {},
   "source": [
    "#### User 2 - LLA"
   ]
  },
  {
   "cell_type": "code",
   "execution_count": 48,
   "metadata": {
    "ExecuteTime": {
     "end_time": "2020-07-15T19:30:48.891050Z",
     "start_time": "2020-07-15T19:30:48.874697Z"
    }
   },
   "outputs": [],
   "source": [
    "person_gt = np.array(User2_LLA_frame_total['Person'])\n",
    "gt = np.array(User2_LLA_frame_total['gt'])\n",
    "position_gt = np.array(User2_LLA_frame_total['Position'])\n",
    "\n",
    "User2_LLA_frame_total.drop(['Person','gt','Position'], axis=1, inplace=True)\n",
    "column_name = User2_LLA_frame_total.columns\n",
    "\n",
    "np_scaled = standardization_and_normalization(User2_LLA_frame_total)\n",
    "User2_LLA_frame_total = pd.DataFrame(np_scaled, columns=column_name)\n",
    "\n",
    "User2_LLA_frame_total[\"Person\"] = person_gt\n",
    "User2_LLA_frame_total[\"gt\"] = gt\n",
    "User2_LLA_frame_total[\"Position\"] = position_gt"
   ]
  },
  {
   "cell_type": "markdown",
   "metadata": {},
   "source": [
    "#### User 3 - LLA"
   ]
  },
  {
   "cell_type": "code",
   "execution_count": 49,
   "metadata": {
    "ExecuteTime": {
     "end_time": "2020-07-15T19:30:48.908689Z",
     "start_time": "2020-07-15T19:30:48.892638Z"
    }
   },
   "outputs": [],
   "source": [
    "person_gt = np.array(User3_LLA_frame_total['Person'])\n",
    "gt = np.array(User3_LLA_frame_total['gt'])\n",
    "position_gt = np.array(User3_LLA_frame_total['Position'])\n",
    "\n",
    "User3_LLA_frame_total.drop(['Person','gt','Position'], axis=1, inplace=True)\n",
    "column_name = User3_LLA_frame_total.columns\n",
    "\n",
    "np_scaled = standardization_and_normalization(User3_LLA_frame_total)\n",
    "User3_LLA_frame_total = pd.DataFrame(np_scaled, columns=column_name)\n",
    "\n",
    "User3_LLA_frame_total[\"Person\"] = person_gt\n",
    "User3_LLA_frame_total[\"gt\"] = gt\n",
    "User3_LLA_frame_total[\"Position\"] = position_gt"
   ]
  },
  {
   "cell_type": "markdown",
   "metadata": {},
   "source": [
    "#### User 4 - LLA"
   ]
  },
  {
   "cell_type": "code",
   "execution_count": 50,
   "metadata": {
    "ExecuteTime": {
     "end_time": "2020-07-15T19:30:48.925364Z",
     "start_time": "2020-07-15T19:30:48.910251Z"
    }
   },
   "outputs": [],
   "source": [
    "person_gt = np.array(User4_LLA_frame_total['Person'])\n",
    "gt = np.array(User4_LLA_frame_total['gt'])\n",
    "position_gt = np.array(User4_LLA_frame_total['Position'])\n",
    "\n",
    "User4_LLA_frame_total.drop(['Person','gt','Position'], axis=1, inplace=True)\n",
    "column_name = User4_LLA_frame_total.columns\n",
    "\n",
    "np_scaled = standardization_and_normalization(User4_LLA_frame_total)\n",
    "User4_LLA_frame_total = pd.DataFrame(np_scaled, columns=column_name)\n",
    "\n",
    "User4_LLA_frame_total[\"Person\"] = person_gt\n",
    "User4_LLA_frame_total[\"gt\"] = gt\n",
    "User4_LLA_frame_total[\"Position\"] = position_gt"
   ]
  },
  {
   "cell_type": "code",
   "execution_count": 51,
   "metadata": {
    "ExecuteTime": {
     "end_time": "2020-07-15T19:30:48.938911Z",
     "start_time": "2020-07-15T19:30:48.926863Z"
    }
   },
   "outputs": [
    {
     "data": {
      "text/html": [
       "<div>\n",
       "<style scoped>\n",
       "    .dataframe tbody tr th:only-of-type {\n",
       "        vertical-align: middle;\n",
       "    }\n",
       "\n",
       "    .dataframe tbody tr th {\n",
       "        vertical-align: top;\n",
       "    }\n",
       "\n",
       "    .dataframe thead th {\n",
       "        text-align: right;\n",
       "    }\n",
       "</style>\n",
       "<table border=\"1\" class=\"dataframe\">\n",
       "  <thead>\n",
       "    <tr style=\"text-align: right;\">\n",
       "      <th></th>\n",
       "      <th>Acc_x</th>\n",
       "      <th>Acc_y</th>\n",
       "      <th>Acc_z</th>\n",
       "      <th>Person</th>\n",
       "      <th>gt</th>\n",
       "      <th>Position</th>\n",
       "    </tr>\n",
       "  </thead>\n",
       "  <tbody>\n",
       "    <tr>\n",
       "      <th>0</th>\n",
       "      <td>-0.893362</td>\n",
       "      <td>0.925838</td>\n",
       "      <td>-0.006136</td>\n",
       "      <td>1</td>\n",
       "      <td>1</td>\n",
       "      <td>Left Lower Arm</td>\n",
       "    </tr>\n",
       "    <tr>\n",
       "      <th>1</th>\n",
       "      <td>-0.886164</td>\n",
       "      <td>0.899430</td>\n",
       "      <td>0.009737</td>\n",
       "      <td>1</td>\n",
       "      <td>1</td>\n",
       "      <td>Left Lower Arm</td>\n",
       "    </tr>\n",
       "    <tr>\n",
       "      <th>2</th>\n",
       "      <td>-0.889763</td>\n",
       "      <td>0.914520</td>\n",
       "      <td>0.028784</td>\n",
       "      <td>1</td>\n",
       "      <td>1</td>\n",
       "      <td>Left Lower Arm</td>\n",
       "    </tr>\n",
       "    <tr>\n",
       "      <th>3</th>\n",
       "      <td>-0.887964</td>\n",
       "      <td>0.906975</td>\n",
       "      <td>0.057354</td>\n",
       "      <td>1</td>\n",
       "      <td>1</td>\n",
       "      <td>Left Lower Arm</td>\n",
       "    </tr>\n",
       "    <tr>\n",
       "      <th>4</th>\n",
       "      <td>-0.891562</td>\n",
       "      <td>0.884339</td>\n",
       "      <td>0.066878</td>\n",
       "      <td>1</td>\n",
       "      <td>1</td>\n",
       "      <td>Left Lower Arm</td>\n",
       "    </tr>\n",
       "  </tbody>\n",
       "</table>\n",
       "</div>"
      ],
      "text/plain": [
       "      Acc_x     Acc_y     Acc_z Person  gt        Position\n",
       "0 -0.893362  0.925838 -0.006136      1   1  Left Lower Arm\n",
       "1 -0.886164  0.899430  0.009737      1   1  Left Lower Arm\n",
       "2 -0.889763  0.914520  0.028784      1   1  Left Lower Arm\n",
       "3 -0.887964  0.906975  0.057354      1   1  Left Lower Arm\n",
       "4 -0.891562  0.884339  0.066878      1   1  Left Lower Arm"
      ]
     },
     "execution_count": 51,
     "metadata": {},
     "output_type": "execute_result"
    }
   ],
   "source": [
    "User1_LLA_frame_total.head()"
   ]
  },
  {
   "cell_type": "code",
   "execution_count": 52,
   "metadata": {
    "ExecuteTime": {
     "end_time": "2020-07-15T19:30:48.960874Z",
     "start_time": "2020-07-15T19:30:48.940291Z"
    }
   },
   "outputs": [
    {
     "data": {
      "text/html": [
       "<div>\n",
       "<style scoped>\n",
       "    .dataframe tbody tr th:only-of-type {\n",
       "        vertical-align: middle;\n",
       "    }\n",
       "\n",
       "    .dataframe tbody tr th {\n",
       "        vertical-align: top;\n",
       "    }\n",
       "\n",
       "    .dataframe thead th {\n",
       "        text-align: right;\n",
       "    }\n",
       "</style>\n",
       "<table border=\"1\" class=\"dataframe\">\n",
       "  <thead>\n",
       "    <tr style=\"text-align: right;\">\n",
       "      <th></th>\n",
       "      <th>Acc_x</th>\n",
       "      <th>Acc_y</th>\n",
       "      <th>Acc_z</th>\n",
       "      <th>Person</th>\n",
       "      <th>gt</th>\n",
       "      <th>Position</th>\n",
       "    </tr>\n",
       "  </thead>\n",
       "  <tbody>\n",
       "    <tr>\n",
       "      <th>134608</th>\n",
       "      <td>-0.819586</td>\n",
       "      <td>0.865476</td>\n",
       "      <td>-0.069626</td>\n",
       "      <td>1</td>\n",
       "      <td>3</td>\n",
       "      <td>Left Lower Arm</td>\n",
       "    </tr>\n",
       "    <tr>\n",
       "      <th>134609</th>\n",
       "      <td>-0.819586</td>\n",
       "      <td>1.050334</td>\n",
       "      <td>-0.114069</td>\n",
       "      <td>1</td>\n",
       "      <td>3</td>\n",
       "      <td>Left Lower Arm</td>\n",
       "    </tr>\n",
       "    <tr>\n",
       "      <th>134610</th>\n",
       "      <td>-0.862772</td>\n",
       "      <td>1.193692</td>\n",
       "      <td>-0.199780</td>\n",
       "      <td>1</td>\n",
       "      <td>3</td>\n",
       "      <td>Left Lower Arm</td>\n",
       "    </tr>\n",
       "    <tr>\n",
       "      <th>134611</th>\n",
       "      <td>-0.931150</td>\n",
       "      <td>1.163512</td>\n",
       "      <td>-0.250573</td>\n",
       "      <td>1</td>\n",
       "      <td>3</td>\n",
       "      <td>Left Lower Arm</td>\n",
       "    </tr>\n",
       "    <tr>\n",
       "      <th>134612</th>\n",
       "      <td>-1.746288</td>\n",
       "      <td>1.205010</td>\n",
       "      <td>-0.434694</td>\n",
       "      <td>1</td>\n",
       "      <td>3</td>\n",
       "      <td>Left Lower Arm</td>\n",
       "    </tr>\n",
       "  </tbody>\n",
       "</table>\n",
       "</div>"
      ],
      "text/plain": [
       "           Acc_x     Acc_y     Acc_z Person  gt        Position\n",
       "134608 -0.819586  0.865476 -0.069626      1   3  Left Lower Arm\n",
       "134609 -0.819586  1.050334 -0.114069      1   3  Left Lower Arm\n",
       "134610 -0.862772  1.193692 -0.199780      1   3  Left Lower Arm\n",
       "134611 -0.931150  1.163512 -0.250573      1   3  Left Lower Arm\n",
       "134612 -1.746288  1.205010 -0.434694      1   3  Left Lower Arm"
      ]
     },
     "execution_count": 52,
     "metadata": {},
     "output_type": "execute_result"
    }
   ],
   "source": [
    "User1_LLA_frame_total.tail()"
   ]
  },
  {
   "cell_type": "markdown",
   "metadata": {},
   "source": [
    "## Train-Valid-Test Split"
   ]
  },
  {
   "cell_type": "markdown",
   "metadata": {},
   "source": [
    "#### User 1"
   ]
  },
  {
   "cell_type": "code",
   "execution_count": 53,
   "metadata": {
    "ExecuteTime": {
     "end_time": "2020-07-15T19:30:48.978991Z",
     "start_time": "2020-07-15T19:30:48.962768Z"
    }
   },
   "outputs": [],
   "source": [
    "activity_set = np.unique(User1_Back_frame_total['gt'])\n",
    "total_activity = len(np.unique(User1_Back_frame_total['gt']))"
   ]
  },
  {
   "cell_type": "code",
   "execution_count": 54,
   "metadata": {
    "ExecuteTime": {
     "end_time": "2020-07-15T19:30:48.985433Z",
     "start_time": "2020-07-15T19:30:48.981420Z"
    }
   },
   "outputs": [
    {
     "data": {
      "text/plain": [
       "4"
      ]
     },
     "execution_count": 54,
     "metadata": {},
     "output_type": "execute_result"
    }
   ],
   "source": [
    "total_activity"
   ]
  },
  {
   "cell_type": "code",
   "execution_count": 55,
   "metadata": {
    "ExecuteTime": {
     "end_time": "2020-07-15T19:30:48.996904Z",
     "start_time": "2020-07-15T19:30:48.986777Z"
    }
   },
   "outputs": [
    {
     "data": {
      "text/plain": [
       "array([0, 1, 2, 3])"
      ]
     },
     "execution_count": 55,
     "metadata": {},
     "output_type": "execute_result"
    }
   ],
   "source": [
    "activity_set"
   ]
  },
  {
   "cell_type": "code",
   "execution_count": 56,
   "metadata": {
    "ExecuteTime": {
     "end_time": "2020-07-15T19:30:50.010523Z",
     "start_time": "2020-07-15T19:30:48.998621Z"
    }
   },
   "outputs": [],
   "source": [
    "user1_back_train = pd.DataFrame(columns=['Acc_x', 'Acc_y', 'Acc_z', 'gt', 'Person', 'Position'])\n",
    "user1_back_valid = pd.DataFrame(columns=['Acc_x', 'Acc_y', 'Acc_z', 'gt', 'Person', 'Position'])\n",
    "user1_back_test = pd.DataFrame(columns=['Acc_x', 'Acc_y', 'Acc_z', 'gt', 'Person', 'Position'])\n",
    "for activity_index in range(0, total_activity):\n",
    "    \n",
    "    activity_frame = User1_Back_frame_total[User1_Back_frame_total['gt'] == activity_set[activity_index]]\n",
    "\n",
    "    train_upto = int(activity_frame.shape[0]*train_percentage)    \n",
    "    valid_upto = int(activity_frame.shape[0]*valid_percentage)  \n",
    "        \n",
    "    train = activity_frame[0:train_upto].copy()\n",
    "    valid = activity_frame[train_upto+1 : train_upto+valid_upto].copy()\n",
    "    test = activity_frame[train_upto+valid_upto+1 : activity_frame.shape[0]].copy()\n",
    "    \n",
    "    user1_back_train = user1_back_train.append(train, ignore_index=True, sort = False)\n",
    "    user1_back_valid = user1_back_valid.append(valid, ignore_index=True, sort = False)\n",
    "    user1_back_test = user1_back_test.append(test, ignore_index=True, sort = False)\n",
    "    \n",
    "user1_back_train.to_csv (save_path+'U1_BACK_train'+'.csv', index = None, header=True)\n",
    "user1_back_valid.to_csv (save_path+'U1_BACK_valid'+'.csv', index = None, header=True)\n",
    "user1_back_test.to_csv (save_path+'U1_BACK_test'+'.csv', index = None, header=True)\n",
    "\n",
    "\n",
    "# plot_activity(user1_back_train, \"Default\")\n",
    "# plot_activity(user1_back_valid, \"Default\")"
   ]
  },
  {
   "cell_type": "code",
   "execution_count": 57,
   "metadata": {
    "ExecuteTime": {
     "end_time": "2020-07-15T19:30:50.017417Z",
     "start_time": "2020-07-15T19:30:50.012337Z"
    }
   },
   "outputs": [],
   "source": [
    "activity_set = np.unique(User1_RUA_frame_total['gt'])\n",
    "total_activity = len(np.unique(User1_RUA_frame_total['gt']))"
   ]
  },
  {
   "cell_type": "code",
   "execution_count": 58,
   "metadata": {
    "ExecuteTime": {
     "end_time": "2020-07-15T19:30:50.030950Z",
     "start_time": "2020-07-15T19:30:50.018760Z"
    }
   },
   "outputs": [
    {
     "data": {
      "text/plain": [
       "4"
      ]
     },
     "execution_count": 58,
     "metadata": {},
     "output_type": "execute_result"
    }
   ],
   "source": [
    "total_activity"
   ]
  },
  {
   "cell_type": "code",
   "execution_count": 59,
   "metadata": {
    "ExecuteTime": {
     "end_time": "2020-07-15T19:30:51.014451Z",
     "start_time": "2020-07-15T19:30:50.032686Z"
    }
   },
   "outputs": [],
   "source": [
    "user1_RUA_train = pd.DataFrame(columns=['Acc_x', 'Acc_y', 'Acc_z', 'gt', 'Person', 'Position'])\n",
    "user1_RUA_valid = pd.DataFrame(columns=['Acc_x', 'Acc_y', 'Acc_z', 'gt', 'Person', 'Position'])\n",
    "user1_RUA_test = pd.DataFrame(columns=['Acc_x', 'Acc_y', 'Acc_z', 'gt', 'Person', 'Position'])\n",
    "for activity_index in range(0, total_activity):\n",
    "    activity_frame = User1_RUA_frame_total[User1_RUA_frame_total['gt'] == activity_set[activity_index]]\n",
    "    \n",
    "    train_upto = int(activity_frame.shape[0]*train_percentage)    \n",
    "    valid_upto = int(activity_frame.shape[0]*valid_percentage)  \n",
    "        \n",
    "    train = activity_frame[0:train_upto].copy()\n",
    "    valid = activity_frame[train_upto+1 : train_upto+valid_upto].copy()\n",
    "    test = activity_frame[train_upto+valid_upto+1 : activity_frame.shape[0]].copy()\n",
    "    \n",
    "    user1_RUA_train = user1_RUA_train.append(train, ignore_index=True, sort = False)\n",
    "    user1_RUA_valid = user1_RUA_valid.append(valid, ignore_index=True, sort = False)\n",
    "    user1_RUA_test = user1_RUA_test.append(test, ignore_index=True, sort = False)\n",
    "    \n",
    "user1_RUA_train.to_csv (save_path+'U1_RUA_train'+'.csv', index = None, header=True)\n",
    "user1_RUA_valid.to_csv (save_path+'U1_RUA_valid'+'.csv', index = None, header=True)\n",
    "user1_RUA_test.to_csv (save_path+'U1_RUA_test'+'.csv', index = None, header=True)"
   ]
  },
  {
   "cell_type": "code",
   "execution_count": 60,
   "metadata": {
    "ExecuteTime": {
     "end_time": "2020-07-15T19:30:51.022334Z",
     "start_time": "2020-07-15T19:30:51.016381Z"
    }
   },
   "outputs": [],
   "source": [
    "activity_set = np.unique(User1_RLA_frame_total['gt'])\n",
    "total_activity = len(np.unique(User1_RLA_frame_total['gt']))"
   ]
  },
  {
   "cell_type": "code",
   "execution_count": 61,
   "metadata": {
    "ExecuteTime": {
     "end_time": "2020-07-15T19:30:51.033857Z",
     "start_time": "2020-07-15T19:30:51.023731Z"
    }
   },
   "outputs": [
    {
     "data": {
      "text/plain": [
       "4"
      ]
     },
     "execution_count": 61,
     "metadata": {},
     "output_type": "execute_result"
    }
   ],
   "source": [
    "total_activity"
   ]
  },
  {
   "cell_type": "code",
   "execution_count": 62,
   "metadata": {
    "ExecuteTime": {
     "end_time": "2020-07-15T19:30:52.010277Z",
     "start_time": "2020-07-15T19:30:51.035788Z"
    }
   },
   "outputs": [],
   "source": [
    "user1_RLA_train = pd.DataFrame(columns=['Acc_x', 'Acc_y', 'Acc_z', 'gt', 'Person', 'Position'])\n",
    "user1_RLA_valid = pd.DataFrame(columns=['Acc_x', 'Acc_y', 'Acc_z', 'gt', 'Person', 'Position'])\n",
    "user1_RLA_test = pd.DataFrame(columns=['Acc_x', 'Acc_y', 'Acc_z', 'gt', 'Person', 'Position'])\n",
    "for activity_index in range(0, total_activity):\n",
    "    activity_frame = User1_RLA_frame_total[User1_RLA_frame_total['gt'] == activity_set[activity_index]]\n",
    "    \n",
    "    train_upto = int(activity_frame.shape[0]*train_percentage)    \n",
    "    valid_upto = int(activity_frame.shape[0]*valid_percentage)  \n",
    "        \n",
    "    train = activity_frame[0:train_upto].copy()\n",
    "    valid = activity_frame[train_upto+1 : train_upto+valid_upto].copy()\n",
    "    test = activity_frame[train_upto+valid_upto+1 : activity_frame.shape[0]].copy()\n",
    "    \n",
    "    user1_RLA_train = user1_RLA_train.append(train, ignore_index=True, sort = False)\n",
    "    user1_RLA_valid = user1_RLA_valid.append(valid, ignore_index=True, sort = False)\n",
    "    user1_RLA_test = user1_RLA_test.append(test, ignore_index=True, sort = False)\n",
    "    \n",
    "user1_RLA_train.to_csv (save_path+'U1_RLA_train'+'.csv', index = None, header=True)\n",
    "user1_RLA_valid.to_csv (save_path+'U1_RLA_valid'+'.csv', index = None, header=True)\n",
    "user1_RLA_test.to_csv (save_path+'U1_RLA_test'+'.csv', index = None, header=True)"
   ]
  },
  {
   "cell_type": "code",
   "execution_count": 63,
   "metadata": {
    "ExecuteTime": {
     "end_time": "2020-07-15T19:30:52.017333Z",
     "start_time": "2020-07-15T19:30:52.012185Z"
    }
   },
   "outputs": [],
   "source": [
    "activity_set = np.unique(User1_LUA_frame_total['gt'])\n",
    "total_activity = len(np.unique(User1_LUA_frame_total['gt']))"
   ]
  },
  {
   "cell_type": "code",
   "execution_count": 64,
   "metadata": {
    "ExecuteTime": {
     "end_time": "2020-07-15T19:30:52.030442Z",
     "start_time": "2020-07-15T19:30:52.018758Z"
    }
   },
   "outputs": [
    {
     "data": {
      "text/plain": [
       "4"
      ]
     },
     "execution_count": 64,
     "metadata": {},
     "output_type": "execute_result"
    }
   ],
   "source": [
    "total_activity"
   ]
  },
  {
   "cell_type": "code",
   "execution_count": 65,
   "metadata": {
    "ExecuteTime": {
     "end_time": "2020-07-15T19:30:53.056639Z",
     "start_time": "2020-07-15T19:30:52.033300Z"
    }
   },
   "outputs": [],
   "source": [
    "user1_LUA_train = pd.DataFrame(columns=['Acc_x', 'Acc_y', 'Acc_z', 'gt', 'Person', 'Position'])\n",
    "user1_LUA_valid = pd.DataFrame(columns=['Acc_x', 'Acc_y', 'Acc_z', 'gt', 'Person', 'Position'])\n",
    "user1_LUA_test = pd.DataFrame(columns=['Acc_x', 'Acc_y', 'Acc_z', 'gt', 'Person', 'Position'])\n",
    "for activity_index in range(0, total_activity):\n",
    "    activity_frame = User1_LUA_frame_total[User1_LUA_frame_total['gt'] == activity_set[activity_index]]\n",
    "    \n",
    "    train_upto = int(activity_frame.shape[0]*train_percentage)    \n",
    "    valid_upto = int(activity_frame.shape[0]*valid_percentage)  \n",
    "        \n",
    "    train = activity_frame[0:train_upto].copy()\n",
    "    valid = activity_frame[train_upto+1 : train_upto+valid_upto].copy()\n",
    "    test = activity_frame[train_upto+valid_upto+1 : activity_frame.shape[0]].copy()\n",
    "    \n",
    "    user1_LUA_train = user1_LUA_train.append(train, ignore_index=True, sort = False)\n",
    "    user1_LUA_valid = user1_LUA_valid.append(valid, ignore_index=True, sort = False)\n",
    "    user1_LUA_test = user1_LUA_test.append(test, ignore_index=True, sort = False)\n",
    "    \n",
    "user1_LUA_train.to_csv (save_path+'U1_LUA_train'+'.csv', index = None, header=True)\n",
    "user1_LUA_valid.to_csv (save_path+'U1_LUA_valid'+'.csv', index = None, header=True)\n",
    "user1_LUA_test.to_csv (save_path+'U1_LUA_test'+'.csv', index = None, header=True)"
   ]
  },
  {
   "cell_type": "code",
   "execution_count": 66,
   "metadata": {
    "ExecuteTime": {
     "end_time": "2020-07-15T19:30:53.062828Z",
     "start_time": "2020-07-15T19:30:53.057994Z"
    }
   },
   "outputs": [],
   "source": [
    "activity_set = np.unique(User1_LLA_frame_total['gt'])\n",
    "total_activity = len(np.unique(User1_LLA_frame_total['gt']))"
   ]
  },
  {
   "cell_type": "code",
   "execution_count": 67,
   "metadata": {
    "ExecuteTime": {
     "end_time": "2020-07-15T19:30:53.077864Z",
     "start_time": "2020-07-15T19:30:53.064050Z"
    }
   },
   "outputs": [
    {
     "data": {
      "text/plain": [
       "4"
      ]
     },
     "execution_count": 67,
     "metadata": {},
     "output_type": "execute_result"
    }
   ],
   "source": [
    "total_activity"
   ]
  },
  {
   "cell_type": "code",
   "execution_count": 68,
   "metadata": {
    "ExecuteTime": {
     "end_time": "2020-07-15T19:30:54.060801Z",
     "start_time": "2020-07-15T19:30:53.080627Z"
    }
   },
   "outputs": [],
   "source": [
    "user1_LLA_train = pd.DataFrame(columns=['Acc_x', 'Acc_y', 'Acc_z', 'gt', 'Person', 'Position'])\n",
    "user1_LLA_valid = pd.DataFrame(columns=['Acc_x', 'Acc_y', 'Acc_z', 'gt', 'Person', 'Position'])\n",
    "user1_LLA_test = pd.DataFrame(columns=['Acc_x', 'Acc_y', 'Acc_z', 'gt', 'Person', 'Position'])\n",
    "for activity_index in range(0, total_activity):\n",
    "    activity_frame = User1_LLA_frame_total[User1_LLA_frame_total['gt'] == activity_set[activity_index]]\n",
    "    \n",
    "    train_upto = int(activity_frame.shape[0]*train_percentage)    \n",
    "    valid_upto = int(activity_frame.shape[0]*valid_percentage)  \n",
    "        \n",
    "    train = activity_frame[0:train_upto].copy()\n",
    "    valid = activity_frame[train_upto+1 : train_upto+valid_upto].copy()\n",
    "    test = activity_frame[train_upto+valid_upto+1 : activity_frame.shape[0]].copy()\n",
    "    \n",
    "    user1_LLA_train = user1_LLA_train.append(train, ignore_index=True, sort = False)\n",
    "    user1_LLA_valid = user1_LLA_valid.append(valid, ignore_index=True, sort = False)\n",
    "    user1_LLA_test = user1_LLA_test.append(test, ignore_index=True, sort = False)\n",
    "    \n",
    "user1_LLA_train.to_csv (save_path+'U1_LLA_train'+'.csv', index = None, header=True)\n",
    "user1_LLA_valid.to_csv (save_path+'U1_LLA_valid'+'.csv', index = None, header=True)\n",
    "user1_LLA_test.to_csv (save_path+'U1_LLA_test'+'.csv', index = None, header=True)"
   ]
  },
  {
   "cell_type": "markdown",
   "metadata": {},
   "source": [
    "#### User 2"
   ]
  },
  {
   "cell_type": "code",
   "execution_count": 69,
   "metadata": {
    "ExecuteTime": {
     "end_time": "2020-07-15T19:30:54.067023Z",
     "start_time": "2020-07-15T19:30:54.062146Z"
    }
   },
   "outputs": [],
   "source": [
    "activity_set = np.unique(User2_Back_frame_total['gt'])\n",
    "total_activity = len(np.unique(User2_Back_frame_total['gt']))"
   ]
  },
  {
   "cell_type": "code",
   "execution_count": 70,
   "metadata": {
    "ExecuteTime": {
     "end_time": "2020-07-15T19:30:54.079779Z",
     "start_time": "2020-07-15T19:30:54.068259Z"
    }
   },
   "outputs": [
    {
     "data": {
      "text/plain": [
       "4"
      ]
     },
     "execution_count": 70,
     "metadata": {},
     "output_type": "execute_result"
    }
   ],
   "source": [
    "total_activity"
   ]
  },
  {
   "cell_type": "code",
   "execution_count": 71,
   "metadata": {
    "ExecuteTime": {
     "end_time": "2020-07-15T19:30:55.030541Z",
     "start_time": "2020-07-15T19:30:54.081914Z"
    }
   },
   "outputs": [],
   "source": [
    "user2_back_train = pd.DataFrame(columns=['Acc_x', 'Acc_y', 'Acc_z', 'gt', 'Person', 'Position'])\n",
    "user2_back_valid = pd.DataFrame(columns=['Acc_x', 'Acc_y', 'Acc_z', 'gt', 'Person', 'Position'])\n",
    "user2_back_test = pd.DataFrame(columns=['Acc_x', 'Acc_y', 'Acc_z', 'gt', 'Person', 'Position'])\n",
    "for activity_index in range(0, total_activity):\n",
    "    activity_frame = User2_Back_frame_total[User2_Back_frame_total['gt'] == activity_set[activity_index]]\n",
    "    \n",
    "    train_upto = int(activity_frame.shape[0]*train_percentage)    \n",
    "    valid_upto = int(activity_frame.shape[0]*valid_percentage)  \n",
    "        \n",
    "    train = activity_frame[0:train_upto].copy()\n",
    "    valid = activity_frame[train_upto+1 : train_upto+valid_upto].copy()\n",
    "    test = activity_frame[train_upto+valid_upto+1 : activity_frame.shape[0]].copy()\n",
    "    \n",
    "    user2_back_train = user2_back_train.append(train, ignore_index=True, sort = False)\n",
    "    user2_back_valid = user2_back_valid.append(valid, ignore_index=True, sort = False)\n",
    "    user2_back_test = user2_back_test.append(test, ignore_index=True, sort = False)\n",
    "    \n",
    "    \n",
    "user2_back_train.to_csv (save_path+'U2_BACK_train'+'.csv', index = None, header=True)\n",
    "user2_back_valid.to_csv (save_path+'U2_BACK_valid'+'.csv', index = None, header=True)\n",
    "user2_back_test.to_csv (save_path+'U2_BACK_test'+'.csv', index = None, header=True)"
   ]
  },
  {
   "cell_type": "code",
   "execution_count": 72,
   "metadata": {
    "ExecuteTime": {
     "end_time": "2020-07-15T19:30:55.036822Z",
     "start_time": "2020-07-15T19:30:55.031881Z"
    }
   },
   "outputs": [],
   "source": [
    "activity_set = np.unique(User2_RUA_frame_total['gt'])\n",
    "total_activity = len(np.unique(User2_RUA_frame_total['gt']))"
   ]
  },
  {
   "cell_type": "code",
   "execution_count": 73,
   "metadata": {
    "ExecuteTime": {
     "end_time": "2020-07-15T19:30:55.049216Z",
     "start_time": "2020-07-15T19:30:55.038036Z"
    }
   },
   "outputs": [
    {
     "data": {
      "text/plain": [
       "4"
      ]
     },
     "execution_count": 73,
     "metadata": {},
     "output_type": "execute_result"
    }
   ],
   "source": [
    "total_activity"
   ]
  },
  {
   "cell_type": "code",
   "execution_count": 74,
   "metadata": {
    "ExecuteTime": {
     "end_time": "2020-07-15T19:30:55.983208Z",
     "start_time": "2020-07-15T19:30:55.050935Z"
    }
   },
   "outputs": [],
   "source": [
    "user2_RUA_train = pd.DataFrame(columns=['Acc_x', 'Acc_y', 'Acc_z', 'gt', 'Person', 'Position'])\n",
    "user2_RUA_valid = pd.DataFrame(columns=['Acc_x', 'Acc_y', 'Acc_z', 'gt', 'Person', 'Position'])\n",
    "user2_RUA_test = pd.DataFrame(columns=['Acc_x', 'Acc_y', 'Acc_z', 'gt', 'Person', 'Position'])\n",
    "for activity_index in range(0, total_activity):\n",
    "    activity_frame = User2_RUA_frame_total[User2_RUA_frame_total['gt'] == activity_set[activity_index]]\n",
    "    \n",
    "    train_upto = int(activity_frame.shape[0]*train_percentage)    \n",
    "    valid_upto = int(activity_frame.shape[0]*valid_percentage)  \n",
    "        \n",
    "    train = activity_frame[0:train_upto].copy()\n",
    "    valid = activity_frame[train_upto+1 : train_upto+valid_upto].copy()\n",
    "    test = activity_frame[train_upto+valid_upto+1 : activity_frame.shape[0]].copy()\n",
    "    \n",
    "    user2_RUA_train = user2_RUA_train.append(train, ignore_index=True, sort = False)\n",
    "    user2_RUA_valid = user2_RUA_valid.append(valid, ignore_index=True, sort = False)\n",
    "    user2_RUA_test = user2_RUA_test.append(test, ignore_index=True, sort = False)\n",
    "    \n",
    "user2_RUA_train.to_csv (save_path+'U2_RUA_train'+'.csv', index = None, header=True)\n",
    "user2_RUA_valid.to_csv (save_path+'U2_RUA_valid'+'.csv', index = None, header=True)\n",
    "user2_RUA_test.to_csv (save_path+'U2_RUA_test'+'.csv', index = None, header=True)"
   ]
  },
  {
   "cell_type": "code",
   "execution_count": 75,
   "metadata": {
    "ExecuteTime": {
     "end_time": "2020-07-15T19:30:55.989520Z",
     "start_time": "2020-07-15T19:30:55.984539Z"
    }
   },
   "outputs": [],
   "source": [
    "activity_set = np.unique(User2_RLA_frame_total['gt'])\n",
    "total_activity = len(np.unique(User2_RLA_frame_total['gt']))"
   ]
  },
  {
   "cell_type": "code",
   "execution_count": 76,
   "metadata": {
    "ExecuteTime": {
     "end_time": "2020-07-15T19:30:56.002122Z",
     "start_time": "2020-07-15T19:30:55.990726Z"
    }
   },
   "outputs": [
    {
     "data": {
      "text/plain": [
       "4"
      ]
     },
     "execution_count": 76,
     "metadata": {},
     "output_type": "execute_result"
    }
   ],
   "source": [
    "total_activity"
   ]
  },
  {
   "cell_type": "code",
   "execution_count": 77,
   "metadata": {
    "ExecuteTime": {
     "end_time": "2020-07-15T19:30:56.952182Z",
     "start_time": "2020-07-15T19:30:56.003510Z"
    }
   },
   "outputs": [],
   "source": [
    "user2_RLA_train = pd.DataFrame(columns=['Acc_x', 'Acc_y', 'Acc_z', 'gt', 'Person', 'Position'])\n",
    "user2_RLA_valid = pd.DataFrame(columns=['Acc_x', 'Acc_y', 'Acc_z', 'gt', 'Person', 'Position'])\n",
    "user2_RLA_test = pd.DataFrame(columns=['Acc_x', 'Acc_y', 'Acc_z', 'gt', 'Person', 'Position'])\n",
    "for activity_index in range(0, total_activity):\n",
    "    activity_frame = User2_RLA_frame_total[User2_RLA_frame_total['gt'] == activity_set[activity_index]]\n",
    "    \n",
    "    train_upto = int(activity_frame.shape[0]*train_percentage)    \n",
    "    valid_upto = int(activity_frame.shape[0]*valid_percentage)  \n",
    "        \n",
    "    train = activity_frame[0:train_upto].copy()\n",
    "    valid = activity_frame[train_upto+1 : train_upto+valid_upto].copy()\n",
    "    test = activity_frame[train_upto+valid_upto+1 : activity_frame.shape[0]].copy()\n",
    "    \n",
    "    user2_RLA_train = user2_RLA_train.append(train, ignore_index=True, sort = False)\n",
    "    user2_RLA_valid = user2_RLA_valid.append(valid, ignore_index=True, sort = False)\n",
    "    user2_RLA_test = user2_RLA_test.append(test, ignore_index=True, sort = False)\n",
    "    \n",
    "user2_RLA_train.to_csv (save_path+'U2_RLA_train'+'.csv', index = None, header=True)\n",
    "user2_RLA_valid.to_csv (save_path+'U2_RLA_valid'+'.csv', index = None, header=True)\n",
    "user2_RLA_test.to_csv (save_path+'U2_RLA_test'+'.csv', index = None, header=True)"
   ]
  },
  {
   "cell_type": "code",
   "execution_count": 78,
   "metadata": {
    "ExecuteTime": {
     "end_time": "2020-07-15T19:30:56.958650Z",
     "start_time": "2020-07-15T19:30:56.953595Z"
    }
   },
   "outputs": [],
   "source": [
    "activity_set = np.unique(User2_LUA_frame_total['gt'])\n",
    "total_activity = len(np.unique(User2_LUA_frame_total['gt']))"
   ]
  },
  {
   "cell_type": "code",
   "execution_count": 79,
   "metadata": {
    "ExecuteTime": {
     "end_time": "2020-07-15T19:30:56.971827Z",
     "start_time": "2020-07-15T19:30:56.959893Z"
    }
   },
   "outputs": [
    {
     "data": {
      "text/plain": [
       "4"
      ]
     },
     "execution_count": 79,
     "metadata": {},
     "output_type": "execute_result"
    }
   ],
   "source": [
    "total_activity"
   ]
  },
  {
   "cell_type": "code",
   "execution_count": 80,
   "metadata": {
    "ExecuteTime": {
     "end_time": "2020-07-15T19:30:57.897778Z",
     "start_time": "2020-07-15T19:30:56.973442Z"
    }
   },
   "outputs": [],
   "source": [
    "user2_LUA_train = pd.DataFrame(columns=['Acc_x', 'Acc_y', 'Acc_z', 'gt', 'Person', 'Position'])\n",
    "user2_LUA_valid = pd.DataFrame(columns=['Acc_x', 'Acc_y', 'Acc_z', 'gt', 'Person', 'Position'])\n",
    "user2_LUA_test = pd.DataFrame(columns=['Acc_x', 'Acc_y', 'Acc_z', 'gt', 'Person', 'Position'])\n",
    "for activity_index in range(0, total_activity):\n",
    "    activity_frame = User2_LUA_frame_total[User2_LUA_frame_total['gt'] == activity_set[activity_index]]\n",
    "    \n",
    "    train_upto = int(activity_frame.shape[0]*train_percentage)    \n",
    "    valid_upto = int(activity_frame.shape[0]*valid_percentage)  \n",
    "        \n",
    "    train = activity_frame[0:train_upto].copy()\n",
    "    valid = activity_frame[train_upto+1 : train_upto+valid_upto].copy()\n",
    "    test = activity_frame[train_upto+valid_upto+1 : activity_frame.shape[0]].copy()\n",
    "    \n",
    "    user2_LUA_train = user2_LUA_train.append(train, ignore_index=True, sort = False)\n",
    "    user2_LUA_valid = user2_LUA_valid.append(valid, ignore_index=True, sort = False)\n",
    "    user2_LUA_test = user2_LUA_test.append(test, ignore_index=True, sort = False)\n",
    "    \n",
    "user2_LUA_train.to_csv (save_path+'U2_LUA_train'+'.csv', index = None, header=True)\n",
    "user2_LUA_valid.to_csv (save_path+'U2_LUA_valid'+'.csv', index = None, header=True)\n",
    "user2_LUA_test.to_csv (save_path+'U2_LUA_test'+'.csv', index = None, header=True)"
   ]
  },
  {
   "cell_type": "code",
   "execution_count": 81,
   "metadata": {
    "ExecuteTime": {
     "end_time": "2020-07-15T19:30:57.908244Z",
     "start_time": "2020-07-15T19:30:57.903479Z"
    }
   },
   "outputs": [],
   "source": [
    "activity_set = np.unique(User2_LLA_frame_total['gt'])\n",
    "total_activity = len(np.unique(User2_LLA_frame_total['gt']))"
   ]
  },
  {
   "cell_type": "code",
   "execution_count": 82,
   "metadata": {
    "ExecuteTime": {
     "end_time": "2020-07-15T19:30:57.920056Z",
     "start_time": "2020-07-15T19:30:57.910015Z"
    }
   },
   "outputs": [
    {
     "data": {
      "text/plain": [
       "4"
      ]
     },
     "execution_count": 82,
     "metadata": {},
     "output_type": "execute_result"
    }
   ],
   "source": [
    "total_activity"
   ]
  },
  {
   "cell_type": "code",
   "execution_count": 83,
   "metadata": {
    "ExecuteTime": {
     "end_time": "2020-07-15T19:30:58.861507Z",
     "start_time": "2020-07-15T19:30:57.921576Z"
    }
   },
   "outputs": [],
   "source": [
    "user2_LLA_train = pd.DataFrame(columns=['Acc_x', 'Acc_y', 'Acc_z', 'gt', 'Person', 'Position'])\n",
    "user2_LLA_valid = pd.DataFrame(columns=['Acc_x', 'Acc_y', 'Acc_z', 'gt', 'Person', 'Position'])\n",
    "user2_LLA_test = pd.DataFrame(columns=['Acc_x', 'Acc_y', 'Acc_z', 'gt', 'Person', 'Position'])\n",
    "for activity_index in range(0, total_activity):\n",
    "    activity_frame = User2_LLA_frame_total[User2_LLA_frame_total['gt'] == activity_set[activity_index]]\n",
    "    \n",
    "    train_upto = int(activity_frame.shape[0]*train_percentage)    \n",
    "    valid_upto = int(activity_frame.shape[0]*valid_percentage)  \n",
    "        \n",
    "    train = activity_frame[0:train_upto].copy()\n",
    "    valid = activity_frame[train_upto+1 : train_upto+valid_upto].copy()\n",
    "    test = activity_frame[train_upto+valid_upto+1 : activity_frame.shape[0]].copy()\n",
    "    \n",
    "    user2_LLA_train = user2_LLA_train.append(train, ignore_index=True, sort = False)\n",
    "    user2_LLA_valid = user2_LLA_valid.append(valid, ignore_index=True, sort = False)\n",
    "    user2_LLA_test = user2_LLA_test.append(test, ignore_index=True, sort = False)\n",
    "    \n",
    "user2_LLA_train.to_csv (save_path+'U2_LLA_train'+'.csv', index = None, header=True)\n",
    "user2_LLA_valid.to_csv (save_path+'U2_LLA_valid'+'.csv', index = None, header=True)\n",
    "user2_LLA_test.to_csv (save_path+'U2_LLA_test'+'.csv', index = None, header=True)"
   ]
  },
  {
   "cell_type": "markdown",
   "metadata": {},
   "source": [
    "#### User 3"
   ]
  },
  {
   "cell_type": "code",
   "execution_count": 84,
   "metadata": {
    "ExecuteTime": {
     "end_time": "2020-07-15T19:30:58.867685Z",
     "start_time": "2020-07-15T19:30:58.862841Z"
    }
   },
   "outputs": [],
   "source": [
    "activity_set = np.unique(User3_Back_frame_total['gt'])\n",
    "total_activity = len(np.unique(User3_Back_frame_total['gt']))"
   ]
  },
  {
   "cell_type": "code",
   "execution_count": 85,
   "metadata": {
    "ExecuteTime": {
     "end_time": "2020-07-15T19:30:58.881323Z",
     "start_time": "2020-07-15T19:30:58.868893Z"
    }
   },
   "outputs": [
    {
     "data": {
      "text/plain": [
       "4"
      ]
     },
     "execution_count": 85,
     "metadata": {},
     "output_type": "execute_result"
    }
   ],
   "source": [
    "total_activity"
   ]
  },
  {
   "cell_type": "code",
   "execution_count": 86,
   "metadata": {
    "ExecuteTime": {
     "end_time": "2020-07-15T19:30:59.862609Z",
     "start_time": "2020-07-15T19:30:58.883536Z"
    }
   },
   "outputs": [],
   "source": [
    "user3_back_train = pd.DataFrame(columns=['Acc_x', 'Acc_y', 'Acc_z', 'gt', 'Person', 'Position'])\n",
    "user3_back_valid = pd.DataFrame(columns=['Acc_x', 'Acc_y', 'Acc_z', 'gt', 'Person', 'Position'])\n",
    "user3_back_test = pd.DataFrame(columns=['Acc_x', 'Acc_y', 'Acc_z', 'gt', 'Person', 'Position'])\n",
    "for activity_index in range(0, total_activity):\n",
    "    activity_frame = User3_Back_frame_total[User3_Back_frame_total['gt'] == activity_set[activity_index]]\n",
    "    \n",
    "    train_upto = int(activity_frame.shape[0]*train_percentage)    \n",
    "    valid_upto = int(activity_frame.shape[0]*valid_percentage)  \n",
    "        \n",
    "    train = activity_frame[0:train_upto].copy()\n",
    "    valid = activity_frame[train_upto+1 : train_upto+valid_upto].copy()\n",
    "    test = activity_frame[train_upto+valid_upto+1 : activity_frame.shape[0]].copy()\n",
    "    \n",
    "    user3_back_train = user3_back_train.append(train, ignore_index=True, sort = False)\n",
    "    user3_back_valid = user3_back_valid.append(valid, ignore_index=True, sort = False)\n",
    "    user3_back_test = user3_back_test.append(test, ignore_index=True, sort = False)\n",
    "\n",
    "user3_back_train.to_csv (save_path+'U3_BACK_train'+'.csv', index = None, header=True)\n",
    "user3_back_valid.to_csv (save_path+'U3_BACK_valid'+'.csv', index = None, header=True)\n",
    "user3_back_test.to_csv (save_path+'U3_BACK_test'+'.csv', index = None, header=True)"
   ]
  },
  {
   "cell_type": "code",
   "execution_count": 87,
   "metadata": {
    "ExecuteTime": {
     "end_time": "2020-07-15T19:30:59.876843Z",
     "start_time": "2020-07-15T19:30:59.865206Z"
    }
   },
   "outputs": [],
   "source": [
    "activity_set = np.unique(User3_RUA_frame_total['gt'])\n",
    "total_activity = len(np.unique(User3_RUA_frame_total['gt']))"
   ]
  },
  {
   "cell_type": "code",
   "execution_count": 88,
   "metadata": {
    "ExecuteTime": {
     "end_time": "2020-07-15T19:30:59.885363Z",
     "start_time": "2020-07-15T19:30:59.879502Z"
    }
   },
   "outputs": [
    {
     "data": {
      "text/plain": [
       "4"
      ]
     },
     "execution_count": 88,
     "metadata": {},
     "output_type": "execute_result"
    }
   ],
   "source": [
    "total_activity"
   ]
  },
  {
   "cell_type": "code",
   "execution_count": 89,
   "metadata": {
    "ExecuteTime": {
     "end_time": "2020-07-15T19:31:00.818821Z",
     "start_time": "2020-07-15T19:30:59.886923Z"
    }
   },
   "outputs": [],
   "source": [
    "user3_RUA_train = pd.DataFrame(columns=['Acc_x', 'Acc_y', 'Acc_z', 'gt', 'Person', 'Position'])\n",
    "user3_RUA_valid = pd.DataFrame(columns=['Acc_x', 'Acc_y', 'Acc_z', 'gt', 'Person', 'Position'])\n",
    "user3_RUA_test = pd.DataFrame(columns=['Acc_x', 'Acc_y', 'Acc_z', 'gt', 'Person', 'Position'])\n",
    "for activity_index in range(0, total_activity):\n",
    "    activity_frame = User3_RUA_frame_total[User3_RUA_frame_total['gt'] == activity_set[activity_index]]\n",
    "    \n",
    "    train_upto = int(activity_frame.shape[0]*train_percentage)    \n",
    "    valid_upto = int(activity_frame.shape[0]*valid_percentage)  \n",
    "        \n",
    "    train = activity_frame[0:train_upto].copy()\n",
    "    valid = activity_frame[train_upto+1 : train_upto+valid_upto].copy()\n",
    "    test = activity_frame[train_upto+valid_upto+1 : activity_frame.shape[0]].copy()\n",
    "    \n",
    "    user3_RUA_train = user3_RUA_train.append(train, ignore_index=True, sort = False)\n",
    "    user3_RUA_valid = user3_RUA_valid.append(valid, ignore_index=True, sort = False)\n",
    "    user3_RUA_test = user3_RUA_test.append(test, ignore_index=True, sort = False)\n",
    "    \n",
    "user3_RUA_train.to_csv (save_path+'U3_RUA_train'+'.csv', index = None, header=True)\n",
    "user3_RUA_valid.to_csv (save_path+'U3_RUA_valid'+'.csv', index = None, header=True)\n",
    "user3_RUA_test.to_csv (save_path+'U3_RUA_test'+'.csv', index = None, header=True)"
   ]
  },
  {
   "cell_type": "code",
   "execution_count": 90,
   "metadata": {
    "ExecuteTime": {
     "end_time": "2020-07-15T19:31:00.830342Z",
     "start_time": "2020-07-15T19:31:00.820400Z"
    }
   },
   "outputs": [],
   "source": [
    "activity_set = np.unique(User3_RLA_frame_total['gt'])\n",
    "total_activity = len(np.unique(User3_RLA_frame_total['gt']))"
   ]
  },
  {
   "cell_type": "code",
   "execution_count": 91,
   "metadata": {
    "ExecuteTime": {
     "end_time": "2020-07-15T19:31:00.837783Z",
     "start_time": "2020-07-15T19:31:00.833442Z"
    }
   },
   "outputs": [
    {
     "data": {
      "text/plain": [
       "4"
      ]
     },
     "execution_count": 91,
     "metadata": {},
     "output_type": "execute_result"
    }
   ],
   "source": [
    "total_activity"
   ]
  },
  {
   "cell_type": "code",
   "execution_count": 92,
   "metadata": {
    "ExecuteTime": {
     "end_time": "2020-07-15T19:31:01.810387Z",
     "start_time": "2020-07-15T19:31:00.839158Z"
    }
   },
   "outputs": [],
   "source": [
    "user3_RLA_train = pd.DataFrame(columns=['Acc_x', 'Acc_y', 'Acc_z', 'gt', 'Person', 'Position'])\n",
    "user3_RLA_valid = pd.DataFrame(columns=['Acc_x', 'Acc_y', 'Acc_z', 'gt', 'Person', 'Position'])\n",
    "user3_RLA_test = pd.DataFrame(columns=['Acc_x', 'Acc_y', 'Acc_z', 'gt', 'Person', 'Position'])\n",
    "for activity_index in range(0, total_activity):\n",
    "    activity_frame = User3_RLA_frame_total[User3_RLA_frame_total['gt'] == activity_set[activity_index]]\n",
    "    \n",
    "    train_upto = int(activity_frame.shape[0]*train_percentage)    \n",
    "    valid_upto = int(activity_frame.shape[0]*valid_percentage)  \n",
    "        \n",
    "    train = activity_frame[0:train_upto].copy()\n",
    "    valid = activity_frame[train_upto+1 : train_upto+valid_upto].copy()\n",
    "    test = activity_frame[train_upto+valid_upto+1 : activity_frame.shape[0]].copy()\n",
    "    \n",
    "    user3_RLA_train = user3_RLA_train.append(train, ignore_index=True, sort = False)\n",
    "    user3_RLA_valid = user3_RLA_valid.append(valid, ignore_index=True, sort = False)\n",
    "    user3_RLA_test = user3_RLA_test.append(test, ignore_index=True, sort = False)\n",
    "    \n",
    "user3_RLA_train.to_csv (save_path+'U3_RLA_train'+'.csv', index = None, header=True)\n",
    "user3_RLA_valid.to_csv (save_path+'U3_RLA_valid'+'.csv', index = None, header=True)\n",
    "user3_RLA_test.to_csv (save_path+'U3_RLA_test'+'.csv', index = None, header=True)"
   ]
  },
  {
   "cell_type": "code",
   "execution_count": 93,
   "metadata": {
    "ExecuteTime": {
     "end_time": "2020-07-15T19:31:01.816937Z",
     "start_time": "2020-07-15T19:31:01.812011Z"
    }
   },
   "outputs": [],
   "source": [
    "activity_set = np.unique(User3_LUA_frame_total['gt'])\n",
    "total_activity = len(np.unique(User3_LUA_frame_total['gt']))"
   ]
  },
  {
   "cell_type": "code",
   "execution_count": 94,
   "metadata": {
    "ExecuteTime": {
     "end_time": "2020-07-15T19:31:01.831427Z",
     "start_time": "2020-07-15T19:31:01.818335Z"
    }
   },
   "outputs": [
    {
     "data": {
      "text/plain": [
       "4"
      ]
     },
     "execution_count": 94,
     "metadata": {},
     "output_type": "execute_result"
    }
   ],
   "source": [
    "total_activity"
   ]
  },
  {
   "cell_type": "code",
   "execution_count": 95,
   "metadata": {
    "ExecuteTime": {
     "end_time": "2020-07-15T19:31:02.743315Z",
     "start_time": "2020-07-15T19:31:01.834452Z"
    }
   },
   "outputs": [],
   "source": [
    "user3_LUA_train = pd.DataFrame(columns=['Acc_x', 'Acc_y', 'Acc_z', 'gt', 'Person', 'Position'])\n",
    "user3_LUA_valid = pd.DataFrame(columns=['Acc_x', 'Acc_y', 'Acc_z', 'gt', 'Person', 'Position'])\n",
    "user3_LUA_test = pd.DataFrame(columns=['Acc_x', 'Acc_y', 'Acc_z', 'gt', 'Person', 'Position'])\n",
    "for activity_index in range(0, total_activity):\n",
    "    activity_frame = User3_LUA_frame_total[User3_LUA_frame_total['gt'] == activity_set[activity_index]]\n",
    "    \n",
    "    train_upto = int(activity_frame.shape[0]*train_percentage)    \n",
    "    valid_upto = int(activity_frame.shape[0]*valid_percentage)  \n",
    "        \n",
    "    train = activity_frame[0:train_upto].copy()\n",
    "    valid = activity_frame[train_upto+1 : train_upto+valid_upto].copy()\n",
    "    test = activity_frame[train_upto+valid_upto+1 : activity_frame.shape[0]].copy()\n",
    "    \n",
    "    user3_LUA_train = user3_LUA_train.append(train, ignore_index=True, sort = False)\n",
    "    user3_LUA_valid = user3_LUA_valid.append(valid, ignore_index=True, sort = False)\n",
    "    user3_LUA_test = user3_LUA_test.append(test, ignore_index=True, sort = False)\n",
    "    \n",
    "user3_LUA_train.to_csv (save_path+'U3_LUA_train'+'.csv', index = None, header=True)\n",
    "user3_LUA_valid.to_csv (save_path+'U3_LUA_valid'+'.csv', index = None, header=True)\n",
    "user3_LUA_test.to_csv (save_path+'U3_LUA_test'+'.csv', index = None, header=True)"
   ]
  },
  {
   "cell_type": "code",
   "execution_count": 96,
   "metadata": {
    "ExecuteTime": {
     "end_time": "2020-07-15T19:31:02.750014Z",
     "start_time": "2020-07-15T19:31:02.744719Z"
    }
   },
   "outputs": [],
   "source": [
    "activity_set = np.unique(User3_LLA_frame_total['gt'])\n",
    "total_activity = len(np.unique(User3_LLA_frame_total['gt']))"
   ]
  },
  {
   "cell_type": "code",
   "execution_count": 97,
   "metadata": {
    "ExecuteTime": {
     "end_time": "2020-07-15T19:31:02.761850Z",
     "start_time": "2020-07-15T19:31:02.751951Z"
    }
   },
   "outputs": [
    {
     "data": {
      "text/plain": [
       "4"
      ]
     },
     "execution_count": 97,
     "metadata": {},
     "output_type": "execute_result"
    }
   ],
   "source": [
    "total_activity"
   ]
  },
  {
   "cell_type": "code",
   "execution_count": 98,
   "metadata": {
    "ExecuteTime": {
     "end_time": "2020-07-15T19:31:03.671575Z",
     "start_time": "2020-07-15T19:31:02.763361Z"
    }
   },
   "outputs": [],
   "source": [
    "user3_LLA_train = pd.DataFrame(columns=['Acc_x', 'Acc_y', 'Acc_z', 'gt', 'Person', 'Position'])\n",
    "user3_LLA_valid = pd.DataFrame(columns=['Acc_x', 'Acc_y', 'Acc_z', 'gt', 'Person', 'Position'])\n",
    "user3_LLA_test = pd.DataFrame(columns=['Acc_x', 'Acc_y', 'Acc_z', 'gt', 'Person', 'Position'])\n",
    "for activity_index in range(0, total_activity):\n",
    "    activity_frame = User3_LLA_frame_total[User3_LLA_frame_total['gt'] == activity_set[activity_index]]\n",
    "    \n",
    "    train_upto = int(activity_frame.shape[0]*train_percentage)    \n",
    "    valid_upto = int(activity_frame.shape[0]*valid_percentage)  \n",
    "        \n",
    "    train = activity_frame[0:train_upto].copy()\n",
    "    valid = activity_frame[train_upto+1 : train_upto+valid_upto].copy()\n",
    "    test = activity_frame[train_upto+valid_upto+1 : activity_frame.shape[0]].copy()\n",
    "    \n",
    "    user3_LLA_train = user3_LLA_train.append(train, ignore_index=True, sort = False)\n",
    "    user3_LLA_valid = user3_LLA_valid.append(valid, ignore_index=True, sort = False)\n",
    "    user3_LLA_test = user3_LLA_test.append(test, ignore_index=True, sort = False)\n",
    "    \n",
    "user3_LLA_train.to_csv (save_path+'U3_LLA_train'+'.csv', index = None, header=True)\n",
    "user3_LLA_valid.to_csv (save_path+'U3_LLA_valid'+'.csv', index = None, header=True)\n",
    "user3_LLA_test.to_csv (save_path+'U3_LLA_test'+'.csv', index = None, header=True)"
   ]
  },
  {
   "cell_type": "markdown",
   "metadata": {},
   "source": [
    "#### User 4"
   ]
  },
  {
   "cell_type": "code",
   "execution_count": 99,
   "metadata": {
    "ExecuteTime": {
     "end_time": "2020-07-15T19:31:03.677902Z",
     "start_time": "2020-07-15T19:31:03.673159Z"
    }
   },
   "outputs": [],
   "source": [
    "activity_set = np.unique(User4_Back_frame_total['gt'])\n",
    "total_activity = len(np.unique(User4_Back_frame_total['gt']))"
   ]
  },
  {
   "cell_type": "code",
   "execution_count": 100,
   "metadata": {
    "ExecuteTime": {
     "end_time": "2020-07-15T19:31:03.690916Z",
     "start_time": "2020-07-15T19:31:03.679246Z"
    }
   },
   "outputs": [
    {
     "data": {
      "text/plain": [
       "4"
      ]
     },
     "execution_count": 100,
     "metadata": {},
     "output_type": "execute_result"
    }
   ],
   "source": [
    "total_activity"
   ]
  },
  {
   "cell_type": "code",
   "execution_count": 101,
   "metadata": {
    "ExecuteTime": {
     "end_time": "2020-07-15T19:31:04.512128Z",
     "start_time": "2020-07-15T19:31:03.692658Z"
    }
   },
   "outputs": [],
   "source": [
    "user4_back_train = pd.DataFrame(columns=['Acc_x', 'Acc_y', 'Acc_z', 'gt', 'Person', 'Position'])\n",
    "user4_back_valid = pd.DataFrame(columns=['Acc_x', 'Acc_y', 'Acc_z', 'gt', 'Person', 'Position'])\n",
    "user4_back_test = pd.DataFrame(columns=['Acc_x', 'Acc_y', 'Acc_z', 'gt', 'Person', 'Position'])\n",
    "for activity_index in range(0, total_activity):\n",
    "    activity_frame = User4_Back_frame_total[User4_Back_frame_total['gt'] == activity_set[activity_index]]\n",
    "    \n",
    "    train_upto = int(activity_frame.shape[0]*train_percentage)    \n",
    "    valid_upto = int(activity_frame.shape[0]*valid_percentage)  \n",
    "        \n",
    "    train = activity_frame[0:train_upto].copy()\n",
    "    valid = activity_frame[train_upto+1 : train_upto+valid_upto].copy()\n",
    "    test = activity_frame[train_upto+valid_upto+1 : activity_frame.shape[0]].copy()\n",
    "    \n",
    "    user4_back_train = user4_back_train.append(train, ignore_index=True, sort = False)\n",
    "    user4_back_valid = user4_back_valid.append(valid, ignore_index=True, sort = False)\n",
    "    user4_back_test = user4_back_test.append(test, ignore_index=True, sort = False)\n",
    "    \n",
    "user4_back_train.to_csv (save_path+'U4_BACK_train'+'.csv', index = None, header=True)\n",
    "user4_back_valid.to_csv (save_path+'U4_BACK_valid'+'.csv', index = None, header=True)\n",
    "user4_back_test.to_csv (save_path+'U4_BACK_test'+'.csv', index = None, header=True)"
   ]
  },
  {
   "cell_type": "code",
   "execution_count": 102,
   "metadata": {
    "ExecuteTime": {
     "end_time": "2020-07-15T19:31:04.518423Z",
     "start_time": "2020-07-15T19:31:04.513823Z"
    }
   },
   "outputs": [],
   "source": [
    "activity_set = np.unique(User4_RUA_frame_total['gt'])\n",
    "total_activity = len(np.unique(User4_RUA_frame_total['gt']))"
   ]
  },
  {
   "cell_type": "code",
   "execution_count": 103,
   "metadata": {
    "ExecuteTime": {
     "end_time": "2020-07-15T19:31:04.531955Z",
     "start_time": "2020-07-15T19:31:04.519814Z"
    }
   },
   "outputs": [
    {
     "data": {
      "text/plain": [
       "4"
      ]
     },
     "execution_count": 103,
     "metadata": {},
     "output_type": "execute_result"
    }
   ],
   "source": [
    "total_activity"
   ]
  },
  {
   "cell_type": "code",
   "execution_count": 104,
   "metadata": {
    "ExecuteTime": {
     "end_time": "2020-07-15T19:31:05.328314Z",
     "start_time": "2020-07-15T19:31:04.533890Z"
    }
   },
   "outputs": [],
   "source": [
    "user4_RUA_train = pd.DataFrame(columns=['Acc_x', 'Acc_y', 'Acc_z', 'gt', 'Person', 'Position'])\n",
    "user4_RUA_valid = pd.DataFrame(columns=['Acc_x', 'Acc_y', 'Acc_z', 'gt', 'Person', 'Position'])\n",
    "user4_RUA_test = pd.DataFrame(columns=['Acc_x', 'Acc_y', 'Acc_z', 'gt', 'Person', 'Position'])\n",
    "for activity_index in range(0, total_activity):\n",
    "    activity_frame = User4_RUA_frame_total[User4_RUA_frame_total['gt'] == activity_set[activity_index]]\n",
    "    \n",
    "    train_upto = int(activity_frame.shape[0]*train_percentage)    \n",
    "    valid_upto = int(activity_frame.shape[0]*valid_percentage)  \n",
    "        \n",
    "    train = activity_frame[0:train_upto].copy()\n",
    "    valid = activity_frame[train_upto+1 : train_upto+valid_upto].copy()\n",
    "    test = activity_frame[train_upto+valid_upto+1 : activity_frame.shape[0]].copy()\n",
    "    \n",
    "    user4_RUA_train = user4_RUA_train.append(train, ignore_index=True, sort = False)\n",
    "    user4_RUA_valid = user4_RUA_valid.append(valid, ignore_index=True, sort = False)\n",
    "    user4_RUA_test = user4_RUA_test.append(test, ignore_index=True, sort = False)\n",
    "    \n",
    "user4_RUA_train.to_csv (save_path+'U4_RUA_train'+'.csv', index = None, header=True)\n",
    "user4_RUA_valid.to_csv (save_path+'U4_RUA_valid'+'.csv', index = None, header=True)\n",
    "user4_RUA_test.to_csv (save_path+'U4_RUA_test'+'.csv', index = None, header=True)"
   ]
  },
  {
   "cell_type": "code",
   "execution_count": 105,
   "metadata": {
    "ExecuteTime": {
     "end_time": "2020-07-15T19:31:05.334729Z",
     "start_time": "2020-07-15T19:31:05.330235Z"
    }
   },
   "outputs": [],
   "source": [
    "activity_set = np.unique(User4_RLA_frame_total['gt'])\n",
    "total_activity = len(np.unique(User4_RLA_frame_total['gt']))"
   ]
  },
  {
   "cell_type": "code",
   "execution_count": 106,
   "metadata": {
    "ExecuteTime": {
     "end_time": "2020-07-15T19:31:05.346736Z",
     "start_time": "2020-07-15T19:31:05.335908Z"
    }
   },
   "outputs": [
    {
     "data": {
      "text/plain": [
       "4"
      ]
     },
     "execution_count": 106,
     "metadata": {},
     "output_type": "execute_result"
    }
   ],
   "source": [
    "total_activity"
   ]
  },
  {
   "cell_type": "code",
   "execution_count": 107,
   "metadata": {
    "ExecuteTime": {
     "end_time": "2020-07-15T19:31:06.147054Z",
     "start_time": "2020-07-15T19:31:05.348175Z"
    }
   },
   "outputs": [],
   "source": [
    "user4_RLA_train = pd.DataFrame(columns=['Acc_x', 'Acc_y', 'Acc_z', 'gt', 'Person', 'Position'])\n",
    "user4_RLA_valid = pd.DataFrame(columns=['Acc_x', 'Acc_y', 'Acc_z', 'gt', 'Person', 'Position'])\n",
    "user4_RLA_test = pd.DataFrame(columns=['Acc_x', 'Acc_y', 'Acc_z', 'gt', 'Person', 'Position'])\n",
    "for activity_index in range(0, total_activity):\n",
    "    activity_frame = User4_RLA_frame_total[User4_RLA_frame_total['gt'] == activity_set[activity_index]]\n",
    "    \n",
    "    train_upto = int(activity_frame.shape[0]*train_percentage)    \n",
    "    valid_upto = int(activity_frame.shape[0]*valid_percentage)  \n",
    "        \n",
    "    train = activity_frame[0:train_upto].copy()\n",
    "    valid = activity_frame[train_upto+1 : train_upto+valid_upto].copy()\n",
    "    test = activity_frame[train_upto+valid_upto+1 : activity_frame.shape[0]].copy()\n",
    "    \n",
    "    user4_RLA_train = user4_RLA_train.append(train, ignore_index=True, sort = False)\n",
    "    user4_RLA_valid = user4_RLA_valid.append(valid, ignore_index=True, sort = False)\n",
    "    user4_RLA_test = user4_RLA_test.append(test, ignore_index=True, sort = False)\n",
    "    \n",
    "user4_RLA_train.to_csv (save_path+'U4_RLA_train'+'.csv', index = None, header=True)\n",
    "user4_RLA_valid.to_csv (save_path+'U4_RLA_valid'+'.csv', index = None, header=True)\n",
    "user4_RLA_test.to_csv (save_path+'U4_RLA_test'+'.csv', index = None, header=True)"
   ]
  },
  {
   "cell_type": "code",
   "execution_count": 108,
   "metadata": {
    "ExecuteTime": {
     "end_time": "2020-07-15T19:31:06.153187Z",
     "start_time": "2020-07-15T19:31:06.148677Z"
    }
   },
   "outputs": [],
   "source": [
    "activity_set = np.unique(User4_LUA_frame_total['gt'])\n",
    "total_activity = len(np.unique(User4_LUA_frame_total['gt']))"
   ]
  },
  {
   "cell_type": "code",
   "execution_count": 109,
   "metadata": {
    "ExecuteTime": {
     "end_time": "2020-07-15T19:31:06.168324Z",
     "start_time": "2020-07-15T19:31:06.154363Z"
    }
   },
   "outputs": [
    {
     "data": {
      "text/plain": [
       "4"
      ]
     },
     "execution_count": 109,
     "metadata": {},
     "output_type": "execute_result"
    }
   ],
   "source": [
    "total_activity"
   ]
  },
  {
   "cell_type": "code",
   "execution_count": 110,
   "metadata": {
    "ExecuteTime": {
     "end_time": "2020-07-15T19:31:06.970348Z",
     "start_time": "2020-07-15T19:31:06.171064Z"
    }
   },
   "outputs": [],
   "source": [
    "user4_LUA_train = pd.DataFrame(columns=['Acc_x', 'Acc_y', 'Acc_z', 'gt', 'Person', 'Position'])\n",
    "user4_LUA_valid = pd.DataFrame(columns=['Acc_x', 'Acc_y', 'Acc_z', 'gt', 'Person', 'Position'])\n",
    "user4_LUA_test = pd.DataFrame(columns=['Acc_x', 'Acc_y', 'Acc_z', 'gt', 'Person', 'Position'])\n",
    "for activity_index in range(0, total_activity):\n",
    "    activity_frame = User4_LUA_frame_total[User4_LUA_frame_total['gt'] == activity_set[activity_index]]\n",
    "    \n",
    "    train_upto = int(activity_frame.shape[0]*train_percentage)    \n",
    "    valid_upto = int(activity_frame.shape[0]*valid_percentage)  \n",
    "        \n",
    "    train = activity_frame[0:train_upto].copy()\n",
    "    valid = activity_frame[train_upto+1 : train_upto+valid_upto].copy()\n",
    "    test = activity_frame[train_upto+valid_upto+1 : activity_frame.shape[0]].copy()\n",
    "    \n",
    "    user4_LUA_train = user4_LUA_train.append(train, ignore_index=True, sort = False)\n",
    "    user4_LUA_valid = user4_LUA_valid.append(valid, ignore_index=True, sort = False)\n",
    "    user4_LUA_test = user4_LUA_test.append(test, ignore_index=True, sort = False)\n",
    "    \n",
    "user4_LUA_train.to_csv (save_path+'U4_LUA_train'+'.csv', index = None, header=True)\n",
    "user4_LUA_valid.to_csv (save_path+'U4_LUA_valid'+'.csv', index = None, header=True)\n",
    "user4_LUA_test.to_csv (save_path+'U4_LUA_test'+'.csv', index = None, header=True)"
   ]
  },
  {
   "cell_type": "code",
   "execution_count": 111,
   "metadata": {
    "ExecuteTime": {
     "end_time": "2020-07-15T19:31:06.976695Z",
     "start_time": "2020-07-15T19:31:06.972016Z"
    }
   },
   "outputs": [],
   "source": [
    "activity_set = np.unique(User4_LLA_frame_total['gt'])\n",
    "total_activity = len(np.unique(User4_LLA_frame_total['gt']))"
   ]
  },
  {
   "cell_type": "code",
   "execution_count": 112,
   "metadata": {
    "ExecuteTime": {
     "end_time": "2020-07-15T19:31:06.990453Z",
     "start_time": "2020-07-15T19:31:06.977874Z"
    }
   },
   "outputs": [
    {
     "data": {
      "text/plain": [
       "4"
      ]
     },
     "execution_count": 112,
     "metadata": {},
     "output_type": "execute_result"
    }
   ],
   "source": [
    "total_activity"
   ]
  },
  {
   "cell_type": "code",
   "execution_count": 113,
   "metadata": {
    "ExecuteTime": {
     "end_time": "2020-07-15T19:31:07.776099Z",
     "start_time": "2020-07-15T19:31:06.993520Z"
    }
   },
   "outputs": [],
   "source": [
    "user4_LLA_train = pd.DataFrame(columns=['Acc_x', 'Acc_y', 'Acc_z', 'gt', 'Person', 'Position'])\n",
    "user4_LLA_valid = pd.DataFrame(columns=['Acc_x', 'Acc_y', 'Acc_z', 'gt', 'Person', 'Position'])\n",
    "user4_LLA_test = pd.DataFrame(columns=['Acc_x', 'Acc_y', 'Acc_z', 'gt', 'Person', 'Position'])\n",
    "for activity_index in range(0, total_activity):\n",
    "    activity_frame = User4_LLA_frame_total[User4_LLA_frame_total['gt'] == activity_set[activity_index]]\n",
    "    \n",
    "    train_upto = int(activity_frame.shape[0]*train_percentage)    \n",
    "    valid_upto = int(activity_frame.shape[0]*valid_percentage)  \n",
    "        \n",
    "    train = activity_frame[0:train_upto].copy()\n",
    "    valid = activity_frame[train_upto+1 : train_upto+valid_upto].copy()\n",
    "    test = activity_frame[train_upto+valid_upto+1 : activity_frame.shape[0]].copy()\n",
    "    \n",
    "    user4_LLA_train = user4_LLA_train.append(train, ignore_index=True, sort = False)\n",
    "    user4_LLA_valid = user4_LLA_valid.append(valid, ignore_index=True, sort = False)\n",
    "    user4_LLA_test = user4_LLA_test.append(test, ignore_index=True, sort = False)\n",
    "\n",
    "user4_LLA_train.to_csv (save_path+'U4_LLA_train'+'.csv', index = None, header=True)\n",
    "user4_LLA_valid.to_csv (save_path+'U4_LLA_valid'+'.csv', index = None, header=True)\n",
    "user4_LLA_test.to_csv (save_path+'U4_LLA_test'+'.csv', index = None, header=True)"
   ]
  },
  {
   "cell_type": "code",
   "execution_count": 114,
   "metadata": {
    "ExecuteTime": {
     "end_time": "2020-07-15T19:31:07.825872Z",
     "start_time": "2020-07-15T19:31:07.777799Z"
    }
   },
   "outputs": [
    {
     "data": {
      "text/plain": [
       "array([0, 1, 2, 3], dtype=object)"
      ]
     },
     "execution_count": 114,
     "metadata": {},
     "output_type": "execute_result"
    }
   ],
   "source": [
    "np.unique(user4_LLA_train['gt'])"
   ]
  },
  {
   "cell_type": "code",
   "execution_count": 115,
   "metadata": {
    "ExecuteTime": {
     "end_time": "2020-07-15T19:31:07.854701Z",
     "start_time": "2020-07-15T19:31:07.827315Z"
    }
   },
   "outputs": [
    {
     "data": {
      "text/plain": [
       "array([0, 1, 2, 3], dtype=object)"
      ]
     },
     "execution_count": 115,
     "metadata": {},
     "output_type": "execute_result"
    }
   ],
   "source": [
    "np.unique(user4_LLA_valid['gt'])"
   ]
  },
  {
   "cell_type": "code",
   "execution_count": 116,
   "metadata": {
    "ExecuteTime": {
     "end_time": "2020-07-15T19:31:07.868794Z",
     "start_time": "2020-07-15T19:31:07.857774Z"
    }
   },
   "outputs": [
    {
     "data": {
      "text/plain": [
       "21011"
      ]
     },
     "execution_count": 116,
     "metadata": {},
     "output_type": "execute_result"
    }
   ],
   "source": [
    "len(user4_LLA_valid)"
   ]
  },
  {
   "cell_type": "markdown",
   "metadata": {},
   "source": [
    "### Code block for merging all user train and test data for a specific position"
   ]
  },
  {
   "cell_type": "markdown",
   "metadata": {},
   "source": [
    "## Prepare Final Dataset"
   ]
  },
  {
   "cell_type": "code",
   "execution_count": 117,
   "metadata": {
    "ExecuteTime": {
     "end_time": "2020-07-15T19:31:07.881659Z",
     "start_time": "2020-07-15T19:31:07.871100Z"
    }
   },
   "outputs": [],
   "source": [
    "BACK_dataset_train = []\n",
    "RUA_dataset_train = []\n",
    "RLA_dataset_train = []\n",
    "LUA_dataset_train = []\n",
    "LLA_dataset_train = []\n",
    "BACK_gt_train = []\n",
    "RUA_gt_train = []\n",
    "RLA_gt_train = []\n",
    "LUA_gt_train = []\n",
    "LLA_gt_train = []"
   ]
  },
  {
   "cell_type": "code",
   "execution_count": 118,
   "metadata": {
    "ExecuteTime": {
     "end_time": "2020-07-15T19:31:07.896203Z",
     "start_time": "2020-07-15T19:31:07.884719Z"
    }
   },
   "outputs": [],
   "source": [
    "BACK_dataset_valid = []\n",
    "RUA_dataset_valid = []\n",
    "RLA_dataset_valid = []\n",
    "LUA_dataset_valid = []\n",
    "LLA_dataset_valid = []\n",
    "BACK_gt_valid = []\n",
    "RUA_gt_valid = []\n",
    "RLA_gt_valid = []\n",
    "LUA_gt_valid = []\n",
    "LLA_gt_valid = []"
   ]
  },
  {
   "cell_type": "code",
   "execution_count": 119,
   "metadata": {
    "ExecuteTime": {
     "end_time": "2020-07-15T19:31:07.909448Z",
     "start_time": "2020-07-15T19:31:07.898628Z"
    }
   },
   "outputs": [],
   "source": [
    "BACK_dataset_test = []\n",
    "RUA_dataset_test = []\n",
    "RLA_dataset_test = []\n",
    "LUA_dataset_test = []\n",
    "LLA_dataset_test = []\n",
    "BACK_gt_test = []\n",
    "RUA_gt_test = []\n",
    "RLA_gt_test = []\n",
    "LUA_gt_test = []\n",
    "LLA_gt_test = []"
   ]
  },
  {
   "cell_type": "markdown",
   "metadata": {},
   "source": [
    "### Code Block for taking position-wise all user train and validation data"
   ]
  },
  {
   "cell_type": "code",
   "execution_count": 120,
   "metadata": {
    "ExecuteTime": {
     "end_time": "2020-07-15T19:31:08.602685Z",
     "start_time": "2020-07-15T19:31:07.910831Z"
    }
   },
   "outputs": [
    {
     "name": "stderr",
     "output_type": "stream",
     "text": [
      " 20%|██        | 1/5 [00:00<00:00,  7.49it/s]"
     ]
    },
    {
     "name": "stdout",
     "output_type": "stream",
     "text": [
      "U1_BACK_train\n",
      "U1_BACK_valid\n",
      "U1_BACK_test\n",
      "U1_RUA_train\n"
     ]
    },
    {
     "name": "stderr",
     "output_type": "stream",
     "text": [
      " 60%|██████    | 3/5 [00:00<00:00,  7.47it/s]"
     ]
    },
    {
     "name": "stdout",
     "output_type": "stream",
     "text": [
      "U1_RUA_valid\n",
      "U1_RUA_test\n",
      "U1_RLA_train\n",
      "U1_RLA_valid\n",
      "U1_RLA_test\n",
      "U1_LUA_train\n"
     ]
    },
    {
     "name": "stderr",
     "output_type": "stream",
     "text": [
      "100%|██████████| 5/5 [00:00<00:00,  7.48it/s]"
     ]
    },
    {
     "name": "stdout",
     "output_type": "stream",
     "text": [
      "U1_LUA_valid\n",
      "U1_LUA_test\n",
      "U1_LLA_train\n",
      "U1_LLA_valid\n",
      "U1_LLA_test\n"
     ]
    },
    {
     "name": "stderr",
     "output_type": "stream",
     "text": [
      "\n"
     ]
    }
   ],
   "source": [
    "for position_index in tqdm.tqdm(range(0,5)): #Back, RUA, RLA, LUA, LLA\n",
    "    for split_index in range(0,3):\n",
    "        file_name = user[selected_user-1] + \"_\" + position[position_index]+'_'+item[split_index]\n",
    "        \n",
    "        print(file_name)\n",
    "        df = pd.read_csv(save_path+file_name+'.csv', sep=\",\")   \n",
    "        len_df = df.shape[0]\n",
    "        narray = df.to_numpy()\n",
    "\n",
    "        for i in range(0, len_df, step_size):\n",
    "            window = narray[i:i+win_size, FROM:TO]\n",
    "            \n",
    "            if window.shape[0] != win_size:\n",
    "                continue\n",
    "            else:\n",
    "                reshaped_window = window.reshape(1,win_size,1,AXIS)\n",
    "                gt = np.bincount(narray[i:i+win_size,START:END].astype(int).ravel()).argmax()\n",
    "                \n",
    "                if position_index == 0:\n",
    "                    if split_index == 0:\n",
    "                        BACK_dataset_train.append(reshaped_window)\n",
    "                        BACK_gt_train.append(gt)\n",
    "                    elif split_index == 1:\n",
    "                        BACK_dataset_valid.append(reshaped_window)\n",
    "                        BACK_gt_valid.append(gt)\n",
    "                    elif split_index == 2:\n",
    "                        BACK_dataset_test.append(reshaped_window)\n",
    "                        BACK_gt_test.append(gt)\n",
    "                elif position_index == 1:\n",
    "                    if split_index == 0:\n",
    "                        RUA_dataset_train.append(reshaped_window)\n",
    "                        RUA_gt_train.append(gt)\n",
    "                    elif split_index == 1:\n",
    "                        RUA_dataset_valid.append(reshaped_window)\n",
    "                        RUA_gt_valid.append(gt)\n",
    "                    elif split_index == 2:\n",
    "                        RUA_dataset_test.append(reshaped_window)\n",
    "                        RUA_gt_test.append(gt)\n",
    "                elif position_index == 2:\n",
    "                    if split_index == 0:\n",
    "                        RLA_dataset_train.append(reshaped_window)\n",
    "                        RLA_gt_train.append(gt)\n",
    "                    elif split_index == 1:\n",
    "                        RLA_dataset_valid.append(reshaped_window)\n",
    "                        RLA_gt_valid.append(gt)\n",
    "                    elif split_index == 2:\n",
    "                        RLA_dataset_test.append(reshaped_window)\n",
    "                        RLA_gt_test.append(gt)\n",
    "                elif position_index == 3:\n",
    "                    if split_index == 0:\n",
    "                        LUA_dataset_train.append(reshaped_window)\n",
    "                        LUA_gt_train.append(gt)\n",
    "                    elif split_index == 1:\n",
    "                        LUA_dataset_valid.append(reshaped_window)\n",
    "                        LUA_gt_valid.append(gt)\n",
    "                    elif split_index == 2:\n",
    "                        LUA_dataset_test.append(reshaped_window)\n",
    "                        LUA_gt_test.append(gt)\n",
    "                elif position_index == 4:\n",
    "                    if split_index == 0:\n",
    "                        LLA_dataset_train.append(reshaped_window)\n",
    "                        LLA_gt_train.append(gt)\n",
    "                    elif split_index == 1:\n",
    "                        LLA_dataset_valid.append(reshaped_window)\n",
    "                        LLA_gt_valid.append(gt)\n",
    "                    elif split_index == 2:\n",
    "                        LLA_dataset_test.append(reshaped_window)\n",
    "                        LLA_gt_test.append(gt)"
   ]
  },
  {
   "cell_type": "code",
   "execution_count": null,
   "metadata": {},
   "outputs": [],
   "source": []
  }
 ],
 "metadata": {
  "kernelspec": {
   "display_name": "Python 3",
   "language": "python",
   "name": "python3"
  },
  "language_info": {
   "codemirror_mode": {
    "name": "ipython",
    "version": 3
   },
   "file_extension": ".py",
   "mimetype": "text/x-python",
   "name": "python",
   "nbconvert_exporter": "python",
   "pygments_lexer": "ipython3",
   "version": "3.6.8"
  },
  "toc": {
   "base_numbering": 1,
   "nav_menu": {},
   "number_sections": true,
   "sideBar": true,
   "skip_h1_title": false,
   "title_cell": "Table of Contents",
   "title_sidebar": "Contents",
   "toc_cell": false,
   "toc_position": {},
   "toc_section_display": true,
   "toc_window_display": false
  }
 },
 "nbformat": 4,
 "nbformat_minor": 2
}
