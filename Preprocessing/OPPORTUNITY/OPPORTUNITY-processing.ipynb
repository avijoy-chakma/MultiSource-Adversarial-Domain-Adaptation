{
 "cells": [
  {
   "cell_type": "code",
   "execution_count": 1,
   "metadata": {
    "ExecuteTime": {
     "end_time": "2020-12-28T15:44:59.407250Z",
     "start_time": "2020-12-28T15:44:59.402851Z"
    }
   },
   "outputs": [],
   "source": [
    "# https://archive.ics.uci.edu/ml/datasets/opportunity+activity+recognition"
   ]
  },
  {
   "cell_type": "code",
   "execution_count": 2,
   "metadata": {
    "ExecuteTime": {
     "end_time": "2020-12-28T15:45:00.040197Z",
     "start_time": "2020-12-28T15:45:00.034759Z"
    }
   },
   "outputs": [],
   "source": [
    "import os\n",
    "home_url = os.getcwd()\n",
    "directory = \"POC\""
   ]
  },
  {
   "cell_type": "code",
   "execution_count": 3,
   "metadata": {
    "ExecuteTime": {
     "end_time": "2020-12-28T15:45:01.077154Z",
     "start_time": "2020-12-28T15:45:01.070920Z"
    }
   },
   "outputs": [],
   "source": [
    "import sys\n",
    "sys.path.append(home_url+'/../../Packages/Utils/')\n",
    "sys.path.append(home_url+'/../../Packages/Model/')"
   ]
  },
  {
   "cell_type": "code",
   "execution_count": 4,
   "metadata": {
    "ExecuteTime": {
     "end_time": "2020-12-28T15:45:03.013340Z",
     "start_time": "2020-12-28T15:45:01.783293Z"
    }
   },
   "outputs": [],
   "source": [
    "# import sys\n",
    "# sys.path.append(home_url+'/Downloads/'+directory+'/Debug-Packages/Utils/')\n",
    "import matplotlib as plt\n",
    "import pandas as pd\n",
    "import os\n",
    "import numpy as np\n",
    "import math\n",
    "import csv\n",
    "from Visualization import plot_activity\n",
    "from DataPreprocess import standardization_and_normalization\n",
    "from sklearn import preprocessing\n",
    "import tqdm"
   ]
  },
  {
   "cell_type": "code",
   "execution_count": 5,
   "metadata": {
    "ExecuteTime": {
     "end_time": "2020-12-28T15:45:03.018316Z",
     "start_time": "2020-12-28T15:45:03.015171Z"
    }
   },
   "outputs": [],
   "source": [
    "win_size=128\n",
    "overlap = 0.90\n",
    "activity_num = 4\n",
    "source1 = 0\n",
    "source2 = 1\n",
    "target = 2"
   ]
  },
  {
   "cell_type": "code",
   "execution_count": 6,
   "metadata": {
    "ExecuteTime": {
     "end_time": "2020-12-28T15:45:03.644569Z",
     "start_time": "2020-12-28T15:45:03.640088Z"
    }
   },
   "outputs": [],
   "source": [
    "url = home_url+\"/../../Dataset/OpportunityUCIDataset/dataset/\""
   ]
  },
  {
   "cell_type": "code",
   "execution_count": 7,
   "metadata": {
    "ExecuteTime": {
     "end_time": "2020-12-28T15:45:04.574813Z",
     "start_time": "2020-12-28T15:45:04.570337Z"
    }
   },
   "outputs": [],
   "source": [
    "# save_path = \"/home/avijoy/Downloads/DTCN-AR/Preprocessing/OPPORTUNITY/ACC-Position-Preprocessed/\""
   ]
  },
  {
   "cell_type": "code",
   "execution_count": 8,
   "metadata": {
    "ExecuteTime": {
     "end_time": "2020-12-28T15:45:05.347675Z",
     "start_time": "2020-12-28T15:45:05.339154Z"
    }
   },
   "outputs": [],
   "source": [
    "step_size=int(win_size*overlap)\n",
    "activity_num = 4\n",
    "selected_user = 1\n",
    "train_percentage = 0.6\n",
    "valid_percentage = 0.2\n",
    "\n",
    "AXIS = 3\n",
    "FROM = 0\n",
    "TO = FROM+3\n",
    "START = 3\n",
    "END = 4"
   ]
  },
  {
   "cell_type": "code",
   "execution_count": 9,
   "metadata": {
    "ExecuteTime": {
     "end_time": "2020-12-28T15:45:06.044998Z",
     "start_time": "2020-12-28T15:45:06.038317Z"
    }
   },
   "outputs": [],
   "source": [
    "item = [\"train\",\"valid\",\"test\"]\n",
    "user = [\"U1\",\"U2\",\"U3\",\"U4\"]\n",
    "position = [\"BACK\", \"RUA\", \"RLA\", \"LUA\",\"LLA\"]"
   ]
  },
  {
   "cell_type": "code",
   "execution_count": 11,
   "metadata": {
    "ExecuteTime": {
     "end_time": "2020-12-28T15:46:03.439314Z",
     "start_time": "2020-12-28T15:46:03.433701Z"
    }
   },
   "outputs": [],
   "source": [
    "folder_name = str(activity_num)+ \" Activity\"+\"_Window \"+str(win_size)+ \"_Overlap \"+str(overlap)\n",
    "save_path = home_url +\"/Data Files/\"+folder_name+\"/\"\n",
    "\n",
    "if not os.path.exists(save_path):\n",
    "    os.makedirs(save_path)"
   ]
  },
  {
   "cell_type": "markdown",
   "metadata": {},
   "source": [
    "# Data File Structure and Information\n",
    "    - Locomotion Annotation: Stand, Walk, Sit, Lie\n",
    "    Column Information:\n",
    "    1: Milisec\n",
    "    38-46: Back IMU\n",
    "    51-59: Right Upper Arm\n",
    "    64-72: Right Lower Arm\n",
    "    77-85: Left Upper Arm\n",
    "    90-98: Left Lower Arm\n",
    "    103-117: Left Shoe\n",
    "    119-133: Right Shoe\n",
    "    244: Locomotion\n",
    "    \n",
    "    Shoe accumulated data is different than the Back, Left, right arm. Leave shoe data seperate.\n",
    "    \n",
    "    \n",
    "    Locomotion Information\n",
    "    Locomotion-1   -   Stand\n",
    "    Locomotion-2   -   Walk\n",
    "    Locomotion-3   -   Sit\n",
    "    Locomotion-4   -   Lie\n",
    "    \n",
    "    Label Mapping\n",
    "    - Stand: 1\n",
    "    - Walk: 3\n",
    "    - Sit: 0\n",
    "    - Lie: 2"
   ]
  },
  {
   "cell_type": "code",
   "execution_count": 13,
   "metadata": {
    "ExecuteTime": {
     "end_time": "2020-12-28T16:06:20.546925Z",
     "start_time": "2020-12-28T16:06:20.540417Z"
    }
   },
   "outputs": [],
   "source": [
    "total_frame = {}\n",
    "BACK_frame = {}\n",
    "RUA_frame = {}\n",
    "RLA_frame = {}\n",
    "LUA_frame = {}\n",
    "LLA_frame = {}"
   ]
  },
  {
   "cell_type": "code",
   "execution_count": 14,
   "metadata": {
    "ExecuteTime": {
     "end_time": "2020-12-28T16:06:23.485256Z",
     "start_time": "2020-12-28T16:06:23.481052Z"
    }
   },
   "outputs": [],
   "source": [
    "# Back_frame, RUA_frame, RLA_frame, LUA_frame, LLA_frame: \n",
    "# 11-15: User1 : For all 5 Frames\n",
    "# 21-25: User2\n",
    "# 31-35: User3\n",
    "# 41-45: User4"
   ]
  },
  {
   "cell_type": "code",
   "execution_count": 15,
   "metadata": {
    "ExecuteTime": {
     "end_time": "2020-12-28T16:06:31.077665Z",
     "start_time": "2020-12-28T16:06:31.073044Z"
    }
   },
   "outputs": [],
   "source": [
    "# def plot_activity(df, position='Default'):\n",
    "#     data = df[['Acc_x', 'Acc_y','Acc_z']][:df.shape[0]]\n",
    "\n",
    "# #     position += '  Index Range: '+str(df.index[0])+ '  to  '+ str(df.index[-1])\n",
    "#     axis = data.plot(subplots=True, figsize=(16, 12), title=position)\n",
    "#     for ax in axis:\n",
    "#         ax.legend(loc='lower left', bbox_to_anchor=(1.0, 0.5))\n",
    "# #         ax.figure.savefig(visualization_url+position+'.png')"
   ]
  },
  {
   "cell_type": "code",
   "execution_count": 16,
   "metadata": {
    "ExecuteTime": {
     "end_time": "2020-12-28T16:07:12.733190Z",
     "start_time": "2020-12-28T16:06:56.446726Z"
    }
   },
   "outputs": [],
   "source": [
    "for user_index in range(1,5):\n",
    "    for run_index in range(1,6):\n",
    "        file_name = \"S\"+str(user_index)+\"-ADL\"+str(run_index)+\".dat\"\n",
    "        dataframe = pd.read_csv(url+file_name,sep=\" \", header=None) \n",
    "        \n",
    "        \n",
    "        ## Print the signal\n",
    "        dataframe.sort_values(0)\n",
    "        ## Print the signal\n",
    "        index = (user_index * 10) + run_index\n",
    "        \n",
    "        BACK_IMU_frame = dataframe[[37,38,39,243]].copy()\n",
    "        BACK_IMU_frame.rename(columns={37: 'Acc_x', 38:'Acc_y', 39: 'Acc_z', 243: 'gt'}, inplace=True)\n",
    "        \n",
    "        # Check the shape\n",
    "        BACK_IMU_frame = BACK_IMU_frame.dropna()\n",
    "        # Check the shape\n",
    "        BACK_IMU_frame = BACK_IMU_frame[BACK_IMU_frame[\"gt\"] != 0].copy()\n",
    "        \n",
    "        BACK_IMU_frame.loc[:, 'Person'] = user_index\n",
    "        BACK_IMU_frame.loc[:, 'Position'] = \"Back\"\n",
    "        BACK_frame[index] = BACK_IMU_frame.copy()\n",
    "        BACK_frame[index].reset_index(drop=True, inplace=True)\n",
    "        # Check the size\n",
    "\n",
    "        \n",
    "        RUA_IMU_frame = dataframe[[50,51,52,243]].copy()\n",
    "        RUA_IMU_frame.rename(columns={50: 'Acc_x', 51:'Acc_y', 52: 'Acc_z', 243: 'gt'}, inplace=True)\n",
    "        RUA_IMU_frame = RUA_IMU_frame.dropna()\n",
    "        RUA_IMU_frame = RUA_IMU_frame[RUA_IMU_frame[\"gt\"] != 0].copy()\n",
    "        \n",
    "        RUA_IMU_frame.loc[:, 'Person'] = user_index\n",
    "        RUA_IMU_frame.loc[:, 'Position'] = \"Right Upper Arm\"\n",
    "        RUA_frame[index] = RUA_IMU_frame.copy()\n",
    "        RUA_frame[index].reset_index(drop=True, inplace=True)\n",
    "        \n",
    "\n",
    "        RLA_IMU_frame = dataframe[[63,64,65,243]].copy()\n",
    "        RLA_IMU_frame.rename(columns={63: 'Acc_x', 64:'Acc_y', 65: 'Acc_z', 243: 'gt'}, inplace=True)\n",
    "        RLA_IMU_frame = RLA_IMU_frame.dropna()\n",
    "        RLA_IMU_frame = RLA_IMU_frame[RLA_IMU_frame[\"gt\"] != 0].copy()\n",
    "\n",
    "        RLA_IMU_frame.loc[:, 'Person'] = user_index\n",
    "        RLA_IMU_frame.loc[:, 'Position'] = \"Right Lower Arm\"\n",
    "        RLA_frame[index] = RLA_IMU_frame.copy()\n",
    "        RLA_frame[index].reset_index(drop=True, inplace=True)\n",
    "        \n",
    "        \n",
    "        \n",
    "        LUA_IMU_frame = dataframe[[76,77,78,243]].copy()\n",
    "        LUA_IMU_frame.rename(columns={76: 'Acc_x', 77:'Acc_y', 78: 'Acc_z', 243: 'gt'}, inplace=True)\n",
    "        LUA_IMU_frame = LUA_IMU_frame.dropna()\n",
    "        LUA_IMU_frame = LUA_IMU_frame[LUA_IMU_frame[\"gt\"] != 0].copy()\n",
    "\n",
    "        LUA_IMU_frame.loc[:, 'Person'] = user_index\n",
    "        LUA_IMU_frame.loc[:, 'Position'] = \"Left Upper Arm\"\n",
    "        LUA_frame[index] = LUA_IMU_frame.copy()\n",
    "        LUA_frame[index].reset_index(drop=True, inplace=True)\n",
    "        \n",
    "        \n",
    "        \n",
    "        LLA_IMU_frame = dataframe[[89,90,91,243]].copy()\n",
    "        LLA_IMU_frame.rename(columns={89: 'Acc_x', 90:'Acc_y', 91: 'Acc_z', 243: 'gt'}, inplace=True)\n",
    "        LLA_IMU_frame = LLA_IMU_frame.dropna()\n",
    "        LLA_IMU_frame = LLA_IMU_frame[LLA_IMU_frame[\"gt\"] != 0].copy()\n",
    "\n",
    "        LLA_IMU_frame.loc[:, 'Person'] = user_index\n",
    "        LLA_IMU_frame.loc[:, 'Position'] = \"Left Lower Arm\"\n",
    "        LLA_frame[index] = LLA_IMU_frame.copy()\n",
    "        LLA_frame[index].reset_index(drop=True, inplace=True)\n",
    "        "
   ]
  },
  {
   "cell_type": "code",
   "execution_count": 19,
   "metadata": {
    "ExecuteTime": {
     "end_time": "2020-12-28T16:15:29.810430Z",
     "start_time": "2020-12-28T16:15:29.806125Z"
    }
   },
   "outputs": [],
   "source": [
    "# BACK_frame[15].head()"
   ]
  },
  {
   "cell_type": "code",
   "execution_count": 23,
   "metadata": {
    "ExecuteTime": {
     "end_time": "2020-12-28T16:15:46.982323Z",
     "start_time": "2020-12-28T16:15:46.978043Z"
    }
   },
   "outputs": [],
   "source": [
    "# BACK_frame[15]['gt'].unique()"
   ]
  },
  {
   "cell_type": "markdown",
   "metadata": {},
   "source": [
    "#### Ground truth has to start from 0"
   ]
  },
  {
   "cell_type": "code",
   "execution_count": 22,
   "metadata": {
    "ExecuteTime": {
     "end_time": "2020-12-28T16:15:43.386095Z",
     "start_time": "2020-12-28T16:15:43.376810Z"
    }
   },
   "outputs": [
    {
     "data": {
      "text/plain": [
       "array([1, 2, 4, 5])"
      ]
     },
     "execution_count": 22,
     "metadata": {},
     "output_type": "execute_result"
    }
   ],
   "source": [
    "np.unique(BACK_frame[11]['gt'])"
   ]
  },
  {
   "cell_type": "code",
   "execution_count": 24,
   "metadata": {
    "ExecuteTime": {
     "end_time": "2020-12-28T16:15:53.967511Z",
     "start_time": "2020-12-28T16:15:53.882717Z"
    }
   },
   "outputs": [],
   "source": [
    "User1_Back_frame_total = pd.DataFrame(columns=['Acc_x', 'Acc_y', 'Acc_z', 'gt', 'Person', 'Position'])\n",
    "User1_RUA_frame_total = pd.DataFrame(columns=['Acc_x', 'Acc_y', 'Acc_z', 'gt', 'Person', 'Position'])\n",
    "User1_RLA_frame_total = pd.DataFrame(columns=['Acc_x', 'Acc_y', 'Acc_z', 'gt', 'Person', 'Position'])\n",
    "User1_LUA_frame_total = pd.DataFrame(columns=['Acc_x', 'Acc_y', 'Acc_z', 'gt', 'Person', 'Position'])\n",
    "User1_LLA_frame_total = pd.DataFrame(columns=['Acc_x', 'Acc_y', 'Acc_z', 'gt', 'Person', 'Position'])\n",
    "\n",
    "User2_Back_frame_total = pd.DataFrame(columns=['Acc_x', 'Acc_y', 'Acc_z', 'gt', 'Person', 'Position'])\n",
    "User2_RUA_frame_total = pd.DataFrame(columns=['Acc_x', 'Acc_y', 'Acc_z', 'gt', 'Person', 'Position'])\n",
    "User2_RLA_frame_total = pd.DataFrame(columns=['Acc_x', 'Acc_y', 'Acc_z', 'gt', 'Person', 'Position'])\n",
    "User2_LUA_frame_total = pd.DataFrame(columns=['Acc_x', 'Acc_y', 'Acc_z', 'gt', 'Person', 'Position'])\n",
    "User2_LLA_frame_total = pd.DataFrame(columns=['Acc_x', 'Acc_y', 'Acc_z', 'gt', 'Person', 'Position'])\n",
    "\n",
    "User3_Back_frame_total = pd.DataFrame(columns=['Acc_x', 'Acc_y', 'Acc_z', 'gt', 'Person', 'Position'])\n",
    "User3_RUA_frame_total = pd.DataFrame(columns=['Acc_x', 'Acc_y', 'Acc_z', 'gt', 'Person', 'Position'])\n",
    "User3_RLA_frame_total = pd.DataFrame(columns=['Acc_x', 'Acc_y', 'Acc_z', 'gt', 'Person', 'Position'])\n",
    "User3_LUA_frame_total = pd.DataFrame(columns=['Acc_x', 'Acc_y', 'Acc_z', 'gt', 'Person', 'Position'])\n",
    "User3_LLA_frame_total = pd.DataFrame(columns=['Acc_x', 'Acc_y', 'Acc_z', 'gt', 'Person', 'Position'])\n",
    "\n",
    "User4_Back_frame_total = pd.DataFrame(columns=['Acc_x', 'Acc_y', 'Acc_z', 'gt', 'Person', 'Position'])\n",
    "User4_RUA_frame_total = pd.DataFrame(columns=['Acc_x', 'Acc_y', 'Acc_z', 'gt', 'Person', 'Position'])\n",
    "User4_RLA_frame_total = pd.DataFrame(columns=['Acc_x', 'Acc_y', 'Acc_z', 'gt', 'Person', 'Position'])\n",
    "User4_LUA_frame_total = pd.DataFrame(columns=['Acc_x', 'Acc_y', 'Acc_z', 'gt', 'Person', 'Position'])\n",
    "User4_LLA_frame_total = pd.DataFrame(columns=['Acc_x', 'Acc_y', 'Acc_z', 'gt', 'Person', 'Position'])"
   ]
  },
  {
   "cell_type": "code",
   "execution_count": 25,
   "metadata": {
    "ExecuteTime": {
     "end_time": "2020-12-28T16:15:56.020471Z",
     "start_time": "2020-12-28T16:15:55.554213Z"
    }
   },
   "outputs": [],
   "source": [
    "back_shape = 0\n",
    "for user_index in range(1,5):\n",
    "    for run_index in range(1,6):\n",
    "        index = (user_index * 10) + run_index\n",
    "\n",
    "        if user_index == 1:\n",
    "            User1_Back_frame_total = User1_Back_frame_total.append(BACK_frame[index], ignore_index=True)\n",
    "            User1_RUA_frame_total = User1_RUA_frame_total.append(RUA_frame[index], ignore_index=True)\n",
    "            User1_RLA_frame_total = User1_RLA_frame_total.append(RLA_frame[index], ignore_index=True)\n",
    "            User1_LUA_frame_total = User1_LUA_frame_total.append(LUA_frame[index], ignore_index=True)\n",
    "            User1_LLA_frame_total = User1_LLA_frame_total.append(LLA_frame[index], ignore_index=True)\n",
    "        elif user_index == 2:\n",
    "            User2_Back_frame_total = User2_Back_frame_total.append(BACK_frame[index], ignore_index=True)\n",
    "            User2_RUA_frame_total = User2_RUA_frame_total.append(RUA_frame[index], ignore_index=True)\n",
    "            User2_RLA_frame_total = User2_RLA_frame_total.append(RLA_frame[index], ignore_index=True)\n",
    "            User2_LUA_frame_total = User2_LUA_frame_total.append(LUA_frame[index], ignore_index=True)\n",
    "            User2_LLA_frame_total = User2_LLA_frame_total.append(LLA_frame[index], ignore_index=True)\n",
    "        elif user_index == 3:\n",
    "            User3_Back_frame_total = User3_Back_frame_total.append(BACK_frame[index], ignore_index=True)\n",
    "            User3_RUA_frame_total = User3_RUA_frame_total.append(RUA_frame[index], ignore_index=True)\n",
    "            User3_RLA_frame_total = User3_RLA_frame_total.append(RLA_frame[index], ignore_index=True)\n",
    "            User3_LUA_frame_total = User3_LUA_frame_total.append(LUA_frame[index], ignore_index=True)\n",
    "            User3_LLA_frame_total = User3_LLA_frame_total.append(LLA_frame[index], ignore_index=True)\n",
    "        elif user_index == 4:\n",
    "            User4_Back_frame_total = User4_Back_frame_total.append(BACK_frame[index], ignore_index=True)\n",
    "            User4_RUA_frame_total = User4_RUA_frame_total.append(RUA_frame[index], ignore_index=True)\n",
    "            User4_RLA_frame_total = User4_RLA_frame_total.append(RLA_frame[index], ignore_index=True)\n",
    "            User4_LUA_frame_total = User4_LUA_frame_total.append(LUA_frame[index], ignore_index=True)\n",
    "            User4_LLA_frame_total = User4_LLA_frame_total.append(LLA_frame[index], ignore_index=True)"
   ]
  },
  {
   "cell_type": "code",
   "execution_count": 26,
   "metadata": {
    "ExecuteTime": {
     "end_time": "2020-12-28T16:15:56.519215Z",
     "start_time": "2020-12-28T16:15:56.409021Z"
    }
   },
   "outputs": [
    {
     "data": {
      "text/plain": [
       "array([1, 2, 4, 5], dtype=object)"
      ]
     },
     "execution_count": 26,
     "metadata": {},
     "output_type": "execute_result"
    }
   ],
   "source": [
    "np.unique(User1_Back_frame_total['gt'])"
   ]
  },
  {
   "cell_type": "markdown",
   "metadata": {},
   "source": [
    "#### User 1 - Label Mapping"
   ]
  },
  {
   "cell_type": "code",
   "execution_count": 27,
   "metadata": {
    "ExecuteTime": {
     "end_time": "2020-12-28T16:15:59.025339Z",
     "start_time": "2020-12-28T16:15:58.866861Z"
    }
   },
   "outputs": [],
   "source": [
    "User1_Back_frame_total.replace({'gt' : { 1:100, 2:200, 4:400, 5:500}}, inplace = True)\n",
    "User1_Back_frame_total.replace({'gt' : { 100:1, 200:3, 400:0, 500:2}}, inplace = True)\n",
    "\n",
    "User1_RUA_frame_total.replace({'gt' : { 1:100, 2:200, 4:400, 5:500}}, inplace = True)\n",
    "User1_RUA_frame_total.replace({'gt' : { 100:1, 200:3, 400:0, 500:2}}, inplace = True)\n",
    "\n",
    "User1_RLA_frame_total.replace({'gt' : { 1:100, 2:200, 4:400, 5:500}}, inplace = True)\n",
    "User1_RLA_frame_total.replace({'gt' : { 100:1, 200:3, 400:0, 500:2}}, inplace = True)\n",
    "\n",
    "User1_LUA_frame_total.replace({'gt' : { 1:100, 2:200, 4:400, 5:500}}, inplace = True)\n",
    "User1_LUA_frame_total.replace({'gt' : { 100:1, 200:3, 400:0, 500:2}}, inplace = True)\n",
    "\n",
    "User1_LLA_frame_total.replace({'gt' : { 1:100, 2:200, 4:400, 5:500}}, inplace = True)\n",
    "User1_LLA_frame_total.replace({'gt' : { 100:1, 200:3, 400:0, 500:2}}, inplace = True)"
   ]
  },
  {
   "cell_type": "code",
   "execution_count": 28,
   "metadata": {
    "ExecuteTime": {
     "end_time": "2020-12-28T16:15:59.498137Z",
     "start_time": "2020-12-28T16:15:59.486730Z"
    },
    "scrolled": true
   },
   "outputs": [
    {
     "data": {
      "text/plain": [
       "array([0, 1, 2, 3])"
      ]
     },
     "execution_count": 28,
     "metadata": {},
     "output_type": "execute_result"
    }
   ],
   "source": [
    "np.unique(User1_LLA_frame_total['gt'])"
   ]
  },
  {
   "cell_type": "markdown",
   "metadata": {},
   "source": [
    "#### User 2 - Label Mapping"
   ]
  },
  {
   "cell_type": "code",
   "execution_count": 29,
   "metadata": {
    "ExecuteTime": {
     "end_time": "2020-12-28T16:16:00.985246Z",
     "start_time": "2020-12-28T16:16:00.831656Z"
    }
   },
   "outputs": [],
   "source": [
    "User2_Back_frame_total.replace({'gt' : { 1:100, 2:200, 4:400, 5:500}}, inplace = True)\n",
    "User2_Back_frame_total.replace({'gt' : { 100:1, 200:3, 400:0, 500:2}}, inplace = True)\n",
    "\n",
    "User2_RUA_frame_total.replace({'gt' : { 1:100, 2:200, 4:400, 5:500}}, inplace = True)\n",
    "User2_RUA_frame_total.replace({'gt' : { 100:1, 200:3, 400:0, 500:2}}, inplace = True)\n",
    "\n",
    "User2_RLA_frame_total.replace({'gt' : { 1:100, 2:200, 4:400, 5:500}}, inplace = True)\n",
    "User2_RLA_frame_total.replace({'gt' : { 100:1, 200:3, 400:0, 500:2}}, inplace = True)\n",
    "\n",
    "User2_LUA_frame_total.replace({'gt' : { 1:100, 2:200, 4:400, 5:500}}, inplace = True)\n",
    "User2_LUA_frame_total.replace({'gt' : { 100:1, 200:3, 400:0, 500:2}}, inplace = True)\n",
    "\n",
    "User2_LLA_frame_total.replace({'gt' : { 1:100, 2:200, 4:400, 5:500}}, inplace = True)\n",
    "User2_LLA_frame_total.replace({'gt' : { 100:1, 200:3, 400:0, 500:2}}, inplace = True)"
   ]
  },
  {
   "cell_type": "markdown",
   "metadata": {},
   "source": [
    "#### User 3 - Label Mapping"
   ]
  },
  {
   "cell_type": "code",
   "execution_count": 30,
   "metadata": {
    "ExecuteTime": {
     "end_time": "2020-12-28T16:16:02.241811Z",
     "start_time": "2020-12-28T16:16:02.092951Z"
    }
   },
   "outputs": [],
   "source": [
    "User3_Back_frame_total.replace({'gt' : { 1:100, 2:200, 4:400, 5:500}}, inplace = True)\n",
    "User3_Back_frame_total.replace({'gt' : { 100:1, 200:3, 400:0, 500:2}}, inplace = True)\n",
    "\n",
    "User3_RUA_frame_total.replace({'gt' : { 1:100, 2:200, 4:400, 5:500}}, inplace = True)\n",
    "User3_RUA_frame_total.replace({'gt' : { 100:1, 200:3, 400:0, 500:2}}, inplace = True)\n",
    "\n",
    "User3_RLA_frame_total.replace({'gt' : { 1:100, 2:200, 4:400, 5:500}}, inplace = True)\n",
    "User3_RLA_frame_total.replace({'gt' : { 100:1, 200:3, 400:0, 500:2}}, inplace = True)\n",
    "\n",
    "User3_LUA_frame_total.replace({'gt' : { 1:100, 2:200, 4:400, 5:500}}, inplace = True)\n",
    "User3_LUA_frame_total.replace({'gt' : { 100:1, 200:3, 400:0, 500:2}}, inplace = True)\n",
    "\n",
    "User3_LLA_frame_total.replace({'gt' : { 1:100, 2:200, 4:400, 5:500}}, inplace = True)\n",
    "User3_LLA_frame_total.replace({'gt' : { 100:1, 200:3, 400:0, 500:2}}, inplace = True)"
   ]
  },
  {
   "cell_type": "markdown",
   "metadata": {},
   "source": [
    "#### User 4 - Label Mapping"
   ]
  },
  {
   "cell_type": "code",
   "execution_count": 31,
   "metadata": {
    "ExecuteTime": {
     "end_time": "2020-12-28T16:16:03.489747Z",
     "start_time": "2020-12-28T16:16:03.356427Z"
    }
   },
   "outputs": [],
   "source": [
    "User4_Back_frame_total.replace({'gt' : { 1:100, 2:200, 4:400, 5:500}}, inplace = True)\n",
    "User4_Back_frame_total.replace({'gt' : { 100:1, 200:3, 400:0, 500:2}}, inplace = True)\n",
    "\n",
    "User4_RUA_frame_total.replace({'gt' : { 1:100, 2:200, 4:400, 5:500}}, inplace = True)\n",
    "User4_RUA_frame_total.replace({'gt' : { 100:1, 200:3, 400:0, 500:2}}, inplace = True)\n",
    "\n",
    "User4_RLA_frame_total.replace({'gt' : { 1:100, 2:200, 4:400, 5:500}}, inplace = True)\n",
    "User4_RLA_frame_total.replace({'gt' : { 100:1, 200:3, 400:0, 500:2}}, inplace = True)\n",
    "\n",
    "User4_LUA_frame_total.replace({'gt' : { 1:100, 2:200, 4:400, 5:500}}, inplace = True)\n",
    "User4_LUA_frame_total.replace({'gt' : { 100:1, 200:3, 400:0, 500:2}}, inplace = True)\n",
    "\n",
    "User4_LLA_frame_total.replace({'gt' : { 1:100, 2:200, 4:400, 5:500}}, inplace = True)\n",
    "User4_LLA_frame_total.replace({'gt' : { 100:1, 200:3, 400:0, 500:2}}, inplace = True)"
   ]
  },
  {
   "cell_type": "markdown",
   "metadata": {},
   "source": [
    "### User Specific, Position-wise Standardization and Normalization"
   ]
  },
  {
   "cell_type": "markdown",
   "metadata": {},
   "source": [
    "#### User 1 - Back"
   ]
  },
  {
   "cell_type": "code",
   "execution_count": 32,
   "metadata": {
    "ExecuteTime": {
     "end_time": "2020-12-28T16:16:05.475522Z",
     "start_time": "2020-12-28T16:16:05.447081Z"
    }
   },
   "outputs": [],
   "source": [
    "person_gt = np.array(User1_Back_frame_total['Person'])\n",
    "gt = np.array(User1_Back_frame_total['gt'])\n",
    "position_gt = np.array(User1_Back_frame_total['Position'])\n",
    "\n",
    "User1_Back_frame_total.drop(['Person','gt','Position'], axis=1, inplace=True)\n",
    "column_name = User1_Back_frame_total.columns\n",
    "\n",
    "np_scaled = standardization_and_normalization(User1_Back_frame_total)\n",
    "User1_Back_frame_total = pd.DataFrame(np_scaled, columns=column_name)\n",
    "\n",
    "User1_Back_frame_total[\"Person\"] = person_gt\n",
    "User1_Back_frame_total[\"gt\"] = gt\n",
    "User1_Back_frame_total[\"Position\"] = position_gt\n"
   ]
  },
  {
   "cell_type": "code",
   "execution_count": 33,
   "metadata": {
    "ExecuteTime": {
     "end_time": "2020-12-28T16:16:13.448042Z",
     "start_time": "2020-12-28T16:16:13.443670Z"
    }
   },
   "outputs": [],
   "source": [
    "# np.unique(User1_Back_frame_total['gt'])"
   ]
  },
  {
   "cell_type": "code",
   "execution_count": 34,
   "metadata": {
    "ExecuteTime": {
     "end_time": "2020-12-28T16:16:13.736892Z",
     "start_time": "2020-12-28T16:16:13.732890Z"
    }
   },
   "outputs": [],
   "source": [
    "# np.unique(User1_Back_frame_total['Person'])"
   ]
  },
  {
   "cell_type": "code",
   "execution_count": 35,
   "metadata": {
    "ExecuteTime": {
     "end_time": "2020-12-28T16:16:14.031918Z",
     "start_time": "2020-12-28T16:16:14.027826Z"
    }
   },
   "outputs": [],
   "source": [
    "# np.unique(User1_Back_frame_total['Position'])"
   ]
  },
  {
   "cell_type": "markdown",
   "metadata": {},
   "source": [
    "#### User 2 - Back"
   ]
  },
  {
   "cell_type": "code",
   "execution_count": 36,
   "metadata": {
    "ExecuteTime": {
     "end_time": "2020-12-28T16:16:16.087045Z",
     "start_time": "2020-12-28T16:16:16.058706Z"
    }
   },
   "outputs": [],
   "source": [
    "person_gt = np.array(User2_Back_frame_total['Person'])\n",
    "gt = np.array(User2_Back_frame_total['gt'])\n",
    "position_gt = np.array(User2_Back_frame_total['Position'])\n",
    "\n",
    "User2_Back_frame_total.drop(['Person','gt','Position'], axis=1, inplace=True)\n",
    "column_name = User2_Back_frame_total.columns\n",
    "\n",
    "np_scaled = standardization_and_normalization(User2_Back_frame_total)\n",
    "User2_Back_frame_total = pd.DataFrame(np_scaled, columns=column_name)\n",
    "\n",
    "User2_Back_frame_total[\"Person\"] = person_gt\n",
    "User2_Back_frame_total[\"gt\"] = gt\n",
    "User2_Back_frame_total[\"Position\"] = position_gt"
   ]
  },
  {
   "cell_type": "markdown",
   "metadata": {},
   "source": [
    "#### User 3 - Back"
   ]
  },
  {
   "cell_type": "code",
   "execution_count": 37,
   "metadata": {
    "ExecuteTime": {
     "end_time": "2020-12-28T16:16:17.680345Z",
     "start_time": "2020-12-28T16:16:17.653477Z"
    }
   },
   "outputs": [],
   "source": [
    "person_gt = np.array(User3_Back_frame_total['Person'])\n",
    "gt = np.array(User3_Back_frame_total['gt'])\n",
    "position_gt = np.array(User3_Back_frame_total['Position'])\n",
    "\n",
    "User3_Back_frame_total.drop(['Person','gt','Position'], axis=1, inplace=True)\n",
    "column_name = User3_Back_frame_total.columns\n",
    "\n",
    "np_scaled = standardization_and_normalization(User3_Back_frame_total)\n",
    "User3_Back_frame_total = pd.DataFrame(np_scaled, columns=column_name)\n",
    "\n",
    "User3_Back_frame_total[\"Person\"] = person_gt\n",
    "User3_Back_frame_total[\"gt\"] = gt\n",
    "User3_Back_frame_total[\"Position\"] = position_gt"
   ]
  },
  {
   "cell_type": "markdown",
   "metadata": {},
   "source": [
    "#### User 4 - Back"
   ]
  },
  {
   "cell_type": "code",
   "execution_count": 38,
   "metadata": {
    "ExecuteTime": {
     "end_time": "2020-12-28T16:16:19.105908Z",
     "start_time": "2020-12-28T16:16:19.079420Z"
    }
   },
   "outputs": [],
   "source": [
    "person_gt = np.array(User4_Back_frame_total['Person'])\n",
    "gt = np.array(User4_Back_frame_total['gt'])\n",
    "position_gt = np.array(User4_Back_frame_total['Position'])\n",
    "\n",
    "User4_Back_frame_total.drop(['Person','gt','Position'], axis=1, inplace=True)\n",
    "column_name = User4_Back_frame_total.columns\n",
    "\n",
    "np_scaled = standardization_and_normalization(User4_Back_frame_total)\n",
    "User4_Back_frame_total = pd.DataFrame(np_scaled, columns=column_name)\n",
    "\n",
    "User4_Back_frame_total[\"Person\"] = person_gt\n",
    "User4_Back_frame_total[\"gt\"] = gt\n",
    "User4_Back_frame_total[\"Position\"] = position_gt"
   ]
  },
  {
   "cell_type": "code",
   "execution_count": 39,
   "metadata": {
    "ExecuteTime": {
     "end_time": "2020-12-28T16:16:22.752244Z",
     "start_time": "2020-12-28T16:16:22.747921Z"
    }
   },
   "outputs": [],
   "source": [
    "# User4_Back_frame_total.head()"
   ]
  },
  {
   "cell_type": "code",
   "execution_count": 40,
   "metadata": {
    "ExecuteTime": {
     "end_time": "2020-12-28T16:16:24.801563Z",
     "start_time": "2020-12-28T16:16:24.797226Z"
    }
   },
   "outputs": [],
   "source": [
    "# np.max(User4_Back_frame_total['Acc_x'])"
   ]
  },
  {
   "cell_type": "markdown",
   "metadata": {},
   "source": [
    "#### User1-RUA"
   ]
  },
  {
   "cell_type": "code",
   "execution_count": 41,
   "metadata": {
    "ExecuteTime": {
     "end_time": "2020-12-28T16:16:26.236074Z",
     "start_time": "2020-12-28T16:16:26.206584Z"
    }
   },
   "outputs": [],
   "source": [
    "person_gt = np.array(User1_RUA_frame_total['Person'])\n",
    "gt = np.array(User1_RUA_frame_total['gt'])\n",
    "position_gt = np.array(User1_RUA_frame_total['Position'])\n",
    "\n",
    "User1_RUA_frame_total.drop(['Person','gt','Position'], axis=1, inplace=True)\n",
    "column_name = User1_RUA_frame_total.columns\n",
    "\n",
    "np_scaled = standardization_and_normalization(User1_RUA_frame_total)\n",
    "User1_RUA_frame_total = pd.DataFrame(np_scaled, columns=column_name)\n",
    "\n",
    "User1_RUA_frame_total[\"Person\"] = person_gt\n",
    "User1_RUA_frame_total[\"gt\"] = gt\n",
    "User1_RUA_frame_total[\"Position\"] = position_gt"
   ]
  },
  {
   "cell_type": "markdown",
   "metadata": {},
   "source": [
    "#### User2 - RUA"
   ]
  },
  {
   "cell_type": "code",
   "execution_count": 42,
   "metadata": {
    "ExecuteTime": {
     "end_time": "2020-12-28T16:16:27.000300Z",
     "start_time": "2020-12-28T16:16:26.972051Z"
    }
   },
   "outputs": [],
   "source": [
    "person_gt = np.array(User2_RUA_frame_total['Person'])\n",
    "gt = np.array(User2_RUA_frame_total['gt'])\n",
    "position_gt = np.array(User2_RUA_frame_total['Position'])\n",
    "\n",
    "User2_RUA_frame_total.drop(['Person','gt','Position'], axis=1, inplace=True)\n",
    "column_name = User2_RUA_frame_total.columns\n",
    "\n",
    "np_scaled = standardization_and_normalization(User2_RUA_frame_total)\n",
    "User2_RUA_frame_total = pd.DataFrame(np_scaled, columns=column_name)\n",
    "\n",
    "User2_RUA_frame_total[\"Person\"] = person_gt\n",
    "User2_RUA_frame_total[\"gt\"] = gt\n",
    "User2_RUA_frame_total[\"Position\"] = position_gt"
   ]
  },
  {
   "cell_type": "markdown",
   "metadata": {},
   "source": [
    "#### User3 - RUA"
   ]
  },
  {
   "cell_type": "code",
   "execution_count": 43,
   "metadata": {
    "ExecuteTime": {
     "end_time": "2020-12-28T16:16:28.582758Z",
     "start_time": "2020-12-28T16:16:28.556421Z"
    }
   },
   "outputs": [],
   "source": [
    "person_gt = np.array(User3_RUA_frame_total['Person'])\n",
    "gt = np.array(User3_RUA_frame_total['gt'])\n",
    "position_gt = np.array(User3_RUA_frame_total['Position'])\n",
    "\n",
    "User3_RUA_frame_total.drop(['Person','gt','Position'], axis=1, inplace=True)\n",
    "column_name = User3_RUA_frame_total.columns\n",
    "\n",
    "np_scaled = standardization_and_normalization(User3_RUA_frame_total)\n",
    "User3_RUA_frame_total = pd.DataFrame(np_scaled, columns=column_name)\n",
    "\n",
    "User3_RUA_frame_total[\"Person\"] = person_gt\n",
    "User3_RUA_frame_total[\"gt\"] = gt\n",
    "User3_RUA_frame_total[\"Position\"] = position_gt"
   ]
  },
  {
   "cell_type": "markdown",
   "metadata": {},
   "source": [
    "#### USer4 - RUA"
   ]
  },
  {
   "cell_type": "code",
   "execution_count": 44,
   "metadata": {
    "ExecuteTime": {
     "end_time": "2020-12-28T16:16:29.225709Z",
     "start_time": "2020-12-28T16:16:29.199592Z"
    }
   },
   "outputs": [],
   "source": [
    "person_gt = np.array(User4_RUA_frame_total['Person'])\n",
    "gt = np.array(User4_RUA_frame_total['gt'])\n",
    "position_gt = np.array(User4_RUA_frame_total['Position'])\n",
    "\n",
    "User4_RUA_frame_total.drop(['Person','gt','Position'], axis=1, inplace=True)\n",
    "column_name = User4_RUA_frame_total.columns\n",
    "\n",
    "np_scaled = standardization_and_normalization(User4_RUA_frame_total)\n",
    "User4_RUA_frame_total = pd.DataFrame(np_scaled, columns=column_name)\n",
    "\n",
    "User4_RUA_frame_total[\"Person\"] = person_gt\n",
    "User4_RUA_frame_total[\"gt\"] = gt\n",
    "User4_RUA_frame_total[\"Position\"] = position_gt"
   ]
  },
  {
   "cell_type": "markdown",
   "metadata": {},
   "source": [
    "#### User 1 - RLA"
   ]
  },
  {
   "cell_type": "code",
   "execution_count": 45,
   "metadata": {
    "ExecuteTime": {
     "end_time": "2020-12-28T16:16:30.859593Z",
     "start_time": "2020-12-28T16:16:30.829755Z"
    }
   },
   "outputs": [],
   "source": [
    "person_gt = np.array(User1_RLA_frame_total['Person'])\n",
    "gt = np.array(User1_RLA_frame_total['gt'])\n",
    "position_gt = np.array(User1_RLA_frame_total['Position'])\n",
    "\n",
    "User1_RLA_frame_total.drop(['Person','gt','Position'], axis=1, inplace=True)\n",
    "column_name = User1_RLA_frame_total.columns\n",
    "\n",
    "np_scaled = standardization_and_normalization(User1_RLA_frame_total)\n",
    "User1_RLA_frame_total = pd.DataFrame(np_scaled, columns=column_name)\n",
    "\n",
    "User1_RLA_frame_total[\"Person\"] = person_gt\n",
    "User1_RLA_frame_total[\"gt\"] = gt\n",
    "User1_RLA_frame_total[\"Position\"] = position_gt"
   ]
  },
  {
   "cell_type": "markdown",
   "metadata": {},
   "source": [
    "#### User 2 - RLA"
   ]
  },
  {
   "cell_type": "code",
   "execution_count": 46,
   "metadata": {
    "ExecuteTime": {
     "end_time": "2020-12-28T16:16:31.451368Z",
     "start_time": "2020-12-28T16:16:31.421952Z"
    }
   },
   "outputs": [],
   "source": [
    "person_gt = np.array(User2_RLA_frame_total['Person'])\n",
    "gt = np.array(User2_RLA_frame_total['gt'])\n",
    "position_gt = np.array(User2_RLA_frame_total['Position'])\n",
    "\n",
    "User2_RLA_frame_total.drop(['Person','gt','Position'], axis=1, inplace=True)\n",
    "column_name = User2_RLA_frame_total.columns\n",
    "\n",
    "np_scaled = standardization_and_normalization(User2_RLA_frame_total)\n",
    "User2_RLA_frame_total = pd.DataFrame(np_scaled, columns=column_name)\n",
    "\n",
    "User2_RLA_frame_total[\"Person\"] = person_gt\n",
    "User2_RLA_frame_total[\"gt\"] = gt\n",
    "User2_RLA_frame_total[\"Position\"] = position_gt"
   ]
  },
  {
   "cell_type": "markdown",
   "metadata": {},
   "source": [
    "#### User 3 - RLA"
   ]
  },
  {
   "cell_type": "code",
   "execution_count": 47,
   "metadata": {
    "ExecuteTime": {
     "end_time": "2020-12-28T16:16:32.719663Z",
     "start_time": "2020-12-28T16:16:32.692739Z"
    }
   },
   "outputs": [],
   "source": [
    "person_gt = np.array(User3_RLA_frame_total['Person'])\n",
    "gt = np.array(User3_RLA_frame_total['gt'])\n",
    "position_gt = np.array(User3_RLA_frame_total['Position'])\n",
    "\n",
    "User3_RLA_frame_total.drop(['Person','gt','Position'], axis=1, inplace=True)\n",
    "column_name = User3_RLA_frame_total.columns\n",
    "\n",
    "np_scaled = standardization_and_normalization(User3_RLA_frame_total)\n",
    "User3_RLA_frame_total = pd.DataFrame(np_scaled, columns=column_name)\n",
    "\n",
    "User3_RLA_frame_total[\"Person\"] = person_gt\n",
    "User3_RLA_frame_total[\"gt\"] = gt\n",
    "User3_RLA_frame_total[\"Position\"] = position_gt"
   ]
  },
  {
   "cell_type": "markdown",
   "metadata": {},
   "source": [
    "#### User 4 - RLA"
   ]
  },
  {
   "cell_type": "code",
   "execution_count": 48,
   "metadata": {
    "ExecuteTime": {
     "end_time": "2020-12-28T16:16:33.994477Z",
     "start_time": "2020-12-28T16:16:33.967719Z"
    }
   },
   "outputs": [],
   "source": [
    "person_gt = np.array(User4_RLA_frame_total['Person'])\n",
    "gt = np.array(User4_RLA_frame_total['gt'])\n",
    "position_gt = np.array(User4_RLA_frame_total['Position'])\n",
    "\n",
    "User4_RLA_frame_total.drop(['Person','gt','Position'], axis=1, inplace=True)\n",
    "column_name = User4_RLA_frame_total.columns\n",
    "\n",
    "np_scaled = standardization_and_normalization(User4_RLA_frame_total)\n",
    "User4_RLA_frame_total = pd.DataFrame(np_scaled, columns=column_name)\n",
    "\n",
    "User4_RLA_frame_total[\"Person\"] = person_gt\n",
    "User4_RLA_frame_total[\"gt\"] = gt\n",
    "User4_RLA_frame_total[\"Position\"] = position_gt"
   ]
  },
  {
   "cell_type": "markdown",
   "metadata": {},
   "source": [
    "#### User 1 - LUA"
   ]
  },
  {
   "cell_type": "code",
   "execution_count": 49,
   "metadata": {
    "ExecuteTime": {
     "end_time": "2020-12-28T16:16:34.572089Z",
     "start_time": "2020-12-28T16:16:34.543296Z"
    }
   },
   "outputs": [],
   "source": [
    "person_gt = np.array(User1_LUA_frame_total['Person'])\n",
    "gt = np.array(User1_LUA_frame_total['gt'])\n",
    "position_gt = np.array(User1_LUA_frame_total['Position'])\n",
    "\n",
    "User1_LUA_frame_total.drop(['Person','gt','Position'], axis=1, inplace=True)\n",
    "column_name = User1_LUA_frame_total.columns\n",
    "\n",
    "np_scaled = standardization_and_normalization(User1_LUA_frame_total)\n",
    "User1_LUA_frame_total = pd.DataFrame(np_scaled, columns=column_name)\n",
    "\n",
    "User1_LUA_frame_total[\"Person\"] = person_gt\n",
    "User1_LUA_frame_total[\"gt\"] = gt\n",
    "User1_LUA_frame_total[\"Position\"] = position_gt"
   ]
  },
  {
   "cell_type": "markdown",
   "metadata": {},
   "source": [
    "#### User 2 - LUA"
   ]
  },
  {
   "cell_type": "code",
   "execution_count": 50,
   "metadata": {
    "ExecuteTime": {
     "end_time": "2020-12-28T16:16:35.844595Z",
     "start_time": "2020-12-28T16:16:35.815792Z"
    }
   },
   "outputs": [],
   "source": [
    "person_gt = np.array(User2_LUA_frame_total['Person'])\n",
    "gt = np.array(User2_LUA_frame_total['gt'])\n",
    "position_gt = np.array(User2_LUA_frame_total['Position'])\n",
    "\n",
    "User2_LUA_frame_total.drop(['Person','gt','Position'], axis=1, inplace=True)\n",
    "column_name = User2_LUA_frame_total.columns\n",
    "\n",
    "np_scaled = standardization_and_normalization(User2_LUA_frame_total)\n",
    "User2_LUA_frame_total = pd.DataFrame(np_scaled, columns=column_name)\n",
    "\n",
    "User2_LUA_frame_total[\"Person\"] = person_gt\n",
    "User2_LUA_frame_total[\"gt\"] = gt\n",
    "User2_LUA_frame_total[\"Position\"] = position_gt"
   ]
  },
  {
   "cell_type": "markdown",
   "metadata": {},
   "source": [
    "#### User 3 - LUA"
   ]
  },
  {
   "cell_type": "code",
   "execution_count": 51,
   "metadata": {
    "ExecuteTime": {
     "end_time": "2020-12-28T16:16:37.146182Z",
     "start_time": "2020-12-28T16:16:37.117875Z"
    }
   },
   "outputs": [],
   "source": [
    "person_gt = np.array(User3_LUA_frame_total['Person'])\n",
    "gt = np.array(User3_LUA_frame_total['gt'])\n",
    "position_gt = np.array(User3_LUA_frame_total['Position'])\n",
    "\n",
    "User3_LUA_frame_total.drop(['Person','gt','Position'], axis=1, inplace=True)\n",
    "column_name = User3_LUA_frame_total.columns\n",
    "\n",
    "np_scaled = standardization_and_normalization(User3_LUA_frame_total)\n",
    "User3_LUA_frame_total = pd.DataFrame(np_scaled, columns=column_name)\n",
    "\n",
    "User3_LUA_frame_total[\"Person\"] = person_gt\n",
    "User3_LUA_frame_total[\"gt\"] = gt\n",
    "User3_LUA_frame_total[\"Position\"] = position_gt"
   ]
  },
  {
   "cell_type": "markdown",
   "metadata": {},
   "source": [
    "#### User 4 - LUA"
   ]
  },
  {
   "cell_type": "code",
   "execution_count": 52,
   "metadata": {
    "ExecuteTime": {
     "end_time": "2020-12-28T16:16:37.857576Z",
     "start_time": "2020-12-28T16:16:37.831078Z"
    }
   },
   "outputs": [],
   "source": [
    "person_gt = np.array(User4_LUA_frame_total['Person'])\n",
    "gt = np.array(User4_LUA_frame_total['gt'])\n",
    "position_gt = np.array(User4_LUA_frame_total['Position'])\n",
    "\n",
    "User4_LUA_frame_total.drop(['Person','gt','Position'], axis=1, inplace=True)\n",
    "column_name = User4_LUA_frame_total.columns\n",
    "\n",
    "np_scaled = standardization_and_normalization(User4_LUA_frame_total)\n",
    "User4_LUA_frame_total = pd.DataFrame(np_scaled, columns=column_name)\n",
    "\n",
    "User4_LUA_frame_total[\"Person\"] = person_gt\n",
    "User4_LUA_frame_total[\"gt\"] = gt\n",
    "User4_LUA_frame_total[\"Position\"] = position_gt"
   ]
  },
  {
   "cell_type": "markdown",
   "metadata": {},
   "source": [
    "#### User 1 - LLA"
   ]
  },
  {
   "cell_type": "code",
   "execution_count": 53,
   "metadata": {
    "ExecuteTime": {
     "end_time": "2020-12-28T16:16:39.531984Z",
     "start_time": "2020-12-28T16:16:39.502283Z"
    }
   },
   "outputs": [],
   "source": [
    "person_gt = np.array(User1_LLA_frame_total['Person'])\n",
    "gt = np.array(User1_LLA_frame_total['gt'])\n",
    "position_gt = np.array(User1_LLA_frame_total['Position'])\n",
    "\n",
    "User1_LLA_frame_total.drop(['Person','gt','Position'], axis=1, inplace=True)\n",
    "column_name = User1_LLA_frame_total.columns\n",
    "\n",
    "np_scaled = standardization_and_normalization(User1_LLA_frame_total)\n",
    "User1_LLA_frame_total = pd.DataFrame(np_scaled, columns=column_name)\n",
    "\n",
    "User1_LLA_frame_total[\"Person\"] = person_gt\n",
    "User1_LLA_frame_total[\"gt\"] = gt\n",
    "User1_LLA_frame_total[\"Position\"] = position_gt"
   ]
  },
  {
   "cell_type": "markdown",
   "metadata": {},
   "source": [
    "#### User 2 - LLA"
   ]
  },
  {
   "cell_type": "code",
   "execution_count": 54,
   "metadata": {
    "ExecuteTime": {
     "end_time": "2020-12-28T16:16:40.224441Z",
     "start_time": "2020-12-28T16:16:40.197025Z"
    }
   },
   "outputs": [],
   "source": [
    "person_gt = np.array(User2_LLA_frame_total['Person'])\n",
    "gt = np.array(User2_LLA_frame_total['gt'])\n",
    "position_gt = np.array(User2_LLA_frame_total['Position'])\n",
    "\n",
    "User2_LLA_frame_total.drop(['Person','gt','Position'], axis=1, inplace=True)\n",
    "column_name = User2_LLA_frame_total.columns\n",
    "\n",
    "np_scaled = standardization_and_normalization(User2_LLA_frame_total)\n",
    "User2_LLA_frame_total = pd.DataFrame(np_scaled, columns=column_name)\n",
    "\n",
    "User2_LLA_frame_total[\"Person\"] = person_gt\n",
    "User2_LLA_frame_total[\"gt\"] = gt\n",
    "User2_LLA_frame_total[\"Position\"] = position_gt"
   ]
  },
  {
   "cell_type": "markdown",
   "metadata": {},
   "source": [
    "#### User 3 - LLA"
   ]
  },
  {
   "cell_type": "code",
   "execution_count": 55,
   "metadata": {
    "ExecuteTime": {
     "end_time": "2020-12-28T16:16:41.550748Z",
     "start_time": "2020-12-28T16:16:41.522745Z"
    }
   },
   "outputs": [],
   "source": [
    "person_gt = np.array(User3_LLA_frame_total['Person'])\n",
    "gt = np.array(User3_LLA_frame_total['gt'])\n",
    "position_gt = np.array(User3_LLA_frame_total['Position'])\n",
    "\n",
    "User3_LLA_frame_total.drop(['Person','gt','Position'], axis=1, inplace=True)\n",
    "column_name = User3_LLA_frame_total.columns\n",
    "\n",
    "np_scaled = standardization_and_normalization(User3_LLA_frame_total)\n",
    "User3_LLA_frame_total = pd.DataFrame(np_scaled, columns=column_name)\n",
    "\n",
    "User3_LLA_frame_total[\"Person\"] = person_gt\n",
    "User3_LLA_frame_total[\"gt\"] = gt\n",
    "User3_LLA_frame_total[\"Position\"] = position_gt"
   ]
  },
  {
   "cell_type": "markdown",
   "metadata": {},
   "source": [
    "#### User 4 - LLA"
   ]
  },
  {
   "cell_type": "code",
   "execution_count": 56,
   "metadata": {
    "ExecuteTime": {
     "end_time": "2020-12-28T16:16:42.246650Z",
     "start_time": "2020-12-28T16:16:42.220663Z"
    }
   },
   "outputs": [],
   "source": [
    "person_gt = np.array(User4_LLA_frame_total['Person'])\n",
    "gt = np.array(User4_LLA_frame_total['gt'])\n",
    "position_gt = np.array(User4_LLA_frame_total['Position'])\n",
    "\n",
    "User4_LLA_frame_total.drop(['Person','gt','Position'], axis=1, inplace=True)\n",
    "column_name = User4_LLA_frame_total.columns\n",
    "\n",
    "np_scaled = standardization_and_normalization(User4_LLA_frame_total)\n",
    "User4_LLA_frame_total = pd.DataFrame(np_scaled, columns=column_name)\n",
    "\n",
    "User4_LLA_frame_total[\"Person\"] = person_gt\n",
    "User4_LLA_frame_total[\"gt\"] = gt\n",
    "User4_LLA_frame_total[\"Position\"] = position_gt"
   ]
  },
  {
   "cell_type": "code",
   "execution_count": 57,
   "metadata": {
    "ExecuteTime": {
     "end_time": "2020-12-28T16:16:46.277723Z",
     "start_time": "2020-12-28T16:16:46.273365Z"
    }
   },
   "outputs": [],
   "source": [
    "# User1_LLA_frame_total.head()"
   ]
  },
  {
   "cell_type": "code",
   "execution_count": 58,
   "metadata": {
    "ExecuteTime": {
     "end_time": "2020-12-28T16:16:49.598346Z",
     "start_time": "2020-12-28T16:16:49.593986Z"
    }
   },
   "outputs": [],
   "source": [
    "# User1_LLA_frame_total.tail()"
   ]
  },
  {
   "cell_type": "markdown",
   "metadata": {},
   "source": [
    "## Train-Valid-Test Split"
   ]
  },
  {
   "cell_type": "markdown",
   "metadata": {},
   "source": [
    "#### User 1"
   ]
  },
  {
   "cell_type": "code",
   "execution_count": 59,
   "metadata": {
    "ExecuteTime": {
     "end_time": "2020-12-28T16:16:55.564321Z",
     "start_time": "2020-12-28T16:16:55.552939Z"
    }
   },
   "outputs": [],
   "source": [
    "activity_set = np.unique(User1_Back_frame_total['gt'])\n",
    "total_activity = len(np.unique(User1_Back_frame_total['gt']))"
   ]
  },
  {
   "cell_type": "code",
   "execution_count": 60,
   "metadata": {
    "ExecuteTime": {
     "end_time": "2020-12-28T16:16:56.172997Z",
     "start_time": "2020-12-28T16:16:56.166086Z"
    }
   },
   "outputs": [
    {
     "data": {
      "text/plain": [
       "4"
      ]
     },
     "execution_count": 60,
     "metadata": {},
     "output_type": "execute_result"
    }
   ],
   "source": [
    "total_activity"
   ]
  },
  {
   "cell_type": "code",
   "execution_count": 61,
   "metadata": {
    "ExecuteTime": {
     "end_time": "2020-12-28T16:16:57.178604Z",
     "start_time": "2020-12-28T16:16:57.171225Z"
    }
   },
   "outputs": [
    {
     "data": {
      "text/plain": [
       "array([0, 1, 2, 3])"
      ]
     },
     "execution_count": 61,
     "metadata": {},
     "output_type": "execute_result"
    }
   ],
   "source": [
    "activity_set"
   ]
  },
  {
   "cell_type": "code",
   "execution_count": 62,
   "metadata": {
    "ExecuteTime": {
     "end_time": "2020-12-28T16:17:16.270919Z",
     "start_time": "2020-12-28T16:17:15.138923Z"
    }
   },
   "outputs": [],
   "source": [
    "user1_back_train = pd.DataFrame(columns=['Acc_x', 'Acc_y', 'Acc_z', 'gt', 'Person', 'Position'])\n",
    "user1_back_valid = pd.DataFrame(columns=['Acc_x', 'Acc_y', 'Acc_z', 'gt', 'Person', 'Position'])\n",
    "user1_back_test = pd.DataFrame(columns=['Acc_x', 'Acc_y', 'Acc_z', 'gt', 'Person', 'Position'])\n",
    "for activity_index in range(0, total_activity):\n",
    "    \n",
    "    activity_frame = User1_Back_frame_total[User1_Back_frame_total['gt'] == activity_set[activity_index]]\n",
    "\n",
    "    train_upto = int(activity_frame.shape[0]*train_percentage)    \n",
    "    valid_upto = int(activity_frame.shape[0]*valid_percentage)  \n",
    "        \n",
    "    train = activity_frame[0:train_upto].copy()\n",
    "    valid = activity_frame[train_upto+1 : train_upto+valid_upto].copy()\n",
    "    test = activity_frame[train_upto+valid_upto+1 : activity_frame.shape[0]].copy()\n",
    "    \n",
    "    user1_back_train = user1_back_train.append(train, ignore_index=True, sort = False)\n",
    "    user1_back_valid = user1_back_valid.append(valid, ignore_index=True, sort = False)\n",
    "    user1_back_test = user1_back_test.append(test, ignore_index=True, sort = False)\n",
    "    \n",
    "user1_back_train.to_csv (save_path+'U1_BACK_train'+'.csv', index = None, header=True)\n",
    "user1_back_valid.to_csv (save_path+'U1_BACK_valid'+'.csv', index = None, header=True)\n",
    "user1_back_test.to_csv (save_path+'U1_BACK_test'+'.csv', index = None, header=True)\n",
    "\n",
    "\n",
    "# plot_activity(user1_back_train, \"Default\")\n",
    "# plot_activity(user1_back_valid, \"Default\")"
   ]
  },
  {
   "cell_type": "code",
   "execution_count": 63,
   "metadata": {
    "ExecuteTime": {
     "end_time": "2020-12-28T16:17:16.280327Z",
     "start_time": "2020-12-28T16:17:16.272615Z"
    }
   },
   "outputs": [],
   "source": [
    "activity_set = np.unique(User1_RUA_frame_total['gt'])\n",
    "total_activity = len(np.unique(User1_RUA_frame_total['gt']))"
   ]
  },
  {
   "cell_type": "code",
   "execution_count": 64,
   "metadata": {
    "ExecuteTime": {
     "end_time": "2020-12-28T16:17:16.289783Z",
     "start_time": "2020-12-28T16:17:16.282711Z"
    }
   },
   "outputs": [
    {
     "data": {
      "text/plain": [
       "4"
      ]
     },
     "execution_count": 64,
     "metadata": {},
     "output_type": "execute_result"
    }
   ],
   "source": [
    "total_activity"
   ]
  },
  {
   "cell_type": "code",
   "execution_count": 65,
   "metadata": {
    "ExecuteTime": {
     "end_time": "2020-12-28T16:17:18.167715Z",
     "start_time": "2020-12-28T16:17:17.049395Z"
    }
   },
   "outputs": [],
   "source": [
    "user1_RUA_train = pd.DataFrame(columns=['Acc_x', 'Acc_y', 'Acc_z', 'gt', 'Person', 'Position'])\n",
    "user1_RUA_valid = pd.DataFrame(columns=['Acc_x', 'Acc_y', 'Acc_z', 'gt', 'Person', 'Position'])\n",
    "user1_RUA_test = pd.DataFrame(columns=['Acc_x', 'Acc_y', 'Acc_z', 'gt', 'Person', 'Position'])\n",
    "for activity_index in range(0, total_activity):\n",
    "    activity_frame = User1_RUA_frame_total[User1_RUA_frame_total['gt'] == activity_set[activity_index]]\n",
    "    \n",
    "    train_upto = int(activity_frame.shape[0]*train_percentage)    \n",
    "    valid_upto = int(activity_frame.shape[0]*valid_percentage)  \n",
    "        \n",
    "    train = activity_frame[0:train_upto].copy()\n",
    "    valid = activity_frame[train_upto+1 : train_upto+valid_upto].copy()\n",
    "    test = activity_frame[train_upto+valid_upto+1 : activity_frame.shape[0]].copy()\n",
    "    \n",
    "    user1_RUA_train = user1_RUA_train.append(train, ignore_index=True, sort = False)\n",
    "    user1_RUA_valid = user1_RUA_valid.append(valid, ignore_index=True, sort = False)\n",
    "    user1_RUA_test = user1_RUA_test.append(test, ignore_index=True, sort = False)\n",
    "    \n",
    "user1_RUA_train.to_csv (save_path+'U1_RUA_train'+'.csv', index = None, header=True)\n",
    "user1_RUA_valid.to_csv (save_path+'U1_RUA_valid'+'.csv', index = None, header=True)\n",
    "user1_RUA_test.to_csv (save_path+'U1_RUA_test'+'.csv', index = None, header=True)"
   ]
  },
  {
   "cell_type": "code",
   "execution_count": 66,
   "metadata": {
    "ExecuteTime": {
     "end_time": "2020-12-28T16:17:18.174569Z",
     "start_time": "2020-12-28T16:17:18.169356Z"
    }
   },
   "outputs": [],
   "source": [
    "activity_set = np.unique(User1_RLA_frame_total['gt'])\n",
    "total_activity = len(np.unique(User1_RLA_frame_total['gt']))"
   ]
  },
  {
   "cell_type": "code",
   "execution_count": 67,
   "metadata": {
    "ExecuteTime": {
     "end_time": "2020-12-28T16:17:18.186692Z",
     "start_time": "2020-12-28T16:17:18.176214Z"
    }
   },
   "outputs": [
    {
     "data": {
      "text/plain": [
       "4"
      ]
     },
     "execution_count": 67,
     "metadata": {},
     "output_type": "execute_result"
    }
   ],
   "source": [
    "total_activity"
   ]
  },
  {
   "cell_type": "code",
   "execution_count": 68,
   "metadata": {
    "ExecuteTime": {
     "end_time": "2020-12-28T16:17:19.244059Z",
     "start_time": "2020-12-28T16:17:18.188480Z"
    }
   },
   "outputs": [],
   "source": [
    "user1_RLA_train = pd.DataFrame(columns=['Acc_x', 'Acc_y', 'Acc_z', 'gt', 'Person', 'Position'])\n",
    "user1_RLA_valid = pd.DataFrame(columns=['Acc_x', 'Acc_y', 'Acc_z', 'gt', 'Person', 'Position'])\n",
    "user1_RLA_test = pd.DataFrame(columns=['Acc_x', 'Acc_y', 'Acc_z', 'gt', 'Person', 'Position'])\n",
    "for activity_index in range(0, total_activity):\n",
    "    activity_frame = User1_RLA_frame_total[User1_RLA_frame_total['gt'] == activity_set[activity_index]]\n",
    "    \n",
    "    train_upto = int(activity_frame.shape[0]*train_percentage)    \n",
    "    valid_upto = int(activity_frame.shape[0]*valid_percentage)  \n",
    "        \n",
    "    train = activity_frame[0:train_upto].copy()\n",
    "    valid = activity_frame[train_upto+1 : train_upto+valid_upto].copy()\n",
    "    test = activity_frame[train_upto+valid_upto+1 : activity_frame.shape[0]].copy()\n",
    "    \n",
    "    user1_RLA_train = user1_RLA_train.append(train, ignore_index=True, sort = False)\n",
    "    user1_RLA_valid = user1_RLA_valid.append(valid, ignore_index=True, sort = False)\n",
    "    user1_RLA_test = user1_RLA_test.append(test, ignore_index=True, sort = False)\n",
    "    \n",
    "user1_RLA_train.to_csv (save_path+'U1_RLA_train'+'.csv', index = None, header=True)\n",
    "user1_RLA_valid.to_csv (save_path+'U1_RLA_valid'+'.csv', index = None, header=True)\n",
    "user1_RLA_test.to_csv (save_path+'U1_RLA_test'+'.csv', index = None, header=True)"
   ]
  },
  {
   "cell_type": "code",
   "execution_count": 69,
   "metadata": {
    "ExecuteTime": {
     "end_time": "2020-12-28T16:17:19.250710Z",
     "start_time": "2020-12-28T16:17:19.245568Z"
    }
   },
   "outputs": [],
   "source": [
    "activity_set = np.unique(User1_LUA_frame_total['gt'])\n",
    "total_activity = len(np.unique(User1_LUA_frame_total['gt']))"
   ]
  },
  {
   "cell_type": "code",
   "execution_count": 70,
   "metadata": {
    "ExecuteTime": {
     "end_time": "2020-12-28T16:17:19.263138Z",
     "start_time": "2020-12-28T16:17:19.252394Z"
    }
   },
   "outputs": [
    {
     "data": {
      "text/plain": [
       "4"
      ]
     },
     "execution_count": 70,
     "metadata": {},
     "output_type": "execute_result"
    }
   ],
   "source": [
    "total_activity"
   ]
  },
  {
   "cell_type": "code",
   "execution_count": 71,
   "metadata": {
    "ExecuteTime": {
     "end_time": "2020-12-28T16:17:20.402489Z",
     "start_time": "2020-12-28T16:17:19.264955Z"
    }
   },
   "outputs": [],
   "source": [
    "user1_LUA_train = pd.DataFrame(columns=['Acc_x', 'Acc_y', 'Acc_z', 'gt', 'Person', 'Position'])\n",
    "user1_LUA_valid = pd.DataFrame(columns=['Acc_x', 'Acc_y', 'Acc_z', 'gt', 'Person', 'Position'])\n",
    "user1_LUA_test = pd.DataFrame(columns=['Acc_x', 'Acc_y', 'Acc_z', 'gt', 'Person', 'Position'])\n",
    "for activity_index in range(0, total_activity):\n",
    "    activity_frame = User1_LUA_frame_total[User1_LUA_frame_total['gt'] == activity_set[activity_index]]\n",
    "    \n",
    "    train_upto = int(activity_frame.shape[0]*train_percentage)    \n",
    "    valid_upto = int(activity_frame.shape[0]*valid_percentage)  \n",
    "        \n",
    "    train = activity_frame[0:train_upto].copy()\n",
    "    valid = activity_frame[train_upto+1 : train_upto+valid_upto].copy()\n",
    "    test = activity_frame[train_upto+valid_upto+1 : activity_frame.shape[0]].copy()\n",
    "    \n",
    "    user1_LUA_train = user1_LUA_train.append(train, ignore_index=True, sort = False)\n",
    "    user1_LUA_valid = user1_LUA_valid.append(valid, ignore_index=True, sort = False)\n",
    "    user1_LUA_test = user1_LUA_test.append(test, ignore_index=True, sort = False)\n",
    "    \n",
    "user1_LUA_train.to_csv (save_path+'U1_LUA_train'+'.csv', index = None, header=True)\n",
    "user1_LUA_valid.to_csv (save_path+'U1_LUA_valid'+'.csv', index = None, header=True)\n",
    "user1_LUA_test.to_csv (save_path+'U1_LUA_test'+'.csv', index = None, header=True)"
   ]
  },
  {
   "cell_type": "code",
   "execution_count": 72,
   "metadata": {
    "ExecuteTime": {
     "end_time": "2020-12-28T16:17:20.409565Z",
     "start_time": "2020-12-28T16:17:20.404059Z"
    }
   },
   "outputs": [],
   "source": [
    "activity_set = np.unique(User1_LLA_frame_total['gt'])\n",
    "total_activity = len(np.unique(User1_LLA_frame_total['gt']))"
   ]
  },
  {
   "cell_type": "code",
   "execution_count": 73,
   "metadata": {
    "ExecuteTime": {
     "end_time": "2020-12-28T16:17:20.422537Z",
     "start_time": "2020-12-28T16:17:20.412486Z"
    }
   },
   "outputs": [
    {
     "data": {
      "text/plain": [
       "4"
      ]
     },
     "execution_count": 73,
     "metadata": {},
     "output_type": "execute_result"
    }
   ],
   "source": [
    "total_activity"
   ]
  },
  {
   "cell_type": "code",
   "execution_count": 74,
   "metadata": {
    "ExecuteTime": {
     "end_time": "2020-12-28T16:17:21.960312Z",
     "start_time": "2020-12-28T16:17:20.425303Z"
    }
   },
   "outputs": [],
   "source": [
    "user1_LLA_train = pd.DataFrame(columns=['Acc_x', 'Acc_y', 'Acc_z', 'gt', 'Person', 'Position'])\n",
    "user1_LLA_valid = pd.DataFrame(columns=['Acc_x', 'Acc_y', 'Acc_z', 'gt', 'Person', 'Position'])\n",
    "user1_LLA_test = pd.DataFrame(columns=['Acc_x', 'Acc_y', 'Acc_z', 'gt', 'Person', 'Position'])\n",
    "for activity_index in range(0, total_activity):\n",
    "    activity_frame = User1_LLA_frame_total[User1_LLA_frame_total['gt'] == activity_set[activity_index]]\n",
    "    \n",
    "    train_upto = int(activity_frame.shape[0]*train_percentage)    \n",
    "    valid_upto = int(activity_frame.shape[0]*valid_percentage)  \n",
    "        \n",
    "    train = activity_frame[0:train_upto].copy()\n",
    "    valid = activity_frame[train_upto+1 : train_upto+valid_upto].copy()\n",
    "    test = activity_frame[train_upto+valid_upto+1 : activity_frame.shape[0]].copy()\n",
    "    \n",
    "    user1_LLA_train = user1_LLA_train.append(train, ignore_index=True, sort = False)\n",
    "    user1_LLA_valid = user1_LLA_valid.append(valid, ignore_index=True, sort = False)\n",
    "    user1_LLA_test = user1_LLA_test.append(test, ignore_index=True, sort = False)\n",
    "    \n",
    "user1_LLA_train.to_csv (save_path+'U1_LLA_train'+'.csv', index = None, header=True)\n",
    "user1_LLA_valid.to_csv (save_path+'U1_LLA_valid'+'.csv', index = None, header=True)\n",
    "user1_LLA_test.to_csv (save_path+'U1_LLA_test'+'.csv', index = None, header=True)"
   ]
  },
  {
   "cell_type": "markdown",
   "metadata": {},
   "source": [
    "#### User 2"
   ]
  },
  {
   "cell_type": "code",
   "execution_count": 75,
   "metadata": {
    "ExecuteTime": {
     "end_time": "2020-12-28T16:17:21.968969Z",
     "start_time": "2020-12-28T16:17:21.962450Z"
    }
   },
   "outputs": [],
   "source": [
    "activity_set = np.unique(User2_Back_frame_total['gt'])\n",
    "total_activity = len(np.unique(User2_Back_frame_total['gt']))"
   ]
  },
  {
   "cell_type": "code",
   "execution_count": 76,
   "metadata": {
    "ExecuteTime": {
     "end_time": "2020-12-28T16:17:21.981658Z",
     "start_time": "2020-12-28T16:17:21.970500Z"
    }
   },
   "outputs": [
    {
     "data": {
      "text/plain": [
       "4"
      ]
     },
     "execution_count": 76,
     "metadata": {},
     "output_type": "execute_result"
    }
   ],
   "source": [
    "total_activity"
   ]
  },
  {
   "cell_type": "code",
   "execution_count": 77,
   "metadata": {
    "ExecuteTime": {
     "end_time": "2020-12-28T16:17:23.012000Z",
     "start_time": "2020-12-28T16:17:21.984709Z"
    }
   },
   "outputs": [],
   "source": [
    "user2_back_train = pd.DataFrame(columns=['Acc_x', 'Acc_y', 'Acc_z', 'gt', 'Person', 'Position'])\n",
    "user2_back_valid = pd.DataFrame(columns=['Acc_x', 'Acc_y', 'Acc_z', 'gt', 'Person', 'Position'])\n",
    "user2_back_test = pd.DataFrame(columns=['Acc_x', 'Acc_y', 'Acc_z', 'gt', 'Person', 'Position'])\n",
    "for activity_index in range(0, total_activity):\n",
    "    activity_frame = User2_Back_frame_total[User2_Back_frame_total['gt'] == activity_set[activity_index]]\n",
    "    \n",
    "    train_upto = int(activity_frame.shape[0]*train_percentage)    \n",
    "    valid_upto = int(activity_frame.shape[0]*valid_percentage)  \n",
    "        \n",
    "    train = activity_frame[0:train_upto].copy()\n",
    "    valid = activity_frame[train_upto+1 : train_upto+valid_upto].copy()\n",
    "    test = activity_frame[train_upto+valid_upto+1 : activity_frame.shape[0]].copy()\n",
    "    \n",
    "    user2_back_train = user2_back_train.append(train, ignore_index=True, sort = False)\n",
    "    user2_back_valid = user2_back_valid.append(valid, ignore_index=True, sort = False)\n",
    "    user2_back_test = user2_back_test.append(test, ignore_index=True, sort = False)\n",
    "    \n",
    "    \n",
    "user2_back_train.to_csv (save_path+'U2_BACK_train'+'.csv', index = None, header=True)\n",
    "user2_back_valid.to_csv (save_path+'U2_BACK_valid'+'.csv', index = None, header=True)\n",
    "user2_back_test.to_csv (save_path+'U2_BACK_test'+'.csv', index = None, header=True)"
   ]
  },
  {
   "cell_type": "code",
   "execution_count": 78,
   "metadata": {
    "ExecuteTime": {
     "end_time": "2020-12-28T16:17:23.019284Z",
     "start_time": "2020-12-28T16:17:23.014285Z"
    }
   },
   "outputs": [],
   "source": [
    "activity_set = np.unique(User2_RUA_frame_total['gt'])\n",
    "total_activity = len(np.unique(User2_RUA_frame_total['gt']))"
   ]
  },
  {
   "cell_type": "code",
   "execution_count": 79,
   "metadata": {
    "ExecuteTime": {
     "end_time": "2020-12-28T16:17:23.031654Z",
     "start_time": "2020-12-28T16:17:23.020667Z"
    }
   },
   "outputs": [
    {
     "data": {
      "text/plain": [
       "4"
      ]
     },
     "execution_count": 79,
     "metadata": {},
     "output_type": "execute_result"
    }
   ],
   "source": [
    "total_activity"
   ]
  },
  {
   "cell_type": "code",
   "execution_count": 80,
   "metadata": {
    "ExecuteTime": {
     "end_time": "2020-12-28T16:17:24.243033Z",
     "start_time": "2020-12-28T16:17:23.033543Z"
    }
   },
   "outputs": [],
   "source": [
    "user2_RUA_train = pd.DataFrame(columns=['Acc_x', 'Acc_y', 'Acc_z', 'gt', 'Person', 'Position'])\n",
    "user2_RUA_valid = pd.DataFrame(columns=['Acc_x', 'Acc_y', 'Acc_z', 'gt', 'Person', 'Position'])\n",
    "user2_RUA_test = pd.DataFrame(columns=['Acc_x', 'Acc_y', 'Acc_z', 'gt', 'Person', 'Position'])\n",
    "for activity_index in range(0, total_activity):\n",
    "    activity_frame = User2_RUA_frame_total[User2_RUA_frame_total['gt'] == activity_set[activity_index]]\n",
    "    \n",
    "    train_upto = int(activity_frame.shape[0]*train_percentage)    \n",
    "    valid_upto = int(activity_frame.shape[0]*valid_percentage)  \n",
    "        \n",
    "    train = activity_frame[0:train_upto].copy()\n",
    "    valid = activity_frame[train_upto+1 : train_upto+valid_upto].copy()\n",
    "    test = activity_frame[train_upto+valid_upto+1 : activity_frame.shape[0]].copy()\n",
    "    \n",
    "    user2_RUA_train = user2_RUA_train.append(train, ignore_index=True, sort = False)\n",
    "    user2_RUA_valid = user2_RUA_valid.append(valid, ignore_index=True, sort = False)\n",
    "    user2_RUA_test = user2_RUA_test.append(test, ignore_index=True, sort = False)\n",
    "    \n",
    "user2_RUA_train.to_csv (save_path+'U2_RUA_train'+'.csv', index = None, header=True)\n",
    "user2_RUA_valid.to_csv (save_path+'U2_RUA_valid'+'.csv', index = None, header=True)\n",
    "user2_RUA_test.to_csv (save_path+'U2_RUA_test'+'.csv', index = None, header=True)"
   ]
  },
  {
   "cell_type": "code",
   "execution_count": 81,
   "metadata": {
    "ExecuteTime": {
     "end_time": "2020-12-28T16:17:24.249661Z",
     "start_time": "2020-12-28T16:17:24.244717Z"
    }
   },
   "outputs": [],
   "source": [
    "activity_set = np.unique(User2_RLA_frame_total['gt'])\n",
    "total_activity = len(np.unique(User2_RLA_frame_total['gt']))"
   ]
  },
  {
   "cell_type": "code",
   "execution_count": 82,
   "metadata": {
    "ExecuteTime": {
     "end_time": "2020-12-28T16:17:24.261505Z",
     "start_time": "2020-12-28T16:17:24.251008Z"
    }
   },
   "outputs": [
    {
     "data": {
      "text/plain": [
       "4"
      ]
     },
     "execution_count": 82,
     "metadata": {},
     "output_type": "execute_result"
    }
   ],
   "source": [
    "total_activity"
   ]
  },
  {
   "cell_type": "code",
   "execution_count": 83,
   "metadata": {
    "ExecuteTime": {
     "end_time": "2020-12-28T16:17:25.282143Z",
     "start_time": "2020-12-28T16:17:24.262944Z"
    }
   },
   "outputs": [],
   "source": [
    "user2_RLA_train = pd.DataFrame(columns=['Acc_x', 'Acc_y', 'Acc_z', 'gt', 'Person', 'Position'])\n",
    "user2_RLA_valid = pd.DataFrame(columns=['Acc_x', 'Acc_y', 'Acc_z', 'gt', 'Person', 'Position'])\n",
    "user2_RLA_test = pd.DataFrame(columns=['Acc_x', 'Acc_y', 'Acc_z', 'gt', 'Person', 'Position'])\n",
    "for activity_index in range(0, total_activity):\n",
    "    activity_frame = User2_RLA_frame_total[User2_RLA_frame_total['gt'] == activity_set[activity_index]]\n",
    "    \n",
    "    train_upto = int(activity_frame.shape[0]*train_percentage)    \n",
    "    valid_upto = int(activity_frame.shape[0]*valid_percentage)  \n",
    "        \n",
    "    train = activity_frame[0:train_upto].copy()\n",
    "    valid = activity_frame[train_upto+1 : train_upto+valid_upto].copy()\n",
    "    test = activity_frame[train_upto+valid_upto+1 : activity_frame.shape[0]].copy()\n",
    "    \n",
    "    user2_RLA_train = user2_RLA_train.append(train, ignore_index=True, sort = False)\n",
    "    user2_RLA_valid = user2_RLA_valid.append(valid, ignore_index=True, sort = False)\n",
    "    user2_RLA_test = user2_RLA_test.append(test, ignore_index=True, sort = False)\n",
    "    \n",
    "user2_RLA_train.to_csv (save_path+'U2_RLA_train'+'.csv', index = None, header=True)\n",
    "user2_RLA_valid.to_csv (save_path+'U2_RLA_valid'+'.csv', index = None, header=True)\n",
    "user2_RLA_test.to_csv (save_path+'U2_RLA_test'+'.csv', index = None, header=True)"
   ]
  },
  {
   "cell_type": "code",
   "execution_count": 84,
   "metadata": {
    "ExecuteTime": {
     "end_time": "2020-12-28T16:17:25.288690Z",
     "start_time": "2020-12-28T16:17:25.283614Z"
    }
   },
   "outputs": [],
   "source": [
    "activity_set = np.unique(User2_LUA_frame_total['gt'])\n",
    "total_activity = len(np.unique(User2_LUA_frame_total['gt']))"
   ]
  },
  {
   "cell_type": "code",
   "execution_count": 85,
   "metadata": {
    "ExecuteTime": {
     "end_time": "2020-12-28T16:17:25.300781Z",
     "start_time": "2020-12-28T16:17:25.290007Z"
    }
   },
   "outputs": [
    {
     "data": {
      "text/plain": [
       "4"
      ]
     },
     "execution_count": 85,
     "metadata": {},
     "output_type": "execute_result"
    }
   ],
   "source": [
    "total_activity"
   ]
  },
  {
   "cell_type": "code",
   "execution_count": 86,
   "metadata": {
    "ExecuteTime": {
     "end_time": "2020-12-28T16:17:26.221663Z",
     "start_time": "2020-12-28T16:17:25.303487Z"
    }
   },
   "outputs": [],
   "source": [
    "user2_LUA_train = pd.DataFrame(columns=['Acc_x', 'Acc_y', 'Acc_z', 'gt', 'Person', 'Position'])\n",
    "user2_LUA_valid = pd.DataFrame(columns=['Acc_x', 'Acc_y', 'Acc_z', 'gt', 'Person', 'Position'])\n",
    "user2_LUA_test = pd.DataFrame(columns=['Acc_x', 'Acc_y', 'Acc_z', 'gt', 'Person', 'Position'])\n",
    "for activity_index in range(0, total_activity):\n",
    "    activity_frame = User2_LUA_frame_total[User2_LUA_frame_total['gt'] == activity_set[activity_index]]\n",
    "    \n",
    "    train_upto = int(activity_frame.shape[0]*train_percentage)    \n",
    "    valid_upto = int(activity_frame.shape[0]*valid_percentage)  \n",
    "        \n",
    "    train = activity_frame[0:train_upto].copy()\n",
    "    valid = activity_frame[train_upto+1 : train_upto+valid_upto].copy()\n",
    "    test = activity_frame[train_upto+valid_upto+1 : activity_frame.shape[0]].copy()\n",
    "    \n",
    "    user2_LUA_train = user2_LUA_train.append(train, ignore_index=True, sort = False)\n",
    "    user2_LUA_valid = user2_LUA_valid.append(valid, ignore_index=True, sort = False)\n",
    "    user2_LUA_test = user2_LUA_test.append(test, ignore_index=True, sort = False)\n",
    "    \n",
    "user2_LUA_train.to_csv (save_path+'U2_LUA_train'+'.csv', index = None, header=True)\n",
    "user2_LUA_valid.to_csv (save_path+'U2_LUA_valid'+'.csv', index = None, header=True)\n",
    "user2_LUA_test.to_csv (save_path+'U2_LUA_test'+'.csv', index = None, header=True)"
   ]
  },
  {
   "cell_type": "code",
   "execution_count": 87,
   "metadata": {
    "ExecuteTime": {
     "end_time": "2020-12-28T16:17:26.228802Z",
     "start_time": "2020-12-28T16:17:26.223423Z"
    }
   },
   "outputs": [],
   "source": [
    "activity_set = np.unique(User2_LLA_frame_total['gt'])\n",
    "total_activity = len(np.unique(User2_LLA_frame_total['gt']))"
   ]
  },
  {
   "cell_type": "code",
   "execution_count": 88,
   "metadata": {
    "ExecuteTime": {
     "end_time": "2020-12-28T16:17:26.240366Z",
     "start_time": "2020-12-28T16:17:26.230124Z"
    }
   },
   "outputs": [
    {
     "data": {
      "text/plain": [
       "4"
      ]
     },
     "execution_count": 88,
     "metadata": {},
     "output_type": "execute_result"
    }
   ],
   "source": [
    "total_activity"
   ]
  },
  {
   "cell_type": "code",
   "execution_count": 89,
   "metadata": {
    "ExecuteTime": {
     "end_time": "2020-12-28T16:17:27.234464Z",
     "start_time": "2020-12-28T16:17:26.242045Z"
    }
   },
   "outputs": [],
   "source": [
    "user2_LLA_train = pd.DataFrame(columns=['Acc_x', 'Acc_y', 'Acc_z', 'gt', 'Person', 'Position'])\n",
    "user2_LLA_valid = pd.DataFrame(columns=['Acc_x', 'Acc_y', 'Acc_z', 'gt', 'Person', 'Position'])\n",
    "user2_LLA_test = pd.DataFrame(columns=['Acc_x', 'Acc_y', 'Acc_z', 'gt', 'Person', 'Position'])\n",
    "for activity_index in range(0, total_activity):\n",
    "    activity_frame = User2_LLA_frame_total[User2_LLA_frame_total['gt'] == activity_set[activity_index]]\n",
    "    \n",
    "    train_upto = int(activity_frame.shape[0]*train_percentage)    \n",
    "    valid_upto = int(activity_frame.shape[0]*valid_percentage)  \n",
    "        \n",
    "    train = activity_frame[0:train_upto].copy()\n",
    "    valid = activity_frame[train_upto+1 : train_upto+valid_upto].copy()\n",
    "    test = activity_frame[train_upto+valid_upto+1 : activity_frame.shape[0]].copy()\n",
    "    \n",
    "    user2_LLA_train = user2_LLA_train.append(train, ignore_index=True, sort = False)\n",
    "    user2_LLA_valid = user2_LLA_valid.append(valid, ignore_index=True, sort = False)\n",
    "    user2_LLA_test = user2_LLA_test.append(test, ignore_index=True, sort = False)\n",
    "    \n",
    "user2_LLA_train.to_csv (save_path+'U2_LLA_train'+'.csv', index = None, header=True)\n",
    "user2_LLA_valid.to_csv (save_path+'U2_LLA_valid'+'.csv', index = None, header=True)\n",
    "user2_LLA_test.to_csv (save_path+'U2_LLA_test'+'.csv', index = None, header=True)"
   ]
  },
  {
   "cell_type": "markdown",
   "metadata": {},
   "source": [
    "#### User 3"
   ]
  },
  {
   "cell_type": "code",
   "execution_count": 90,
   "metadata": {
    "ExecuteTime": {
     "end_time": "2020-12-28T16:17:27.240858Z",
     "start_time": "2020-12-28T16:17:27.235935Z"
    }
   },
   "outputs": [],
   "source": [
    "activity_set = np.unique(User3_Back_frame_total['gt'])\n",
    "total_activity = len(np.unique(User3_Back_frame_total['gt']))"
   ]
  },
  {
   "cell_type": "code",
   "execution_count": 91,
   "metadata": {
    "ExecuteTime": {
     "end_time": "2020-12-28T16:17:27.253301Z",
     "start_time": "2020-12-28T16:17:27.242253Z"
    }
   },
   "outputs": [
    {
     "data": {
      "text/plain": [
       "4"
      ]
     },
     "execution_count": 91,
     "metadata": {},
     "output_type": "execute_result"
    }
   ],
   "source": [
    "total_activity"
   ]
  },
  {
   "cell_type": "code",
   "execution_count": 92,
   "metadata": {
    "ExecuteTime": {
     "end_time": "2020-12-28T16:17:28.175703Z",
     "start_time": "2020-12-28T16:17:27.255722Z"
    }
   },
   "outputs": [],
   "source": [
    "user3_back_train = pd.DataFrame(columns=['Acc_x', 'Acc_y', 'Acc_z', 'gt', 'Person', 'Position'])\n",
    "user3_back_valid = pd.DataFrame(columns=['Acc_x', 'Acc_y', 'Acc_z', 'gt', 'Person', 'Position'])\n",
    "user3_back_test = pd.DataFrame(columns=['Acc_x', 'Acc_y', 'Acc_z', 'gt', 'Person', 'Position'])\n",
    "for activity_index in range(0, total_activity):\n",
    "    activity_frame = User3_Back_frame_total[User3_Back_frame_total['gt'] == activity_set[activity_index]]\n",
    "    \n",
    "    train_upto = int(activity_frame.shape[0]*train_percentage)    \n",
    "    valid_upto = int(activity_frame.shape[0]*valid_percentage)  \n",
    "        \n",
    "    train = activity_frame[0:train_upto].copy()\n",
    "    valid = activity_frame[train_upto+1 : train_upto+valid_upto].copy()\n",
    "    test = activity_frame[train_upto+valid_upto+1 : activity_frame.shape[0]].copy()\n",
    "    \n",
    "    user3_back_train = user3_back_train.append(train, ignore_index=True, sort = False)\n",
    "    user3_back_valid = user3_back_valid.append(valid, ignore_index=True, sort = False)\n",
    "    user3_back_test = user3_back_test.append(test, ignore_index=True, sort = False)\n",
    "\n",
    "user3_back_train.to_csv (save_path+'U3_BACK_train'+'.csv', index = None, header=True)\n",
    "user3_back_valid.to_csv (save_path+'U3_BACK_valid'+'.csv', index = None, header=True)\n",
    "user3_back_test.to_csv (save_path+'U3_BACK_test'+'.csv', index = None, header=True)"
   ]
  },
  {
   "cell_type": "code",
   "execution_count": 93,
   "metadata": {
    "ExecuteTime": {
     "end_time": "2020-12-28T16:17:28.182390Z",
     "start_time": "2020-12-28T16:17:28.177466Z"
    }
   },
   "outputs": [],
   "source": [
    "activity_set = np.unique(User3_RUA_frame_total['gt'])\n",
    "total_activity = len(np.unique(User3_RUA_frame_total['gt']))"
   ]
  },
  {
   "cell_type": "code",
   "execution_count": 94,
   "metadata": {
    "ExecuteTime": {
     "end_time": "2020-12-28T16:17:28.194846Z",
     "start_time": "2020-12-28T16:17:28.183705Z"
    }
   },
   "outputs": [
    {
     "data": {
      "text/plain": [
       "4"
      ]
     },
     "execution_count": 94,
     "metadata": {},
     "output_type": "execute_result"
    }
   ],
   "source": [
    "total_activity"
   ]
  },
  {
   "cell_type": "code",
   "execution_count": 95,
   "metadata": {
    "ExecuteTime": {
     "end_time": "2020-12-28T16:17:29.495776Z",
     "start_time": "2020-12-28T16:17:28.196658Z"
    }
   },
   "outputs": [],
   "source": [
    "user3_RUA_train = pd.DataFrame(columns=['Acc_x', 'Acc_y', 'Acc_z', 'gt', 'Person', 'Position'])\n",
    "user3_RUA_valid = pd.DataFrame(columns=['Acc_x', 'Acc_y', 'Acc_z', 'gt', 'Person', 'Position'])\n",
    "user3_RUA_test = pd.DataFrame(columns=['Acc_x', 'Acc_y', 'Acc_z', 'gt', 'Person', 'Position'])\n",
    "for activity_index in range(0, total_activity):\n",
    "    activity_frame = User3_RUA_frame_total[User3_RUA_frame_total['gt'] == activity_set[activity_index]]\n",
    "    \n",
    "    train_upto = int(activity_frame.shape[0]*train_percentage)    \n",
    "    valid_upto = int(activity_frame.shape[0]*valid_percentage)  \n",
    "        \n",
    "    train = activity_frame[0:train_upto].copy()\n",
    "    valid = activity_frame[train_upto+1 : train_upto+valid_upto].copy()\n",
    "    test = activity_frame[train_upto+valid_upto+1 : activity_frame.shape[0]].copy()\n",
    "    \n",
    "    user3_RUA_train = user3_RUA_train.append(train, ignore_index=True, sort = False)\n",
    "    user3_RUA_valid = user3_RUA_valid.append(valid, ignore_index=True, sort = False)\n",
    "    user3_RUA_test = user3_RUA_test.append(test, ignore_index=True, sort = False)\n",
    "    \n",
    "user3_RUA_train.to_csv (save_path+'U3_RUA_train'+'.csv', index = None, header=True)\n",
    "user3_RUA_valid.to_csv (save_path+'U3_RUA_valid'+'.csv', index = None, header=True)\n",
    "user3_RUA_test.to_csv (save_path+'U3_RUA_test'+'.csv', index = None, header=True)"
   ]
  },
  {
   "cell_type": "code",
   "execution_count": 96,
   "metadata": {
    "ExecuteTime": {
     "end_time": "2020-12-28T16:17:29.506733Z",
     "start_time": "2020-12-28T16:17:29.497481Z"
    }
   },
   "outputs": [],
   "source": [
    "activity_set = np.unique(User3_RLA_frame_total['gt'])\n",
    "total_activity = len(np.unique(User3_RLA_frame_total['gt']))"
   ]
  },
  {
   "cell_type": "code",
   "execution_count": 97,
   "metadata": {
    "ExecuteTime": {
     "end_time": "2020-12-28T16:17:29.515282Z",
     "start_time": "2020-12-28T16:17:29.508314Z"
    }
   },
   "outputs": [
    {
     "data": {
      "text/plain": [
       "4"
      ]
     },
     "execution_count": 97,
     "metadata": {},
     "output_type": "execute_result"
    }
   ],
   "source": [
    "total_activity"
   ]
  },
  {
   "cell_type": "code",
   "execution_count": 98,
   "metadata": {
    "ExecuteTime": {
     "end_time": "2020-12-28T16:17:30.756667Z",
     "start_time": "2020-12-28T16:17:29.517766Z"
    }
   },
   "outputs": [],
   "source": [
    "user3_RLA_train = pd.DataFrame(columns=['Acc_x', 'Acc_y', 'Acc_z', 'gt', 'Person', 'Position'])\n",
    "user3_RLA_valid = pd.DataFrame(columns=['Acc_x', 'Acc_y', 'Acc_z', 'gt', 'Person', 'Position'])\n",
    "user3_RLA_test = pd.DataFrame(columns=['Acc_x', 'Acc_y', 'Acc_z', 'gt', 'Person', 'Position'])\n",
    "for activity_index in range(0, total_activity):\n",
    "    activity_frame = User3_RLA_frame_total[User3_RLA_frame_total['gt'] == activity_set[activity_index]]\n",
    "    \n",
    "    train_upto = int(activity_frame.shape[0]*train_percentage)    \n",
    "    valid_upto = int(activity_frame.shape[0]*valid_percentage)  \n",
    "        \n",
    "    train = activity_frame[0:train_upto].copy()\n",
    "    valid = activity_frame[train_upto+1 : train_upto+valid_upto].copy()\n",
    "    test = activity_frame[train_upto+valid_upto+1 : activity_frame.shape[0]].copy()\n",
    "    \n",
    "    user3_RLA_train = user3_RLA_train.append(train, ignore_index=True, sort = False)\n",
    "    user3_RLA_valid = user3_RLA_valid.append(valid, ignore_index=True, sort = False)\n",
    "    user3_RLA_test = user3_RLA_test.append(test, ignore_index=True, sort = False)\n",
    "    \n",
    "user3_RLA_train.to_csv (save_path+'U3_RLA_train'+'.csv', index = None, header=True)\n",
    "user3_RLA_valid.to_csv (save_path+'U3_RLA_valid'+'.csv', index = None, header=True)\n",
    "user3_RLA_test.to_csv (save_path+'U3_RLA_test'+'.csv', index = None, header=True)"
   ]
  },
  {
   "cell_type": "code",
   "execution_count": 99,
   "metadata": {
    "ExecuteTime": {
     "end_time": "2020-12-28T16:17:30.765469Z",
     "start_time": "2020-12-28T16:17:30.758936Z"
    }
   },
   "outputs": [],
   "source": [
    "activity_set = np.unique(User3_LUA_frame_total['gt'])\n",
    "total_activity = len(np.unique(User3_LUA_frame_total['gt']))"
   ]
  },
  {
   "cell_type": "code",
   "execution_count": 100,
   "metadata": {
    "ExecuteTime": {
     "end_time": "2020-12-28T16:17:30.776813Z",
     "start_time": "2020-12-28T16:17:30.767056Z"
    }
   },
   "outputs": [
    {
     "data": {
      "text/plain": [
       "4"
      ]
     },
     "execution_count": 100,
     "metadata": {},
     "output_type": "execute_result"
    }
   ],
   "source": [
    "total_activity"
   ]
  },
  {
   "cell_type": "code",
   "execution_count": 101,
   "metadata": {
    "ExecuteTime": {
     "end_time": "2020-12-28T16:17:31.791166Z",
     "start_time": "2020-12-28T16:17:30.778815Z"
    }
   },
   "outputs": [],
   "source": [
    "user3_LUA_train = pd.DataFrame(columns=['Acc_x', 'Acc_y', 'Acc_z', 'gt', 'Person', 'Position'])\n",
    "user3_LUA_valid = pd.DataFrame(columns=['Acc_x', 'Acc_y', 'Acc_z', 'gt', 'Person', 'Position'])\n",
    "user3_LUA_test = pd.DataFrame(columns=['Acc_x', 'Acc_y', 'Acc_z', 'gt', 'Person', 'Position'])\n",
    "for activity_index in range(0, total_activity):\n",
    "    activity_frame = User3_LUA_frame_total[User3_LUA_frame_total['gt'] == activity_set[activity_index]]\n",
    "    \n",
    "    train_upto = int(activity_frame.shape[0]*train_percentage)    \n",
    "    valid_upto = int(activity_frame.shape[0]*valid_percentage)  \n",
    "        \n",
    "    train = activity_frame[0:train_upto].copy()\n",
    "    valid = activity_frame[train_upto+1 : train_upto+valid_upto].copy()\n",
    "    test = activity_frame[train_upto+valid_upto+1 : activity_frame.shape[0]].copy()\n",
    "    \n",
    "    user3_LUA_train = user3_LUA_train.append(train, ignore_index=True, sort = False)\n",
    "    user3_LUA_valid = user3_LUA_valid.append(valid, ignore_index=True, sort = False)\n",
    "    user3_LUA_test = user3_LUA_test.append(test, ignore_index=True, sort = False)\n",
    "    \n",
    "user3_LUA_train.to_csv (save_path+'U3_LUA_train'+'.csv', index = None, header=True)\n",
    "user3_LUA_valid.to_csv (save_path+'U3_LUA_valid'+'.csv', index = None, header=True)\n",
    "user3_LUA_test.to_csv (save_path+'U3_LUA_test'+'.csv', index = None, header=True)"
   ]
  },
  {
   "cell_type": "code",
   "execution_count": 102,
   "metadata": {
    "ExecuteTime": {
     "end_time": "2020-12-28T16:17:31.799590Z",
     "start_time": "2020-12-28T16:17:31.793056Z"
    }
   },
   "outputs": [],
   "source": [
    "activity_set = np.unique(User3_LLA_frame_total['gt'])\n",
    "total_activity = len(np.unique(User3_LLA_frame_total['gt']))"
   ]
  },
  {
   "cell_type": "code",
   "execution_count": 103,
   "metadata": {
    "ExecuteTime": {
     "end_time": "2020-12-28T16:17:31.812821Z",
     "start_time": "2020-12-28T16:17:31.801040Z"
    }
   },
   "outputs": [
    {
     "data": {
      "text/plain": [
       "4"
      ]
     },
     "execution_count": 103,
     "metadata": {},
     "output_type": "execute_result"
    }
   ],
   "source": [
    "total_activity"
   ]
  },
  {
   "cell_type": "code",
   "execution_count": 104,
   "metadata": {
    "ExecuteTime": {
     "end_time": "2020-12-28T16:17:32.929615Z",
     "start_time": "2020-12-28T16:17:31.817859Z"
    }
   },
   "outputs": [],
   "source": [
    "user3_LLA_train = pd.DataFrame(columns=['Acc_x', 'Acc_y', 'Acc_z', 'gt', 'Person', 'Position'])\n",
    "user3_LLA_valid = pd.DataFrame(columns=['Acc_x', 'Acc_y', 'Acc_z', 'gt', 'Person', 'Position'])\n",
    "user3_LLA_test = pd.DataFrame(columns=['Acc_x', 'Acc_y', 'Acc_z', 'gt', 'Person', 'Position'])\n",
    "for activity_index in range(0, total_activity):\n",
    "    activity_frame = User3_LLA_frame_total[User3_LLA_frame_total['gt'] == activity_set[activity_index]]\n",
    "    \n",
    "    train_upto = int(activity_frame.shape[0]*train_percentage)    \n",
    "    valid_upto = int(activity_frame.shape[0]*valid_percentage)  \n",
    "        \n",
    "    train = activity_frame[0:train_upto].copy()\n",
    "    valid = activity_frame[train_upto+1 : train_upto+valid_upto].copy()\n",
    "    test = activity_frame[train_upto+valid_upto+1 : activity_frame.shape[0]].copy()\n",
    "    \n",
    "    user3_LLA_train = user3_LLA_train.append(train, ignore_index=True, sort = False)\n",
    "    user3_LLA_valid = user3_LLA_valid.append(valid, ignore_index=True, sort = False)\n",
    "    user3_LLA_test = user3_LLA_test.append(test, ignore_index=True, sort = False)\n",
    "    \n",
    "user3_LLA_train.to_csv (save_path+'U3_LLA_train'+'.csv', index = None, header=True)\n",
    "user3_LLA_valid.to_csv (save_path+'U3_LLA_valid'+'.csv', index = None, header=True)\n",
    "user3_LLA_test.to_csv (save_path+'U3_LLA_test'+'.csv', index = None, header=True)"
   ]
  },
  {
   "cell_type": "markdown",
   "metadata": {},
   "source": [
    "#### User 4"
   ]
  },
  {
   "cell_type": "code",
   "execution_count": 105,
   "metadata": {
    "ExecuteTime": {
     "end_time": "2020-12-28T16:17:32.936183Z",
     "start_time": "2020-12-28T16:17:32.931507Z"
    }
   },
   "outputs": [],
   "source": [
    "activity_set = np.unique(User4_Back_frame_total['gt'])\n",
    "total_activity = len(np.unique(User4_Back_frame_total['gt']))"
   ]
  },
  {
   "cell_type": "code",
   "execution_count": 106,
   "metadata": {
    "ExecuteTime": {
     "end_time": "2020-12-28T16:17:32.950624Z",
     "start_time": "2020-12-28T16:17:32.937541Z"
    }
   },
   "outputs": [
    {
     "data": {
      "text/plain": [
       "4"
      ]
     },
     "execution_count": 106,
     "metadata": {},
     "output_type": "execute_result"
    }
   ],
   "source": [
    "total_activity"
   ]
  },
  {
   "cell_type": "code",
   "execution_count": 107,
   "metadata": {
    "ExecuteTime": {
     "end_time": "2020-12-28T16:17:33.783180Z",
     "start_time": "2020-12-28T16:17:32.953707Z"
    }
   },
   "outputs": [],
   "source": [
    "user4_back_train = pd.DataFrame(columns=['Acc_x', 'Acc_y', 'Acc_z', 'gt', 'Person', 'Position'])\n",
    "user4_back_valid = pd.DataFrame(columns=['Acc_x', 'Acc_y', 'Acc_z', 'gt', 'Person', 'Position'])\n",
    "user4_back_test = pd.DataFrame(columns=['Acc_x', 'Acc_y', 'Acc_z', 'gt', 'Person', 'Position'])\n",
    "for activity_index in range(0, total_activity):\n",
    "    activity_frame = User4_Back_frame_total[User4_Back_frame_total['gt'] == activity_set[activity_index]]\n",
    "    \n",
    "    train_upto = int(activity_frame.shape[0]*train_percentage)    \n",
    "    valid_upto = int(activity_frame.shape[0]*valid_percentage)  \n",
    "        \n",
    "    train = activity_frame[0:train_upto].copy()\n",
    "    valid = activity_frame[train_upto+1 : train_upto+valid_upto].copy()\n",
    "    test = activity_frame[train_upto+valid_upto+1 : activity_frame.shape[0]].copy()\n",
    "    \n",
    "    user4_back_train = user4_back_train.append(train, ignore_index=True, sort = False)\n",
    "    user4_back_valid = user4_back_valid.append(valid, ignore_index=True, sort = False)\n",
    "    user4_back_test = user4_back_test.append(test, ignore_index=True, sort = False)\n",
    "    \n",
    "user4_back_train.to_csv (save_path+'U4_BACK_train'+'.csv', index = None, header=True)\n",
    "user4_back_valid.to_csv (save_path+'U4_BACK_valid'+'.csv', index = None, header=True)\n",
    "user4_back_test.to_csv (save_path+'U4_BACK_test'+'.csv', index = None, header=True)"
   ]
  },
  {
   "cell_type": "code",
   "execution_count": 108,
   "metadata": {
    "ExecuteTime": {
     "end_time": "2020-12-28T16:17:33.792273Z",
     "start_time": "2020-12-28T16:17:33.786309Z"
    }
   },
   "outputs": [],
   "source": [
    "activity_set = np.unique(User4_RUA_frame_total['gt'])\n",
    "total_activity = len(np.unique(User4_RUA_frame_total['gt']))"
   ]
  },
  {
   "cell_type": "code",
   "execution_count": 109,
   "metadata": {
    "ExecuteTime": {
     "end_time": "2020-12-28T16:17:33.804728Z",
     "start_time": "2020-12-28T16:17:33.794036Z"
    }
   },
   "outputs": [
    {
     "data": {
      "text/plain": [
       "4"
      ]
     },
     "execution_count": 109,
     "metadata": {},
     "output_type": "execute_result"
    }
   ],
   "source": [
    "total_activity"
   ]
  },
  {
   "cell_type": "code",
   "execution_count": 110,
   "metadata": {
    "ExecuteTime": {
     "end_time": "2020-12-28T16:17:34.635179Z",
     "start_time": "2020-12-28T16:17:33.806555Z"
    }
   },
   "outputs": [],
   "source": [
    "user4_RUA_train = pd.DataFrame(columns=['Acc_x', 'Acc_y', 'Acc_z', 'gt', 'Person', 'Position'])\n",
    "user4_RUA_valid = pd.DataFrame(columns=['Acc_x', 'Acc_y', 'Acc_z', 'gt', 'Person', 'Position'])\n",
    "user4_RUA_test = pd.DataFrame(columns=['Acc_x', 'Acc_y', 'Acc_z', 'gt', 'Person', 'Position'])\n",
    "for activity_index in range(0, total_activity):\n",
    "    activity_frame = User4_RUA_frame_total[User4_RUA_frame_total['gt'] == activity_set[activity_index]]\n",
    "    \n",
    "    train_upto = int(activity_frame.shape[0]*train_percentage)    \n",
    "    valid_upto = int(activity_frame.shape[0]*valid_percentage)  \n",
    "        \n",
    "    train = activity_frame[0:train_upto].copy()\n",
    "    valid = activity_frame[train_upto+1 : train_upto+valid_upto].copy()\n",
    "    test = activity_frame[train_upto+valid_upto+1 : activity_frame.shape[0]].copy()\n",
    "    \n",
    "    user4_RUA_train = user4_RUA_train.append(train, ignore_index=True, sort = False)\n",
    "    user4_RUA_valid = user4_RUA_valid.append(valid, ignore_index=True, sort = False)\n",
    "    user4_RUA_test = user4_RUA_test.append(test, ignore_index=True, sort = False)\n",
    "    \n",
    "user4_RUA_train.to_csv (save_path+'U4_RUA_train'+'.csv', index = None, header=True)\n",
    "user4_RUA_valid.to_csv (save_path+'U4_RUA_valid'+'.csv', index = None, header=True)\n",
    "user4_RUA_test.to_csv (save_path+'U4_RUA_test'+'.csv', index = None, header=True)"
   ]
  },
  {
   "cell_type": "code",
   "execution_count": 111,
   "metadata": {
    "ExecuteTime": {
     "end_time": "2020-12-28T16:17:34.641558Z",
     "start_time": "2020-12-28T16:17:34.636929Z"
    }
   },
   "outputs": [],
   "source": [
    "activity_set = np.unique(User4_RLA_frame_total['gt'])\n",
    "total_activity = len(np.unique(User4_RLA_frame_total['gt']))"
   ]
  },
  {
   "cell_type": "code",
   "execution_count": 112,
   "metadata": {
    "ExecuteTime": {
     "end_time": "2020-12-28T16:17:34.825374Z",
     "start_time": "2020-12-28T16:17:34.818917Z"
    }
   },
   "outputs": [
    {
     "data": {
      "text/plain": [
       "4"
      ]
     },
     "execution_count": 112,
     "metadata": {},
     "output_type": "execute_result"
    }
   ],
   "source": [
    "total_activity"
   ]
  },
  {
   "cell_type": "code",
   "execution_count": 113,
   "metadata": {
    "ExecuteTime": {
     "end_time": "2020-12-28T16:17:35.856042Z",
     "start_time": "2020-12-28T16:17:35.018338Z"
    }
   },
   "outputs": [],
   "source": [
    "user4_RLA_train = pd.DataFrame(columns=['Acc_x', 'Acc_y', 'Acc_z', 'gt', 'Person', 'Position'])\n",
    "user4_RLA_valid = pd.DataFrame(columns=['Acc_x', 'Acc_y', 'Acc_z', 'gt', 'Person', 'Position'])\n",
    "user4_RLA_test = pd.DataFrame(columns=['Acc_x', 'Acc_y', 'Acc_z', 'gt', 'Person', 'Position'])\n",
    "for activity_index in range(0, total_activity):\n",
    "    activity_frame = User4_RLA_frame_total[User4_RLA_frame_total['gt'] == activity_set[activity_index]]\n",
    "    \n",
    "    train_upto = int(activity_frame.shape[0]*train_percentage)    \n",
    "    valid_upto = int(activity_frame.shape[0]*valid_percentage)  \n",
    "        \n",
    "    train = activity_frame[0:train_upto].copy()\n",
    "    valid = activity_frame[train_upto+1 : train_upto+valid_upto].copy()\n",
    "    test = activity_frame[train_upto+valid_upto+1 : activity_frame.shape[0]].copy()\n",
    "    \n",
    "    user4_RLA_train = user4_RLA_train.append(train, ignore_index=True, sort = False)\n",
    "    user4_RLA_valid = user4_RLA_valid.append(valid, ignore_index=True, sort = False)\n",
    "    user4_RLA_test = user4_RLA_test.append(test, ignore_index=True, sort = False)\n",
    "    \n",
    "user4_RLA_train.to_csv (save_path+'U4_RLA_train'+'.csv', index = None, header=True)\n",
    "user4_RLA_valid.to_csv (save_path+'U4_RLA_valid'+'.csv', index = None, header=True)\n",
    "user4_RLA_test.to_csv (save_path+'U4_RLA_test'+'.csv', index = None, header=True)"
   ]
  },
  {
   "cell_type": "code",
   "execution_count": 114,
   "metadata": {
    "ExecuteTime": {
     "end_time": "2020-12-28T16:17:35.862103Z",
     "start_time": "2020-12-28T16:17:35.857653Z"
    }
   },
   "outputs": [],
   "source": [
    "activity_set = np.unique(User4_LUA_frame_total['gt'])\n",
    "total_activity = len(np.unique(User4_LUA_frame_total['gt']))"
   ]
  },
  {
   "cell_type": "code",
   "execution_count": 115,
   "metadata": {
    "ExecuteTime": {
     "end_time": "2020-12-28T16:17:35.876207Z",
     "start_time": "2020-12-28T16:17:35.863826Z"
    }
   },
   "outputs": [
    {
     "data": {
      "text/plain": [
       "4"
      ]
     },
     "execution_count": 115,
     "metadata": {},
     "output_type": "execute_result"
    }
   ],
   "source": [
    "total_activity"
   ]
  },
  {
   "cell_type": "code",
   "execution_count": 116,
   "metadata": {
    "ExecuteTime": {
     "end_time": "2020-12-28T16:17:36.764767Z",
     "start_time": "2020-12-28T16:17:35.879374Z"
    }
   },
   "outputs": [],
   "source": [
    "user4_LUA_train = pd.DataFrame(columns=['Acc_x', 'Acc_y', 'Acc_z', 'gt', 'Person', 'Position'])\n",
    "user4_LUA_valid = pd.DataFrame(columns=['Acc_x', 'Acc_y', 'Acc_z', 'gt', 'Person', 'Position'])\n",
    "user4_LUA_test = pd.DataFrame(columns=['Acc_x', 'Acc_y', 'Acc_z', 'gt', 'Person', 'Position'])\n",
    "for activity_index in range(0, total_activity):\n",
    "    activity_frame = User4_LUA_frame_total[User4_LUA_frame_total['gt'] == activity_set[activity_index]]\n",
    "    \n",
    "    train_upto = int(activity_frame.shape[0]*train_percentage)    \n",
    "    valid_upto = int(activity_frame.shape[0]*valid_percentage)  \n",
    "        \n",
    "    train = activity_frame[0:train_upto].copy()\n",
    "    valid = activity_frame[train_upto+1 : train_upto+valid_upto].copy()\n",
    "    test = activity_frame[train_upto+valid_upto+1 : activity_frame.shape[0]].copy()\n",
    "    \n",
    "    user4_LUA_train = user4_LUA_train.append(train, ignore_index=True, sort = False)\n",
    "    user4_LUA_valid = user4_LUA_valid.append(valid, ignore_index=True, sort = False)\n",
    "    user4_LUA_test = user4_LUA_test.append(test, ignore_index=True, sort = False)\n",
    "    \n",
    "user4_LUA_train.to_csv (save_path+'U4_LUA_train'+'.csv', index = None, header=True)\n",
    "user4_LUA_valid.to_csv (save_path+'U4_LUA_valid'+'.csv', index = None, header=True)\n",
    "user4_LUA_test.to_csv (save_path+'U4_LUA_test'+'.csv', index = None, header=True)"
   ]
  },
  {
   "cell_type": "code",
   "execution_count": 117,
   "metadata": {
    "ExecuteTime": {
     "end_time": "2020-12-28T16:17:37.078395Z",
     "start_time": "2020-12-28T16:17:37.066739Z"
    }
   },
   "outputs": [],
   "source": [
    "activity_set = np.unique(User4_LLA_frame_total['gt'])\n",
    "total_activity = len(np.unique(User4_LLA_frame_total['gt']))"
   ]
  },
  {
   "cell_type": "code",
   "execution_count": 118,
   "metadata": {
    "ExecuteTime": {
     "end_time": "2020-12-28T16:17:37.318943Z",
     "start_time": "2020-12-28T16:17:37.312551Z"
    }
   },
   "outputs": [
    {
     "data": {
      "text/plain": [
       "4"
      ]
     },
     "execution_count": 118,
     "metadata": {},
     "output_type": "execute_result"
    }
   ],
   "source": [
    "total_activity"
   ]
  },
  {
   "cell_type": "code",
   "execution_count": 119,
   "metadata": {
    "ExecuteTime": {
     "end_time": "2020-12-28T16:17:38.700788Z",
     "start_time": "2020-12-28T16:17:37.832166Z"
    }
   },
   "outputs": [],
   "source": [
    "user4_LLA_train = pd.DataFrame(columns=['Acc_x', 'Acc_y', 'Acc_z', 'gt', 'Person', 'Position'])\n",
    "user4_LLA_valid = pd.DataFrame(columns=['Acc_x', 'Acc_y', 'Acc_z', 'gt', 'Person', 'Position'])\n",
    "user4_LLA_test = pd.DataFrame(columns=['Acc_x', 'Acc_y', 'Acc_z', 'gt', 'Person', 'Position'])\n",
    "for activity_index in range(0, total_activity):\n",
    "    activity_frame = User4_LLA_frame_total[User4_LLA_frame_total['gt'] == activity_set[activity_index]]\n",
    "    \n",
    "    train_upto = int(activity_frame.shape[0]*train_percentage)    \n",
    "    valid_upto = int(activity_frame.shape[0]*valid_percentage)  \n",
    "        \n",
    "    train = activity_frame[0:train_upto].copy()\n",
    "    valid = activity_frame[train_upto+1 : train_upto+valid_upto].copy()\n",
    "    test = activity_frame[train_upto+valid_upto+1 : activity_frame.shape[0]].copy()\n",
    "    \n",
    "    user4_LLA_train = user4_LLA_train.append(train, ignore_index=True, sort = False)\n",
    "    user4_LLA_valid = user4_LLA_valid.append(valid, ignore_index=True, sort = False)\n",
    "    user4_LLA_test = user4_LLA_test.append(test, ignore_index=True, sort = False)\n",
    "\n",
    "user4_LLA_train.to_csv (save_path+'U4_LLA_train'+'.csv', index = None, header=True)\n",
    "user4_LLA_valid.to_csv (save_path+'U4_LLA_valid'+'.csv', index = None, header=True)\n",
    "user4_LLA_test.to_csv (save_path+'U4_LLA_test'+'.csv', index = None, header=True)"
   ]
  },
  {
   "cell_type": "code",
   "execution_count": 120,
   "metadata": {
    "ExecuteTime": {
     "end_time": "2020-12-28T16:17:46.521264Z",
     "start_time": "2020-12-28T16:17:46.516902Z"
    }
   },
   "outputs": [],
   "source": [
    "# np.unique(user4_LLA_train['gt'])"
   ]
  },
  {
   "cell_type": "code",
   "execution_count": 121,
   "metadata": {
    "ExecuteTime": {
     "end_time": "2020-12-28T16:17:46.814940Z",
     "start_time": "2020-12-28T16:17:46.810753Z"
    }
   },
   "outputs": [],
   "source": [
    "# np.unique(user4_LLA_valid['gt'])"
   ]
  },
  {
   "cell_type": "code",
   "execution_count": 122,
   "metadata": {
    "ExecuteTime": {
     "end_time": "2020-12-28T16:17:47.057777Z",
     "start_time": "2020-12-28T16:17:47.053722Z"
    }
   },
   "outputs": [],
   "source": [
    "# len(user4_LLA_valid)"
   ]
  },
  {
   "cell_type": "markdown",
   "metadata": {},
   "source": [
    "### Code block for merging all user train and test data for a specific position"
   ]
  },
  {
   "cell_type": "markdown",
   "metadata": {},
   "source": [
    "## Prepare Final Dataset"
   ]
  },
  {
   "cell_type": "code",
   "execution_count": 123,
   "metadata": {
    "ExecuteTime": {
     "end_time": "2020-12-28T16:17:49.972917Z",
     "start_time": "2020-12-28T16:17:49.964720Z"
    }
   },
   "outputs": [],
   "source": [
    "BACK_dataset_train = []\n",
    "RUA_dataset_train = []\n",
    "RLA_dataset_train = []\n",
    "LUA_dataset_train = []\n",
    "LLA_dataset_train = []\n",
    "BACK_gt_train = []\n",
    "RUA_gt_train = []\n",
    "RLA_gt_train = []\n",
    "LUA_gt_train = []\n",
    "LLA_gt_train = []"
   ]
  },
  {
   "cell_type": "code",
   "execution_count": 124,
   "metadata": {
    "ExecuteTime": {
     "end_time": "2020-12-28T16:17:50.318250Z",
     "start_time": "2020-12-28T16:17:50.310503Z"
    }
   },
   "outputs": [],
   "source": [
    "BACK_dataset_valid = []\n",
    "RUA_dataset_valid = []\n",
    "RLA_dataset_valid = []\n",
    "LUA_dataset_valid = []\n",
    "LLA_dataset_valid = []\n",
    "BACK_gt_valid = []\n",
    "RUA_gt_valid = []\n",
    "RLA_gt_valid = []\n",
    "LUA_gt_valid = []\n",
    "LLA_gt_valid = []"
   ]
  },
  {
   "cell_type": "code",
   "execution_count": 125,
   "metadata": {
    "ExecuteTime": {
     "end_time": "2020-12-28T16:17:52.893543Z",
     "start_time": "2020-12-28T16:17:52.885834Z"
    }
   },
   "outputs": [],
   "source": [
    "BACK_dataset_test = []\n",
    "RUA_dataset_test = []\n",
    "RLA_dataset_test = []\n",
    "LUA_dataset_test = []\n",
    "LLA_dataset_test = []\n",
    "BACK_gt_test = []\n",
    "RUA_gt_test = []\n",
    "RLA_gt_test = []\n",
    "LUA_gt_test = []\n",
    "LLA_gt_test = []"
   ]
  },
  {
   "cell_type": "markdown",
   "metadata": {},
   "source": [
    "### Code Block for taking position-wise all user train and validation data"
   ]
  },
  {
   "cell_type": "code",
   "execution_count": null,
   "metadata": {
    "ExecuteTime": {
     "end_time": "2020-07-15T19:36:10.336046Z",
     "start_time": "2020-07-15T19:36:09.677280Z"
    }
   },
   "outputs": [],
   "source": [
    "for position_index in tqdm.tqdm(range(0,5)): #Back, RUA, RLA, LUA, LLA\n",
    "    for split_index in range(0,3):\n",
    "        file_name = user[selected_user-1] + \"_\" + position[position_index]+'_'+item[split_index]\n",
    "        \n",
    "        print(file_name)\n",
    "        df = pd.read_csv(save_path+file_name+'.csv', sep=\",\")   \n",
    "        len_df = df.shape[0]\n",
    "        narray = df.to_numpy()\n",
    "\n",
    "        for i in range(0, len_df, step_size):\n",
    "            window = narray[i:i+win_size, FROM:TO]\n",
    "            \n",
    "            if window.shape[0] != win_size:\n",
    "                continue\n",
    "            else:\n",
    "                reshaped_window = window.reshape(1,win_size,1,AXIS)\n",
    "                gt = np.bincount(narray[i:i+win_size,START:END].astype(int).ravel()).argmax()\n",
    "                \n",
    "                if position_index == 0:\n",
    "                    if split_index == 0:\n",
    "                        BACK_dataset_train.append(reshaped_window)\n",
    "                        BACK_gt_train.append(gt)\n",
    "                    elif split_index == 1:\n",
    "                        BACK_dataset_valid.append(reshaped_window)\n",
    "                        BACK_gt_valid.append(gt)\n",
    "                    elif split_index == 2:\n",
    "                        BACK_dataset_test.append(reshaped_window)\n",
    "                        BACK_gt_test.append(gt)\n",
    "                elif position_index == 1:\n",
    "                    if split_index == 0:\n",
    "                        RUA_dataset_train.append(reshaped_window)\n",
    "                        RUA_gt_train.append(gt)\n",
    "                    elif split_index == 1:\n",
    "                        RUA_dataset_valid.append(reshaped_window)\n",
    "                        RUA_gt_valid.append(gt)\n",
    "                    elif split_index == 2:\n",
    "                        RUA_dataset_test.append(reshaped_window)\n",
    "                        RUA_gt_test.append(gt)\n",
    "                elif position_index == 2:\n",
    "                    if split_index == 0:\n",
    "                        RLA_dataset_train.append(reshaped_window)\n",
    "                        RLA_gt_train.append(gt)\n",
    "                    elif split_index == 1:\n",
    "                        RLA_dataset_valid.append(reshaped_window)\n",
    "                        RLA_gt_valid.append(gt)\n",
    "                    elif split_index == 2:\n",
    "                        RLA_dataset_test.append(reshaped_window)\n",
    "                        RLA_gt_test.append(gt)\n",
    "                elif position_index == 3:\n",
    "                    if split_index == 0:\n",
    "                        LUA_dataset_train.append(reshaped_window)\n",
    "                        LUA_gt_train.append(gt)\n",
    "                    elif split_index == 1:\n",
    "                        LUA_dataset_valid.append(reshaped_window)\n",
    "                        LUA_gt_valid.append(gt)\n",
    "                    elif split_index == 2:\n",
    "                        LUA_dataset_test.append(reshaped_window)\n",
    "                        LUA_gt_test.append(gt)\n",
    "                elif position_index == 4:\n",
    "                    if split_index == 0:\n",
    "                        LLA_dataset_train.append(reshaped_window)\n",
    "                        LLA_gt_train.append(gt)\n",
    "                    elif split_index == 1:\n",
    "                        LLA_dataset_valid.append(reshaped_window)\n",
    "                        LLA_gt_valid.append(gt)\n",
    "                    elif split_index == 2:\n",
    "                        LLA_dataset_test.append(reshaped_window)\n",
    "                        LLA_gt_test.append(gt)"
   ]
  },
  {
   "cell_type": "code",
   "execution_count": null,
   "metadata": {},
   "outputs": [],
   "source": []
  }
 ],
 "metadata": {
  "kernelspec": {
   "display_name": "Python 3",
   "language": "python",
   "name": "python3"
  },
  "language_info": {
   "codemirror_mode": {
    "name": "ipython",
    "version": 3
   },
   "file_extension": ".py",
   "mimetype": "text/x-python",
   "name": "python",
   "nbconvert_exporter": "python",
   "pygments_lexer": "ipython3",
   "version": "3.6.8"
  },
  "toc": {
   "base_numbering": 1,
   "nav_menu": {},
   "number_sections": true,
   "sideBar": true,
   "skip_h1_title": false,
   "title_cell": "Table of Contents",
   "title_sidebar": "Contents",
   "toc_cell": false,
   "toc_position": {},
   "toc_section_display": true,
   "toc_window_display": false
  }
 },
 "nbformat": 4,
 "nbformat_minor": 2
}
