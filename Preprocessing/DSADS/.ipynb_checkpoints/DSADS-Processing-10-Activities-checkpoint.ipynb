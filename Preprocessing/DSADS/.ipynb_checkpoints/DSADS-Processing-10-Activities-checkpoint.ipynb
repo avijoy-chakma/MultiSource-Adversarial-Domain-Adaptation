{
 "cells": [
  {
   "cell_type": "code",
   "execution_count": null,
   "metadata": {
    "ExecuteTime": {
     "end_time": "2020-06-28T18:35:41.421981Z",
     "start_time": "2020-06-28T18:35:41.418532Z"
    }
   },
   "outputs": [],
   "source": [
    "home_url = \"/notebooks\""
   ]
  },
  {
   "cell_type": "code",
   "execution_count": null,
   "metadata": {
    "ExecuteTime": {
     "end_time": "2020-06-28T18:35:42.561698Z",
     "start_time": "2020-06-28T18:35:41.423941Z"
    }
   },
   "outputs": [],
   "source": [
    "import sys\n",
    "sys.path.append(home_url+'/Downloads/ISWC/Debug-Packages/Utils/')\n",
    "sys.path.append(home_url+'/Downloads/ISWC/Debug-Packages/Model/')\n",
    "\n",
    "from Visualization import plot_activity\n",
    "from DataPreprocess import standardization_and_normalization\n",
    "\n",
    "import matplotlib as plt\n",
    "import pandas as pd\n",
    "import os\n",
    "import numpy as np\n",
    "import math\n",
    "import csv\n",
    "import pickle\n",
    "import math\n",
    "import matplotlib.pyplot as plt\n",
    "from mpl_toolkits.mplot3d import Axes3D\n",
    "from scipy import stats\n",
    "import seaborn as sns\n",
    "from pylab import rcParams\n",
    "from tqdm import tqdm\n",
    "from sklearn import preprocessing\n",
    "from torch.utils.data import Dataset, DataLoader\n",
    "from torchvision import transforms\n",
    "import torch\n",
    "import torch.nn as nn\n",
    "import torch.optim as optim\n",
    "from sklearn.model_selection import train_test_split\n",
    "%matplotlib inline\n",
    "\n",
    "sns.set(style='whitegrid', palette='muted', font_scale=1.5)\n",
    "rcParams['figure.figsize'] = 14, 8\n",
    "torch.manual_seed(10)\n",
    "np.random.seed(10)"
   ]
  },
  {
   "cell_type": "code",
   "execution_count": null,
   "metadata": {
    "ExecuteTime": {
     "end_time": "2020-06-28T18:35:42.569957Z",
     "start_time": "2020-06-28T18:35:42.563432Z"
    }
   },
   "outputs": [],
   "source": [
    "url = home_url+ \"/Downloads/ISWC/Dataset/DSADS/data\"\n",
    "item = [\"train\",\"valid\",\"test\"]\n",
    "person_list = [\"User1\",\"User2\",\"User3\",\"User4\",\"User5\",\"User6\",\"User7\",\"User8\"]\n",
    "activity = ['a00','a01','a02','a03','a04','a05','a06','a07','a08','a09','a10','a11','a12','a13','a14','a15','a16','a17','a18','a19']\n",
    "torso_index = [0,1,2,\"Person\", \"Activity\"]\n",
    "right_arm_index = [9,10,11,\"Person\", \"Activity\"]\n",
    "left_arm_index = [18,19,20,\"Person\", \"Activity\"]\n",
    "right_leg_index = [27,28,29,\"Person\", \"Activity\"]\n",
    "left_leg_index = [36,37,38,\"Person\", \"Activity\"]\n",
    "body_part_index = [torso_index,right_arm_index,left_arm_index,right_leg_index,left_leg_index]\n",
    "position_array = [\"TORSO\",\"RA\",\"LA\",\"RL\",\"LL\"]\n",
    "column_name = ['AccX','AccY','AccZ','Person','Activity']"
   ]
  },
  {
   "cell_type": "code",
   "execution_count": null,
   "metadata": {
    "ExecuteTime": {
     "end_time": "2020-06-28T18:35:42.585673Z",
     "start_time": "2020-06-28T18:35:42.571310Z"
    },
    "run_control": {
     "marked": true
    }
   },
   "outputs": [],
   "source": [
    "win_size=128\n",
    "overlap = 0.90\n",
    "step_size=int(win_size*overlap)\n",
    "train_percentage = 0.6\n",
    "valid_percentage = 0.2\n",
    "activity_num = 10\n",
    "search_list = []\n",
    "user = {}\n",
    "source1 = 0\n",
    "source2 = 1\n",
    "target = 2\n",
    "selected_user = 3"
   ]
  },
  {
   "cell_type": "code",
   "execution_count": null,
   "metadata": {
    "ExecuteTime": {
     "end_time": "2020-06-28T18:35:43.875757Z",
     "start_time": "2020-06-28T18:35:42.587317Z"
    }
   },
   "outputs": [],
   "source": [
    "folder_name = str(activity_num)+ \" Activity\"+\"_Window \"+str(win_size)+ \"_Overlap \"+str(overlap)\n",
    "save_path = home_url+\"/Downloads/ISWC/Preprocessing/DSADS/Data Files/\"+folder_name+\"/\"\n",
    "\n",
    "if not os.path.exists(save_path):\n",
    "    os.makedirs(save_path)"
   ]
  },
  {
   "cell_type": "code",
   "execution_count": null,
   "metadata": {
    "ExecuteTime": {
     "end_time": "2020-06-28T18:35:43.886296Z",
     "start_time": "2020-06-28T18:35:43.880721Z"
    }
   },
   "outputs": [],
   "source": [
    "activity_list = [ \"standing\", \"lying-back\", \"ascending\", \"walking-parking-lot\", \"treadmill-running\", \"stepper-exercise\", \"cross-trainer-exercise\", \"rowing\", \"jumping\",  \"playing-basketball\"]"
   ]
  },
  {
   "cell_type": "code",
   "execution_count": null,
   "metadata": {
    "ExecuteTime": {
     "end_time": "2020-06-28T18:35:43.900275Z",
     "start_time": "2020-06-28T18:35:43.890672Z"
    }
   },
   "outputs": [],
   "source": [
    "def filter_activity():\n",
    "    global activity_dict\n",
    "    activity_to_level = {\"sitting\":1, \"standing\":2, \"lying-back\":3, \"lying-right\":4, \"ascending\":5, \"descending\":6, \\\n",
    "                 \"standing-in-elevator\":7, \"moving-in-elevator\":8, \"walking-parking-lot\":9, \\\n",
    "                \"treadmill-walking-slow\":10, \"trademill-inclined-walking\":11, \"treadmill-running\":12, \"stepper-exercise\":13, \\\n",
    "                \"cross-trainer-exercise\":14, \"exercise-bike-cycling-horizontal\":15, \"exercise-bike-cycling-vertical\":16, \\\n",
    "                \"rowing\":17, \"jumping\":18, \"playing-basketball\":19}\n",
    "    \n",
    "    for idx in range(0,len(activity_list)):\n",
    "        search_list.append(activity_to_level[activity_list[idx]])"
   ]
  },
  {
   "cell_type": "code",
   "execution_count": null,
   "metadata": {
    "ExecuteTime": {
     "end_time": "2020-06-28T18:35:43.912986Z",
     "start_time": "2020-06-28T18:35:43.902109Z"
    }
   },
   "outputs": [],
   "source": [
    "filter_activity()"
   ]
  },
  {
   "cell_type": "code",
   "execution_count": null,
   "metadata": {
    "ExecuteTime": {
     "end_time": "2020-06-28T18:35:43.928388Z",
     "start_time": "2020-06-28T18:35:43.914886Z"
    },
    "scrolled": true
   },
   "outputs": [],
   "source": [
    "search_list"
   ]
  },
  {
   "cell_type": "code",
   "execution_count": null,
   "metadata": {
    "ExecuteTime": {
     "end_time": "2020-06-28T18:35:43.940986Z",
     "start_time": "2020-06-28T18:35:43.930683Z"
    }
   },
   "outputs": [],
   "source": [
    "level_to_activity = {1:\"sitting\", 2:\"standing\", 3:\"lying-back\", 4:\"lying-right\", 5:\"ascending\", 6:\"descending\", \\\n",
    "                 7:\"standing-in-elevator\", 8:\"moving-in-elevator\", 9:\"walking-parking-lot\", \\\n",
    "                10:\"treadmill-walking-slow\", 11:\"trademill-inclined-walking\", 12:\"treadmill-running\", 13:\"stepper-exercise\", \\\n",
    "                14:\"cross-trainer-exercise\", 15:\"exercise-bike-cycling-horizontal\", 16:\"exercise-bike-cycling-vertical\", \\\n",
    "                17:\"rowing\", 18:\"jumping\", 19:\"playing-basketball\"}"
   ]
  },
  {
   "cell_type": "markdown",
   "metadata": {},
   "source": [
    "# File Information\n",
    "    - Torso: 1-9\n",
    "    - RA: 10-18\n",
    "    - LA: 19-27\n",
    "    - RL: 28-36\n",
    "    - LL: 37-45\n",
    "    \n",
    "    ### Label Information\n",
    "    - a1 = Sitting = 0\n",
    "    - a2 = Standing = 1\n",
    "    - a3 and a4 = Lying back and right = 2\n",
    "    - a9 = walking = 3\n",
    "    - a10 = walking trademill flat 10km/h = 3\n",
    "    - a11 = walking trademill 15 deg inclined = 3\n",
    "    - a12 = running on trademill 8km/h = 4\n",
    "    - a5 = ascending stairs = 5\n",
    "    - a6 = descending stairs = 6\n",
    "    \n",
    "    #### Global mapping\n",
    "    - Sitting = 0\n",
    "    - Standing = 1\n",
    "    - Lying = 2\n",
    "    - Walking = 3\n",
    "    - Running = 4\n",
    "    - Ascending stairs = 5\n",
    "    - Descending stairs = 6"
   ]
  },
  {
   "cell_type": "markdown",
   "metadata": {},
   "source": [
    "# Merge Files - Merge all the 60 files for a person for each activity\n",
    "    - For all 8 user\n",
    "    - Total time = 5 mins [For each minute 12 segment, For 5 mins 60 segment]"
   ]
  },
  {
   "cell_type": "code",
   "execution_count": null,
   "metadata": {
    "ExecuteTime": {
     "end_time": "2020-06-28T18:35:44.014527Z",
     "start_time": "2020-06-28T18:35:43.943146Z"
    },
    "scrolled": false
   },
   "outputs": [],
   "source": [
    "def merge_datafiles():\n",
    "    for person_id in range(1,9):\n",
    "        for activity_id in range(len(search_list)):    \n",
    "            for x in range(1,61):\n",
    "                if x == 1:\n",
    "                    # To create an initial dataframe for the very first activity\n",
    "                    if activity_id == 0:\n",
    "                        s = 's0'+str(x)\n",
    "                        dataframe = pd.read_csv(url+'/'+activity[search_list[activity_id]]+'/p'+str(person_id)+'/'+s+'.txt', sep=\",\", header=None)\n",
    "                    else:\n",
    "                        s = 's0'+str(x)\n",
    "                        patial_dataframe = pd.read_csv(url+'/'+activity[search_list[activity_id]]+'/p'+str(person_id)+'/'+s+'.txt', sep=\",\", header=None)\n",
    "                        dataframe =dataframe.append(patial_dataframe, ignore_index=True, sort=False)\n",
    "                elif x < 10:\n",
    "                    s = 's0'+str(x)\n",
    "                    patial_dataframe = pd.read_csv(url+'/'+activity[search_list[activity_id]]+'/p'+str(person_id)+'/'+s+'.txt', sep=\",\", header=None)\n",
    "                    dataframe =dataframe.append(patial_dataframe, ignore_index=True, sort=False)\n",
    "                else:\n",
    "                    s = 's'+str(x)\n",
    "                    patial_dataframe = pd.read_csv(url+'/'+activity[search_list[activity_id]]+'/p'+str(person_id)+'/'+s+'.txt', sep=\",\", header=None)\n",
    "                    dataframe =dataframe.append(patial_dataframe, ignore_index=True, sort=False)\n",
    "\n",
    "            dataframe.loc[:, 'Person'] = person_id\n",
    "            dataframe.loc[activity_id*7500:activity_id*7500+7499, 'Activity'] = search_list[activity_id]\n",
    "            dataframe.reset_index(drop=True, inplace=True)\n",
    "        user[person_id] = dataframe "
   ]
  },
  {
   "cell_type": "markdown",
   "metadata": {},
   "source": [
    "##### Combine 60 files for each activity under each user"
   ]
  },
  {
   "cell_type": "code",
   "execution_count": null,
   "metadata": {
    "ExecuteTime": {
     "end_time": "2020-06-28T18:37:09.088952Z",
     "start_time": "2020-06-28T18:35:44.017949Z"
    }
   },
   "outputs": [],
   "source": [
    "merge_datafiles()"
   ]
  },
  {
   "cell_type": "code",
   "execution_count": null,
   "metadata": {
    "ExecuteTime": {
     "end_time": "2020-06-28T18:37:09.115947Z",
     "start_time": "2020-06-28T18:37:09.090683Z"
    }
   },
   "outputs": [],
   "source": [
    "user[2].head()"
   ]
  },
  {
   "cell_type": "code",
   "execution_count": null,
   "metadata": {
    "ExecuteTime": {
     "end_time": "2020-06-28T18:37:09.131246Z",
     "start_time": "2020-06-28T18:37:09.117417Z"
    }
   },
   "outputs": [],
   "source": [
    "user[2].shape"
   ]
  },
  {
   "cell_type": "code",
   "execution_count": null,
   "metadata": {
    "ExecuteTime": {
     "end_time": "2020-06-28T18:37:09.143478Z",
     "start_time": "2020-06-28T18:37:09.133371Z"
    },
    "scrolled": true
   },
   "outputs": [],
   "source": [
    "142500/19"
   ]
  },
  {
   "cell_type": "code",
   "execution_count": null,
   "metadata": {
    "ExecuteTime": {
     "end_time": "2020-06-28T18:37:09.164381Z",
     "start_time": "2020-06-28T18:37:09.145308Z"
    }
   },
   "outputs": [],
   "source": [
    "user[2]['Activity'].unique()"
   ]
  },
  {
   "cell_type": "markdown",
   "metadata": {},
   "source": [
    "# Extract Each Users Position-wise Data For All Activity, Standardize"
   ]
  },
  {
   "cell_type": "code",
   "execution_count": null,
   "metadata": {
    "ExecuteTime": {
     "end_time": "2020-06-28T18:37:09.176825Z",
     "start_time": "2020-06-28T18:37:09.169770Z"
    }
   },
   "outputs": [],
   "source": [
    "normalized_datafiles = {}"
   ]
  },
  {
   "cell_type": "code",
   "execution_count": null,
   "metadata": {
    "ExecuteTime": {
     "end_time": "2020-06-28T18:37:09.193351Z",
     "start_time": "2020-06-28T18:37:09.178942Z"
    }
   },
   "outputs": [],
   "source": [
    "def standardization_datafiles():\n",
    "    global column_name\n",
    "    for person_id in range(1,9):\n",
    "        \n",
    "        # Replace the activity with highest number with 0. \n",
    "        # It helps to re-order the activity id starting from 0\n",
    "        # The activity ids are multiplied by 100 so that it does not conflict during replacement\n",
    "        user[person_id].loc[:].replace({'Activity' : {19:0}}, inplace = True)\n",
    "        user[person_id].loc[:]['Activity'] *= 100\n",
    "        convert_activity_list = user[person_id]['Activity'].unique()\n",
    "        \n",
    "        for replaced_activity in range(len(convert_activity_list)-1, -1, -1):\n",
    "            user[person_id].loc[:].replace({'Activity' : {convert_activity_list[replaced_activity]:replaced_activity}}, inplace = True)\n",
    "     \n",
    "    for person_id in range(1,9):\n",
    "        for position_id in range(0,5):\n",
    "            index = person_id*10 + position_id\n",
    "#             print(str(index))\n",
    "            if position_id == 0:\n",
    "                normalized_datafiles[index] = user[person_id][torso_index].copy()\n",
    "            elif position_id == 1:\n",
    "                normalized_datafiles[index] = user[person_id][right_arm_index].copy()\n",
    "            elif position_id == 2:\n",
    "                normalized_datafiles[index] = user[person_id][left_arm_index].copy()\n",
    "            elif position_id == 3:\n",
    "                normalized_datafiles[index] = user[person_id][right_leg_index].copy()\n",
    "            elif position_id == 4:\n",
    "                normalized_datafiles[index] = user[person_id][left_leg_index].copy()\n",
    "            \n",
    "            normalized_datafiles[index].columns = column_name\n",
    "            person_gt = np.array(normalized_datafiles[index]['Person'])\n",
    "            activity_gt = np.array(normalized_datafiles[index]['Activity'])\n",
    "            \n",
    "            normalized_datafiles[index].drop(['Person','Activity'], axis=1, inplace=True)\n",
    "            save_column_name = normalized_datafiles[index].columns\n",
    "            \n",
    "            np_scaled = standardization_and_normalization(normalized_datafiles[index])\n",
    "            normalized_datafiles[index] = pd.DataFrame(np_scaled, columns=save_column_name)\n",
    "            \n",
    "            normalized_datafiles[index][\"Person\"] = person_gt\n",
    "            normalized_datafiles[index][\"Activity\"] = activity_gt"
   ]
  },
  {
   "cell_type": "code",
   "execution_count": null,
   "metadata": {
    "ExecuteTime": {
     "end_time": "2020-06-28T18:37:09.579847Z",
     "start_time": "2020-06-28T18:37:09.194826Z"
    }
   },
   "outputs": [],
   "source": [
    "standardization_datafiles()"
   ]
  },
  {
   "cell_type": "code",
   "execution_count": null,
   "metadata": {
    "ExecuteTime": {
     "end_time": "2020-06-28T18:37:09.585291Z",
     "start_time": "2020-06-28T18:37:09.582244Z"
    }
   },
   "outputs": [],
   "source": [
    "# for person_id in range(1,9):\n",
    "#         for position_id in range(0,5):\n",
    "#             index = person_id*10 + position_id\n",
    "#             normalized_datafiles[index].columns = column_name\n",
    "#             print(str(normalized_datafiles[index]['Activity'].unique()))"
   ]
  },
  {
   "cell_type": "code",
   "execution_count": null,
   "metadata": {
    "ExecuteTime": {
     "end_time": "2020-06-28T18:37:09.604910Z",
     "start_time": "2020-06-28T18:37:09.586755Z"
    }
   },
   "outputs": [],
   "source": [
    "normalized_datafiles[10].head()"
   ]
  },
  {
   "cell_type": "code",
   "execution_count": null,
   "metadata": {
    "ExecuteTime": {
     "end_time": "2020-06-28T18:37:09.623290Z",
     "start_time": "2020-06-28T18:37:09.607797Z"
    }
   },
   "outputs": [],
   "source": [
    "def data_file_generation():\n",
    "    for person_id in range(1,9):\n",
    "        for position_id in range(0,5):\n",
    "            index = person_id*10 + position_id\n",
    "            \n",
    "            train_dataframe = pd.DataFrame(columns=['AccX', 'AccY', 'AccZ', 'Person', 'Activity'])\n",
    "            valid_dataframe = pd.DataFrame(columns=['AccX', 'AccY', 'AccZ', 'Person', 'Activity'])\n",
    "            test_dataframe = pd.DataFrame(columns=['AccX', 'AccY', 'AccZ', 'Person', 'Activity'])\n",
    "            \n",
    "            total_activity = len(np.unique(normalized_datafiles[index]['Activity']))\n",
    "            print(\"User: \"+ str(person_id) +\" Label Space: \"+ str(total_activity))\n",
    "            \n",
    "            for activity_index in range(0,total_activity):\n",
    "                dataframe = normalized_datafiles[index][(normalized_datafiles[index][\"Activity\"] == activity_index)].copy()\n",
    "                \n",
    "                train_upto = int(dataframe.shape[0]*train_percentage)    \n",
    "                valid_upto = int(dataframe.shape[0]*valid_percentage) \n",
    "                \n",
    "                train = dataframe[0:train_upto].copy()\n",
    "                valid = dataframe[train_upto+1 : train_upto+valid_upto].copy()\n",
    "                test = dataframe[train_upto+valid_upto+1 : dataframe.shape[0]].copy() \n",
    "                \n",
    "                train_dataframe = train_dataframe.append(train, ignore_index=True, sort=False)\n",
    "                valid_dataframe = valid_dataframe.append(valid, ignore_index=True, sort=False)\n",
    "                test_dataframe = test_dataframe.append(test, ignore_index=True, sort=False)\n",
    "            \n",
    "            train_dataframe.to_csv (save_path+'User'+str(person_id)+'_'+position_array[position_id]+'_train'+'.csv', index = None, header=True)\n",
    "            valid_dataframe.to_csv (save_path+'User'+str(person_id)+'_'+position_array[position_id]+'_valid'+'.csv', index = None, header=True)\n",
    "            test_dataframe.to_csv (save_path+'User'+str(person_id)+'_'+position_array[position_id]+'_test'+'.csv', index = None, header=True)"
   ]
  },
  {
   "cell_type": "code",
   "execution_count": null,
   "metadata": {
    "ExecuteTime": {
     "end_time": "2020-06-28T18:37:09.638103Z",
     "start_time": "2020-06-28T18:37:09.624627Z"
    }
   },
   "outputs": [],
   "source": [
    "save_path"
   ]
  },
  {
   "cell_type": "code",
   "execution_count": null,
   "metadata": {
    "ExecuteTime": {
     "end_time": "2020-06-28T18:37:27.733576Z",
     "start_time": "2020-06-28T18:37:09.639325Z"
    }
   },
   "outputs": [],
   "source": [
    "data_file_generation()"
   ]
  },
  {
   "cell_type": "markdown",
   "metadata": {},
   "source": [
    "# Windowing"
   ]
  },
  {
   "cell_type": "code",
   "execution_count": null,
   "metadata": {
    "ExecuteTime": {
     "end_time": "2020-06-28T18:37:27.738002Z",
     "start_time": "2020-06-28T18:37:27.735122Z"
    }
   },
   "outputs": [],
   "source": [
    "s1_train = []\n",
    "s2_train = []\n",
    "t_train = []\n",
    "\n",
    "s1_gt_train = []\n",
    "s2_gt_train = []\n",
    "t_gt_train = []"
   ]
  },
  {
   "cell_type": "code",
   "execution_count": null,
   "metadata": {
    "ExecuteTime": {
     "end_time": "2020-06-28T18:37:27.754125Z",
     "start_time": "2020-06-28T18:37:27.739279Z"
    }
   },
   "outputs": [],
   "source": [
    "s1_valid = []\n",
    "s2_valid = []\n",
    "t_valid = []\n",
    "\n",
    "s1_gt_valid = []\n",
    "s2_gt_valid = []\n",
    "t_gt_valid = []"
   ]
  },
  {
   "cell_type": "code",
   "execution_count": null,
   "metadata": {
    "ExecuteTime": {
     "end_time": "2020-06-28T18:37:27.770957Z",
     "start_time": "2020-06-28T18:37:27.755952Z"
    }
   },
   "outputs": [],
   "source": [
    "s1_test = []\n",
    "s2_test = []\n",
    "t_test = []\n",
    "\n",
    "s1_gt_test = []\n",
    "s2_gt_test = []\n",
    "t_gt_test = []"
   ]
  },
  {
   "cell_type": "code",
   "execution_count": null,
   "metadata": {
    "ExecuteTime": {
     "end_time": "2020-06-28T18:37:27.784995Z",
     "start_time": "2020-06-28T18:37:27.773644Z"
    }
   },
   "outputs": [],
   "source": [
    "AXIS = 3\n",
    "FROM = 0\n",
    "TO = FROM+3\n",
    "START = TO\n",
    "END = 5"
   ]
  },
  {
   "cell_type": "code",
   "execution_count": null,
   "metadata": {
    "ExecuteTime": {
     "end_time": "2020-06-28T18:37:27.798798Z",
     "start_time": "2020-06-28T18:37:27.786700Z"
    }
   },
   "outputs": [],
   "source": [
    "def calculate_window(dataframe, data, data_gt):\n",
    "    len_df = dataframe.shape[0]\n",
    "    narray = dataframe.values\n",
    "    for i in range(0, len_df, step_size):\n",
    "        window = narray[i:i+win_size, FROM:TO]\n",
    "\n",
    "        if window.shape[0] != win_size:\n",
    "            continue\n",
    "        else:\n",
    "            reshaped_window = window.reshape(1,win_size,1,AXIS)\n",
    "            gt = np.bincount(narray[i:i+win_size,START:END].astype(int).ravel()).argmax()\n",
    "            \n",
    "            data.append(reshaped_window)\n",
    "            data_gt.append(gt)"
   ]
  },
  {
   "cell_type": "code",
   "execution_count": null,
   "metadata": {
    "ExecuteTime": {
     "end_time": "2020-06-28T18:37:27.812077Z",
     "start_time": "2020-06-28T18:37:27.800131Z"
    }
   },
   "outputs": [],
   "source": [
    "data_source = {\"source1\":source1, \"source2\": source2, \"target\":target}"
   ]
  },
  {
   "cell_type": "code",
   "execution_count": null,
   "metadata": {
    "ExecuteTime": {
     "end_time": "2020-06-28T18:37:27.942743Z",
     "start_time": "2020-06-28T18:37:27.813807Z"
    }
   },
   "outputs": [],
   "source": [
    "for key in data_source:\n",
    "        for split_index in range(0,3):\n",
    "            file_name = person_list[selected_user-1] + \"_\" + position_array[data_source[key]]+'_'+item[split_index]\n",
    "            print(file_name)\n",
    "            \n",
    "            df = pd.read_csv(save_path+file_name+'.csv', sep=\",\")   \n",
    "            \n",
    "            if key == \"source1\":\n",
    "                if split_index == 0:\n",
    "                    calculate_window(df, s1_train, s1_gt_train)\n",
    "                elif split_index == 1:\n",
    "                    calculate_window(df, s1_valid, s1_gt_valid)\n",
    "                elif split_index == 2:\n",
    "                    calculate_window(df, s1_test, s1_gt_test)\n",
    "            elif key == \"source2\":\n",
    "                if split_index == 0:\n",
    "                    calculate_window(df, s2_train, s2_gt_train)\n",
    "                elif split_index == 1:\n",
    "                    calculate_window(df, s2_valid, s2_gt_valid)\n",
    "                elif split_index == 2:\n",
    "                    calculate_window(df, s2_test, s2_gt_test)\n",
    "            elif key == \"target\":\n",
    "                if split_index == 0:\n",
    "                    calculate_window(df, t_train, t_gt_train)\n",
    "                elif split_index == 1:\n",
    "                    calculate_window(df, t_valid, t_gt_valid)\n",
    "                elif split_index == 2:\n",
    "                    calculate_window(df, t_test, t_gt_test)"
   ]
  },
  {
   "cell_type": "markdown",
   "metadata": {},
   "source": [
    "# Dataset Visualization"
   ]
  },
  {
   "cell_type": "code",
   "execution_count": null,
   "metadata": {
    "ExecuteTime": {
     "end_time": "2020-06-28T18:37:27.948661Z",
     "start_time": "2020-06-28T18:37:27.944267Z"
    }
   },
   "outputs": [],
   "source": [
    "def plot_activity(df, position='Default', save = False, save_url = \"\"):\n",
    "    data = df[['AccX', 'AccY','AccZ']][:df.shape[0]]\n",
    "\n",
    "    axis = data.plot(subplots=True, figsize=(16, 12), title=position)\n",
    "    for ax in axis:\n",
    "        ax.legend(loc='lower left', bbox_to_anchor=(1.0, 0.5))\n",
    "#         if save == True:\n",
    "#             ax.figure.savefig(save_url+'.png')"
   ]
  },
  {
   "cell_type": "code",
   "execution_count": null,
   "metadata": {
    "ExecuteTime": {
     "end_time": "2020-06-28T18:37:29.301349Z",
     "start_time": "2020-06-28T18:37:27.949941Z"
    }
   },
   "outputs": [],
   "source": [
    "plot_activity(normalized_datafiles[10])"
   ]
  },
  {
   "cell_type": "code",
   "execution_count": null,
   "metadata": {},
   "outputs": [],
   "source": []
  }
 ],
 "metadata": {
  "kernelspec": {
   "display_name": "Python 3",
   "language": "python",
   "name": "python3"
  },
  "language_info": {
   "codemirror_mode": {
    "name": "ipython",
    "version": 3
   },
   "file_extension": ".py",
   "mimetype": "text/x-python",
   "name": "python",
   "nbconvert_exporter": "python",
   "pygments_lexer": "ipython3",
   "version": "3.6.8"
  },
  "toc": {
   "base_numbering": 1,
   "nav_menu": {},
   "number_sections": true,
   "sideBar": true,
   "skip_h1_title": false,
   "title_cell": "Table of Contents",
   "title_sidebar": "Contents",
   "toc_cell": false,
   "toc_position": {},
   "toc_section_display": true,
   "toc_window_display": false
  }
 },
 "nbformat": 4,
 "nbformat_minor": 2
}
